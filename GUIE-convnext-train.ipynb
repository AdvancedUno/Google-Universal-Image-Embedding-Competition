{
 "cells": [
  {
   "cell_type": "markdown",
   "id": "d1654ed2",
   "metadata": {
    "papermill": {
     "duration": 0.002679,
     "end_time": "2022-10-01T08:40:11.778866",
     "exception": false,
     "start_time": "2022-10-01T08:40:11.776187",
     "status": "completed"
    },
    "tags": []
   },
   "source": [
    "<a id=\"\"><font color='#425066'><h2>Introduction</h2></font></a>\n",
    "\n",
    "This two part kernel showcases how to properly finetune a ConvNext Base model on [130k Images (512x512) - Universal Image Embeddings\n",
    "](https://www.kaggle.com/datasets/rhtsingh/130k-images-512x512-universal-image-embeddings) dataset and do submission. The inference kernel is available here [Google Universal Image Embedding - ConvNext Infer\n",
    "](https://www.kaggle.com/code/rhtsingh/google-universal-image-embedding-convnext-infer).\n",
    "\n",
    "Instead of putting everything in one notebook, I have created scripts which makes things more manageable and is available here [universal_image_embedding_src\n",
    "](https://www.kaggle.com/datasets/rhtsingh/universal-image-embedding-sourcecode). The scripts act as a placeholder for better understanding of how to finetune. It also contains useful techniques and code snippets that one can easy plug and play in their code. \n",
    "\n",
    "I myself had issues at various stages and these kernel is to for those who are new or are still trying to figure out. \n",
    "\n",
    "*Note: By now we have figured that the pretrained model itself performs better than the finetuned one for some very weird reasons and same goes for this kernel. I am really excited to see where this competition goes.*\n",
    "\n",
    "\n",
    "<a id=\"\"><font color='#425066'><h3>Install Timm</h3></font></a>\n",
    "\n",
    "We will be using timm for downloading pretrained models which we first need to install since its not available in Kaggle environment.\n"
   ]
  },
  {
   "cell_type": "code",
   "execution_count": 1,
   "id": "feceb538",
   "metadata": {
    "execution": {
     "iopub.execute_input": "2022-10-01T08:40:11.784964Z",
     "iopub.status.busy": "2022-10-01T08:40:11.783807Z",
     "iopub.status.idle": "2022-10-01T08:40:23.835483Z",
     "shell.execute_reply": "2022-10-01T08:40:23.834306Z"
    },
    "papermill": {
     "duration": 12.057358,
     "end_time": "2022-10-01T08:40:23.838234",
     "exception": false,
     "start_time": "2022-10-01T08:40:11.780876",
     "status": "completed"
    },
    "tags": []
   },
   "outputs": [
    {
     "name": "stdout",
     "output_type": "stream",
     "text": [
      "\u001b[33mWARNING: Running pip as the 'root' user can result in broken permissions and conflicting behaviour with the system package manager. It is recommended to use a virtual environment instead: https://pip.pypa.io/warnings/venv\u001b[0m\u001b[33m\r\n",
      "\u001b[0m"
     ]
    }
   ],
   "source": [
    "!pip -q install timm"
   ]
  },
  {
   "cell_type": "markdown",
   "id": "f9382c14",
   "metadata": {
    "papermill": {
     "duration": 0.00152,
     "end_time": "2022-10-01T08:40:23.841987",
     "exception": false,
     "start_time": "2022-10-01T08:40:23.840467",
     "status": "completed"
    },
    "tags": []
   },
   "source": [
    "<a id=\"\"><font color='#425066'><h3>Run</h3></font></a>\n",
    "\n",
    "To run we will simply call `main.py` and pass all the necessary arguments. Here I am training only for 1 epoch, do make sure to change that. \n",
    "\n",
    "My best finetuned model acheived `F1 score of 91.65` and `Accuracy score of 96.37` with `LB score of 0.354`."
   ]
  },
  {
   "cell_type": "code",
   "execution_count": 2,
   "id": "d66fecb9",
   "metadata": {
    "execution": {
     "iopub.execute_input": "2022-10-01T08:40:23.846799Z",
     "iopub.status.busy": "2022-10-01T08:40:23.846476Z"
    },
    "papermill": {
     "duration": null,
     "end_time": null,
     "exception": false,
     "start_time": "2022-10-01T08:40:23.843660",
     "status": "running"
    },
    "tags": []
   },
   "outputs": [
    {
     "name": "stdout",
     "output_type": "stream",
     "text": [
      "\u001b[34m\u001b[1mtraining: seed=0, data_path=../input/130k-images-512x512-universal-image-embeddings/, full_determinism=False, project=runs, experiment_name=exp, device=, model_name_or_path=convnext_base_in22k, pretrained=True, fp16=True, half_precision_backend=cuda_amp, fp16_opt_level=O1, ema=False, criterion_type=ce, label_smoothing=False, label_smoothing_factor=0.1, data_seed=None, train_batch_size=64, validation_batch_size=128, image_size=384, split_method=stratified_grouped, n_splits=5, fold_id=0, optim=sgd, grouped_parameters=None, lr=0.05, weight_decay=0.0001, eps=1e-08, adam_beta1=0.9, adam_beta2=0.999, lr_scheduler_type=cosine, warmup_ratio=0.1, num_epochs=300, gradient_accumulation_steps=1, max_grad_norm=1.0, loss_scale=None, gradient_checkpointing=True, monitor=val_accuracy, mode=max, patience=4\u001b[0m\r\n",
      "\u001b[34m\u001b[1m Setting Directories\u001b[0m\r\n"
     ]
    },
    {
     "name": "stdout",
     "output_type": "stream",
     "text": [
      "\u001b[34m\u001b[1m Python-3.7.12 torch-1.11.0 CUDA:0 (Tesla P100-PCIE-16GB, 16GB)\r\n",
      "\u001b[0m\r\n"
     ]
    },
    {
     "name": "stdout",
     "output_type": "stream",
     "text": [
      "Loading pretrained weights from url (https://dl.fbaipublicfiles.com/convnext/convnext_base_22k_224.pth)\r\n",
      "Downloading: \"https://dl.fbaipublicfiles.com/convnext/convnext_base_22k_224.pth\" to /root/.cache/torch/hub/checkpoints/convnext_base_22k_224.pth\r\n"
     ]
    },
    {
     "name": "stdout",
     "output_type": "stream",
     "text": [
      "\u001b[34m\u001b[1m ConvNeXt summary: 392 layers, 87577739 parameters, 87577739 gradients, size 334.083MB\u001b[0m\r\n"
     ]
    },
    {
     "name": "stdout",
     "output_type": "stream",
     "text": [
      "\u001b[34m\u001b[1m DataLoaders initialized\u001b[0m\r\n",
      "\u001b[34m\u001b[1m ce loss initialized\u001b[0m\r\n",
      "\u001b[34m\u001b[1m Optimizer sgd initialized\u001b[0m\r\n",
      "\u001b[34m\u001b[1m Scheduler cosine initialized - 497100 training steps, 49710 warmup steps\u001b[0m\r\n",
      "\u001b[34m\u001b[1m Using cuda_amp half precision backend\u001b[0m\r\n",
      "\u001b[34m\u001b[1m Gradient Checkpointing initialized\u001b[0m\r\n",
      "\u001b[34m\u001b[1m Model Checkpointing, Early Stopping, GPU Stats Monitor, Training Monitor, CSV Logger intialized\u001b[0m\r\n",
      "\u001b[34m\u001b[1m ****** Running Training ******\u001b[0m\r\n",
      "\u001b[34m\u001b[1m Number of examples = 106022\u001b[0m\r\n",
      "\u001b[34m\u001b[1m Number of epochs = 300\u001b[0m\r\n",
      "\u001b[34m\u001b[1m Instantaneous batch size per device = 64\u001b[0m\r\n",
      "\u001b[34m\u001b[1m Total train batch size (w. parallel, distributed & accumulation) = 64\u001b[0m\r\n",
      "\u001b[34m\u001b[1m Gradient Accumulation steps = 1\u001b[0m\r\n",
      "\u001b[34m\u001b[1m Total Optimization Steps = 497100\u001b[0m\r\n",
      "\u001b[34m\u001b[1m\r\n",
      " Epoch 1 / 300\u001b[0m\r\n"
     ]
    },
    {
     "name": "stdout",
     "output_type": "stream",
     "text": [
      "\u001b[34m\u001b[1m\r",
      "[Training ] 1/1657 [..............................] - ETA: 5:42:36  loss:2.5245 - accuracy:0.0469 - f1:0.0786 - gpu_mem:7.8G - lr1:0.0000000\u001b[0m"
     ]
    },
    {
     "name": "stdout",
     "output_type": "stream",
     "text": [
      "\u001b[34m\u001b[1m\r",
      "[Training ] 2/1657 [..............................] - ETA: 3:51:57  loss:2.5001 - accuracy:0.0312 - f1:0.0295 - gpu_mem:7.81G - lr1:0.0000010\u001b[0m"
     ]
    },
    {
     "name": "stdout",
     "output_type": "stream",
     "text": [
      "\u001b[34m\u001b[1m\r",
      "[Training ] 3/1657 [..............................] - ETA: 3:14:58  loss:2.5215 - accuracy:0.0469 - f1:0.0627 - gpu_mem:7.81G - lr1:0.0000020\u001b[0m"
     ]
    },
    {
     "name": "stdout",
     "output_type": "stream",
     "text": [
      "\u001b[34m\u001b[1m\r",
      "[Training ] 4/1657 [..............................] - ETA: 2:56:26  loss:2.4515 - accuracy:0.0625 - f1:0.0531 - gpu_mem:7.81G - lr1:0.0000030\u001b[0m"
     ]
    },
    {
     "name": "stdout",
     "output_type": "stream",
     "text": [
      "\u001b[34m\u001b[1m\r",
      "[Training ] 5/1657 [..............................] - ETA: 2:45:15  loss:2.5287 - accuracy:0.0156 - f1:0.0121 - gpu_mem:7.81G - lr1:0.0000040\u001b[0m"
     ]
    },
    {
     "name": "stdout",
     "output_type": "stream",
     "text": [
      "\u001b[34m\u001b[1m\r",
      "[Training ] 6/1657 [..............................] - ETA: 2:37:49  loss:2.4602 - accuracy:0.0781 - f1:0.0916 - gpu_mem:7.81G - lr1:0.0000050\u001b[0m"
     ]
    },
    {
     "name": "stdout",
     "output_type": "stream",
     "text": [
      "\u001b[34m\u001b[1m\r",
      "[Training ] 7/1657 [..............................] - ETA: 2:32:29  loss:2.5005 - accuracy:0.0625 - f1:0.0597 - gpu_mem:7.81G - lr1:0.0000060\u001b[0m"
     ]
    },
    {
     "name": "stdout",
     "output_type": "stream",
     "text": [
      "\u001b[34m\u001b[1m\r",
      "[Training ] 8/1657 [..............................] - ETA: 2:28:28  loss:2.4486 - accuracy:0.0469 - f1:0.0578 - gpu_mem:7.81G - lr1:0.0000070\u001b[0m"
     ]
    },
    {
     "name": "stdout",
     "output_type": "stream",
     "text": [
      "\u001b[34m\u001b[1m\r",
      "[Training ] 9/1657 [..............................] - ETA: 2:25:20  loss:2.5208 - accuracy:0.0469 - f1:0.0516 - gpu_mem:7.81G - lr1:0.0000080\u001b[0m"
     ]
    },
    {
     "name": "stdout",
     "output_type": "stream",
     "text": [
      "\u001b[34m\u001b[1m\r",
      "[Training ] 10/1657 [..............................] - ETA: 2:22:46  loss:2.5093 - accuracy:0.0312 - f1:0.0273 - gpu_mem:7.81G - lr1:0.0000091\u001b[0m"
     ]
    },
    {
     "name": "stdout",
     "output_type": "stream",
     "text": [
      "\u001b[34m\u001b[1m\r",
      "[Training ] 11/1657 [..............................] - ETA: 2:20:40  loss:2.5248 - accuracy:0.0312 - f1:0.0227 - gpu_mem:7.81G - lr1:0.0000101\u001b[0m"
     ]
    },
    {
     "name": "stdout",
     "output_type": "stream",
     "text": [
      "\u001b[34m\u001b[1m\r",
      "[Training ] 12/1657 [..............................] - ETA: 2:18:56  loss:2.5098 - accuracy:0.0312 - f1:0.0162 - gpu_mem:7.81G - lr1:0.0000111\u001b[0m"
     ]
    },
    {
     "name": "stdout",
     "output_type": "stream",
     "text": [
      "\u001b[34m\u001b[1m\r",
      "[Training ] 13/1657 [..............................] - ETA: 2:17:26  loss:2.4996 - accuracy:0.0312 - f1:0.0309 - gpu_mem:7.81G - lr1:0.0000121\u001b[0m"
     ]
    },
    {
     "name": "stdout",
     "output_type": "stream",
     "text": [
      "\u001b[34m\u001b[1m\r",
      "[Training ] 14/1657 [..............................] - ETA: 2:16:09  loss:2.4762 - accuracy:0.0625 - f1:0.0537 - gpu_mem:7.81G - lr1:0.0000131\u001b[0m"
     ]
    },
    {
     "name": "stdout",
     "output_type": "stream",
     "text": [
      "\u001b[34m\u001b[1m\r",
      "[Training ] 15/1657 [..............................] - ETA: 2:15:01  loss:2.5175 - accuracy:0.0469 - f1:0.0438 - gpu_mem:7.81G - lr1:0.0000141\u001b[0m"
     ]
    },
    {
     "name": "stdout",
     "output_type": "stream",
     "text": [
      "\u001b[34m\u001b[1m\r",
      "[Training ] 16/1657 [..............................] - ETA: 2:14:01  loss:2.4747 - accuracy:0.0469 - f1:0.0337 - gpu_mem:7.81G - lr1:0.0000151\u001b[0m"
     ]
    },
    {
     "name": "stdout",
     "output_type": "stream",
     "text": [
      "\u001b[34m\u001b[1m\r",
      "[Training ] 17/1657 [..............................] - ETA: 2:13:07  loss:2.4874 - accuracy:0.0469 - f1:0.0400 - gpu_mem:7.81G - lr1:0.0000161\u001b[0m"
     ]
    },
    {
     "name": "stdout",
     "output_type": "stream",
     "text": [
      "\u001b[34m\u001b[1m\r",
      "[Training ] 18/1657 [..............................] - ETA: 2:12:19  loss:2.5377 - accuracy:0.0469 - f1:0.0242 - gpu_mem:7.81G - lr1:0.0000171\u001b[0m"
     ]
    },
    {
     "name": "stdout",
     "output_type": "stream",
     "text": [
      "\u001b[34m\u001b[1m\r",
      "[Training ] 19/1657 [..............................] - ETA: 2:11:35  loss:2.5372 - accuracy:0.0312 - f1:0.0503 - gpu_mem:7.81G - lr1:0.0000181\u001b[0m"
     ]
    },
    {
     "name": "stdout",
     "output_type": "stream",
     "text": [
      "\u001b[34m\u001b[1m\r",
      "[Training ] 20/1657 [..............................] - ETA: 2:10:55  loss:2.4897 - accuracy:0.0781 - f1:0.0607 - gpu_mem:7.81G - lr1:0.0000191\u001b[0m"
     ]
    },
    {
     "name": "stdout",
     "output_type": "stream",
     "text": [
      "\u001b[34m\u001b[1m\r",
      "[Training ] 21/1657 [..............................] - ETA: 2:10:18  loss:2.5011 - accuracy:0.0469 - f1:0.0226 - gpu_mem:7.81G - lr1:0.0000201\u001b[0m"
     ]
    },
    {
     "name": "stdout",
     "output_type": "stream",
     "text": [
      "\u001b[34m\u001b[1m\r",
      "[Training ] 22/1657 [..............................] - ETA: 2:09:44  loss:2.5012 - accuracy:0.0312 - f1:0.0367 - gpu_mem:7.81G - lr1:0.0000211\u001b[0m"
     ]
    },
    {
     "name": "stdout",
     "output_type": "stream",
     "text": [
      "\u001b[34m\u001b[1m\r",
      "[Training ] 23/1657 [..............................] - ETA: 2:09:13  loss:2.4605 - accuracy:0.0312 - f1:0.0417 - gpu_mem:7.81G - lr1:0.0000221\u001b[0m"
     ]
    },
    {
     "name": "stdout",
     "output_type": "stream",
     "text": [
      "\u001b[34m\u001b[1m\r",
      "[Training ] 24/1657 [..............................] - ETA: 2:08:44  loss:2.4304 - accuracy:0.0938 - f1:0.0661 - gpu_mem:7.81G - lr1:0.0000231\u001b[0m"
     ]
    },
    {
     "name": "stdout",
     "output_type": "stream",
     "text": [
      "\u001b[34m\u001b[1m\r",
      "[Training ] 25/1657 [..............................] - ETA: 2:08:17  loss:2.5006 - accuracy:0.0312 - f1:0.0191 - gpu_mem:7.81G - lr1:0.0000241\u001b[0m"
     ]
    },
    {
     "name": "stdout",
     "output_type": "stream",
     "text": [
      "\u001b[34m\u001b[1m\r",
      "[Training ] 26/1657 [..............................] - ETA: 2:07:52  loss:2.4939 - accuracy:0.0156 - f1:0.0303 - gpu_mem:7.81G - lr1:0.0000251\u001b[0m"
     ]
    },
    {
     "name": "stdout",
     "output_type": "stream",
     "text": [
      "\u001b[34m\u001b[1m\r",
      "[Training ] 27/1657 [..............................] - ETA: 2:07:29  loss:2.4474 - accuracy:0.0469 - f1:0.0390 - gpu_mem:7.81G - lr1:0.0000262\u001b[0m"
     ]
    },
    {
     "name": "stdout",
     "output_type": "stream",
     "text": [
      "\u001b[34m\u001b[1m\r",
      "[Training ] 28/1657 [..............................] - ETA: 2:07:06  loss:2.4370 - accuracy:0.0625 - f1:0.0536 - gpu_mem:7.81G - lr1:0.0000272\u001b[0m"
     ]
    },
    {
     "name": "stdout",
     "output_type": "stream",
     "text": [
      "\u001b[34m\u001b[1m\r",
      "[Training ] 29/1657 [..............................] - ETA: 2:06:45  loss:2.4484 - accuracy:0.0781 - f1:0.0810 - gpu_mem:7.81G - lr1:0.0000282\u001b[0m"
     ]
    },
    {
     "name": "stdout",
     "output_type": "stream",
     "text": [
      "\u001b[34m\u001b[1m\r",
      "[Training ] 30/1657 [..............................] - ETA: 2:06:25  loss:2.4572 - accuracy:0.1094 - f1:0.0660 - gpu_mem:7.81G - lr1:0.0000292\u001b[0m"
     ]
    },
    {
     "name": "stdout",
     "output_type": "stream",
     "text": [
      "\u001b[34m\u001b[1m\r",
      "[Training ] 31/1657 [..............................] - ETA: 2:06:06  loss:2.4848 - accuracy:0.0469 - f1:0.0307 - gpu_mem:7.81G - lr1:0.0000302\u001b[0m"
     ]
    },
    {
     "name": "stdout",
     "output_type": "stream",
     "text": [
      "\u001b[34m\u001b[1m\r",
      "[Training ] 32/1657 [..............................] - ETA: 2:05:48  loss:2.4811 - accuracy:0.0312 - f1:0.0367 - gpu_mem:7.81G - lr1:0.0000312\u001b[0m"
     ]
    },
    {
     "name": "stdout",
     "output_type": "stream",
     "text": [
      "\u001b[34m\u001b[1m\r",
      "[Training ] 33/1657 [..............................] - ETA: 2:05:31  loss:2.4411 - accuracy:0.0625 - f1:0.0666 - gpu_mem:7.81G - lr1:0.0000322\u001b[0m"
     ]
    },
    {
     "name": "stdout",
     "output_type": "stream",
     "text": [
      "\u001b[34m\u001b[1m\r",
      "[Training ] 34/1657 [..............................] - ETA: 2:05:15  loss:2.4595 - accuracy:0.0156 - f1:0.0140 - gpu_mem:7.81G - lr1:0.0000332\u001b[0m"
     ]
    },
    {
     "name": "stdout",
     "output_type": "stream",
     "text": [
      "\u001b[34m\u001b[1m\r",
      "[Training ] 35/1657 [..............................] - ETA: 2:04:59  loss:2.4521 - accuracy:0.0469 - f1:0.0645 - gpu_mem:7.81G - lr1:0.0000342\u001b[0m"
     ]
    },
    {
     "name": "stdout",
     "output_type": "stream",
     "text": [
      "\u001b[34m\u001b[1m\r",
      "[Training ] 36/1657 [..............................] - ETA: 2:04:44  loss:2.5070 - accuracy:0.0781 - f1:0.1015 - gpu_mem:7.81G - lr1:0.0000352\u001b[0m"
     ]
    },
    {
     "name": "stdout",
     "output_type": "stream",
     "text": [
      "\u001b[34m\u001b[1m\r",
      "[Training ] 37/1657 [..............................] - ETA: 2:04:30  loss:2.4821 - accuracy:0.0625 - f1:0.0647 - gpu_mem:7.81G - lr1:0.0000362\u001b[0m"
     ]
    },
    {
     "name": "stdout",
     "output_type": "stream",
     "text": [
      "\u001b[34m\u001b[1m\r",
      "[Training ] 38/1657 [..............................] - ETA: 2:04:16  loss:2.5050 - accuracy:0.0469 - f1:0.0291 - gpu_mem:7.81G - lr1:0.0000372\u001b[0m"
     ]
    },
    {
     "name": "stdout",
     "output_type": "stream",
     "text": [
      "\u001b[34m\u001b[1m\r",
      "[Training ] 39/1657 [..............................] - ETA: 2:04:02  loss:2.5178 - accuracy:0.0312 - f1:0.0346 - gpu_mem:7.81G - lr1:0.0000382\u001b[0m"
     ]
    },
    {
     "name": "stdout",
     "output_type": "stream",
     "text": [
      "\u001b[34m\u001b[1m\r",
      "[Training ] 40/1657 [..............................] - ETA: 2:03:49  loss:2.5428 - accuracy:0.0156 - f1:0.0079 - gpu_mem:7.81G - lr1:0.0000392\u001b[0m"
     ]
    },
    {
     "name": "stdout",
     "output_type": "stream",
     "text": [
      "\u001b[34m\u001b[1m\r",
      "[Training ] 41/1657 [..............................] - ETA: 2:03:37  loss:2.4954 - accuracy:0.0625 - f1:0.0411 - gpu_mem:7.81G - lr1:0.0000402\u001b[0m"
     ]
    },
    {
     "name": "stdout",
     "output_type": "stream",
     "text": [
      "\u001b[34m\u001b[1m\r",
      "[Training ] 42/1657 [..............................] - ETA: 2:03:24  loss:2.4937 - accuracy:0.0469 - f1:0.0805 - gpu_mem:7.81G - lr1:0.0000412\u001b[0m"
     ]
    },
    {
     "name": "stdout",
     "output_type": "stream",
     "text": [
      "\u001b[34m\u001b[1m\r",
      "[Training ] 43/1657 [..............................] - ETA: 2:03:12  loss:2.5188 - accuracy:0.0156 - f1:0.0121 - gpu_mem:7.81G - lr1:0.0000422\u001b[0m"
     ]
    },
    {
     "name": "stdout",
     "output_type": "stream",
     "text": [
      "\u001b[34m\u001b[1m\r",
      "[Training ] 44/1657 [..............................] - ETA: 2:03:01  loss:2.4188 - accuracy:0.1406 - f1:0.1411 - gpu_mem:7.81G - lr1:0.0000433\u001b[0m"
     ]
    },
    {
     "name": "stdout",
     "output_type": "stream",
     "text": [
      "\u001b[34m\u001b[1m\r",
      "[Training ] 45/1657 [..............................] - ETA: 2:02:49  loss:2.4717 - accuracy:0.0312 - f1:0.0140 - gpu_mem:7.81G - lr1:0.0000443\u001b[0m"
     ]
    },
    {
     "name": "stdout",
     "output_type": "stream",
     "text": [
      "\u001b[34m\u001b[1m\r",
      "[Training ] 46/1657 [..............................] - ETA: 2:02:38  loss:2.4360 - accuracy:0.0625 - f1:0.0394 - gpu_mem:7.81G - lr1:0.0000453\u001b[0m"
     ]
    },
    {
     "name": "stdout",
     "output_type": "stream",
     "text": [
      "\u001b[34m\u001b[1m\r",
      "[Training ] 47/1657 [..............................] - ETA: 2:02:28  loss:2.5831 - accuracy:0.0000 - f1:0.0000 - gpu_mem:7.81G - lr1:0.0000463\u001b[0m"
     ]
    },
    {
     "name": "stdout",
     "output_type": "stream",
     "text": [
      "\u001b[34m\u001b[1m\r",
      "[Training ] 48/1657 [..............................] - ETA: 2:02:17  loss:2.4971 - accuracy:0.0469 - f1:0.0379 - gpu_mem:7.81G - lr1:0.0000473\u001b[0m"
     ]
    },
    {
     "name": "stdout",
     "output_type": "stream",
     "text": [
      "\u001b[34m\u001b[1m\r",
      "[Training ] 49/1657 [..............................] - ETA: 2:02:07  loss:2.4955 - accuracy:0.0312 - f1:0.0713 - gpu_mem:7.81G - lr1:0.0000483\u001b[0m"
     ]
    },
    {
     "name": "stdout",
     "output_type": "stream",
     "text": [
      "\u001b[34m\u001b[1m\r",
      "[Training ] 50/1657 [..............................] - ETA: 2:01:57  loss:2.4550 - accuracy:0.0625 - f1:0.0615 - gpu_mem:7.81G - lr1:0.0000493\u001b[0m"
     ]
    },
    {
     "name": "stdout",
     "output_type": "stream",
     "text": [
      "\u001b[34m\u001b[1m\r",
      "[Training ] 51/1657 [..............................] - ETA: 2:01:48  loss:2.4768 - accuracy:0.0312 - f1:0.0404 - gpu_mem:7.81G - lr1:0.0000503\u001b[0m"
     ]
    },
    {
     "name": "stdout",
     "output_type": "stream",
     "text": [
      "\u001b[34m\u001b[1m\r",
      "[Training ] 52/1657 [..............................] - ETA: 2:01:38  loss:2.4500 - accuracy:0.0781 - f1:0.0778 - gpu_mem:7.81G - lr1:0.0000513\u001b[0m"
     ]
    },
    {
     "name": "stdout",
     "output_type": "stream",
     "text": [
      "\u001b[34m\u001b[1m\r",
      "[Training ] 53/1657 [..............................] - ETA: 2:01:29  loss:2.4889 - accuracy:0.1094 - f1:0.0701 - gpu_mem:7.81G - lr1:0.0000523\u001b[0m"
     ]
    },
    {
     "name": "stdout",
     "output_type": "stream",
     "text": [
      "\u001b[34m\u001b[1m\r",
      "[Training ] 54/1657 [..............................] - ETA: 2:01:20  loss:2.4534 - accuracy:0.0781 - f1:0.0859 - gpu_mem:7.81G - lr1:0.0000533\u001b[0m"
     ]
    },
    {
     "name": "stdout",
     "output_type": "stream",
     "text": [
      "\u001b[34m\u001b[1m\r",
      "[Training ] 55/1657 [..............................] - ETA: 2:01:11  loss:2.4835 - accuracy:0.0625 - f1:0.0583 - gpu_mem:7.81G - lr1:0.0000543\u001b[0m"
     ]
    },
    {
     "name": "stdout",
     "output_type": "stream",
     "text": [
      "\u001b[34m\u001b[1m\r",
      "[Training ] 56/1657 [>.............................] - ETA: 2:01:02  loss:2.4515 - accuracy:0.0625 - f1:0.0853 - gpu_mem:7.81G - lr1:0.0000553\u001b[0m"
     ]
    },
    {
     "name": "stdout",
     "output_type": "stream",
     "text": [
      "\u001b[34m\u001b[1m\r",
      "[Training ] 57/1657 [>.............................] - ETA: 2:00:53  loss:2.4625 - accuracy:0.0625 - f1:0.0402 - gpu_mem:7.81G - lr1:0.0000563\u001b[0m"
     ]
    },
    {
     "name": "stdout",
     "output_type": "stream",
     "text": [
      "\u001b[34m\u001b[1m\r",
      "[Training ] 58/1657 [>.............................] - ETA: 2:00:45  loss:2.5075 - accuracy:0.0625 - f1:0.0586 - gpu_mem:7.81G - lr1:0.0000573\u001b[0m"
     ]
    },
    {
     "name": "stdout",
     "output_type": "stream",
     "text": [
      "\u001b[34m\u001b[1m\r",
      "[Training ] 59/1657 [>.............................] - ETA: 2:00:36  loss:2.5172 - accuracy:0.0156 - f1:0.0107 - gpu_mem:7.81G - lr1:0.0000583\u001b[0m"
     ]
    },
    {
     "name": "stdout",
     "output_type": "stream",
     "text": [
      "\u001b[34m\u001b[1m\r",
      "[Training ] 60/1657 [>.............................] - ETA: 2:00:28  loss:2.4942 - accuracy:0.0000 - f1:0.0000 - gpu_mem:7.81G - lr1:0.0000593\u001b[0m"
     ]
    },
    {
     "name": "stdout",
     "output_type": "stream",
     "text": [
      "\u001b[34m\u001b[1m\r",
      "[Training ] 61/1657 [>.............................] - ETA: 2:00:20  loss:2.4620 - accuracy:0.0781 - f1:0.0476 - gpu_mem:7.81G - lr1:0.0000604\u001b[0m"
     ]
    },
    {
     "name": "stdout",
     "output_type": "stream",
     "text": [
      "\u001b[34m\u001b[1m\r",
      "[Training ] 62/1657 [>.............................] - ETA: 2:00:12  loss:2.5073 - accuracy:0.0312 - f1:0.0179 - gpu_mem:7.81G - lr1:0.0000614\u001b[0m"
     ]
    },
    {
     "name": "stdout",
     "output_type": "stream",
     "text": [
      "\u001b[34m\u001b[1m\r",
      "[Training ] 63/1657 [>.............................] - ETA: 2:00:04  loss:2.4632 - accuracy:0.0938 - f1:0.0898 - gpu_mem:7.81G - lr1:0.0000624\u001b[0m"
     ]
    },
    {
     "name": "stdout",
     "output_type": "stream",
     "text": [
      "\u001b[34m\u001b[1m\r",
      "[Training ] 64/1657 [>.............................] - ETA: 1:59:57  loss:2.4794 - accuracy:0.0625 - f1:0.0527 - gpu_mem:7.81G - lr1:0.0000634\u001b[0m"
     ]
    },
    {
     "name": "stdout",
     "output_type": "stream",
     "text": [
      "\u001b[34m\u001b[1m\r",
      "[Training ] 65/1657 [>.............................] - ETA: 1:59:49  loss:2.4870 - accuracy:0.0781 - f1:0.0677 - gpu_mem:7.81G - lr1:0.0000644\u001b[0m"
     ]
    },
    {
     "name": "stdout",
     "output_type": "stream",
     "text": [
      "\u001b[34m\u001b[1m\r",
      "[Training ] 66/1657 [>.............................] - ETA: 1:59:42  loss:2.5052 - accuracy:0.0312 - f1:0.0362 - gpu_mem:7.81G - lr1:0.0000654\u001b[0m"
     ]
    },
    {
     "name": "stdout",
     "output_type": "stream",
     "text": [
      "\u001b[34m\u001b[1m\r",
      "[Training ] 67/1657 [>.............................] - ETA: 1:59:34  loss:2.4661 - accuracy:0.0469 - f1:0.0492 - gpu_mem:7.81G - lr1:0.0000664\u001b[0m"
     ]
    },
    {
     "name": "stdout",
     "output_type": "stream",
     "text": [
      "\u001b[34m\u001b[1m\r",
      "[Training ] 68/1657 [>.............................] - ETA: 1:59:27  loss:2.4543 - accuracy:0.0625 - f1:0.0327 - gpu_mem:7.81G - lr1:0.0000674\u001b[0m"
     ]
    },
    {
     "name": "stdout",
     "output_type": "stream",
     "text": [
      "\u001b[34m\u001b[1m\r",
      "[Training ] 69/1657 [>.............................] - ETA: 1:59:20  loss:2.5100 - accuracy:0.0312 - f1:0.0364 - gpu_mem:7.81G - lr1:0.0000684\u001b[0m"
     ]
    },
    {
     "name": "stdout",
     "output_type": "stream",
     "text": [
      "\u001b[34m\u001b[1m\r",
      "[Training ] 70/1657 [>.............................] - ETA: 1:59:12  loss:2.4948 - accuracy:0.0625 - f1:0.0475 - gpu_mem:7.81G - lr1:0.0000694\u001b[0m"
     ]
    },
    {
     "name": "stdout",
     "output_type": "stream",
     "text": [
      "\u001b[34m\u001b[1m\r",
      "[Training ] 71/1657 [>.............................] - ETA: 1:59:05  loss:2.5010 - accuracy:0.0312 - f1:0.0351 - gpu_mem:7.81G - lr1:0.0000704\u001b[0m"
     ]
    },
    {
     "name": "stdout",
     "output_type": "stream",
     "text": [
      "\u001b[34m\u001b[1m\r",
      "[Training ] 72/1657 [>.............................] - ETA: 1:58:58  loss:2.5313 - accuracy:0.0469 - f1:0.0476 - gpu_mem:7.81G - lr1:0.0000714\u001b[0m"
     ]
    },
    {
     "name": "stdout",
     "output_type": "stream",
     "text": [
      "\u001b[34m\u001b[1m\r",
      "[Training ] 73/1657 [>.............................] - ETA: 1:58:51  loss:2.4964 - accuracy:0.0156 - f1:0.0364 - gpu_mem:7.81G - lr1:0.0000724\u001b[0m"
     ]
    },
    {
     "name": "stdout",
     "output_type": "stream",
     "text": [
      "\u001b[34m\u001b[1m\r",
      "[Training ] 74/1657 [>.............................] - ETA: 1:58:45  loss:2.5738 - accuracy:0.0156 - f1:0.0107 - gpu_mem:7.81G - lr1:0.0000734\u001b[0m"
     ]
    },
    {
     "name": "stdout",
     "output_type": "stream",
     "text": [
      "\u001b[34m\u001b[1m\r",
      "[Training ] 75/1657 [>.............................] - ETA: 1:58:38  loss:2.4145 - accuracy:0.0469 - f1:0.0419 - gpu_mem:7.81G - lr1:0.0000744\u001b[0m"
     ]
    },
    {
     "name": "stdout",
     "output_type": "stream",
     "text": [
      "\u001b[34m\u001b[1m\r",
      "[Training ] 76/1657 [>.............................] - ETA: 1:58:31  loss:2.5054 - accuracy:0.0156 - f1:0.0076 - gpu_mem:7.81G - lr1:0.0000754\u001b[0m"
     ]
    },
    {
     "name": "stdout",
     "output_type": "stream",
     "text": [
      "\u001b[34m\u001b[1m\r",
      "[Training ] 77/1657 [>.............................] - ETA: 1:58:24  loss:2.5114 - accuracy:0.0625 - f1:0.0430 - gpu_mem:7.81G - lr1:0.0000764\u001b[0m"
     ]
    },
    {
     "name": "stdout",
     "output_type": "stream",
     "text": [
      "\u001b[34m\u001b[1m\r",
      "[Training ] 78/1657 [>.............................] - ETA: 1:58:18  loss:2.4992 - accuracy:0.0156 - f1:0.0364 - gpu_mem:7.81G - lr1:0.0000774\u001b[0m"
     ]
    },
    {
     "name": "stdout",
     "output_type": "stream",
     "text": [
      "\u001b[34m\u001b[1m\r",
      "[Training ] 79/1657 [>.............................] - ETA: 1:58:11  loss:2.5003 - accuracy:0.0469 - f1:0.0424 - gpu_mem:7.81G - lr1:0.0000785\u001b[0m"
     ]
    },
    {
     "name": "stdout",
     "output_type": "stream",
     "text": [
      "\u001b[34m\u001b[1m\r",
      "[Training ] 80/1657 [>.............................] - ETA: 1:58:05  loss:2.4499 - accuracy:0.0469 - f1:0.0399 - gpu_mem:7.81G - lr1:0.0000795\u001b[0m"
     ]
    },
    {
     "name": "stdout",
     "output_type": "stream",
     "text": [
      "\u001b[34m\u001b[1m\r",
      "[Training ] 81/1657 [>.............................] - ETA: 1:57:58  loss:2.5273 - accuracy:0.0469 - f1:0.0459 - gpu_mem:7.81G - lr1:0.0000805\u001b[0m"
     ]
    },
    {
     "name": "stdout",
     "output_type": "stream",
     "text": [
      "\u001b[34m\u001b[1m\r",
      "[Training ] 82/1657 [>.............................] - ETA: 1:57:52  loss:2.5311 - accuracy:0.0156 - f1:0.0303 - gpu_mem:7.81G - lr1:0.0000815\u001b[0m"
     ]
    },
    {
     "name": "stdout",
     "output_type": "stream",
     "text": [
      "\u001b[34m\u001b[1m\r",
      "[Training ] 83/1657 [>.............................] - ETA: 1:57:45  loss:2.4803 - accuracy:0.0312 - f1:0.0323 - gpu_mem:7.81G - lr1:0.0000825\u001b[0m"
     ]
    },
    {
     "name": "stdout",
     "output_type": "stream",
     "text": [
      "\u001b[34m\u001b[1m\r",
      "[Training ] 84/1657 [>.............................] - ETA: 1:57:39  loss:2.4959 - accuracy:0.0312 - f1:0.0303 - gpu_mem:7.81G - lr1:0.0000835\u001b[0m"
     ]
    },
    {
     "name": "stdout",
     "output_type": "stream",
     "text": [
      "\u001b[34m\u001b[1m\r",
      "[Training ] 85/1657 [>.............................] - ETA: 1:57:33  loss:2.4128 - accuracy:0.0625 - f1:0.0618 - gpu_mem:7.81G - lr1:0.0000845\u001b[0m"
     ]
    },
    {
     "name": "stdout",
     "output_type": "stream",
     "text": [
      "\u001b[34m\u001b[1m\r",
      "[Training ] 86/1657 [>.............................] - ETA: 1:57:26  loss:2.4909 - accuracy:0.0156 - f1:0.0096 - gpu_mem:7.81G - lr1:0.0000855\u001b[0m"
     ]
    },
    {
     "name": "stdout",
     "output_type": "stream",
     "text": [
      "\u001b[34m\u001b[1m\r",
      "[Training ] 87/1657 [>.............................] - ETA: 1:57:20  loss:2.4861 - accuracy:0.0469 - f1:0.0389 - gpu_mem:7.81G - lr1:0.0000865\u001b[0m"
     ]
    },
    {
     "name": "stdout",
     "output_type": "stream",
     "text": [
      "\u001b[34m\u001b[1m\r",
      "[Training ] 88/1657 [>.............................] - ETA: 1:57:14  loss:2.4764 - accuracy:0.0312 - f1:0.0393 - gpu_mem:7.81G - lr1:0.0000875\u001b[0m"
     ]
    },
    {
     "name": "stdout",
     "output_type": "stream",
     "text": [
      "\u001b[34m\u001b[1m\r",
      "[Training ] 89/1657 [>.............................] - ETA: 1:57:08  loss:2.5219 - accuracy:0.0312 - f1:0.0228 - gpu_mem:7.81G - lr1:0.0000885\u001b[0m"
     ]
    },
    {
     "name": "stdout",
     "output_type": "stream",
     "text": [
      "\u001b[34m\u001b[1m\r",
      "[Training ] 90/1657 [>.............................] - ETA: 1:57:02  loss:2.4880 - accuracy:0.0625 - f1:0.0373 - gpu_mem:7.81G - lr1:0.0000895\u001b[0m"
     ]
    },
    {
     "name": "stdout",
     "output_type": "stream",
     "text": [
      "\u001b[34m\u001b[1m\r",
      "[Training ] 91/1657 [>.............................] - ETA: 1:56:56  loss:2.4687 - accuracy:0.0781 - f1:0.0539 - gpu_mem:7.81G - lr1:0.0000905\u001b[0m"
     ]
    },
    {
     "name": "stdout",
     "output_type": "stream",
     "text": [
      "\u001b[34m\u001b[1m\r",
      "[Training ] 92/1657 [>.............................] - ETA: 1:56:50  loss:2.4593 - accuracy:0.0781 - f1:0.0711 - gpu_mem:7.81G - lr1:0.0000915\u001b[0m"
     ]
    },
    {
     "name": "stdout",
     "output_type": "stream",
     "text": [
      "\u001b[34m\u001b[1m\r",
      "[Training ] 93/1657 [>.............................] - ETA: 1:56:44  loss:2.4385 - accuracy:0.0938 - f1:0.1213 - gpu_mem:7.81G - lr1:0.0000925\u001b[0m"
     ]
    },
    {
     "name": "stdout",
     "output_type": "stream",
     "text": [
      "\u001b[34m\u001b[1m\r",
      "[Training ] 94/1657 [>.............................] - ETA: 1:56:38  loss:2.5084 - accuracy:0.0156 - f1:0.0606 - gpu_mem:7.81G - lr1:0.0000935\u001b[0m"
     ]
    },
    {
     "name": "stdout",
     "output_type": "stream",
     "text": [
      "\u001b[34m\u001b[1m\r",
      "[Training ] 95/1657 [>.............................] - ETA: 1:56:32  loss:2.4772 - accuracy:0.0938 - f1:0.1071 - gpu_mem:7.81G - lr1:0.0000945\u001b[0m"
     ]
    },
    {
     "name": "stdout",
     "output_type": "stream",
     "text": [
      "\u001b[34m\u001b[1m\r",
      "[Training ] 96/1657 [>.............................] - ETA: 1:56:26  loss:2.4870 - accuracy:0.0469 - f1:0.0455 - gpu_mem:7.81G - lr1:0.0000956\u001b[0m"
     ]
    },
    {
     "name": "stdout",
     "output_type": "stream",
     "text": [
      "\u001b[34m\u001b[1m\r",
      "[Training ] 97/1657 [>.............................] - ETA: 1:56:20  loss:2.4847 - accuracy:0.0312 - f1:0.0833 - gpu_mem:7.81G - lr1:0.0000966\u001b[0m"
     ]
    },
    {
     "name": "stdout",
     "output_type": "stream",
     "text": [
      "\u001b[34m\u001b[1m\r",
      "[Training ] 98/1657 [>.............................] - ETA: 1:56:14  loss:2.5240 - accuracy:0.0312 - f1:0.0306 - gpu_mem:7.81G - lr1:0.0000976\u001b[0m"
     ]
    },
    {
     "name": "stdout",
     "output_type": "stream",
     "text": [
      "\u001b[34m\u001b[1m\r",
      "[Training ] 99/1657 [>.............................] - ETA: 1:56:09  loss:2.4753 - accuracy:0.0312 - f1:0.0297 - gpu_mem:7.81G - lr1:0.0000986\u001b[0m"
     ]
    },
    {
     "name": "stdout",
     "output_type": "stream",
     "text": [
      "\u001b[34m\u001b[1m\r",
      "[Training ] 100/1657 [>.............................] - ETA: 1:56:03  loss:2.4863 - accuracy:0.0312 - f1:0.0443 - gpu_mem:7.81G - lr1:0.0000996\u001b[0m"
     ]
    },
    {
     "name": "stdout",
     "output_type": "stream",
     "text": [
      "\u001b[34m\u001b[1m\r",
      "[Training ] 101/1657 [>.............................] - ETA: 1:55:57  loss:2.4480 - accuracy:0.0312 - f1:0.0162 - gpu_mem:7.81G - lr1:0.0001006\u001b[0m"
     ]
    },
    {
     "name": "stdout",
     "output_type": "stream",
     "text": [
      "\u001b[34m\u001b[1m\r",
      "[Training ] 102/1657 [>.............................] - ETA: 1:55:52  loss:2.4682 - accuracy:0.0938 - f1:0.0733 - gpu_mem:7.81G - lr1:0.0001016\u001b[0m"
     ]
    },
    {
     "name": "stdout",
     "output_type": "stream",
     "text": [
      "\u001b[34m\u001b[1m\r",
      "[Training ] 103/1657 [>.............................] - ETA: 1:55:46  loss:2.4704 - accuracy:0.0156 - f1:0.0140 - gpu_mem:7.81G - lr1:0.0001026\u001b[0m"
     ]
    },
    {
     "name": "stdout",
     "output_type": "stream",
     "text": [
      "\u001b[34m\u001b[1m\r",
      "[Training ] 104/1657 [>.............................] - ETA: 1:55:40  loss:2.4989 - accuracy:0.0156 - f1:0.0260 - gpu_mem:7.81G - lr1:0.0001036\u001b[0m"
     ]
    },
    {
     "name": "stdout",
     "output_type": "stream",
     "text": [
      "\u001b[34m\u001b[1m\r",
      "[Training ] 105/1657 [>.............................] - ETA: 1:55:35  loss:2.4764 - accuracy:0.0312 - f1:0.0209 - gpu_mem:7.81G - lr1:0.0001046\u001b[0m"
     ]
    },
    {
     "name": "stdout",
     "output_type": "stream",
     "text": [
      "\u001b[34m\u001b[1m\r",
      "[Training ] 106/1657 [>.............................] - ETA: 1:55:29  loss:2.4692 - accuracy:0.0625 - f1:0.0496 - gpu_mem:7.81G - lr1:0.0001056\u001b[0m"
     ]
    },
    {
     "name": "stdout",
     "output_type": "stream",
     "text": [
      "\u001b[34m\u001b[1m\r",
      "[Training ] 107/1657 [>.............................] - ETA: 1:55:23  loss:2.4694 - accuracy:0.0312 - f1:0.0289 - gpu_mem:7.81G\u001b[0m"
     ]
    },
    {
     "name": "stdout",
     "output_type": "stream",
     "text": [
      "\u001b[34m\u001b[1m\r",
      "[Training ] 108/1657 [>.............................] - ETA: 1:55:18  loss:2.4409 - accuracy:0.0625 - f1:0.0581 - gpu_mem:7.81G - lr1:0.0001066\u001b[0m"
     ]
    },
    {
     "name": "stdout",
     "output_type": "stream",
     "text": [
      "\u001b[34m\u001b[1m\r",
      "[Training ] 109/1657 [>.............................] - ETA: 1:55:13  loss:2.4303 - accuracy:0.0938 - f1:0.0894 - gpu_mem:7.81G - lr1:0.0001076\u001b[0m"
     ]
    },
    {
     "name": "stdout",
     "output_type": "stream",
     "text": [
      "\u001b[34m\u001b[1m\r",
      "[Training ] 110/1657 [>.............................] - ETA: 1:55:07  loss:2.4057 - accuracy:0.0781 - f1:0.1389 - gpu_mem:7.81G - lr1:0.0001086\u001b[0m"
     ]
    },
    {
     "name": "stdout",
     "output_type": "stream",
     "text": [
      "\u001b[34m\u001b[1m\r",
      "[Training ] 111/1657 [=>............................] - ETA: 1:55:02  loss:2.4203 - accuracy:0.0625 - f1:0.0284 - gpu_mem:7.81G - lr1:0.0001096\u001b[0m"
     ]
    },
    {
     "name": "stdout",
     "output_type": "stream",
     "text": [
      "\u001b[34m\u001b[1m\r",
      "[Training ] 112/1657 [=>............................] - ETA: 1:54:56  loss:2.4873 - accuracy:0.0469 - f1:0.0471 - gpu_mem:7.81G - lr1:0.0001106\u001b[0m"
     ]
    },
    {
     "name": "stdout",
     "output_type": "stream",
     "text": [
      "\u001b[34m\u001b[1m\r",
      "[Training ] 113/1657 [=>............................] - ETA: 1:54:51  loss:2.4590 - accuracy:0.0469 - f1:0.0313 - gpu_mem:7.81G - lr1:0.0001116\u001b[0m"
     ]
    },
    {
     "name": "stdout",
     "output_type": "stream",
     "text": [
      "\u001b[34m\u001b[1m\r",
      "[Training ] 114/1657 [=>............................] - ETA: 1:54:45  loss:2.4914 - accuracy:0.0469 - f1:0.0615 - gpu_mem:7.81G - lr1:0.0001127\u001b[0m"
     ]
    },
    {
     "name": "stdout",
     "output_type": "stream",
     "text": [
      "\u001b[34m\u001b[1m\r",
      "[Training ] 115/1657 [=>............................] - ETA: 1:54:40  loss:2.5134 - accuracy:0.0781 - f1:0.0530 - gpu_mem:7.81G - lr1:0.0001137\u001b[0m"
     ]
    },
    {
     "name": "stdout",
     "output_type": "stream",
     "text": [
      "\u001b[34m\u001b[1m\r",
      "[Training ] 116/1657 [=>............................] - ETA: 1:54:34  loss:2.4453 - accuracy:0.0781 - f1:0.0743 - gpu_mem:7.81G - lr1:0.0001147\u001b[0m"
     ]
    },
    {
     "name": "stdout",
     "output_type": "stream",
     "text": [
      "\u001b[34m\u001b[1m\r",
      "[Training ] 117/1657 [=>............................] - ETA: 1:54:29  loss:2.4516 - accuracy:0.0781 - f1:0.0523 - gpu_mem:7.81G - lr1:0.0001157\u001b[0m"
     ]
    },
    {
     "name": "stdout",
     "output_type": "stream",
     "text": [
      "\u001b[34m\u001b[1m\r",
      "[Training ] 118/1657 [=>............................] - ETA: 1:54:24  loss:2.4539 - accuracy:0.0469 - f1:0.0396 - gpu_mem:7.81G - lr1:0.0001167\u001b[0m"
     ]
    },
    {
     "name": "stdout",
     "output_type": "stream",
     "text": [
      "\u001b[34m\u001b[1m\r",
      "[Training ] 119/1657 [=>............................] - ETA: 1:54:18  loss:2.4532 - accuracy:0.0781 - f1:0.0608 - gpu_mem:7.81G - lr1:0.0001177\u001b[0m"
     ]
    },
    {
     "name": "stdout",
     "output_type": "stream",
     "text": [
      "\u001b[34m\u001b[1m\r",
      "[Training ] 120/1657 [=>............................] - ETA: 1:54:13  loss:2.4755 - accuracy:0.0156 - f1:0.0130 - gpu_mem:7.81G - lr1:0.0001187\u001b[0m"
     ]
    },
    {
     "name": "stdout",
     "output_type": "stream",
     "text": [
      "\u001b[34m\u001b[1m\r",
      "[Training ] 121/1657 [=>............................] - ETA: 1:54:08  loss:2.4831 - accuracy:0.0312 - f1:0.0771 - gpu_mem:7.81G - lr1:0.0001197\u001b[0m"
     ]
    },
    {
     "name": "stdout",
     "output_type": "stream",
     "text": [
      "\u001b[34m\u001b[1m\r",
      "[Training ] 122/1657 [=>............................] - ETA: 1:54:02  loss:2.4637 - accuracy:0.0156 - f1:0.0083 - gpu_mem:7.81G - lr1:0.0001207\u001b[0m"
     ]
    },
    {
     "name": "stdout",
     "output_type": "stream",
     "text": [
      "\u001b[34m\u001b[1m\r",
      "[Training ] 123/1657 [=>............................] - ETA: 1:53:57  loss:2.4723 - accuracy:0.0469 - f1:0.0460 - gpu_mem:7.81G - lr1:0.0001217\u001b[0m"
     ]
    },
    {
     "name": "stdout",
     "output_type": "stream",
     "text": [
      "\u001b[34m\u001b[1m\r",
      "[Training ] 124/1657 [=>............................] - ETA: 1:53:52  loss:2.4748 - accuracy:0.0312 - f1:0.0175 - gpu_mem:7.81G - lr1:0.0001227\u001b[0m"
     ]
    },
    {
     "name": "stdout",
     "output_type": "stream",
     "text": [
      "\u001b[34m\u001b[1m\r",
      "[Training ] 125/1657 [=>............................] - ETA: 1:53:47  loss:2.4451 - accuracy:0.0312 - f1:0.0335 - gpu_mem:7.81G - lr1:0.0001237\u001b[0m"
     ]
    },
    {
     "name": "stdout",
     "output_type": "stream",
     "text": [
      "\u001b[34m\u001b[1m\r",
      "[Training ] 126/1657 [=>............................] - ETA: 1:53:41  loss:2.5086 - accuracy:0.0781 - f1:0.1006 - gpu_mem:7.81G - lr1:0.0001247\u001b[0m"
     ]
    },
    {
     "name": "stdout",
     "output_type": "stream",
     "text": [
      "\u001b[34m\u001b[1m\r",
      "[Training ] 127/1657 [=>............................] - ETA: 1:53:36  loss:2.4582 - accuracy:0.0625 - f1:0.1226 - gpu_mem:7.81G - lr1:0.0001257\u001b[0m"
     ]
    },
    {
     "name": "stdout",
     "output_type": "stream",
     "text": [
      "\u001b[34m\u001b[1m\r",
      "[Training ] 128/1657 [=>............................] - ETA: 1:53:31  loss:2.4601 - accuracy:0.0938 - f1:0.0577 - gpu_mem:7.81G - lr1:0.0001267\u001b[0m"
     ]
    },
    {
     "name": "stdout",
     "output_type": "stream",
     "text": [
      "\u001b[34m\u001b[1m\r",
      "[Training ] 129/1657 [=>............................] - ETA: 1:53:26  loss:2.4639 - accuracy:0.0781 - f1:0.0878 - gpu_mem:7.81G - lr1:0.0001277\u001b[0m"
     ]
    },
    {
     "name": "stdout",
     "output_type": "stream",
     "text": [
      "\u001b[34m\u001b[1m\r",
      "[Training ] 130/1657 [=>............................] - ETA: 1:53:20  loss:2.4738 - accuracy:0.0312 - f1:0.0238 - gpu_mem:7.81G - lr1:0.0001287\u001b[0m"
     ]
    },
    {
     "name": "stdout",
     "output_type": "stream",
     "text": [
      "\u001b[34m\u001b[1m\r",
      "[Training ] 131/1657 [=>............................] - ETA: 1:53:15  loss:2.4930 - accuracy:0.0469 - f1:0.0326 - gpu_mem:7.81G - lr1:0.0001298\u001b[0m"
     ]
    },
    {
     "name": "stdout",
     "output_type": "stream",
     "text": [
      "\u001b[34m\u001b[1m\r",
      "[Training ] 132/1657 [=>............................] - ETA: 1:53:10  loss:2.4255 - accuracy:0.0469 - f1:0.0404 - gpu_mem:7.81G - lr1:0.0001308\u001b[0m"
     ]
    },
    {
     "name": "stdout",
     "output_type": "stream",
     "text": [
      "\u001b[34m\u001b[1m\r",
      "[Training ] 133/1657 [=>............................] - ETA: 1:53:05  loss:2.4667 - accuracy:0.0469 - f1:0.0335 - gpu_mem:7.81G - lr1:0.0001318\u001b[0m"
     ]
    },
    {
     "name": "stdout",
     "output_type": "stream",
     "text": [
      "\u001b[34m\u001b[1m\r",
      "[Training ] 134/1657 [=>............................] - ETA: 1:53:00  loss:2.5480 - accuracy:0.0000 - f1:0.0000 - gpu_mem:7.81G - lr1:0.0001328\u001b[0m"
     ]
    },
    {
     "name": "stdout",
     "output_type": "stream",
     "text": [
      "\u001b[34m\u001b[1m\r",
      "[Training ] 135/1657 [=>............................] - ETA: 1:52:55  loss:2.4690 - accuracy:0.0312 - f1:0.0298 - gpu_mem:7.81G - lr1:0.0001338\u001b[0m"
     ]
    },
    {
     "name": "stdout",
     "output_type": "stream",
     "text": [
      "\u001b[34m\u001b[1m\r",
      "[Training ] 136/1657 [=>............................] - ETA: 1:52:50  loss:2.4334 - accuracy:0.0312 - f1:0.0341 - gpu_mem:7.81G - lr1:0.0001348\u001b[0m"
     ]
    },
    {
     "name": "stdout",
     "output_type": "stream",
     "text": [
      "\u001b[34m\u001b[1m\r",
      "[Training ] 137/1657 [=>............................] - ETA: 1:52:44  loss:2.4358 - accuracy:0.0938 - f1:0.0854 - gpu_mem:7.81G - lr1:0.0001358\u001b[0m"
     ]
    },
    {
     "name": "stdout",
     "output_type": "stream",
     "text": [
      "\u001b[34m\u001b[1m\r",
      "[Training ] 138/1657 [=>............................] - ETA: 1:52:39  loss:2.4291 - accuracy:0.0625 - f1:0.0484 - gpu_mem:7.81G - lr1:0.0001368\u001b[0m"
     ]
    },
    {
     "name": "stdout",
     "output_type": "stream",
     "text": [
      "\u001b[34m\u001b[1m\r",
      "[Training ] 139/1657 [=>............................] - ETA: 1:52:34  loss:2.4840 - accuracy:0.0781 - f1:0.0652 - gpu_mem:7.81G - lr1:0.0001378\u001b[0m"
     ]
    },
    {
     "name": "stdout",
     "output_type": "stream",
     "text": [
      "\u001b[34m\u001b[1m\r",
      "[Training ] 140/1657 [=>............................] - ETA: 1:52:32  loss:2.4933 - accuracy:0.1094 - f1:0.1194 - gpu_mem:7.81G - lr1:0.0001388\u001b[0m"
     ]
    },
    {
     "name": "stdout",
     "output_type": "stream",
     "text": [
      "\u001b[34m\u001b[1m\r",
      "[Training ] 141/1657 [=>............................] - ETA: 1:52:27  loss:2.4775 - accuracy:0.0625 - f1:0.0497 - gpu_mem:7.81G - lr1:0.0001398\u001b[0m"
     ]
    },
    {
     "name": "stdout",
     "output_type": "stream",
     "text": [
      "\u001b[34m\u001b[1m\r",
      "[Training ] 142/1657 [=>............................] - ETA: 1:52:22  loss:2.4891 - accuracy:0.0312 - f1:0.0226 - gpu_mem:7.81G - lr1:0.0001408\u001b[0m"
     ]
    },
    {
     "name": "stdout",
     "output_type": "stream",
     "text": [
      "\u001b[34m\u001b[1m\r",
      "[Training ] 143/1657 [=>............................] - ETA: 1:52:17  loss:2.4688 - accuracy:0.0625 - f1:0.0589 - gpu_mem:7.81G - lr1:0.0001418\u001b[0m"
     ]
    },
    {
     "name": "stdout",
     "output_type": "stream",
     "text": [
      "\u001b[34m\u001b[1m\r",
      "[Training ] 144/1657 [=>............................] - ETA: 1:52:12  loss:2.4883 - accuracy:0.0312 - f1:0.0295 - gpu_mem:7.81G - lr1:0.0001428\u001b[0m"
     ]
    },
    {
     "name": "stdout",
     "output_type": "stream",
     "text": [
      "\u001b[34m\u001b[1m\r",
      "[Training ] 145/1657 [=>............................] - ETA: 1:52:07  loss:2.4284 - accuracy:0.1406 - f1:0.1457 - gpu_mem:7.81G - lr1:0.0001438\u001b[0m"
     ]
    },
    {
     "name": "stdout",
     "output_type": "stream",
     "text": [
      "\u001b[34m\u001b[1m\r",
      "[Training ] 146/1657 [=>............................] - ETA: 1:52:02  loss:2.4351 - accuracy:0.0781 - f1:0.0551 - gpu_mem:7.81G - lr1:0.0001448\u001b[0m"
     ]
    },
    {
     "name": "stdout",
     "output_type": "stream",
     "text": [
      "\u001b[34m\u001b[1m\r",
      "[Training ] 147/1657 [=>............................] - ETA: 1:51:57  loss:2.4871 - accuracy:0.0469 - f1:0.0717 - gpu_mem:7.81G - lr1:0.0001458\u001b[0m"
     ]
    },
    {
     "name": "stdout",
     "output_type": "stream",
     "text": [
      "\u001b[34m\u001b[1m\r",
      "[Training ] 148/1657 [=>............................] - ETA: 1:51:52  loss:2.4928 - accuracy:0.0156 - f1:0.0096 - gpu_mem:7.81G - lr1:0.0001469\u001b[0m"
     ]
    },
    {
     "name": "stdout",
     "output_type": "stream",
     "text": [
      "\u001b[34m\u001b[1m\r",
      "[Training ] 149/1657 [=>............................] - ETA: 1:51:47  loss:2.4129 - accuracy:0.0469 - f1:0.0278 - gpu_mem:7.81G - lr1:0.0001479\u001b[0m"
     ]
    },
    {
     "name": "stdout",
     "output_type": "stream",
     "text": [
      "\u001b[34m\u001b[1m\r",
      "[Training ] 150/1657 [=>............................] - ETA: 1:51:42  loss:2.4989 - accuracy:0.0469 - f1:0.0405 - gpu_mem:7.81G - lr1:0.0001489\u001b[0m"
     ]
    },
    {
     "name": "stdout",
     "output_type": "stream",
     "text": [
      "\u001b[34m\u001b[1m\r",
      "[Training ] 151/1657 [=>............................] - ETA: 1:51:37  loss:2.3877 - accuracy:0.1250 - f1:0.1426 - gpu_mem:7.81G - lr1:0.0001499\u001b[0m"
     ]
    },
    {
     "name": "stdout",
     "output_type": "stream",
     "text": [
      "\u001b[34m\u001b[1m\r",
      "[Training ] 152/1657 [=>............................] - ETA: 1:51:32  loss:2.4003 - accuracy:0.0469 - f1:0.0548 - gpu_mem:7.81G - lr1:0.0001509\u001b[0m"
     ]
    },
    {
     "name": "stdout",
     "output_type": "stream",
     "text": [
      "\u001b[34m\u001b[1m\r",
      "[Training ] 153/1657 [=>............................] - ETA: 1:51:27  loss:2.4327 - accuracy:0.0625 - f1:0.0726 - gpu_mem:7.81G - lr1:0.0001519\u001b[0m"
     ]
    },
    {
     "name": "stdout",
     "output_type": "stream",
     "text": [
      "\u001b[34m\u001b[1m\r",
      "[Training ] 154/1657 [=>............................] - ETA: 1:51:22  loss:2.5356 - accuracy:0.0312 - f1:0.0148 - gpu_mem:7.81G - lr1:0.0001529\u001b[0m"
     ]
    },
    {
     "name": "stdout",
     "output_type": "stream",
     "text": [
      "\u001b[34m\u001b[1m\r",
      "[Training ] 155/1657 [=>............................] - ETA: 1:51:17  loss:2.4917 - accuracy:0.0781 - f1:0.0691 - gpu_mem:7.81G - lr1:0.0001539\u001b[0m"
     ]
    },
    {
     "name": "stdout",
     "output_type": "stream",
     "text": [
      "\u001b[34m\u001b[1m\r",
      "[Training ] 156/1657 [=>............................] - ETA: 1:51:12  loss:2.4878 - accuracy:0.0625 - f1:0.0571 - gpu_mem:7.81G - lr1:0.0001549\u001b[0m"
     ]
    },
    {
     "name": "stdout",
     "output_type": "stream",
     "text": [
      "\u001b[34m\u001b[1m\r",
      "[Training ] 157/1657 [=>............................] - ETA: 1:51:07  loss:2.4486 - accuracy:0.0469 - f1:0.0515 - gpu_mem:7.81G - lr1:0.0001559\u001b[0m"
     ]
    },
    {
     "name": "stdout",
     "output_type": "stream",
     "text": [
      "\u001b[34m\u001b[1m\r",
      "[Training ] 158/1657 [=>............................] - ETA: 1:51:02  loss:2.5193 - accuracy:0.0156 - f1:0.0140 - gpu_mem:7.81G - lr1:0.0001569\u001b[0m"
     ]
    },
    {
     "name": "stdout",
     "output_type": "stream",
     "text": [
      "\u001b[34m\u001b[1m\r",
      "[Training ] 159/1657 [=>............................] - ETA: 1:50:57  loss:2.5009 - accuracy:0.0312 - f1:0.0697 - gpu_mem:7.81G - lr1:0.0001579\u001b[0m"
     ]
    },
    {
     "name": "stdout",
     "output_type": "stream",
     "text": [
      "\u001b[34m\u001b[1m\r",
      "[Training ] 160/1657 [=>............................] - ETA: 1:50:52  loss:2.4290 - accuracy:0.0625 - f1:0.0397 - gpu_mem:7.81G - lr1:0.0001589\u001b[0m"
     ]
    },
    {
     "name": "stdout",
     "output_type": "stream",
     "text": [
      "\u001b[34m\u001b[1m\r",
      "[Training ] 161/1657 [=>............................] - ETA: 1:50:47  loss:2.4660 - accuracy:0.0625 - f1:0.0590 - gpu_mem:7.81G - lr1:0.0001599\u001b[0m"
     ]
    },
    {
     "name": "stdout",
     "output_type": "stream",
     "text": [
      "\u001b[34m\u001b[1m\r",
      "[Training ] 162/1657 [=>............................] - ETA: 1:50:42  loss:2.4218 - accuracy:0.0625 - f1:0.0485 - gpu_mem:7.81G - lr1:0.0001609\u001b[0m"
     ]
    },
    {
     "name": "stdout",
     "output_type": "stream",
     "text": [
      "\u001b[34m\u001b[1m\r",
      "[Training ] 163/1657 [=>............................] - ETA: 1:50:37  loss:2.4552 - accuracy:0.0469 - f1:0.0810 - gpu_mem:7.81G - lr1:0.0001619\u001b[0m"
     ]
    },
    {
     "name": "stdout",
     "output_type": "stream",
     "text": [
      "\u001b[34m\u001b[1m\r",
      "[Training ] 164/1657 [=>............................] - ETA: 1:50:33  loss:2.4976 - accuracy:0.0000 - f1:0.0000 - gpu_mem:7.81G - lr1:0.0001629\u001b[0m"
     ]
    },
    {
     "name": "stdout",
     "output_type": "stream",
     "text": [
      "\u001b[34m\u001b[1m\r",
      "[Training ] 165/1657 [=>............................] - ETA: 1:50:28  loss:2.4449 - accuracy:0.0938 - f1:0.0930 - gpu_mem:7.81G - lr1:0.0001640\u001b[0m"
     ]
    },
    {
     "name": "stdout",
     "output_type": "stream",
     "text": [
      "\u001b[34m\u001b[1m\r",
      "[Training ] 166/1657 [==>...........................] - ETA: 1:50:23  loss:2.4768 - accuracy:0.0156 - f1:0.0260 - gpu_mem:7.81G - lr1:0.0001650\u001b[0m"
     ]
    },
    {
     "name": "stdout",
     "output_type": "stream",
     "text": [
      "\u001b[34m\u001b[1m\r",
      "[Training ] 167/1657 [==>...........................] - ETA: 1:50:18  loss:2.4646 - accuracy:0.0625 - f1:0.0429 - gpu_mem:7.81G - lr1:0.0001660\u001b[0m"
     ]
    },
    {
     "name": "stdout",
     "output_type": "stream",
     "text": [
      "\u001b[34m\u001b[1m\r",
      "[Training ] 168/1657 [==>...........................] - ETA: 1:50:13  loss:2.5169 - accuracy:0.0469 - f1:0.0267 - gpu_mem:7.81G - lr1:0.0001670\u001b[0m"
     ]
    },
    {
     "name": "stdout",
     "output_type": "stream",
     "text": [
      "\u001b[34m\u001b[1m\r",
      "[Training ] 169/1657 [==>...........................] - ETA: 1:50:08  loss:2.4099 - accuracy:0.0312 - f1:0.0424 - gpu_mem:7.81G - lr1:0.0001680\u001b[0m"
     ]
    },
    {
     "name": "stdout",
     "output_type": "stream",
     "text": [
      "\u001b[34m\u001b[1m\r",
      "[Training ] 170/1657 [==>...........................] - ETA: 1:50:03  loss:2.5015 - accuracy:0.0000 - f1:0.0000 - gpu_mem:7.81G - lr1:0.0001690\u001b[0m"
     ]
    },
    {
     "name": "stdout",
     "output_type": "stream",
     "text": [
      "\u001b[34m\u001b[1m\r",
      "[Training ] 171/1657 [==>...........................] - ETA: 1:49:58  loss:2.4789 - accuracy:0.0312 - f1:0.0189 - gpu_mem:7.81G - lr1:0.0001700\u001b[0m"
     ]
    },
    {
     "name": "stdout",
     "output_type": "stream",
     "text": [
      "\u001b[34m\u001b[1m\r",
      "[Training ] 172/1657 [==>...........................] - ETA: 1:49:53  loss:2.4437 - accuracy:0.0625 - f1:0.0569 - gpu_mem:7.81G - lr1:0.0001710\u001b[0m"
     ]
    },
    {
     "name": "stdout",
     "output_type": "stream",
     "text": [
      "\u001b[34m\u001b[1m\r",
      "[Training ] 173/1657 [==>...........................] - ETA: 1:49:49  loss:2.4600 - accuracy:0.0312 - f1:0.0241 - gpu_mem:7.81G - lr1:0.0001720\u001b[0m"
     ]
    },
    {
     "name": "stdout",
     "output_type": "stream",
     "text": [
      "\u001b[34m\u001b[1m\r",
      "[Training ] 174/1657 [==>...........................] - ETA: 1:49:44  loss:2.4531 - accuracy:0.0781 - f1:0.0636 - gpu_mem:7.81G - lr1:0.0001730\u001b[0m"
     ]
    },
    {
     "name": "stdout",
     "output_type": "stream",
     "text": [
      "\u001b[34m\u001b[1m\r",
      "[Training ] 175/1657 [==>...........................] - ETA: 1:49:39  loss:2.4542 - accuracy:0.0312 - f1:0.0606 - gpu_mem:7.81G - lr1:0.0001740\u001b[0m"
     ]
    },
    {
     "name": "stdout",
     "output_type": "stream",
     "text": [
      "\u001b[34m\u001b[1m\r",
      "[Training ] 176/1657 [==>...........................] - ETA: 1:49:34  loss:2.4299 - accuracy:0.0312 - f1:0.0154 - gpu_mem:7.81G - lr1:0.0001750\u001b[0m"
     ]
    },
    {
     "name": "stdout",
     "output_type": "stream",
     "text": [
      "\u001b[34m\u001b[1m\r",
      "[Training ] 177/1657 [==>...........................] - ETA: 1:49:29  loss:2.4952 - accuracy:0.0312 - f1:0.0376 - gpu_mem:7.81G - lr1:0.0001760\u001b[0m"
     ]
    },
    {
     "name": "stdout",
     "output_type": "stream",
     "text": [
      "\u001b[34m\u001b[1m\r",
      "[Training ] 178/1657 [==>...........................] - ETA: 1:49:24  loss:2.4669 - accuracy:0.0938 - f1:0.0667 - gpu_mem:7.81G - lr1:0.0001770\u001b[0m"
     ]
    },
    {
     "name": "stdout",
     "output_type": "stream",
     "text": [
      "\u001b[34m\u001b[1m\r",
      "[Training ] 179/1657 [==>...........................] - ETA: 1:49:20  loss:2.5020 - accuracy:0.0469 - f1:0.0803 - gpu_mem:7.81G - lr1:0.0001780\u001b[0m"
     ]
    },
    {
     "name": "stdout",
     "output_type": "stream",
     "text": [
      "\u001b[34m\u001b[1m\r",
      "[Training ] 180/1657 [==>...........................] - ETA: 1:49:15  loss:2.4657 - accuracy:0.0156 - f1:0.0165 - gpu_mem:7.81G - lr1:0.0001790\u001b[0m"
     ]
    },
    {
     "name": "stdout",
     "output_type": "stream",
     "text": [
      "\u001b[34m\u001b[1m\r",
      "[Training ] 181/1657 [==>...........................] - ETA: 1:49:10  loss:2.5234 - accuracy:0.0156 - f1:0.0101 - gpu_mem:7.81G - lr1:0.0001800\u001b[0m"
     ]
    },
    {
     "name": "stdout",
     "output_type": "stream",
     "text": [
      "\u001b[34m\u001b[1m\r",
      "[Training ] 182/1657 [==>...........................] - ETA: 1:49:05  loss:2.4638 - accuracy:0.0781 - f1:0.0752 - gpu_mem:7.81G - lr1:0.0001811\u001b[0m"
     ]
    },
    {
     "name": "stdout",
     "output_type": "stream",
     "text": [
      "\u001b[34m\u001b[1m\r",
      "[Training ] 183/1657 [==>...........................] - ETA: 1:49:00  loss:2.4617 - accuracy:0.0781 - f1:0.0365 - gpu_mem:7.81G - lr1:0.0001821\u001b[0m"
     ]
    },
    {
     "name": "stdout",
     "output_type": "stream",
     "text": [
      "\u001b[34m\u001b[1m\r",
      "[Training ] 184/1657 [==>...........................] - ETA: 1:48:56  loss:2.4386 - accuracy:0.0938 - f1:0.1045 - gpu_mem:7.81G - lr1:0.0001831\u001b[0m"
     ]
    },
    {
     "name": "stdout",
     "output_type": "stream",
     "text": [
      "\u001b[34m\u001b[1m\r",
      "[Training ] 185/1657 [==>...........................] - ETA: 1:48:51  loss:2.4376 - accuracy:0.0625 - f1:0.0343 - gpu_mem:7.81G - lr1:0.0001841\u001b[0m"
     ]
    },
    {
     "name": "stdout",
     "output_type": "stream",
     "text": [
      "\u001b[34m\u001b[1m\r",
      "[Training ] 186/1657 [==>...........................] - ETA: 1:48:46  loss:2.4083 - accuracy:0.1250 - f1:0.1517 - gpu_mem:7.81G - lr1:0.0001851\u001b[0m"
     ]
    },
    {
     "name": "stdout",
     "output_type": "stream",
     "text": [
      "\u001b[34m\u001b[1m\r",
      "[Training ] 187/1657 [==>...........................] - ETA: 1:48:41  loss:2.4777 - accuracy:0.0781 - f1:0.1221 - gpu_mem:7.81G - lr1:0.0001861\u001b[0m"
     ]
    },
    {
     "name": "stdout",
     "output_type": "stream",
     "text": [
      "\u001b[34m\u001b[1m\r",
      "[Training ] 188/1657 [==>...........................] - ETA: 1:48:37  loss:2.4759 - accuracy:0.0156 - f1:0.0087 - gpu_mem:7.81G - lr1:0.0001871\u001b[0m"
     ]
    },
    {
     "name": "stdout",
     "output_type": "stream",
     "text": [
      "\u001b[34m\u001b[1m\r",
      "[Training ] 189/1657 [==>...........................] - ETA: 1:48:32  loss:2.4151 - accuracy:0.0625 - f1:0.0623 - gpu_mem:7.81G - lr1:0.0001881\u001b[0m"
     ]
    },
    {
     "name": "stdout",
     "output_type": "stream",
     "text": [
      "\u001b[34m\u001b[1m\r",
      "[Training ] 190/1657 [==>...........................] - ETA: 1:48:27  loss:2.3893 - accuracy:0.1875 - f1:0.1821 - gpu_mem:7.81G - lr1:0.0001891\u001b[0m"
     ]
    },
    {
     "name": "stdout",
     "output_type": "stream",
     "text": [
      "\u001b[34m\u001b[1m\r",
      "[Training ] 191/1657 [==>...........................] - ETA: 1:48:22  loss:2.4556 - accuracy:0.1094 - f1:0.0949 - gpu_mem:7.81G - lr1:0.0001901\u001b[0m"
     ]
    },
    {
     "name": "stdout",
     "output_type": "stream",
     "text": [
      "\u001b[34m\u001b[1m\r",
      "[Training ] 192/1657 [==>...........................] - ETA: 1:48:18  loss:2.4354 - accuracy:0.0469 - f1:0.0723 - gpu_mem:7.81G - lr1:0.0001911\u001b[0m"
     ]
    },
    {
     "name": "stdout",
     "output_type": "stream",
     "text": [
      "\u001b[34m\u001b[1m\r",
      "[Training ] 193/1657 [==>...........................] - ETA: 1:48:13  loss:2.4455 - accuracy:0.0469 - f1:0.0587 - gpu_mem:7.81G - lr1:0.0001921\u001b[0m"
     ]
    },
    {
     "name": "stdout",
     "output_type": "stream",
     "text": [
      "\u001b[34m\u001b[1m\r",
      "[Training ] 194/1657 [==>...........................] - ETA: 1:48:08  loss:2.4286 - accuracy:0.1094 - f1:0.0937 - gpu_mem:7.81G - lr1:0.0001931\u001b[0m"
     ]
    },
    {
     "name": "stdout",
     "output_type": "stream",
     "text": [
      "\u001b[34m\u001b[1m\r",
      "[Training ] 195/1657 [==>...........................] - ETA: 1:48:03  loss:2.4742 - accuracy:0.0312 - f1:0.0347 - gpu_mem:7.81G - lr1:0.0001941\u001b[0m"
     ]
    },
    {
     "name": "stdout",
     "output_type": "stream",
     "text": [
      "\u001b[34m\u001b[1m\r",
      "[Training ] 196/1657 [==>...........................] - ETA: 1:47:59  loss:2.4327 - accuracy:0.0625 - f1:0.0487 - gpu_mem:7.81G - lr1:0.0001951\u001b[0m"
     ]
    },
    {
     "name": "stdout",
     "output_type": "stream",
     "text": [
      "\u001b[34m\u001b[1m\r",
      "[Training ] 197/1657 [==>...........................] - ETA: 1:47:54  loss:2.4648 - accuracy:0.1094 - f1:0.0976 - gpu_mem:7.81G - lr1:0.0001961\u001b[0m"
     ]
    },
    {
     "name": "stdout",
     "output_type": "stream",
     "text": [
      "\u001b[34m\u001b[1m\r",
      "[Training ] 198/1657 [==>...........................] - ETA: 1:47:49  loss:2.4515 - accuracy:0.0781 - f1:0.0908 - gpu_mem:7.81G - lr1:0.0001971\u001b[0m"
     ]
    },
    {
     "name": "stdout",
     "output_type": "stream",
     "text": [
      "\u001b[34m\u001b[1m\r",
      "[Training ] 199/1657 [==>...........................] - ETA: 1:47:44  loss:2.4055 - accuracy:0.0781 - f1:0.0644 - gpu_mem:7.81G - lr1:0.0001981\u001b[0m"
     ]
    },
    {
     "name": "stdout",
     "output_type": "stream",
     "text": [
      "\u001b[34m\u001b[1m\r",
      "[Training ] 200/1657 [==>...........................] - ETA: 1:47:40  loss:2.4127 - accuracy:0.0938 - f1:0.1162 - gpu_mem:7.81G - lr1:0.0001992\u001b[0m"
     ]
    },
    {
     "name": "stdout",
     "output_type": "stream",
     "text": [
      "\u001b[34m\u001b[1m\r",
      "[Training ] 201/1657 [==>...........................] - ETA: 1:47:35  loss:2.4454 - accuracy:0.0469 - f1:0.0417 - gpu_mem:7.81G - lr1:0.0002002\u001b[0m"
     ]
    },
    {
     "name": "stdout",
     "output_type": "stream",
     "text": [
      "\u001b[34m\u001b[1m\r",
      "[Training ] 202/1657 [==>...........................] - ETA: 1:47:30  loss:2.4646 - accuracy:0.0312 - f1:0.0253 - gpu_mem:7.81G - lr1:0.0002012\u001b[0m"
     ]
    },
    {
     "name": "stdout",
     "output_type": "stream",
     "text": [
      "\u001b[34m\u001b[1m\r",
      "[Training ] 203/1657 [==>...........................] - ETA: 1:47:25  loss:2.4401 - accuracy:0.0312 - f1:0.0293 - gpu_mem:7.81G - lr1:0.0002022\u001b[0m"
     ]
    },
    {
     "name": "stdout",
     "output_type": "stream",
     "text": [
      "\u001b[34m\u001b[1m\r",
      "[Training ] 204/1657 [==>...........................] - ETA: 1:47:21  loss:2.4177 - accuracy:0.0938 - f1:0.1173 - gpu_mem:7.81G - lr1:0.0002032\u001b[0m"
     ]
    },
    {
     "name": "stdout",
     "output_type": "stream",
     "text": [
      "\u001b[34m\u001b[1m\r",
      "[Training ] 205/1657 [==>...........................] - ETA: 1:47:16  loss:2.4163 - accuracy:0.0312 - f1:0.0261 - gpu_mem:7.81G - lr1:0.0002042\u001b[0m"
     ]
    },
    {
     "name": "stdout",
     "output_type": "stream",
     "text": [
      "\u001b[34m\u001b[1m\r",
      "[Training ] 206/1657 [==>...........................] - ETA: 1:47:11  loss:2.4654 - accuracy:0.0625 - f1:0.0430 - gpu_mem:7.81G - lr1:0.0002052\u001b[0m"
     ]
    },
    {
     "name": "stdout",
     "output_type": "stream",
     "text": [
      "\u001b[34m\u001b[1m\r",
      "[Training ] 207/1657 [==>...........................] - ETA: 1:47:06  loss:2.4355 - accuracy:0.0625 - f1:0.0659 - gpu_mem:7.81G - lr1:0.0002062\u001b[0m"
     ]
    },
    {
     "name": "stdout",
     "output_type": "stream",
     "text": [
      "\u001b[34m\u001b[1m\r",
      "[Training ] 208/1657 [==>...........................] - ETA: 1:47:02  loss:2.3817 - accuracy:0.0938 - f1:0.0765 - gpu_mem:7.81G - lr1:0.0002072\u001b[0m"
     ]
    },
    {
     "name": "stdout",
     "output_type": "stream",
     "text": [
      "\u001b[34m\u001b[1m\r",
      "[Training ] 209/1657 [==>...........................] - ETA: 1:46:57  loss:2.4368 - accuracy:0.0156 - f1:0.0165 - gpu_mem:7.81G - lr1:0.0002082\u001b[0m"
     ]
    },
    {
     "name": "stdout",
     "output_type": "stream",
     "text": [
      "\u001b[34m\u001b[1m\r",
      "[Training ] 210/1657 [==>...........................] - ETA: 1:46:53  loss:2.4192 - accuracy:0.0469 - f1:0.0823 - gpu_mem:7.81G - lr1:0.0002092\u001b[0m"
     ]
    },
    {
     "name": "stdout",
     "output_type": "stream",
     "text": [
      "\u001b[34m\u001b[1m\r",
      "[Training ] 211/1657 [==>...........................] - ETA: 1:46:48  loss:2.3699 - accuracy:0.0938 - f1:0.0914 - gpu_mem:7.81G - lr1:0.0002102\u001b[0m"
     ]
    },
    {
     "name": "stdout",
     "output_type": "stream",
     "text": [
      "\u001b[34m\u001b[1m\r",
      "[Training ] 212/1657 [==>...........................] - ETA: 1:46:43  loss:2.4709 - accuracy:0.0156 - f1:0.0165 - gpu_mem:7.81G - lr1:0.0002112\u001b[0m"
     ]
    },
    {
     "name": "stdout",
     "output_type": "stream",
     "text": [
      "\u001b[34m\u001b[1m\r",
      "[Training ] 213/1657 [==>...........................] - ETA: 1:46:38  loss:2.4382 - accuracy:0.0938 - f1:0.0875 - gpu_mem:7.81G - lr1:0.0002122\u001b[0m"
     ]
    },
    {
     "name": "stdout",
     "output_type": "stream",
     "text": [
      "\u001b[34m\u001b[1m\r",
      "[Training ] 214/1657 [==>...........................] - ETA: 1:46:34  loss:2.3941 - accuracy:0.0625 - f1:0.0691 - gpu_mem:7.81G - lr1:0.0002132\u001b[0m"
     ]
    },
    {
     "name": "stdout",
     "output_type": "stream",
     "text": [
      "\u001b[34m\u001b[1m\r",
      "[Training ] 215/1657 [==>...........................] - ETA: 1:46:29  loss:2.4756 - accuracy:0.0312 - f1:0.0206 - gpu_mem:7.81G - lr1:0.0002142\u001b[0m"
     ]
    },
    {
     "name": "stdout",
     "output_type": "stream",
     "text": [
      "\u001b[34m\u001b[1m\r",
      "[Training ] 216/1657 [==>...........................] - ETA: 1:46:24  loss:2.4347 - accuracy:0.1094 - f1:0.0876 - gpu_mem:7.81G - lr1:0.0002152\u001b[0m"
     ]
    },
    {
     "name": "stdout",
     "output_type": "stream",
     "text": [
      "\u001b[34m\u001b[1m\r",
      "[Training ] 217/1657 [==>...........................] - ETA: 1:46:20  loss:2.4463 - accuracy:0.0312 - f1:0.0411 - gpu_mem:7.81G - lr1:0.0002163\u001b[0m"
     ]
    },
    {
     "name": "stdout",
     "output_type": "stream",
     "text": [
      "\u001b[34m\u001b[1m\r",
      "[Training ] 218/1657 [==>...........................] - ETA: 1:46:15  loss:2.4469 - accuracy:0.0469 - f1:0.0311 - gpu_mem:7.81G - lr1:0.0002173\u001b[0m"
     ]
    },
    {
     "name": "stdout",
     "output_type": "stream",
     "text": [
      "\u001b[34m\u001b[1m\r",
      "[Training ] 219/1657 [==>...........................] - ETA: 1:46:10  loss:2.4823 - accuracy:0.0156 - f1:0.0079 - gpu_mem:7.81G - lr1:0.0002183\u001b[0m"
     ]
    },
    {
     "name": "stdout",
     "output_type": "stream",
     "text": [
      "\u001b[34m\u001b[1m\r",
      "[Training ] 220/1657 [==>...........................] - ETA: 1:46:06  loss:2.4456 - accuracy:0.0625 - f1:0.0438 - gpu_mem:7.81G - lr1:0.0002193\u001b[0m"
     ]
    },
    {
     "name": "stdout",
     "output_type": "stream",
     "text": [
      "\u001b[34m\u001b[1m\r",
      "[Training ] 221/1657 [===>..........................] - ETA: 1:46:01  loss:2.4377 - accuracy:0.0625 - f1:0.0736 - gpu_mem:7.81G - lr1:0.0002203\u001b[0m"
     ]
    },
    {
     "name": "stdout",
     "output_type": "stream",
     "text": [
      "\u001b[34m\u001b[1m\r",
      "[Training ] 222/1657 [===>..........................] - ETA: 1:45:56  loss:2.4678 - accuracy:0.0469 - f1:0.0491 - gpu_mem:7.81G - lr1:0.0002213\u001b[0m"
     ]
    },
    {
     "name": "stdout",
     "output_type": "stream",
     "text": [
      "\u001b[34m\u001b[1m\r",
      "[Training ] 223/1657 [===>..........................] - ETA: 1:45:52  loss:2.3879 - accuracy:0.1094 - f1:0.1099 - gpu_mem:7.81G - lr1:0.0002223\u001b[0m"
     ]
    },
    {
     "name": "stdout",
     "output_type": "stream",
     "text": [
      "\u001b[34m\u001b[1m\r",
      "[Training ] 224/1657 [===>..........................] - ETA: 1:45:47  loss:2.4239 - accuracy:0.0938 - f1:0.1463 - gpu_mem:7.81G - lr1:0.0002233\u001b[0m"
     ]
    },
    {
     "name": "stdout",
     "output_type": "stream",
     "text": [
      "\u001b[34m\u001b[1m\r",
      "[Training ] 225/1657 [===>..........................] - ETA: 1:45:43  loss:2.4248 - accuracy:0.0938 - f1:0.0718 - gpu_mem:7.81G - lr1:0.0002243\u001b[0m"
     ]
    },
    {
     "name": "stdout",
     "output_type": "stream",
     "text": [
      "\u001b[34m\u001b[1m\r",
      "[Training ] 226/1657 [===>..........................] - ETA: 1:45:38  loss:2.4417 - accuracy:0.0938 - f1:0.0766 - gpu_mem:7.81G\u001b[0m"
     ]
    },
    {
     "name": "stdout",
     "output_type": "stream",
     "text": [
      "\u001b[34m\u001b[1m\r",
      "[Training ] 227/1657 [===>..........................] - ETA: 1:45:33  loss:2.4198 - accuracy:0.0781 - f1:0.0584 - gpu_mem:7.81G - lr1:0.0002253\u001b[0m"
     ]
    },
    {
     "name": "stdout",
     "output_type": "stream",
     "text": [
      "\u001b[34m\u001b[1m\r",
      "[Training ] 228/1657 [===>..........................] - ETA: 1:45:29  loss:2.3896 - accuracy:0.0469 - f1:0.0417 - gpu_mem:7.81G - lr1:0.0002263\u001b[0m"
     ]
    },
    {
     "name": "stdout",
     "output_type": "stream",
     "text": [
      "\u001b[34m\u001b[1m\r",
      "[Training ] 229/1657 [===>..........................] - ETA: 1:45:24  loss:2.3846 - accuracy:0.0938 - f1:0.1276 - gpu_mem:7.81G - lr1:0.0002273\u001b[0m"
     ]
    },
    {
     "name": "stdout",
     "output_type": "stream",
     "text": [
      "\u001b[34m\u001b[1m\r",
      "[Training ] 230/1657 [===>..........................] - ETA: 1:45:19  loss:2.3945 - accuracy:0.1562 - f1:0.0869 - gpu_mem:7.81G - lr1:0.0002283\u001b[0m"
     ]
    },
    {
     "name": "stdout",
     "output_type": "stream",
     "text": [
      "\u001b[34m\u001b[1m\r",
      "[Training ] 231/1657 [===>..........................] - ETA: 1:45:15  loss:2.4282 - accuracy:0.0625 - f1:0.0334 - gpu_mem:7.81G - lr1:0.0002293\u001b[0m"
     ]
    },
    {
     "name": "stdout",
     "output_type": "stream",
     "text": [
      "\u001b[34m\u001b[1m\r",
      "[Training ] 232/1657 [===>..........................] - ETA: 1:45:10  loss:2.4027 - accuracy:0.0625 - f1:0.0518 - gpu_mem:7.81G - lr1:0.0002303\u001b[0m"
     ]
    },
    {
     "name": "stdout",
     "output_type": "stream",
     "text": [
      "\u001b[34m\u001b[1m\r",
      "[Training ] 233/1657 [===>..........................] - ETA: 1:45:05  loss:2.4297 - accuracy:0.0469 - f1:0.0272 - gpu_mem:7.81G - lr1:0.0002313\u001b[0m"
     ]
    },
    {
     "name": "stdout",
     "output_type": "stream",
     "text": [
      "\u001b[34m\u001b[1m\r",
      "[Training ] 234/1657 [===>..........................] - ETA: 1:45:01  loss:2.3648 - accuracy:0.1094 - f1:0.0804 - gpu_mem:7.81G - lr1:0.0002323\u001b[0m"
     ]
    },
    {
     "name": "stdout",
     "output_type": "stream",
     "text": [
      "\u001b[34m\u001b[1m\r",
      "[Training ] 235/1657 [===>..........................] - ETA: 1:44:56  loss:2.4534 - accuracy:0.0469 - f1:0.0469 - gpu_mem:7.81G - lr1:0.0002334\u001b[0m"
     ]
    },
    {
     "name": "stdout",
     "output_type": "stream",
     "text": [
      "\u001b[34m\u001b[1m\r",
      "[Training ] 236/1657 [===>..........................] - ETA: 1:44:51  loss:2.3932 - accuracy:0.1094 - f1:0.0798 - gpu_mem:7.81G - lr1:0.0002344\u001b[0m"
     ]
    },
    {
     "name": "stdout",
     "output_type": "stream",
     "text": [
      "\u001b[34m\u001b[1m\r",
      "[Training ] 237/1657 [===>..........................] - ETA: 1:44:47  loss:2.4344 - accuracy:0.0625 - f1:0.0557 - gpu_mem:7.81G - lr1:0.0002354\u001b[0m"
     ]
    },
    {
     "name": "stdout",
     "output_type": "stream",
     "text": [
      "\u001b[34m\u001b[1m\r",
      "[Training ] 238/1657 [===>..........................] - ETA: 1:44:42  loss:2.4129 - accuracy:0.0781 - f1:0.0705 - gpu_mem:7.81G - lr1:0.0002364\u001b[0m"
     ]
    },
    {
     "name": "stdout",
     "output_type": "stream",
     "text": [
      "\u001b[34m\u001b[1m\r",
      "[Training ] 239/1657 [===>..........................] - ETA: 1:44:38  loss:2.4021 - accuracy:0.1094 - f1:0.1035 - gpu_mem:7.81G - lr1:0.0002374\u001b[0m"
     ]
    },
    {
     "name": "stdout",
     "output_type": "stream",
     "text": [
      "\u001b[34m\u001b[1m\r",
      "[Training ] 240/1657 [===>..........................] - ETA: 1:44:33  loss:2.4186 - accuracy:0.0938 - f1:0.0884 - gpu_mem:7.81G - lr1:0.0002384\u001b[0m"
     ]
    },
    {
     "name": "stdout",
     "output_type": "stream",
     "text": [
      "\u001b[34m\u001b[1m\r",
      "[Training ] 241/1657 [===>..........................] - ETA: 1:44:28  loss:2.4469 - accuracy:0.0938 - f1:0.0788 - gpu_mem:7.81G - lr1:0.0002394\u001b[0m"
     ]
    },
    {
     "name": "stdout",
     "output_type": "stream",
     "text": [
      "\u001b[34m\u001b[1m\r",
      "[Training ] 242/1657 [===>..........................] - ETA: 1:44:24  loss:2.4292 - accuracy:0.0781 - f1:0.0393 - gpu_mem:7.81G - lr1:0.0002404\u001b[0m"
     ]
    },
    {
     "name": "stdout",
     "output_type": "stream",
     "text": [
      "\u001b[34m\u001b[1m\r",
      "[Training ] 243/1657 [===>..........................] - ETA: 1:44:19  loss:2.4354 - accuracy:0.0625 - f1:0.0473 - gpu_mem:7.81G - lr1:0.0002414\u001b[0m"
     ]
    },
    {
     "name": "stdout",
     "output_type": "stream",
     "text": [
      "\u001b[34m\u001b[1m\r",
      "[Training ] 244/1657 [===>..........................] - ETA: 1:44:15  loss:2.4492 - accuracy:0.0625 - f1:0.0375 - gpu_mem:7.81G - lr1:0.0002424\u001b[0m"
     ]
    },
    {
     "name": "stdout",
     "output_type": "stream",
     "text": [
      "\u001b[34m\u001b[1m\r",
      "[Training ] 245/1657 [===>..........................] - ETA: 1:44:10  loss:2.4294 - accuracy:0.1562 - f1:0.0888 - gpu_mem:7.81G - lr1:0.0002434\u001b[0m"
     ]
    },
    {
     "name": "stdout",
     "output_type": "stream",
     "text": [
      "\u001b[34m\u001b[1m\r",
      "[Training ] 246/1657 [===>..........................] - ETA: 1:44:06  loss:2.3799 - accuracy:0.1094 - f1:0.0636 - gpu_mem:7.81G - lr1:0.0002444\u001b[0m"
     ]
    },
    {
     "name": "stdout",
     "output_type": "stream",
     "text": [
      "\u001b[34m\u001b[1m\r",
      "[Training ] 247/1657 [===>..........................] - ETA: 1:44:01  loss:2.3895 - accuracy:0.0938 - f1:0.0465 - gpu_mem:7.81G - lr1:0.0002454\u001b[0m"
     ]
    },
    {
     "name": "stdout",
     "output_type": "stream",
     "text": [
      "\u001b[34m\u001b[1m\r",
      "[Training ] 248/1657 [===>..........................] - ETA: 1:43:56  loss:2.4238 - accuracy:0.0938 - f1:0.0664 - gpu_mem:7.81G - lr1:0.0002464\u001b[0m"
     ]
    },
    {
     "name": "stdout",
     "output_type": "stream",
     "text": [
      "\u001b[34m\u001b[1m\r",
      "[Training ] 249/1657 [===>..........................] - ETA: 1:43:52  loss:2.3238 - accuracy:0.2031 - f1:0.1035 - gpu_mem:7.81G - lr1:0.0002474\u001b[0m"
     ]
    },
    {
     "name": "stdout",
     "output_type": "stream",
     "text": [
      "\u001b[34m\u001b[1m\r",
      "[Training ] 250/1657 [===>..........................] - ETA: 1:43:47  loss:2.4454 - accuracy:0.0781 - f1:0.0605 - gpu_mem:7.81G - lr1:0.0002484\u001b[0m"
     ]
    },
    {
     "name": "stdout",
     "output_type": "stream",
     "text": [
      "\u001b[34m\u001b[1m\r",
      "[Training ] 251/1657 [===>..........................] - ETA: 1:43:43  loss:2.4342 - accuracy:0.0312 - f1:0.0192 - gpu_mem:7.81G - lr1:0.0002494\u001b[0m"
     ]
    },
    {
     "name": "stdout",
     "output_type": "stream",
     "text": [
      "\u001b[34m\u001b[1m\r",
      "[Training ] 252/1657 [===>..........................] - ETA: 1:43:38  loss:2.4188 - accuracy:0.0781 - f1:0.0341 - gpu_mem:7.81G - lr1:0.0002505\u001b[0m"
     ]
    },
    {
     "name": "stdout",
     "output_type": "stream",
     "text": [
      "\u001b[34m\u001b[1m\r",
      "[Training ] 253/1657 [===>..........................] - ETA: 1:43:33  loss:2.4256 - accuracy:0.1094 - f1:0.0654 - gpu_mem:7.81G - lr1:0.0002515\u001b[0m"
     ]
    },
    {
     "name": "stdout",
     "output_type": "stream",
     "text": [
      "\u001b[34m\u001b[1m\r",
      "[Training ] 254/1657 [===>..........................] - ETA: 1:43:29  loss:2.3977 - accuracy:0.0938 - f1:0.1001 - gpu_mem:7.81G - lr1:0.0002525\u001b[0m"
     ]
    },
    {
     "name": "stdout",
     "output_type": "stream",
     "text": [
      "\u001b[34m\u001b[1m\r",
      "[Training ] 255/1657 [===>..........................] - ETA: 1:43:24  loss:2.4072 - accuracy:0.0781 - f1:0.0431 - gpu_mem:7.81G - lr1:0.0002535\u001b[0m"
     ]
    },
    {
     "name": "stdout",
     "output_type": "stream",
     "text": [
      "\u001b[34m\u001b[1m\r",
      "[Training ] 256/1657 [===>..........................] - ETA: 1:43:20  loss:2.4361 - accuracy:0.1094 - f1:0.0662 - gpu_mem:7.81G - lr1:0.0002545\u001b[0m"
     ]
    },
    {
     "name": "stdout",
     "output_type": "stream",
     "text": [
      "\u001b[34m\u001b[1m\r",
      "[Training ] 257/1657 [===>..........................] - ETA: 1:43:15  loss:2.4500 - accuracy:0.0781 - f1:0.0275 - gpu_mem:7.81G - lr1:0.0002555\u001b[0m"
     ]
    },
    {
     "name": "stdout",
     "output_type": "stream",
     "text": [
      "\u001b[34m\u001b[1m\r",
      "[Training ] 258/1657 [===>..........................] - ETA: 1:43:11  loss:2.3920 - accuracy:0.0781 - f1:0.0455 - gpu_mem:7.81G - lr1:0.0002565\u001b[0m"
     ]
    },
    {
     "name": "stdout",
     "output_type": "stream",
     "text": [
      "\u001b[34m\u001b[1m\r",
      "[Training ] 259/1657 [===>..........................] - ETA: 1:43:06  loss:2.3453 - accuracy:0.1875 - f1:0.1663 - gpu_mem:7.81G - lr1:0.0002575\u001b[0m"
     ]
    },
    {
     "name": "stdout",
     "output_type": "stream",
     "text": [
      "\u001b[34m\u001b[1m\r",
      "[Training ] 260/1657 [===>..........................] - ETA: 1:43:02  loss:2.4288 - accuracy:0.1250 - f1:0.1027 - gpu_mem:7.81G - lr1:0.0002585\u001b[0m"
     ]
    },
    {
     "name": "stdout",
     "output_type": "stream",
     "text": [
      "\u001b[34m\u001b[1m\r",
      "[Training ] 261/1657 [===>..........................] - ETA: 1:42:57  loss:2.3788 - accuracy:0.1562 - f1:0.1042 - gpu_mem:7.81G - lr1:0.0002595\u001b[0m"
     ]
    },
    {
     "name": "stdout",
     "output_type": "stream",
     "text": [
      "\u001b[34m\u001b[1m\r",
      "[Training ] 262/1657 [===>..........................] - ETA: 1:42:52  loss:2.3636 - accuracy:0.1094 - f1:0.0924 - gpu_mem:7.81G - lr1:0.0002605\u001b[0m"
     ]
    },
    {
     "name": "stdout",
     "output_type": "stream",
     "text": [
      "\u001b[34m\u001b[1m\r",
      "[Training ] 263/1657 [===>..........................] - ETA: 1:42:48  loss:2.3843 - accuracy:0.1094 - f1:0.0920 - gpu_mem:7.81G - lr1:0.0002615\u001b[0m"
     ]
    },
    {
     "name": "stdout",
     "output_type": "stream",
     "text": [
      "\u001b[34m\u001b[1m\r",
      "[Training ] 264/1657 [===>..........................] - ETA: 1:42:43  loss:2.4203 - accuracy:0.1094 - f1:0.0603 - gpu_mem:7.81G - lr1:0.0002625\u001b[0m"
     ]
    },
    {
     "name": "stdout",
     "output_type": "stream",
     "text": [
      "\u001b[34m\u001b[1m\r",
      "[Training ] 265/1657 [===>..........................] - ETA: 1:42:39  loss:2.3900 - accuracy:0.1094 - f1:0.0863 - gpu_mem:7.81G - lr1:0.0002635\u001b[0m"
     ]
    },
    {
     "name": "stdout",
     "output_type": "stream",
     "text": [
      "\u001b[34m\u001b[1m\r",
      "[Training ] 266/1657 [===>..........................] - ETA: 1:42:34  loss:2.4041 - accuracy:0.0938 - f1:0.0733 - gpu_mem:7.81G - lr1:0.0002645\u001b[0m"
     ]
    },
    {
     "name": "stdout",
     "output_type": "stream",
     "text": [
      "\u001b[34m\u001b[1m\r",
      "[Training ] 267/1657 [===>..........................] - ETA: 1:42:30  loss:2.3370 - accuracy:0.1875 - f1:0.1283 - gpu_mem:7.81G - lr1:0.0002655\u001b[0m"
     ]
    },
    {
     "name": "stdout",
     "output_type": "stream",
     "text": [
      "\u001b[34m\u001b[1m\r",
      "[Training ] 268/1657 [===>..........................] - ETA: 1:42:25  loss:2.3805 - accuracy:0.1094 - f1:0.0462 - gpu_mem:7.81G - lr1:0.0002665\u001b[0m"
     ]
    },
    {
     "name": "stdout",
     "output_type": "stream",
     "text": [
      "\u001b[34m\u001b[1m\r",
      "[Training ] 269/1657 [===>..........................] - ETA: 1:42:20  loss:2.4126 - accuracy:0.0781 - f1:0.0490 - gpu_mem:7.81G - lr1:0.0002676\u001b[0m"
     ]
    },
    {
     "name": "stdout",
     "output_type": "stream",
     "text": [
      "\u001b[34m\u001b[1m\r",
      "[Training ] 270/1657 [===>..........................] - ETA: 1:42:16  loss:2.3891 - accuracy:0.1719 - f1:0.0895 - gpu_mem:7.81G - lr1:0.0002686\u001b[0m"
     ]
    },
    {
     "name": "stdout",
     "output_type": "stream",
     "text": [
      "\u001b[34m\u001b[1m\r",
      "[Training ] 271/1657 [===>..........................] - ETA: 1:42:11  loss:2.4275 - accuracy:0.0781 - f1:0.0426 - gpu_mem:7.81G - lr1:0.0002696\u001b[0m"
     ]
    },
    {
     "name": "stdout",
     "output_type": "stream",
     "text": [
      "\u001b[34m\u001b[1m\r",
      "[Training ] 272/1657 [===>..........................] - ETA: 1:42:07  loss:2.3905 - accuracy:0.1406 - f1:0.1190 - gpu_mem:7.81G - lr1:0.0002706\u001b[0m"
     ]
    },
    {
     "name": "stdout",
     "output_type": "stream",
     "text": [
      "\u001b[34m\u001b[1m\r",
      "[Training ] 273/1657 [===>..........................] - ETA: 1:42:02  loss:2.4249 - accuracy:0.0625 - f1:0.0335 - gpu_mem:7.81G - lr1:0.0002716\u001b[0m"
     ]
    },
    {
     "name": "stdout",
     "output_type": "stream",
     "text": [
      "\u001b[34m\u001b[1m\r",
      "[Training ] 274/1657 [===>..........................] - ETA: 1:41:58  loss:2.4033 - accuracy:0.1250 - f1:0.0861 - gpu_mem:7.81G - lr1:0.0002726\u001b[0m"
     ]
    },
    {
     "name": "stdout",
     "output_type": "stream",
     "text": [
      "\u001b[34m\u001b[1m\r",
      "[Training ] 275/1657 [===>..........................] - ETA: 1:41:53  loss:2.3410 - accuracy:0.1406 - f1:0.0938 - gpu_mem:7.81G - lr1:0.0002736\u001b[0m"
     ]
    },
    {
     "name": "stdout",
     "output_type": "stream",
     "text": [
      "\u001b[34m\u001b[1m\r",
      "[Training ] 276/1657 [===>..........................] - ETA: 1:41:49  loss:2.3509 - accuracy:0.1875 - f1:0.0750 - gpu_mem:7.81G - lr1:0.0002746\u001b[0m"
     ]
    },
    {
     "name": "stdout",
     "output_type": "stream",
     "text": [
      "\u001b[34m\u001b[1m\r",
      "[Training ] 277/1657 [====>.........................] - ETA: 1:41:44  loss:2.3397 - accuracy:0.1406 - f1:0.0672 - gpu_mem:7.81G - lr1:0.0002756\u001b[0m"
     ]
    },
    {
     "name": "stdout",
     "output_type": "stream",
     "text": [
      "\u001b[34m\u001b[1m\r",
      "[Training ] 278/1657 [====>.........................] - ETA: 1:41:40  loss:2.4024 - accuracy:0.0938 - f1:0.0791 - gpu_mem:7.81G - lr1:0.0002766\u001b[0m"
     ]
    },
    {
     "name": "stdout",
     "output_type": "stream",
     "text": [
      "\u001b[34m\u001b[1m\r",
      "[Training ] 279/1657 [====>.........................] - ETA: 1:41:35  loss:2.3226 - accuracy:0.1250 - f1:0.0859 - gpu_mem:7.81G - lr1:0.0002776\u001b[0m"
     ]
    },
    {
     "name": "stdout",
     "output_type": "stream",
     "text": [
      "\u001b[34m\u001b[1m\r",
      "[Training ] 280/1657 [====>.........................] - ETA: 1:41:31  loss:2.3791 - accuracy:0.1406 - f1:0.0995 - gpu_mem:7.81G - lr1:0.0002786\u001b[0m"
     ]
    },
    {
     "name": "stdout",
     "output_type": "stream",
     "text": [
      "\u001b[34m\u001b[1m\r",
      "[Training ] 281/1657 [====>.........................] - ETA: 1:41:26  loss:2.3886 - accuracy:0.1250 - f1:0.0605 - gpu_mem:7.81G - lr1:0.0002796\u001b[0m"
     ]
    },
    {
     "name": "stdout",
     "output_type": "stream",
     "text": [
      "\u001b[34m\u001b[1m\r",
      "[Training ] 282/1657 [====>.........................] - ETA: 1:41:21  loss:2.3442 - accuracy:0.1250 - f1:0.1078 - gpu_mem:7.81G - lr1:0.0002806\u001b[0m"
     ]
    },
    {
     "name": "stdout",
     "output_type": "stream",
     "text": [
      "\u001b[34m\u001b[1m\r",
      "[Training ] 283/1657 [====>.........................] - ETA: 1:41:17  loss:2.3774 - accuracy:0.0938 - f1:0.0509 - gpu_mem:7.81G - lr1:0.0002816\u001b[0m"
     ]
    },
    {
     "name": "stdout",
     "output_type": "stream",
     "text": [
      "\u001b[34m\u001b[1m\r",
      "[Training ] 284/1657 [====>.........................] - ETA: 1:41:12  loss:2.4090 - accuracy:0.1094 - f1:0.0539 - gpu_mem:7.81G - lr1:0.0002826\u001b[0m"
     ]
    },
    {
     "name": "stdout",
     "output_type": "stream",
     "text": [
      "\u001b[34m\u001b[1m\r",
      "[Training ] 285/1657 [====>.........................] - ETA: 1:41:08  loss:2.3812 - accuracy:0.1094 - f1:0.0836 - gpu_mem:7.81G - lr1:0.0002836\u001b[0m"
     ]
    },
    {
     "name": "stdout",
     "output_type": "stream",
     "text": [
      "\u001b[34m\u001b[1m\r",
      "[Training ] 286/1657 [====>.........................] - ETA: 1:41:03  loss:2.3722 - accuracy:0.1250 - f1:0.0799 - gpu_mem:7.81G - lr1:0.0002847\u001b[0m"
     ]
    },
    {
     "name": "stdout",
     "output_type": "stream",
     "text": [
      "\u001b[34m\u001b[1m\r",
      "[Training ] 287/1657 [====>.........................] - ETA: 1:40:59  loss:2.3970 - accuracy:0.1250 - f1:0.0530 - gpu_mem:7.81G - lr1:0.0002857\u001b[0m"
     ]
    },
    {
     "name": "stdout",
     "output_type": "stream",
     "text": [
      "\u001b[34m\u001b[1m\r",
      "[Training ] 288/1657 [====>.........................] - ETA: 1:40:54  loss:2.3812 - accuracy:0.1875 - f1:0.0868 - gpu_mem:7.81G - lr1:0.0002867\u001b[0m"
     ]
    },
    {
     "name": "stdout",
     "output_type": "stream",
     "text": [
      "\u001b[34m\u001b[1m\r",
      "[Training ] 289/1657 [====>.........................] - ETA: 1:40:50  loss:2.3499 - accuracy:0.1406 - f1:0.0494 - gpu_mem:7.81G - lr1:0.0002877\u001b[0m"
     ]
    },
    {
     "name": "stdout",
     "output_type": "stream",
     "text": [
      "\u001b[34m\u001b[1m\r",
      "[Training ] 290/1657 [====>.........................] - ETA: 1:40:45  loss:2.3516 - accuracy:0.1094 - f1:0.0448 - gpu_mem:7.81G - lr1:0.0002887\u001b[0m"
     ]
    },
    {
     "name": "stdout",
     "output_type": "stream",
     "text": [
      "\u001b[34m\u001b[1m\r",
      "[Training ] 291/1657 [====>.........................] - ETA: 1:40:41  loss:2.3885 - accuracy:0.1094 - f1:0.0433 - gpu_mem:7.81G - lr1:0.0002897\u001b[0m"
     ]
    },
    {
     "name": "stdout",
     "output_type": "stream",
     "text": [
      "\u001b[34m\u001b[1m\r",
      "[Training ] 292/1657 [====>.........................] - ETA: 1:40:36  loss:2.4423 - accuracy:0.0625 - f1:0.0450 - gpu_mem:7.81G - lr1:0.0002907\u001b[0m"
     ]
    },
    {
     "name": "stdout",
     "output_type": "stream",
     "text": [
      "\u001b[34m\u001b[1m\r",
      "[Training ] 293/1657 [====>.........................] - ETA: 1:40:32  loss:2.4337 - accuracy:0.0625 - f1:0.0521 - gpu_mem:7.81G - lr1:0.0002917\u001b[0m"
     ]
    },
    {
     "name": "stdout",
     "output_type": "stream",
     "text": [
      "\u001b[34m\u001b[1m\r",
      "[Training ] 294/1657 [====>.........................] - ETA: 1:40:27  loss:2.3741 - accuracy:0.1094 - f1:0.0500 - gpu_mem:7.81G - lr1:0.0002927\u001b[0m"
     ]
    },
    {
     "name": "stdout",
     "output_type": "stream",
     "text": [
      "\u001b[34m\u001b[1m\r",
      "[Training ] 295/1657 [====>.........................] - ETA: 1:40:23  loss:2.4247 - accuracy:0.0625 - f1:0.0316 - gpu_mem:7.81G - lr1:0.0002937\u001b[0m"
     ]
    },
    {
     "name": "stdout",
     "output_type": "stream",
     "text": [
      "\u001b[34m\u001b[1m\r",
      "[Training ] 296/1657 [====>.........................] - ETA: 1:40:18  loss:2.3593 - accuracy:0.1250 - f1:0.0697 - gpu_mem:7.81G - lr1:0.0002947\u001b[0m"
     ]
    },
    {
     "name": "stdout",
     "output_type": "stream",
     "text": [
      "\u001b[34m\u001b[1m\r",
      "[Training ] 297/1657 [====>.........................] - ETA: 1:40:13  loss:2.3021 - accuracy:0.1719 - f1:0.0595 - gpu_mem:7.81G - lr1:0.0002957\u001b[0m"
     ]
    },
    {
     "name": "stdout",
     "output_type": "stream",
     "text": [
      "\u001b[34m\u001b[1m\r",
      "[Training ] 298/1657 [====>.........................] - ETA: 1:40:09  loss:2.3472 - accuracy:0.1250 - f1:0.1044 - gpu_mem:7.81G - lr1:0.0002967\u001b[0m"
     ]
    },
    {
     "name": "stdout",
     "output_type": "stream",
     "text": [
      "\u001b[34m\u001b[1m\r",
      "[Training ] 299/1657 [====>.........................] - ETA: 1:40:04  loss:2.3826 - accuracy:0.1562 - f1:0.0882 - gpu_mem:7.81G - lr1:0.0002977\u001b[0m"
     ]
    },
    {
     "name": "stdout",
     "output_type": "stream",
     "text": [
      "\u001b[34m\u001b[1m\r",
      "[Training ] 300/1657 [====>.........................] - ETA: 1:40:00  loss:2.3656 - accuracy:0.1719 - f1:0.0737 - gpu_mem:7.81G - lr1:0.0002987\u001b[0m"
     ]
    },
    {
     "name": "stdout",
     "output_type": "stream",
     "text": [
      "\u001b[34m\u001b[1m\r",
      "[Training ] 301/1657 [====>.........................] - ETA: 1:39:55  loss:2.4205 - accuracy:0.1406 - f1:0.0856 - gpu_mem:7.81G - lr1:0.0002997\u001b[0m"
     ]
    },
    {
     "name": "stdout",
     "output_type": "stream",
     "text": [
      "\u001b[34m\u001b[1m\r",
      "[Training ] 302/1657 [====>.........................] - ETA: 1:39:51  loss:2.3381 - accuracy:0.1562 - f1:0.0853 - gpu_mem:7.81G - lr1:0.0003007\u001b[0m"
     ]
    },
    {
     "name": "stdout",
     "output_type": "stream",
     "text": [
      "\u001b[34m\u001b[1m\r",
      "[Training ] 303/1657 [====>.........................] - ETA: 1:39:46  loss:2.3659 - accuracy:0.1562 - f1:0.0581 - gpu_mem:7.81G - lr1:0.0003018\u001b[0m"
     ]
    },
    {
     "name": "stdout",
     "output_type": "stream",
     "text": [
      "\u001b[34m\u001b[1m\r",
      "[Training ] 304/1657 [====>.........................] - ETA: 1:39:42  loss:2.3978 - accuracy:0.1719 - f1:0.1187 - gpu_mem:7.81G - lr1:0.0003028\u001b[0m"
     ]
    },
    {
     "name": "stdout",
     "output_type": "stream",
     "text": [
      "\u001b[34m\u001b[1m\r",
      "[Training ] 305/1657 [====>.........................] - ETA: 1:39:37  loss:2.3528 - accuracy:0.2031 - f1:0.1348 - gpu_mem:7.81G - lr1:0.0003038\u001b[0m"
     ]
    },
    {
     "name": "stdout",
     "output_type": "stream",
     "text": [
      "\u001b[34m\u001b[1m\r",
      "[Training ] 306/1657 [====>.........................] - ETA: 1:39:33  loss:2.3716 - accuracy:0.1719 - f1:0.0708 - gpu_mem:7.81G - lr1:0.0003048\u001b[0m"
     ]
    },
    {
     "name": "stdout",
     "output_type": "stream",
     "text": [
      "\u001b[34m\u001b[1m\r",
      "[Training ] 307/1657 [====>.........................] - ETA: 1:39:28  loss:2.4045 - accuracy:0.0938 - f1:0.0515 - gpu_mem:7.81G - lr1:0.0003058\u001b[0m"
     ]
    },
    {
     "name": "stdout",
     "output_type": "stream",
     "text": [
      "\u001b[34m\u001b[1m\r",
      "[Training ] 308/1657 [====>.........................] - ETA: 1:39:24  loss:2.3336 - accuracy:0.1875 - f1:0.0740 - gpu_mem:7.81G - lr1:0.0003068\u001b[0m"
     ]
    },
    {
     "name": "stdout",
     "output_type": "stream",
     "text": [
      "\u001b[34m\u001b[1m\r",
      "[Training ] 309/1657 [====>.........................] - ETA: 1:39:19  loss:2.3297 - accuracy:0.1875 - f1:0.0727 - gpu_mem:7.81G - lr1:0.0003078\u001b[0m"
     ]
    },
    {
     "name": "stdout",
     "output_type": "stream",
     "text": [
      "\u001b[34m\u001b[1m\r",
      "[Training ] 310/1657 [====>.........................] - ETA: 1:39:15  loss:2.3214 - accuracy:0.1875 - f1:0.0745 - gpu_mem:7.81G - lr1:0.0003088\u001b[0m"
     ]
    },
    {
     "name": "stdout",
     "output_type": "stream",
     "text": [
      "\u001b[34m\u001b[1m\r",
      "[Training ] 311/1657 [====>.........................] - ETA: 1:39:10  loss:2.3720 - accuracy:0.1250 - f1:0.0743 - gpu_mem:7.81G - lr1:0.0003098\u001b[0m"
     ]
    },
    {
     "name": "stdout",
     "output_type": "stream",
     "text": [
      "\u001b[34m\u001b[1m\r",
      "[Training ] 312/1657 [====>.........................] - ETA: 1:39:06  loss:2.3806 - accuracy:0.1562 - f1:0.0765 - gpu_mem:7.81G - lr1:0.0003108\u001b[0m"
     ]
    },
    {
     "name": "stdout",
     "output_type": "stream",
     "text": [
      "\u001b[34m\u001b[1m\r",
      "[Training ] 313/1657 [====>.........................] - ETA: 1:39:01  loss:2.4431 - accuracy:0.0625 - f1:0.0472 - gpu_mem:7.81G - lr1:0.0003118\u001b[0m"
     ]
    },
    {
     "name": "stdout",
     "output_type": "stream",
     "text": [
      "\u001b[34m\u001b[1m\r",
      "[Training ] 314/1657 [====>.........................] - ETA: 1:38:57  loss:2.3826 - accuracy:0.2031 - f1:0.1232 - gpu_mem:7.81G - lr1:0.0003128\u001b[0m"
     ]
    },
    {
     "name": "stdout",
     "output_type": "stream",
     "text": [
      "\u001b[34m\u001b[1m\r",
      "[Training ] 315/1657 [====>.........................] - ETA: 1:38:52  loss:2.3815 - accuracy:0.1875 - f1:0.0732 - gpu_mem:7.81G - lr1:0.0003138\u001b[0m"
     ]
    },
    {
     "name": "stdout",
     "output_type": "stream",
     "text": [
      "\u001b[34m\u001b[1m\r",
      "[Training ] 316/1657 [====>.........................] - ETA: 1:38:48  loss:2.4000 - accuracy:0.1406 - f1:0.0600 - gpu_mem:7.81G - lr1:0.0003148\u001b[0m"
     ]
    },
    {
     "name": "stdout",
     "output_type": "stream",
     "text": [
      "\u001b[34m\u001b[1m\r",
      "[Training ] 317/1657 [====>.........................] - ETA: 1:38:43  loss:2.3551 - accuracy:0.2031 - f1:0.1050 - gpu_mem:7.81G - lr1:0.0003158\u001b[0m"
     ]
    },
    {
     "name": "stdout",
     "output_type": "stream",
     "text": [
      "\u001b[34m\u001b[1m\r",
      "[Training ] 318/1657 [====>.........................] - ETA: 1:38:39  loss:2.3790 - accuracy:0.1719 - f1:0.0736 - gpu_mem:7.81G - lr1:0.0003168\u001b[0m"
     ]
    },
    {
     "name": "stdout",
     "output_type": "stream",
     "text": [
      "\u001b[34m\u001b[1m\r",
      "[Training ] 319/1657 [====>.........................] - ETA: 1:38:34  loss:2.3068 - accuracy:0.2656 - f1:0.1105 - gpu_mem:7.81G - lr1:0.0003178\u001b[0m"
     ]
    },
    {
     "name": "stdout",
     "output_type": "stream",
     "text": [
      "\u001b[34m\u001b[1m\r",
      "[Training ] 320/1657 [====>.........................] - ETA: 1:38:30  loss:2.4017 - accuracy:0.1406 - f1:0.0420 - gpu_mem:7.81G - lr1:0.0003188\u001b[0m"
     ]
    },
    {
     "name": "stdout",
     "output_type": "stream",
     "text": [
      "\u001b[34m\u001b[1m\r",
      "[Training ] 321/1657 [====>.........................] - ETA: 1:38:25  loss:2.3457 - accuracy:0.2031 - f1:0.0777 - gpu_mem:7.81G - lr1:0.0003199\u001b[0m"
     ]
    },
    {
     "name": "stdout",
     "output_type": "stream",
     "text": [
      "\u001b[34m\u001b[1m\r",
      "[Training ] 322/1657 [====>.........................] - ETA: 1:38:21  loss:2.2740 - accuracy:0.2969 - f1:0.1573 - gpu_mem:7.81G - lr1:0.0003209\u001b[0m"
     ]
    },
    {
     "name": "stdout",
     "output_type": "stream",
     "text": [
      "\u001b[34m\u001b[1m\r",
      "[Training ] 323/1657 [====>.........................] - ETA: 1:38:16  loss:2.4008 - accuracy:0.1406 - f1:0.0535 - gpu_mem:7.81G - lr1:0.0003219\u001b[0m"
     ]
    },
    {
     "name": "stdout",
     "output_type": "stream",
     "text": [
      "\u001b[34m\u001b[1m\r",
      "[Training ] 324/1657 [====>.........................] - ETA: 1:38:12  loss:2.3498 - accuracy:0.1875 - f1:0.0905 - gpu_mem:7.81G - lr1:0.0003229\u001b[0m"
     ]
    },
    {
     "name": "stdout",
     "output_type": "stream",
     "text": [
      "\u001b[34m\u001b[1m\r",
      "[Training ] 325/1657 [====>.........................] - ETA: 1:38:07  loss:2.3905 - accuracy:0.2031 - f1:0.0953 - gpu_mem:7.81G - lr1:0.0003239\u001b[0m"
     ]
    },
    {
     "name": "stdout",
     "output_type": "stream",
     "text": [
      "\u001b[34m\u001b[1m\r",
      "[Training ] 326/1657 [====>.........................] - ETA: 1:38:03  loss:2.2990 - accuracy:0.1406 - f1:0.0431 - gpu_mem:7.81G - lr1:0.0003249\u001b[0m"
     ]
    },
    {
     "name": "stdout",
     "output_type": "stream",
     "text": [
      "\u001b[34m\u001b[1m\r",
      "[Training ] 327/1657 [====>.........................] - ETA: 1:37:58  loss:2.4010 - accuracy:0.1250 - f1:0.0455 - gpu_mem:7.81G - lr1:0.0003259\u001b[0m"
     ]
    },
    {
     "name": "stdout",
     "output_type": "stream",
     "text": [
      "\u001b[34m\u001b[1m\r",
      "[Training ] 328/1657 [====>.........................] - ETA: 1:37:54  loss:2.2952 - accuracy:0.2188 - f1:0.1197 - gpu_mem:7.81G - lr1:0.0003269\u001b[0m"
     ]
    },
    {
     "name": "stdout",
     "output_type": "stream",
     "text": [
      "\u001b[34m\u001b[1m\r",
      "[Training ] 329/1657 [====>.........................] - ETA: 1:37:49  loss:2.3121 - accuracy:0.2500 - f1:0.1141 - gpu_mem:7.81G - lr1:0.0003279\u001b[0m"
     ]
    },
    {
     "name": "stdout",
     "output_type": "stream",
     "text": [
      "\u001b[34m\u001b[1m\r",
      "[Training ] 330/1657 [====>.........................] - ETA: 1:37:45  loss:2.3923 - accuracy:0.2031 - f1:0.0864 - gpu_mem:7.81G - lr1:0.0003289\u001b[0m"
     ]
    },
    {
     "name": "stdout",
     "output_type": "stream",
     "text": [
      "\u001b[34m\u001b[1m\r",
      "[Training ] 331/1657 [====>.........................] - ETA: 1:37:40  loss:2.3229 - accuracy:0.2812 - f1:0.1063 - gpu_mem:7.81G - lr1:0.0003299\u001b[0m"
     ]
    },
    {
     "name": "stdout",
     "output_type": "stream",
     "text": [
      "\u001b[34m\u001b[1m\r",
      "[Training ] 332/1657 [=====>........................] - ETA: 1:37:36  loss:2.3291 - accuracy:0.1875 - f1:0.0659 - gpu_mem:7.81G - lr1:0.0003309\u001b[0m"
     ]
    },
    {
     "name": "stdout",
     "output_type": "stream",
     "text": [
      "\u001b[34m\u001b[1m\r",
      "[Training ] 333/1657 [=====>........................] - ETA: 1:37:31  loss:2.3419 - accuracy:0.1875 - f1:0.1061 - gpu_mem:7.81G - lr1:0.0003319\u001b[0m"
     ]
    },
    {
     "name": "stdout",
     "output_type": "stream",
     "text": [
      "\u001b[34m\u001b[1m\r",
      "[Training ] 334/1657 [=====>........................] - ETA: 1:37:27  loss:2.3286 - accuracy:0.2031 - f1:0.0848 - gpu_mem:7.81G - lr1:0.0003329\u001b[0m"
     ]
    },
    {
     "name": "stdout",
     "output_type": "stream",
     "text": [
      "\u001b[34m\u001b[1m\r",
      "[Training ] 335/1657 [=====>........................] - ETA: 1:37:22  loss:2.3215 - accuracy:0.2031 - f1:0.0855 - gpu_mem:7.81G - lr1:0.0003339\u001b[0m"
     ]
    },
    {
     "name": "stdout",
     "output_type": "stream",
     "text": [
      "\u001b[34m\u001b[1m\r",
      "[Training ] 336/1657 [=====>........................] - ETA: 1:37:18  loss:2.2711 - accuracy:0.2500 - f1:0.1163 - gpu_mem:7.81G - lr1:0.0003349\u001b[0m"
     ]
    },
    {
     "name": "stdout",
     "output_type": "stream",
     "text": [
      "\u001b[34m\u001b[1m\r",
      "[Training ] 337/1657 [=====>........................] - ETA: 1:37:13  loss:2.3730 - accuracy:0.1719 - f1:0.0704 - gpu_mem:7.81G - lr1:0.0003359\u001b[0m"
     ]
    },
    {
     "name": "stdout",
     "output_type": "stream",
     "text": [
      "\u001b[34m\u001b[1m\r",
      "[Training ] 338/1657 [=====>........................] - ETA: 1:37:09  loss:2.3221 - accuracy:0.1562 - f1:0.0550 - gpu_mem:7.81G - lr1:0.0003370\u001b[0m"
     ]
    },
    {
     "name": "stdout",
     "output_type": "stream",
     "text": [
      "\u001b[34m\u001b[1m\r",
      "[Training ] 339/1657 [=====>........................] - ETA: 1:37:04  loss:2.3349 - accuracy:0.2188 - f1:0.1234 - gpu_mem:7.81G - lr1:0.0003380\u001b[0m"
     ]
    },
    {
     "name": "stdout",
     "output_type": "stream",
     "text": [
      "\u001b[34m\u001b[1m\r",
      "[Training ] 340/1657 [=====>........................] - ETA: 1:37:00  loss:2.3529 - accuracy:0.2188 - f1:0.1152 - gpu_mem:7.81G - lr1:0.0003390\u001b[0m"
     ]
    },
    {
     "name": "stdout",
     "output_type": "stream",
     "text": [
      "\u001b[34m\u001b[1m\r",
      "[Training ] 341/1657 [=====>........................] - ETA: 1:36:55  loss:2.4131 - accuracy:0.0781 - f1:0.0293 - gpu_mem:7.81G - lr1:0.0003400\u001b[0m"
     ]
    },
    {
     "name": "stdout",
     "output_type": "stream",
     "text": [
      "\u001b[34m\u001b[1m\r",
      "[Training ] 342/1657 [=====>........................] - ETA: 1:36:51  loss:2.3081 - accuracy:0.2188 - f1:0.1333 - gpu_mem:7.81G - lr1:0.0003410\u001b[0m"
     ]
    },
    {
     "name": "stdout",
     "output_type": "stream",
     "text": [
      "\u001b[34m\u001b[1m\r",
      "[Training ] 343/1657 [=====>........................] - ETA: 1:36:46  loss:2.3812 - accuracy:0.1719 - f1:0.0943 - gpu_mem:7.81G - lr1:0.0003420\u001b[0m"
     ]
    },
    {
     "name": "stdout",
     "output_type": "stream",
     "text": [
      "\u001b[34m\u001b[1m\r",
      "[Training ] 344/1657 [=====>........................] - ETA: 1:36:42  loss:2.2668 - accuracy:0.3281 - f1:0.1309 - gpu_mem:7.81G - lr1:0.0003430\u001b[0m"
     ]
    },
    {
     "name": "stdout",
     "output_type": "stream",
     "text": [
      "\u001b[34m\u001b[1m\r",
      "[Training ] 345/1657 [=====>........................] - ETA: 1:36:37  loss:2.3222 - accuracy:0.1719 - f1:0.0488 - gpu_mem:7.81G - lr1:0.0003440\u001b[0m"
     ]
    },
    {
     "name": "stdout",
     "output_type": "stream",
     "text": [
      "\u001b[34m\u001b[1m\r",
      "[Training ] 346/1657 [=====>........................] - ETA: 1:36:33  loss:2.3262 - accuracy:0.2344 - f1:0.1057 - gpu_mem:7.81G - lr1:0.0003450\u001b[0m"
     ]
    },
    {
     "name": "stdout",
     "output_type": "stream",
     "text": [
      "\u001b[34m\u001b[1m\r",
      "[Training ] 347/1657 [=====>........................] - ETA: 1:36:28  loss:2.3696 - accuracy:0.1875 - f1:0.1132 - gpu_mem:7.81G - lr1:0.0003460\u001b[0m"
     ]
    },
    {
     "name": "stdout",
     "output_type": "stream",
     "text": [
      "\u001b[34m\u001b[1m\r",
      "[Training ] 348/1657 [=====>........................] - ETA: 1:36:24  loss:2.3246 - accuracy:0.2188 - f1:0.1030 - gpu_mem:7.81G - lr1:0.0003470\u001b[0m"
     ]
    },
    {
     "name": "stdout",
     "output_type": "stream",
     "text": [
      "\u001b[34m\u001b[1m\r",
      "[Training ] 349/1657 [=====>........................] - ETA: 1:36:19  loss:2.3556 - accuracy:0.2500 - f1:0.1423 - gpu_mem:7.81G - lr1:0.0003480\u001b[0m"
     ]
    },
    {
     "name": "stdout",
     "output_type": "stream",
     "text": [
      "\u001b[34m\u001b[1m\r",
      "[Training ] 350/1657 [=====>........................] - ETA: 1:36:15  loss:2.3292 - accuracy:0.1719 - f1:0.0633 - gpu_mem:7.81G - lr1:0.0003490\u001b[0m"
     ]
    },
    {
     "name": "stdout",
     "output_type": "stream",
     "text": [
      "\u001b[34m\u001b[1m\r",
      "[Training ] 351/1657 [=====>........................] - ETA: 1:36:10  loss:2.3412 - accuracy:0.2031 - f1:0.0621 - gpu_mem:7.81G - lr1:0.0003500\u001b[0m"
     ]
    },
    {
     "name": "stdout",
     "output_type": "stream",
     "text": [
      "\u001b[34m\u001b[1m\r",
      "[Training ] 352/1657 [=====>........................] - ETA: 1:36:06  loss:2.3597 - accuracy:0.1562 - f1:0.0633 - gpu_mem:7.81G - lr1:0.0003510\u001b[0m"
     ]
    },
    {
     "name": "stdout",
     "output_type": "stream",
     "text": [
      "\u001b[34m\u001b[1m\r",
      "[Training ] 353/1657 [=====>........................] - ETA: 1:36:01  loss:2.3656 - accuracy:0.1875 - f1:0.0797 - gpu_mem:7.81G - lr1:0.0003520\u001b[0m"
     ]
    },
    {
     "name": "stdout",
     "output_type": "stream",
     "text": [
      "\u001b[34m\u001b[1m\r",
      "[Training ] 354/1657 [=====>........................] - ETA: 1:35:57  loss:2.3235 - accuracy:0.2344 - f1:0.0813 - gpu_mem:7.81G - lr1:0.0003530\u001b[0m"
     ]
    },
    {
     "name": "stdout",
     "output_type": "stream",
     "text": [
      "\u001b[34m\u001b[1m\r",
      "[Training ] 355/1657 [=====>........................] - ETA: 1:35:52  loss:2.4059 - accuracy:0.1875 - f1:0.0710 - gpu_mem:7.81G - lr1:0.0003541\u001b[0m"
     ]
    },
    {
     "name": "stdout",
     "output_type": "stream",
     "text": [
      "\u001b[34m\u001b[1m\r",
      "[Training ] 356/1657 [=====>........................] - ETA: 1:35:48  loss:2.2991 - accuracy:0.2812 - f1:0.1480 - gpu_mem:7.81G - lr1:0.0003551\u001b[0m"
     ]
    },
    {
     "name": "stdout",
     "output_type": "stream",
     "text": [
      "\u001b[34m\u001b[1m\r",
      "[Training ] 357/1657 [=====>........................] - ETA: 1:35:43  loss:2.3638 - accuracy:0.1875 - f1:0.1289 - gpu_mem:7.81G - lr1:0.0003561\u001b[0m"
     ]
    },
    {
     "name": "stdout",
     "output_type": "stream",
     "text": [
      "\u001b[34m\u001b[1m\r",
      "[Training ] 358/1657 [=====>........................] - ETA: 1:35:39  loss:2.3077 - accuracy:0.2188 - f1:0.0806 - gpu_mem:7.81G - lr1:0.0003571\u001b[0m"
     ]
    },
    {
     "name": "stdout",
     "output_type": "stream",
     "text": [
      "\u001b[34m\u001b[1m\r",
      "[Training ] 359/1657 [=====>........................] - ETA: 1:35:34  loss:2.3526 - accuracy:0.1250 - f1:0.0567 - gpu_mem:7.81G - lr1:0.0003581\u001b[0m"
     ]
    },
    {
     "name": "stdout",
     "output_type": "stream",
     "text": [
      "\u001b[34m\u001b[1m\r",
      "[Training ] 360/1657 [=====>........................] - ETA: 1:35:30  loss:2.3660 - accuracy:0.1719 - f1:0.0857 - gpu_mem:7.81G - lr1:0.0003591\u001b[0m"
     ]
    },
    {
     "name": "stdout",
     "output_type": "stream",
     "text": [
      "\u001b[34m\u001b[1m\r",
      "[Training ] 361/1657 [=====>........................] - ETA: 1:35:25  loss:2.2780 - accuracy:0.3125 - f1:0.1971 - gpu_mem:7.81G - lr1:0.0003601\u001b[0m"
     ]
    },
    {
     "name": "stdout",
     "output_type": "stream",
     "text": [
      "\u001b[34m\u001b[1m\r",
      "[Training ] 362/1657 [=====>........................] - ETA: 1:35:21  loss:2.2915 - accuracy:0.2969 - f1:0.1091 - gpu_mem:7.81G - lr1:0.0003611\u001b[0m"
     ]
    },
    {
     "name": "stdout",
     "output_type": "stream",
     "text": [
      "\u001b[34m\u001b[1m\r",
      "[Training ] 363/1657 [=====>........................] - ETA: 1:35:16  loss:2.3521 - accuracy:0.2188 - f1:0.1082 - gpu_mem:7.81G - lr1:0.0003621\u001b[0m"
     ]
    },
    {
     "name": "stdout",
     "output_type": "stream",
     "text": [
      "\u001b[34m\u001b[1m\r",
      "[Training ] 364/1657 [=====>........................] - ETA: 1:35:12  loss:2.3361 - accuracy:0.2188 - f1:0.1623 - gpu_mem:7.81G - lr1:0.0003631\u001b[0m"
     ]
    },
    {
     "name": "stdout",
     "output_type": "stream",
     "text": [
      "\u001b[34m\u001b[1m\r",
      "[Training ] 365/1657 [=====>........................] - ETA: 1:35:07  loss:2.3570 - accuracy:0.1406 - f1:0.0456 - gpu_mem:7.81G - lr1:0.0003641\u001b[0m"
     ]
    },
    {
     "name": "stdout",
     "output_type": "stream",
     "text": [
      "\u001b[34m\u001b[1m\r",
      "[Training ] 366/1657 [=====>........................] - ETA: 1:35:03  loss:2.3144 - accuracy:0.2344 - f1:0.0885 - gpu_mem:7.81G - lr1:0.0003651\u001b[0m"
     ]
    },
    {
     "name": "stdout",
     "output_type": "stream",
     "text": [
      "\u001b[34m\u001b[1m\r",
      "[Training ] 367/1657 [=====>........................] - ETA: 1:34:58  loss:2.3351 - accuracy:0.1719 - f1:0.0513 - gpu_mem:7.81G - lr1:0.0003661\u001b[0m"
     ]
    },
    {
     "name": "stdout",
     "output_type": "stream",
     "text": [
      "\u001b[34m\u001b[1m\r",
      "[Training ] 368/1657 [=====>........................] - ETA: 1:34:54  loss:2.3908 - accuracy:0.0938 - f1:0.0341 - gpu_mem:7.81G - lr1:0.0003671\u001b[0m"
     ]
    },
    {
     "name": "stdout",
     "output_type": "stream",
     "text": [
      "\u001b[34m\u001b[1m\r",
      "[Training ] 369/1657 [=====>........................] - ETA: 1:34:49  loss:2.2911 - accuracy:0.2031 - f1:0.1384 - gpu_mem:7.81G - lr1:0.0003681\u001b[0m"
     ]
    },
    {
     "name": "stdout",
     "output_type": "stream",
     "text": [
      "\u001b[34m\u001b[1m\r",
      "[Training ] 370/1657 [=====>........................] - ETA: 1:34:45  loss:2.3135 - accuracy:0.2500 - f1:0.0730 - gpu_mem:7.81G - lr1:0.0003691\u001b[0m"
     ]
    },
    {
     "name": "stdout",
     "output_type": "stream",
     "text": [
      "\u001b[34m\u001b[1m\r",
      "[Training ] 371/1657 [=====>........................] - ETA: 1:34:40  loss:2.3786 - accuracy:0.1406 - f1:0.0707 - gpu_mem:7.81G - lr1:0.0003701\u001b[0m"
     ]
    },
    {
     "name": "stdout",
     "output_type": "stream",
     "text": [
      "\u001b[34m\u001b[1m\r",
      "[Training ] 372/1657 [=====>........................] - ETA: 1:34:36  loss:2.3028 - accuracy:0.2344 - f1:0.0545 - gpu_mem:7.81G - lr1:0.0003712\u001b[0m"
     ]
    },
    {
     "name": "stdout",
     "output_type": "stream",
     "text": [
      "\u001b[34m\u001b[1m\r",
      "[Training ] 373/1657 [=====>........................] - ETA: 1:34:32  loss:2.3302 - accuracy:0.1719 - f1:0.0692 - gpu_mem:7.81G - lr1:0.0003722\u001b[0m"
     ]
    },
    {
     "name": "stdout",
     "output_type": "stream",
     "text": [
      "\u001b[34m\u001b[1m\r",
      "[Training ] 374/1657 [=====>........................] - ETA: 1:34:27  loss:2.3204 - accuracy:0.2188 - f1:0.0940 - gpu_mem:7.81G - lr1:0.0003732\u001b[0m"
     ]
    },
    {
     "name": "stdout",
     "output_type": "stream",
     "text": [
      "\u001b[34m\u001b[1m\r",
      "[Training ] 375/1657 [=====>........................] - ETA: 1:34:23  loss:2.2167 - accuracy:0.2656 - f1:0.0583 - gpu_mem:7.81G - lr1:0.0003742\u001b[0m"
     ]
    },
    {
     "name": "stdout",
     "output_type": "stream",
     "text": [
      "\u001b[34m\u001b[1m\r",
      "[Training ] 376/1657 [=====>........................] - ETA: 1:34:18  loss:2.3222 - accuracy:0.2188 - f1:0.0723 - gpu_mem:7.81G - lr1:0.0003752\u001b[0m"
     ]
    },
    {
     "name": "stdout",
     "output_type": "stream",
     "text": [
      "\u001b[34m\u001b[1m\r",
      "[Training ] 377/1657 [=====>........................] - ETA: 1:34:14  loss:2.3216 - accuracy:0.2188 - f1:0.0941 - gpu_mem:7.81G - lr1:0.0003762\u001b[0m"
     ]
    },
    {
     "name": "stdout",
     "output_type": "stream",
     "text": [
      "\u001b[34m\u001b[1m\r",
      "[Training ] 378/1657 [=====>........................] - ETA: 1:34:09  loss:2.4074 - accuracy:0.1406 - f1:0.0796 - gpu_mem:7.81G - lr1:0.0003772\u001b[0m"
     ]
    },
    {
     "name": "stdout",
     "output_type": "stream",
     "text": [
      "\u001b[34m\u001b[1m\r",
      "[Training ] 379/1657 [=====>........................] - ETA: 1:34:05  loss:2.3036 - accuracy:0.2500 - f1:0.1398 - gpu_mem:7.81G - lr1:0.0003782\u001b[0m"
     ]
    },
    {
     "name": "stdout",
     "output_type": "stream",
     "text": [
      "\u001b[34m\u001b[1m\r",
      "[Training ] 380/1657 [=====>........................] - ETA: 1:34:00  loss:2.2718 - accuracy:0.2031 - f1:0.0576 - gpu_mem:7.81G - lr1:0.0003792\u001b[0m"
     ]
    },
    {
     "name": "stdout",
     "output_type": "stream",
     "text": [
      "\u001b[34m\u001b[1m\r",
      "[Training ] 381/1657 [=====>........................] - ETA: 1:33:56  loss:2.3948 - accuracy:0.1719 - f1:0.0541 - gpu_mem:7.81G - lr1:0.0003802\u001b[0m"
     ]
    },
    {
     "name": "stdout",
     "output_type": "stream",
     "text": [
      "\u001b[34m\u001b[1m\r",
      "[Training ] 382/1657 [=====>........................] - ETA: 1:33:51  loss:2.2403 - accuracy:0.2500 - f1:0.0976 - gpu_mem:7.81G - lr1:0.0003812\u001b[0m"
     ]
    },
    {
     "name": "stdout",
     "output_type": "stream",
     "text": [
      "\u001b[34m\u001b[1m\r",
      "[Training ] 383/1657 [=====>........................] - ETA: 1:33:47  loss:2.3174 - accuracy:0.2031 - f1:0.1175 - gpu_mem:7.81G - lr1:0.0003822\u001b[0m"
     ]
    },
    {
     "name": "stdout",
     "output_type": "stream",
     "text": [
      "\u001b[34m\u001b[1m\r",
      "[Training ] 384/1657 [=====>........................] - ETA: 1:33:42  loss:2.3023 - accuracy:0.2344 - f1:0.1710 - gpu_mem:7.81G - lr1:0.0003832\u001b[0m"
     ]
    },
    {
     "name": "stdout",
     "output_type": "stream",
     "text": [
      "\u001b[34m\u001b[1m\r",
      "[Training ] 385/1657 [=====>........................] - ETA: 1:33:38  loss:2.2807 - accuracy:0.2656 - f1:0.1106 - gpu_mem:7.81G - lr1:0.0003842\u001b[0m"
     ]
    },
    {
     "name": "stdout",
     "output_type": "stream",
     "text": [
      "\u001b[34m\u001b[1m\r",
      "[Training ] 386/1657 [=====>........................] - ETA: 1:33:33  loss:2.2937 - accuracy:0.2031 - f1:0.0887 - gpu_mem:7.81G - lr1:0.0003852\u001b[0m"
     ]
    },
    {
     "name": "stdout",
     "output_type": "stream",
     "text": [
      "\u001b[34m\u001b[1m\r",
      "[Training ] 387/1657 [======>.......................] - ETA: 1:33:29  loss:2.3092 - accuracy:0.2656 - f1:0.0938 - gpu_mem:7.81G - lr1:0.0003862\u001b[0m"
     ]
    },
    {
     "name": "stdout",
     "output_type": "stream",
     "text": [
      "\u001b[34m\u001b[1m\r",
      "[Training ] 388/1657 [======>.......................] - ETA: 1:33:24  loss:2.3143 - accuracy:0.2188 - f1:0.0615 - gpu_mem:7.81G - lr1:0.0003872\u001b[0m"
     ]
    },
    {
     "name": "stdout",
     "output_type": "stream",
     "text": [
      "\u001b[34m\u001b[1m\r",
      "[Training ] 389/1657 [======>.......................] - ETA: 1:33:20  loss:2.3692 - accuracy:0.1094 - f1:0.0747 - gpu_mem:7.81G - lr1:0.0003883\u001b[0m"
     ]
    },
    {
     "name": "stdout",
     "output_type": "stream",
     "text": [
      "\u001b[34m\u001b[1m\r",
      "[Training ] 390/1657 [======>.......................] - ETA: 1:33:15  loss:2.3055 - accuracy:0.2344 - f1:0.0923 - gpu_mem:7.81G - lr1:0.0003893\u001b[0m"
     ]
    },
    {
     "name": "stdout",
     "output_type": "stream",
     "text": [
      "\u001b[34m\u001b[1m\r",
      "[Training ] 391/1657 [======>.......................] - ETA: 1:33:11  loss:2.3740 - accuracy:0.1562 - f1:0.0907 - gpu_mem:7.81G - lr1:0.0003903\u001b[0m"
     ]
    },
    {
     "name": "stdout",
     "output_type": "stream",
     "text": [
      "\u001b[34m\u001b[1m\r",
      "[Training ] 392/1657 [======>.......................] - ETA: 1:33:06  loss:2.3183 - accuracy:0.2188 - f1:0.1207 - gpu_mem:7.81G - lr1:0.0003913\u001b[0m"
     ]
    },
    {
     "name": "stdout",
     "output_type": "stream",
     "text": [
      "\u001b[34m\u001b[1m\r",
      "[Training ] 393/1657 [======>.......................] - ETA: 1:33:02  loss:2.3633 - accuracy:0.1250 - f1:0.0900 - gpu_mem:7.81G - lr1:0.0003923\u001b[0m"
     ]
    },
    {
     "name": "stdout",
     "output_type": "stream",
     "text": [
      "\u001b[34m\u001b[1m\r",
      "[Training ] 394/1657 [======>.......................] - ETA: 1:32:58  loss:2.3300 - accuracy:0.1875 - f1:0.0803 - gpu_mem:7.81G - lr1:0.0003933\u001b[0m"
     ]
    },
    {
     "name": "stdout",
     "output_type": "stream",
     "text": [
      "\u001b[34m\u001b[1m\r",
      "[Training ] 395/1657 [======>.......................] - ETA: 1:32:53  loss:2.3395 - accuracy:0.2031 - f1:0.1028 - gpu_mem:7.81G - lr1:0.0003943\u001b[0m"
     ]
    },
    {
     "name": "stdout",
     "output_type": "stream",
     "text": [
      "\u001b[34m\u001b[1m\r",
      "[Training ] 396/1657 [======>.......................] - ETA: 1:32:49  loss:2.4111 - accuracy:0.1406 - f1:0.0503 - gpu_mem:7.81G - lr1:0.0003953\u001b[0m"
     ]
    },
    {
     "name": "stdout",
     "output_type": "stream",
     "text": [
      "\u001b[34m\u001b[1m\r",
      "[Training ] 397/1657 [======>.......................] - ETA: 1:32:44  loss:2.3377 - accuracy:0.1875 - f1:0.0530 - gpu_mem:7.81G - lr1:0.0003963\u001b[0m"
     ]
    },
    {
     "name": "stdout",
     "output_type": "stream",
     "text": [
      "\u001b[34m\u001b[1m\r",
      "[Training ] 398/1657 [======>.......................] - ETA: 1:32:40  loss:2.3954 - accuracy:0.1875 - f1:0.1145 - gpu_mem:7.81G - lr1:0.0003973\u001b[0m"
     ]
    },
    {
     "name": "stdout",
     "output_type": "stream",
     "text": [
      "\u001b[34m\u001b[1m\r",
      "[Training ] 399/1657 [======>.......................] - ETA: 1:32:35  loss:2.2794 - accuracy:0.2344 - f1:0.1021 - gpu_mem:7.81G - lr1:0.0003983\u001b[0m"
     ]
    },
    {
     "name": "stdout",
     "output_type": "stream",
     "text": [
      "\u001b[34m\u001b[1m\r",
      "[Training ] 400/1657 [======>.......................] - ETA: 1:32:31  loss:2.2449 - accuracy:0.3125 - f1:0.1945 - gpu_mem:7.81G - lr1:0.0003993\u001b[0m"
     ]
    },
    {
     "name": "stdout",
     "output_type": "stream",
     "text": [
      "\u001b[34m\u001b[1m\r",
      "[Training ] 401/1657 [======>.......................] - ETA: 1:32:26  loss:2.3837 - accuracy:0.1406 - f1:0.0785 - gpu_mem:7.81G - lr1:0.0004003\u001b[0m"
     ]
    },
    {
     "name": "stdout",
     "output_type": "stream",
     "text": [
      "\u001b[34m\u001b[1m\r",
      "[Training ] 402/1657 [======>.......................] - ETA: 1:32:22  loss:2.2648 - accuracy:0.2656 - f1:0.1026 - gpu_mem:7.81G - lr1:0.0004013\u001b[0m"
     ]
    },
    {
     "name": "stdout",
     "output_type": "stream",
     "text": [
      "\u001b[34m\u001b[1m\r",
      "[Training ] 403/1657 [======>.......................] - ETA: 1:32:17  loss:2.3595 - accuracy:0.1562 - f1:0.0566 - gpu_mem:7.81G - lr1:0.0004023\u001b[0m"
     ]
    },
    {
     "name": "stdout",
     "output_type": "stream",
     "text": [
      "\u001b[34m\u001b[1m\r",
      "[Training ] 404/1657 [======>.......................] - ETA: 1:32:13  loss:2.3292 - accuracy:0.1719 - f1:0.0808 - gpu_mem:7.81G - lr1:0.0004033\u001b[0m"
     ]
    },
    {
     "name": "stdout",
     "output_type": "stream",
     "text": [
      "\u001b[34m\u001b[1m\r",
      "[Training ] 405/1657 [======>.......................] - ETA: 1:32:09  loss:2.2666 - accuracy:0.3125 - f1:0.1449 - gpu_mem:7.81G - lr1:0.0004043\u001b[0m"
     ]
    },
    {
     "name": "stdout",
     "output_type": "stream",
     "text": [
      "\u001b[34m\u001b[1m\r",
      "[Training ] 406/1657 [======>.......................] - ETA: 1:32:04  loss:2.3279 - accuracy:0.2344 - f1:0.0981 - gpu_mem:7.81G - lr1:0.0004054\u001b[0m"
     ]
    },
    {
     "name": "stdout",
     "output_type": "stream",
     "text": [
      "\u001b[34m\u001b[1m\r",
      "[Training ] 407/1657 [======>.......................] - ETA: 1:32:00  loss:2.3326 - accuracy:0.2031 - f1:0.1467 - gpu_mem:7.81G - lr1:0.0004064\u001b[0m"
     ]
    },
    {
     "name": "stdout",
     "output_type": "stream",
     "text": [
      "\u001b[34m\u001b[1m\r",
      "[Training ] 408/1657 [======>.......................] - ETA: 1:31:55  loss:2.3059 - accuracy:0.2344 - f1:0.0730 - gpu_mem:7.81G - lr1:0.0004074\u001b[0m"
     ]
    },
    {
     "name": "stdout",
     "output_type": "stream",
     "text": [
      "\u001b[34m\u001b[1m\r",
      "[Training ] 409/1657 [======>.......................] - ETA: 1:31:51  loss:2.3073 - accuracy:0.2031 - f1:0.1500 - gpu_mem:7.81G - lr1:0.0004084\u001b[0m"
     ]
    },
    {
     "name": "stdout",
     "output_type": "stream",
     "text": [
      "\u001b[34m\u001b[1m\r",
      "[Training ] 410/1657 [======>.......................] - ETA: 1:31:46  loss:2.3282 - accuracy:0.1875 - f1:0.0680 - gpu_mem:7.81G - lr1:0.0004094\u001b[0m"
     ]
    },
    {
     "name": "stdout",
     "output_type": "stream",
     "text": [
      "\u001b[34m\u001b[1m\r",
      "[Training ] 411/1657 [======>.......................] - ETA: 1:31:42  loss:2.2592 - accuracy:0.2188 - f1:0.1331 - gpu_mem:7.81G\u001b[0m"
     ]
    },
    {
     "name": "stdout",
     "output_type": "stream",
     "text": [
      "\u001b[34m\u001b[1m\r",
      "[Training ] 412/1657 [======>.......................] - ETA: 1:31:37  loss:2.3817 - accuracy:0.1562 - f1:0.0666 - gpu_mem:7.81G - lr1:0.0004104\u001b[0m"
     ]
    },
    {
     "name": "stdout",
     "output_type": "stream",
     "text": [
      "\u001b[34m\u001b[1m\r",
      "[Training ] 413/1657 [======>.......................] - ETA: 1:31:33  loss:2.3340 - accuracy:0.1875 - f1:0.0853 - gpu_mem:7.81G - lr1:0.0004114\u001b[0m"
     ]
    },
    {
     "name": "stdout",
     "output_type": "stream",
     "text": [
      "\u001b[34m\u001b[1m\r",
      "[Training ] 414/1657 [======>.......................] - ETA: 1:31:28  loss:2.3899 - accuracy:0.1250 - f1:0.0896 - gpu_mem:7.81G - lr1:0.0004124\u001b[0m"
     ]
    },
    {
     "name": "stdout",
     "output_type": "stream",
     "text": [
      "\u001b[34m\u001b[1m\r",
      "[Training ] 415/1657 [======>.......................] - ETA: 1:31:24  loss:2.2243 - accuracy:0.2188 - f1:0.0742 - gpu_mem:7.81G - lr1:0.0004134\u001b[0m"
     ]
    },
    {
     "name": "stdout",
     "output_type": "stream",
     "text": [
      "\u001b[34m\u001b[1m\r",
      "[Training ] 416/1657 [======>.......................] - ETA: 1:31:19  loss:2.3191 - accuracy:0.1875 - f1:0.1361 - gpu_mem:7.81G - lr1:0.0004144\u001b[0m"
     ]
    },
    {
     "name": "stdout",
     "output_type": "stream",
     "text": [
      "\u001b[34m\u001b[1m\r",
      "[Training ] 417/1657 [======>.......................] - ETA: 1:31:15  loss:2.2577 - accuracy:0.2656 - f1:0.0992 - gpu_mem:7.81G - lr1:0.0004154\u001b[0m"
     ]
    },
    {
     "name": "stdout",
     "output_type": "stream",
     "text": [
      "\u001b[34m\u001b[1m\r",
      "[Training ] 418/1657 [======>.......................] - ETA: 1:31:10  loss:2.2300 - accuracy:0.3750 - f1:0.1672 - gpu_mem:7.81G - lr1:0.0004164\u001b[0m"
     ]
    },
    {
     "name": "stdout",
     "output_type": "stream",
     "text": [
      "\u001b[34m\u001b[1m\r",
      "[Training ] 419/1657 [======>.......................] - ETA: 1:31:06  loss:2.3465 - accuracy:0.2031 - f1:0.0875 - gpu_mem:7.81G - lr1:0.0004174\u001b[0m"
     ]
    },
    {
     "name": "stdout",
     "output_type": "stream",
     "text": [
      "\u001b[34m\u001b[1m\r",
      "[Training ] 420/1657 [======>.......................] - ETA: 1:31:01  loss:2.3390 - accuracy:0.2344 - f1:0.1277 - gpu_mem:7.81G - lr1:0.0004184\u001b[0m"
     ]
    },
    {
     "name": "stdout",
     "output_type": "stream",
     "text": [
      "\u001b[34m\u001b[1m\r",
      "[Training ] 421/1657 [======>.......................] - ETA: 1:30:57  loss:2.3515 - accuracy:0.2344 - f1:0.1100 - gpu_mem:7.81G - lr1:0.0004194\u001b[0m"
     ]
    },
    {
     "name": "stdout",
     "output_type": "stream",
     "text": [
      "\u001b[34m\u001b[1m\r",
      "[Training ] 422/1657 [======>.......................] - ETA: 1:30:52  loss:2.3980 - accuracy:0.1562 - f1:0.0841 - gpu_mem:7.81G - lr1:0.0004204\u001b[0m"
     ]
    },
    {
     "name": "stdout",
     "output_type": "stream",
     "text": [
      "\u001b[34m\u001b[1m\r",
      "[Training ] 423/1657 [======>.......................] - ETA: 1:30:48  loss:2.2113 - accuracy:0.2812 - f1:0.0960 - gpu_mem:7.81G - lr1:0.0004214\u001b[0m"
     ]
    },
    {
     "name": "stdout",
     "output_type": "stream",
     "text": [
      "\u001b[34m\u001b[1m\r",
      "[Training ] 424/1657 [======>.......................] - ETA: 1:30:44  loss:2.3393 - accuracy:0.1719 - f1:0.0755 - gpu_mem:7.81G - lr1:0.0004225\u001b[0m"
     ]
    },
    {
     "name": "stdout",
     "output_type": "stream",
     "text": [
      "\u001b[34m\u001b[1m\r",
      "[Training ] 425/1657 [======>.......................] - ETA: 1:30:39  loss:2.3435 - accuracy:0.2031 - f1:0.0975 - gpu_mem:7.81G - lr1:0.0004235\u001b[0m"
     ]
    },
    {
     "name": "stdout",
     "output_type": "stream",
     "text": [
      "\u001b[34m\u001b[1m\r",
      "[Training ] 426/1657 [======>.......................] - ETA: 1:30:35  loss:2.3039 - accuracy:0.2656 - f1:0.1127 - gpu_mem:7.81G - lr1:0.0004245\u001b[0m"
     ]
    },
    {
     "name": "stdout",
     "output_type": "stream",
     "text": [
      "\u001b[34m\u001b[1m\r",
      "[Training ] 427/1657 [======>.......................] - ETA: 1:30:30  loss:2.3409 - accuracy:0.2188 - f1:0.0794 - gpu_mem:7.81G - lr1:0.0004255\u001b[0m"
     ]
    },
    {
     "name": "stdout",
     "output_type": "stream",
     "text": [
      "\u001b[34m\u001b[1m\r",
      "[Training ] 428/1657 [======>.......................] - ETA: 1:30:26  loss:2.2899 - accuracy:0.1875 - f1:0.0630 - gpu_mem:7.81G - lr1:0.0004265\u001b[0m"
     ]
    },
    {
     "name": "stdout",
     "output_type": "stream",
     "text": [
      "\u001b[34m\u001b[1m\r",
      "[Training ] 429/1657 [======>.......................] - ETA: 1:30:21  loss:2.3516 - accuracy:0.1875 - f1:0.0703 - gpu_mem:7.81G - lr1:0.0004275\u001b[0m"
     ]
    },
    {
     "name": "stdout",
     "output_type": "stream",
     "text": [
      "\u001b[34m\u001b[1m\r",
      "[Training ] 430/1657 [======>.......................] - ETA: 1:30:17  loss:2.2648 - accuracy:0.2500 - f1:0.1450 - gpu_mem:7.81G - lr1:0.0004285\u001b[0m"
     ]
    },
    {
     "name": "stdout",
     "output_type": "stream",
     "text": [
      "\u001b[34m\u001b[1m\r",
      "[Training ] 431/1657 [======>.......................] - ETA: 1:30:12  loss:2.2569 - accuracy:0.2969 - f1:0.1201 - gpu_mem:7.81G - lr1:0.0004295\u001b[0m"
     ]
    },
    {
     "name": "stdout",
     "output_type": "stream",
     "text": [
      "\u001b[34m\u001b[1m\r",
      "[Training ] 432/1657 [======>.......................] - ETA: 1:30:08  loss:2.2544 - accuracy:0.2500 - f1:0.0646 - gpu_mem:7.81G - lr1:0.0004305\u001b[0m"
     ]
    },
    {
     "name": "stdout",
     "output_type": "stream",
     "text": [
      "\u001b[34m\u001b[1m\r",
      "[Training ] 433/1657 [======>.......................] - ETA: 1:30:03  loss:2.3130 - accuracy:0.1406 - f1:0.0600 - gpu_mem:7.81G - lr1:0.0004315\u001b[0m"
     ]
    },
    {
     "name": "stdout",
     "output_type": "stream",
     "text": [
      "\u001b[34m\u001b[1m\r",
      "[Training ] 434/1657 [======>.......................] - ETA: 1:29:59  loss:2.2840 - accuracy:0.2344 - f1:0.0708 - gpu_mem:7.81G - lr1:0.0004325\u001b[0m"
     ]
    },
    {
     "name": "stdout",
     "output_type": "stream",
     "text": [
      "\u001b[34m\u001b[1m\r",
      "[Training ] 435/1657 [======>.......................] - ETA: 1:29:54  loss:2.2706 - accuracy:0.2812 - f1:0.1517 - gpu_mem:7.81G - lr1:0.0004335\u001b[0m"
     ]
    },
    {
     "name": "stdout",
     "output_type": "stream",
     "text": [
      "\u001b[34m\u001b[1m\r",
      "[Training ] 436/1657 [======>.......................] - ETA: 1:29:50  loss:2.3630 - accuracy:0.1875 - f1:0.1054 - gpu_mem:7.81G - lr1:0.0004345\u001b[0m"
     ]
    },
    {
     "name": "stdout",
     "output_type": "stream",
     "text": [
      "\u001b[34m\u001b[1m\r",
      "[Training ] 437/1657 [======>.......................] - ETA: 1:29:45  loss:2.3362 - accuracy:0.2188 - f1:0.1181 - gpu_mem:7.81G - lr1:0.0004355\u001b[0m"
     ]
    },
    {
     "name": "stdout",
     "output_type": "stream",
     "text": [
      "\u001b[34m\u001b[1m\r",
      "[Training ] 438/1657 [======>.......................] - ETA: 1:29:41  loss:2.2705 - accuracy:0.2656 - f1:0.1679 - gpu_mem:7.81G - lr1:0.0004365\u001b[0m"
     ]
    },
    {
     "name": "stdout",
     "output_type": "stream",
     "text": [
      "\u001b[34m\u001b[1m\r",
      "[Training ] 439/1657 [======>.......................] - ETA: 1:29:37  loss:2.1819 - accuracy:0.3281 - f1:0.0997 - gpu_mem:7.81G - lr1:0.0004375\u001b[0m"
     ]
    },
    {
     "name": "stdout",
     "output_type": "stream",
     "text": [
      "\u001b[34m\u001b[1m\r",
      "[Training ] 440/1657 [======>.......................] - ETA: 1:29:32  loss:2.3229 - accuracy:0.1875 - f1:0.0876 - gpu_mem:7.81G - lr1:0.0004385\u001b[0m"
     ]
    },
    {
     "name": "stdout",
     "output_type": "stream",
     "text": [
      "\u001b[34m\u001b[1m\r",
      "[Training ] 441/1657 [======>.......................] - ETA: 1:29:28  loss:2.2974 - accuracy:0.2344 - f1:0.1382 - gpu_mem:7.81G - lr1:0.0004395\u001b[0m"
     ]
    },
    {
     "name": "stdout",
     "output_type": "stream",
     "text": [
      "\u001b[34m\u001b[1m\r",
      "[Training ] 442/1657 [=======>......................] - ETA: 1:29:23  loss:2.2058 - accuracy:0.3125 - f1:0.0834 - gpu_mem:7.81G - lr1:0.0004406\u001b[0m"
     ]
    },
    {
     "name": "stdout",
     "output_type": "stream",
     "text": [
      "\u001b[34m\u001b[1m\r",
      "[Training ] 443/1657 [=======>......................] - ETA: 1:29:19  loss:2.2877 - accuracy:0.1875 - f1:0.0920 - gpu_mem:7.81G - lr1:0.0004416\u001b[0m"
     ]
    },
    {
     "name": "stdout",
     "output_type": "stream",
     "text": [
      "\u001b[34m\u001b[1m\r",
      "[Training ] 444/1657 [=======>......................] - ETA: 1:29:14  loss:2.4198 - accuracy:0.1875 - f1:0.0975 - gpu_mem:7.81G - lr1:0.0004426\u001b[0m"
     ]
    },
    {
     "name": "stdout",
     "output_type": "stream",
     "text": [
      "\u001b[34m\u001b[1m\r",
      "[Training ] 445/1657 [=======>......................] - ETA: 1:29:10  loss:2.2915 - accuracy:0.1719 - f1:0.0646 - gpu_mem:7.81G - lr1:0.0004436\u001b[0m"
     ]
    },
    {
     "name": "stdout",
     "output_type": "stream",
     "text": [
      "\u001b[34m\u001b[1m\r",
      "[Training ] 446/1657 [=======>......................] - ETA: 1:29:05  loss:2.2742 - accuracy:0.2656 - f1:0.0722 - gpu_mem:7.81G - lr1:0.0004446\u001b[0m"
     ]
    },
    {
     "name": "stdout",
     "output_type": "stream",
     "text": [
      "\u001b[34m\u001b[1m\r",
      "[Training ] 447/1657 [=======>......................] - ETA: 1:29:01  loss:2.2725 - accuracy:0.2188 - f1:0.1083 - gpu_mem:7.81G - lr1:0.0004456\u001b[0m"
     ]
    },
    {
     "name": "stdout",
     "output_type": "stream",
     "text": [
      "\u001b[34m\u001b[1m\r",
      "[Training ] 448/1657 [=======>......................] - ETA: 1:28:56  loss:2.2739 - accuracy:0.2656 - f1:0.0851 - gpu_mem:7.81G - lr1:0.0004466\u001b[0m"
     ]
    },
    {
     "name": "stdout",
     "output_type": "stream",
     "text": [
      "\u001b[34m\u001b[1m\r",
      "[Training ] 449/1657 [=======>......................] - ETA: 1:28:52  loss:2.3138 - accuracy:0.2188 - f1:0.1110 - gpu_mem:7.81G - lr1:0.0004476\u001b[0m"
     ]
    },
    {
     "name": "stdout",
     "output_type": "stream",
     "text": [
      "\u001b[34m\u001b[1m\r",
      "[Training ] 450/1657 [=======>......................] - ETA: 1:28:47  loss:2.3088 - accuracy:0.2188 - f1:0.1355 - gpu_mem:7.81G - lr1:0.0004486\u001b[0m"
     ]
    },
    {
     "name": "stdout",
     "output_type": "stream",
     "text": [
      "\u001b[34m\u001b[1m\r",
      "[Training ] 451/1657 [=======>......................] - ETA: 1:28:43  loss:2.3468 - accuracy:0.1875 - f1:0.0815 - gpu_mem:7.81G - lr1:0.0004496\u001b[0m"
     ]
    },
    {
     "name": "stdout",
     "output_type": "stream",
     "text": [
      "\u001b[34m\u001b[1m\r",
      "[Training ] 452/1657 [=======>......................] - ETA: 1:28:39  loss:2.2802 - accuracy:0.2188 - f1:0.0816 - gpu_mem:7.81G - lr1:0.0004506\u001b[0m"
     ]
    },
    {
     "name": "stdout",
     "output_type": "stream",
     "text": [
      "\u001b[34m\u001b[1m\r",
      "[Training ] 453/1657 [=======>......................] - ETA: 1:28:34  loss:2.2070 - accuracy:0.3750 - f1:0.2020 - gpu_mem:7.81G - lr1:0.0004516\u001b[0m"
     ]
    },
    {
     "name": "stdout",
     "output_type": "stream",
     "text": [
      "\u001b[34m\u001b[1m\r",
      "[Training ] 454/1657 [=======>......................] - ETA: 1:28:30  loss:2.2252 - accuracy:0.3281 - f1:0.1219 - gpu_mem:7.81G - lr1:0.0004526\u001b[0m"
     ]
    },
    {
     "name": "stdout",
     "output_type": "stream",
     "text": [
      "\u001b[34m\u001b[1m\r",
      "[Training ] 455/1657 [=======>......................] - ETA: 1:28:25  loss:2.2411 - accuracy:0.2656 - f1:0.1099 - gpu_mem:7.81G - lr1:0.0004536\u001b[0m"
     ]
    },
    {
     "name": "stdout",
     "output_type": "stream",
     "text": [
      "\u001b[34m\u001b[1m\r",
      "[Training ] 456/1657 [=======>......................] - ETA: 1:28:21  loss:2.3024 - accuracy:0.2031 - f1:0.1212 - gpu_mem:7.81G - lr1:0.0004546\u001b[0m"
     ]
    },
    {
     "name": "stdout",
     "output_type": "stream",
     "text": [
      "\u001b[34m\u001b[1m\r",
      "[Training ] 457/1657 [=======>......................] - ETA: 1:28:16  loss:2.1989 - accuracy:0.3281 - f1:0.1559 - gpu_mem:7.81G - lr1:0.0004556\u001b[0m"
     ]
    },
    {
     "name": "stdout",
     "output_type": "stream",
     "text": [
      "\u001b[34m\u001b[1m\r",
      "[Training ] 458/1657 [=======>......................] - ETA: 1:28:12  loss:2.3262 - accuracy:0.2031 - f1:0.0646 - gpu_mem:7.81G - lr1:0.0004566\u001b[0m"
     ]
    },
    {
     "name": "stdout",
     "output_type": "stream",
     "text": [
      "\u001b[34m\u001b[1m\r",
      "[Training ] 459/1657 [=======>......................] - ETA: 1:28:07  loss:2.2630 - accuracy:0.2812 - f1:0.1369 - gpu_mem:7.81G - lr1:0.0004577\u001b[0m"
     ]
    },
    {
     "name": "stdout",
     "output_type": "stream",
     "text": [
      "\u001b[34m\u001b[1m\r",
      "[Training ] 460/1657 [=======>......................] - ETA: 1:28:03  loss:2.3442 - accuracy:0.1562 - f1:0.0650 - gpu_mem:7.81G - lr1:0.0004587\u001b[0m"
     ]
    },
    {
     "name": "stdout",
     "output_type": "stream",
     "text": [
      "\u001b[34m\u001b[1m\r",
      "[Training ] 461/1657 [=======>......................] - ETA: 1:27:58  loss:2.3427 - accuracy:0.2969 - f1:0.0863 - gpu_mem:7.81G - lr1:0.0004597\u001b[0m"
     ]
    },
    {
     "name": "stdout",
     "output_type": "stream",
     "text": [
      "\u001b[34m\u001b[1m\r",
      "[Training ] 462/1657 [=======>......................] - ETA: 1:27:54  loss:2.3009 - accuracy:0.2344 - f1:0.0679 - gpu_mem:7.81G - lr1:0.0004607\u001b[0m"
     ]
    },
    {
     "name": "stdout",
     "output_type": "stream",
     "text": [
      "\u001b[34m\u001b[1m\r",
      "[Training ] 463/1657 [=======>......................] - ETA: 1:27:50  loss:2.3322 - accuracy:0.2031 - f1:0.1345 - gpu_mem:7.81G - lr1:0.0004617\u001b[0m"
     ]
    },
    {
     "name": "stdout",
     "output_type": "stream",
     "text": [
      "\u001b[34m\u001b[1m\r",
      "[Training ] 464/1657 [=======>......................] - ETA: 1:27:45  loss:2.3598 - accuracy:0.1406 - f1:0.0653 - gpu_mem:7.81G - lr1:0.0004627\u001b[0m"
     ]
    },
    {
     "name": "stdout",
     "output_type": "stream",
     "text": [
      "\u001b[34m\u001b[1m\r",
      "[Training ] 465/1657 [=======>......................] - ETA: 1:27:41  loss:2.2513 - accuracy:0.3125 - f1:0.1564 - gpu_mem:7.81G - lr1:0.0004637\u001b[0m"
     ]
    },
    {
     "name": "stdout",
     "output_type": "stream",
     "text": [
      "\u001b[34m\u001b[1m\r",
      "[Training ] 466/1657 [=======>......................] - ETA: 1:27:36  loss:2.2910 - accuracy:0.2031 - f1:0.0803 - gpu_mem:7.81G - lr1:0.0004647\u001b[0m"
     ]
    },
    {
     "name": "stdout",
     "output_type": "stream",
     "text": [
      "\u001b[34m\u001b[1m\r",
      "[Training ] 467/1657 [=======>......................] - ETA: 1:27:32  loss:2.3060 - accuracy:0.2031 - f1:0.0849 - gpu_mem:7.81G - lr1:0.0004657\u001b[0m"
     ]
    },
    {
     "name": "stdout",
     "output_type": "stream",
     "text": [
      "\u001b[34m\u001b[1m\r",
      "[Training ] 468/1657 [=======>......................] - ETA: 1:27:27  loss:2.3141 - accuracy:0.2188 - f1:0.1406 - gpu_mem:7.81G - lr1:0.0004667\u001b[0m"
     ]
    },
    {
     "name": "stdout",
     "output_type": "stream",
     "text": [
      "\u001b[34m\u001b[1m\r",
      "[Training ] 469/1657 [=======>......................] - ETA: 1:27:23  loss:2.2035 - accuracy:0.4062 - f1:0.1374 - gpu_mem:7.81G - lr1:0.0004677\u001b[0m"
     ]
    },
    {
     "name": "stdout",
     "output_type": "stream",
     "text": [
      "\u001b[34m\u001b[1m\r",
      "[Training ] 470/1657 [=======>......................] - ETA: 1:27:18  loss:2.2865 - accuracy:0.2188 - f1:0.0768 - gpu_mem:7.81G - lr1:0.0004687\u001b[0m"
     ]
    },
    {
     "name": "stdout",
     "output_type": "stream",
     "text": [
      "\u001b[34m\u001b[1m\r",
      "[Training ] 471/1657 [=======>......................] - ETA: 1:27:14  loss:2.3102 - accuracy:0.2188 - f1:0.1143 - gpu_mem:7.81G - lr1:0.0004697\u001b[0m"
     ]
    },
    {
     "name": "stdout",
     "output_type": "stream",
     "text": [
      "\u001b[34m\u001b[1m\r",
      "[Training ] 472/1657 [=======>......................] - ETA: 1:27:09  loss:2.1985 - accuracy:0.3594 - f1:0.1454 - gpu_mem:7.81G - lr1:0.0004707\u001b[0m"
     ]
    },
    {
     "name": "stdout",
     "output_type": "stream",
     "text": [
      "\u001b[34m\u001b[1m\r",
      "[Training ] 473/1657 [=======>......................] - ETA: 1:27:05  loss:2.2570 - accuracy:0.2969 - f1:0.1171 - gpu_mem:7.81G - lr1:0.0004717\u001b[0m"
     ]
    },
    {
     "name": "stdout",
     "output_type": "stream",
     "text": [
      "\u001b[34m\u001b[1m\r",
      "[Training ] 474/1657 [=======>......................] - ETA: 1:27:01  loss:2.3397 - accuracy:0.2031 - f1:0.1080 - gpu_mem:7.81G - lr1:0.0004727\u001b[0m"
     ]
    },
    {
     "name": "stdout",
     "output_type": "stream",
     "text": [
      "\u001b[34m\u001b[1m\r",
      "[Training ] 475/1657 [=======>......................] - ETA: 1:26:56  loss:2.2358 - accuracy:0.2969 - f1:0.1174 - gpu_mem:7.81G - lr1:0.0004737\u001b[0m"
     ]
    },
    {
     "name": "stdout",
     "output_type": "stream",
     "text": [
      "\u001b[34m\u001b[1m\r",
      "[Training ] 476/1657 [=======>......................] - ETA: 1:26:52  loss:2.3473 - accuracy:0.1250 - f1:0.0460 - gpu_mem:7.81G - lr1:0.0004748\u001b[0m"
     ]
    },
    {
     "name": "stdout",
     "output_type": "stream",
     "text": [
      "\u001b[34m\u001b[1m\r",
      "[Training ] 477/1657 [=======>......................] - ETA: 1:26:47  loss:2.2481 - accuracy:0.2969 - f1:0.1331 - gpu_mem:7.81G - lr1:0.0004758\u001b[0m"
     ]
    },
    {
     "name": "stdout",
     "output_type": "stream",
     "text": [
      "\u001b[34m\u001b[1m\r",
      "[Training ] 478/1657 [=======>......................] - ETA: 1:26:43  loss:2.3659 - accuracy:0.1875 - f1:0.0800 - gpu_mem:7.81G - lr1:0.0004768\u001b[0m"
     ]
    },
    {
     "name": "stdout",
     "output_type": "stream",
     "text": [
      "\u001b[34m\u001b[1m\r",
      "[Training ] 479/1657 [=======>......................] - ETA: 1:26:38  loss:2.3432 - accuracy:0.1875 - f1:0.0752 - gpu_mem:7.81G - lr1:0.0004778\u001b[0m"
     ]
    },
    {
     "name": "stdout",
     "output_type": "stream",
     "text": [
      "\u001b[34m\u001b[1m\r",
      "[Training ] 480/1657 [=======>......................] - ETA: 1:26:34  loss:2.2278 - accuracy:0.2656 - f1:0.0723 - gpu_mem:7.81G - lr1:0.0004788\u001b[0m"
     ]
    },
    {
     "name": "stdout",
     "output_type": "stream",
     "text": [
      "\u001b[34m\u001b[1m\r",
      "[Training ] 481/1657 [=======>......................] - ETA: 1:26:29  loss:2.2836 - accuracy:0.2500 - f1:0.0958 - gpu_mem:7.81G - lr1:0.0004798\u001b[0m"
     ]
    },
    {
     "name": "stdout",
     "output_type": "stream",
     "text": [
      "\u001b[34m\u001b[1m\r",
      "[Training ] 482/1657 [=======>......................] - ETA: 1:26:25  loss:2.2533 - accuracy:0.2500 - f1:0.0679 - gpu_mem:7.81G - lr1:0.0004808\u001b[0m"
     ]
    },
    {
     "name": "stdout",
     "output_type": "stream",
     "text": [
      "\u001b[34m\u001b[1m\r",
      "[Training ] 483/1657 [=======>......................] - ETA: 1:26:21  loss:2.3410 - accuracy:0.1406 - f1:0.0750 - gpu_mem:7.81G - lr1:0.0004818\u001b[0m"
     ]
    },
    {
     "name": "stdout",
     "output_type": "stream",
     "text": [
      "\u001b[34m\u001b[1m\r",
      "[Training ] 484/1657 [=======>......................] - ETA: 1:26:16  loss:2.2396 - accuracy:0.2812 - f1:0.1090 - gpu_mem:7.81G - lr1:0.0004828\u001b[0m"
     ]
    },
    {
     "name": "stdout",
     "output_type": "stream",
     "text": [
      "\u001b[34m\u001b[1m\r",
      "[Training ] 485/1657 [=======>......................] - ETA: 1:26:12  loss:2.3006 - accuracy:0.2500 - f1:0.1287 - gpu_mem:7.81G - lr1:0.0004838\u001b[0m"
     ]
    },
    {
     "name": "stdout",
     "output_type": "stream",
     "text": [
      "\u001b[34m\u001b[1m\r",
      "[Training ] 486/1657 [=======>......................] - ETA: 1:26:07  loss:2.3085 - accuracy:0.2500 - f1:0.1191 - gpu_mem:7.81G - lr1:0.0004848\u001b[0m"
     ]
    },
    {
     "name": "stdout",
     "output_type": "stream",
     "text": [
      "\u001b[34m\u001b[1m\r",
      "[Training ] 487/1657 [=======>......................] - ETA: 1:26:03  loss:2.3059 - accuracy:0.2031 - f1:0.0818 - gpu_mem:7.81G - lr1:0.0004858\u001b[0m"
     ]
    },
    {
     "name": "stdout",
     "output_type": "stream",
     "text": [
      "\u001b[34m\u001b[1m\r",
      "[Training ] 488/1657 [=======>......................] - ETA: 1:25:58  loss:2.3635 - accuracy:0.2031 - f1:0.0976 - gpu_mem:7.81G - lr1:0.0004868\u001b[0m"
     ]
    },
    {
     "name": "stdout",
     "output_type": "stream",
     "text": [
      "\u001b[34m\u001b[1m\r",
      "[Training ] 489/1657 [=======>......................] - ETA: 1:25:54  loss:2.3274 - accuracy:0.1406 - f1:0.0775 - gpu_mem:7.81G - lr1:0.0004878\u001b[0m"
     ]
    },
    {
     "name": "stdout",
     "output_type": "stream",
     "text": [
      "\u001b[34m\u001b[1m\r",
      "[Training ] 490/1657 [=======>......................] - ETA: 1:25:49  loss:2.2944 - accuracy:0.2031 - f1:0.0847 - gpu_mem:7.81G - lr1:0.0004888\u001b[0m"
     ]
    },
    {
     "name": "stdout",
     "output_type": "stream",
     "text": [
      "\u001b[34m\u001b[1m\r",
      "[Training ] 491/1657 [=======>......................] - ETA: 1:25:45  loss:2.2752 - accuracy:0.2344 - f1:0.1032 - gpu_mem:7.81G - lr1:0.0004898\u001b[0m"
     ]
    },
    {
     "name": "stdout",
     "output_type": "stream",
     "text": [
      "\u001b[34m\u001b[1m\r",
      "[Training ] 492/1657 [=======>......................] - ETA: 1:25:40  loss:2.3139 - accuracy:0.1719 - f1:0.0565 - gpu_mem:7.81G - lr1:0.0004908\u001b[0m"
     ]
    },
    {
     "name": "stdout",
     "output_type": "stream",
     "text": [
      "\u001b[34m\u001b[1m\r",
      "[Training ] 493/1657 [=======>......................] - ETA: 1:25:36  loss:2.2681 - accuracy:0.2031 - f1:0.0672 - gpu_mem:7.81G - lr1:0.0004919\u001b[0m"
     ]
    },
    {
     "name": "stdout",
     "output_type": "stream",
     "text": [
      "\u001b[34m\u001b[1m\r",
      "[Training ] 494/1657 [=======>......................] - ETA: 1:25:32  loss:2.2379 - accuracy:0.2969 - f1:0.1193 - gpu_mem:7.81G - lr1:0.0004929\u001b[0m"
     ]
    },
    {
     "name": "stdout",
     "output_type": "stream",
     "text": [
      "\u001b[34m\u001b[1m\r",
      "[Training ] 495/1657 [=======>......................] - ETA: 1:25:27  loss:2.2514 - accuracy:0.2812 - f1:0.0738 - gpu_mem:7.81G - lr1:0.0004939\u001b[0m"
     ]
    },
    {
     "name": "stdout",
     "output_type": "stream",
     "text": [
      "\u001b[34m\u001b[1m\r",
      "[Training ] 496/1657 [=======>......................] - ETA: 1:25:23  loss:2.2507 - accuracy:0.2344 - f1:0.0800 - gpu_mem:7.81G - lr1:0.0004949\u001b[0m"
     ]
    },
    {
     "name": "stdout",
     "output_type": "stream",
     "text": [
      "\u001b[34m\u001b[1m\r",
      "[Training ] 497/1657 [=======>......................] - ETA: 1:25:18  loss:2.2316 - accuracy:0.2656 - f1:0.1348 - gpu_mem:7.81G - lr1:0.0004959\u001b[0m"
     ]
    },
    {
     "name": "stdout",
     "output_type": "stream",
     "text": [
      "\u001b[34m\u001b[1m\r",
      "[Training ] 498/1657 [========>.....................] - ETA: 1:25:14  loss:2.3664 - accuracy:0.1719 - f1:0.0803 - gpu_mem:7.81G - lr1:0.0004969\u001b[0m"
     ]
    },
    {
     "name": "stdout",
     "output_type": "stream",
     "text": [
      "\u001b[34m\u001b[1m\r",
      "[Training ] 499/1657 [========>.....................] - ETA: 1:25:09  loss:2.2448 - accuracy:0.3125 - f1:0.1153 - gpu_mem:7.81G - lr1:0.0004979\u001b[0m"
     ]
    },
    {
     "name": "stdout",
     "output_type": "stream",
     "text": [
      "\u001b[34m\u001b[1m\r",
      "[Training ] 500/1657 [========>.....................] - ETA: 1:25:05  loss:2.3412 - accuracy:0.1719 - f1:0.0573 - gpu_mem:7.81G - lr1:0.0004989\u001b[0m"
     ]
    },
    {
     "name": "stdout",
     "output_type": "stream",
     "text": [
      "\u001b[34m\u001b[1m\r",
      "[Training ] 501/1657 [========>.....................] - ETA: 1:25:00  loss:2.2278 - accuracy:0.2969 - f1:0.1307 - gpu_mem:7.81G - lr1:0.0004999\u001b[0m"
     ]
    },
    {
     "name": "stdout",
     "output_type": "stream",
     "text": [
      "\u001b[34m\u001b[1m\r",
      "[Training ] 502/1657 [========>.....................] - ETA: 1:24:56  loss:2.1973 - accuracy:0.3125 - f1:0.1571 - gpu_mem:7.81G - lr1:0.0005009\u001b[0m"
     ]
    },
    {
     "name": "stdout",
     "output_type": "stream",
     "text": [
      "\u001b[34m\u001b[1m\r",
      "[Training ] 503/1657 [========>.....................] - ETA: 1:24:52  loss:2.2718 - accuracy:0.2500 - f1:0.1125 - gpu_mem:7.81G - lr1:0.0005019\u001b[0m"
     ]
    },
    {
     "name": "stdout",
     "output_type": "stream",
     "text": [
      "\u001b[34m\u001b[1m\r",
      "[Training ] 504/1657 [========>.....................] - ETA: 1:24:47  loss:2.2329 - accuracy:0.2344 - f1:0.0557 - gpu_mem:7.81G - lr1:0.0005029\u001b[0m"
     ]
    },
    {
     "name": "stdout",
     "output_type": "stream",
     "text": [
      "\u001b[34m\u001b[1m\r",
      "[Training ] 505/1657 [========>.....................] - ETA: 1:24:43  loss:2.2744 - accuracy:0.2031 - f1:0.0506 - gpu_mem:7.81G - lr1:0.0005039\u001b[0m"
     ]
    },
    {
     "name": "stdout",
     "output_type": "stream",
     "text": [
      "\u001b[34m\u001b[1m\r",
      "[Training ] 506/1657 [========>.....................] - ETA: 1:24:38  loss:2.2885 - accuracy:0.2500 - f1:0.1247 - gpu_mem:7.81G - lr1:0.0005049\u001b[0m"
     ]
    },
    {
     "name": "stdout",
     "output_type": "stream",
     "text": [
      "\u001b[34m\u001b[1m\r",
      "[Training ] 507/1657 [========>.....................] - ETA: 1:24:34  loss:2.2486 - accuracy:0.2812 - f1:0.1023 - gpu_mem:7.81G - lr1:0.0005059\u001b[0m"
     ]
    },
    {
     "name": "stdout",
     "output_type": "stream",
     "text": [
      "\u001b[34m\u001b[1m\r",
      "[Training ] 508/1657 [========>.....................] - ETA: 1:24:29  loss:2.3517 - accuracy:0.1562 - f1:0.0592 - gpu_mem:7.81G - lr1:0.0005069\u001b[0m"
     ]
    },
    {
     "name": "stdout",
     "output_type": "stream",
     "text": [
      "\u001b[34m\u001b[1m\r",
      "[Training ] 509/1657 [========>.....................] - ETA: 1:24:25  loss:2.2935 - accuracy:0.2344 - f1:0.1048 - gpu_mem:7.81G - lr1:0.0005079\u001b[0m"
     ]
    },
    {
     "name": "stdout",
     "output_type": "stream",
     "text": [
      "\u001b[34m\u001b[1m\r",
      "[Training ] 510/1657 [========>.....................] - ETA: 1:24:21  loss:2.2868 - accuracy:0.2344 - f1:0.0903 - gpu_mem:7.81G - lr1:0.0005090\u001b[0m"
     ]
    },
    {
     "name": "stdout",
     "output_type": "stream",
     "text": [
      "\u001b[34m\u001b[1m\r",
      "[Training ] 511/1657 [========>.....................] - ETA: 1:24:16  loss:2.2354 - accuracy:0.2812 - f1:0.1098 - gpu_mem:7.81G - lr1:0.0005100\u001b[0m"
     ]
    },
    {
     "name": "stdout",
     "output_type": "stream",
     "text": [
      "\u001b[34m\u001b[1m\r",
      "[Training ] 512/1657 [========>.....................] - ETA: 1:24:12  loss:2.3005 - accuracy:0.2500 - f1:0.0747 - gpu_mem:7.81G - lr1:0.0005110\u001b[0m"
     ]
    },
    {
     "name": "stdout",
     "output_type": "stream",
     "text": [
      "\u001b[34m\u001b[1m\r",
      "[Training ] 513/1657 [========>.....................] - ETA: 1:24:07  loss:2.2277 - accuracy:0.2656 - f1:0.1100 - gpu_mem:7.81G - lr1:0.0005120\u001b[0m"
     ]
    },
    {
     "name": "stdout",
     "output_type": "stream",
     "text": [
      "\u001b[34m\u001b[1m\r",
      "[Training ] 514/1657 [========>.....................] - ETA: 1:24:03  loss:2.3284 - accuracy:0.2031 - f1:0.0968 - gpu_mem:7.81G - lr1:0.0005130\u001b[0m"
     ]
    },
    {
     "name": "stdout",
     "output_type": "stream",
     "text": [
      "\u001b[34m\u001b[1m\r",
      "[Training ] 515/1657 [========>.....................] - ETA: 1:23:58  loss:2.1827 - accuracy:0.3281 - f1:0.1035 - gpu_mem:7.81G - lr1:0.0005140\u001b[0m"
     ]
    },
    {
     "name": "stdout",
     "output_type": "stream",
     "text": [
      "\u001b[34m\u001b[1m\r",
      "[Training ] 516/1657 [========>.....................] - ETA: 1:23:54  loss:2.3024 - accuracy:0.1719 - f1:0.0913 - gpu_mem:7.81G - lr1:0.0005150\u001b[0m"
     ]
    },
    {
     "name": "stdout",
     "output_type": "stream",
     "text": [
      "\u001b[34m\u001b[1m\r",
      "[Training ] 517/1657 [========>.....................] - ETA: 1:23:50  loss:2.3321 - accuracy:0.2031 - f1:0.0859 - gpu_mem:7.81G - lr1:0.0005160\u001b[0m"
     ]
    },
    {
     "name": "stdout",
     "output_type": "stream",
     "text": [
      "\u001b[34m\u001b[1m\r",
      "[Training ] 518/1657 [========>.....................] - ETA: 1:23:45  loss:2.2398 - accuracy:0.3125 - f1:0.2416 - gpu_mem:7.81G - lr1:0.0005170\u001b[0m"
     ]
    },
    {
     "name": "stdout",
     "output_type": "stream",
     "text": [
      "\u001b[34m\u001b[1m\r",
      "[Training ] 519/1657 [========>.....................] - ETA: 1:23:41  loss:2.2517 - accuracy:0.2656 - f1:0.1307 - gpu_mem:7.81G - lr1:0.0005180\u001b[0m"
     ]
    },
    {
     "name": "stdout",
     "output_type": "stream",
     "text": [
      "\u001b[34m\u001b[1m\r",
      "[Training ] 520/1657 [========>.....................] - ETA: 1:23:36  loss:2.2776 - accuracy:0.2500 - f1:0.1498 - gpu_mem:7.81G - lr1:0.0005190\u001b[0m"
     ]
    },
    {
     "name": "stdout",
     "output_type": "stream",
     "text": [
      "\u001b[34m\u001b[1m\r",
      "[Training ] 521/1657 [========>.....................] - ETA: 1:23:32  loss:2.2346 - accuracy:0.2812 - f1:0.1335 - gpu_mem:7.81G - lr1:0.0005200\u001b[0m"
     ]
    },
    {
     "name": "stdout",
     "output_type": "stream",
     "text": [
      "\u001b[34m\u001b[1m\r",
      "[Training ] 522/1657 [========>.....................] - ETA: 1:23:27  loss:2.3121 - accuracy:0.1719 - f1:0.0704 - gpu_mem:7.81G - lr1:0.0005210\u001b[0m"
     ]
    },
    {
     "name": "stdout",
     "output_type": "stream",
     "text": [
      "\u001b[34m\u001b[1m\r",
      "[Training ] 523/1657 [========>.....................] - ETA: 1:23:23  loss:2.1669 - accuracy:0.3125 - f1:0.0777 - gpu_mem:7.81G - lr1:0.0005220\u001b[0m"
     ]
    },
    {
     "name": "stdout",
     "output_type": "stream",
     "text": [
      "\u001b[34m\u001b[1m\r",
      "[Training ] 524/1657 [========>.....................] - ETA: 1:23:18  loss:2.2179 - accuracy:0.2969 - f1:0.0947 - gpu_mem:7.81G - lr1:0.0005230\u001b[0m"
     ]
    },
    {
     "name": "stdout",
     "output_type": "stream",
     "text": [
      "\u001b[34m\u001b[1m\r",
      "[Training ] 525/1657 [========>.....................] - ETA: 1:23:14  loss:2.2326 - accuracy:0.2812 - f1:0.0851 - gpu_mem:7.81G - lr1:0.0005240\u001b[0m"
     ]
    },
    {
     "name": "stdout",
     "output_type": "stream",
     "text": [
      "\u001b[34m\u001b[1m\r",
      "[Training ] 526/1657 [========>.....................] - ETA: 1:23:10  loss:2.1870 - accuracy:0.3594 - f1:0.1267 - gpu_mem:7.81G - lr1:0.0005250\u001b[0m"
     ]
    },
    {
     "name": "stdout",
     "output_type": "stream",
     "text": [
      "\u001b[34m\u001b[1m\r",
      "[Training ] 527/1657 [========>.....................] - ETA: 1:23:05  loss:2.2228 - accuracy:0.2500 - f1:0.0828 - gpu_mem:7.81G - lr1:0.0005261\u001b[0m"
     ]
    },
    {
     "name": "stdout",
     "output_type": "stream",
     "text": [
      "\u001b[34m\u001b[1m\r",
      "[Training ] 528/1657 [========>.....................] - ETA: 1:23:01  loss:2.3009 - accuracy:0.2188 - f1:0.0716 - gpu_mem:7.81G - lr1:0.0005271\u001b[0m"
     ]
    },
    {
     "name": "stdout",
     "output_type": "stream",
     "text": [
      "\u001b[34m\u001b[1m\r",
      "[Training ] 529/1657 [========>.....................] - ETA: 1:22:56  loss:2.2141 - accuracy:0.2812 - f1:0.1314 - gpu_mem:7.81G - lr1:0.0005281\u001b[0m"
     ]
    },
    {
     "name": "stdout",
     "output_type": "stream",
     "text": [
      "\u001b[34m\u001b[1m\r",
      "[Training ] 530/1657 [========>.....................] - ETA: 1:22:52  loss:2.2306 - accuracy:0.3125 - f1:0.0860 - gpu_mem:7.81G - lr1:0.0005291\u001b[0m"
     ]
    },
    {
     "name": "stdout",
     "output_type": "stream",
     "text": [
      "\u001b[34m\u001b[1m\r",
      "[Training ] 531/1657 [========>.....................] - ETA: 1:22:47  loss:2.2848 - accuracy:0.2344 - f1:0.0987 - gpu_mem:7.81G - lr1:0.0005301\u001b[0m"
     ]
    },
    {
     "name": "stdout",
     "output_type": "stream",
     "text": [
      "\u001b[34m\u001b[1m\r",
      "[Training ] 532/1657 [========>.....................] - ETA: 1:22:43  loss:2.3976 - accuracy:0.1406 - f1:0.0455 - gpu_mem:7.81G - lr1:0.0005311\u001b[0m"
     ]
    },
    {
     "name": "stdout",
     "output_type": "stream",
     "text": [
      "\u001b[34m\u001b[1m\r",
      "[Training ] 533/1657 [========>.....................] - ETA: 1:22:38  loss:2.3631 - accuracy:0.2031 - f1:0.1523 - gpu_mem:7.81G - lr1:0.0005321\u001b[0m"
     ]
    },
    {
     "name": "stdout",
     "output_type": "stream",
     "text": [
      "\u001b[34m\u001b[1m\r",
      "[Training ] 534/1657 [========>.....................] - ETA: 1:22:34  loss:2.2599 - accuracy:0.2656 - f1:0.1039 - gpu_mem:7.81G - lr1:0.0005331\u001b[0m"
     ]
    },
    {
     "name": "stdout",
     "output_type": "stream",
     "text": [
      "\u001b[34m\u001b[1m\r",
      "[Training ] 535/1657 [========>.....................] - ETA: 1:22:30  loss:2.2739 - accuracy:0.2188 - f1:0.0760 - gpu_mem:7.81G - lr1:0.0005341\u001b[0m"
     ]
    },
    {
     "name": "stdout",
     "output_type": "stream",
     "text": [
      "\u001b[34m\u001b[1m\r",
      "[Training ] 536/1657 [========>.....................] - ETA: 1:22:25  loss:2.2889 - accuracy:0.2031 - f1:0.0903 - gpu_mem:7.81G - lr1:0.0005351\u001b[0m"
     ]
    },
    {
     "name": "stdout",
     "output_type": "stream",
     "text": [
      "\u001b[34m\u001b[1m\r",
      "[Training ] 537/1657 [========>.....................] - ETA: 1:22:21  loss:2.2195 - accuracy:0.2969 - f1:0.0728 - gpu_mem:7.81G - lr1:0.0005361\u001b[0m"
     ]
    },
    {
     "name": "stdout",
     "output_type": "stream",
     "text": [
      "\u001b[34m\u001b[1m\r",
      "[Training ] 538/1657 [========>.....................] - ETA: 1:22:16  loss:2.2295 - accuracy:0.2500 - f1:0.0726 - gpu_mem:7.81G - lr1:0.0005371\u001b[0m"
     ]
    },
    {
     "name": "stdout",
     "output_type": "stream",
     "text": [
      "\u001b[34m\u001b[1m\r",
      "[Training ] 539/1657 [========>.....................] - ETA: 1:22:12  loss:2.2643 - accuracy:0.2031 - f1:0.0682 - gpu_mem:7.81G - lr1:0.0005381\u001b[0m"
     ]
    },
    {
     "name": "stdout",
     "output_type": "stream",
     "text": [
      "\u001b[34m\u001b[1m\r",
      "[Training ] 540/1657 [========>.....................] - ETA: 1:22:07  loss:2.2362 - accuracy:0.2969 - f1:0.1410 - gpu_mem:7.81G - lr1:0.0005391\u001b[0m"
     ]
    },
    {
     "name": "stdout",
     "output_type": "stream",
     "text": [
      "\u001b[34m\u001b[1m\r",
      "[Training ] 541/1657 [========>.....................] - ETA: 1:22:03  loss:2.2377 - accuracy:0.2500 - f1:0.0970 - gpu_mem:7.81G - lr1:0.0005401\u001b[0m"
     ]
    },
    {
     "name": "stdout",
     "output_type": "stream",
     "text": [
      "\u001b[34m\u001b[1m\r",
      "[Training ] 542/1657 [========>.....................] - ETA: 1:21:58  loss:2.1848 - accuracy:0.2812 - f1:0.0995 - gpu_mem:7.81G - lr1:0.0005411\u001b[0m"
     ]
    },
    {
     "name": "stdout",
     "output_type": "stream",
     "text": [
      "\u001b[34m\u001b[1m\r",
      "[Training ] 543/1657 [========>.....................] - ETA: 1:21:54  loss:2.2692 - accuracy:0.2344 - f1:0.0758 - gpu_mem:7.81G - lr1:0.0005421\u001b[0m"
     ]
    },
    {
     "name": "stdout",
     "output_type": "stream",
     "text": [
      "\u001b[34m\u001b[1m\r",
      "[Training ] 544/1657 [========>.....................] - ETA: 1:21:50  loss:2.2351 - accuracy:0.2500 - f1:0.1331 - gpu_mem:7.81G - lr1:0.0005432\u001b[0m"
     ]
    },
    {
     "name": "stdout",
     "output_type": "stream",
     "text": [
      "\u001b[34m\u001b[1m\r",
      "[Training ] 545/1657 [========>.....................] - ETA: 1:21:45  loss:2.2993 - accuracy:0.1875 - f1:0.1063 - gpu_mem:7.81G - lr1:0.0005442\u001b[0m"
     ]
    },
    {
     "name": "stdout",
     "output_type": "stream",
     "text": [
      "\u001b[34m\u001b[1m\r",
      "[Training ] 546/1657 [========>.....................] - ETA: 1:21:41  loss:2.3191 - accuracy:0.1875 - f1:0.1033 - gpu_mem:7.81G - lr1:0.0005452\u001b[0m"
     ]
    },
    {
     "name": "stdout",
     "output_type": "stream",
     "text": [
      "\u001b[34m\u001b[1m\r",
      "[Training ] 547/1657 [========>.....................] - ETA: 1:21:36  loss:2.2558 - accuracy:0.2500 - f1:0.0920 - gpu_mem:7.81G - lr1:0.0005462\u001b[0m"
     ]
    },
    {
     "name": "stdout",
     "output_type": "stream",
     "text": [
      "\u001b[34m\u001b[1m\r",
      "[Training ] 548/1657 [========>.....................] - ETA: 1:21:32  loss:2.2689 - accuracy:0.2031 - f1:0.0952 - gpu_mem:7.81G - lr1:0.0005472\u001b[0m"
     ]
    },
    {
     "name": "stdout",
     "output_type": "stream",
     "text": [
      "\u001b[34m\u001b[1m\r",
      "[Training ] 549/1657 [========>.....................] - ETA: 1:21:27  loss:2.3320 - accuracy:0.2812 - f1:0.1632 - gpu_mem:7.81G - lr1:0.0005482\u001b[0m"
     ]
    },
    {
     "name": "stdout",
     "output_type": "stream",
     "text": [
      "\u001b[34m\u001b[1m\r",
      "[Training ] 550/1657 [========>.....................] - ETA: 1:21:23  loss:2.2561 - accuracy:0.2344 - f1:0.0624 - gpu_mem:7.81G - lr1:0.0005492\u001b[0m"
     ]
    },
    {
     "name": "stdout",
     "output_type": "stream",
     "text": [
      "\u001b[34m\u001b[1m\r",
      "[Training ] 551/1657 [========>.....................] - ETA: 1:21:18  loss:2.2673 - accuracy:0.2500 - f1:0.0795 - gpu_mem:7.81G - lr1:0.0005502\u001b[0m"
     ]
    },
    {
     "name": "stdout",
     "output_type": "stream",
     "text": [
      "\u001b[34m\u001b[1m\r",
      "[Training ] 552/1657 [========>.....................] - ETA: 1:21:14  loss:2.3274 - accuracy:0.1875 - f1:0.0890 - gpu_mem:7.81G - lr1:0.0005512\u001b[0m"
     ]
    },
    {
     "name": "stdout",
     "output_type": "stream",
     "text": [
      "\u001b[34m\u001b[1m\r",
      "[Training ] 553/1657 [=========>....................] - ETA: 1:21:10  loss:2.2817 - accuracy:0.1875 - f1:0.0766 - gpu_mem:7.81G - lr1:0.0005522\u001b[0m"
     ]
    },
    {
     "name": "stdout",
     "output_type": "stream",
     "text": [
      "\u001b[34m\u001b[1m\r",
      "[Training ] 554/1657 [=========>....................] - ETA: 1:21:05  loss:2.2976 - accuracy:0.2656 - f1:0.1353 - gpu_mem:7.81G - lr1:0.0005532\u001b[0m"
     ]
    },
    {
     "name": "stdout",
     "output_type": "stream",
     "text": [
      "\u001b[34m\u001b[1m\r",
      "[Training ] 555/1657 [=========>....................] - ETA: 1:21:01  loss:2.1888 - accuracy:0.3281 - f1:0.1317 - gpu_mem:7.81G - lr1:0.0005542\u001b[0m"
     ]
    },
    {
     "name": "stdout",
     "output_type": "stream",
     "text": [
      "\u001b[34m\u001b[1m\r",
      "[Training ] 556/1657 [=========>....................] - ETA: 1:20:56  loss:2.3302 - accuracy:0.2031 - f1:0.0769 - gpu_mem:7.81G - lr1:0.0005552\u001b[0m"
     ]
    },
    {
     "name": "stdout",
     "output_type": "stream",
     "text": [
      "\u001b[34m\u001b[1m\r",
      "[Training ] 557/1657 [=========>....................] - ETA: 1:20:52  loss:2.2775 - accuracy:0.3125 - f1:0.1434 - gpu_mem:7.81G - lr1:0.0005562\u001b[0m"
     ]
    },
    {
     "name": "stdout",
     "output_type": "stream",
     "text": [
      "\u001b[34m\u001b[1m\r",
      "[Training ] 558/1657 [=========>....................] - ETA: 1:20:47  loss:2.2799 - accuracy:0.2188 - f1:0.1097 - gpu_mem:7.81G - lr1:0.0005572\u001b[0m"
     ]
    },
    {
     "name": "stdout",
     "output_type": "stream",
     "text": [
      "\u001b[34m\u001b[1m\r",
      "[Training ] 559/1657 [=========>....................] - ETA: 1:20:43  loss:2.2818 - accuracy:0.2344 - f1:0.1040 - gpu_mem:7.81G - lr1:0.0005582\u001b[0m"
     ]
    },
    {
     "name": "stdout",
     "output_type": "stream",
     "text": [
      "\u001b[34m\u001b[1m\r",
      "[Training ] 560/1657 [=========>....................] - ETA: 1:20:38  loss:2.3067 - accuracy:0.2344 - f1:0.1273 - gpu_mem:7.81G - lr1:0.0005592\u001b[0m"
     ]
    },
    {
     "name": "stdout",
     "output_type": "stream",
     "text": [
      "\u001b[34m\u001b[1m\r",
      "[Training ] 561/1657 [=========>....................] - ETA: 1:20:34  loss:2.2332 - accuracy:0.2969 - f1:0.0887 - gpu_mem:7.81G - lr1:0.0005602\u001b[0m"
     ]
    },
    {
     "name": "stdout",
     "output_type": "stream",
     "text": [
      "\u001b[34m\u001b[1m\r",
      "[Training ] 562/1657 [=========>....................] - ETA: 1:20:30  loss:2.2572 - accuracy:0.2656 - f1:0.0915 - gpu_mem:7.81G - lr1:0.0005613\u001b[0m"
     ]
    },
    {
     "name": "stdout",
     "output_type": "stream",
     "text": [
      "\u001b[34m\u001b[1m\r",
      "[Training ] 563/1657 [=========>....................] - ETA: 1:20:25  loss:2.2399 - accuracy:0.3125 - f1:0.1232 - gpu_mem:7.81G - lr1:0.0005623\u001b[0m"
     ]
    },
    {
     "name": "stdout",
     "output_type": "stream",
     "text": [
      "\u001b[34m\u001b[1m\r",
      "[Training ] 564/1657 [=========>....................] - ETA: 1:20:21  loss:2.2435 - accuracy:0.2812 - f1:0.1208 - gpu_mem:7.81G - lr1:0.0005633\u001b[0m"
     ]
    },
    {
     "name": "stdout",
     "output_type": "stream",
     "text": [
      "\u001b[34m\u001b[1m\r",
      "[Training ] 565/1657 [=========>....................] - ETA: 1:20:16  loss:2.2723 - accuracy:0.2188 - f1:0.0665 - gpu_mem:7.81G - lr1:0.0005643\u001b[0m"
     ]
    },
    {
     "name": "stdout",
     "output_type": "stream",
     "text": [
      "\u001b[34m\u001b[1m\r",
      "[Training ] 566/1657 [=========>....................] - ETA: 1:20:12  loss:2.2422 - accuracy:0.2344 - f1:0.0833 - gpu_mem:7.81G - lr1:0.0005653\u001b[0m"
     ]
    },
    {
     "name": "stdout",
     "output_type": "stream",
     "text": [
      "\u001b[34m\u001b[1m\r",
      "[Training ] 567/1657 [=========>....................] - ETA: 1:20:07  loss:2.2762 - accuracy:0.2500 - f1:0.1063 - gpu_mem:7.81G - lr1:0.0005663\u001b[0m"
     ]
    },
    {
     "name": "stdout",
     "output_type": "stream",
     "text": [
      "\u001b[34m\u001b[1m\r",
      "[Training ] 568/1657 [=========>....................] - ETA: 1:20:03  loss:2.1728 - accuracy:0.3594 - f1:0.1396 - gpu_mem:7.81G - lr1:0.0005673\u001b[0m"
     ]
    },
    {
     "name": "stdout",
     "output_type": "stream",
     "text": [
      "\u001b[34m\u001b[1m\r",
      "[Training ] 569/1657 [=========>....................] - ETA: 1:19:59  loss:2.3062 - accuracy:0.2500 - f1:0.1207 - gpu_mem:7.81G - lr1:0.0005683\u001b[0m"
     ]
    },
    {
     "name": "stdout",
     "output_type": "stream",
     "text": [
      "\u001b[34m\u001b[1m\r",
      "[Training ] 570/1657 [=========>....................] - ETA: 1:19:54  loss:2.2593 - accuracy:0.2188 - f1:0.1051 - gpu_mem:7.81G - lr1:0.0005693\u001b[0m"
     ]
    },
    {
     "name": "stdout",
     "output_type": "stream",
     "text": [
      "\u001b[34m\u001b[1m\r",
      "[Training ] 571/1657 [=========>....................] - ETA: 1:19:50  loss:2.3087 - accuracy:0.2344 - f1:0.1088 - gpu_mem:7.81G - lr1:0.0005703\u001b[0m"
     ]
    },
    {
     "name": "stdout",
     "output_type": "stream",
     "text": [
      "\u001b[34m\u001b[1m\r",
      "[Training ] 572/1657 [=========>....................] - ETA: 1:19:45  loss:2.3092 - accuracy:0.1875 - f1:0.0701 - gpu_mem:7.81G - lr1:0.0005713\u001b[0m"
     ]
    },
    {
     "name": "stdout",
     "output_type": "stream",
     "text": [
      "\u001b[34m\u001b[1m\r",
      "[Training ] 573/1657 [=========>....................] - ETA: 1:19:41  loss:2.2611 - accuracy:0.2500 - f1:0.1262 - gpu_mem:7.81G - lr1:0.0005723\u001b[0m"
     ]
    },
    {
     "name": "stdout",
     "output_type": "stream",
     "text": [
      "\u001b[34m\u001b[1m\r",
      "[Training ] 574/1657 [=========>....................] - ETA: 1:19:36  loss:2.2695 - accuracy:0.2188 - f1:0.0698 - gpu_mem:7.81G - lr1:0.0005733\u001b[0m"
     ]
    },
    {
     "name": "stdout",
     "output_type": "stream",
     "text": [
      "\u001b[34m\u001b[1m\r",
      "[Training ] 575/1657 [=========>....................] - ETA: 1:19:32  loss:2.3058 - accuracy:0.2188 - f1:0.1070 - gpu_mem:7.81G - lr1:0.0005743\u001b[0m"
     ]
    },
    {
     "name": "stdout",
     "output_type": "stream",
     "text": [
      "\u001b[34m\u001b[1m\r",
      "[Training ] 576/1657 [=========>....................] - ETA: 1:19:28  loss:2.3275 - accuracy:0.1719 - f1:0.0744 - gpu_mem:7.81G - lr1:0.0005753\u001b[0m"
     ]
    },
    {
     "name": "stdout",
     "output_type": "stream",
     "text": [
      "\u001b[34m\u001b[1m\r",
      "[Training ] 577/1657 [=========>....................] - ETA: 1:19:23  loss:2.2733 - accuracy:0.2344 - f1:0.0535 - gpu_mem:7.81G - lr1:0.0005763\u001b[0m"
     ]
    },
    {
     "name": "stdout",
     "output_type": "stream",
     "text": [
      "\u001b[34m\u001b[1m\r",
      "[Training ] 578/1657 [=========>....................] - ETA: 1:19:19  loss:2.1177 - accuracy:0.4219 - f1:0.2033 - gpu_mem:7.81G - lr1:0.0005773\u001b[0m"
     ]
    },
    {
     "name": "stdout",
     "output_type": "stream",
     "text": [
      "\u001b[34m\u001b[1m\r",
      "[Training ] 579/1657 [=========>....................] - ETA: 1:19:14  loss:2.2441 - accuracy:0.2656 - f1:0.0937 - gpu_mem:7.81G - lr1:0.0005784\u001b[0m"
     ]
    },
    {
     "name": "stdout",
     "output_type": "stream",
     "text": [
      "\u001b[34m\u001b[1m\r",
      "[Training ] 580/1657 [=========>....................] - ETA: 1:19:10  loss:2.2884 - accuracy:0.2031 - f1:0.0852 - gpu_mem:7.81G - lr1:0.0005794\u001b[0m"
     ]
    },
    {
     "name": "stdout",
     "output_type": "stream",
     "text": [
      "\u001b[34m\u001b[1m\r",
      "[Training ] 581/1657 [=========>....................] - ETA: 1:19:05  loss:2.1691 - accuracy:0.2969 - f1:0.0749 - gpu_mem:7.81G - lr1:0.0005804\u001b[0m"
     ]
    },
    {
     "name": "stdout",
     "output_type": "stream",
     "text": [
      "\u001b[34m\u001b[1m\r",
      "[Training ] 582/1657 [=========>....................] - ETA: 1:19:01  loss:2.2544 - accuracy:0.2344 - f1:0.0963 - gpu_mem:7.81G - lr1:0.0005814\u001b[0m"
     ]
    },
    {
     "name": "stdout",
     "output_type": "stream",
     "text": [
      "\u001b[34m\u001b[1m\r",
      "[Training ] 583/1657 [=========>....................] - ETA: 1:18:57  loss:2.2105 - accuracy:0.2969 - f1:0.0776 - gpu_mem:7.81G - lr1:0.0005824\u001b[0m"
     ]
    },
    {
     "name": "stdout",
     "output_type": "stream",
     "text": [
      "\u001b[34m\u001b[1m\r",
      "[Training ] 584/1657 [=========>....................] - ETA: 1:18:52  loss:2.2954 - accuracy:0.2188 - f1:0.1184 - gpu_mem:7.81G - lr1:0.0005834\u001b[0m"
     ]
    },
    {
     "name": "stdout",
     "output_type": "stream",
     "text": [
      "\u001b[34m\u001b[1m\r",
      "[Training ] 585/1657 [=========>....................] - ETA: 1:18:48  loss:2.2430 - accuracy:0.2500 - f1:0.1091 - gpu_mem:7.81G - lr1:0.0005844\u001b[0m"
     ]
    },
    {
     "name": "stdout",
     "output_type": "stream",
     "text": [
      "\u001b[34m\u001b[1m\r",
      "[Training ] 586/1657 [=========>....................] - ETA: 1:18:43  loss:2.2691 - accuracy:0.2500 - f1:0.0986 - gpu_mem:7.81G - lr1:0.0005854\u001b[0m"
     ]
    },
    {
     "name": "stdout",
     "output_type": "stream",
     "text": [
      "\u001b[34m\u001b[1m\r",
      "[Training ] 587/1657 [=========>....................] - ETA: 1:18:39  loss:2.2639 - accuracy:0.1875 - f1:0.0702 - gpu_mem:7.81G - lr1:0.0005864\u001b[0m"
     ]
    },
    {
     "name": "stdout",
     "output_type": "stream",
     "text": [
      "\u001b[34m\u001b[1m\r",
      "[Training ] 588/1657 [=========>....................] - ETA: 1:18:34  loss:2.2518 - accuracy:0.2656 - f1:0.0957 - gpu_mem:7.81G - lr1:0.0005874\u001b[0m"
     ]
    },
    {
     "name": "stdout",
     "output_type": "stream",
     "text": [
      "\u001b[34m\u001b[1m\r",
      "[Training ] 589/1657 [=========>....................] - ETA: 1:18:30  loss:2.2350 - accuracy:0.2812 - f1:0.0891 - gpu_mem:7.81G - lr1:0.0005884\u001b[0m"
     ]
    },
    {
     "name": "stdout",
     "output_type": "stream",
     "text": [
      "\u001b[34m\u001b[1m\r",
      "[Training ] 590/1657 [=========>....................] - ETA: 1:18:26  loss:2.1868 - accuracy:0.3438 - f1:0.0889 - gpu_mem:7.81G - lr1:0.0005894\u001b[0m"
     ]
    },
    {
     "name": "stdout",
     "output_type": "stream",
     "text": [
      "\u001b[34m\u001b[1m\r",
      "[Training ] 591/1657 [=========>....................] - ETA: 1:18:21  loss:2.2026 - accuracy:0.2656 - f1:0.0762 - gpu_mem:7.81G - lr1:0.0005904\u001b[0m"
     ]
    },
    {
     "name": "stdout",
     "output_type": "stream",
     "text": [
      "\u001b[34m\u001b[1m\r",
      "[Training ] 592/1657 [=========>....................] - ETA: 1:18:17  loss:2.2132 - accuracy:0.2969 - f1:0.1566 - gpu_mem:7.81G - lr1:0.0005914\u001b[0m"
     ]
    },
    {
     "name": "stdout",
     "output_type": "stream",
     "text": [
      "\u001b[34m\u001b[1m\r",
      "[Training ] 593/1657 [=========>....................] - ETA: 1:18:12  loss:2.2692 - accuracy:0.2656 - f1:0.1732 - gpu_mem:7.81G - lr1:0.0005924\u001b[0m"
     ]
    },
    {
     "name": "stdout",
     "output_type": "stream",
     "text": [
      "\u001b[34m\u001b[1m\r",
      "[Training ] 594/1657 [=========>....................] - ETA: 1:18:08  loss:2.2355 - accuracy:0.2969 - f1:0.2238 - gpu_mem:7.81G - lr1:0.0005934\u001b[0m"
     ]
    },
    {
     "name": "stdout",
     "output_type": "stream",
     "text": [
      "\u001b[34m\u001b[1m\r",
      "[Training ] 595/1657 [=========>....................] - ETA: 1:18:03  loss:2.2226 - accuracy:0.2656 - f1:0.1109 - gpu_mem:7.81G - lr1:0.0005944\u001b[0m"
     ]
    },
    {
     "name": "stdout",
     "output_type": "stream",
     "text": [
      "\u001b[34m\u001b[1m\r",
      "[Training ] 596/1657 [=========>....................] - ETA: 1:17:59  loss:2.2479 - accuracy:0.2500 - f1:0.1063 - gpu_mem:7.81G - lr1:0.0005955\u001b[0m"
     ]
    },
    {
     "name": "stdout",
     "output_type": "stream",
     "text": [
      "\u001b[34m\u001b[1m\r",
      "[Training ] 597/1657 [=========>....................] - ETA: 1:17:54  loss:2.2128 - accuracy:0.2812 - f1:0.1162 - gpu_mem:7.81G - lr1:0.0005965\u001b[0m"
     ]
    },
    {
     "name": "stdout",
     "output_type": "stream",
     "text": [
      "\u001b[34m\u001b[1m\r",
      "[Training ] 598/1657 [=========>....................] - ETA: 1:17:50  loss:2.0983 - accuracy:0.4062 - f1:0.1324 - gpu_mem:7.81G - lr1:0.0005975\u001b[0m"
     ]
    },
    {
     "name": "stdout",
     "output_type": "stream",
     "text": [
      "\u001b[34m\u001b[1m\r",
      "[Training ] 599/1657 [=========>....................] - ETA: 1:17:46  loss:2.2867 - accuracy:0.1719 - f1:0.0682 - gpu_mem:7.81G - lr1:0.0005985\u001b[0m"
     ]
    },
    {
     "name": "stdout",
     "output_type": "stream",
     "text": [
      "\u001b[34m\u001b[1m\r",
      "[Training ] 600/1657 [=========>....................] - ETA: 1:17:41  loss:2.2910 - accuracy:0.2656 - f1:0.2158 - gpu_mem:7.81G - lr1:0.0005995\u001b[0m"
     ]
    },
    {
     "name": "stdout",
     "output_type": "stream",
     "text": [
      "\u001b[34m\u001b[1m\r",
      "[Training ] 601/1657 [=========>....................] - ETA: 1:17:37  loss:2.2466 - accuracy:0.2812 - f1:0.1105 - gpu_mem:7.81G - lr1:0.0006005\u001b[0m"
     ]
    },
    {
     "name": "stdout",
     "output_type": "stream",
     "text": [
      "\u001b[34m\u001b[1m\r",
      "[Training ] 602/1657 [=========>....................] - ETA: 1:17:32  loss:2.1974 - accuracy:0.2812 - f1:0.0676 - gpu_mem:7.81G - lr1:0.0006015\u001b[0m"
     ]
    },
    {
     "name": "stdout",
     "output_type": "stream",
     "text": [
      "\u001b[34m\u001b[1m\r",
      "[Training ] 603/1657 [=========>....................] - ETA: 1:17:28  loss:2.1856 - accuracy:0.3125 - f1:0.1021 - gpu_mem:7.81G - lr1:0.0006025\u001b[0m"
     ]
    },
    {
     "name": "stdout",
     "output_type": "stream",
     "text": [
      "\u001b[34m\u001b[1m\r",
      "[Training ] 604/1657 [=========>....................] - ETA: 1:17:24  loss:2.2646 - accuracy:0.2500 - f1:0.1222 - gpu_mem:7.81G - lr1:0.0006035\u001b[0m"
     ]
    },
    {
     "name": "stdout",
     "output_type": "stream",
     "text": [
      "\u001b[34m\u001b[1m\r",
      "[Training ] 605/1657 [=========>....................] - ETA: 1:17:19  loss:2.2789 - accuracy:0.2656 - f1:0.1364 - gpu_mem:7.81G - lr1:0.0006045\u001b[0m"
     ]
    },
    {
     "name": "stdout",
     "output_type": "stream",
     "text": [
      "\u001b[34m\u001b[1m\r",
      "[Training ] 606/1657 [=========>....................] - ETA: 1:17:15  loss:2.2628 - accuracy:0.2344 - f1:0.0938 - gpu_mem:7.81G - lr1:0.0006055\u001b[0m"
     ]
    },
    {
     "name": "stdout",
     "output_type": "stream",
     "text": [
      "\u001b[34m\u001b[1m\r",
      "[Training ] 607/1657 [=========>....................] - ETA: 1:17:10  loss:2.3384 - accuracy:0.2344 - f1:0.1135 - gpu_mem:7.81G - lr1:0.0006065\u001b[0m"
     ]
    },
    {
     "name": "stdout",
     "output_type": "stream",
     "text": [
      "\u001b[34m\u001b[1m\r",
      "[Training ] 608/1657 [==========>...................] - ETA: 1:17:06  loss:2.3234 - accuracy:0.1719 - f1:0.0768 - gpu_mem:7.81G - lr1:0.0006075\u001b[0m"
     ]
    },
    {
     "name": "stdout",
     "output_type": "stream",
     "text": [
      "\u001b[34m\u001b[1m\r",
      "[Training ] 609/1657 [==========>...................] - ETA: 1:17:01  loss:2.1972 - accuracy:0.3125 - f1:0.0919 - gpu_mem:7.81G - lr1:0.0006085\u001b[0m"
     ]
    },
    {
     "name": "stdout",
     "output_type": "stream",
     "text": [
      "\u001b[34m\u001b[1m\r",
      "[Training ] 610/1657 [==========>...................] - ETA: 1:16:57  loss:2.2530 - accuracy:0.2656 - f1:0.1131 - gpu_mem:7.81G - lr1:0.0006095\u001b[0m"
     ]
    },
    {
     "name": "stdout",
     "output_type": "stream",
     "text": [
      "\u001b[34m\u001b[1m\r",
      "[Training ] 611/1657 [==========>...................] - ETA: 1:16:52  loss:2.1254 - accuracy:0.3906 - f1:0.1566 - gpu_mem:7.81G - lr1:0.0006105\u001b[0m"
     ]
    },
    {
     "name": "stdout",
     "output_type": "stream",
     "text": [
      "\u001b[34m\u001b[1m\r",
      "[Training ] 612/1657 [==========>...................] - ETA: 1:16:48  loss:2.3039 - accuracy:0.2031 - f1:0.0698 - gpu_mem:7.81G - lr1:0.0006115\u001b[0m"
     ]
    },
    {
     "name": "stdout",
     "output_type": "stream",
     "text": [
      "\u001b[34m\u001b[1m\r",
      "[Training ] 613/1657 [==========>...................] - ETA: 1:16:44  loss:2.2646 - accuracy:0.2344 - f1:0.0873 - gpu_mem:7.81G - lr1:0.0006126\u001b[0m"
     ]
    },
    {
     "name": "stdout",
     "output_type": "stream",
     "text": [
      "\u001b[34m\u001b[1m\r",
      "[Training ] 614/1657 [==========>...................] - ETA: 1:16:39  loss:2.2275 - accuracy:0.2656 - f1:0.0999 - gpu_mem:7.81G - lr1:0.0006136\u001b[0m"
     ]
    },
    {
     "name": "stdout",
     "output_type": "stream",
     "text": [
      "\u001b[34m\u001b[1m\r",
      "[Training ] 615/1657 [==========>...................] - ETA: 1:16:35  loss:2.2046 - accuracy:0.3281 - f1:0.1354 - gpu_mem:7.81G - lr1:0.0006146\u001b[0m"
     ]
    },
    {
     "name": "stdout",
     "output_type": "stream",
     "text": [
      "\u001b[34m\u001b[1m\r",
      "[Training ] 616/1657 [==========>...................] - ETA: 1:16:30  loss:2.3228 - accuracy:0.2344 - f1:0.1870 - gpu_mem:7.81G - lr1:0.0006156\u001b[0m"
     ]
    },
    {
     "name": "stdout",
     "output_type": "stream",
     "text": [
      "\u001b[34m\u001b[1m\r",
      "[Training ] 617/1657 [==========>...................] - ETA: 1:16:26  loss:2.1404 - accuracy:0.3281 - f1:0.1582 - gpu_mem:7.81G - lr1:0.0006166\u001b[0m"
     ]
    },
    {
     "name": "stdout",
     "output_type": "stream",
     "text": [
      "\u001b[34m\u001b[1m\r",
      "[Training ] 618/1657 [==========>...................] - ETA: 1:16:21  loss:2.2432 - accuracy:0.2188 - f1:0.1046 - gpu_mem:7.81G - lr1:0.0006176\u001b[0m"
     ]
    },
    {
     "name": "stdout",
     "output_type": "stream",
     "text": [
      "\u001b[34m\u001b[1m\r",
      "[Training ] 619/1657 [==========>...................] - ETA: 1:16:17  loss:2.2505 - accuracy:0.2500 - f1:0.0963 - gpu_mem:7.81G - lr1:0.0006186\u001b[0m"
     ]
    },
    {
     "name": "stdout",
     "output_type": "stream",
     "text": [
      "\u001b[34m\u001b[1m\r",
      "[Training ] 620/1657 [==========>...................] - ETA: 1:16:13  loss:2.2023 - accuracy:0.2812 - f1:0.1299 - gpu_mem:7.81G - lr1:0.0006196\u001b[0m"
     ]
    },
    {
     "name": "stdout",
     "output_type": "stream",
     "text": [
      "\u001b[34m\u001b[1m\r",
      "[Training ] 621/1657 [==========>...................] - ETA: 1:16:08  loss:2.1995 - accuracy:0.2500 - f1:0.1090 - gpu_mem:7.81G - lr1:0.0006206\u001b[0m"
     ]
    },
    {
     "name": "stdout",
     "output_type": "stream",
     "text": [
      "\u001b[34m\u001b[1m\r",
      "[Training ] 622/1657 [==========>...................] - ETA: 1:16:04  loss:2.1791 - accuracy:0.3281 - f1:0.0882 - gpu_mem:7.81G - lr1:0.0006216\u001b[0m"
     ]
    },
    {
     "name": "stdout",
     "output_type": "stream",
     "text": [
      "\u001b[34m\u001b[1m\r",
      "[Training ] 623/1657 [==========>...................] - ETA: 1:15:59  loss:2.2210 - accuracy:0.2656 - f1:0.1004 - gpu_mem:7.81G - lr1:0.0006226\u001b[0m"
     ]
    },
    {
     "name": "stdout",
     "output_type": "stream",
     "text": [
      "\u001b[34m\u001b[1m\r",
      "[Training ] 624/1657 [==========>...................] - ETA: 1:15:55  loss:2.2451 - accuracy:0.2188 - f1:0.0664 - gpu_mem:7.81G - lr1:0.0006236\u001b[0m"
     ]
    },
    {
     "name": "stdout",
     "output_type": "stream",
     "text": [
      "\u001b[34m\u001b[1m\r",
      "[Training ] 625/1657 [==========>...................] - ETA: 1:15:50  loss:2.2803 - accuracy:0.2031 - f1:0.1093 - gpu_mem:7.81G - lr1:0.0006246\u001b[0m"
     ]
    },
    {
     "name": "stdout",
     "output_type": "stream",
     "text": [
      "\u001b[34m\u001b[1m\r",
      "[Training ] 626/1657 [==========>...................] - ETA: 1:15:46  loss:2.2158 - accuracy:0.2344 - f1:0.0797 - gpu_mem:7.81G - lr1:0.0006256\u001b[0m"
     ]
    },
    {
     "name": "stdout",
     "output_type": "stream",
     "text": [
      "\u001b[34m\u001b[1m\r",
      "[Training ] 627/1657 [==========>...................] - ETA: 1:15:42  loss:2.2036 - accuracy:0.3125 - f1:0.1111 - gpu_mem:7.81G - lr1:0.0006266\u001b[0m"
     ]
    },
    {
     "name": "stdout",
     "output_type": "stream",
     "text": [
      "\u001b[34m\u001b[1m\r",
      "[Training ] 628/1657 [==========>...................] - ETA: 1:15:37  loss:2.2969 - accuracy:0.1875 - f1:0.0530 - gpu_mem:7.81G - lr1:0.0006276\u001b[0m"
     ]
    },
    {
     "name": "stdout",
     "output_type": "stream",
     "text": [
      "\u001b[34m\u001b[1m\r",
      "[Training ] 629/1657 [==========>...................] - ETA: 1:15:33  loss:2.1720 - accuracy:0.2812 - f1:0.1226 - gpu_mem:7.81G - lr1:0.0006286\u001b[0m"
     ]
    },
    {
     "name": "stdout",
     "output_type": "stream",
     "text": [
      "\u001b[34m\u001b[1m\r",
      "[Training ] 630/1657 [==========>...................] - ETA: 1:15:28  loss:2.1865 - accuracy:0.2969 - f1:0.1754 - gpu_mem:7.81G - lr1:0.0006297\u001b[0m"
     ]
    },
    {
     "name": "stdout",
     "output_type": "stream",
     "text": [
      "\u001b[34m\u001b[1m\r",
      "[Training ] 631/1657 [==========>...................] - ETA: 1:15:24  loss:2.1479 - accuracy:0.3281 - f1:0.1015 - gpu_mem:7.81G - lr1:0.0006307\u001b[0m"
     ]
    },
    {
     "name": "stdout",
     "output_type": "stream",
     "text": [
      "\u001b[34m\u001b[1m\r",
      "[Training ] 632/1657 [==========>...................] - ETA: 1:15:19  loss:2.1138 - accuracy:0.4219 - f1:0.1444 - gpu_mem:7.81G - lr1:0.0006317\u001b[0m"
     ]
    },
    {
     "name": "stdout",
     "output_type": "stream",
     "text": [
      "\u001b[34m\u001b[1m\r",
      "[Training ] 633/1657 [==========>...................] - ETA: 1:15:15  loss:2.2328 - accuracy:0.2656 - f1:0.0809 - gpu_mem:7.81G - lr1:0.0006327\u001b[0m"
     ]
    },
    {
     "name": "stdout",
     "output_type": "stream",
     "text": [
      "\u001b[34m\u001b[1m\r",
      "[Training ] 634/1657 [==========>...................] - ETA: 1:15:11  loss:2.2479 - accuracy:0.2344 - f1:0.0772 - gpu_mem:7.81G - lr1:0.0006337\u001b[0m"
     ]
    },
    {
     "name": "stdout",
     "output_type": "stream",
     "text": [
      "\u001b[34m\u001b[1m\r",
      "[Training ] 635/1657 [==========>...................] - ETA: 1:15:06  loss:2.2883 - accuracy:0.2344 - f1:0.0982 - gpu_mem:7.81G - lr1:0.0006347\u001b[0m"
     ]
    },
    {
     "name": "stdout",
     "output_type": "stream",
     "text": [
      "\u001b[34m\u001b[1m\r",
      "[Training ] 636/1657 [==========>...................] - ETA: 1:15:02  loss:2.1984 - accuracy:0.3125 - f1:0.1464 - gpu_mem:7.81G - lr1:0.0006357\u001b[0m"
     ]
    },
    {
     "name": "stdout",
     "output_type": "stream",
     "text": [
      "\u001b[34m\u001b[1m\r",
      "[Training ] 637/1657 [==========>...................] - ETA: 1:14:57  loss:2.2294 - accuracy:0.2969 - f1:0.1691 - gpu_mem:7.81G - lr1:0.0006367\u001b[0m"
     ]
    },
    {
     "name": "stdout",
     "output_type": "stream",
     "text": [
      "\u001b[34m\u001b[1m\r",
      "[Training ] 638/1657 [==========>...................] - ETA: 1:14:53  loss:2.2302 - accuracy:0.2188 - f1:0.0553 - gpu_mem:7.81G - lr1:0.0006377\u001b[0m"
     ]
    },
    {
     "name": "stdout",
     "output_type": "stream",
     "text": [
      "\u001b[34m\u001b[1m\r",
      "[Training ] 639/1657 [==========>...................] - ETA: 1:14:48  loss:2.1676 - accuracy:0.3125 - f1:0.1240 - gpu_mem:7.81G - lr1:0.0006387\u001b[0m"
     ]
    },
    {
     "name": "stdout",
     "output_type": "stream",
     "text": [
      "\u001b[34m\u001b[1m\r",
      "[Training ] 640/1657 [==========>...................] - ETA: 1:14:44  loss:2.2331 - accuracy:0.2188 - f1:0.0952 - gpu_mem:7.81G - lr1:0.0006397\u001b[0m"
     ]
    },
    {
     "name": "stdout",
     "output_type": "stream",
     "text": [
      "\u001b[34m\u001b[1m\r",
      "[Training ] 641/1657 [==========>...................] - ETA: 1:14:40  loss:2.2316 - accuracy:0.2969 - f1:0.1708 - gpu_mem:7.81G - lr1:0.0006407\u001b[0m"
     ]
    },
    {
     "name": "stdout",
     "output_type": "stream",
     "text": [
      "\u001b[34m\u001b[1m\r",
      "[Training ] 642/1657 [==========>...................] - ETA: 1:14:35  loss:2.2193 - accuracy:0.2812 - f1:0.1127 - gpu_mem:7.81G - lr1:0.0006417\u001b[0m"
     ]
    },
    {
     "name": "stdout",
     "output_type": "stream",
     "text": [
      "\u001b[34m\u001b[1m\r",
      "[Training ] 643/1657 [==========>...................] - ETA: 1:14:31  loss:2.1832 - accuracy:0.3281 - f1:0.1425 - gpu_mem:7.81G - lr1:0.0006427\u001b[0m"
     ]
    },
    {
     "name": "stdout",
     "output_type": "stream",
     "text": [
      "\u001b[34m\u001b[1m\r",
      "[Training ] 644/1657 [==========>...................] - ETA: 1:14:26  loss:2.1266 - accuracy:0.3594 - f1:0.1186 - gpu_mem:7.81G - lr1:0.0006437\u001b[0m"
     ]
    },
    {
     "name": "stdout",
     "output_type": "stream",
     "text": [
      "\u001b[34m\u001b[1m\r",
      "[Training ] 645/1657 [==========>...................] - ETA: 1:14:22  loss:2.1271 - accuracy:0.3125 - f1:0.1068 - gpu_mem:7.81G - lr1:0.0006447\u001b[0m"
     ]
    },
    {
     "name": "stdout",
     "output_type": "stream",
     "text": [
      "\u001b[34m\u001b[1m\r",
      "[Training ] 646/1657 [==========>...................] - ETA: 1:14:18  loss:2.1343 - accuracy:0.3750 - f1:0.1446 - gpu_mem:7.81G - lr1:0.0006457\u001b[0m"
     ]
    },
    {
     "name": "stdout",
     "output_type": "stream",
     "text": [
      "\u001b[34m\u001b[1m\r",
      "[Training ] 647/1657 [==========>...................] - ETA: 1:14:13  loss:2.2866 - accuracy:0.2031 - f1:0.0982 - gpu_mem:7.81G - lr1:0.0006468\u001b[0m"
     ]
    },
    {
     "name": "stdout",
     "output_type": "stream",
     "text": [
      "\u001b[34m\u001b[1m\r",
      "[Training ] 648/1657 [==========>...................] - ETA: 1:14:09  loss:2.1575 - accuracy:0.3125 - f1:0.0966 - gpu_mem:7.81G - lr1:0.0006478\u001b[0m"
     ]
    },
    {
     "name": "stdout",
     "output_type": "stream",
     "text": [
      "\u001b[34m\u001b[1m\r",
      "[Training ] 649/1657 [==========>...................] - ETA: 1:14:04  loss:2.2421 - accuracy:0.2656 - f1:0.1930 - gpu_mem:7.81G - lr1:0.0006488\u001b[0m"
     ]
    },
    {
     "name": "stdout",
     "output_type": "stream",
     "text": [
      "\u001b[34m\u001b[1m\r",
      "[Training ] 650/1657 [==========>...................] - ETA: 1:14:00  loss:2.2689 - accuracy:0.2500 - f1:0.1264 - gpu_mem:7.81G - lr1:0.0006498\u001b[0m"
     ]
    },
    {
     "name": "stdout",
     "output_type": "stream",
     "text": [
      "\u001b[34m\u001b[1m\r",
      "[Training ] 651/1657 [==========>...................] - ETA: 1:13:55  loss:2.2641 - accuracy:0.2344 - f1:0.1056 - gpu_mem:7.81G - lr1:0.0006508\u001b[0m"
     ]
    },
    {
     "name": "stdout",
     "output_type": "stream",
     "text": [
      "\u001b[34m\u001b[1m\r",
      "[Training ] 652/1657 [==========>...................] - ETA: 1:13:51  loss:2.1714 - accuracy:0.2969 - f1:0.1123 - gpu_mem:7.81G - lr1:0.0006518\u001b[0m"
     ]
    },
    {
     "name": "stdout",
     "output_type": "stream",
     "text": [
      "\u001b[34m\u001b[1m\r",
      "[Training ] 653/1657 [==========>...................] - ETA: 1:13:47  loss:2.0821 - accuracy:0.3281 - f1:0.0823 - gpu_mem:7.81G - lr1:0.0006528\u001b[0m"
     ]
    },
    {
     "name": "stdout",
     "output_type": "stream",
     "text": [
      "\u001b[34m\u001b[1m\r",
      "[Training ] 654/1657 [==========>...................] - ETA: 1:13:42  loss:2.2949 - accuracy:0.2031 - f1:0.0559 - gpu_mem:7.81G - lr1:0.0006538\u001b[0m"
     ]
    },
    {
     "name": "stdout",
     "output_type": "stream",
     "text": [
      "\u001b[34m\u001b[1m\r",
      "[Training ] 655/1657 [==========>...................] - ETA: 1:13:38  loss:2.2246 - accuracy:0.2500 - f1:0.1137 - gpu_mem:7.81G - lr1:0.0006548\u001b[0m"
     ]
    },
    {
     "name": "stdout",
     "output_type": "stream",
     "text": [
      "\u001b[34m\u001b[1m\r",
      "[Training ] 656/1657 [==========>...................] - ETA: 1:13:33  loss:2.2422 - accuracy:0.2656 - f1:0.1852 - gpu_mem:7.81G - lr1:0.0006558\u001b[0m"
     ]
    },
    {
     "name": "stdout",
     "output_type": "stream",
     "text": [
      "\u001b[34m\u001b[1m\r",
      "[Training ] 657/1657 [==========>...................] - ETA: 1:13:29  loss:2.2339 - accuracy:0.2344 - f1:0.1022 - gpu_mem:7.81G - lr1:0.0006568\u001b[0m"
     ]
    },
    {
     "name": "stdout",
     "output_type": "stream",
     "text": [
      "\u001b[34m\u001b[1m\r",
      "[Training ] 658/1657 [==========>...................] - ETA: 1:13:24  loss:2.2099 - accuracy:0.3281 - f1:0.1516 - gpu_mem:7.81G - lr1:0.0006578\u001b[0m"
     ]
    },
    {
     "name": "stdout",
     "output_type": "stream",
     "text": [
      "\u001b[34m\u001b[1m\r",
      "[Training ] 659/1657 [==========>...................] - ETA: 1:13:20  loss:2.2659 - accuracy:0.1719 - f1:0.0755 - gpu_mem:7.81G - lr1:0.0006588\u001b[0m"
     ]
    },
    {
     "name": "stdout",
     "output_type": "stream",
     "text": [
      "\u001b[34m\u001b[1m\r",
      "[Training ] 660/1657 [==========>...................] - ETA: 1:13:16  loss:2.1476 - accuracy:0.3750 - f1:0.1218 - gpu_mem:7.81G - lr1:0.0006598\u001b[0m"
     ]
    },
    {
     "name": "stdout",
     "output_type": "stream",
     "text": [
      "\u001b[34m\u001b[1m\r",
      "[Training ] 661/1657 [==========>...................] - ETA: 1:13:11  loss:2.2100 - accuracy:0.2656 - f1:0.1192 - gpu_mem:7.81G - lr1:0.0006608\u001b[0m"
     ]
    },
    {
     "name": "stdout",
     "output_type": "stream",
     "text": [
      "\u001b[34m\u001b[1m\r",
      "[Training ] 662/1657 [==========>...................] - ETA: 1:13:07  loss:2.1219 - accuracy:0.3594 - f1:0.1912 - gpu_mem:7.81G - lr1:0.0006618\u001b[0m"
     ]
    },
    {
     "name": "stdout",
     "output_type": "stream",
     "text": [
      "\u001b[34m\u001b[1m\r",
      "[Training ] 663/1657 [===========>..................] - ETA: 1:13:02  loss:2.1272 - accuracy:0.3594 - f1:0.1036 - gpu_mem:7.81G - lr1:0.0006628\u001b[0m"
     ]
    },
    {
     "name": "stdout",
     "output_type": "stream",
     "text": [
      "\u001b[34m\u001b[1m\r",
      "[Training ] 664/1657 [===========>..................] - ETA: 1:12:58  loss:2.1921 - accuracy:0.2500 - f1:0.1298 - gpu_mem:7.81G - lr1:0.0006639\u001b[0m"
     ]
    },
    {
     "name": "stdout",
     "output_type": "stream",
     "text": [
      "\u001b[34m\u001b[1m\r",
      "[Training ] 665/1657 [===========>..................] - ETA: 1:12:54  loss:2.3196 - accuracy:0.1562 - f1:0.0667 - gpu_mem:7.81G - lr1:0.0006649\u001b[0m"
     ]
    },
    {
     "name": "stdout",
     "output_type": "stream",
     "text": [
      "\u001b[34m\u001b[1m\r",
      "[Training ] 666/1657 [===========>..................] - ETA: 1:12:49  loss:2.1752 - accuracy:0.2500 - f1:0.0752 - gpu_mem:7.81G - lr1:0.0006659\u001b[0m"
     ]
    },
    {
     "name": "stdout",
     "output_type": "stream",
     "text": [
      "\u001b[34m\u001b[1m\r",
      "[Training ] 667/1657 [===========>..................] - ETA: 1:12:45  loss:2.2367 - accuracy:0.2500 - f1:0.1073 - gpu_mem:7.81G - lr1:0.0006669\u001b[0m"
     ]
    },
    {
     "name": "stdout",
     "output_type": "stream",
     "text": [
      "\u001b[34m\u001b[1m\r",
      "[Training ] 668/1657 [===========>..................] - ETA: 1:12:40  loss:2.2140 - accuracy:0.2500 - f1:0.1051 - gpu_mem:7.81G - lr1:0.0006679\u001b[0m"
     ]
    },
    {
     "name": "stdout",
     "output_type": "stream",
     "text": [
      "\u001b[34m\u001b[1m\r",
      "[Training ] 669/1657 [===========>..................] - ETA: 1:12:36  loss:2.2934 - accuracy:0.2188 - f1:0.0715 - gpu_mem:7.81G - lr1:0.0006689\u001b[0m"
     ]
    },
    {
     "name": "stdout",
     "output_type": "stream",
     "text": [
      "\u001b[34m\u001b[1m\r",
      "[Training ] 670/1657 [===========>..................] - ETA: 1:12:31  loss:2.1832 - accuracy:0.2656 - f1:0.1028 - gpu_mem:7.81G - lr1:0.0006699\u001b[0m"
     ]
    },
    {
     "name": "stdout",
     "output_type": "stream",
     "text": [
      "\u001b[34m\u001b[1m\r",
      "[Training ] 671/1657 [===========>..................] - ETA: 1:12:27  loss:2.1860 - accuracy:0.2188 - f1:0.0763 - gpu_mem:7.81G - lr1:0.0006709\u001b[0m"
     ]
    },
    {
     "name": "stdout",
     "output_type": "stream",
     "text": [
      "\u001b[34m\u001b[1m\r",
      "[Training ] 672/1657 [===========>..................] - ETA: 1:12:23  loss:2.2294 - accuracy:0.2188 - f1:0.0811 - gpu_mem:7.81G - lr1:0.0006719\u001b[0m"
     ]
    },
    {
     "name": "stdout",
     "output_type": "stream",
     "text": [
      "\u001b[34m\u001b[1m\r",
      "[Training ] 673/1657 [===========>..................] - ETA: 1:12:18  loss:2.1337 - accuracy:0.3281 - f1:0.1172 - gpu_mem:7.81G - lr1:0.0006729\u001b[0m"
     ]
    },
    {
     "name": "stdout",
     "output_type": "stream",
     "text": [
      "\u001b[34m\u001b[1m\r",
      "[Training ] 674/1657 [===========>..................] - ETA: 1:12:14  loss:2.3117 - accuracy:0.1875 - f1:0.1126 - gpu_mem:7.81G - lr1:0.0006739\u001b[0m"
     ]
    },
    {
     "name": "stdout",
     "output_type": "stream",
     "text": [
      "\u001b[34m\u001b[1m\r",
      "[Training ] 675/1657 [===========>..................] - ETA: 1:12:09  loss:2.2532 - accuracy:0.1875 - f1:0.0650 - gpu_mem:7.81G - lr1:0.0006749\u001b[0m"
     ]
    },
    {
     "name": "stdout",
     "output_type": "stream",
     "text": [
      "\u001b[34m\u001b[1m\r",
      "[Training ] 676/1657 [===========>..................] - ETA: 1:12:05  loss:2.2111 - accuracy:0.2656 - f1:0.1066 - gpu_mem:7.81G - lr1:0.0006759\u001b[0m"
     ]
    },
    {
     "name": "stdout",
     "output_type": "stream",
     "text": [
      "\u001b[34m\u001b[1m\r",
      "[Training ] 677/1657 [===========>..................] - ETA: 1:12:00  loss:2.0594 - accuracy:0.3750 - f1:0.1232 - gpu_mem:7.81G - lr1:0.0006769\u001b[0m"
     ]
    },
    {
     "name": "stdout",
     "output_type": "stream",
     "text": [
      "\u001b[34m\u001b[1m\r",
      "[Training ] 678/1657 [===========>..................] - ETA: 1:11:56  loss:2.0426 - accuracy:0.3594 - f1:0.1355 - gpu_mem:7.81G - lr1:0.0006779\u001b[0m"
     ]
    },
    {
     "name": "stdout",
     "output_type": "stream",
     "text": [
      "\u001b[34m\u001b[1m\r",
      "[Training ] 679/1657 [===========>..................] - ETA: 1:11:52  loss:2.2547 - accuracy:0.1875 - f1:0.0641 - gpu_mem:7.81G - lr1:0.0006789\u001b[0m"
     ]
    },
    {
     "name": "stdout",
     "output_type": "stream",
     "text": [
      "\u001b[34m\u001b[1m\r",
      "[Training ] 680/1657 [===========>..................] - ETA: 1:11:47  loss:2.2593 - accuracy:0.2500 - f1:0.0854 - gpu_mem:7.81G - lr1:0.0006799\u001b[0m"
     ]
    },
    {
     "name": "stdout",
     "output_type": "stream",
     "text": [
      "\u001b[34m\u001b[1m\r",
      "[Training ] 681/1657 [===========>..................] - ETA: 1:11:43  loss:2.3031 - accuracy:0.1719 - f1:0.1089 - gpu_mem:7.81G - lr1:0.0006809\u001b[0m"
     ]
    },
    {
     "name": "stdout",
     "output_type": "stream",
     "text": [
      "\u001b[34m\u001b[1m\r",
      "[Training ] 682/1657 [===========>..................] - ETA: 1:11:38  loss:2.2768 - accuracy:0.2344 - f1:0.0725 - gpu_mem:7.81G - lr1:0.0006820\u001b[0m"
     ]
    },
    {
     "name": "stdout",
     "output_type": "stream",
     "text": [
      "\u001b[34m\u001b[1m\r",
      "[Training ] 683/1657 [===========>..................] - ETA: 1:11:34  loss:2.1753 - accuracy:0.3281 - f1:0.1464 - gpu_mem:7.81G - lr1:0.0006830\u001b[0m"
     ]
    },
    {
     "name": "stdout",
     "output_type": "stream",
     "text": [
      "\u001b[34m\u001b[1m\r",
      "[Training ] 684/1657 [===========>..................] - ETA: 1:11:29  loss:2.2619 - accuracy:0.2344 - f1:0.0813 - gpu_mem:7.81G - lr1:0.0006840\u001b[0m"
     ]
    },
    {
     "name": "stdout",
     "output_type": "stream",
     "text": [
      "\u001b[34m\u001b[1m\r",
      "[Training ] 685/1657 [===========>..................] - ETA: 1:11:25  loss:2.2619 - accuracy:0.2344 - f1:0.0737 - gpu_mem:7.81G - lr1:0.0006850\u001b[0m"
     ]
    },
    {
     "name": "stdout",
     "output_type": "stream",
     "text": [
      "\u001b[34m\u001b[1m\r",
      "[Training ] 686/1657 [===========>..................] - ETA: 1:11:21  loss:2.1965 - accuracy:0.2969 - f1:0.0962 - gpu_mem:7.81G - lr1:0.0006860\u001b[0m"
     ]
    },
    {
     "name": "stdout",
     "output_type": "stream",
     "text": [
      "\u001b[34m\u001b[1m\r",
      "[Training ] 687/1657 [===========>..................] - ETA: 1:11:16  loss:2.2625 - accuracy:0.1875 - f1:0.0929 - gpu_mem:7.81G - lr1:0.0006870\u001b[0m"
     ]
    },
    {
     "name": "stdout",
     "output_type": "stream",
     "text": [
      "\u001b[34m\u001b[1m\r",
      "[Training ] 688/1657 [===========>..................] - ETA: 1:11:12  loss:2.2752 - accuracy:0.2500 - f1:0.1110 - gpu_mem:7.81G - lr1:0.0006880\u001b[0m"
     ]
    },
    {
     "name": "stdout",
     "output_type": "stream",
     "text": [
      "\u001b[34m\u001b[1m\r",
      "[Training ] 689/1657 [===========>..................] - ETA: 1:11:07  loss:2.0896 - accuracy:0.3594 - f1:0.1265 - gpu_mem:7.81G - lr1:0.0006890\u001b[0m"
     ]
    },
    {
     "name": "stdout",
     "output_type": "stream",
     "text": [
      "\u001b[34m\u001b[1m\r",
      "[Training ] 690/1657 [===========>..................] - ETA: 1:11:03  loss:2.2793 - accuracy:0.2031 - f1:0.0830 - gpu_mem:7.81G - lr1:0.0006900\u001b[0m"
     ]
    },
    {
     "name": "stdout",
     "output_type": "stream",
     "text": [
      "\u001b[34m\u001b[1m\r",
      "[Training ] 691/1657 [===========>..................] - ETA: 1:10:59  loss:2.2586 - accuracy:0.2344 - f1:0.1184 - gpu_mem:7.81G - lr1:0.0006910\u001b[0m"
     ]
    },
    {
     "name": "stdout",
     "output_type": "stream",
     "text": [
      "\u001b[34m\u001b[1m\r",
      "[Training ] 692/1657 [===========>..................] - ETA: 1:10:54  loss:2.1443 - accuracy:0.3281 - f1:0.1179 - gpu_mem:7.81G - lr1:0.0006920\u001b[0m"
     ]
    },
    {
     "name": "stdout",
     "output_type": "stream",
     "text": [
      "\u001b[34m\u001b[1m\r",
      "[Training ] 693/1657 [===========>..................] - ETA: 1:10:50  loss:2.2133 - accuracy:0.2656 - f1:0.1089 - gpu_mem:7.81G - lr1:0.0006930\u001b[0m"
     ]
    },
    {
     "name": "stdout",
     "output_type": "stream",
     "text": [
      "\u001b[34m\u001b[1m\r",
      "[Training ] 694/1657 [===========>..................] - ETA: 1:10:45  loss:2.1294 - accuracy:0.2656 - f1:0.0552 - gpu_mem:7.81G - lr1:0.0006940\u001b[0m"
     ]
    },
    {
     "name": "stdout",
     "output_type": "stream",
     "text": [
      "\u001b[34m\u001b[1m\r",
      "[Training ] 695/1657 [===========>..................] - ETA: 1:10:41  loss:2.2519 - accuracy:0.2188 - f1:0.1323 - gpu_mem:7.81G - lr1:0.0006950\u001b[0m"
     ]
    },
    {
     "name": "stdout",
     "output_type": "stream",
     "text": [
      "\u001b[34m\u001b[1m\r",
      "[Training ] 696/1657 [===========>..................] - ETA: 1:10:36  loss:2.2605 - accuracy:0.1719 - f1:0.1000 - gpu_mem:7.81G - lr1:0.0006960\u001b[0m"
     ]
    },
    {
     "name": "stdout",
     "output_type": "stream",
     "text": [
      "\u001b[34m\u001b[1m\r",
      "[Training ] 697/1657 [===========>..................] - ETA: 1:10:32  loss:2.2874 - accuracy:0.1875 - f1:0.1224 - gpu_mem:7.81G - lr1:0.0006970\u001b[0m"
     ]
    },
    {
     "name": "stdout",
     "output_type": "stream",
     "text": [
      "\u001b[34m\u001b[1m\r",
      "[Training ] 698/1657 [===========>..................] - ETA: 1:10:28  loss:2.1391 - accuracy:0.2969 - f1:0.1251 - gpu_mem:7.81G - lr1:0.0006980\u001b[0m"
     ]
    },
    {
     "name": "stdout",
     "output_type": "stream",
     "text": [
      "\u001b[34m\u001b[1m\r",
      "[Training ] 699/1657 [===========>..................] - ETA: 1:10:23  loss:2.1411 - accuracy:0.3594 - f1:0.1466 - gpu_mem:7.81G - lr1:0.0006991\u001b[0m"
     ]
    },
    {
     "name": "stdout",
     "output_type": "stream",
     "text": [
      "\u001b[34m\u001b[1m\r",
      "[Training ] 700/1657 [===========>..................] - ETA: 1:10:19  loss:2.0922 - accuracy:0.3438 - f1:0.1042 - gpu_mem:7.81G - lr1:0.0007001\u001b[0m"
     ]
    },
    {
     "name": "stdout",
     "output_type": "stream",
     "text": [
      "\u001b[34m\u001b[1m\r",
      "[Training ] 701/1657 [===========>..................] - ETA: 1:10:14  loss:2.1292 - accuracy:0.3125 - f1:0.1002 - gpu_mem:7.81G - lr1:0.0007011\u001b[0m"
     ]
    },
    {
     "name": "stdout",
     "output_type": "stream",
     "text": [
      "\u001b[34m\u001b[1m\r",
      "[Training ] 702/1657 [===========>..................] - ETA: 1:10:10  loss:2.2536 - accuracy:0.2031 - f1:0.1503 - gpu_mem:7.81G - lr1:0.0007021\u001b[0m"
     ]
    },
    {
     "name": "stdout",
     "output_type": "stream",
     "text": [
      "\u001b[34m\u001b[1m\r",
      "[Training ] 703/1657 [===========>..................] - ETA: 1:10:05  loss:2.1578 - accuracy:0.3125 - f1:0.1966 - gpu_mem:7.81G - lr1:0.0007031\u001b[0m"
     ]
    },
    {
     "name": "stdout",
     "output_type": "stream",
     "text": [
      "\u001b[34m\u001b[1m\r",
      "[Training ] 704/1657 [===========>..................] - ETA: 1:10:01  loss:2.1529 - accuracy:0.3125 - f1:0.1012 - gpu_mem:7.81G - lr1:0.0007041\u001b[0m"
     ]
    },
    {
     "name": "stdout",
     "output_type": "stream",
     "text": [
      "\u001b[34m\u001b[1m\r",
      "[Training ] 705/1657 [===========>..................] - ETA: 1:09:57  loss:2.2010 - accuracy:0.3125 - f1:0.1409 - gpu_mem:7.81G - lr1:0.0007051\u001b[0m"
     ]
    },
    {
     "name": "stdout",
     "output_type": "stream",
     "text": [
      "\u001b[34m\u001b[1m\r",
      "[Training ] 706/1657 [===========>..................] - ETA: 1:09:53  loss:2.1957 - accuracy:0.2656 - f1:0.1108 - gpu_mem:7.81G - lr1:0.0007061\u001b[0m"
     ]
    },
    {
     "name": "stdout",
     "output_type": "stream",
     "text": [
      "\u001b[34m\u001b[1m\r",
      "[Training ] 707/1657 [===========>..................] - ETA: 1:09:48  loss:2.1639 - accuracy:0.3125 - f1:0.1284 - gpu_mem:7.81G - lr1:0.0007071\u001b[0m"
     ]
    },
    {
     "name": "stdout",
     "output_type": "stream",
     "text": [
      "\u001b[34m\u001b[1m\r",
      "[Training ] 708/1657 [===========>..................] - ETA: 1:09:44  loss:2.2087 - accuracy:0.2812 - f1:0.2074 - gpu_mem:7.81G - lr1:0.0007081\u001b[0m"
     ]
    },
    {
     "name": "stdout",
     "output_type": "stream",
     "text": [
      "\u001b[34m\u001b[1m\r",
      "[Training ] 709/1657 [===========>..................] - ETA: 1:09:39  loss:2.1059 - accuracy:0.4062 - f1:0.1661 - gpu_mem:7.81G - lr1:0.0007091\u001b[0m"
     ]
    },
    {
     "name": "stdout",
     "output_type": "stream",
     "text": [
      "\u001b[34m\u001b[1m\r",
      "[Training ] 710/1657 [===========>..................] - ETA: 1:09:35  loss:2.2735 - accuracy:0.2500 - f1:0.1303 - gpu_mem:7.81G - lr1:0.0007101\u001b[0m"
     ]
    },
    {
     "name": "stdout",
     "output_type": "stream",
     "text": [
      "\u001b[34m\u001b[1m\r",
      "[Training ] 711/1657 [===========>..................] - ETA: 1:09:30  loss:2.2270 - accuracy:0.2344 - f1:0.0772 - gpu_mem:7.81G - lr1:0.0007111\u001b[0m"
     ]
    },
    {
     "name": "stdout",
     "output_type": "stream",
     "text": [
      "\u001b[34m\u001b[1m\r",
      "[Training ] 712/1657 [===========>..................] - ETA: 1:09:26  loss:2.2197 - accuracy:0.2500 - f1:0.1440 - gpu_mem:7.81G - lr1:0.0007121\u001b[0m"
     ]
    },
    {
     "name": "stdout",
     "output_type": "stream",
     "text": [
      "\u001b[34m\u001b[1m\r",
      "[Training ] 713/1657 [===========>..................] - ETA: 1:09:22  loss:2.2464 - accuracy:0.2500 - f1:0.1588 - gpu_mem:7.81G - lr1:0.0007131\u001b[0m"
     ]
    },
    {
     "name": "stdout",
     "output_type": "stream",
     "text": [
      "\u001b[34m\u001b[1m\r",
      "[Training ] 714/1657 [===========>..................] - ETA: 1:09:17  loss:2.2926 - accuracy:0.1562 - f1:0.0507 - gpu_mem:7.81G - lr1:0.0007141\u001b[0m"
     ]
    },
    {
     "name": "stdout",
     "output_type": "stream",
     "text": [
      "\u001b[34m\u001b[1m\r",
      "[Training ] 715/1657 [===========>..................] - ETA: 1:09:13  loss:2.1963 - accuracy:0.2344 - f1:0.0717 - gpu_mem:7.81G - lr1:0.0007151\u001b[0m"
     ]
    },
    {
     "name": "stdout",
     "output_type": "stream",
     "text": [
      "\u001b[34m\u001b[1m\r",
      "[Training ] 716/1657 [===========>..................] - ETA: 1:09:08  loss:2.2051 - accuracy:0.2656 - f1:0.1250 - gpu_mem:7.81G - lr1:0.0007162\u001b[0m"
     ]
    },
    {
     "name": "stdout",
     "output_type": "stream",
     "text": [
      "\u001b[34m\u001b[1m\r",
      "[Training ] 717/1657 [===========>..................] - ETA: 1:09:04  loss:2.2457 - accuracy:0.2344 - f1:0.0784 - gpu_mem:7.81G - lr1:0.0007172\u001b[0m"
     ]
    },
    {
     "name": "stdout",
     "output_type": "stream",
     "text": [
      "\u001b[34m\u001b[1m\r",
      "[Training ] 718/1657 [===========>..................] - ETA: 1:08:59  loss:2.2141 - accuracy:0.2344 - f1:0.0984 - gpu_mem:7.81G - lr1:0.0007182\u001b[0m"
     ]
    },
    {
     "name": "stdout",
     "output_type": "stream",
     "text": [
      "\u001b[34m\u001b[1m\r",
      "[Training ] 719/1657 [============>.................] - ETA: 1:08:55  loss:2.1788 - accuracy:0.2812 - f1:0.0998 - gpu_mem:7.81G - lr1:0.0007192\u001b[0m"
     ]
    },
    {
     "name": "stdout",
     "output_type": "stream",
     "text": [
      "\u001b[34m\u001b[1m\r",
      "[Training ] 720/1657 [============>.................] - ETA: 1:08:51  loss:2.1496 - accuracy:0.3438 - f1:0.1781 - gpu_mem:7.81G - lr1:0.0007202\u001b[0m"
     ]
    },
    {
     "name": "stdout",
     "output_type": "stream",
     "text": [
      "\u001b[34m\u001b[1m\r",
      "[Training ] 721/1657 [============>.................] - ETA: 1:08:46  loss:2.1101 - accuracy:0.3594 - f1:0.1211 - gpu_mem:7.81G - lr1:0.0007212\u001b[0m"
     ]
    },
    {
     "name": "stdout",
     "output_type": "stream",
     "text": [
      "\u001b[34m\u001b[1m\r",
      "[Training ] 722/1657 [============>.................] - ETA: 1:08:42  loss:2.1873 - accuracy:0.3125 - f1:0.0855 - gpu_mem:7.81G - lr1:0.0007222\u001b[0m"
     ]
    },
    {
     "name": "stdout",
     "output_type": "stream",
     "text": [
      "\u001b[34m\u001b[1m\r",
      "[Training ] 723/1657 [============>.................] - ETA: 1:08:37  loss:2.1425 - accuracy:0.3281 - f1:0.1257 - gpu_mem:7.81G - lr1:0.0007232\u001b[0m"
     ]
    },
    {
     "name": "stdout",
     "output_type": "stream",
     "text": [
      "\u001b[34m\u001b[1m\r",
      "[Training ] 724/1657 [============>.................] - ETA: 1:08:33  loss:2.1795 - accuracy:0.2656 - f1:0.1133 - gpu_mem:7.81G - lr1:0.0007242\u001b[0m"
     ]
    },
    {
     "name": "stdout",
     "output_type": "stream",
     "text": [
      "\u001b[34m\u001b[1m\r",
      "[Training ] 725/1657 [============>.................] - ETA: 1:08:28  loss:2.2006 - accuracy:0.2500 - f1:0.1166 - gpu_mem:7.81G - lr1:0.0007252\u001b[0m"
     ]
    },
    {
     "name": "stdout",
     "output_type": "stream",
     "text": [
      "\u001b[34m\u001b[1m\r",
      "[Training ] 726/1657 [============>.................] - ETA: 1:08:24  loss:2.1956 - accuracy:0.2500 - f1:0.0991 - gpu_mem:7.81G - lr1:0.0007262\u001b[0m"
     ]
    },
    {
     "name": "stdout",
     "output_type": "stream",
     "text": [
      "\u001b[34m\u001b[1m\r",
      "[Training ] 727/1657 [============>.................] - ETA: 1:08:20  loss:2.2433 - accuracy:0.2188 - f1:0.0764 - gpu_mem:7.81G - lr1:0.0007272\u001b[0m"
     ]
    },
    {
     "name": "stdout",
     "output_type": "stream",
     "text": [
      "\u001b[34m\u001b[1m\r",
      "[Training ] 728/1657 [============>.................] - ETA: 1:08:15  loss:2.1970 - accuracy:0.3281 - f1:0.1976 - gpu_mem:7.81G - lr1:0.0007282\u001b[0m"
     ]
    },
    {
     "name": "stdout",
     "output_type": "stream",
     "text": [
      "\u001b[34m\u001b[1m\r",
      "[Training ] 729/1657 [============>.................] - ETA: 1:08:11  loss:2.3449 - accuracy:0.1562 - f1:0.0739 - gpu_mem:7.81G - lr1:0.0007292\u001b[0m"
     ]
    },
    {
     "name": "stdout",
     "output_type": "stream",
     "text": [
      "\u001b[34m\u001b[1m\r",
      "[Training ] 730/1657 [============>.................] - ETA: 1:08:06  loss:2.2285 - accuracy:0.2656 - f1:0.1341 - gpu_mem:7.81G - lr1:0.0007302\u001b[0m"
     ]
    },
    {
     "name": "stdout",
     "output_type": "stream",
     "text": [
      "\u001b[34m\u001b[1m\r",
      "[Training ] 731/1657 [============>.................] - ETA: 1:08:02  loss:2.1666 - accuracy:0.3125 - f1:0.1788 - gpu_mem:7.81G - lr1:0.0007312\u001b[0m"
     ]
    },
    {
     "name": "stdout",
     "output_type": "stream",
     "text": [
      "\u001b[34m\u001b[1m\r",
      "[Training ] 732/1657 [============>.................] - ETA: 1:07:57  loss:2.1891 - accuracy:0.2969 - f1:0.1029 - gpu_mem:7.81G - lr1:0.0007322\u001b[0m"
     ]
    },
    {
     "name": "stdout",
     "output_type": "stream",
     "text": [
      "\u001b[34m\u001b[1m\r",
      "[Training ] 733/1657 [============>.................] - ETA: 1:07:53  loss:2.1640 - accuracy:0.2656 - f1:0.0817 - gpu_mem:7.81G - lr1:0.0007333\u001b[0m"
     ]
    },
    {
     "name": "stdout",
     "output_type": "stream",
     "text": [
      "\u001b[34m\u001b[1m\r",
      "[Training ] 734/1657 [============>.................] - ETA: 1:07:49  loss:2.2678 - accuracy:0.1875 - f1:0.1416 - gpu_mem:7.81G - lr1:0.0007343\u001b[0m"
     ]
    },
    {
     "name": "stdout",
     "output_type": "stream",
     "text": [
      "\u001b[34m\u001b[1m\r",
      "[Training ] 735/1657 [============>.................] - ETA: 1:07:44  loss:2.2061 - accuracy:0.2656 - f1:0.0906 - gpu_mem:7.81G - lr1:0.0007353\u001b[0m"
     ]
    },
    {
     "name": "stdout",
     "output_type": "stream",
     "text": [
      "\u001b[34m\u001b[1m\r",
      "[Training ] 736/1657 [============>.................] - ETA: 1:07:40  loss:2.3031 - accuracy:0.2344 - f1:0.1091 - gpu_mem:7.81G - lr1:0.0007363\u001b[0m"
     ]
    },
    {
     "name": "stdout",
     "output_type": "stream",
     "text": [
      "\u001b[34m\u001b[1m\r",
      "[Training ] 737/1657 [============>.................] - ETA: 1:07:35  loss:2.2360 - accuracy:0.2969 - f1:0.1510 - gpu_mem:7.81G - lr1:0.0007373\u001b[0m"
     ]
    },
    {
     "name": "stdout",
     "output_type": "stream",
     "text": [
      "\u001b[34m\u001b[1m\r",
      "[Training ] 738/1657 [============>.................] - ETA: 1:07:31  loss:2.0940 - accuracy:0.3438 - f1:0.0940 - gpu_mem:7.81G - lr1:0.0007383\u001b[0m"
     ]
    },
    {
     "name": "stdout",
     "output_type": "stream",
     "text": [
      "\u001b[34m\u001b[1m\r",
      "[Training ] 739/1657 [============>.................] - ETA: 1:07:27  loss:2.2459 - accuracy:0.2344 - f1:0.0716 - gpu_mem:7.81G - lr1:0.0007393\u001b[0m"
     ]
    },
    {
     "name": "stdout",
     "output_type": "stream",
     "text": [
      "\u001b[34m\u001b[1m\r",
      "[Training ] 740/1657 [============>.................] - ETA: 1:07:22  loss:2.0325 - accuracy:0.4688 - f1:0.2341 - gpu_mem:7.81G - lr1:0.0007403\u001b[0m"
     ]
    },
    {
     "name": "stdout",
     "output_type": "stream",
     "text": [
      "\u001b[34m\u001b[1m\r",
      "[Training ] 741/1657 [============>.................] - ETA: 1:07:18  loss:2.1101 - accuracy:0.3438 - f1:0.1355 - gpu_mem:7.81G - lr1:0.0007413\u001b[0m"
     ]
    },
    {
     "name": "stdout",
     "output_type": "stream",
     "text": [
      "\u001b[34m\u001b[1m\r",
      "[Training ] 742/1657 [============>.................] - ETA: 1:07:13  loss:2.2638 - accuracy:0.2188 - f1:0.1080 - gpu_mem:7.81G - lr1:0.0007423\u001b[0m"
     ]
    },
    {
     "name": "stdout",
     "output_type": "stream",
     "text": [
      "\u001b[34m\u001b[1m\r",
      "[Training ] 743/1657 [============>.................] - ETA: 1:07:09  loss:2.2144 - accuracy:0.2344 - f1:0.0681 - gpu_mem:7.81G - lr1:0.0007433\u001b[0m"
     ]
    },
    {
     "name": "stdout",
     "output_type": "stream",
     "text": [
      "\u001b[34m\u001b[1m\r",
      "[Training ] 744/1657 [============>.................] - ETA: 1:07:04  loss:2.1582 - accuracy:0.2969 - f1:0.1158 - gpu_mem:7.81G - lr1:0.0007443\u001b[0m"
     ]
    },
    {
     "name": "stdout",
     "output_type": "stream",
     "text": [
      "\u001b[34m\u001b[1m\r",
      "[Training ] 745/1657 [============>.................] - ETA: 1:07:00  loss:2.2107 - accuracy:0.3125 - f1:0.1280 - gpu_mem:7.81G - lr1:0.0007453\u001b[0m"
     ]
    },
    {
     "name": "stdout",
     "output_type": "stream",
     "text": [
      "\u001b[34m\u001b[1m\r",
      "[Training ] 746/1657 [============>.................] - ETA: 1:06:56  loss:2.1273 - accuracy:0.3906 - f1:0.1332 - gpu_mem:7.81G - lr1:0.0007463\u001b[0m"
     ]
    },
    {
     "name": "stdout",
     "output_type": "stream",
     "text": [
      "\u001b[34m\u001b[1m\r",
      "[Training ] 747/1657 [============>.................] - ETA: 1:06:51  loss:2.2101 - accuracy:0.2031 - f1:0.0646 - gpu_mem:7.81G - lr1:0.0007473\u001b[0m"
     ]
    },
    {
     "name": "stdout",
     "output_type": "stream",
     "text": [
      "\u001b[34m\u001b[1m\r",
      "[Training ] 748/1657 [============>.................] - ETA: 1:06:47  loss:2.0976 - accuracy:0.3281 - f1:0.1301 - gpu_mem:7.81G - lr1:0.0007483\u001b[0m"
     ]
    },
    {
     "name": "stdout",
     "output_type": "stream",
     "text": [
      "\u001b[34m\u001b[1m\r",
      "[Training ] 749/1657 [============>.................] - ETA: 1:06:42  loss:2.1487 - accuracy:0.2812 - f1:0.1280 - gpu_mem:7.81G - lr1:0.0007493\u001b[0m"
     ]
    },
    {
     "name": "stdout",
     "output_type": "stream",
     "text": [
      "\u001b[34m\u001b[1m\r",
      "[Training ] 750/1657 [============>.................] - ETA: 1:06:38  loss:2.1592 - accuracy:0.3125 - f1:0.1917 - gpu_mem:7.81G - lr1:0.0007504\u001b[0m"
     ]
    },
    {
     "name": "stdout",
     "output_type": "stream",
     "text": [
      "\u001b[34m\u001b[1m\r",
      "[Training ] 751/1657 [============>.................] - ETA: 1:06:33  loss:2.2537 - accuracy:0.2969 - f1:0.1411 - gpu_mem:7.81G - lr1:0.0007514\u001b[0m"
     ]
    },
    {
     "name": "stdout",
     "output_type": "stream",
     "text": [
      "\u001b[34m\u001b[1m\r",
      "[Training ] 752/1657 [============>.................] - ETA: 1:06:29  loss:2.2410 - accuracy:0.2812 - f1:0.1207 - gpu_mem:7.81G - lr1:0.0007524\u001b[0m"
     ]
    },
    {
     "name": "stdout",
     "output_type": "stream",
     "text": [
      "\u001b[34m\u001b[1m\r",
      "[Training ] 753/1657 [============>.................] - ETA: 1:06:25  loss:2.1471 - accuracy:0.2656 - f1:0.0888 - gpu_mem:7.81G - lr1:0.0007534\u001b[0m"
     ]
    },
    {
     "name": "stdout",
     "output_type": "stream",
     "text": [
      "\u001b[34m\u001b[1m\r",
      "[Training ] 754/1657 [============>.................] - ETA: 1:06:20  loss:2.1533 - accuracy:0.3438 - f1:0.1480 - gpu_mem:7.81G - lr1:0.0007544\u001b[0m"
     ]
    },
    {
     "name": "stdout",
     "output_type": "stream",
     "text": [
      "\u001b[34m\u001b[1m\r",
      "[Training ] 755/1657 [============>.................] - ETA: 1:06:16  loss:2.1845 - accuracy:0.2812 - f1:0.1162 - gpu_mem:7.81G - lr1:0.0007554\u001b[0m"
     ]
    },
    {
     "name": "stdout",
     "output_type": "stream",
     "text": [
      "\u001b[34m\u001b[1m\r",
      "[Training ] 756/1657 [============>.................] - ETA: 1:06:11  loss:2.1051 - accuracy:0.2969 - f1:0.0992 - gpu_mem:7.81G - lr1:0.0007564\u001b[0m"
     ]
    },
    {
     "name": "stdout",
     "output_type": "stream",
     "text": [
      "\u001b[34m\u001b[1m\r",
      "[Training ] 757/1657 [============>.................] - ETA: 1:06:07  loss:2.1804 - accuracy:0.3438 - f1:0.1859 - gpu_mem:7.81G - lr1:0.0007574\u001b[0m"
     ]
    },
    {
     "name": "stdout",
     "output_type": "stream",
     "text": [
      "\u001b[34m\u001b[1m\r",
      "[Training ] 758/1657 [============>.................] - ETA: 1:06:02  loss:2.1690 - accuracy:0.3594 - f1:0.1524 - gpu_mem:7.81G - lr1:0.0007584\u001b[0m"
     ]
    },
    {
     "name": "stdout",
     "output_type": "stream",
     "text": [
      "\u001b[34m\u001b[1m\r",
      "[Training ] 759/1657 [============>.................] - ETA: 1:05:58  loss:2.2647 - accuracy:0.1875 - f1:0.0628 - gpu_mem:7.81G - lr1:0.0007594\u001b[0m"
     ]
    },
    {
     "name": "stdout",
     "output_type": "stream",
     "text": [
      "\u001b[34m\u001b[1m\r",
      "[Training ] 760/1657 [============>.................] - ETA: 1:05:54  loss:2.2156 - accuracy:0.2812 - f1:0.1362 - gpu_mem:7.81G - lr1:0.0007604\u001b[0m"
     ]
    },
    {
     "name": "stdout",
     "output_type": "stream",
     "text": [
      "\u001b[34m\u001b[1m\r",
      "[Training ] 761/1657 [============>.................] - ETA: 1:05:49  loss:2.1551 - accuracy:0.2500 - f1:0.0885 - gpu_mem:7.81G - lr1:0.0007614\u001b[0m"
     ]
    },
    {
     "name": "stdout",
     "output_type": "stream",
     "text": [
      "\u001b[34m\u001b[1m\r",
      "[Training ] 762/1657 [============>.................] - ETA: 1:05:45  loss:2.1600 - accuracy:0.3125 - f1:0.1135 - gpu_mem:7.81G - lr1:0.0007624\u001b[0m"
     ]
    },
    {
     "name": "stdout",
     "output_type": "stream",
     "text": [
      "\u001b[34m\u001b[1m\r",
      "[Training ] 763/1657 [============>.................] - ETA: 1:05:40  loss:2.1664 - accuracy:0.2812 - f1:0.0876 - gpu_mem:7.81G - lr1:0.0007634\u001b[0m"
     ]
    },
    {
     "name": "stdout",
     "output_type": "stream",
     "text": [
      "\u001b[34m\u001b[1m\r",
      "[Training ] 764/1657 [============>.................] - ETA: 1:05:36  loss:2.1068 - accuracy:0.3281 - f1:0.1116 - gpu_mem:7.81G - lr1:0.0007644\u001b[0m"
     ]
    },
    {
     "name": "stdout",
     "output_type": "stream",
     "text": [
      "\u001b[34m\u001b[1m\r",
      "[Training ] 765/1657 [============>.................] - ETA: 1:05:31  loss:2.1869 - accuracy:0.3281 - f1:0.1457 - gpu_mem:7.81G - lr1:0.0007654\u001b[0m"
     ]
    },
    {
     "name": "stdout",
     "output_type": "stream",
     "text": [
      "\u001b[34m\u001b[1m\r",
      "[Training ] 766/1657 [============>.................] - ETA: 1:05:27  loss:2.1353 - accuracy:0.2344 - f1:0.0941 - gpu_mem:7.81G - lr1:0.0007664\u001b[0m"
     ]
    },
    {
     "name": "stdout",
     "output_type": "stream",
     "text": [
      "\u001b[34m\u001b[1m\r",
      "[Training ] 767/1657 [============>.................] - ETA: 1:05:23  loss:2.2570 - accuracy:0.2031 - f1:0.0623 - gpu_mem:7.81G - lr1:0.0007675\u001b[0m"
     ]
    },
    {
     "name": "stdout",
     "output_type": "stream",
     "text": [
      "\u001b[34m\u001b[1m\r",
      "[Training ] 768/1657 [============>.................] - ETA: 1:05:18  loss:2.2170 - accuracy:0.2969 - f1:0.1211 - gpu_mem:7.81G - lr1:0.0007685\u001b[0m"
     ]
    },
    {
     "name": "stdout",
     "output_type": "stream",
     "text": [
      "\u001b[34m\u001b[1m\r",
      "[Training ] 769/1657 [============>.................] - ETA: 1:05:14  loss:2.0676 - accuracy:0.3438 - f1:0.0911 - gpu_mem:7.81G - lr1:0.0007695\u001b[0m"
     ]
    },
    {
     "name": "stdout",
     "output_type": "stream",
     "text": [
      "\u001b[34m\u001b[1m\r",
      "[Training ] 770/1657 [============>.................] - ETA: 1:05:09  loss:2.1672 - accuracy:0.3125 - f1:0.1293 - gpu_mem:7.81G - lr1:0.0007705\u001b[0m"
     ]
    },
    {
     "name": "stdout",
     "output_type": "stream",
     "text": [
      "\u001b[34m\u001b[1m\r",
      "[Training ] 771/1657 [============>.................] - ETA: 1:05:05  loss:2.1510 - accuracy:0.3125 - f1:0.1286 - gpu_mem:7.81G - lr1:0.0007715\u001b[0m"
     ]
    },
    {
     "name": "stdout",
     "output_type": "stream",
     "text": [
      "\u001b[34m\u001b[1m\r",
      "[Training ] 772/1657 [============>.................] - ETA: 1:05:01  loss:2.2606 - accuracy:0.2344 - f1:0.0998 - gpu_mem:7.81G - lr1:0.0007725\u001b[0m"
     ]
    },
    {
     "name": "stdout",
     "output_type": "stream",
     "text": [
      "\u001b[34m\u001b[1m\r",
      "[Training ] 773/1657 [============>.................] - ETA: 1:04:56  loss:2.1998 - accuracy:0.2812 - f1:0.0985 - gpu_mem:7.81G - lr1:0.0007735\u001b[0m"
     ]
    },
    {
     "name": "stdout",
     "output_type": "stream",
     "text": [
      "\u001b[34m\u001b[1m\r",
      "[Training ] 774/1657 [=============>................] - ETA: 1:04:52  loss:2.2554 - accuracy:0.2344 - f1:0.1039 - gpu_mem:7.81G - lr1:0.0007745\u001b[0m"
     ]
    },
    {
     "name": "stdout",
     "output_type": "stream",
     "text": [
      "\u001b[34m\u001b[1m\r",
      "[Training ] 775/1657 [=============>................] - ETA: 1:04:47  loss:2.1246 - accuracy:0.2969 - f1:0.0988 - gpu_mem:7.81G - lr1:0.0007755\u001b[0m"
     ]
    },
    {
     "name": "stdout",
     "output_type": "stream",
     "text": [
      "\u001b[34m\u001b[1m\r",
      "[Training ] 776/1657 [=============>................] - ETA: 1:04:43  loss:2.1091 - accuracy:0.2969 - f1:0.0765 - gpu_mem:7.81G - lr1:0.0007765\u001b[0m"
     ]
    },
    {
     "name": "stdout",
     "output_type": "stream",
     "text": [
      "\u001b[34m\u001b[1m\r",
      "[Training ] 777/1657 [=============>................] - ETA: 1:04:38  loss:2.0664 - accuracy:0.3438 - f1:0.1377 - gpu_mem:7.81G - lr1:0.0007775\u001b[0m"
     ]
    },
    {
     "name": "stdout",
     "output_type": "stream",
     "text": [
      "\u001b[34m\u001b[1m\r",
      "[Training ] 778/1657 [=============>................] - ETA: 1:04:34  loss:2.1769 - accuracy:0.2031 - f1:0.0678 - gpu_mem:7.81G - lr1:0.0007785\u001b[0m"
     ]
    },
    {
     "name": "stdout",
     "output_type": "stream",
     "text": [
      "\u001b[34m\u001b[1m\r",
      "[Training ] 779/1657 [=============>................] - ETA: 1:04:30  loss:2.1253 - accuracy:0.3125 - f1:0.1298 - gpu_mem:7.81G - lr1:0.0007795\u001b[0m"
     ]
    },
    {
     "name": "stdout",
     "output_type": "stream",
     "text": [
      "\u001b[34m\u001b[1m\r",
      "[Training ] 780/1657 [=============>................] - ETA: 1:04:25  loss:2.0896 - accuracy:0.3281 - f1:0.1171 - gpu_mem:7.81G - lr1:0.0007805\u001b[0m"
     ]
    },
    {
     "name": "stdout",
     "output_type": "stream",
     "text": [
      "\u001b[34m\u001b[1m\r",
      "[Training ] 781/1657 [=============>................] - ETA: 1:04:21  loss:2.0536 - accuracy:0.3594 - f1:0.1353 - gpu_mem:7.81G - lr1:0.0007815\u001b[0m"
     ]
    },
    {
     "name": "stdout",
     "output_type": "stream",
     "text": [
      "\u001b[34m\u001b[1m\r",
      "[Training ] 782/1657 [=============>................] - ETA: 1:04:16  loss:2.1986 - accuracy:0.2344 - f1:0.0849 - gpu_mem:7.81G - lr1:0.0007825\u001b[0m"
     ]
    },
    {
     "name": "stdout",
     "output_type": "stream",
     "text": [
      "\u001b[34m\u001b[1m\r",
      "[Training ] 783/1657 [=============>................] - ETA: 1:04:12  loss:2.1763 - accuracy:0.2344 - f1:0.1214 - gpu_mem:7.81G - lr1:0.0007835\u001b[0m"
     ]
    },
    {
     "name": "stdout",
     "output_type": "stream",
     "text": [
      "\u001b[34m\u001b[1m\r",
      "[Training ] 784/1657 [=============>................] - ETA: 1:04:08  loss:2.1194 - accuracy:0.2500 - f1:0.1025 - gpu_mem:7.81G - lr1:0.0007846\u001b[0m"
     ]
    },
    {
     "name": "stdout",
     "output_type": "stream",
     "text": [
      "\u001b[34m\u001b[1m\r",
      "[Training ] 785/1657 [=============>................] - ETA: 1:04:03  loss:2.1737 - accuracy:0.2812 - f1:0.1262 - gpu_mem:7.81G - lr1:0.0007856\u001b[0m"
     ]
    },
    {
     "name": "stdout",
     "output_type": "stream",
     "text": [
      "\u001b[34m\u001b[1m\r",
      "[Training ] 786/1657 [=============>................] - ETA: 1:03:59  loss:2.2265 - accuracy:0.2969 - f1:0.1626 - gpu_mem:7.81G - lr1:0.0007866\u001b[0m"
     ]
    },
    {
     "name": "stdout",
     "output_type": "stream",
     "text": [
      "\u001b[34m\u001b[1m\r",
      "[Training ] 787/1657 [=============>................] - ETA: 1:03:54  loss:2.1517 - accuracy:0.2969 - f1:0.1139 - gpu_mem:7.81G - lr1:0.0007876\u001b[0m"
     ]
    },
    {
     "name": "stdout",
     "output_type": "stream",
     "text": [
      "\u001b[34m\u001b[1m\r",
      "[Training ] 788/1657 [=============>................] - ETA: 1:03:50  loss:2.3006 - accuracy:0.2031 - f1:0.0730 - gpu_mem:7.81G - lr1:0.0007886\u001b[0m"
     ]
    },
    {
     "name": "stdout",
     "output_type": "stream",
     "text": [
      "\u001b[34m\u001b[1m\r",
      "[Training ] 789/1657 [=============>................] - ETA: 1:03:45  loss:2.2195 - accuracy:0.2188 - f1:0.1003 - gpu_mem:7.81G - lr1:0.0007896\u001b[0m"
     ]
    },
    {
     "name": "stdout",
     "output_type": "stream",
     "text": [
      "\u001b[34m\u001b[1m\r",
      "[Training ] 790/1657 [=============>................] - ETA: 1:03:41  loss:2.1582 - accuracy:0.3125 - f1:0.1000 - gpu_mem:7.81G - lr1:0.0007906\u001b[0m"
     ]
    },
    {
     "name": "stdout",
     "output_type": "stream",
     "text": [
      "\u001b[34m\u001b[1m\r",
      "[Training ] 791/1657 [=============>................] - ETA: 1:03:37  loss:2.2270 - accuracy:0.2500 - f1:0.1551 - gpu_mem:7.81G - lr1:0.0007916\u001b[0m"
     ]
    },
    {
     "name": "stdout",
     "output_type": "stream",
     "text": [
      "\u001b[34m\u001b[1m\r",
      "[Training ] 792/1657 [=============>................] - ETA: 1:03:32  loss:2.1382 - accuracy:0.3438 - f1:0.1652 - gpu_mem:7.81G - lr1:0.0007926\u001b[0m"
     ]
    },
    {
     "name": "stdout",
     "output_type": "stream",
     "text": [
      "\u001b[34m\u001b[1m\r",
      "[Training ] 793/1657 [=============>................] - ETA: 1:03:28  loss:2.1193 - accuracy:0.3281 - f1:0.1449 - gpu_mem:7.81G - lr1:0.0007936\u001b[0m"
     ]
    },
    {
     "name": "stdout",
     "output_type": "stream",
     "text": [
      "\u001b[34m\u001b[1m\r",
      "[Training ] 794/1657 [=============>................] - ETA: 1:03:23  loss:2.1450 - accuracy:0.3594 - f1:0.2470 - gpu_mem:7.81G - lr1:0.0007946\u001b[0m"
     ]
    },
    {
     "name": "stdout",
     "output_type": "stream",
     "text": [
      "\u001b[34m\u001b[1m\r",
      "[Training ] 795/1657 [=============>................] - ETA: 1:03:19  loss:2.0368 - accuracy:0.3906 - f1:0.2249 - gpu_mem:7.81G - lr1:0.0007956\u001b[0m"
     ]
    },
    {
     "name": "stdout",
     "output_type": "stream",
     "text": [
      "\u001b[34m\u001b[1m\r",
      "[Training ] 796/1657 [=============>................] - ETA: 1:03:15  loss:2.0482 - accuracy:0.3281 - f1:0.1100 - gpu_mem:7.81G - lr1:0.0007966\u001b[0m"
     ]
    },
    {
     "name": "stdout",
     "output_type": "stream",
     "text": [
      "\u001b[34m\u001b[1m\r",
      "[Training ] 797/1657 [=============>................] - ETA: 1:03:10  loss:2.1502 - accuracy:0.2969 - f1:0.1437 - gpu_mem:7.81G - lr1:0.0007976\u001b[0m"
     ]
    },
    {
     "name": "stdout",
     "output_type": "stream",
     "text": [
      "\u001b[34m\u001b[1m\r",
      "[Training ] 798/1657 [=============>................] - ETA: 1:03:06  loss:2.1043 - accuracy:0.3594 - f1:0.1004 - gpu_mem:7.81G - lr1:0.0007986\u001b[0m"
     ]
    },
    {
     "name": "stdout",
     "output_type": "stream",
     "text": [
      "\u001b[34m\u001b[1m\r",
      "[Training ] 799/1657 [=============>................] - ETA: 1:03:01  loss:2.1908 - accuracy:0.2812 - f1:0.1174 - gpu_mem:7.81G - lr1:0.0007996\u001b[0m"
     ]
    },
    {
     "name": "stdout",
     "output_type": "stream",
     "text": [
      "\u001b[34m\u001b[1m\r",
      "[Training ] 800/1657 [=============>................] - ETA: 1:02:57  loss:2.3372 - accuracy:0.1406 - f1:0.0496 - gpu_mem:7.81G - lr1:0.0008006\u001b[0m"
     ]
    },
    {
     "name": "stdout",
     "output_type": "stream",
     "text": [
      "\u001b[34m\u001b[1m\r",
      "[Training ] 801/1657 [=============>................] - ETA: 1:02:52  loss:2.1107 - accuracy:0.3438 - f1:0.1574 - gpu_mem:7.81G - lr1:0.0008016\u001b[0m"
     ]
    },
    {
     "name": "stdout",
     "output_type": "stream",
     "text": [
      "\u001b[34m\u001b[1m\r",
      "[Training ] 802/1657 [=============>................] - ETA: 1:02:48  loss:2.1892 - accuracy:0.2656 - f1:0.1167 - gpu_mem:7.81G - lr1:0.0008027\u001b[0m"
     ]
    },
    {
     "name": "stdout",
     "output_type": "stream",
     "text": [
      "\u001b[34m\u001b[1m\r",
      "[Training ] 803/1657 [=============>................] - ETA: 1:02:44  loss:2.1982 - accuracy:0.2344 - f1:0.0896 - gpu_mem:7.81G - lr1:0.0008037\u001b[0m"
     ]
    },
    {
     "name": "stdout",
     "output_type": "stream",
     "text": [
      "\u001b[34m\u001b[1m\r",
      "[Training ] 804/1657 [=============>................] - ETA: 1:02:39  loss:2.0943 - accuracy:0.3438 - f1:0.1039 - gpu_mem:7.81G - lr1:0.0008047\u001b[0m"
     ]
    },
    {
     "name": "stdout",
     "output_type": "stream",
     "text": [
      "\u001b[34m\u001b[1m\r",
      "[Training ] 805/1657 [=============>................] - ETA: 1:02:35  loss:2.1105 - accuracy:0.2969 - f1:0.1627 - gpu_mem:7.81G - lr1:0.0008057\u001b[0m"
     ]
    },
    {
     "name": "stdout",
     "output_type": "stream",
     "text": [
      "\u001b[34m\u001b[1m\r",
      "[Training ] 806/1657 [=============>................] - ETA: 1:02:30  loss:2.2261 - accuracy:0.2500 - f1:0.0964 - gpu_mem:7.81G - lr1:0.0008067\u001b[0m"
     ]
    },
    {
     "name": "stdout",
     "output_type": "stream",
     "text": [
      "\u001b[34m\u001b[1m\r",
      "[Training ] 807/1657 [=============>................] - ETA: 1:02:26  loss:2.2171 - accuracy:0.3281 - f1:0.1712 - gpu_mem:7.81G - lr1:0.0008077\u001b[0m"
     ]
    },
    {
     "name": "stdout",
     "output_type": "stream",
     "text": [
      "\u001b[34m\u001b[1m\r",
      "[Training ] 808/1657 [=============>................] - ETA: 1:02:22  loss:2.2201 - accuracy:0.2500 - f1:0.1048 - gpu_mem:7.81G - lr1:0.0008087\u001b[0m"
     ]
    },
    {
     "name": "stdout",
     "output_type": "stream",
     "text": [
      "\u001b[34m\u001b[1m\r",
      "[Training ] 809/1657 [=============>................] - ETA: 1:02:17  loss:2.1419 - accuracy:0.3438 - f1:0.1810 - gpu_mem:7.81G - lr1:0.0008097\u001b[0m"
     ]
    },
    {
     "name": "stdout",
     "output_type": "stream",
     "text": [
      "\u001b[34m\u001b[1m\r",
      "[Training ] 810/1657 [=============>................] - ETA: 1:02:13  loss:2.1855 - accuracy:0.2188 - f1:0.1035 - gpu_mem:7.81G - lr1:0.0008107\u001b[0m"
     ]
    },
    {
     "name": "stdout",
     "output_type": "stream",
     "text": [
      "\u001b[34m\u001b[1m\r",
      "[Training ] 811/1657 [=============>................] - ETA: 1:02:08  loss:2.1197 - accuracy:0.3125 - f1:0.1151 - gpu_mem:7.81G - lr1:0.0008117\u001b[0m"
     ]
    },
    {
     "name": "stdout",
     "output_type": "stream",
     "text": [
      "\u001b[34m\u001b[1m\r",
      "[Training ] 812/1657 [=============>................] - ETA: 1:02:04  loss:2.1050 - accuracy:0.3438 - f1:0.1015 - gpu_mem:7.81G - lr1:0.0008127\u001b[0m"
     ]
    },
    {
     "name": "stdout",
     "output_type": "stream",
     "text": [
      "\u001b[34m\u001b[1m\r",
      "[Training ] 813/1657 [=============>................] - ETA: 1:01:59  loss:2.0486 - accuracy:0.3906 - f1:0.1113 - gpu_mem:7.81G - lr1:0.0008137\u001b[0m"
     ]
    },
    {
     "name": "stdout",
     "output_type": "stream",
     "text": [
      "\u001b[34m\u001b[1m\r",
      "[Training ] 814/1657 [=============>................] - ETA: 1:01:55  loss:2.2440 - accuracy:0.2812 - f1:0.0986 - gpu_mem:7.81G - lr1:0.0008147\u001b[0m"
     ]
    },
    {
     "name": "stdout",
     "output_type": "stream",
     "text": [
      "\u001b[34m\u001b[1m\r",
      "[Training ] 815/1657 [=============>................] - ETA: 1:01:51  loss:2.0985 - accuracy:0.4062 - f1:0.1252 - gpu_mem:7.81G - lr1:0.0008157\u001b[0m"
     ]
    },
    {
     "name": "stdout",
     "output_type": "stream",
     "text": [
      "\u001b[34m\u001b[1m\r",
      "[Training ] 816/1657 [=============>................] - ETA: 1:01:46  loss:2.1282 - accuracy:0.2969 - f1:0.1142 - gpu_mem:7.81G - lr1:0.0008167\u001b[0m"
     ]
    },
    {
     "name": "stdout",
     "output_type": "stream",
     "text": [
      "\u001b[34m\u001b[1m\r",
      "[Training ] 817/1657 [=============>................] - ETA: 1:01:42  loss:2.1467 - accuracy:0.3281 - f1:0.1557 - gpu_mem:7.81G - lr1:0.0008177\u001b[0m"
     ]
    },
    {
     "name": "stdout",
     "output_type": "stream",
     "text": [
      "\u001b[34m\u001b[1m\r",
      "[Training ] 818/1657 [=============>................] - ETA: 1:01:37  loss:2.0177 - accuracy:0.3750 - f1:0.1276 - gpu_mem:7.81G - lr1:0.0008187\u001b[0m"
     ]
    },
    {
     "name": "stdout",
     "output_type": "stream",
     "text": [
      "\u001b[34m\u001b[1m\r",
      "[Training ] 819/1657 [=============>................] - ETA: 1:01:33  loss:1.9861 - accuracy:0.4375 - f1:0.1606 - gpu_mem:7.81G - lr1:0.0008198\u001b[0m"
     ]
    },
    {
     "name": "stdout",
     "output_type": "stream",
     "text": [
      "\u001b[34m\u001b[1m\r",
      "[Training ] 820/1657 [=============>................] - ETA: 1:01:29  loss:2.1520 - accuracy:0.3125 - f1:0.1398 - gpu_mem:7.81G - lr1:0.0008208\u001b[0m"
     ]
    },
    {
     "name": "stdout",
     "output_type": "stream",
     "text": [
      "\u001b[34m\u001b[1m\r",
      "[Training ] 821/1657 [=============>................] - ETA: 1:01:24  loss:2.0472 - accuracy:0.4219 - f1:0.2150 - gpu_mem:7.81G - lr1:0.0008218\u001b[0m"
     ]
    },
    {
     "name": "stdout",
     "output_type": "stream",
     "text": [
      "\u001b[34m\u001b[1m\r",
      "[Training ] 822/1657 [=============>................] - ETA: 1:01:20  loss:2.1619 - accuracy:0.2969 - f1:0.1199 - gpu_mem:7.81G - lr1:0.0008228\u001b[0m"
     ]
    },
    {
     "name": "stdout",
     "output_type": "stream",
     "text": [
      "\u001b[34m\u001b[1m\r",
      "[Training ] 823/1657 [=============>................] - ETA: 1:01:15  loss:2.0502 - accuracy:0.3750 - f1:0.1481 - gpu_mem:7.81G - lr1:0.0008238\u001b[0m"
     ]
    },
    {
     "name": "stdout",
     "output_type": "stream",
     "text": [
      "\u001b[34m\u001b[1m\r",
      "[Training ] 824/1657 [=============>................] - ETA: 1:01:11  loss:2.2745 - accuracy:0.2188 - f1:0.1273 - gpu_mem:7.81G - lr1:0.0008248\u001b[0m"
     ]
    },
    {
     "name": "stdout",
     "output_type": "stream",
     "text": [
      "\u001b[34m\u001b[1m\r",
      "[Training ] 825/1657 [=============>................] - ETA: 1:01:06  loss:2.1679 - accuracy:0.2812 - f1:0.0830 - gpu_mem:7.81G - lr1:0.0008258\u001b[0m"
     ]
    },
    {
     "name": "stdout",
     "output_type": "stream",
     "text": [
      "\u001b[34m\u001b[1m\r",
      "[Training ] 826/1657 [=============>................] - ETA: 1:01:02  loss:2.1730 - accuracy:0.2969 - f1:0.1595 - gpu_mem:7.81G - lr1:0.0008268\u001b[0m"
     ]
    },
    {
     "name": "stdout",
     "output_type": "stream",
     "text": [
      "\u001b[34m\u001b[1m\r",
      "[Training ] 827/1657 [=============>................] - ETA: 1:00:58  loss:2.0487 - accuracy:0.3438 - f1:0.1204 - gpu_mem:7.81G - lr1:0.0008278\u001b[0m"
     ]
    },
    {
     "name": "stdout",
     "output_type": "stream",
     "text": [
      "\u001b[34m\u001b[1m\r",
      "[Training ] 828/1657 [=============>................] - ETA: 1:00:53  loss:2.0982 - accuracy:0.2812 - f1:0.0683 - gpu_mem:7.81G - lr1:0.0008288\u001b[0m"
     ]
    },
    {
     "name": "stdout",
     "output_type": "stream",
     "text": [
      "\u001b[34m\u001b[1m\r",
      "[Training ] 829/1657 [==============>...............] - ETA: 1:00:49  loss:2.1570 - accuracy:0.2656 - f1:0.1037 - gpu_mem:7.81G - lr1:0.0008298\u001b[0m"
     ]
    },
    {
     "name": "stdout",
     "output_type": "stream",
     "text": [
      "\u001b[34m\u001b[1m\r",
      "[Training ] 830/1657 [==============>...............] - ETA: 1:00:44  loss:2.1352 - accuracy:0.2969 - f1:0.1123 - gpu_mem:7.81G - lr1:0.0008308\u001b[0m"
     ]
    },
    {
     "name": "stdout",
     "output_type": "stream",
     "text": [
      "\u001b[34m\u001b[1m\r",
      "[Training ] 831/1657 [==============>...............] - ETA: 1:00:40  loss:2.2067 - accuracy:0.2969 - f1:0.1049 - gpu_mem:7.81G - lr1:0.0008318\u001b[0m"
     ]
    },
    {
     "name": "stdout",
     "output_type": "stream",
     "text": [
      "\u001b[34m\u001b[1m\r",
      "[Training ] 832/1657 [==============>...............] - ETA: 1:00:35  loss:2.1258 - accuracy:0.3125 - f1:0.1250 - gpu_mem:7.81G - lr1:0.0008328\u001b[0m"
     ]
    },
    {
     "name": "stdout",
     "output_type": "stream",
     "text": [
      "\u001b[34m\u001b[1m\r",
      "[Training ] 833/1657 [==============>...............] - ETA: 1:00:31  loss:2.1569 - accuracy:0.3281 - f1:0.1231 - gpu_mem:7.81G - lr1:0.0008338\u001b[0m"
     ]
    },
    {
     "name": "stdout",
     "output_type": "stream",
     "text": [
      "\u001b[34m\u001b[1m\r",
      "[Training ] 834/1657 [==============>...............] - ETA: 1:00:27  loss:2.1401 - accuracy:0.2812 - f1:0.0932 - gpu_mem:7.81G - lr1:0.0008348\u001b[0m"
     ]
    },
    {
     "name": "stdout",
     "output_type": "stream",
     "text": [
      "\u001b[34m\u001b[1m\r",
      "[Training ] 835/1657 [==============>...............] - ETA: 1:00:22  loss:2.0707 - accuracy:0.3438 - f1:0.1641 - gpu_mem:7.81G - lr1:0.0008358\u001b[0m"
     ]
    },
    {
     "name": "stdout",
     "output_type": "stream",
     "text": [
      "\u001b[34m\u001b[1m\r",
      "[Training ] 836/1657 [==============>...............] - ETA: 1:00:18  loss:2.2304 - accuracy:0.2188 - f1:0.1073 - gpu_mem:7.81G - lr1:0.0008369\u001b[0m"
     ]
    },
    {
     "name": "stdout",
     "output_type": "stream",
     "text": [
      "\u001b[34m\u001b[1m\r",
      "[Training ] 837/1657 [==============>...............] - ETA: 1:00:13  loss:2.1904 - accuracy:0.2812 - f1:0.1345 - gpu_mem:7.81G - lr1:0.0008379\u001b[0m"
     ]
    },
    {
     "name": "stdout",
     "output_type": "stream",
     "text": [
      "\u001b[34m\u001b[1m\r",
      "[Training ] 838/1657 [==============>...............] - ETA: 1:00:09  loss:2.0919 - accuracy:0.3438 - f1:0.1743 - gpu_mem:7.81G - lr1:0.0008389\u001b[0m"
     ]
    },
    {
     "name": "stdout",
     "output_type": "stream",
     "text": [
      "\u001b[34m\u001b[1m\r",
      "[Training ] 839/1657 [==============>...............] - ETA: 1:00:05  loss:2.2233 - accuracy:0.2969 - f1:0.1220 - gpu_mem:7.81G - lr1:0.0008399\u001b[0m"
     ]
    },
    {
     "name": "stdout",
     "output_type": "stream",
     "text": [
      "\u001b[34m\u001b[1m\r",
      "[Training ] 840/1657 [==============>...............] - ETA: 1:00:00  loss:2.1637 - accuracy:0.2812 - f1:0.1062 - gpu_mem:7.81G - lr1:0.0008409\u001b[0m"
     ]
    },
    {
     "name": "stdout",
     "output_type": "stream",
     "text": [
      "\u001b[34m\u001b[1m\r",
      "[Training ] 841/1657 [==============>...............] - ETA: 59:56  loss:1.9971 - accuracy:0.3906 - f1:0.1535 - gpu_mem:7.81G - lr1:0.0008419\u001b[0m"
     ]
    },
    {
     "name": "stdout",
     "output_type": "stream",
     "text": [
      "\u001b[34m\u001b[1m\r",
      "[Training ] 842/1657 [==============>...............] - ETA: 59:51  loss:2.1854 - accuracy:0.2188 - f1:0.1145 - gpu_mem:7.81G - lr1:0.0008429\u001b[0m"
     ]
    },
    {
     "name": "stdout",
     "output_type": "stream",
     "text": [
      "\u001b[34m\u001b[1m\r",
      "[Training ] 843/1657 [==============>...............] - ETA: 59:47  loss:2.0883 - accuracy:0.3438 - f1:0.1908 - gpu_mem:7.81G - lr1:0.0008439\u001b[0m"
     ]
    },
    {
     "name": "stdout",
     "output_type": "stream",
     "text": [
      "\u001b[34m\u001b[1m\r",
      "[Training ] 844/1657 [==============>...............] - ETA: 59:42  loss:2.2088 - accuracy:0.2656 - f1:0.1828 - gpu_mem:7.81G - lr1:0.0008449\u001b[0m"
     ]
    },
    {
     "name": "stdout",
     "output_type": "stream",
     "text": [
      "\u001b[34m\u001b[1m\r",
      "[Training ] 845/1657 [==============>...............] - ETA: 59:38  loss:2.0512 - accuracy:0.3281 - f1:0.1166 - gpu_mem:7.81G - lr1:0.0008459\u001b[0m"
     ]
    },
    {
     "name": "stdout",
     "output_type": "stream",
     "text": [
      "\u001b[34m\u001b[1m\r",
      "[Training ] 846/1657 [==============>...............] - ETA: 59:34  loss:2.1816 - accuracy:0.2969 - f1:0.1089 - gpu_mem:7.81G - lr1:0.0008469\u001b[0m"
     ]
    },
    {
     "name": "stdout",
     "output_type": "stream",
     "text": [
      "\u001b[34m\u001b[1m\r",
      "[Training ] 847/1657 [==============>...............] - ETA: 59:29  loss:2.1130 - accuracy:0.3125 - f1:0.1490 - gpu_mem:7.81G - lr1:0.0008479\u001b[0m"
     ]
    },
    {
     "name": "stdout",
     "output_type": "stream",
     "text": [
      "\u001b[34m\u001b[1m\r",
      "[Training ] 848/1657 [==============>...............] - ETA: 59:25  loss:2.1386 - accuracy:0.3281 - f1:0.1452 - gpu_mem:7.81G - lr1:0.0008489\u001b[0m"
     ]
    },
    {
     "name": "stdout",
     "output_type": "stream",
     "text": [
      "\u001b[34m\u001b[1m\r",
      "[Training ] 849/1657 [==============>...............] - ETA: 59:20  loss:2.1422 - accuracy:0.3125 - f1:0.0722 - gpu_mem:7.81G - lr1:0.0008499\u001b[0m"
     ]
    },
    {
     "name": "stdout",
     "output_type": "stream",
     "text": [
      "\u001b[34m\u001b[1m\r",
      "[Training ] 850/1657 [==============>...............] - ETA: 59:16  loss:2.0987 - accuracy:0.3281 - f1:0.1430 - gpu_mem:7.81G - lr1:0.0008509\u001b[0m"
     ]
    },
    {
     "name": "stdout",
     "output_type": "stream",
     "text": [
      "\u001b[34m\u001b[1m\r",
      "[Training ] 851/1657 [==============>...............] - ETA: 59:12  loss:2.1347 - accuracy:0.3125 - f1:0.1076 - gpu_mem:7.81G - lr1:0.0008519\u001b[0m"
     ]
    },
    {
     "name": "stdout",
     "output_type": "stream",
     "text": [
      "\u001b[34m\u001b[1m\r",
      "[Training ] 852/1657 [==============>...............] - ETA: 59:07  loss:2.2044 - accuracy:0.2656 - f1:0.0854 - gpu_mem:7.81G - lr1:0.0008529\u001b[0m"
     ]
    },
    {
     "name": "stdout",
     "output_type": "stream",
     "text": [
      "\u001b[34m\u001b[1m\r",
      "[Training ] 853/1657 [==============>...............] - ETA: 59:03  loss:2.0675 - accuracy:0.3594 - f1:0.1783 - gpu_mem:7.81G - lr1:0.0008540\u001b[0m"
     ]
    },
    {
     "name": "stdout",
     "output_type": "stream",
     "text": [
      "\u001b[34m\u001b[1m\r",
      "[Training ] 854/1657 [==============>...............] - ETA: 58:58  loss:2.1132 - accuracy:0.3594 - f1:0.1106 - gpu_mem:7.81G - lr1:0.0008550\u001b[0m"
     ]
    },
    {
     "name": "stdout",
     "output_type": "stream",
     "text": [
      "\u001b[34m\u001b[1m\r",
      "[Training ] 855/1657 [==============>...............] - ETA: 58:54  loss:2.2213 - accuracy:0.2656 - f1:0.1594 - gpu_mem:7.81G - lr1:0.0008560\u001b[0m"
     ]
    },
    {
     "name": "stdout",
     "output_type": "stream",
     "text": [
      "\u001b[34m\u001b[1m\r",
      "[Training ] 856/1657 [==============>...............] - ETA: 58:49  loss:2.0044 - accuracy:0.4375 - f1:0.1389 - gpu_mem:7.81G - lr1:0.0008570\u001b[0m"
     ]
    },
    {
     "name": "stdout",
     "output_type": "stream",
     "text": [
      "\u001b[34m\u001b[1m\r",
      "[Training ] 857/1657 [==============>...............] - ETA: 58:45  loss:2.1745 - accuracy:0.2500 - f1:0.0829 - gpu_mem:7.81G - lr1:0.0008580\u001b[0m"
     ]
    },
    {
     "name": "stdout",
     "output_type": "stream",
     "text": [
      "\u001b[34m\u001b[1m\r",
      "[Training ] 858/1657 [==============>...............] - ETA: 58:41  loss:2.1131 - accuracy:0.3594 - f1:0.1612 - gpu_mem:7.81G - lr1:0.0008590\u001b[0m"
     ]
    },
    {
     "name": "stdout",
     "output_type": "stream",
     "text": [
      "\u001b[34m\u001b[1m\r",
      "[Training ] 859/1657 [==============>...............] - ETA: 58:36  loss:2.0585 - accuracy:0.3438 - f1:0.1123 - gpu_mem:7.81G - lr1:0.0008600\u001b[0m"
     ]
    },
    {
     "name": "stdout",
     "output_type": "stream",
     "text": [
      "\u001b[34m\u001b[1m\r",
      "[Training ] 860/1657 [==============>...............] - ETA: 58:32  loss:2.2127 - accuracy:0.2969 - f1:0.1014 - gpu_mem:7.81G - lr1:0.0008610\u001b[0m"
     ]
    },
    {
     "name": "stdout",
     "output_type": "stream",
     "text": [
      "\u001b[34m\u001b[1m\r",
      "[Training ] 861/1657 [==============>...............] - ETA: 58:27  loss:2.1168 - accuracy:0.3750 - f1:0.1716 - gpu_mem:7.81G - lr1:0.0008620\u001b[0m"
     ]
    },
    {
     "name": "stdout",
     "output_type": "stream",
     "text": [
      "\u001b[34m\u001b[1m\r",
      "[Training ] 862/1657 [==============>...............] - ETA: 58:23  loss:2.0712 - accuracy:0.3594 - f1:0.1622 - gpu_mem:7.81G - lr1:0.0008630\u001b[0m"
     ]
    },
    {
     "name": "stdout",
     "output_type": "stream",
     "text": [
      "\u001b[34m\u001b[1m\r",
      "[Training ] 863/1657 [==============>...............] - ETA: 58:19  loss:1.9840 - accuracy:0.4062 - f1:0.1309 - gpu_mem:7.81G - lr1:0.0008640\u001b[0m"
     ]
    },
    {
     "name": "stdout",
     "output_type": "stream",
     "text": [
      "\u001b[34m\u001b[1m\r",
      "[Training ] 864/1657 [==============>...............] - ETA: 58:14  loss:1.9791 - accuracy:0.4062 - f1:0.1420 - gpu_mem:7.81G - lr1:0.0008650\u001b[0m"
     ]
    },
    {
     "name": "stdout",
     "output_type": "stream",
     "text": [
      "\u001b[34m\u001b[1m\r",
      "[Training ] 865/1657 [==============>...............] - ETA: 58:10  loss:2.1659 - accuracy:0.2812 - f1:0.1083 - gpu_mem:7.81G - lr1:0.0008660\u001b[0m"
     ]
    },
    {
     "name": "stdout",
     "output_type": "stream",
     "text": [
      "\u001b[34m\u001b[1m\r",
      "[Training ] 866/1657 [==============>...............] - ETA: 58:05  loss:2.0805 - accuracy:0.3906 - f1:0.1636 - gpu_mem:7.81G - lr1:0.0008670\u001b[0m"
     ]
    },
    {
     "name": "stdout",
     "output_type": "stream",
     "text": [
      "\u001b[34m\u001b[1m\r",
      "[Training ] 867/1657 [==============>...............] - ETA: 58:01  loss:2.1434 - accuracy:0.2969 - f1:0.0929 - gpu_mem:7.81G - lr1:0.0008680\u001b[0m"
     ]
    },
    {
     "name": "stdout",
     "output_type": "stream",
     "text": [
      "\u001b[34m\u001b[1m\r",
      "[Training ] 868/1657 [==============>...............] - ETA: 57:57  loss:2.0506 - accuracy:0.3906 - f1:0.1469 - gpu_mem:7.81G - lr1:0.0008690\u001b[0m"
     ]
    },
    {
     "name": "stdout",
     "output_type": "stream",
     "text": [
      "\u001b[34m\u001b[1m\r",
      "[Training ] 869/1657 [==============>...............] - ETA: 57:52  loss:2.1598 - accuracy:0.2500 - f1:0.0888 - gpu_mem:7.81G - lr1:0.0008700\u001b[0m"
     ]
    },
    {
     "name": "stdout",
     "output_type": "stream",
     "text": [
      "\u001b[34m\u001b[1m\r",
      "[Training ] 870/1657 [==============>...............] - ETA: 57:48  loss:2.1484 - accuracy:0.2969 - f1:0.0886 - gpu_mem:7.81G - lr1:0.0008711\u001b[0m"
     ]
    },
    {
     "name": "stdout",
     "output_type": "stream",
     "text": [
      "\u001b[34m\u001b[1m\r",
      "[Training ] 871/1657 [==============>...............] - ETA: 57:43  loss:2.0320 - accuracy:0.4219 - f1:0.1268 - gpu_mem:7.81G - lr1:0.0008721\u001b[0m"
     ]
    },
    {
     "name": "stdout",
     "output_type": "stream",
     "text": [
      "\u001b[34m\u001b[1m\r",
      "[Training ] 872/1657 [==============>...............] - ETA: 57:39  loss:2.1870 - accuracy:0.3438 - f1:0.1581 - gpu_mem:7.81G - lr1:0.0008731\u001b[0m"
     ]
    },
    {
     "name": "stdout",
     "output_type": "stream",
     "text": [
      "\u001b[34m\u001b[1m\r",
      "[Training ] 873/1657 [==============>...............] - ETA: 57:34  loss:2.0127 - accuracy:0.4219 - f1:0.1358 - gpu_mem:7.81G - lr1:0.0008741\u001b[0m"
     ]
    },
    {
     "name": "stdout",
     "output_type": "stream",
     "text": [
      "\u001b[34m\u001b[1m\r",
      "[Training ] 874/1657 [==============>...............] - ETA: 57:30  loss:2.1065 - accuracy:0.3281 - f1:0.1570 - gpu_mem:7.81G - lr1:0.0008751\u001b[0m"
     ]
    },
    {
     "name": "stdout",
     "output_type": "stream",
     "text": [
      "\u001b[34m\u001b[1m\r",
      "[Training ] 875/1657 [==============>...............] - ETA: 57:26  loss:2.0825 - accuracy:0.2969 - f1:0.0794 - gpu_mem:7.81G - lr1:0.0008761\u001b[0m"
     ]
    },
    {
     "name": "stdout",
     "output_type": "stream",
     "text": [
      "\u001b[34m\u001b[1m\r",
      "[Training ] 876/1657 [==============>...............] - ETA: 57:21  loss:2.1579 - accuracy:0.2969 - f1:0.1044 - gpu_mem:7.81G - lr1:0.0008771\u001b[0m"
     ]
    },
    {
     "name": "stdout",
     "output_type": "stream",
     "text": [
      "\u001b[34m\u001b[1m\r",
      "[Training ] 877/1657 [==============>...............] - ETA: 57:17  loss:2.1818 - accuracy:0.2812 - f1:0.1210 - gpu_mem:7.81G - lr1:0.0008781\u001b[0m"
     ]
    },
    {
     "name": "stdout",
     "output_type": "stream",
     "text": [
      "\u001b[34m\u001b[1m\r",
      "[Training ] 878/1657 [==============>...............] - ETA: 57:12  loss:2.1953 - accuracy:0.2656 - f1:0.1328 - gpu_mem:7.81G - lr1:0.0008791\u001b[0m"
     ]
    },
    {
     "name": "stdout",
     "output_type": "stream",
     "text": [
      "\u001b[34m\u001b[1m\r",
      "[Training ] 879/1657 [==============>...............] - ETA: 57:08  loss:2.1134 - accuracy:0.3281 - f1:0.1745 - gpu_mem:7.81G - lr1:0.0008801\u001b[0m"
     ]
    },
    {
     "name": "stdout",
     "output_type": "stream",
     "text": [
      "\u001b[34m\u001b[1m\r",
      "[Training ] 880/1657 [==============>...............] - ETA: 57:04  loss:2.0767 - accuracy:0.3438 - f1:0.1205 - gpu_mem:7.81G - lr1:0.0008811\u001b[0m"
     ]
    },
    {
     "name": "stdout",
     "output_type": "stream",
     "text": [
      "\u001b[34m\u001b[1m\r",
      "[Training ] 881/1657 [==============>...............] - ETA: 56:59  loss:2.1144 - accuracy:0.3281 - f1:0.1249 - gpu_mem:7.81G - lr1:0.0008821\u001b[0m"
     ]
    },
    {
     "name": "stdout",
     "output_type": "stream",
     "text": [
      "\u001b[34m\u001b[1m\r",
      "[Training ] 882/1657 [==============>...............] - ETA: 56:55  loss:2.1296 - accuracy:0.3281 - f1:0.1402 - gpu_mem:7.81G - lr1:0.0008831\u001b[0m"
     ]
    },
    {
     "name": "stdout",
     "output_type": "stream",
     "text": [
      "\u001b[34m\u001b[1m\r",
      "[Training ] 883/1657 [==============>...............] - ETA: 56:50  loss:2.1925 - accuracy:0.2969 - f1:0.1380 - gpu_mem:7.81G - lr1:0.0008841\u001b[0m"
     ]
    },
    {
     "name": "stdout",
     "output_type": "stream",
     "text": [
      "\u001b[34m\u001b[1m\r",
      "[Training ] 884/1657 [===============>..............] - ETA: 56:46  loss:2.0963 - accuracy:0.2812 - f1:0.0662 - gpu_mem:7.81G - lr1:0.0008851\u001b[0m"
     ]
    },
    {
     "name": "stdout",
     "output_type": "stream",
     "text": [
      "\u001b[34m\u001b[1m\r",
      "[Training ] 885/1657 [===============>..............] - ETA: 56:41  loss:2.1735 - accuracy:0.2812 - f1:0.1210 - gpu_mem:7.81G - lr1:0.0008861\u001b[0m"
     ]
    },
    {
     "name": "stdout",
     "output_type": "stream",
     "text": [
      "\u001b[34m\u001b[1m\r",
      "[Training ] 886/1657 [===============>..............] - ETA: 56:37  loss:2.1182 - accuracy:0.2812 - f1:0.1419 - gpu_mem:7.81G - lr1:0.0008871\u001b[0m"
     ]
    },
    {
     "name": "stdout",
     "output_type": "stream",
     "text": [
      "\u001b[34m\u001b[1m\r",
      "[Training ] 887/1657 [===============>..............] - ETA: 56:33  loss:2.1757 - accuracy:0.2500 - f1:0.0877 - gpu_mem:7.81G - lr1:0.0008882\u001b[0m"
     ]
    },
    {
     "name": "stdout",
     "output_type": "stream",
     "text": [
      "\u001b[34m\u001b[1m\r",
      "[Training ] 888/1657 [===============>..............] - ETA: 56:28  loss:2.0612 - accuracy:0.4062 - f1:0.1562 - gpu_mem:7.81G - lr1:0.0008892\u001b[0m"
     ]
    },
    {
     "name": "stdout",
     "output_type": "stream",
     "text": [
      "\u001b[34m\u001b[1m\r",
      "[Training ] 889/1657 [===============>..............] - ETA: 56:24  loss:2.1631 - accuracy:0.3438 - f1:0.1288 - gpu_mem:7.81G - lr1:0.0008902\u001b[0m"
     ]
    },
    {
     "name": "stdout",
     "output_type": "stream",
     "text": [
      "\u001b[34m\u001b[1m\r",
      "[Training ] 890/1657 [===============>..............] - ETA: 56:19  loss:2.1919 - accuracy:0.2812 - f1:0.1281 - gpu_mem:7.81G - lr1:0.0008912\u001b[0m"
     ]
    },
    {
     "name": "stdout",
     "output_type": "stream",
     "text": [
      "\u001b[34m\u001b[1m\r",
      "[Training ] 891/1657 [===============>..............] - ETA: 56:15  loss:2.0772 - accuracy:0.3906 - f1:0.1707 - gpu_mem:7.81G - lr1:0.0008922\u001b[0m"
     ]
    },
    {
     "name": "stdout",
     "output_type": "stream",
     "text": [
      "\u001b[34m\u001b[1m\r",
      "[Training ] 892/1657 [===============>..............] - ETA: 56:11  loss:2.1980 - accuracy:0.2656 - f1:0.0906 - gpu_mem:7.81G - lr1:0.0008932\u001b[0m"
     ]
    },
    {
     "name": "stdout",
     "output_type": "stream",
     "text": [
      "\u001b[34m\u001b[1m\r",
      "[Training ] 893/1657 [===============>..............] - ETA: 56:06  loss:2.2061 - accuracy:0.3125 - f1:0.0984 - gpu_mem:7.81G - lr1:0.0008942\u001b[0m"
     ]
    },
    {
     "name": "stdout",
     "output_type": "stream",
     "text": [
      "\u001b[34m\u001b[1m\r",
      "[Training ] 894/1657 [===============>..............] - ETA: 56:02  loss:2.2195 - accuracy:0.2344 - f1:0.1024 - gpu_mem:7.81G - lr1:0.0008952\u001b[0m"
     ]
    },
    {
     "name": "stdout",
     "output_type": "stream",
     "text": [
      "\u001b[34m\u001b[1m\r",
      "[Training ] 895/1657 [===============>..............] - ETA: 55:57  loss:2.2192 - accuracy:0.2656 - f1:0.1188 - gpu_mem:7.81G - lr1:0.0008962\u001b[0m"
     ]
    },
    {
     "name": "stdout",
     "output_type": "stream",
     "text": [
      "\u001b[34m\u001b[1m\r",
      "[Training ] 896/1657 [===============>..............] - ETA: 55:53  loss:2.1191 - accuracy:0.3125 - f1:0.1385 - gpu_mem:7.81G - lr1:0.0008972\u001b[0m"
     ]
    },
    {
     "name": "stdout",
     "output_type": "stream",
     "text": [
      "\u001b[34m\u001b[1m\r",
      "[Training ] 897/1657 [===============>..............] - ETA: 55:49  loss:2.0341 - accuracy:0.3906 - f1:0.1197 - gpu_mem:7.81G - lr1:0.0008982\u001b[0m"
     ]
    },
    {
     "name": "stdout",
     "output_type": "stream",
     "text": [
      "\u001b[34m\u001b[1m\r",
      "[Training ] 898/1657 [===============>..............] - ETA: 55:44  loss:2.0914 - accuracy:0.3438 - f1:0.1075 - gpu_mem:7.81G - lr1:0.0008992\u001b[0m"
     ]
    },
    {
     "name": "stdout",
     "output_type": "stream",
     "text": [
      "\u001b[34m\u001b[1m\r",
      "[Training ] 899/1657 [===============>..............] - ETA: 55:40  loss:2.0572 - accuracy:0.3750 - f1:0.1142 - gpu_mem:7.81G - lr1:0.0009002\u001b[0m"
     ]
    },
    {
     "name": "stdout",
     "output_type": "stream",
     "text": [
      "\u001b[34m\u001b[1m\r",
      "[Training ] 900/1657 [===============>..............] - ETA: 55:35  loss:2.1307 - accuracy:0.3281 - f1:0.1069 - gpu_mem:7.81G - lr1:0.0009012\u001b[0m"
     ]
    },
    {
     "name": "stdout",
     "output_type": "stream",
     "text": [
      "\u001b[34m\u001b[1m\r",
      "[Training ] 901/1657 [===============>..............] - ETA: 55:31  loss:2.0629 - accuracy:0.4219 - f1:0.2228 - gpu_mem:7.81G - lr1:0.0009022\u001b[0m"
     ]
    },
    {
     "name": "stdout",
     "output_type": "stream",
     "text": [
      "\u001b[34m\u001b[1m\r",
      "[Training ] 902/1657 [===============>..............] - ETA: 55:27  loss:2.0462 - accuracy:0.3750 - f1:0.1399 - gpu_mem:7.81G - lr1:0.0009032\u001b[0m"
     ]
    },
    {
     "name": "stdout",
     "output_type": "stream",
     "text": [
      "\u001b[34m\u001b[1m\r",
      "[Training ] 903/1657 [===============>..............] - ETA: 55:22  loss:2.1474 - accuracy:0.2969 - f1:0.0891 - gpu_mem:7.81G - lr1:0.0009042\u001b[0m"
     ]
    },
    {
     "name": "stdout",
     "output_type": "stream",
     "text": [
      "\u001b[34m\u001b[1m\r",
      "[Training ] 904/1657 [===============>..............] - ETA: 55:18  loss:2.2146 - accuracy:0.2812 - f1:0.1506 - gpu_mem:7.81G - lr1:0.0009053\u001b[0m"
     ]
    },
    {
     "name": "stdout",
     "output_type": "stream",
     "text": [
      "\u001b[34m\u001b[1m\r",
      "[Training ] 905/1657 [===============>..............] - ETA: 55:13  loss:2.0658 - accuracy:0.4062 - f1:0.1311 - gpu_mem:7.81G - lr1:0.0009063\u001b[0m"
     ]
    },
    {
     "name": "stdout",
     "output_type": "stream",
     "text": [
      "\u001b[34m\u001b[1m\r",
      "[Training ] 906/1657 [===============>..............] - ETA: 55:09  loss:2.1092 - accuracy:0.3438 - f1:0.1969 - gpu_mem:7.81G - lr1:0.0009073\u001b[0m"
     ]
    },
    {
     "name": "stdout",
     "output_type": "stream",
     "text": [
      "\u001b[34m\u001b[1m\r",
      "[Training ] 907/1657 [===============>..............] - ETA: 55:04  loss:2.1879 - accuracy:0.2812 - f1:0.1532 - gpu_mem:7.81G - lr1:0.0009083\u001b[0m"
     ]
    },
    {
     "name": "stdout",
     "output_type": "stream",
     "text": [
      "\u001b[34m\u001b[1m\r",
      "[Training ] 908/1657 [===============>..............] - ETA: 55:00  loss:2.1729 - accuracy:0.2812 - f1:0.1121 - gpu_mem:7.81G - lr1:0.0009093\u001b[0m"
     ]
    },
    {
     "name": "stdout",
     "output_type": "stream",
     "text": [
      "\u001b[34m\u001b[1m\r",
      "[Training ] 909/1657 [===============>..............] - ETA: 54:56  loss:2.1782 - accuracy:0.2812 - f1:0.1460 - gpu_mem:7.81G - lr1:0.0009103\u001b[0m"
     ]
    },
    {
     "name": "stdout",
     "output_type": "stream",
     "text": [
      "\u001b[34m\u001b[1m\r",
      "[Training ] 910/1657 [===============>..............] - ETA: 54:51  loss:2.0890 - accuracy:0.4219 - f1:0.1935 - gpu_mem:7.81G - lr1:0.0009113\u001b[0m"
     ]
    },
    {
     "name": "stdout",
     "output_type": "stream",
     "text": [
      "\u001b[34m\u001b[1m\r",
      "[Training ] 911/1657 [===============>..............] - ETA: 54:47  loss:2.1286 - accuracy:0.2969 - f1:0.0876 - gpu_mem:7.81G - lr1:0.0009123\u001b[0m"
     ]
    },
    {
     "name": "stdout",
     "output_type": "stream",
     "text": [
      "\u001b[34m\u001b[1m\r",
      "[Training ] 912/1657 [===============>..............] - ETA: 54:42  loss:2.1507 - accuracy:0.2969 - f1:0.1532 - gpu_mem:7.81G - lr1:0.0009133\u001b[0m"
     ]
    },
    {
     "name": "stdout",
     "output_type": "stream",
     "text": [
      "\u001b[34m\u001b[1m\r",
      "[Training ] 913/1657 [===============>..............] - ETA: 54:38  loss:2.0609 - accuracy:0.4062 - f1:0.1230 - gpu_mem:7.81G - lr1:0.0009143\u001b[0m"
     ]
    },
    {
     "name": "stdout",
     "output_type": "stream",
     "text": [
      "\u001b[34m\u001b[1m\r",
      "[Training ] 914/1657 [===============>..............] - ETA: 54:34  loss:2.1113 - accuracy:0.3125 - f1:0.1222 - gpu_mem:7.81G - lr1:0.0009153\u001b[0m"
     ]
    },
    {
     "name": "stdout",
     "output_type": "stream",
     "text": [
      "\u001b[34m\u001b[1m\r",
      "[Training ] 915/1657 [===============>..............] - ETA: 54:29  loss:2.1217 - accuracy:0.3281 - f1:0.1031 - gpu_mem:7.81G - lr1:0.0009163\u001b[0m"
     ]
    },
    {
     "name": "stdout",
     "output_type": "stream",
     "text": [
      "\u001b[34m\u001b[1m\r",
      "[Training ] 916/1657 [===============>..............] - ETA: 54:25  loss:2.1863 - accuracy:0.2969 - f1:0.1160 - gpu_mem:7.81G - lr1:0.0009173\u001b[0m"
     ]
    },
    {
     "name": "stdout",
     "output_type": "stream",
     "text": [
      "\u001b[34m\u001b[1m\r",
      "[Training ] 917/1657 [===============>..............] - ETA: 54:20  loss:2.0885 - accuracy:0.4219 - f1:0.2647 - gpu_mem:7.81G - lr1:0.0009183\u001b[0m"
     ]
    },
    {
     "name": "stdout",
     "output_type": "stream",
     "text": [
      "\u001b[34m\u001b[1m\r",
      "[Training ] 918/1657 [===============>..............] - ETA: 54:16  loss:2.2280 - accuracy:0.3281 - f1:0.1492 - gpu_mem:7.81G - lr1:0.0009193\u001b[0m"
     ]
    },
    {
     "name": "stdout",
     "output_type": "stream",
     "text": [
      "\u001b[34m\u001b[1m\r",
      "[Training ] 919/1657 [===============>..............] - ETA: 54:12  loss:2.1391 - accuracy:0.2812 - f1:0.0775 - gpu_mem:7.81G - lr1:0.0009203\u001b[0m"
     ]
    },
    {
     "name": "stdout",
     "output_type": "stream",
     "text": [
      "\u001b[34m\u001b[1m\r",
      "[Training ] 920/1657 [===============>..............] - ETA: 54:07  loss:2.1381 - accuracy:0.3125 - f1:0.1227 - gpu_mem:7.81G - lr1:0.0009213\u001b[0m"
     ]
    },
    {
     "name": "stdout",
     "output_type": "stream",
     "text": [
      "\u001b[34m\u001b[1m\r",
      "[Training ] 921/1657 [===============>..............] - ETA: 54:03  loss:2.2045 - accuracy:0.3281 - f1:0.2418 - gpu_mem:7.81G - lr1:0.0009223\u001b[0m"
     ]
    },
    {
     "name": "stdout",
     "output_type": "stream",
     "text": [
      "\u001b[34m\u001b[1m\r",
      "[Training ] 922/1657 [===============>..............] - ETA: 53:58  loss:2.1429 - accuracy:0.3750 - f1:0.1624 - gpu_mem:7.81G - lr1:0.0009234\u001b[0m"
     ]
    },
    {
     "name": "stdout",
     "output_type": "stream",
     "text": [
      "\u001b[34m\u001b[1m\r",
      "[Training ] 923/1657 [===============>..............] - ETA: 53:54  loss:2.0732 - accuracy:0.3594 - f1:0.1210 - gpu_mem:7.81G - lr1:0.0009244\u001b[0m"
     ]
    },
    {
     "name": "stdout",
     "output_type": "stream",
     "text": [
      "\u001b[34m\u001b[1m\r",
      "[Training ] 924/1657 [===============>..............] - ETA: 53:50  loss:2.1193 - accuracy:0.3125 - f1:0.1496 - gpu_mem:7.81G - lr1:0.0009254\u001b[0m"
     ]
    },
    {
     "name": "stdout",
     "output_type": "stream",
     "text": [
      "\u001b[34m\u001b[1m\r",
      "[Training ] 925/1657 [===============>..............] - ETA: 53:45  loss:2.1814 - accuracy:0.3281 - f1:0.1427 - gpu_mem:7.81G - lr1:0.0009264\u001b[0m"
     ]
    },
    {
     "name": "stdout",
     "output_type": "stream",
     "text": [
      "\u001b[34m\u001b[1m\r",
      "[Training ] 926/1657 [===============>..............] - ETA: 53:41  loss:2.0131 - accuracy:0.4219 - f1:0.1788 - gpu_mem:7.81G - lr1:0.0009274\u001b[0m"
     ]
    },
    {
     "name": "stdout",
     "output_type": "stream",
     "text": [
      "\u001b[34m\u001b[1m\r",
      "[Training ] 927/1657 [===============>..............] - ETA: 53:36  loss:2.0894 - accuracy:0.3750 - f1:0.2021 - gpu_mem:7.81G - lr1:0.0009284\u001b[0m"
     ]
    },
    {
     "name": "stdout",
     "output_type": "stream",
     "text": [
      "\u001b[34m\u001b[1m\r",
      "[Training ] 928/1657 [===============>..............] - ETA: 53:32  loss:2.1428 - accuracy:0.2969 - f1:0.1261 - gpu_mem:7.81G - lr1:0.0009294\u001b[0m"
     ]
    },
    {
     "name": "stdout",
     "output_type": "stream",
     "text": [
      "\u001b[34m\u001b[1m\r",
      "[Training ] 929/1657 [===============>..............] - ETA: 53:27  loss:2.0716 - accuracy:0.4062 - f1:0.1412 - gpu_mem:7.81G - lr1:0.0009304\u001b[0m"
     ]
    },
    {
     "name": "stdout",
     "output_type": "stream",
     "text": [
      "\u001b[34m\u001b[1m\r",
      "[Training ] 930/1657 [===============>..............] - ETA: 53:23  loss:2.1386 - accuracy:0.3125 - f1:0.1481 - gpu_mem:7.81G - lr1:0.0009314\u001b[0m"
     ]
    },
    {
     "name": "stdout",
     "output_type": "stream",
     "text": [
      "\u001b[34m\u001b[1m\r",
      "[Training ] 931/1657 [===============>..............] - ETA: 53:19  loss:2.1370 - accuracy:0.2812 - f1:0.1034 - gpu_mem:7.81G - lr1:0.0009324\u001b[0m"
     ]
    },
    {
     "name": "stdout",
     "output_type": "stream",
     "text": [
      "\u001b[34m\u001b[1m\r",
      "[Training ] 932/1657 [===============>..............] - ETA: 53:14  loss:2.0566 - accuracy:0.3594 - f1:0.1608 - gpu_mem:7.81G - lr1:0.0009334\u001b[0m"
     ]
    },
    {
     "name": "stdout",
     "output_type": "stream",
     "text": [
      "\u001b[34m\u001b[1m\r",
      "[Training ] 933/1657 [===============>..............] - ETA: 53:10  loss:2.0311 - accuracy:0.4219 - f1:0.1618 - gpu_mem:7.81G - lr1:0.0009344\u001b[0m"
     ]
    },
    {
     "name": "stdout",
     "output_type": "stream",
     "text": [
      "\u001b[34m\u001b[1m\r",
      "[Training ] 934/1657 [===============>..............] - ETA: 53:05  loss:2.1551 - accuracy:0.3125 - f1:0.1268 - gpu_mem:7.81G - lr1:0.0009354\u001b[0m"
     ]
    },
    {
     "name": "stdout",
     "output_type": "stream",
     "text": [
      "\u001b[34m\u001b[1m\r",
      "[Training ] 935/1657 [===============>..............] - ETA: 53:01  loss:2.1189 - accuracy:0.3438 - f1:0.1482 - gpu_mem:7.81G - lr1:0.0009364\u001b[0m"
     ]
    },
    {
     "name": "stdout",
     "output_type": "stream",
     "text": [
      "\u001b[34m\u001b[1m\r",
      "[Training ] 936/1657 [===============>..............] - ETA: 52:57  loss:2.1362 - accuracy:0.3125 - f1:0.1113 - gpu_mem:7.81G - lr1:0.0009374\u001b[0m"
     ]
    },
    {
     "name": "stdout",
     "output_type": "stream",
     "text": [
      "\u001b[34m\u001b[1m\r",
      "[Training ] 937/1657 [===============>..............] - ETA: 52:52  loss:2.1815 - accuracy:0.3281 - f1:0.1495 - gpu_mem:7.81G - lr1:0.0009384\u001b[0m"
     ]
    },
    {
     "name": "stdout",
     "output_type": "stream",
     "text": [
      "\u001b[34m\u001b[1m\r",
      "[Training ] 938/1657 [===============>..............] - ETA: 52:48  loss:2.1108 - accuracy:0.3281 - f1:0.1486 - gpu_mem:7.81G - lr1:0.0009394\u001b[0m"
     ]
    },
    {
     "name": "stdout",
     "output_type": "stream",
     "text": [
      "\u001b[34m\u001b[1m\r",
      "[Training ] 939/1657 [================>.............] - ETA: 52:43  loss:2.0065 - accuracy:0.4375 - f1:0.2095 - gpu_mem:7.81G - lr1:0.0009405\u001b[0m"
     ]
    },
    {
     "name": "stdout",
     "output_type": "stream",
     "text": [
      "\u001b[34m\u001b[1m\r",
      "[Training ] 940/1657 [================>.............] - ETA: 52:39  loss:2.1325 - accuracy:0.2812 - f1:0.1026 - gpu_mem:7.81G - lr1:0.0009415\u001b[0m"
     ]
    },
    {
     "name": "stdout",
     "output_type": "stream",
     "text": [
      "\u001b[34m\u001b[1m\r",
      "[Training ] 941/1657 [================>.............] - ETA: 52:35  loss:2.1176 - accuracy:0.3438 - f1:0.1503 - gpu_mem:7.81G - lr1:0.0009425\u001b[0m"
     ]
    },
    {
     "name": "stdout",
     "output_type": "stream",
     "text": [
      "\u001b[34m\u001b[1m\r",
      "[Training ] 942/1657 [================>.............] - ETA: 52:30  loss:1.9824 - accuracy:0.3750 - f1:0.1330 - gpu_mem:7.81G - lr1:0.0009435\u001b[0m"
     ]
    },
    {
     "name": "stdout",
     "output_type": "stream",
     "text": [
      "\u001b[34m\u001b[1m\r",
      "[Training ] 943/1657 [================>.............] - ETA: 52:26  loss:2.1530 - accuracy:0.2656 - f1:0.0913 - gpu_mem:7.81G - lr1:0.0009445\u001b[0m"
     ]
    },
    {
     "name": "stdout",
     "output_type": "stream",
     "text": [
      "\u001b[34m\u001b[1m\r",
      "[Training ] 944/1657 [================>.............] - ETA: 52:21  loss:2.0515 - accuracy:0.3281 - f1:0.0885 - gpu_mem:7.81G - lr1:0.0009455\u001b[0m"
     ]
    },
    {
     "name": "stdout",
     "output_type": "stream",
     "text": [
      "\u001b[34m\u001b[1m\r",
      "[Training ] 945/1657 [================>.............] - ETA: 52:17  loss:2.1250 - accuracy:0.3594 - f1:0.1862 - gpu_mem:7.81G - lr1:0.0009465\u001b[0m"
     ]
    },
    {
     "name": "stdout",
     "output_type": "stream",
     "text": [
      "\u001b[34m\u001b[1m\r",
      "[Training ] 946/1657 [================>.............] - ETA: 52:13  loss:2.0645 - accuracy:0.3438 - f1:0.1059 - gpu_mem:7.81G - lr1:0.0009475\u001b[0m"
     ]
    },
    {
     "name": "stdout",
     "output_type": "stream",
     "text": [
      "\u001b[34m\u001b[1m\r",
      "[Training ] 947/1657 [================>.............] - ETA: 52:08  loss:2.1098 - accuracy:0.3438 - f1:0.1367 - gpu_mem:7.81G - lr1:0.0009485\u001b[0m"
     ]
    },
    {
     "name": "stdout",
     "output_type": "stream",
     "text": [
      "\u001b[34m\u001b[1m\r",
      "[Training ] 948/1657 [================>.............] - ETA: 52:04  loss:2.0684 - accuracy:0.3750 - f1:0.2016 - gpu_mem:7.81G - lr1:0.0009495\u001b[0m"
     ]
    },
    {
     "name": "stdout",
     "output_type": "stream",
     "text": [
      "\u001b[34m\u001b[1m\r",
      "[Training ] 949/1657 [================>.............] - ETA: 51:59  loss:1.9376 - accuracy:0.4688 - f1:0.1480 - gpu_mem:7.81G - lr1:0.0009505\u001b[0m"
     ]
    },
    {
     "name": "stdout",
     "output_type": "stream",
     "text": [
      "\u001b[34m\u001b[1m\r",
      "[Training ] 950/1657 [================>.............] - ETA: 51:55  loss:1.9935 - accuracy:0.4219 - f1:0.1815 - gpu_mem:7.81G - lr1:0.0009515\u001b[0m"
     ]
    },
    {
     "name": "stdout",
     "output_type": "stream",
     "text": [
      "\u001b[34m\u001b[1m\r",
      "[Training ] 951/1657 [================>.............] - ETA: 51:51  loss:2.1747 - accuracy:0.2812 - f1:0.1261 - gpu_mem:7.81G - lr1:0.0009525\u001b[0m"
     ]
    },
    {
     "name": "stdout",
     "output_type": "stream",
     "text": [
      "\u001b[34m\u001b[1m\r",
      "[Training ] 952/1657 [================>.............] - ETA: 51:46  loss:2.0392 - accuracy:0.3906 - f1:0.1767 - gpu_mem:7.81G - lr1:0.0009535\u001b[0m"
     ]
    },
    {
     "name": "stdout",
     "output_type": "stream",
     "text": [
      "\u001b[34m\u001b[1m\r",
      "[Training ] 953/1657 [================>.............] - ETA: 51:42  loss:2.0019 - accuracy:0.3594 - f1:0.1961 - gpu_mem:7.81G - lr1:0.0009545\u001b[0m"
     ]
    },
    {
     "name": "stdout",
     "output_type": "stream",
     "text": [
      "\u001b[34m\u001b[1m\r",
      "[Training ] 954/1657 [================>.............] - ETA: 51:37  loss:2.1502 - accuracy:0.2344 - f1:0.1010 - gpu_mem:7.81G - lr1:0.0009555\u001b[0m"
     ]
    },
    {
     "name": "stdout",
     "output_type": "stream",
     "text": [
      "\u001b[34m\u001b[1m\r",
      "[Training ] 955/1657 [================>.............] - ETA: 51:33  loss:2.1375 - accuracy:0.3281 - f1:0.1333 - gpu_mem:7.81G - lr1:0.0009565\u001b[0m"
     ]
    },
    {
     "name": "stdout",
     "output_type": "stream",
     "text": [
      "\u001b[34m\u001b[1m\r",
      "[Training ] 956/1657 [================>.............] - ETA: 51:29  loss:2.1588 - accuracy:0.2500 - f1:0.1377 - gpu_mem:7.81G - lr1:0.0009576\u001b[0m"
     ]
    },
    {
     "name": "stdout",
     "output_type": "stream",
     "text": [
      "\u001b[34m\u001b[1m\r",
      "[Training ] 957/1657 [================>.............] - ETA: 51:24  loss:2.1396 - accuracy:0.2969 - f1:0.0915 - gpu_mem:7.81G - lr1:0.0009586\u001b[0m"
     ]
    },
    {
     "name": "stdout",
     "output_type": "stream",
     "text": [
      "\u001b[34m\u001b[1m\r",
      "[Training ] 958/1657 [================>.............] - ETA: 51:20  loss:2.0605 - accuracy:0.3906 - f1:0.1816 - gpu_mem:7.81G - lr1:0.0009596\u001b[0m"
     ]
    },
    {
     "name": "stdout",
     "output_type": "stream",
     "text": [
      "\u001b[34m\u001b[1m\r",
      "[Training ] 959/1657 [================>.............] - ETA: 51:15  loss:2.2000 - accuracy:0.2812 - f1:0.1308 - gpu_mem:7.81G - lr1:0.0009606\u001b[0m"
     ]
    },
    {
     "name": "stdout",
     "output_type": "stream",
     "text": [
      "\u001b[34m\u001b[1m\r",
      "[Training ] 960/1657 [================>.............] - ETA: 51:11  loss:2.1624 - accuracy:0.3438 - f1:0.1789 - gpu_mem:7.81G - lr1:0.0009616\u001b[0m"
     ]
    },
    {
     "name": "stdout",
     "output_type": "stream",
     "text": [
      "\u001b[34m\u001b[1m\r",
      "[Training ] 961/1657 [================>.............] - ETA: 51:06  loss:2.0931 - accuracy:0.3281 - f1:0.1477 - gpu_mem:7.81G - lr1:0.0009626\u001b[0m"
     ]
    },
    {
     "name": "stdout",
     "output_type": "stream",
     "text": [
      "\u001b[34m\u001b[1m\r",
      "[Training ] 962/1657 [================>.............] - ETA: 51:02  loss:2.0526 - accuracy:0.3906 - f1:0.1673 - gpu_mem:7.81G - lr1:0.0009636\u001b[0m"
     ]
    },
    {
     "name": "stdout",
     "output_type": "stream",
     "text": [
      "\u001b[34m\u001b[1m\r",
      "[Training ] 963/1657 [================>.............] - ETA: 50:58  loss:2.0174 - accuracy:0.3750 - f1:0.1528 - gpu_mem:7.81G - lr1:0.0009646\u001b[0m"
     ]
    },
    {
     "name": "stdout",
     "output_type": "stream",
     "text": [
      "\u001b[34m\u001b[1m\r",
      "[Training ] 964/1657 [================>.............] - ETA: 50:53  loss:1.9316 - accuracy:0.3906 - f1:0.1087 - gpu_mem:7.81G - lr1:0.0009656\u001b[0m"
     ]
    },
    {
     "name": "stdout",
     "output_type": "stream",
     "text": [
      "\u001b[34m\u001b[1m\r",
      "[Training ] 965/1657 [================>.............] - ETA: 50:49  loss:2.1002 - accuracy:0.3438 - f1:0.1323 - gpu_mem:7.81G - lr1:0.0009666\u001b[0m"
     ]
    },
    {
     "name": "stdout",
     "output_type": "stream",
     "text": [
      "\u001b[34m\u001b[1m\r",
      "[Training ] 966/1657 [================>.............] - ETA: 50:44  loss:2.1170 - accuracy:0.3125 - f1:0.1138 - gpu_mem:7.81G - lr1:0.0009676\u001b[0m"
     ]
    },
    {
     "name": "stdout",
     "output_type": "stream",
     "text": [
      "\u001b[34m\u001b[1m\r",
      "[Training ] 967/1657 [================>.............] - ETA: 50:40  loss:2.1374 - accuracy:0.2969 - f1:0.1518 - gpu_mem:7.81G - lr1:0.0009686\u001b[0m"
     ]
    },
    {
     "name": "stdout",
     "output_type": "stream",
     "text": [
      "\u001b[34m\u001b[1m\r",
      "[Training ] 968/1657 [================>.............] - ETA: 50:36  loss:1.9979 - accuracy:0.3438 - f1:0.1059 - gpu_mem:7.81G - lr1:0.0009696\u001b[0m"
     ]
    },
    {
     "name": "stdout",
     "output_type": "stream",
     "text": [
      "\u001b[34m\u001b[1m\r",
      "[Training ] 969/1657 [================>.............] - ETA: 50:31  loss:2.0661 - accuracy:0.3281 - f1:0.1377 - gpu_mem:7.81G - lr1:0.0009706\u001b[0m"
     ]
    },
    {
     "name": "stdout",
     "output_type": "stream",
     "text": [
      "\u001b[34m\u001b[1m\r",
      "[Training ] 970/1657 [================>.............] - ETA: 50:27  loss:2.1399 - accuracy:0.3594 - f1:0.1993 - gpu_mem:7.81G - lr1:0.0009716\u001b[0m"
     ]
    },
    {
     "name": "stdout",
     "output_type": "stream",
     "text": [
      "\u001b[34m\u001b[1m\r",
      "[Training ] 971/1657 [================>.............] - ETA: 50:22  loss:2.0606 - accuracy:0.3281 - f1:0.1028 - gpu_mem:7.81G - lr1:0.0009726\u001b[0m"
     ]
    },
    {
     "name": "stdout",
     "output_type": "stream",
     "text": [
      "\u001b[34m\u001b[1m\r",
      "[Training ] 972/1657 [================>.............] - ETA: 50:18  loss:2.1031 - accuracy:0.3438 - f1:0.1519 - gpu_mem:7.81G - lr1:0.0009736\u001b[0m"
     ]
    },
    {
     "name": "stdout",
     "output_type": "stream",
     "text": [
      "\u001b[34m\u001b[1m\r",
      "[Training ] 973/1657 [================>.............] - ETA: 50:14  loss:1.9901 - accuracy:0.4062 - f1:0.1389 - gpu_mem:7.81G - lr1:0.0009747\u001b[0m"
     ]
    },
    {
     "name": "stdout",
     "output_type": "stream",
     "text": [
      "\u001b[34m\u001b[1m\r",
      "[Training ] 974/1657 [================>.............] - ETA: 50:09  loss:1.9121 - accuracy:0.4688 - f1:0.1881 - gpu_mem:7.81G - lr1:0.0009757\u001b[0m"
     ]
    },
    {
     "name": "stdout",
     "output_type": "stream",
     "text": [
      "\u001b[34m\u001b[1m\r",
      "[Training ] 975/1657 [================>.............] - ETA: 50:05  loss:2.0939 - accuracy:0.2812 - f1:0.0870 - gpu_mem:7.81G - lr1:0.0009767\u001b[0m"
     ]
    },
    {
     "name": "stdout",
     "output_type": "stream",
     "text": [
      "\u001b[34m\u001b[1m\r",
      "[Training ] 976/1657 [================>.............] - ETA: 50:00  loss:2.0818 - accuracy:0.3125 - f1:0.1365 - gpu_mem:7.81G - lr1:0.0009777\u001b[0m"
     ]
    },
    {
     "name": "stdout",
     "output_type": "stream",
     "text": [
      "\u001b[34m\u001b[1m\r",
      "[Training ] 977/1657 [================>.............] - ETA: 49:56  loss:2.1801 - accuracy:0.3438 - f1:0.1237 - gpu_mem:7.81G - lr1:0.0009787\u001b[0m"
     ]
    },
    {
     "name": "stdout",
     "output_type": "stream",
     "text": [
      "\u001b[34m\u001b[1m\r",
      "[Training ] 978/1657 [================>.............] - ETA: 49:52  loss:2.1102 - accuracy:0.2969 - f1:0.1139 - gpu_mem:7.81G - lr1:0.0009797\u001b[0m"
     ]
    },
    {
     "name": "stdout",
     "output_type": "stream",
     "text": [
      "\u001b[34m\u001b[1m\r",
      "[Training ] 979/1657 [================>.............] - ETA: 49:47  loss:2.0254 - accuracy:0.4531 - f1:0.2895 - gpu_mem:7.81G - lr1:0.0009807\u001b[0m"
     ]
    },
    {
     "name": "stdout",
     "output_type": "stream",
     "text": [
      "\u001b[34m\u001b[1m\r",
      "[Training ] 980/1657 [================>.............] - ETA: 49:43  loss:2.1243 - accuracy:0.3281 - f1:0.1536 - gpu_mem:7.81G - lr1:0.0009817\u001b[0m"
     ]
    },
    {
     "name": "stdout",
     "output_type": "stream",
     "text": [
      "\u001b[34m\u001b[1m\r",
      "[Training ] 981/1657 [================>.............] - ETA: 49:38  loss:2.1120 - accuracy:0.2969 - f1:0.1045 - gpu_mem:7.81G - lr1:0.0009827\u001b[0m"
     ]
    },
    {
     "name": "stdout",
     "output_type": "stream",
     "text": [
      "\u001b[34m\u001b[1m\r",
      "[Training ] 982/1657 [================>.............] - ETA: 49:34  loss:2.1683 - accuracy:0.3281 - f1:0.1842 - gpu_mem:7.81G - lr1:0.0009837\u001b[0m"
     ]
    },
    {
     "name": "stdout",
     "output_type": "stream",
     "text": [
      "\u001b[34m\u001b[1m\r",
      "[Training ] 983/1657 [================>.............] - ETA: 49:29  loss:2.0770 - accuracy:0.4219 - f1:0.2032 - gpu_mem:7.81G - lr1:0.0009847\u001b[0m"
     ]
    },
    {
     "name": "stdout",
     "output_type": "stream",
     "text": [
      "\u001b[34m\u001b[1m\r",
      "[Training ] 984/1657 [================>.............] - ETA: 49:25  loss:2.0632 - accuracy:0.3906 - f1:0.1379 - gpu_mem:7.81G - lr1:0.0009857\u001b[0m"
     ]
    },
    {
     "name": "stdout",
     "output_type": "stream",
     "text": [
      "\u001b[34m\u001b[1m\r",
      "[Training ] 985/1657 [================>.............] - ETA: 49:21  loss:2.0830 - accuracy:0.3594 - f1:0.2115 - gpu_mem:7.81G - lr1:0.0009867\u001b[0m"
     ]
    },
    {
     "name": "stdout",
     "output_type": "stream",
     "text": [
      "\u001b[34m\u001b[1m\r",
      "[Training ] 986/1657 [================>.............] - ETA: 49:16  loss:2.0306 - accuracy:0.3750 - f1:0.1240 - gpu_mem:7.81G - lr1:0.0009877\u001b[0m"
     ]
    },
    {
     "name": "stdout",
     "output_type": "stream",
     "text": [
      "\u001b[34m\u001b[1m\r",
      "[Training ] 987/1657 [================>.............] - ETA: 49:12  loss:2.1209 - accuracy:0.3438 - f1:0.1486 - gpu_mem:7.81G - lr1:0.0009887\u001b[0m"
     ]
    },
    {
     "name": "stdout",
     "output_type": "stream",
     "text": [
      "\u001b[34m\u001b[1m\r",
      "[Training ] 988/1657 [================>.............] - ETA: 49:07  loss:2.0142 - accuracy:0.4688 - f1:0.2056 - gpu_mem:7.81G - lr1:0.0009897\u001b[0m"
     ]
    },
    {
     "name": "stdout",
     "output_type": "stream",
     "text": [
      "\u001b[34m\u001b[1m\r",
      "[Training ] 989/1657 [================>.............] - ETA: 49:03  loss:2.1460 - accuracy:0.2969 - f1:0.1743 - gpu_mem:7.81G - lr1:0.0009907\u001b[0m"
     ]
    },
    {
     "name": "stdout",
     "output_type": "stream",
     "text": [
      "\u001b[34m\u001b[1m\r",
      "[Training ] 990/1657 [================>.............] - ETA: 48:59  loss:2.0548 - accuracy:0.3594 - f1:0.2069 - gpu_mem:7.81G - lr1:0.0009918\u001b[0m"
     ]
    },
    {
     "name": "stdout",
     "output_type": "stream",
     "text": [
      "\u001b[34m\u001b[1m\r",
      "[Training ] 991/1657 [================>.............] - ETA: 48:54  loss:2.1369 - accuracy:0.3281 - f1:0.1802 - gpu_mem:7.81G - lr1:0.0009928\u001b[0m"
     ]
    },
    {
     "name": "stdout",
     "output_type": "stream",
     "text": [
      "\u001b[34m\u001b[1m\r",
      "[Training ] 992/1657 [================>.............] - ETA: 48:50  loss:2.0291 - accuracy:0.4219 - f1:0.1667 - gpu_mem:7.81G - lr1:0.0009938\u001b[0m"
     ]
    },
    {
     "name": "stdout",
     "output_type": "stream",
     "text": [
      "\u001b[34m\u001b[1m\r",
      "[Training ] 993/1657 [================>.............] - ETA: 48:45  loss:2.1032 - accuracy:0.3438 - f1:0.1601 - gpu_mem:7.81G - lr1:0.0009948\u001b[0m"
     ]
    },
    {
     "name": "stdout",
     "output_type": "stream",
     "text": [
      "\u001b[34m\u001b[1m\r",
      "[Training ] 994/1657 [================>.............] - ETA: 48:41  loss:2.0717 - accuracy:0.4062 - f1:0.1745 - gpu_mem:7.81G - lr1:0.0009958\u001b[0m"
     ]
    },
    {
     "name": "stdout",
     "output_type": "stream",
     "text": [
      "\u001b[34m\u001b[1m\r",
      "[Training ] 995/1657 [=================>............] - ETA: 48:37  loss:2.1229 - accuracy:0.3125 - f1:0.1167 - gpu_mem:7.81G - lr1:0.0009968\u001b[0m"
     ]
    },
    {
     "name": "stdout",
     "output_type": "stream",
     "text": [
      "\u001b[34m\u001b[1m\r",
      "[Training ] 996/1657 [=================>............] - ETA: 48:32  loss:2.0826 - accuracy:0.3438 - f1:0.1574 - gpu_mem:7.81G - lr1:0.0009978\u001b[0m"
     ]
    },
    {
     "name": "stdout",
     "output_type": "stream",
     "text": [
      "\u001b[34m\u001b[1m\r",
      "[Training ] 997/1657 [=================>............] - ETA: 48:28  loss:2.0715 - accuracy:0.3438 - f1:0.1742 - gpu_mem:7.81G - lr1:0.0009988\u001b[0m"
     ]
    },
    {
     "name": "stdout",
     "output_type": "stream",
     "text": [
      "\u001b[34m\u001b[1m\r",
      "[Training ] 998/1657 [=================>............] - ETA: 48:23  loss:2.0308 - accuracy:0.3438 - f1:0.1615 - gpu_mem:7.81G - lr1:0.0009998\u001b[0m"
     ]
    },
    {
     "name": "stdout",
     "output_type": "stream",
     "text": [
      "\u001b[34m\u001b[1m\r",
      "[Training ] 999/1657 [=================>............] - ETA: 48:19  loss:2.0672 - accuracy:0.3438 - f1:0.1436 - gpu_mem:7.81G - lr1:0.0010008\u001b[0m"
     ]
    },
    {
     "name": "stdout",
     "output_type": "stream",
     "text": [
      "\u001b[34m\u001b[1m\r",
      "[Training ] 1000/1657 [=================>............] - ETA: 48:15  loss:1.8344 - accuracy:0.5000 - f1:0.1932 - gpu_mem:7.81G - lr1:0.0010018\u001b[0m"
     ]
    },
    {
     "name": "stdout",
     "output_type": "stream",
     "text": [
      "\u001b[34m\u001b[1m\r",
      "[Training ] 1001/1657 [=================>............] - ETA: 48:10  loss:1.9982 - accuracy:0.3438 - f1:0.1115 - gpu_mem:7.81G - lr1:0.0010028\u001b[0m"
     ]
    },
    {
     "name": "stdout",
     "output_type": "stream",
     "text": [
      "\u001b[34m\u001b[1m\r",
      "[Training ] 1002/1657 [=================>............] - ETA: 48:06  loss:2.0087 - accuracy:0.4062 - f1:0.1361 - gpu_mem:7.81G - lr1:0.0010038\u001b[0m"
     ]
    },
    {
     "name": "stdout",
     "output_type": "stream",
     "text": [
      "\u001b[34m\u001b[1m\r",
      "[Training ] 1003/1657 [=================>............] - ETA: 48:01  loss:2.1853 - accuracy:0.2500 - f1:0.1584 - gpu_mem:7.81G - lr1:0.0010048\u001b[0m"
     ]
    },
    {
     "name": "stdout",
     "output_type": "stream",
     "text": [
      "\u001b[34m\u001b[1m\r",
      "[Training ] 1004/1657 [=================>............] - ETA: 47:57  loss:2.2750 - accuracy:0.2031 - f1:0.0978 - gpu_mem:7.81G - lr1:0.0010058\u001b[0m"
     ]
    },
    {
     "name": "stdout",
     "output_type": "stream",
     "text": [
      "\u001b[34m\u001b[1m\r",
      "[Training ] 1005/1657 [=================>............] - ETA: 47:53  loss:2.1392 - accuracy:0.3125 - f1:0.1041 - gpu_mem:7.81G - lr1:0.0010068\u001b[0m"
     ]
    },
    {
     "name": "stdout",
     "output_type": "stream",
     "text": [
      "\u001b[34m\u001b[1m\r",
      "[Training ] 1006/1657 [=================>............] - ETA: 47:48  loss:1.9974 - accuracy:0.3594 - f1:0.1377 - gpu_mem:7.81G - lr1:0.0010078\u001b[0m"
     ]
    },
    {
     "name": "stdout",
     "output_type": "stream",
     "text": [
      "\u001b[34m\u001b[1m\r",
      "[Training ] 1007/1657 [=================>............] - ETA: 47:44  loss:2.1106 - accuracy:0.3281 - f1:0.1273 - gpu_mem:7.81G - lr1:0.0010089\u001b[0m"
     ]
    },
    {
     "name": "stdout",
     "output_type": "stream",
     "text": [
      "\u001b[34m\u001b[1m\r",
      "[Training ] 1008/1657 [=================>............] - ETA: 47:39  loss:2.1056 - accuracy:0.4062 - f1:0.1322 - gpu_mem:7.81G - lr1:0.0010099\u001b[0m"
     ]
    },
    {
     "name": "stdout",
     "output_type": "stream",
     "text": [
      "\u001b[34m\u001b[1m\r",
      "[Training ] 1009/1657 [=================>............] - ETA: 47:35  loss:2.0052 - accuracy:0.3594 - f1:0.1445 - gpu_mem:7.81G - lr1:0.0010109\u001b[0m"
     ]
    },
    {
     "name": "stdout",
     "output_type": "stream",
     "text": [
      "\u001b[34m\u001b[1m\r",
      "[Training ] 1010/1657 [=================>............] - ETA: 47:30  loss:2.0021 - accuracy:0.4844 - f1:0.2748 - gpu_mem:7.81G - lr1:0.0010119\u001b[0m"
     ]
    },
    {
     "name": "stdout",
     "output_type": "stream",
     "text": [
      "\u001b[34m\u001b[1m\r",
      "[Training ] 1011/1657 [=================>............] - ETA: 47:26  loss:2.0051 - accuracy:0.4219 - f1:0.2001 - gpu_mem:7.81G - lr1:0.0010129\u001b[0m"
     ]
    },
    {
     "name": "stdout",
     "output_type": "stream",
     "text": [
      "\u001b[34m\u001b[1m\r",
      "[Training ] 1012/1657 [=================>............] - ETA: 47:22  loss:2.0296 - accuracy:0.3750 - f1:0.1411 - gpu_mem:7.81G - lr1:0.0010139\u001b[0m"
     ]
    },
    {
     "name": "stdout",
     "output_type": "stream",
     "text": [
      "\u001b[34m\u001b[1m\r",
      "[Training ] 1013/1657 [=================>............] - ETA: 47:17  loss:2.0849 - accuracy:0.3750 - f1:0.1491 - gpu_mem:7.81G - lr1:0.0010149\u001b[0m"
     ]
    },
    {
     "name": "stdout",
     "output_type": "stream",
     "text": [
      "\u001b[34m\u001b[1m\r",
      "[Training ] 1014/1657 [=================>............] - ETA: 47:13  loss:2.0363 - accuracy:0.3594 - f1:0.1185 - gpu_mem:7.81G - lr1:0.0010159\u001b[0m"
     ]
    },
    {
     "name": "stdout",
     "output_type": "stream",
     "text": [
      "\u001b[34m\u001b[1m\r",
      "[Training ] 1015/1657 [=================>............] - ETA: 47:08  loss:2.0578 - accuracy:0.3906 - f1:0.1824 - gpu_mem:7.81G - lr1:0.0010169\u001b[0m"
     ]
    },
    {
     "name": "stdout",
     "output_type": "stream",
     "text": [
      "\u001b[34m\u001b[1m\r",
      "[Training ] 1016/1657 [=================>............] - ETA: 47:04  loss:2.1581 - accuracy:0.2500 - f1:0.1415 - gpu_mem:7.81G - lr1:0.0010179\u001b[0m"
     ]
    },
    {
     "name": "stdout",
     "output_type": "stream",
     "text": [
      "\u001b[34m\u001b[1m\r",
      "[Training ] 1017/1657 [=================>............] - ETA: 47:00  loss:1.9975 - accuracy:0.4219 - f1:0.1418 - gpu_mem:7.81G - lr1:0.0010189\u001b[0m"
     ]
    },
    {
     "name": "stdout",
     "output_type": "stream",
     "text": [
      "\u001b[34m\u001b[1m\r",
      "[Training ] 1018/1657 [=================>............] - ETA: 46:55  loss:2.0715 - accuracy:0.3906 - f1:0.2057 - gpu_mem:7.81G - lr1:0.0010199\u001b[0m"
     ]
    },
    {
     "name": "stdout",
     "output_type": "stream",
     "text": [
      "\u001b[34m\u001b[1m\r",
      "[Training ] 1019/1657 [=================>............] - ETA: 46:51  loss:2.0274 - accuracy:0.4062 - f1:0.1380 - gpu_mem:7.81G - lr1:0.0010209\u001b[0m"
     ]
    },
    {
     "name": "stdout",
     "output_type": "stream",
     "text": [
      "\u001b[34m\u001b[1m\r",
      "[Training ] 1020/1657 [=================>............] - ETA: 46:46  loss:2.0260 - accuracy:0.3906 - f1:0.1296 - gpu_mem:7.81G - lr1:0.0010219\u001b[0m"
     ]
    },
    {
     "name": "stdout",
     "output_type": "stream",
     "text": [
      "\u001b[34m\u001b[1m\r",
      "[Training ] 1021/1657 [=================>............] - ETA: 46:42  loss:1.9805 - accuracy:0.3750 - f1:0.1833 - gpu_mem:7.81G - lr1:0.0010229\u001b[0m"
     ]
    },
    {
     "name": "stdout",
     "output_type": "stream",
     "text": [
      "\u001b[34m\u001b[1m\r",
      "[Training ] 1022/1657 [=================>............] - ETA: 46:38  loss:2.0951 - accuracy:0.3125 - f1:0.0889 - gpu_mem:7.81G - lr1:0.0010239\u001b[0m"
     ]
    },
    {
     "name": "stdout",
     "output_type": "stream",
     "text": [
      "\u001b[34m\u001b[1m\r",
      "[Training ] 1023/1657 [=================>............] - ETA: 46:33  loss:2.0518 - accuracy:0.3281 - f1:0.1267 - gpu_mem:7.81G - lr1:0.0010249\u001b[0m"
     ]
    },
    {
     "name": "stdout",
     "output_type": "stream",
     "text": [
      "\u001b[34m\u001b[1m\r",
      "[Training ] 1024/1657 [=================>............] - ETA: 46:29  loss:2.0940 - accuracy:0.3125 - f1:0.1237 - gpu_mem:7.81G - lr1:0.0010260\u001b[0m"
     ]
    },
    {
     "name": "stdout",
     "output_type": "stream",
     "text": [
      "\u001b[34m\u001b[1m\r",
      "[Training ] 1025/1657 [=================>............] - ETA: 46:24  loss:2.1740 - accuracy:0.3281 - f1:0.1628 - gpu_mem:7.81G - lr1:0.0010270\u001b[0m"
     ]
    },
    {
     "name": "stdout",
     "output_type": "stream",
     "text": [
      "\u001b[34m\u001b[1m\r",
      "[Training ] 1026/1657 [=================>............] - ETA: 46:20  loss:2.0709 - accuracy:0.3281 - f1:0.1322 - gpu_mem:7.81G - lr1:0.0010280\u001b[0m"
     ]
    },
    {
     "name": "stdout",
     "output_type": "stream",
     "text": [
      "\u001b[34m\u001b[1m\r",
      "[Training ] 1027/1657 [=================>............] - ETA: 46:16  loss:2.0571 - accuracy:0.3750 - f1:0.1220 - gpu_mem:7.81G - lr1:0.0010290\u001b[0m"
     ]
    },
    {
     "name": "stdout",
     "output_type": "stream",
     "text": [
      "\u001b[34m\u001b[1m\r",
      "[Training ] 1028/1657 [=================>............] - ETA: 46:11  loss:2.0026 - accuracy:0.4219 - f1:0.1532 - gpu_mem:7.81G - lr1:0.0010300\u001b[0m"
     ]
    },
    {
     "name": "stdout",
     "output_type": "stream",
     "text": [
      "\u001b[34m\u001b[1m\r",
      "[Training ] 1029/1657 [=================>............] - ETA: 46:07  loss:1.9641 - accuracy:0.4375 - f1:0.1499 - gpu_mem:7.81G - lr1:0.0010310\u001b[0m"
     ]
    },
    {
     "name": "stdout",
     "output_type": "stream",
     "text": [
      "\u001b[34m\u001b[1m\r",
      "[Training ] 1030/1657 [=================>............] - ETA: 46:02  loss:2.1383 - accuracy:0.2656 - f1:0.1045 - gpu_mem:7.81G - lr1:0.0010320\u001b[0m"
     ]
    },
    {
     "name": "stdout",
     "output_type": "stream",
     "text": [
      "\u001b[34m\u001b[1m\r",
      "[Training ] 1031/1657 [=================>............] - ETA: 45:58  loss:2.0521 - accuracy:0.3594 - f1:0.1463 - gpu_mem:7.81G - lr1:0.0010330\u001b[0m"
     ]
    },
    {
     "name": "stdout",
     "output_type": "stream",
     "text": [
      "\u001b[34m\u001b[1m\r",
      "[Training ] 1032/1657 [=================>............] - ETA: 45:54  loss:2.1170 - accuracy:0.3594 - f1:0.2213 - gpu_mem:7.81G - lr1:0.0010340\u001b[0m"
     ]
    },
    {
     "name": "stdout",
     "output_type": "stream",
     "text": [
      "\u001b[34m\u001b[1m\r",
      "[Training ] 1033/1657 [=================>............] - ETA: 45:49  loss:2.1053 - accuracy:0.3281 - f1:0.1228 - gpu_mem:7.81G - lr1:0.0010350\u001b[0m"
     ]
    },
    {
     "name": "stdout",
     "output_type": "stream",
     "text": [
      "\u001b[34m\u001b[1m\r",
      "[Training ] 1034/1657 [=================>............] - ETA: 45:45  loss:2.0738 - accuracy:0.3594 - f1:0.1370 - gpu_mem:7.81G - lr1:0.0010360\u001b[0m"
     ]
    },
    {
     "name": "stdout",
     "output_type": "stream",
     "text": [
      "\u001b[34m\u001b[1m\r",
      "[Training ] 1035/1657 [=================>............] - ETA: 45:40  loss:1.8945 - accuracy:0.4688 - f1:0.2189 - gpu_mem:7.81G - lr1:0.0010370\u001b[0m"
     ]
    },
    {
     "name": "stdout",
     "output_type": "stream",
     "text": [
      "\u001b[34m\u001b[1m\r",
      "[Training ] 1036/1657 [=================>............] - ETA: 45:36  loss:2.0826 - accuracy:0.3125 - f1:0.2501 - gpu_mem:7.81G - lr1:0.0010380\u001b[0m"
     ]
    },
    {
     "name": "stdout",
     "output_type": "stream",
     "text": [
      "\u001b[34m\u001b[1m\r",
      "[Training ] 1037/1657 [=================>............] - ETA: 45:32  loss:2.1515 - accuracy:0.3281 - f1:0.1430 - gpu_mem:7.81G - lr1:0.0010390\u001b[0m"
     ]
    },
    {
     "name": "stdout",
     "output_type": "stream",
     "text": [
      "\u001b[34m\u001b[1m\r",
      "[Training ] 1038/1657 [=================>............] - ETA: 45:27  loss:2.0375 - accuracy:0.3906 - f1:0.1560 - gpu_mem:7.81G - lr1:0.0010400\u001b[0m"
     ]
    },
    {
     "name": "stdout",
     "output_type": "stream",
     "text": [
      "\u001b[34m\u001b[1m\r",
      "[Training ] 1039/1657 [=================>............] - ETA: 45:23  loss:1.9987 - accuracy:0.3438 - f1:0.1043 - gpu_mem:7.81G - lr1:0.0010410\u001b[0m"
     ]
    },
    {
     "name": "stdout",
     "output_type": "stream",
     "text": [
      "\u001b[34m\u001b[1m\r",
      "[Training ] 1040/1657 [=================>............] - ETA: 45:18  loss:1.9586 - accuracy:0.4375 - f1:0.2318 - gpu_mem:7.81G - lr1:0.0010420\u001b[0m"
     ]
    },
    {
     "name": "stdout",
     "output_type": "stream",
     "text": [
      "\u001b[34m\u001b[1m\r",
      "[Training ] 1041/1657 [=================>............] - ETA: 45:14  loss:2.0381 - accuracy:0.3906 - f1:0.2233 - gpu_mem:7.81G - lr1:0.0010430\u001b[0m"
     ]
    },
    {
     "name": "stdout",
     "output_type": "stream",
     "text": [
      "\u001b[34m\u001b[1m\r",
      "[Training ] 1042/1657 [=================>............] - ETA: 45:09  loss:2.0630 - accuracy:0.3594 - f1:0.1377 - gpu_mem:7.81G - lr1:0.0010441\u001b[0m"
     ]
    },
    {
     "name": "stdout",
     "output_type": "stream",
     "text": [
      "\u001b[34m\u001b[1m\r",
      "[Training ] 1043/1657 [=================>............] - ETA: 45:05  loss:2.1113 - accuracy:0.3750 - f1:0.1565 - gpu_mem:7.81G - lr1:0.0010451\u001b[0m"
     ]
    },
    {
     "name": "stdout",
     "output_type": "stream",
     "text": [
      "\u001b[34m\u001b[1m\r",
      "[Training ] 1044/1657 [=================>............] - ETA: 45:01  loss:2.1155 - accuracy:0.2969 - f1:0.1498 - gpu_mem:7.81G - lr1:0.0010461\u001b[0m"
     ]
    },
    {
     "name": "stdout",
     "output_type": "stream",
     "text": [
      "\u001b[34m\u001b[1m\r",
      "[Training ] 1045/1657 [=================>............] - ETA: 44:56  loss:2.0197 - accuracy:0.4375 - f1:0.2659 - gpu_mem:7.81G - lr1:0.0010471\u001b[0m"
     ]
    },
    {
     "name": "stdout",
     "output_type": "stream",
     "text": [
      "\u001b[34m\u001b[1m\r",
      "[Training ] 1046/1657 [=================>............] - ETA: 44:52  loss:2.1198 - accuracy:0.2969 - f1:0.1345 - gpu_mem:7.81G - lr1:0.0010481\u001b[0m"
     ]
    },
    {
     "name": "stdout",
     "output_type": "stream",
     "text": [
      "\u001b[34m\u001b[1m\r",
      "[Training ] 1047/1657 [=================>............] - ETA: 44:47  loss:2.1197 - accuracy:0.2812 - f1:0.1113 - gpu_mem:7.81G - lr1:0.0010491\u001b[0m"
     ]
    },
    {
     "name": "stdout",
     "output_type": "stream",
     "text": [
      "\u001b[34m\u001b[1m\r",
      "[Training ] 1048/1657 [=================>............] - ETA: 44:43  loss:2.0388 - accuracy:0.3594 - f1:0.1207 - gpu_mem:7.81G - lr1:0.0010501\u001b[0m"
     ]
    },
    {
     "name": "stdout",
     "output_type": "stream",
     "text": [
      "\u001b[34m\u001b[1m\r",
      "[Training ] 1049/1657 [=================>............] - ETA: 44:39  loss:2.1106 - accuracy:0.3281 - f1:0.1401 - gpu_mem:7.81G - lr1:0.0010511\u001b[0m"
     ]
    },
    {
     "name": "stdout",
     "output_type": "stream",
     "text": [
      "\u001b[34m\u001b[1m\r",
      "[Training ] 1050/1657 [==================>...........] - ETA: 44:34  loss:2.0502 - accuracy:0.3438 - f1:0.1695 - gpu_mem:7.81G - lr1:0.0010521\u001b[0m"
     ]
    },
    {
     "name": "stdout",
     "output_type": "stream",
     "text": [
      "\u001b[34m\u001b[1m\r",
      "[Training ] 1051/1657 [==================>...........] - ETA: 44:30  loss:2.0612 - accuracy:0.4219 - f1:0.1322 - gpu_mem:7.81G - lr1:0.0010531\u001b[0m"
     ]
    },
    {
     "name": "stdout",
     "output_type": "stream",
     "text": [
      "\u001b[34m\u001b[1m\r",
      "[Training ] 1052/1657 [==================>...........] - ETA: 44:25  loss:1.9447 - accuracy:0.4375 - f1:0.1945 - gpu_mem:7.81G - lr1:0.0010541\u001b[0m"
     ]
    },
    {
     "name": "stdout",
     "output_type": "stream",
     "text": [
      "\u001b[34m\u001b[1m\r",
      "[Training ] 1053/1657 [==================>...........] - ETA: 44:21  loss:2.0348 - accuracy:0.3438 - f1:0.1677 - gpu_mem:7.81G - lr1:0.0010551\u001b[0m"
     ]
    },
    {
     "name": "stdout",
     "output_type": "stream",
     "text": [
      "\u001b[34m\u001b[1m\r",
      "[Training ] 1054/1657 [==================>...........] - ETA: 44:17  loss:1.9992 - accuracy:0.3281 - f1:0.1000 - gpu_mem:7.81G - lr1:0.0010561\u001b[0m"
     ]
    },
    {
     "name": "stdout",
     "output_type": "stream",
     "text": [
      "\u001b[34m\u001b[1m\r",
      "[Training ] 1055/1657 [==================>...........] - ETA: 44:12  loss:1.9442 - accuracy:0.4219 - f1:0.1287 - gpu_mem:7.81G - lr1:0.0010571\u001b[0m"
     ]
    },
    {
     "name": "stdout",
     "output_type": "stream",
     "text": [
      "\u001b[34m\u001b[1m\r",
      "[Training ] 1056/1657 [==================>...........] - ETA: 44:08  loss:2.0460 - accuracy:0.3438 - f1:0.1697 - gpu_mem:7.81G - lr1:0.0010581\u001b[0m"
     ]
    },
    {
     "name": "stdout",
     "output_type": "stream",
     "text": [
      "\u001b[34m\u001b[1m\r",
      "[Training ] 1057/1657 [==================>...........] - ETA: 44:03  loss:1.9576 - accuracy:0.3125 - f1:0.0941 - gpu_mem:7.81G - lr1:0.0010591\u001b[0m"
     ]
    },
    {
     "name": "stdout",
     "output_type": "stream",
     "text": [
      "\u001b[34m\u001b[1m\r",
      "[Training ] 1058/1657 [==================>...........] - ETA: 43:59  loss:2.0598 - accuracy:0.3906 - f1:0.2033 - gpu_mem:7.81G - lr1:0.0010601\u001b[0m"
     ]
    },
    {
     "name": "stdout",
     "output_type": "stream",
     "text": [
      "\u001b[34m\u001b[1m\r",
      "[Training ] 1059/1657 [==================>...........] - ETA: 43:55  loss:1.9938 - accuracy:0.3750 - f1:0.1546 - gpu_mem:7.81G - lr1:0.0010612\u001b[0m"
     ]
    },
    {
     "name": "stdout",
     "output_type": "stream",
     "text": [
      "\u001b[34m\u001b[1m\r",
      "[Training ] 1060/1657 [==================>...........] - ETA: 43:50  loss:1.7790 - accuracy:0.5625 - f1:0.2241 - gpu_mem:7.81G - lr1:0.0010622\u001b[0m"
     ]
    },
    {
     "name": "stdout",
     "output_type": "stream",
     "text": [
      "\u001b[34m\u001b[1m\r",
      "[Training ] 1061/1657 [==================>...........] - ETA: 43:46  loss:2.2049 - accuracy:0.2969 - f1:0.1903 - gpu_mem:7.81G - lr1:0.0010632\u001b[0m"
     ]
    },
    {
     "name": "stdout",
     "output_type": "stream",
     "text": [
      "\u001b[34m\u001b[1m\r",
      "[Training ] 1062/1657 [==================>...........] - ETA: 43:41  loss:2.0491 - accuracy:0.3281 - f1:0.1410 - gpu_mem:7.81G - lr1:0.0010642\u001b[0m"
     ]
    },
    {
     "name": "stdout",
     "output_type": "stream",
     "text": [
      "\u001b[34m\u001b[1m\r",
      "[Training ] 1063/1657 [==================>...........] - ETA: 43:37  loss:1.9455 - accuracy:0.5000 - f1:0.1416 - gpu_mem:7.81G - lr1:0.0010652\u001b[0m"
     ]
    },
    {
     "name": "stdout",
     "output_type": "stream",
     "text": [
      "\u001b[34m\u001b[1m\r",
      "[Training ] 1064/1657 [==================>...........] - ETA: 43:33  loss:1.9589 - accuracy:0.3750 - f1:0.1837 - gpu_mem:7.81G - lr1:0.0010662\u001b[0m"
     ]
    },
    {
     "name": "stdout",
     "output_type": "stream",
     "text": [
      "\u001b[34m\u001b[1m\r",
      "[Training ] 1065/1657 [==================>...........] - ETA: 43:28  loss:1.8924 - accuracy:0.4844 - f1:0.2214 - gpu_mem:7.81G - lr1:0.0010672\u001b[0m"
     ]
    },
    {
     "name": "stdout",
     "output_type": "stream",
     "text": [
      "\u001b[34m\u001b[1m\r",
      "[Training ] 1066/1657 [==================>...........] - ETA: 43:24  loss:2.0744 - accuracy:0.2656 - f1:0.0768 - gpu_mem:7.81G - lr1:0.0010682\u001b[0m"
     ]
    },
    {
     "name": "stdout",
     "output_type": "stream",
     "text": [
      "\u001b[34m\u001b[1m\r",
      "[Training ] 1067/1657 [==================>...........] - ETA: 43:19  loss:2.1854 - accuracy:0.2031 - f1:0.0702 - gpu_mem:7.81G - lr1:0.0010692\u001b[0m"
     ]
    },
    {
     "name": "stdout",
     "output_type": "stream",
     "text": [
      "\u001b[34m\u001b[1m\r",
      "[Training ] 1068/1657 [==================>...........] - ETA: 43:15  loss:1.8674 - accuracy:0.5625 - f1:0.2222 - gpu_mem:7.81G - lr1:0.0010702\u001b[0m"
     ]
    },
    {
     "name": "stdout",
     "output_type": "stream",
     "text": [
      "\u001b[34m\u001b[1m\r",
      "[Training ] 1069/1657 [==================>...........] - ETA: 43:11  loss:2.0097 - accuracy:0.3281 - f1:0.0952 - gpu_mem:7.81G - lr1:0.0010712\u001b[0m"
     ]
    },
    {
     "name": "stdout",
     "output_type": "stream",
     "text": [
      "\u001b[34m\u001b[1m\r",
      "[Training ] 1070/1657 [==================>...........] - ETA: 43:06  loss:2.1006 - accuracy:0.3438 - f1:0.1146 - gpu_mem:7.81G - lr1:0.0010722\u001b[0m"
     ]
    },
    {
     "name": "stdout",
     "output_type": "stream",
     "text": [
      "\u001b[34m\u001b[1m\r",
      "[Training ] 1071/1657 [==================>...........] - ETA: 43:02  loss:2.1673 - accuracy:0.2969 - f1:0.1122 - gpu_mem:7.81G - lr1:0.0010732\u001b[0m"
     ]
    },
    {
     "name": "stdout",
     "output_type": "stream",
     "text": [
      "\u001b[34m\u001b[1m\r",
      "[Training ] 1072/1657 [==================>...........] - ETA: 42:57  loss:1.9432 - accuracy:0.4688 - f1:0.1671 - gpu_mem:7.81G - lr1:0.0010742\u001b[0m"
     ]
    },
    {
     "name": "stdout",
     "output_type": "stream",
     "text": [
      "\u001b[34m\u001b[1m\r",
      "[Training ] 1073/1657 [==================>...........] - ETA: 42:53  loss:2.0388 - accuracy:0.4375 - f1:0.1856 - gpu_mem:7.81G - lr1:0.0010752\u001b[0m"
     ]
    },
    {
     "name": "stdout",
     "output_type": "stream",
     "text": [
      "\u001b[34m\u001b[1m\r",
      "[Training ] 1074/1657 [==================>...........] - ETA: 42:49  loss:2.0670 - accuracy:0.3438 - f1:0.1548 - gpu_mem:7.81G - lr1:0.0010762\u001b[0m"
     ]
    },
    {
     "name": "stdout",
     "output_type": "stream",
     "text": [
      "\u001b[34m\u001b[1m\r",
      "[Training ] 1075/1657 [==================>...........] - ETA: 42:44  loss:2.1597 - accuracy:0.3438 - f1:0.1935 - gpu_mem:7.81G - lr1:0.0010772\u001b[0m"
     ]
    },
    {
     "name": "stdout",
     "output_type": "stream",
     "text": [
      "\u001b[34m\u001b[1m\r",
      "[Training ] 1076/1657 [==================>...........] - ETA: 42:40  loss:1.9543 - accuracy:0.4844 - f1:0.1794 - gpu_mem:7.81G - lr1:0.0010783\u001b[0m"
     ]
    },
    {
     "name": "stdout",
     "output_type": "stream",
     "text": [
      "\u001b[34m\u001b[1m\r",
      "[Training ] 1077/1657 [==================>...........] - ETA: 42:35  loss:1.9597 - accuracy:0.4844 - f1:0.1869 - gpu_mem:7.81G - lr1:0.0010793\u001b[0m"
     ]
    },
    {
     "name": "stdout",
     "output_type": "stream",
     "text": [
      "\u001b[34m\u001b[1m\r",
      "[Training ] 1078/1657 [==================>...........] - ETA: 42:31  loss:1.9534 - accuracy:0.3906 - f1:0.1150 - gpu_mem:7.81G - lr1:0.0010803\u001b[0m"
     ]
    },
    {
     "name": "stdout",
     "output_type": "stream",
     "text": [
      "\u001b[34m\u001b[1m\r",
      "[Training ] 1079/1657 [==================>...........] - ETA: 42:26  loss:2.0018 - accuracy:0.3906 - f1:0.1461 - gpu_mem:7.81G - lr1:0.0010813\u001b[0m"
     ]
    },
    {
     "name": "stdout",
     "output_type": "stream",
     "text": [
      "\u001b[34m\u001b[1m\r",
      "[Training ] 1080/1657 [==================>...........] - ETA: 42:22  loss:2.1478 - accuracy:0.2969 - f1:0.1726 - gpu_mem:7.81G - lr1:0.0010823\u001b[0m"
     ]
    },
    {
     "name": "stdout",
     "output_type": "stream",
     "text": [
      "\u001b[34m\u001b[1m\r",
      "[Training ] 1081/1657 [==================>...........] - ETA: 42:18  loss:2.0755 - accuracy:0.3438 - f1:0.1180 - gpu_mem:7.81G - lr1:0.0010833\u001b[0m"
     ]
    },
    {
     "name": "stdout",
     "output_type": "stream",
     "text": [
      "\u001b[34m\u001b[1m\r",
      "[Training ] 1082/1657 [==================>...........] - ETA: 42:13  loss:1.9672 - accuracy:0.3906 - f1:0.1426 - gpu_mem:7.81G - lr1:0.0010843\u001b[0m"
     ]
    },
    {
     "name": "stdout",
     "output_type": "stream",
     "text": [
      "\u001b[34m\u001b[1m\r",
      "[Training ] 1083/1657 [==================>...........] - ETA: 42:09  loss:1.8727 - accuracy:0.4531 - f1:0.1500 - gpu_mem:7.81G - lr1:0.0010853\u001b[0m"
     ]
    },
    {
     "name": "stdout",
     "output_type": "stream",
     "text": [
      "\u001b[34m\u001b[1m\r",
      "[Training ] 1084/1657 [==================>...........] - ETA: 42:04  loss:1.9995 - accuracy:0.3750 - f1:0.1554 - gpu_mem:7.81G - lr1:0.0010863\u001b[0m"
     ]
    },
    {
     "name": "stdout",
     "output_type": "stream",
     "text": [
      "\u001b[34m\u001b[1m\r",
      "[Training ] 1085/1657 [==================>...........] - ETA: 42:00  loss:2.0929 - accuracy:0.2969 - f1:0.1481 - gpu_mem:7.81G - lr1:0.0010873\u001b[0m"
     ]
    },
    {
     "name": "stdout",
     "output_type": "stream",
     "text": [
      "\u001b[34m\u001b[1m\r",
      "[Training ] 1086/1657 [==================>...........] - ETA: 41:56  loss:1.9362 - accuracy:0.4219 - f1:0.1344 - gpu_mem:7.81G - lr1:0.0010883\u001b[0m"
     ]
    },
    {
     "name": "stdout",
     "output_type": "stream",
     "text": [
      "\u001b[34m\u001b[1m\r",
      "[Training ] 1087/1657 [==================>...........] - ETA: 41:51  loss:2.0780 - accuracy:0.3906 - f1:0.2494 - gpu_mem:7.81G - lr1:0.0010893\u001b[0m"
     ]
    },
    {
     "name": "stdout",
     "output_type": "stream",
     "text": [
      "\u001b[34m\u001b[1m\r",
      "[Training ] 1088/1657 [==================>...........] - ETA: 41:47  loss:2.0371 - accuracy:0.4062 - f1:0.2117 - gpu_mem:7.81G - lr1:0.0010903\u001b[0m"
     ]
    },
    {
     "name": "stdout",
     "output_type": "stream",
     "text": [
      "\u001b[34m\u001b[1m\r",
      "[Training ] 1089/1657 [==================>...........] - ETA: 41:42  loss:2.0245 - accuracy:0.3750 - f1:0.1595 - gpu_mem:7.81G - lr1:0.0010913\u001b[0m"
     ]
    },
    {
     "name": "stdout",
     "output_type": "stream",
     "text": [
      "\u001b[34m\u001b[1m\r",
      "[Training ] 1090/1657 [==================>...........] - ETA: 41:38  loss:1.9840 - accuracy:0.4531 - f1:0.1758 - gpu_mem:7.81G - lr1:0.0010923\u001b[0m"
     ]
    },
    {
     "name": "stdout",
     "output_type": "stream",
     "text": [
      "\u001b[34m\u001b[1m\r",
      "[Training ] 1091/1657 [==================>...........] - ETA: 41:34  loss:1.9669 - accuracy:0.4688 - f1:0.2080 - gpu_mem:7.81G - lr1:0.0010933\u001b[0m"
     ]
    },
    {
     "name": "stdout",
     "output_type": "stream",
     "text": [
      "\u001b[34m\u001b[1m\r",
      "[Training ] 1092/1657 [==================>...........] - ETA: 41:29  loss:2.0935 - accuracy:0.3281 - f1:0.1178 - gpu_mem:7.81G - lr1:0.0010943\u001b[0m"
     ]
    },
    {
     "name": "stdout",
     "output_type": "stream",
     "text": [
      "\u001b[34m\u001b[1m\r",
      "[Training ] 1093/1657 [==================>...........] - ETA: 41:25  loss:2.0633 - accuracy:0.2656 - f1:0.1065 - gpu_mem:7.81G - lr1:0.0010954\u001b[0m"
     ]
    },
    {
     "name": "stdout",
     "output_type": "stream",
     "text": [
      "\u001b[34m\u001b[1m\r",
      "[Training ] 1094/1657 [==================>...........] - ETA: 41:20  loss:2.0215 - accuracy:0.4531 - f1:0.1990 - gpu_mem:7.81G - lr1:0.0010964\u001b[0m"
     ]
    },
    {
     "name": "stdout",
     "output_type": "stream",
     "text": [
      "\u001b[34m\u001b[1m\r",
      "[Training ] 1095/1657 [==================>...........] - ETA: 41:16  loss:2.0548 - accuracy:0.3594 - f1:0.1238 - gpu_mem:7.81G - lr1:0.0010974\u001b[0m"
     ]
    },
    {
     "name": "stdout",
     "output_type": "stream",
     "text": [
      "\u001b[34m\u001b[1m\r",
      "[Training ] 1096/1657 [==================>...........] - ETA: 41:12  loss:2.0763 - accuracy:0.3750 - f1:0.1854 - gpu_mem:7.81G - lr1:0.0010984\u001b[0m"
     ]
    },
    {
     "name": "stdout",
     "output_type": "stream",
     "text": [
      "\u001b[34m\u001b[1m\r",
      "[Training ] 1097/1657 [==================>...........] - ETA: 41:07  loss:2.0300 - accuracy:0.3594 - f1:0.1532 - gpu_mem:7.81G - lr1:0.0010994\u001b[0m"
     ]
    },
    {
     "name": "stdout",
     "output_type": "stream",
     "text": [
      "\u001b[34m\u001b[1m\r",
      "[Training ] 1098/1657 [==================>...........] - ETA: 41:03  loss:1.8700 - accuracy:0.4688 - f1:0.1384 - gpu_mem:7.81G - lr1:0.0011004\u001b[0m"
     ]
    },
    {
     "name": "stdout",
     "output_type": "stream",
     "text": [
      "\u001b[34m\u001b[1m\r",
      "[Training ] 1099/1657 [==================>...........] - ETA: 40:58  loss:1.9070 - accuracy:0.4531 - f1:0.1316 - gpu_mem:7.81G - lr1:0.0011014\u001b[0m"
     ]
    },
    {
     "name": "stdout",
     "output_type": "stream",
     "text": [
      "\u001b[34m\u001b[1m\r",
      "[Training ] 1100/1657 [==================>...........] - ETA: 40:54  loss:2.0607 - accuracy:0.3125 - f1:0.1168 - gpu_mem:7.81G - lr1:0.0011024\u001b[0m"
     ]
    },
    {
     "name": "stdout",
     "output_type": "stream",
     "text": [
      "\u001b[34m\u001b[1m\r",
      "[Training ] 1101/1657 [==================>...........] - ETA: 40:50  loss:1.9786 - accuracy:0.4375 - f1:0.2166 - gpu_mem:7.81G - lr1:0.0011034\u001b[0m"
     ]
    },
    {
     "name": "stdout",
     "output_type": "stream",
     "text": [
      "\u001b[34m\u001b[1m\r",
      "[Training ] 1102/1657 [==================>...........] - ETA: 40:45  loss:1.9998 - accuracy:0.4219 - f1:0.1526 - gpu_mem:7.81G - lr1:0.0011044\u001b[0m"
     ]
    },
    {
     "name": "stdout",
     "output_type": "stream",
     "text": [
      "\u001b[34m\u001b[1m\r",
      "[Training ] 1103/1657 [==================>...........] - ETA: 40:41  loss:1.9981 - accuracy:0.4844 - f1:0.2098 - gpu_mem:7.81G - lr1:0.0011054\u001b[0m"
     ]
    },
    {
     "name": "stdout",
     "output_type": "stream",
     "text": [
      "\u001b[34m\u001b[1m\r",
      "[Training ] 1104/1657 [==================>...........] - ETA: 40:36  loss:1.9623 - accuracy:0.4062 - f1:0.1401 - gpu_mem:7.81G - lr1:0.0011064\u001b[0m"
     ]
    },
    {
     "name": "stdout",
     "output_type": "stream",
     "text": [
      "\u001b[34m\u001b[1m\r",
      "[Training ] 1105/1657 [===================>..........] - ETA: 40:32  loss:2.0508 - accuracy:0.4531 - f1:0.2176 - gpu_mem:7.81G - lr1:0.0011074\u001b[0m"
     ]
    },
    {
     "name": "stdout",
     "output_type": "stream",
     "text": [
      "\u001b[34m\u001b[1m\r",
      "[Training ] 1106/1657 [===================>..........] - ETA: 40:28  loss:2.0118 - accuracy:0.3906 - f1:0.2551 - gpu_mem:7.81G - lr1:0.0011084\u001b[0m"
     ]
    },
    {
     "name": "stdout",
     "output_type": "stream",
     "text": [
      "\u001b[34m\u001b[1m\r",
      "[Training ] 1107/1657 [===================>..........] - ETA: 40:23  loss:2.0574 - accuracy:0.3438 - f1:0.2240 - gpu_mem:7.81G - lr1:0.0011094\u001b[0m"
     ]
    },
    {
     "name": "stdout",
     "output_type": "stream",
     "text": [
      "\u001b[34m\u001b[1m\r",
      "[Training ] 1108/1657 [===================>..........] - ETA: 40:19  loss:2.1468 - accuracy:0.3750 - f1:0.1849 - gpu_mem:7.81G - lr1:0.0011104\u001b[0m"
     ]
    },
    {
     "name": "stdout",
     "output_type": "stream",
     "text": [
      "\u001b[34m\u001b[1m\r",
      "[Training ] 1109/1657 [===================>..........] - ETA: 40:14  loss:2.0704 - accuracy:0.4531 - f1:0.2799 - gpu_mem:7.81G - lr1:0.0011114\u001b[0m"
     ]
    },
    {
     "name": "stdout",
     "output_type": "stream",
     "text": [
      "\u001b[34m\u001b[1m\r",
      "[Training ] 1110/1657 [===================>..........] - ETA: 40:10  loss:2.0802 - accuracy:0.3906 - f1:0.2156 - gpu_mem:7.81G - lr1:0.0011125\u001b[0m"
     ]
    },
    {
     "name": "stdout",
     "output_type": "stream",
     "text": [
      "\u001b[34m\u001b[1m\r",
      "[Training ] 1111/1657 [===================>..........] - ETA: 40:06  loss:2.0815 - accuracy:0.2656 - f1:0.0983 - gpu_mem:7.81G - lr1:0.0011135\u001b[0m"
     ]
    },
    {
     "name": "stdout",
     "output_type": "stream",
     "text": [
      "\u001b[34m\u001b[1m\r",
      "[Training ] 1112/1657 [===================>..........] - ETA: 40:01  loss:2.0415 - accuracy:0.3594 - f1:0.1290 - gpu_mem:7.81G - lr1:0.0011145\u001b[0m"
     ]
    },
    {
     "name": "stdout",
     "output_type": "stream",
     "text": [
      "\u001b[34m\u001b[1m\r",
      "[Training ] 1113/1657 [===================>..........] - ETA: 39:57  loss:2.0724 - accuracy:0.3906 - f1:0.1608 - gpu_mem:7.81G - lr1:0.0011155\u001b[0m"
     ]
    },
    {
     "name": "stdout",
     "output_type": "stream",
     "text": [
      "\u001b[34m\u001b[1m\r",
      "[Training ] 1114/1657 [===================>..........] - ETA: 39:52  loss:1.9362 - accuracy:0.4375 - f1:0.1454 - gpu_mem:7.81G - lr1:0.0011165\u001b[0m"
     ]
    },
    {
     "name": "stdout",
     "output_type": "stream",
     "text": [
      "\u001b[34m\u001b[1m\r",
      "[Training ] 1115/1657 [===================>..........] - ETA: 39:48  loss:1.9318 - accuracy:0.5156 - f1:0.1932 - gpu_mem:7.81G - lr1:0.0011175\u001b[0m"
     ]
    },
    {
     "name": "stdout",
     "output_type": "stream",
     "text": [
      "\u001b[34m\u001b[1m\r",
      "[Training ] 1116/1657 [===================>..........] - ETA: 39:44  loss:2.0497 - accuracy:0.3750 - f1:0.1651 - gpu_mem:7.81G - lr1:0.0011185\u001b[0m"
     ]
    },
    {
     "name": "stdout",
     "output_type": "stream",
     "text": [
      "\u001b[34m\u001b[1m\r",
      "[Training ] 1117/1657 [===================>..........] - ETA: 39:39  loss:1.9936 - accuracy:0.3594 - f1:0.1098 - gpu_mem:7.81G - lr1:0.0011195\u001b[0m"
     ]
    },
    {
     "name": "stdout",
     "output_type": "stream",
     "text": [
      "\u001b[34m\u001b[1m\r",
      "[Training ] 1118/1657 [===================>..........] - ETA: 39:35  loss:2.0197 - accuracy:0.3125 - f1:0.1114 - gpu_mem:7.81G - lr1:0.0011205\u001b[0m"
     ]
    },
    {
     "name": "stdout",
     "output_type": "stream",
     "text": [
      "\u001b[34m\u001b[1m\r",
      "[Training ] 1119/1657 [===================>..........] - ETA: 39:30  loss:2.0518 - accuracy:0.3594 - f1:0.1832 - gpu_mem:7.81G - lr1:0.0011215\u001b[0m"
     ]
    },
    {
     "name": "stdout",
     "output_type": "stream",
     "text": [
      "\u001b[34m\u001b[1m\r",
      "[Training ] 1120/1657 [===================>..........] - ETA: 39:26  loss:2.1054 - accuracy:0.3438 - f1:0.1533 - gpu_mem:7.81G - lr1:0.0011225\u001b[0m"
     ]
    },
    {
     "name": "stdout",
     "output_type": "stream",
     "text": [
      "\u001b[34m\u001b[1m\r",
      "[Training ] 1121/1657 [===================>..........] - ETA: 39:21  loss:1.8764 - accuracy:0.4844 - f1:0.1461 - gpu_mem:7.81G - lr1:0.0011235\u001b[0m"
     ]
    },
    {
     "name": "stdout",
     "output_type": "stream",
     "text": [
      "\u001b[34m\u001b[1m\r",
      "[Training ] 1122/1657 [===================>..........] - ETA: 39:17  loss:2.0098 - accuracy:0.4062 - f1:0.1439 - gpu_mem:7.81G - lr1:0.0011245\u001b[0m"
     ]
    },
    {
     "name": "stdout",
     "output_type": "stream",
     "text": [
      "\u001b[34m\u001b[1m\r",
      "[Training ] 1123/1657 [===================>..........] - ETA: 39:13  loss:2.0736 - accuracy:0.3750 - f1:0.2106 - gpu_mem:7.81G - lr1:0.0011255\u001b[0m"
     ]
    },
    {
     "name": "stdout",
     "output_type": "stream",
     "text": [
      "\u001b[34m\u001b[1m\r",
      "[Training ] 1124/1657 [===================>..........] - ETA: 39:08  loss:1.9095 - accuracy:0.4531 - f1:0.1888 - gpu_mem:7.81G - lr1:0.0011265\u001b[0m"
     ]
    },
    {
     "name": "stdout",
     "output_type": "stream",
     "text": [
      "\u001b[34m\u001b[1m\r",
      "[Training ] 1125/1657 [===================>..........] - ETA: 39:04  loss:1.9329 - accuracy:0.4531 - f1:0.2058 - gpu_mem:7.81G - lr1:0.0011275\u001b[0m"
     ]
    },
    {
     "name": "stdout",
     "output_type": "stream",
     "text": [
      "\u001b[34m\u001b[1m\r",
      "[Training ] 1126/1657 [===================>..........] - ETA: 38:59  loss:1.8983 - accuracy:0.4375 - f1:0.1171 - gpu_mem:7.81G - lr1:0.0011285\u001b[0m"
     ]
    },
    {
     "name": "stdout",
     "output_type": "stream",
     "text": [
      "\u001b[34m\u001b[1m\r",
      "[Training ] 1127/1657 [===================>..........] - ETA: 38:55  loss:2.0549 - accuracy:0.3438 - f1:0.1338 - gpu_mem:7.81G - lr1:0.0011296\u001b[0m"
     ]
    },
    {
     "name": "stdout",
     "output_type": "stream",
     "text": [
      "\u001b[34m\u001b[1m\r",
      "[Training ] 1128/1657 [===================>..........] - ETA: 38:51  loss:2.0465 - accuracy:0.3906 - f1:0.1334 - gpu_mem:7.81G - lr1:0.0011306\u001b[0m"
     ]
    },
    {
     "name": "stdout",
     "output_type": "stream",
     "text": [
      "\u001b[34m\u001b[1m\r",
      "[Training ] 1129/1657 [===================>..........] - ETA: 38:46  loss:2.0696 - accuracy:0.3594 - f1:0.1832 - gpu_mem:7.81G - lr1:0.0011316\u001b[0m"
     ]
    },
    {
     "name": "stdout",
     "output_type": "stream",
     "text": [
      "\u001b[34m\u001b[1m\r",
      "[Training ] 1130/1657 [===================>..........] - ETA: 38:42  loss:1.9865 - accuracy:0.3750 - f1:0.1293 - gpu_mem:7.81G - lr1:0.0011326\u001b[0m"
     ]
    },
    {
     "name": "stdout",
     "output_type": "stream",
     "text": [
      "\u001b[34m\u001b[1m\r",
      "[Training ] 1131/1657 [===================>..........] - ETA: 38:37  loss:2.1726 - accuracy:0.2969 - f1:0.1129 - gpu_mem:7.81G - lr1:0.0011336\u001b[0m"
     ]
    },
    {
     "name": "stdout",
     "output_type": "stream",
     "text": [
      "\u001b[34m\u001b[1m\r",
      "[Training ] 1132/1657 [===================>..........] - ETA: 38:33  loss:1.9532 - accuracy:0.4219 - f1:0.1607 - gpu_mem:7.81G - lr1:0.0011346\u001b[0m"
     ]
    },
    {
     "name": "stdout",
     "output_type": "stream",
     "text": [
      "\u001b[34m\u001b[1m\r",
      "[Training ] 1133/1657 [===================>..........] - ETA: 38:29  loss:2.0239 - accuracy:0.3906 - f1:0.1489 - gpu_mem:7.81G - lr1:0.0011356\u001b[0m"
     ]
    },
    {
     "name": "stdout",
     "output_type": "stream",
     "text": [
      "\u001b[34m\u001b[1m\r",
      "[Training ] 1134/1657 [===================>..........] - ETA: 38:24  loss:2.0915 - accuracy:0.3125 - f1:0.1497 - gpu_mem:7.81G - lr1:0.0011366\u001b[0m"
     ]
    },
    {
     "name": "stdout",
     "output_type": "stream",
     "text": [
      "\u001b[34m\u001b[1m\r",
      "[Training ] 1135/1657 [===================>..........] - ETA: 38:20  loss:2.0318 - accuracy:0.3750 - f1:0.1311 - gpu_mem:7.81G - lr1:0.0011376\u001b[0m"
     ]
    },
    {
     "name": "stdout",
     "output_type": "stream",
     "text": [
      "\u001b[34m\u001b[1m\r",
      "[Training ] 1136/1657 [===================>..........] - ETA: 38:15  loss:2.0223 - accuracy:0.3594 - f1:0.1244 - gpu_mem:7.81G - lr1:0.0011386\u001b[0m"
     ]
    },
    {
     "name": "stdout",
     "output_type": "stream",
     "text": [
      "\u001b[34m\u001b[1m\r",
      "[Training ] 1137/1657 [===================>..........] - ETA: 38:11  loss:1.9258 - accuracy:0.4531 - f1:0.2080 - gpu_mem:7.81G - lr1:0.0011396\u001b[0m"
     ]
    },
    {
     "name": "stdout",
     "output_type": "stream",
     "text": [
      "\u001b[34m\u001b[1m\r",
      "[Training ] 1138/1657 [===================>..........] - ETA: 38:07  loss:1.9263 - accuracy:0.3906 - f1:0.1562 - gpu_mem:7.81G - lr1:0.0011406\u001b[0m"
     ]
    },
    {
     "name": "stdout",
     "output_type": "stream",
     "text": [
      "\u001b[34m\u001b[1m\r",
      "[Training ] 1139/1657 [===================>..........] - ETA: 38:02  loss:2.0339 - accuracy:0.3906 - f1:0.1885 - gpu_mem:7.81G - lr1:0.0011416\u001b[0m"
     ]
    },
    {
     "name": "stdout",
     "output_type": "stream",
     "text": [
      "\u001b[34m\u001b[1m\r",
      "[Training ] 1140/1657 [===================>..........] - ETA: 37:58  loss:2.1124 - accuracy:0.3750 - f1:0.1407 - gpu_mem:7.81G - lr1:0.0011426\u001b[0m"
     ]
    },
    {
     "name": "stdout",
     "output_type": "stream",
     "text": [
      "\u001b[34m\u001b[1m\r",
      "[Training ] 1141/1657 [===================>..........] - ETA: 37:53  loss:1.9809 - accuracy:0.3750 - f1:0.1161 - gpu_mem:7.81G - lr1:0.0011436\u001b[0m"
     ]
    },
    {
     "name": "stdout",
     "output_type": "stream",
     "text": [
      "\u001b[34m\u001b[1m\r",
      "[Training ] 1142/1657 [===================>..........] - ETA: 37:49  loss:1.8752 - accuracy:0.5469 - f1:0.2667 - gpu_mem:7.81G - lr1:0.0011446\u001b[0m"
     ]
    },
    {
     "name": "stdout",
     "output_type": "stream",
     "text": [
      "\u001b[34m\u001b[1m\r",
      "[Training ] 1143/1657 [===================>..........] - ETA: 37:45  loss:2.2445 - accuracy:0.2188 - f1:0.0929 - gpu_mem:7.81G - lr1:0.0011456\u001b[0m"
     ]
    },
    {
     "name": "stdout",
     "output_type": "stream",
     "text": [
      "\u001b[34m\u001b[1m\r",
      "[Training ] 1144/1657 [===================>..........] - ETA: 37:40  loss:1.8412 - accuracy:0.5156 - f1:0.1499 - gpu_mem:7.81G - lr1:0.0011467\u001b[0m"
     ]
    },
    {
     "name": "stdout",
     "output_type": "stream",
     "text": [
      "\u001b[34m\u001b[1m\r",
      "[Training ] 1145/1657 [===================>..........] - ETA: 37:36  loss:1.9969 - accuracy:0.3906 - f1:0.2207 - gpu_mem:7.81G - lr1:0.0011477\u001b[0m"
     ]
    },
    {
     "name": "stdout",
     "output_type": "stream",
     "text": [
      "\u001b[34m\u001b[1m\r",
      "[Training ] 1146/1657 [===================>..........] - ETA: 37:31  loss:2.1204 - accuracy:0.3750 - f1:0.1572 - gpu_mem:7.81G - lr1:0.0011487\u001b[0m"
     ]
    },
    {
     "name": "stdout",
     "output_type": "stream",
     "text": [
      "\u001b[34m\u001b[1m\r",
      "[Training ] 1147/1657 [===================>..........] - ETA: 37:27  loss:2.0111 - accuracy:0.4375 - f1:0.1873 - gpu_mem:7.81G - lr1:0.0011497\u001b[0m"
     ]
    },
    {
     "name": "stdout",
     "output_type": "stream",
     "text": [
      "\u001b[34m\u001b[1m\r",
      "[Training ] 1148/1657 [===================>..........] - ETA: 37:22  loss:2.0467 - accuracy:0.3281 - f1:0.1055 - gpu_mem:7.81G - lr1:0.0011507\u001b[0m"
     ]
    },
    {
     "name": "stdout",
     "output_type": "stream",
     "text": [
      "\u001b[34m\u001b[1m\r",
      "[Training ] 1149/1657 [===================>..........] - ETA: 37:18  loss:1.8342 - accuracy:0.5156 - f1:0.2540 - gpu_mem:7.81G - lr1:0.0011517\u001b[0m"
     ]
    },
    {
     "name": "stdout",
     "output_type": "stream",
     "text": [
      "\u001b[34m\u001b[1m\r",
      "[Training ] 1150/1657 [===================>..........] - ETA: 37:14  loss:2.1084 - accuracy:0.3281 - f1:0.1566 - gpu_mem:7.81G - lr1:0.0011527\u001b[0m"
     ]
    },
    {
     "name": "stdout",
     "output_type": "stream",
     "text": [
      "\u001b[34m\u001b[1m\r",
      "[Training ] 1151/1657 [===================>..........] - ETA: 37:09  loss:1.9723 - accuracy:0.4375 - f1:0.2127 - gpu_mem:7.81G - lr1:0.0011537\u001b[0m"
     ]
    },
    {
     "name": "stdout",
     "output_type": "stream",
     "text": [
      "\u001b[34m\u001b[1m\r",
      "[Training ] 1152/1657 [===================>..........] - ETA: 37:05  loss:1.8335 - accuracy:0.5469 - f1:0.2544 - gpu_mem:7.81G - lr1:0.0011547\u001b[0m"
     ]
    },
    {
     "name": "stdout",
     "output_type": "stream",
     "text": [
      "\u001b[34m\u001b[1m\r",
      "[Training ] 1153/1657 [===================>..........] - ETA: 37:00  loss:2.0461 - accuracy:0.3594 - f1:0.1258 - gpu_mem:7.81G - lr1:0.0011557\u001b[0m"
     ]
    },
    {
     "name": "stdout",
     "output_type": "stream",
     "text": [
      "\u001b[34m\u001b[1m\r",
      "[Training ] 1154/1657 [===================>..........] - ETA: 36:56  loss:2.0756 - accuracy:0.3906 - f1:0.2114 - gpu_mem:7.81G - lr1:0.0011567\u001b[0m"
     ]
    },
    {
     "name": "stdout",
     "output_type": "stream",
     "text": [
      "\u001b[34m\u001b[1m\r",
      "[Training ] 1155/1657 [===================>..........] - ETA: 36:52  loss:1.9441 - accuracy:0.4688 - f1:0.1496 - gpu_mem:7.81G - lr1:0.0011577\u001b[0m"
     ]
    },
    {
     "name": "stdout",
     "output_type": "stream",
     "text": [
      "\u001b[34m\u001b[1m\r",
      "[Training ] 1156/1657 [===================>..........] - ETA: 36:47  loss:1.8933 - accuracy:0.4219 - f1:0.1682 - gpu_mem:7.81G - lr1:0.0011587\u001b[0m"
     ]
    },
    {
     "name": "stdout",
     "output_type": "stream",
     "text": [
      "\u001b[34m\u001b[1m\r",
      "[Training ] 1157/1657 [===================>..........] - ETA: 36:43  loss:2.1262 - accuracy:0.3125 - f1:0.1530 - gpu_mem:7.81G - lr1:0.0011597\u001b[0m"
     ]
    },
    {
     "name": "stdout",
     "output_type": "stream",
     "text": [
      "\u001b[34m\u001b[1m\r",
      "[Training ] 1158/1657 [===================>..........] - ETA: 36:38  loss:2.0111 - accuracy:0.4219 - f1:0.1858 - gpu_mem:7.81G - lr1:0.0011607\u001b[0m"
     ]
    },
    {
     "name": "stdout",
     "output_type": "stream",
     "text": [
      "\u001b[34m\u001b[1m\r",
      "[Training ] 1159/1657 [===================>..........] - ETA: 36:34  loss:1.9155 - accuracy:0.4688 - f1:0.1564 - gpu_mem:7.81G - lr1:0.0011617\u001b[0m"
     ]
    },
    {
     "name": "stdout",
     "output_type": "stream",
     "text": [
      "\u001b[34m\u001b[1m\r",
      "[Training ] 1160/1657 [====================>.........] - ETA: 36:30  loss:2.0741 - accuracy:0.3281 - f1:0.1437 - gpu_mem:7.81G - lr1:0.0011627\u001b[0m"
     ]
    },
    {
     "name": "stdout",
     "output_type": "stream",
     "text": [
      "\u001b[34m\u001b[1m\r",
      "[Training ] 1161/1657 [====================>.........] - ETA: 36:25  loss:2.0169 - accuracy:0.4062 - f1:0.1342 - gpu_mem:7.81G - lr1:0.0011637\u001b[0m"
     ]
    },
    {
     "name": "stdout",
     "output_type": "stream",
     "text": [
      "\u001b[34m\u001b[1m\r",
      "[Training ] 1162/1657 [====================>.........] - ETA: 36:21  loss:1.8183 - accuracy:0.5469 - f1:0.2634 - gpu_mem:7.81G - lr1:0.0011648\u001b[0m"
     ]
    },
    {
     "name": "stdout",
     "output_type": "stream",
     "text": [
      "\u001b[34m\u001b[1m\r",
      "[Training ] 1163/1657 [====================>.........] - ETA: 36:16  loss:1.9290 - accuracy:0.4844 - f1:0.1544 - gpu_mem:7.81G - lr1:0.0011658\u001b[0m"
     ]
    },
    {
     "name": "stdout",
     "output_type": "stream",
     "text": [
      "\u001b[34m\u001b[1m\r",
      "[Training ] 1164/1657 [====================>.........] - ETA: 36:12  loss:1.9405 - accuracy:0.4531 - f1:0.1394 - gpu_mem:7.81G - lr1:0.0011668\u001b[0m"
     ]
    },
    {
     "name": "stdout",
     "output_type": "stream",
     "text": [
      "\u001b[34m\u001b[1m\r",
      "[Training ] 1165/1657 [====================>.........] - ETA: 36:08  loss:1.9448 - accuracy:0.4219 - f1:0.1695 - gpu_mem:7.81G - lr1:0.0011678\u001b[0m"
     ]
    },
    {
     "name": "stdout",
     "output_type": "stream",
     "text": [
      "\u001b[34m\u001b[1m\r",
      "[Training ] 1166/1657 [====================>.........] - ETA: 36:03  loss:1.9537 - accuracy:0.4688 - f1:0.1778 - gpu_mem:7.81G - lr1:0.0011688\u001b[0m"
     ]
    },
    {
     "name": "stdout",
     "output_type": "stream",
     "text": [
      "\u001b[34m\u001b[1m\r",
      "[Training ] 1167/1657 [====================>.........] - ETA: 35:59  loss:1.9451 - accuracy:0.4219 - f1:0.1883 - gpu_mem:7.81G - lr1:0.0011698\u001b[0m"
     ]
    },
    {
     "name": "stdout",
     "output_type": "stream",
     "text": [
      "\u001b[34m\u001b[1m\r",
      "[Training ] 1168/1657 [====================>.........] - ETA: 35:54  loss:2.2609 - accuracy:0.2812 - f1:0.1719 - gpu_mem:7.81G - lr1:0.0011708\u001b[0m"
     ]
    },
    {
     "name": "stdout",
     "output_type": "stream",
     "text": [
      "\u001b[34m\u001b[1m\r",
      "[Training ] 1169/1657 [====================>.........] - ETA: 35:50  loss:1.9854 - accuracy:0.4219 - f1:0.1958 - gpu_mem:7.81G - lr1:0.0011718\u001b[0m"
     ]
    },
    {
     "name": "stdout",
     "output_type": "stream",
     "text": [
      "\u001b[34m\u001b[1m\r",
      "[Training ] 1170/1657 [====================>.........] - ETA: 35:46  loss:2.1866 - accuracy:0.2344 - f1:0.1101 - gpu_mem:7.81G - lr1:0.0011728\u001b[0m"
     ]
    },
    {
     "name": "stdout",
     "output_type": "stream",
     "text": [
      "\u001b[34m\u001b[1m\r",
      "[Training ] 1171/1657 [====================>.........] - ETA: 35:41  loss:2.2113 - accuracy:0.1719 - f1:0.0623 - gpu_mem:7.81G - lr1:0.0011738\u001b[0m"
     ]
    },
    {
     "name": "stdout",
     "output_type": "stream",
     "text": [
      "\u001b[34m\u001b[1m\r",
      "[Training ] 1172/1657 [====================>.........] - ETA: 35:37  loss:1.9630 - accuracy:0.3906 - f1:0.1682 - gpu_mem:7.81G - lr1:0.0011748\u001b[0m"
     ]
    },
    {
     "name": "stdout",
     "output_type": "stream",
     "text": [
      "\u001b[34m\u001b[1m\r",
      "[Training ] 1173/1657 [====================>.........] - ETA: 35:32  loss:1.8933 - accuracy:0.4531 - f1:0.2293 - gpu_mem:7.81G - lr1:0.0011758\u001b[0m"
     ]
    },
    {
     "name": "stdout",
     "output_type": "stream",
     "text": [
      "\u001b[34m\u001b[1m\r",
      "[Training ] 1174/1657 [====================>.........] - ETA: 35:28  loss:2.0417 - accuracy:0.3438 - f1:0.1113 - gpu_mem:7.81G - lr1:0.0011768\u001b[0m"
     ]
    },
    {
     "name": "stdout",
     "output_type": "stream",
     "text": [
      "\u001b[34m\u001b[1m\r",
      "[Training ] 1175/1657 [====================>.........] - ETA: 35:23  loss:2.0508 - accuracy:0.3594 - f1:0.1696 - gpu_mem:7.81G - lr1:0.0011778\u001b[0m"
     ]
    },
    {
     "name": "stdout",
     "output_type": "stream",
     "text": [
      "\u001b[34m\u001b[1m\r",
      "[Training ] 1176/1657 [====================>.........] - ETA: 35:19  loss:1.9475 - accuracy:0.4375 - f1:0.1326 - gpu_mem:7.81G - lr1:0.0011788\u001b[0m"
     ]
    },
    {
     "name": "stdout",
     "output_type": "stream",
     "text": [
      "\u001b[34m\u001b[1m\r",
      "[Training ] 1177/1657 [====================>.........] - ETA: 35:15  loss:2.0863 - accuracy:0.3281 - f1:0.1727 - gpu_mem:7.81G - lr1:0.0011798\u001b[0m"
     ]
    },
    {
     "name": "stdout",
     "output_type": "stream",
     "text": [
      "\u001b[34m\u001b[1m\r",
      "[Training ] 1178/1657 [====================>.........] - ETA: 35:10  loss:2.0124 - accuracy:0.3438 - f1:0.1053 - gpu_mem:7.81G - lr1:0.0011808\u001b[0m"
     ]
    },
    {
     "name": "stdout",
     "output_type": "stream",
     "text": [
      "\u001b[34m\u001b[1m\r",
      "[Training ] 1179/1657 [====================>.........] - ETA: 35:06  loss:1.9760 - accuracy:0.4375 - f1:0.1661 - gpu_mem:7.81G - lr1:0.0011819\u001b[0m"
     ]
    },
    {
     "name": "stdout",
     "output_type": "stream",
     "text": [
      "\u001b[34m\u001b[1m\r",
      "[Training ] 1180/1657 [====================>.........] - ETA: 35:01  loss:2.0470 - accuracy:0.3438 - f1:0.1802 - gpu_mem:7.81G - lr1:0.0011829\u001b[0m"
     ]
    },
    {
     "name": "stdout",
     "output_type": "stream",
     "text": [
      "\u001b[34m\u001b[1m\r",
      "[Training ] 1181/1657 [====================>.........] - ETA: 34:57  loss:1.9773 - accuracy:0.4844 - f1:0.2053 - gpu_mem:7.81G - lr1:0.0011839\u001b[0m"
     ]
    },
    {
     "name": "stdout",
     "output_type": "stream",
     "text": [
      "\u001b[34m\u001b[1m\r",
      "[Training ] 1182/1657 [====================>.........] - ETA: 34:53  loss:2.0105 - accuracy:0.4062 - f1:0.1795 - gpu_mem:7.81G - lr1:0.0011849\u001b[0m"
     ]
    },
    {
     "name": "stdout",
     "output_type": "stream",
     "text": [
      "\u001b[34m\u001b[1m\r",
      "[Training ] 1183/1657 [====================>.........] - ETA: 34:48  loss:1.9778 - accuracy:0.3906 - f1:0.1341 - gpu_mem:7.81G - lr1:0.0011859\u001b[0m"
     ]
    },
    {
     "name": "stdout",
     "output_type": "stream",
     "text": [
      "\u001b[34m\u001b[1m\r",
      "[Training ] 1184/1657 [====================>.........] - ETA: 34:44  loss:2.1560 - accuracy:0.2969 - f1:0.1279 - gpu_mem:7.81G - lr1:0.0011869\u001b[0m"
     ]
    },
    {
     "name": "stdout",
     "output_type": "stream",
     "text": [
      "\u001b[34m\u001b[1m\r",
      "[Training ] 1185/1657 [====================>.........] - ETA: 34:39  loss:1.9745 - accuracy:0.4062 - f1:0.1619 - gpu_mem:7.81G - lr1:0.0011879\u001b[0m"
     ]
    },
    {
     "name": "stdout",
     "output_type": "stream",
     "text": [
      "\u001b[34m\u001b[1m\r",
      "[Training ] 1186/1657 [====================>.........] - ETA: 34:35  loss:1.8424 - accuracy:0.4375 - f1:0.1438 - gpu_mem:7.81G - lr1:0.0011889\u001b[0m"
     ]
    },
    {
     "name": "stdout",
     "output_type": "stream",
     "text": [
      "\u001b[34m\u001b[1m\r",
      "[Training ] 1187/1657 [====================>.........] - ETA: 34:31  loss:1.9286 - accuracy:0.4531 - f1:0.1711 - gpu_mem:7.81G - lr1:0.0011899\u001b[0m"
     ]
    },
    {
     "name": "stdout",
     "output_type": "stream",
     "text": [
      "\u001b[34m\u001b[1m\r",
      "[Training ] 1188/1657 [====================>.........] - ETA: 34:26  loss:1.9528 - accuracy:0.3750 - f1:0.1461 - gpu_mem:7.81G - lr1:0.0011909\u001b[0m"
     ]
    },
    {
     "name": "stdout",
     "output_type": "stream",
     "text": [
      "\u001b[34m\u001b[1m\r",
      "[Training ] 1189/1657 [====================>.........] - ETA: 34:22  loss:1.8380 - accuracy:0.5156 - f1:0.1719 - gpu_mem:7.81G - lr1:0.0011919\u001b[0m"
     ]
    },
    {
     "name": "stdout",
     "output_type": "stream",
     "text": [
      "\u001b[34m\u001b[1m\r",
      "[Training ] 1190/1657 [====================>.........] - ETA: 34:17  loss:2.0706 - accuracy:0.3281 - f1:0.1529 - gpu_mem:7.81G - lr1:0.0011929\u001b[0m"
     ]
    },
    {
     "name": "stdout",
     "output_type": "stream",
     "text": [
      "\u001b[34m\u001b[1m\r",
      "[Training ] 1191/1657 [====================>.........] - ETA: 34:13  loss:2.1265 - accuracy:0.3438 - f1:0.1605 - gpu_mem:7.81G - lr1:0.0011939\u001b[0m"
     ]
    },
    {
     "name": "stdout",
     "output_type": "stream",
     "text": [
      "\u001b[34m\u001b[1m\r",
      "[Training ] 1192/1657 [====================>.........] - ETA: 34:09  loss:1.9061 - accuracy:0.5312 - f1:0.1953 - gpu_mem:7.81G - lr1:0.0011949\u001b[0m"
     ]
    },
    {
     "name": "stdout",
     "output_type": "stream",
     "text": [
      "\u001b[34m\u001b[1m\r",
      "[Training ] 1193/1657 [====================>.........] - ETA: 34:04  loss:1.9968 - accuracy:0.3906 - f1:0.1927 - gpu_mem:7.81G - lr1:0.0011959\u001b[0m"
     ]
    },
    {
     "name": "stdout",
     "output_type": "stream",
     "text": [
      "\u001b[34m\u001b[1m\r",
      "[Training ] 1194/1657 [====================>.........] - ETA: 34:00  loss:1.8959 - accuracy:0.4219 - f1:0.1516 - gpu_mem:7.81G - lr1:0.0011969\u001b[0m"
     ]
    },
    {
     "name": "stdout",
     "output_type": "stream",
     "text": [
      "\u001b[34m\u001b[1m\r",
      "[Training ] 1195/1657 [====================>.........] - ETA: 33:55  loss:1.9677 - accuracy:0.4375 - f1:0.1867 - gpu_mem:7.81G - lr1:0.0011979\u001b[0m"
     ]
    },
    {
     "name": "stdout",
     "output_type": "stream",
     "text": [
      "\u001b[34m\u001b[1m\r",
      "[Training ] 1196/1657 [====================>.........] - ETA: 33:51  loss:2.0089 - accuracy:0.3906 - f1:0.1466 - gpu_mem:7.81G - lr1:0.0011990\u001b[0m"
     ]
    },
    {
     "name": "stdout",
     "output_type": "stream",
     "text": [
      "\u001b[34m\u001b[1m\r",
      "[Training ] 1197/1657 [====================>.........] - ETA: 33:47  loss:2.0170 - accuracy:0.3906 - f1:0.1451 - gpu_mem:7.81G - lr1:0.0012000\u001b[0m"
     ]
    },
    {
     "name": "stdout",
     "output_type": "stream",
     "text": [
      "\u001b[34m\u001b[1m\r",
      "[Training ] 1198/1657 [====================>.........] - ETA: 33:42  loss:2.0145 - accuracy:0.3594 - f1:0.1268 - gpu_mem:7.81G - lr1:0.0012010\u001b[0m"
     ]
    },
    {
     "name": "stdout",
     "output_type": "stream",
     "text": [
      "\u001b[34m\u001b[1m\r",
      "[Training ] 1199/1657 [====================>.........] - ETA: 33:38  loss:2.0528 - accuracy:0.3438 - f1:0.1669 - gpu_mem:7.81G - lr1:0.0012020\u001b[0m"
     ]
    },
    {
     "name": "stdout",
     "output_type": "stream",
     "text": [
      "\u001b[34m\u001b[1m\r",
      "[Training ] 1200/1657 [====================>.........] - ETA: 33:33  loss:1.9466 - accuracy:0.3125 - f1:0.0862 - gpu_mem:7.81G - lr1:0.0012030\u001b[0m"
     ]
    },
    {
     "name": "stdout",
     "output_type": "stream",
     "text": [
      "\u001b[34m\u001b[1m\r",
      "[Training ] 1201/1657 [====================>.........] - ETA: 33:29  loss:2.0955 - accuracy:0.3125 - f1:0.1379 - gpu_mem:7.81G - lr1:0.0012040\u001b[0m"
     ]
    },
    {
     "name": "stdout",
     "output_type": "stream",
     "text": [
      "\u001b[34m\u001b[1m\r",
      "[Training ] 1202/1657 [====================>.........] - ETA: 33:24  loss:1.8864 - accuracy:0.4219 - f1:0.1673 - gpu_mem:7.81G - lr1:0.0012050\u001b[0m"
     ]
    },
    {
     "name": "stdout",
     "output_type": "stream",
     "text": [
      "\u001b[34m\u001b[1m\r",
      "[Training ] 1203/1657 [====================>.........] - ETA: 33:20  loss:2.0171 - accuracy:0.2969 - f1:0.1450 - gpu_mem:7.81G - lr1:0.0012060\u001b[0m"
     ]
    },
    {
     "name": "stdout",
     "output_type": "stream",
     "text": [
      "\u001b[34m\u001b[1m\r",
      "[Training ] 1204/1657 [====================>.........] - ETA: 33:16  loss:2.0615 - accuracy:0.3438 - f1:0.1216 - gpu_mem:7.81G - lr1:0.0012070\u001b[0m"
     ]
    },
    {
     "name": "stdout",
     "output_type": "stream",
     "text": [
      "\u001b[34m\u001b[1m\r",
      "[Training ] 1205/1657 [====================>.........] - ETA: 33:11  loss:2.0895 - accuracy:0.3438 - f1:0.1680 - gpu_mem:7.81G - lr1:0.0012080\u001b[0m"
     ]
    },
    {
     "name": "stdout",
     "output_type": "stream",
     "text": [
      "\u001b[34m\u001b[1m\r",
      "[Training ] 1206/1657 [====================>.........] - ETA: 33:07  loss:2.0413 - accuracy:0.3125 - f1:0.1661 - gpu_mem:7.81G - lr1:0.0012090\u001b[0m"
     ]
    },
    {
     "name": "stdout",
     "output_type": "stream",
     "text": [
      "\u001b[34m\u001b[1m\r",
      "[Training ] 1207/1657 [====================>.........] - ETA: 33:02  loss:2.0015 - accuracy:0.4844 - f1:0.1794 - gpu_mem:7.81G - lr1:0.0012100\u001b[0m"
     ]
    },
    {
     "name": "stdout",
     "output_type": "stream",
     "text": [
      "\u001b[34m\u001b[1m\r",
      "[Training ] 1208/1657 [====================>.........] - ETA: 32:58  loss:2.0416 - accuracy:0.3906 - f1:0.2044 - gpu_mem:7.81G - lr1:0.0012110\u001b[0m"
     ]
    },
    {
     "name": "stdout",
     "output_type": "stream",
     "text": [
      "\u001b[34m\u001b[1m\r",
      "[Training ] 1209/1657 [====================>.........] - ETA: 32:54  loss:1.9810 - accuracy:0.4062 - f1:0.1379 - gpu_mem:7.81G - lr1:0.0012120\u001b[0m"
     ]
    },
    {
     "name": "stdout",
     "output_type": "stream",
     "text": [
      "\u001b[34m\u001b[1m\r",
      "[Training ] 1210/1657 [====================>.........] - ETA: 32:49  loss:1.9681 - accuracy:0.4062 - f1:0.1930 - gpu_mem:7.81G - lr1:0.0012130\u001b[0m"
     ]
    },
    {
     "name": "stdout",
     "output_type": "stream",
     "text": [
      "\u001b[34m\u001b[1m\r",
      "[Training ] 1211/1657 [====================>.........] - ETA: 32:45  loss:1.9641 - accuracy:0.3906 - f1:0.1487 - gpu_mem:7.81G - lr1:0.0012140\u001b[0m"
     ]
    },
    {
     "name": "stdout",
     "output_type": "stream",
     "text": [
      "\u001b[34m\u001b[1m\r",
      "[Training ] 1212/1657 [====================>.........] - ETA: 32:40  loss:1.9330 - accuracy:0.4531 - f1:0.1841 - gpu_mem:7.81G - lr1:0.0012150\u001b[0m"
     ]
    },
    {
     "name": "stdout",
     "output_type": "stream",
     "text": [
      "\u001b[34m\u001b[1m\r",
      "[Training ] 1213/1657 [====================>.........] - ETA: 32:36  loss:1.9585 - accuracy:0.4062 - f1:0.1413 - gpu_mem:7.81G - lr1:0.0012161\u001b[0m"
     ]
    },
    {
     "name": "stdout",
     "output_type": "stream",
     "text": [
      "\u001b[34m\u001b[1m\r",
      "[Training ] 1214/1657 [====================>.........] - ETA: 32:32  loss:2.0049 - accuracy:0.4062 - f1:0.1563 - gpu_mem:7.81G - lr1:0.0012171\u001b[0m"
     ]
    },
    {
     "name": "stdout",
     "output_type": "stream",
     "text": [
      "\u001b[34m\u001b[1m\r",
      "[Training ] 1215/1657 [====================>.........] - ETA: 32:27  loss:1.9246 - accuracy:0.4375 - f1:0.1497 - gpu_mem:7.81G - lr1:0.0012181\u001b[0m"
     ]
    },
    {
     "name": "stdout",
     "output_type": "stream",
     "text": [
      "\u001b[34m\u001b[1m\r",
      "[Training ] 1216/1657 [=====================>........] - ETA: 32:23  loss:2.1180 - accuracy:0.2656 - f1:0.1022 - gpu_mem:7.81G - lr1:0.0012191\u001b[0m"
     ]
    },
    {
     "name": "stdout",
     "output_type": "stream",
     "text": [
      "\u001b[34m\u001b[1m\r",
      "[Training ] 1217/1657 [=====================>........] - ETA: 32:18  loss:2.0258 - accuracy:0.3594 - f1:0.1200 - gpu_mem:7.81G - lr1:0.0012201\u001b[0m"
     ]
    },
    {
     "name": "stdout",
     "output_type": "stream",
     "text": [
      "\u001b[34m\u001b[1m\r",
      "[Training ] 1218/1657 [=====================>........] - ETA: 32:14  loss:1.9792 - accuracy:0.3281 - f1:0.1290 - gpu_mem:7.81G - lr1:0.0012211\u001b[0m"
     ]
    },
    {
     "name": "stdout",
     "output_type": "stream",
     "text": [
      "\u001b[34m\u001b[1m\r",
      "[Training ] 1219/1657 [=====================>........] - ETA: 32:10  loss:1.9149 - accuracy:0.5156 - f1:0.2778 - gpu_mem:7.81G - lr1:0.0012221\u001b[0m"
     ]
    },
    {
     "name": "stdout",
     "output_type": "stream",
     "text": [
      "\u001b[34m\u001b[1m\r",
      "[Training ] 1220/1657 [=====================>........] - ETA: 32:05  loss:2.0051 - accuracy:0.3750 - f1:0.1394 - gpu_mem:7.81G - lr1:0.0012231\u001b[0m"
     ]
    },
    {
     "name": "stdout",
     "output_type": "stream",
     "text": [
      "\u001b[34m\u001b[1m\r",
      "[Training ] 1221/1657 [=====================>........] - ETA: 32:01  loss:1.7924 - accuracy:0.4688 - f1:0.1934 - gpu_mem:7.81G - lr1:0.0012241\u001b[0m"
     ]
    },
    {
     "name": "stdout",
     "output_type": "stream",
     "text": [
      "\u001b[34m\u001b[1m\r",
      "[Training ] 1222/1657 [=====================>........] - ETA: 31:56  loss:1.9050 - accuracy:0.4062 - f1:0.1247 - gpu_mem:7.81G - lr1:0.0012251\u001b[0m"
     ]
    },
    {
     "name": "stdout",
     "output_type": "stream",
     "text": [
      "\u001b[34m\u001b[1m\r",
      "[Training ] 1223/1657 [=====================>........] - ETA: 31:52  loss:1.8923 - accuracy:0.5000 - f1:0.1602 - gpu_mem:7.81G - lr1:0.0012261\u001b[0m"
     ]
    },
    {
     "name": "stdout",
     "output_type": "stream",
     "text": [
      "\u001b[34m\u001b[1m\r",
      "[Training ] 1224/1657 [=====================>........] - ETA: 31:48  loss:1.8657 - accuracy:0.5000 - f1:0.1680 - gpu_mem:7.81G - lr1:0.0012271\u001b[0m"
     ]
    },
    {
     "name": "stdout",
     "output_type": "stream",
     "text": [
      "\u001b[34m\u001b[1m\r",
      "[Training ] 1225/1657 [=====================>........] - ETA: 31:43  loss:1.9530 - accuracy:0.4375 - f1:0.1743 - gpu_mem:7.81G - lr1:0.0012281\u001b[0m"
     ]
    },
    {
     "name": "stdout",
     "output_type": "stream",
     "text": [
      "\u001b[34m\u001b[1m\r",
      "[Training ] 1226/1657 [=====================>........] - ETA: 31:39  loss:2.0393 - accuracy:0.3594 - f1:0.1724 - gpu_mem:7.81G - lr1:0.0012291\u001b[0m"
     ]
    },
    {
     "name": "stdout",
     "output_type": "stream",
     "text": [
      "\u001b[34m\u001b[1m\r",
      "[Training ] 1227/1657 [=====================>........] - ETA: 31:34  loss:1.9649 - accuracy:0.4062 - f1:0.1271 - gpu_mem:7.81G - lr1:0.0012301\u001b[0m"
     ]
    },
    {
     "name": "stdout",
     "output_type": "stream",
     "text": [
      "\u001b[34m\u001b[1m\r",
      "[Training ] 1228/1657 [=====================>........] - ETA: 31:30  loss:1.7867 - accuracy:0.5000 - f1:0.1868 - gpu_mem:7.81G - lr1:0.0012311\u001b[0m"
     ]
    },
    {
     "name": "stdout",
     "output_type": "stream",
     "text": [
      "\u001b[34m\u001b[1m\r",
      "[Training ] 1229/1657 [=====================>........] - ETA: 31:25  loss:1.9724 - accuracy:0.4531 - f1:0.1688 - gpu_mem:7.81G - lr1:0.0012321\u001b[0m"
     ]
    },
    {
     "name": "stdout",
     "output_type": "stream",
     "text": [
      "\u001b[34m\u001b[1m\r",
      "[Training ] 1230/1657 [=====================>........] - ETA: 31:21  loss:1.9147 - accuracy:0.4688 - f1:0.2217 - gpu_mem:7.81G - lr1:0.0012332\u001b[0m"
     ]
    },
    {
     "name": "stdout",
     "output_type": "stream",
     "text": [
      "\u001b[34m\u001b[1m\r",
      "[Training ] 1231/1657 [=====================>........] - ETA: 31:17  loss:1.8800 - accuracy:0.4531 - f1:0.1567 - gpu_mem:7.81G - lr1:0.0012342\u001b[0m"
     ]
    },
    {
     "name": "stdout",
     "output_type": "stream",
     "text": [
      "\u001b[34m\u001b[1m\r",
      "[Training ] 1232/1657 [=====================>........] - ETA: 31:12  loss:2.0813 - accuracy:0.3125 - f1:0.1426 - gpu_mem:7.81G - lr1:0.0012352\u001b[0m"
     ]
    },
    {
     "name": "stdout",
     "output_type": "stream",
     "text": [
      "\u001b[34m\u001b[1m\r",
      "[Training ] 1233/1657 [=====================>........] - ETA: 31:08  loss:2.0719 - accuracy:0.3281 - f1:0.1448 - gpu_mem:7.81G - lr1:0.0012362\u001b[0m"
     ]
    },
    {
     "name": "stdout",
     "output_type": "stream",
     "text": [
      "\u001b[34m\u001b[1m\r",
      "[Training ] 1234/1657 [=====================>........] - ETA: 31:03  loss:1.9594 - accuracy:0.3906 - f1:0.1512 - gpu_mem:7.81G - lr1:0.0012372\u001b[0m"
     ]
    },
    {
     "name": "stdout",
     "output_type": "stream",
     "text": [
      "\u001b[34m\u001b[1m\r",
      "[Training ] 1235/1657 [=====================>........] - ETA: 30:59  loss:2.0617 - accuracy:0.4844 - f1:0.2142 - gpu_mem:7.81G - lr1:0.0012382\u001b[0m"
     ]
    },
    {
     "name": "stdout",
     "output_type": "stream",
     "text": [
      "\u001b[34m\u001b[1m\r",
      "[Training ] 1236/1657 [=====================>........] - ETA: 30:55  loss:1.9496 - accuracy:0.4375 - f1:0.2201 - gpu_mem:7.81G - lr1:0.0012392\u001b[0m"
     ]
    },
    {
     "name": "stdout",
     "output_type": "stream",
     "text": [
      "\u001b[34m\u001b[1m\r",
      "[Training ] 1237/1657 [=====================>........] - ETA: 30:50  loss:1.8766 - accuracy:0.5000 - f1:0.1967 - gpu_mem:7.81G - lr1:0.0012402\u001b[0m"
     ]
    },
    {
     "name": "stdout",
     "output_type": "stream",
     "text": [
      "\u001b[34m\u001b[1m\r",
      "[Training ] 1238/1657 [=====================>........] - ETA: 30:46  loss:1.9120 - accuracy:0.4531 - f1:0.1947 - gpu_mem:7.81G - lr1:0.0012412\u001b[0m"
     ]
    },
    {
     "name": "stdout",
     "output_type": "stream",
     "text": [
      "\u001b[34m\u001b[1m\r",
      "[Training ] 1239/1657 [=====================>........] - ETA: 30:41  loss:1.9202 - accuracy:0.4531 - f1:0.2000 - gpu_mem:7.81G - lr1:0.0012422\u001b[0m"
     ]
    },
    {
     "name": "stdout",
     "output_type": "stream",
     "text": [
      "\u001b[34m\u001b[1m\r",
      "[Training ] 1240/1657 [=====================>........] - ETA: 30:37  loss:1.9943 - accuracy:0.3906 - f1:0.1331 - gpu_mem:7.81G - lr1:0.0012432\u001b[0m"
     ]
    },
    {
     "name": "stdout",
     "output_type": "stream",
     "text": [
      "\u001b[34m\u001b[1m\r",
      "[Training ] 1241/1657 [=====================>........] - ETA: 30:33  loss:1.9686 - accuracy:0.4219 - f1:0.1572 - gpu_mem:7.81G - lr1:0.0012442\u001b[0m"
     ]
    },
    {
     "name": "stdout",
     "output_type": "stream",
     "text": [
      "\u001b[34m\u001b[1m\r",
      "[Training ] 1242/1657 [=====================>........] - ETA: 30:28  loss:2.0274 - accuracy:0.4375 - f1:0.2033 - gpu_mem:7.81G - lr1:0.0012452\u001b[0m"
     ]
    },
    {
     "name": "stdout",
     "output_type": "stream",
     "text": [
      "\u001b[34m\u001b[1m\r",
      "[Training ] 1243/1657 [=====================>........] - ETA: 30:24  loss:1.9473 - accuracy:0.4062 - f1:0.1495 - gpu_mem:7.81G - lr1:0.0012462\u001b[0m"
     ]
    },
    {
     "name": "stdout",
     "output_type": "stream",
     "text": [
      "\u001b[34m\u001b[1m\r",
      "[Training ] 1244/1657 [=====================>........] - ETA: 30:19  loss:2.0797 - accuracy:0.3594 - f1:0.2162 - gpu_mem:7.81G - lr1:0.0012472\u001b[0m"
     ]
    },
    {
     "name": "stdout",
     "output_type": "stream",
     "text": [
      "\u001b[34m\u001b[1m\r",
      "[Training ] 1245/1657 [=====================>........] - ETA: 30:15  loss:2.0870 - accuracy:0.3594 - f1:0.2145 - gpu_mem:7.81G - lr1:0.0012482\u001b[0m"
     ]
    },
    {
     "name": "stdout",
     "output_type": "stream",
     "text": [
      "\u001b[34m\u001b[1m\r",
      "[Training ] 1246/1657 [=====================>........] - ETA: 30:11  loss:1.9759 - accuracy:0.4375 - f1:0.1802 - gpu_mem:7.81G - lr1:0.0012492\u001b[0m"
     ]
    },
    {
     "name": "stdout",
     "output_type": "stream",
     "text": [
      "\u001b[34m\u001b[1m\r",
      "[Training ] 1247/1657 [=====================>........] - ETA: 30:06  loss:1.9837 - accuracy:0.3906 - f1:0.1675 - gpu_mem:7.81G - lr1:0.0012503\u001b[0m"
     ]
    },
    {
     "name": "stdout",
     "output_type": "stream",
     "text": [
      "\u001b[34m\u001b[1m\r",
      "[Training ] 1248/1657 [=====================>........] - ETA: 30:02  loss:1.9997 - accuracy:0.3750 - f1:0.1339 - gpu_mem:7.81G - lr1:0.0012513\u001b[0m"
     ]
    },
    {
     "name": "stdout",
     "output_type": "stream",
     "text": [
      "\u001b[34m\u001b[1m\r",
      "[Training ] 1249/1657 [=====================>........] - ETA: 29:57  loss:1.7476 - accuracy:0.6094 - f1:0.2712 - gpu_mem:7.81G - lr1:0.0012523\u001b[0m"
     ]
    },
    {
     "name": "stdout",
     "output_type": "stream",
     "text": [
      "\u001b[34m\u001b[1m\r",
      "[Training ] 1250/1657 [=====================>........] - ETA: 29:53  loss:1.9954 - accuracy:0.4531 - f1:0.2302 - gpu_mem:7.81G - lr1:0.0012533\u001b[0m"
     ]
    },
    {
     "name": "stdout",
     "output_type": "stream",
     "text": [
      "\u001b[34m\u001b[1m\r",
      "[Training ] 1251/1657 [=====================>........] - ETA: 29:49  loss:1.9467 - accuracy:0.4531 - f1:0.1985 - gpu_mem:7.81G - lr1:0.0012543\u001b[0m"
     ]
    },
    {
     "name": "stdout",
     "output_type": "stream",
     "text": [
      "\u001b[34m\u001b[1m\r",
      "[Training ] 1252/1657 [=====================>........] - ETA: 29:44  loss:2.0666 - accuracy:0.3750 - f1:0.1810 - gpu_mem:7.81G - lr1:0.0012553\u001b[0m"
     ]
    },
    {
     "name": "stdout",
     "output_type": "stream",
     "text": [
      "\u001b[34m\u001b[1m\r",
      "[Training ] 1253/1657 [=====================>........] - ETA: 29:40  loss:1.9324 - accuracy:0.4844 - f1:0.1903 - gpu_mem:7.81G - lr1:0.0012563\u001b[0m"
     ]
    },
    {
     "name": "stdout",
     "output_type": "stream",
     "text": [
      "\u001b[34m\u001b[1m\r",
      "[Training ] 1254/1657 [=====================>........] - ETA: 29:35  loss:2.0004 - accuracy:0.3906 - f1:0.1752 - gpu_mem:7.81G - lr1:0.0012573\u001b[0m"
     ]
    },
    {
     "name": "stdout",
     "output_type": "stream",
     "text": [
      "\u001b[34m\u001b[1m\r",
      "[Training ] 1255/1657 [=====================>........] - ETA: 29:31  loss:1.9787 - accuracy:0.3906 - f1:0.1590 - gpu_mem:7.81G - lr1:0.0012583\u001b[0m"
     ]
    },
    {
     "name": "stdout",
     "output_type": "stream",
     "text": [
      "\u001b[34m\u001b[1m\r",
      "[Training ] 1256/1657 [=====================>........] - ETA: 29:26  loss:1.9614 - accuracy:0.4062 - f1:0.1664 - gpu_mem:7.81G - lr1:0.0012593\u001b[0m"
     ]
    },
    {
     "name": "stdout",
     "output_type": "stream",
     "text": [
      "\u001b[34m\u001b[1m\r",
      "[Training ] 1257/1657 [=====================>........] - ETA: 29:22  loss:1.7470 - accuracy:0.5625 - f1:0.1917 - gpu_mem:7.81G - lr1:0.0012603\u001b[0m"
     ]
    },
    {
     "name": "stdout",
     "output_type": "stream",
     "text": [
      "\u001b[34m\u001b[1m\r",
      "[Training ] 1258/1657 [=====================>........] - ETA: 29:18  loss:2.0405 - accuracy:0.4531 - f1:0.2257 - gpu_mem:7.81G - lr1:0.0012613\u001b[0m"
     ]
    },
    {
     "name": "stdout",
     "output_type": "stream",
     "text": [
      "\u001b[34m\u001b[1m\r",
      "[Training ] 1259/1657 [=====================>........] - ETA: 29:13  loss:2.0143 - accuracy:0.4375 - f1:0.1503 - gpu_mem:7.81G - lr1:0.0012623\u001b[0m"
     ]
    },
    {
     "name": "stdout",
     "output_type": "stream",
     "text": [
      "\u001b[34m\u001b[1m\r",
      "[Training ] 1260/1657 [=====================>........] - ETA: 29:09  loss:1.9788 - accuracy:0.4219 - f1:0.2066 - gpu_mem:7.81G - lr1:0.0012633\u001b[0m"
     ]
    },
    {
     "name": "stdout",
     "output_type": "stream",
     "text": [
      "\u001b[34m\u001b[1m\r",
      "[Training ] 1261/1657 [=====================>........] - ETA: 29:04  loss:1.8803 - accuracy:0.5312 - f1:0.2134 - gpu_mem:7.81G - lr1:0.0012643\u001b[0m"
     ]
    },
    {
     "name": "stdout",
     "output_type": "stream",
     "text": [
      "\u001b[34m\u001b[1m\r",
      "[Training ] 1262/1657 [=====================>........] - ETA: 29:00  loss:1.9046 - accuracy:0.4531 - f1:0.1860 - gpu_mem:7.81G - lr1:0.0012653\u001b[0m"
     ]
    },
    {
     "name": "stdout",
     "output_type": "stream",
     "text": [
      "\u001b[34m\u001b[1m\r",
      "[Training ] 1263/1657 [=====================>........] - ETA: 28:56  loss:2.0201 - accuracy:0.4219 - f1:0.1686 - gpu_mem:7.81G - lr1:0.0012663\u001b[0m"
     ]
    },
    {
     "name": "stdout",
     "output_type": "stream",
     "text": [
      "\u001b[34m\u001b[1m\r",
      "[Training ] 1264/1657 [=====================>........] - ETA: 28:51  loss:2.0478 - accuracy:0.3281 - f1:0.1115 - gpu_mem:7.81G - lr1:0.0012674\u001b[0m"
     ]
    },
    {
     "name": "stdout",
     "output_type": "stream",
     "text": [
      "\u001b[34m\u001b[1m\r",
      "[Training ] 1265/1657 [=====================>........] - ETA: 28:47  loss:1.8927 - accuracy:0.5000 - f1:0.2708 - gpu_mem:7.81G - lr1:0.0012684\u001b[0m"
     ]
    },
    {
     "name": "stdout",
     "output_type": "stream",
     "text": [
      "\u001b[34m\u001b[1m\r",
      "[Training ] 1266/1657 [=====================>........] - ETA: 28:42  loss:2.0470 - accuracy:0.4219 - f1:0.1575 - gpu_mem:7.81G - lr1:0.0012694\u001b[0m"
     ]
    },
    {
     "name": "stdout",
     "output_type": "stream",
     "text": [
      "\u001b[34m\u001b[1m\r",
      "[Training ] 1267/1657 [=====================>........] - ETA: 28:38  loss:1.9327 - accuracy:0.4531 - f1:0.1769 - gpu_mem:7.81G - lr1:0.0012704\u001b[0m"
     ]
    },
    {
     "name": "stdout",
     "output_type": "stream",
     "text": [
      "\u001b[34m\u001b[1m\r",
      "[Training ] 1268/1657 [=====================>........] - ETA: 28:34  loss:1.7489 - accuracy:0.5781 - f1:0.2507 - gpu_mem:7.81G - lr1:0.0012714\u001b[0m"
     ]
    },
    {
     "name": "stdout",
     "output_type": "stream",
     "text": [
      "\u001b[34m\u001b[1m\r",
      "[Training ] 1269/1657 [=====================>........] - ETA: 28:29  loss:1.8756 - accuracy:0.5469 - f1:0.2643 - gpu_mem:7.81G - lr1:0.0012724\u001b[0m"
     ]
    },
    {
     "name": "stdout",
     "output_type": "stream",
     "text": [
      "\u001b[34m\u001b[1m\r",
      "[Training ] 1270/1657 [=====================>........] - ETA: 28:25  loss:1.9444 - accuracy:0.4062 - f1:0.1510 - gpu_mem:7.81G - lr1:0.0012734\u001b[0m"
     ]
    },
    {
     "name": "stdout",
     "output_type": "stream",
     "text": [
      "\u001b[34m\u001b[1m\r",
      "[Training ] 1271/1657 [======================>.......] - ETA: 28:20  loss:2.0200 - accuracy:0.3906 - f1:0.1470 - gpu_mem:7.81G - lr1:0.0012744\u001b[0m"
     ]
    },
    {
     "name": "stdout",
     "output_type": "stream",
     "text": [
      "\u001b[34m\u001b[1m\r",
      "[Training ] 1272/1657 [======================>.......] - ETA: 28:16  loss:1.9426 - accuracy:0.4844 - f1:0.2025 - gpu_mem:7.81G - lr1:0.0012754\u001b[0m"
     ]
    },
    {
     "name": "stdout",
     "output_type": "stream",
     "text": [
      "\u001b[34m\u001b[1m\r",
      "[Training ] 1273/1657 [======================>.......] - ETA: 28:12  loss:1.9805 - accuracy:0.4375 - f1:0.1624 - gpu_mem:7.81G - lr1:0.0012764\u001b[0m"
     ]
    },
    {
     "name": "stdout",
     "output_type": "stream",
     "text": [
      "\u001b[34m\u001b[1m\r",
      "[Training ] 1274/1657 [======================>.......] - ETA: 28:07  loss:2.0489 - accuracy:0.4062 - f1:0.2683 - gpu_mem:7.81G - lr1:0.0012774\u001b[0m"
     ]
    },
    {
     "name": "stdout",
     "output_type": "stream",
     "text": [
      "\u001b[34m\u001b[1m\r",
      "[Training ] 1275/1657 [======================>.......] - ETA: 28:03  loss:1.9101 - accuracy:0.4531 - f1:0.1779 - gpu_mem:7.81G - lr1:0.0012784\u001b[0m"
     ]
    },
    {
     "name": "stdout",
     "output_type": "stream",
     "text": [
      "\u001b[34m\u001b[1m\r",
      "[Training ] 1276/1657 [======================>.......] - ETA: 27:58  loss:1.9696 - accuracy:0.3750 - f1:0.1376 - gpu_mem:7.81G - lr1:0.0012794\u001b[0m"
     ]
    },
    {
     "name": "stdout",
     "output_type": "stream",
     "text": [
      "\u001b[34m\u001b[1m\r",
      "[Training ] 1277/1657 [======================>.......] - ETA: 27:54  loss:2.0024 - accuracy:0.3594 - f1:0.1373 - gpu_mem:7.81G - lr1:0.0012804\u001b[0m"
     ]
    },
    {
     "name": "stdout",
     "output_type": "stream",
     "text": [
      "\u001b[34m\u001b[1m\r",
      "[Training ] 1278/1657 [======================>.......] - ETA: 27:50  loss:1.7696 - accuracy:0.5000 - f1:0.1680 - gpu_mem:7.81G - lr1:0.0012814\u001b[0m"
     ]
    },
    {
     "name": "stdout",
     "output_type": "stream",
     "text": [
      "\u001b[34m\u001b[1m\r",
      "[Training ] 1279/1657 [======================>.......] - ETA: 27:45  loss:1.9765 - accuracy:0.4375 - f1:0.1452 - gpu_mem:7.81G - lr1:0.0012824\u001b[0m"
     ]
    },
    {
     "name": "stdout",
     "output_type": "stream",
     "text": [
      "\u001b[34m\u001b[1m\r",
      "[Training ] 1280/1657 [======================>.......] - ETA: 27:41  loss:1.9651 - accuracy:0.4531 - f1:0.2176 - gpu_mem:7.81G - lr1:0.0012834\u001b[0m"
     ]
    },
    {
     "name": "stdout",
     "output_type": "stream",
     "text": [
      "\u001b[34m\u001b[1m\r",
      "[Training ] 1281/1657 [======================>.......] - ETA: 27:36  loss:1.8535 - accuracy:0.5000 - f1:0.2014 - gpu_mem:7.81G - lr1:0.0012844\u001b[0m"
     ]
    },
    {
     "name": "stdout",
     "output_type": "stream",
     "text": [
      "\u001b[34m\u001b[1m\r",
      "[Training ] 1282/1657 [======================>.......] - ETA: 27:32  loss:1.9143 - accuracy:0.4375 - f1:0.1482 - gpu_mem:7.81G - lr1:0.0012855\u001b[0m"
     ]
    },
    {
     "name": "stdout",
     "output_type": "stream",
     "text": [
      "\u001b[34m\u001b[1m\r",
      "[Training ] 1283/1657 [======================>.......] - ETA: 27:28  loss:1.9204 - accuracy:0.5000 - f1:0.2367 - gpu_mem:7.81G - lr1:0.0012865\u001b[0m"
     ]
    },
    {
     "name": "stdout",
     "output_type": "stream",
     "text": [
      "\u001b[34m\u001b[1m\r",
      "[Training ] 1284/1657 [======================>.......] - ETA: 27:23  loss:1.8105 - accuracy:0.5625 - f1:0.2663 - gpu_mem:7.81G - lr1:0.0012875\u001b[0m"
     ]
    },
    {
     "name": "stdout",
     "output_type": "stream",
     "text": [
      "\u001b[34m\u001b[1m\r",
      "[Training ] 1285/1657 [======================>.......] - ETA: 27:19  loss:1.9502 - accuracy:0.4844 - f1:0.2127 - gpu_mem:7.81G - lr1:0.0012885\u001b[0m"
     ]
    },
    {
     "name": "stdout",
     "output_type": "stream",
     "text": [
      "\u001b[34m\u001b[1m\r",
      "[Training ] 1286/1657 [======================>.......] - ETA: 27:14  loss:1.8971 - accuracy:0.4531 - f1:0.1802 - gpu_mem:7.81G - lr1:0.0012895\u001b[0m"
     ]
    },
    {
     "name": "stdout",
     "output_type": "stream",
     "text": [
      "\u001b[34m\u001b[1m\r",
      "[Training ] 1287/1657 [======================>.......] - ETA: 27:10  loss:1.9228 - accuracy:0.5469 - f1:0.2275 - gpu_mem:7.81G - lr1:0.0012905\u001b[0m"
     ]
    },
    {
     "name": "stdout",
     "output_type": "stream",
     "text": [
      "\u001b[34m\u001b[1m\r",
      "[Training ] 1288/1657 [======================>.......] - ETA: 27:05  loss:1.8907 - accuracy:0.5312 - f1:0.2774 - gpu_mem:7.81G - lr1:0.0012915\u001b[0m"
     ]
    },
    {
     "name": "stdout",
     "output_type": "stream",
     "text": [
      "\u001b[34m\u001b[1m\r",
      "[Training ] 1289/1657 [======================>.......] - ETA: 27:01  loss:1.9224 - accuracy:0.4219 - f1:0.1597 - gpu_mem:7.81G - lr1:0.0012925\u001b[0m"
     ]
    },
    {
     "name": "stdout",
     "output_type": "stream",
     "text": [
      "\u001b[34m\u001b[1m\r",
      "[Training ] 1290/1657 [======================>.......] - ETA: 26:57  loss:1.9968 - accuracy:0.4062 - f1:0.1556 - gpu_mem:7.81G - lr1:0.0012935\u001b[0m"
     ]
    },
    {
     "name": "stdout",
     "output_type": "stream",
     "text": [
      "\u001b[34m\u001b[1m\r",
      "[Training ] 1291/1657 [======================>.......] - ETA: 26:52  loss:1.7744 - accuracy:0.5625 - f1:0.2786 - gpu_mem:7.81G - lr1:0.0012945\u001b[0m"
     ]
    },
    {
     "name": "stdout",
     "output_type": "stream",
     "text": [
      "\u001b[34m\u001b[1m\r",
      "[Training ] 1292/1657 [======================>.......] - ETA: 26:48  loss:1.9874 - accuracy:0.4375 - f1:0.1776 - gpu_mem:7.81G - lr1:0.0012955\u001b[0m"
     ]
    },
    {
     "name": "stdout",
     "output_type": "stream",
     "text": [
      "\u001b[34m\u001b[1m\r",
      "[Training ] 1293/1657 [======================>.......] - ETA: 26:43  loss:1.8987 - accuracy:0.4844 - f1:0.1582 - gpu_mem:7.81G - lr1:0.0012965\u001b[0m"
     ]
    },
    {
     "name": "stdout",
     "output_type": "stream",
     "text": [
      "\u001b[34m\u001b[1m\r",
      "[Training ] 1294/1657 [======================>.......] - ETA: 26:39  loss:1.8994 - accuracy:0.4219 - f1:0.1305 - gpu_mem:7.81G - lr1:0.0012975\u001b[0m"
     ]
    },
    {
     "name": "stdout",
     "output_type": "stream",
     "text": [
      "\u001b[34m\u001b[1m\r",
      "[Training ] 1295/1657 [======================>.......] - ETA: 26:35  loss:1.7961 - accuracy:0.5312 - f1:0.2005 - gpu_mem:7.81G - lr1:0.0012985\u001b[0m"
     ]
    },
    {
     "name": "stdout",
     "output_type": "stream",
     "text": [
      "\u001b[34m\u001b[1m\r",
      "[Training ] 1296/1657 [======================>.......] - ETA: 26:30  loss:1.9694 - accuracy:0.4219 - f1:0.1656 - gpu_mem:7.81G - lr1:0.0012995\u001b[0m"
     ]
    },
    {
     "name": "stdout",
     "output_type": "stream",
     "text": [
      "\u001b[34m\u001b[1m\r",
      "[Training ] 1297/1657 [======================>.......] - ETA: 26:26  loss:1.8434 - accuracy:0.4688 - f1:0.2808 - gpu_mem:7.81G - lr1:0.0013005\u001b[0m"
     ]
    },
    {
     "name": "stdout",
     "output_type": "stream",
     "text": [
      "\u001b[34m\u001b[1m\r",
      "[Training ] 1298/1657 [======================>.......] - ETA: 26:21  loss:2.0267 - accuracy:0.3750 - f1:0.1491 - gpu_mem:7.81G - lr1:0.0013015\u001b[0m"
     ]
    },
    {
     "name": "stdout",
     "output_type": "stream",
     "text": [
      "\u001b[34m\u001b[1m\r",
      "[Training ] 1299/1657 [======================>.......] - ETA: 26:17  loss:1.9331 - accuracy:0.4219 - f1:0.1789 - gpu_mem:7.81G - lr1:0.0013026\u001b[0m"
     ]
    },
    {
     "name": "stdout",
     "output_type": "stream",
     "text": [
      "\u001b[34m\u001b[1m\r",
      "[Training ] 1300/1657 [======================>.......] - ETA: 26:13  loss:1.8950 - accuracy:0.4844 - f1:0.2127 - gpu_mem:7.81G - lr1:0.0013036\u001b[0m"
     ]
    },
    {
     "name": "stdout",
     "output_type": "stream",
     "text": [
      "\u001b[34m\u001b[1m\r",
      "[Training ] 1301/1657 [======================>.......] - ETA: 26:08  loss:1.9310 - accuracy:0.3750 - f1:0.1517 - gpu_mem:7.81G - lr1:0.0013046\u001b[0m"
     ]
    },
    {
     "name": "stdout",
     "output_type": "stream",
     "text": [
      "\u001b[34m\u001b[1m\r",
      "[Training ] 1302/1657 [======================>.......] - ETA: 26:04  loss:1.9024 - accuracy:0.4531 - f1:0.2024 - gpu_mem:7.81G - lr1:0.0013056\u001b[0m"
     ]
    },
    {
     "name": "stdout",
     "output_type": "stream",
     "text": [
      "\u001b[34m\u001b[1m\r",
      "[Training ] 1303/1657 [======================>.......] - ETA: 25:59  loss:1.9933 - accuracy:0.4375 - f1:0.2315 - gpu_mem:7.81G - lr1:0.0013066\u001b[0m"
     ]
    },
    {
     "name": "stdout",
     "output_type": "stream",
     "text": [
      "\u001b[34m\u001b[1m\r",
      "[Training ] 1304/1657 [======================>.......] - ETA: 25:55  loss:1.8313 - accuracy:0.5312 - f1:0.1868 - gpu_mem:7.81G - lr1:0.0013076\u001b[0m"
     ]
    },
    {
     "name": "stdout",
     "output_type": "stream",
     "text": [
      "\u001b[34m\u001b[1m\r",
      "[Training ] 1305/1657 [======================>.......] - ETA: 25:51  loss:1.8976 - accuracy:0.5469 - f1:0.2414 - gpu_mem:7.81G - lr1:0.0013086\u001b[0m"
     ]
    },
    {
     "name": "stdout",
     "output_type": "stream",
     "text": [
      "\u001b[34m\u001b[1m\r",
      "[Training ] 1306/1657 [======================>.......] - ETA: 25:46  loss:1.9343 - accuracy:0.4688 - f1:0.1529 - gpu_mem:7.81G - lr1:0.0013096\u001b[0m"
     ]
    },
    {
     "name": "stdout",
     "output_type": "stream",
     "text": [
      "\u001b[34m\u001b[1m\r",
      "[Training ] 1307/1657 [======================>.......] - ETA: 25:42  loss:1.9819 - accuracy:0.4688 - f1:0.1974 - gpu_mem:7.81G - lr1:0.0013106\u001b[0m"
     ]
    },
    {
     "name": "stdout",
     "output_type": "stream",
     "text": [
      "\u001b[34m\u001b[1m\r",
      "[Training ] 1308/1657 [======================>.......] - ETA: 25:37  loss:1.9394 - accuracy:0.4375 - f1:0.1603 - gpu_mem:7.81G - lr1:0.0013116\u001b[0m"
     ]
    },
    {
     "name": "stdout",
     "output_type": "stream",
     "text": [
      "\u001b[34m\u001b[1m\r",
      "[Training ] 1309/1657 [======================>.......] - ETA: 25:33  loss:1.8679 - accuracy:0.4531 - f1:0.1849 - gpu_mem:7.81G - lr1:0.0013126\u001b[0m"
     ]
    },
    {
     "name": "stdout",
     "output_type": "stream",
     "text": [
      "\u001b[34m\u001b[1m\r",
      "[Training ] 1310/1657 [======================>.......] - ETA: 25:29  loss:1.8385 - accuracy:0.4844 - f1:0.2250 - gpu_mem:7.81G - lr1:0.0013136\u001b[0m"
     ]
    },
    {
     "name": "stdout",
     "output_type": "stream",
     "text": [
      "\u001b[34m\u001b[1m\r",
      "[Training ] 1311/1657 [======================>.......] - ETA: 25:24  loss:1.7073 - accuracy:0.5469 - f1:0.2290 - gpu_mem:7.81G - lr1:0.0013146\u001b[0m"
     ]
    },
    {
     "name": "stdout",
     "output_type": "stream",
     "text": [
      "\u001b[34m\u001b[1m\r",
      "[Training ] 1312/1657 [======================>.......] - ETA: 25:20  loss:1.8679 - accuracy:0.5000 - f1:0.1623 - gpu_mem:7.81G - lr1:0.0013156\u001b[0m"
     ]
    },
    {
     "name": "stdout",
     "output_type": "stream",
     "text": [
      "\u001b[34m\u001b[1m\r",
      "[Training ] 1313/1657 [======================>.......] - ETA: 25:15  loss:1.8856 - accuracy:0.4844 - f1:0.1695 - gpu_mem:7.81G - lr1:0.0013166\u001b[0m"
     ]
    },
    {
     "name": "stdout",
     "output_type": "stream",
     "text": [
      "\u001b[34m\u001b[1m\r",
      "[Training ] 1314/1657 [======================>.......] - ETA: 25:11  loss:1.9276 - accuracy:0.4375 - f1:0.2004 - gpu_mem:7.81G - lr1:0.0013176\u001b[0m"
     ]
    },
    {
     "name": "stdout",
     "output_type": "stream",
     "text": [
      "\u001b[34m\u001b[1m\r",
      "[Training ] 1315/1657 [======================>.......] - ETA: 25:07  loss:2.0297 - accuracy:0.3906 - f1:0.1515 - gpu_mem:7.81G - lr1:0.0013186\u001b[0m"
     ]
    },
    {
     "name": "stdout",
     "output_type": "stream",
     "text": [
      "\u001b[34m\u001b[1m\r",
      "[Training ] 1316/1657 [======================>.......] - ETA: 25:02  loss:1.8781 - accuracy:0.4375 - f1:0.2156 - gpu_mem:7.81G - lr1:0.0013197\u001b[0m"
     ]
    },
    {
     "name": "stdout",
     "output_type": "stream",
     "text": [
      "\u001b[34m\u001b[1m\r",
      "[Training ] 1317/1657 [======================>.......] - ETA: 24:58  loss:1.8936 - accuracy:0.4219 - f1:0.1497 - gpu_mem:7.81G - lr1:0.0013207\u001b[0m"
     ]
    },
    {
     "name": "stdout",
     "output_type": "stream",
     "text": [
      "\u001b[34m\u001b[1m\r",
      "[Training ] 1318/1657 [======================>.......] - ETA: 24:53  loss:2.0053 - accuracy:0.4062 - f1:0.1692 - gpu_mem:7.81G - lr1:0.0013217\u001b[0m"
     ]
    },
    {
     "name": "stdout",
     "output_type": "stream",
     "text": [
      "\u001b[34m\u001b[1m\r",
      "[Training ] 1319/1657 [======================>.......] - ETA: 24:49  loss:1.8998 - accuracy:0.5000 - f1:0.2053 - gpu_mem:7.81G - lr1:0.0013227\u001b[0m"
     ]
    },
    {
     "name": "stdout",
     "output_type": "stream",
     "text": [
      "\u001b[34m\u001b[1m\r",
      "[Training ] 1320/1657 [======================>.......] - ETA: 24:44  loss:1.7361 - accuracy:0.5781 - f1:0.2184 - gpu_mem:7.81G - lr1:0.0013237\u001b[0m"
     ]
    },
    {
     "name": "stdout",
     "output_type": "stream",
     "text": [
      "\u001b[34m\u001b[1m\r",
      "[Training ] 1321/1657 [======================>.......] - ETA: 24:40  loss:1.8791 - accuracy:0.4844 - f1:0.1885 - gpu_mem:7.81G - lr1:0.0013247\u001b[0m"
     ]
    },
    {
     "name": "stdout",
     "output_type": "stream",
     "text": [
      "\u001b[34m\u001b[1m\r",
      "[Training ] 1322/1657 [======================>.......] - ETA: 24:36  loss:1.8456 - accuracy:0.5000 - f1:0.2333 - gpu_mem:7.81G - lr1:0.0013257\u001b[0m"
     ]
    },
    {
     "name": "stdout",
     "output_type": "stream",
     "text": [
      "\u001b[34m\u001b[1m\r",
      "[Training ] 1323/1657 [======================>.......] - ETA: 24:31  loss:2.0427 - accuracy:0.3750 - f1:0.1495 - gpu_mem:7.81G - lr1:0.0013267\u001b[0m"
     ]
    },
    {
     "name": "stdout",
     "output_type": "stream",
     "text": [
      "\u001b[34m\u001b[1m\r",
      "[Training ] 1324/1657 [======================>.......] - ETA: 24:27  loss:1.9102 - accuracy:0.4062 - f1:0.1516 - gpu_mem:7.81G - lr1:0.0013277\u001b[0m"
     ]
    },
    {
     "name": "stdout",
     "output_type": "stream",
     "text": [
      "\u001b[34m\u001b[1m\r",
      "[Training ] 1325/1657 [======================>.......] - ETA: 24:22  loss:1.9587 - accuracy:0.4219 - f1:0.1482 - gpu_mem:7.81G - lr1:0.0013287\u001b[0m"
     ]
    },
    {
     "name": "stdout",
     "output_type": "stream",
     "text": [
      "\u001b[34m\u001b[1m\r",
      "[Training ] 1326/1657 [=======================>......] - ETA: 24:18  loss:2.0301 - accuracy:0.3906 - f1:0.1759 - gpu_mem:7.81G - lr1:0.0013297\u001b[0m"
     ]
    },
    {
     "name": "stdout",
     "output_type": "stream",
     "text": [
      "\u001b[34m\u001b[1m\r",
      "[Training ] 1327/1657 [=======================>......] - ETA: 24:14  loss:1.8826 - accuracy:0.5312 - f1:0.3209 - gpu_mem:7.81G - lr1:0.0013307\u001b[0m"
     ]
    },
    {
     "name": "stdout",
     "output_type": "stream",
     "text": [
      "\u001b[34m\u001b[1m\r",
      "[Training ] 1328/1657 [=======================>......] - ETA: 24:09  loss:1.9977 - accuracy:0.3906 - f1:0.1302 - gpu_mem:7.81G - lr1:0.0013317\u001b[0m"
     ]
    },
    {
     "name": "stdout",
     "output_type": "stream",
     "text": [
      "\u001b[34m\u001b[1m\r",
      "[Training ] 1329/1657 [=======================>......] - ETA: 24:05  loss:1.9440 - accuracy:0.4219 - f1:0.1484 - gpu_mem:7.81G - lr1:0.0013327\u001b[0m"
     ]
    },
    {
     "name": "stdout",
     "output_type": "stream",
     "text": [
      "\u001b[34m\u001b[1m\r",
      "[Training ] 1330/1657 [=======================>......] - ETA: 24:00  loss:1.8766 - accuracy:0.5156 - f1:0.2450 - gpu_mem:7.81G - lr1:0.0013337\u001b[0m"
     ]
    },
    {
     "name": "stdout",
     "output_type": "stream",
     "text": [
      "\u001b[34m\u001b[1m\r",
      "[Training ] 1331/1657 [=======================>......] - ETA: 23:56  loss:1.9040 - accuracy:0.4531 - f1:0.1667 - gpu_mem:7.81G - lr1:0.0013347\u001b[0m"
     ]
    },
    {
     "name": "stdout",
     "output_type": "stream",
     "text": [
      "\u001b[34m\u001b[1m\r",
      "[Training ] 1332/1657 [=======================>......] - ETA: 23:52  loss:1.9201 - accuracy:0.5156 - f1:0.2109 - gpu_mem:7.81G - lr1:0.0013357\u001b[0m"
     ]
    },
    {
     "name": "stdout",
     "output_type": "stream",
     "text": [
      "\u001b[34m\u001b[1m\r",
      "[Training ] 1333/1657 [=======================>......] - ETA: 23:47  loss:1.8602 - accuracy:0.4844 - f1:0.1610 - gpu_mem:7.81G - lr1:0.0013368\u001b[0m"
     ]
    },
    {
     "name": "stdout",
     "output_type": "stream",
     "text": [
      "\u001b[34m\u001b[1m\r",
      "[Training ] 1334/1657 [=======================>......] - ETA: 23:43  loss:1.9151 - accuracy:0.4688 - f1:0.1998 - gpu_mem:7.81G - lr1:0.0013378\u001b[0m"
     ]
    },
    {
     "name": "stdout",
     "output_type": "stream",
     "text": [
      "\u001b[34m\u001b[1m\r",
      "[Training ] 1335/1657 [=======================>......] - ETA: 23:38  loss:1.9504 - accuracy:0.4219 - f1:0.2177 - gpu_mem:7.81G - lr1:0.0013388\u001b[0m"
     ]
    },
    {
     "name": "stdout",
     "output_type": "stream",
     "text": [
      "\u001b[34m\u001b[1m\r",
      "[Training ] 1336/1657 [=======================>......] - ETA: 23:34  loss:1.8882 - accuracy:0.4219 - f1:0.1712 - gpu_mem:7.81G - lr1:0.0013398\u001b[0m"
     ]
    },
    {
     "name": "stdout",
     "output_type": "stream",
     "text": [
      "\u001b[34m\u001b[1m\r",
      "[Training ] 1337/1657 [=======================>......] - ETA: 23:30  loss:1.7727 - accuracy:0.4688 - f1:0.1585 - gpu_mem:7.81G - lr1:0.0013408\u001b[0m"
     ]
    },
    {
     "name": "stdout",
     "output_type": "stream",
     "text": [
      "\u001b[34m\u001b[1m\r",
      "[Training ] 1338/1657 [=======================>......] - ETA: 23:25  loss:1.9772 - accuracy:0.2969 - f1:0.1043 - gpu_mem:7.81G - lr1:0.0013418\u001b[0m"
     ]
    },
    {
     "name": "stdout",
     "output_type": "stream",
     "text": [
      "\u001b[34m\u001b[1m\r",
      "[Training ] 1339/1657 [=======================>......] - ETA: 23:21  loss:1.9808 - accuracy:0.4844 - f1:0.1761 - gpu_mem:7.81G - lr1:0.0013428\u001b[0m"
     ]
    },
    {
     "name": "stdout",
     "output_type": "stream",
     "text": [
      "\u001b[34m\u001b[1m\r",
      "[Training ] 1340/1657 [=======================>......] - ETA: 23:16  loss:1.9308 - accuracy:0.4531 - f1:0.1783 - gpu_mem:7.81G - lr1:0.0013438\u001b[0m"
     ]
    },
    {
     "name": "stdout",
     "output_type": "stream",
     "text": [
      "\u001b[34m\u001b[1m\r",
      "[Training ] 1341/1657 [=======================>......] - ETA: 23:12  loss:1.9590 - accuracy:0.5000 - f1:0.1980 - gpu_mem:7.81G - lr1:0.0013448\u001b[0m"
     ]
    },
    {
     "name": "stdout",
     "output_type": "stream",
     "text": [
      "\u001b[34m\u001b[1m\r",
      "[Training ] 1342/1657 [=======================>......] - ETA: 23:08  loss:1.9123 - accuracy:0.4688 - f1:0.1684 - gpu_mem:7.81G - lr1:0.0013458\u001b[0m"
     ]
    },
    {
     "name": "stdout",
     "output_type": "stream",
     "text": [
      "\u001b[34m\u001b[1m\r",
      "[Training ] 1343/1657 [=======================>......] - ETA: 23:03  loss:1.9238 - accuracy:0.4844 - f1:0.1617 - gpu_mem:7.81G - lr1:0.0013468\u001b[0m"
     ]
    },
    {
     "name": "stdout",
     "output_type": "stream",
     "text": [
      "\u001b[34m\u001b[1m\r",
      "[Training ] 1344/1657 [=======================>......] - ETA: 22:59  loss:2.0353 - accuracy:0.3906 - f1:0.1359 - gpu_mem:7.81G - lr1:0.0013478\u001b[0m"
     ]
    },
    {
     "name": "stdout",
     "output_type": "stream",
     "text": [
      "\u001b[34m\u001b[1m\r",
      "[Training ] 1345/1657 [=======================>......] - ETA: 22:54  loss:1.8391 - accuracy:0.4844 - f1:0.1736 - gpu_mem:7.81G - lr1:0.0013488\u001b[0m"
     ]
    },
    {
     "name": "stdout",
     "output_type": "stream",
     "text": [
      "\u001b[34m\u001b[1m\r",
      "[Training ] 1346/1657 [=======================>......] - ETA: 22:50  loss:2.0098 - accuracy:0.3750 - f1:0.1549 - gpu_mem:7.81G - lr1:0.0013498\u001b[0m"
     ]
    },
    {
     "name": "stdout",
     "output_type": "stream",
     "text": [
      "\u001b[34m\u001b[1m\r",
      "[Training ] 1347/1657 [=======================>......] - ETA: 22:45  loss:1.9128 - accuracy:0.4844 - f1:0.1696 - gpu_mem:7.81G - lr1:0.0013508\u001b[0m"
     ]
    },
    {
     "name": "stdout",
     "output_type": "stream",
     "text": [
      "\u001b[34m\u001b[1m\r",
      "[Training ] 1348/1657 [=======================>......] - ETA: 22:41  loss:1.8941 - accuracy:0.4688 - f1:0.2865 - gpu_mem:7.81G - lr1:0.0013518\u001b[0m"
     ]
    },
    {
     "name": "stdout",
     "output_type": "stream",
     "text": [
      "\u001b[34m\u001b[1m\r",
      "[Training ] 1349/1657 [=======================>......] - ETA: 22:37  loss:1.9588 - accuracy:0.3750 - f1:0.1260 - gpu_mem:7.81G - lr1:0.0013528\u001b[0m"
     ]
    },
    {
     "name": "stdout",
     "output_type": "stream",
     "text": [
      "\u001b[34m\u001b[1m\r",
      "[Training ] 1350/1657 [=======================>......] - ETA: 22:32  loss:2.0174 - accuracy:0.3906 - f1:0.1953 - gpu_mem:7.81G - lr1:0.0013539\u001b[0m"
     ]
    },
    {
     "name": "stdout",
     "output_type": "stream",
     "text": [
      "\u001b[34m\u001b[1m\r",
      "[Training ] 1351/1657 [=======================>......] - ETA: 22:28  loss:1.8442 - accuracy:0.4375 - f1:0.2450 - gpu_mem:7.81G - lr1:0.0013549\u001b[0m"
     ]
    },
    {
     "name": "stdout",
     "output_type": "stream",
     "text": [
      "\u001b[34m\u001b[1m\r",
      "[Training ] 1352/1657 [=======================>......] - ETA: 22:23  loss:1.8741 - accuracy:0.5000 - f1:0.1712 - gpu_mem:7.81G - lr1:0.0013559\u001b[0m"
     ]
    },
    {
     "name": "stdout",
     "output_type": "stream",
     "text": [
      "\u001b[34m\u001b[1m\r",
      "[Training ] 1353/1657 [=======================>......] - ETA: 22:19  loss:1.9343 - accuracy:0.4375 - f1:0.1318 - gpu_mem:7.81G - lr1:0.0013569\u001b[0m"
     ]
    },
    {
     "name": "stdout",
     "output_type": "stream",
     "text": [
      "\u001b[34m\u001b[1m\r",
      "[Training ] 1354/1657 [=======================>......] - ETA: 22:15  loss:1.9080 - accuracy:0.4688 - f1:0.1931 - gpu_mem:7.81G - lr1:0.0013579\u001b[0m"
     ]
    },
    {
     "name": "stdout",
     "output_type": "stream",
     "text": [
      "\u001b[34m\u001b[1m\r",
      "[Training ] 1355/1657 [=======================>......] - ETA: 22:10  loss:1.9547 - accuracy:0.4531 - f1:0.1880 - gpu_mem:7.81G - lr1:0.0013589\u001b[0m"
     ]
    },
    {
     "name": "stdout",
     "output_type": "stream",
     "text": [
      "\u001b[34m\u001b[1m\r",
      "[Training ] 1356/1657 [=======================>......] - ETA: 22:06  loss:1.7171 - accuracy:0.5469 - f1:0.2974 - gpu_mem:7.81G - lr1:0.0013599\u001b[0m"
     ]
    },
    {
     "name": "stdout",
     "output_type": "stream",
     "text": [
      "\u001b[34m\u001b[1m\r",
      "[Training ] 1357/1657 [=======================>......] - ETA: 22:01  loss:1.9348 - accuracy:0.4375 - f1:0.2862 - gpu_mem:7.81G - lr1:0.0013609\u001b[0m"
     ]
    },
    {
     "name": "stdout",
     "output_type": "stream",
     "text": [
      "\u001b[34m\u001b[1m\r",
      "[Training ] 1358/1657 [=======================>......] - ETA: 21:57  loss:1.8985 - accuracy:0.4688 - f1:0.1914 - gpu_mem:7.81G - lr1:0.0013619\u001b[0m"
     ]
    },
    {
     "name": "stdout",
     "output_type": "stream",
     "text": [
      "\u001b[34m\u001b[1m\r",
      "[Training ] 1359/1657 [=======================>......] - ETA: 21:53  loss:1.9488 - accuracy:0.4062 - f1:0.1666 - gpu_mem:7.81G - lr1:0.0013629\u001b[0m"
     ]
    },
    {
     "name": "stdout",
     "output_type": "stream",
     "text": [
      "\u001b[34m\u001b[1m\r",
      "[Training ] 1360/1657 [=======================>......] - ETA: 21:48  loss:1.8668 - accuracy:0.4688 - f1:0.1963 - gpu_mem:7.81G - lr1:0.0013639\u001b[0m"
     ]
    },
    {
     "name": "stdout",
     "output_type": "stream",
     "text": [
      "\u001b[34m\u001b[1m\r",
      "[Training ] 1361/1657 [=======================>......] - ETA: 21:44  loss:1.9870 - accuracy:0.4375 - f1:0.1909 - gpu_mem:7.81G - lr1:0.0013649\u001b[0m"
     ]
    },
    {
     "name": "stdout",
     "output_type": "stream",
     "text": [
      "\u001b[34m\u001b[1m\r",
      "[Training ] 1362/1657 [=======================>......] - ETA: 21:39  loss:1.9138 - accuracy:0.5000 - f1:0.2274 - gpu_mem:7.81G - lr1:0.0013659\u001b[0m"
     ]
    },
    {
     "name": "stdout",
     "output_type": "stream",
     "text": [
      "\u001b[34m\u001b[1m\r",
      "[Training ] 1363/1657 [=======================>......] - ETA: 21:35  loss:1.7783 - accuracy:0.4219 - f1:0.2183 - gpu_mem:7.81G - lr1:0.0013669\u001b[0m"
     ]
    },
    {
     "name": "stdout",
     "output_type": "stream",
     "text": [
      "\u001b[34m\u001b[1m\r",
      "[Training ] 1364/1657 [=======================>......] - ETA: 21:31  loss:1.7447 - accuracy:0.5469 - f1:0.2606 - gpu_mem:7.81G - lr1:0.0013679\u001b[0m"
     ]
    },
    {
     "name": "stdout",
     "output_type": "stream",
     "text": [
      "\u001b[34m\u001b[1m\r",
      "[Training ] 1365/1657 [=======================>......] - ETA: 21:26  loss:1.9364 - accuracy:0.4375 - f1:0.2297 - gpu_mem:7.81G - lr1:0.0013689\u001b[0m"
     ]
    },
    {
     "name": "stdout",
     "output_type": "stream",
     "text": [
      "\u001b[34m\u001b[1m\r",
      "[Training ] 1366/1657 [=======================>......] - ETA: 21:22  loss:1.9565 - accuracy:0.4531 - f1:0.2034 - gpu_mem:7.81G - lr1:0.0013699\u001b[0m"
     ]
    },
    {
     "name": "stdout",
     "output_type": "stream",
     "text": [
      "\u001b[34m\u001b[1m\r",
      "[Training ] 1367/1657 [=======================>......] - ETA: 21:17  loss:2.0697 - accuracy:0.3750 - f1:0.1847 - gpu_mem:7.81G - lr1:0.0013710\u001b[0m"
     ]
    },
    {
     "name": "stdout",
     "output_type": "stream",
     "text": [
      "\u001b[34m\u001b[1m\r",
      "[Training ] 1368/1657 [=======================>......] - ETA: 21:13  loss:1.9889 - accuracy:0.4375 - f1:0.2089 - gpu_mem:7.81G - lr1:0.0013720\u001b[0m"
     ]
    },
    {
     "name": "stdout",
     "output_type": "stream",
     "text": [
      "\u001b[34m\u001b[1m\r",
      "[Training ] 1369/1657 [=======================>......] - ETA: 21:09  loss:1.7048 - accuracy:0.6406 - f1:0.2629 - gpu_mem:7.81G - lr1:0.0013730\u001b[0m"
     ]
    },
    {
     "name": "stdout",
     "output_type": "stream",
     "text": [
      "\u001b[34m\u001b[1m\r",
      "[Training ] 1370/1657 [=======================>......] - ETA: 21:04  loss:1.9909 - accuracy:0.3594 - f1:0.1521 - gpu_mem:7.81G - lr1:0.0013740\u001b[0m"
     ]
    },
    {
     "name": "stdout",
     "output_type": "stream",
     "text": [
      "\u001b[34m\u001b[1m\r",
      "[Training ] 1371/1657 [=======================>......] - ETA: 21:00  loss:1.8904 - accuracy:0.5000 - f1:0.1710 - gpu_mem:7.81G - lr1:0.0013750\u001b[0m"
     ]
    },
    {
     "name": "stdout",
     "output_type": "stream",
     "text": [
      "\u001b[34m\u001b[1m\r",
      "[Training ] 1372/1657 [=======================>......] - ETA: 20:55  loss:1.9602 - accuracy:0.4688 - f1:0.1837 - gpu_mem:7.81G - lr1:0.0013760\u001b[0m"
     ]
    },
    {
     "name": "stdout",
     "output_type": "stream",
     "text": [
      "\u001b[34m\u001b[1m\r",
      "[Training ] 1373/1657 [=======================>......] - ETA: 20:51  loss:2.0385 - accuracy:0.3906 - f1:0.1490 - gpu_mem:7.81G - lr1:0.0013770\u001b[0m"
     ]
    },
    {
     "name": "stdout",
     "output_type": "stream",
     "text": [
      "\u001b[34m\u001b[1m\r",
      "[Training ] 1374/1657 [=======================>......] - ETA: 20:47  loss:1.9924 - accuracy:0.3906 - f1:0.1452 - gpu_mem:7.81G - lr1:0.0013780\u001b[0m"
     ]
    },
    {
     "name": "stdout",
     "output_type": "stream",
     "text": [
      "\u001b[34m\u001b[1m\r",
      "[Training ] 1375/1657 [=======================>......] - ETA: 20:42  loss:1.8727 - accuracy:0.4688 - f1:0.1447 - gpu_mem:7.81G - lr1:0.0013790\u001b[0m"
     ]
    },
    {
     "name": "stdout",
     "output_type": "stream",
     "text": [
      "\u001b[34m\u001b[1m\r",
      "[Training ] 1376/1657 [=======================>......] - ETA: 20:38  loss:1.8049 - accuracy:0.5469 - f1:0.1662 - gpu_mem:7.81G - lr1:0.0013800\u001b[0m"
     ]
    },
    {
     "name": "stdout",
     "output_type": "stream",
     "text": [
      "\u001b[34m\u001b[1m\r",
      "[Training ] 1377/1657 [=======================>......] - ETA: 20:33  loss:1.8619 - accuracy:0.4688 - f1:0.2035 - gpu_mem:7.81G - lr1:0.0013810\u001b[0m"
     ]
    },
    {
     "name": "stdout",
     "output_type": "stream",
     "text": [
      "\u001b[34m\u001b[1m\r",
      "[Training ] 1378/1657 [=======================>......] - ETA: 20:29  loss:2.0346 - accuracy:0.3750 - f1:0.1271 - gpu_mem:7.81G - lr1:0.0013820\u001b[0m"
     ]
    },
    {
     "name": "stdout",
     "output_type": "stream",
     "text": [
      "\u001b[34m\u001b[1m\r",
      "[Training ] 1379/1657 [=======================>......] - ETA: 20:24  loss:1.9381 - accuracy:0.4219 - f1:0.1540 - gpu_mem:7.81G - lr1:0.0013830\u001b[0m"
     ]
    },
    {
     "name": "stdout",
     "output_type": "stream",
     "text": [
      "\u001b[34m\u001b[1m\r",
      "[Training ] 1380/1657 [=======================>......] - ETA: 20:20  loss:1.8727 - accuracy:0.5000 - f1:0.2977 - gpu_mem:7.81G - lr1:0.0013840\u001b[0m"
     ]
    },
    {
     "name": "stdout",
     "output_type": "stream",
     "text": [
      "\u001b[34m\u001b[1m\r",
      "[Training ] 1381/1657 [========================>.....] - ETA: 20:16  loss:1.9902 - accuracy:0.3750 - f1:0.1815 - gpu_mem:7.81G - lr1:0.0013850\u001b[0m"
     ]
    },
    {
     "name": "stdout",
     "output_type": "stream",
     "text": [
      "\u001b[34m\u001b[1m\r",
      "[Training ] 1382/1657 [========================>.....] - ETA: 20:11  loss:2.0113 - accuracy:0.3750 - f1:0.1455 - gpu_mem:7.81G - lr1:0.0013860\u001b[0m"
     ]
    },
    {
     "name": "stdout",
     "output_type": "stream",
     "text": [
      "\u001b[34m\u001b[1m\r",
      "[Training ] 1383/1657 [========================>.....] - ETA: 20:07  loss:1.9456 - accuracy:0.4062 - f1:0.1905 - gpu_mem:7.81G - lr1:0.0013870\u001b[0m"
     ]
    },
    {
     "name": "stdout",
     "output_type": "stream",
     "text": [
      "\u001b[34m\u001b[1m\r",
      "[Training ] 1384/1657 [========================>.....] - ETA: 20:02  loss:2.0427 - accuracy:0.3594 - f1:0.1664 - gpu_mem:7.81G - lr1:0.0013881\u001b[0m"
     ]
    },
    {
     "name": "stdout",
     "output_type": "stream",
     "text": [
      "\u001b[34m\u001b[1m\r",
      "[Training ] 1385/1657 [========================>.....] - ETA: 19:58  loss:1.8062 - accuracy:0.4844 - f1:0.2357 - gpu_mem:7.81G - lr1:0.0013891\u001b[0m"
     ]
    },
    {
     "name": "stdout",
     "output_type": "stream",
     "text": [
      "\u001b[34m\u001b[1m\r",
      "[Training ] 1386/1657 [========================>.....] - ETA: 19:54  loss:1.7372 - accuracy:0.5156 - f1:0.1211 - gpu_mem:7.81G - lr1:0.0013901\u001b[0m"
     ]
    },
    {
     "name": "stdout",
     "output_type": "stream",
     "text": [
      "\u001b[34m\u001b[1m\r",
      "[Training ] 1387/1657 [========================>.....] - ETA: 19:49  loss:1.9474 - accuracy:0.4531 - f1:0.1813 - gpu_mem:7.81G - lr1:0.0013911\u001b[0m"
     ]
    },
    {
     "name": "stdout",
     "output_type": "stream",
     "text": [
      "\u001b[34m\u001b[1m\r",
      "[Training ] 1388/1657 [========================>.....] - ETA: 19:45  loss:1.8003 - accuracy:0.4844 - f1:0.1573 - gpu_mem:7.81G - lr1:0.0013921\u001b[0m"
     ]
    },
    {
     "name": "stdout",
     "output_type": "stream",
     "text": [
      "\u001b[34m\u001b[1m\r",
      "[Training ] 1389/1657 [========================>.....] - ETA: 19:40  loss:1.9572 - accuracy:0.4688 - f1:0.1769 - gpu_mem:7.81G - lr1:0.0013931\u001b[0m"
     ]
    },
    {
     "name": "stdout",
     "output_type": "stream",
     "text": [
      "\u001b[34m\u001b[1m\r",
      "[Training ] 1390/1657 [========================>.....] - ETA: 19:36  loss:1.9991 - accuracy:0.3438 - f1:0.1356 - gpu_mem:7.81G - lr1:0.0013941\u001b[0m"
     ]
    },
    {
     "name": "stdout",
     "output_type": "stream",
     "text": [
      "\u001b[34m\u001b[1m\r",
      "[Training ] 1391/1657 [========================>.....] - ETA: 19:32  loss:1.8662 - accuracy:0.5312 - f1:0.2555 - gpu_mem:7.81G - lr1:0.0013951\u001b[0m"
     ]
    },
    {
     "name": "stdout",
     "output_type": "stream",
     "text": [
      "\u001b[34m\u001b[1m\r",
      "[Training ] 1392/1657 [========================>.....] - ETA: 19:27  loss:1.9116 - accuracy:0.4844 - f1:0.2706 - gpu_mem:7.81G - lr1:0.0013961\u001b[0m"
     ]
    },
    {
     "name": "stdout",
     "output_type": "stream",
     "text": [
      "\u001b[34m\u001b[1m\r",
      "[Training ] 1393/1657 [========================>.....] - ETA: 19:23  loss:1.9716 - accuracy:0.4844 - f1:0.1956 - gpu_mem:7.81G - lr1:0.0013971\u001b[0m"
     ]
    },
    {
     "name": "stdout",
     "output_type": "stream",
     "text": [
      "\u001b[34m\u001b[1m\r",
      "[Training ] 1394/1657 [========================>.....] - ETA: 19:18  loss:1.7887 - accuracy:0.4688 - f1:0.1898 - gpu_mem:7.81G - lr1:0.0013981\u001b[0m"
     ]
    },
    {
     "name": "stdout",
     "output_type": "stream",
     "text": [
      "\u001b[34m\u001b[1m\r",
      "[Training ] 1395/1657 [========================>.....] - ETA: 19:14  loss:1.8721 - accuracy:0.4219 - f1:0.1427 - gpu_mem:7.81G - lr1:0.0013991\u001b[0m"
     ]
    },
    {
     "name": "stdout",
     "output_type": "stream",
     "text": [
      "\u001b[34m\u001b[1m\r",
      "[Training ] 1396/1657 [========================>.....] - ETA: 19:10  loss:1.8108 - accuracy:0.4531 - f1:0.1622 - gpu_mem:7.81G - lr1:0.0014001\u001b[0m"
     ]
    },
    {
     "name": "stdout",
     "output_type": "stream",
     "text": [
      "\u001b[34m\u001b[1m\r",
      "[Training ] 1397/1657 [========================>.....] - ETA: 19:05  loss:1.9789 - accuracy:0.3750 - f1:0.2189 - gpu_mem:7.81G - lr1:0.0014011\u001b[0m"
     ]
    },
    {
     "name": "stdout",
     "output_type": "stream",
     "text": [
      "\u001b[34m\u001b[1m\r",
      "[Training ] 1398/1657 [========================>.....] - ETA: 19:01  loss:1.9649 - accuracy:0.4375 - f1:0.1611 - gpu_mem:7.81G - lr1:0.0014021\u001b[0m"
     ]
    },
    {
     "name": "stdout",
     "output_type": "stream",
     "text": [
      "\u001b[34m\u001b[1m\r",
      "[Training ] 1399/1657 [========================>.....] - ETA: 18:56  loss:1.8018 - accuracy:0.5000 - f1:0.2281 - gpu_mem:7.81G - lr1:0.0014031\u001b[0m"
     ]
    },
    {
     "name": "stdout",
     "output_type": "stream",
     "text": [
      "\u001b[34m\u001b[1m\r",
      "[Training ] 1400/1657 [========================>.....] - ETA: 18:52  loss:1.8446 - accuracy:0.5156 - f1:0.2020 - gpu_mem:7.81G - lr1:0.0014041\u001b[0m"
     ]
    },
    {
     "name": "stdout",
     "output_type": "stream",
     "text": [
      "\u001b[34m\u001b[1m\r",
      "[Training ] 1401/1657 [========================>.....] - ETA: 18:48  loss:1.9338 - accuracy:0.4062 - f1:0.1805 - gpu_mem:7.81G - lr1:0.0014051\u001b[0m"
     ]
    },
    {
     "name": "stdout",
     "output_type": "stream",
     "text": [
      "\u001b[34m\u001b[1m\r",
      "[Training ] 1402/1657 [========================>.....] - ETA: 18:43  loss:1.8423 - accuracy:0.6094 - f1:0.2811 - gpu_mem:7.81G - lr1:0.0014062\u001b[0m"
     ]
    },
    {
     "name": "stdout",
     "output_type": "stream",
     "text": [
      "\u001b[34m\u001b[1m\r",
      "[Training ] 1403/1657 [========================>.....] - ETA: 18:39  loss:1.9741 - accuracy:0.4219 - f1:0.1448 - gpu_mem:7.81G - lr1:0.0014072\u001b[0m"
     ]
    },
    {
     "name": "stdout",
     "output_type": "stream",
     "text": [
      "\u001b[34m\u001b[1m\r",
      "[Training ] 1404/1657 [========================>.....] - ETA: 18:34  loss:1.8127 - accuracy:0.5312 - f1:0.2685 - gpu_mem:7.81G - lr1:0.0014082\u001b[0m"
     ]
    },
    {
     "name": "stdout",
     "output_type": "stream",
     "text": [
      "\u001b[34m\u001b[1m\r",
      "[Training ] 1405/1657 [========================>.....] - ETA: 18:30  loss:1.9142 - accuracy:0.4844 - f1:0.1570 - gpu_mem:7.81G - lr1:0.0014092\u001b[0m"
     ]
    },
    {
     "name": "stdout",
     "output_type": "stream",
     "text": [
      "\u001b[34m\u001b[1m\r",
      "[Training ] 1406/1657 [========================>.....] - ETA: 18:26  loss:1.8868 - accuracy:0.4375 - f1:0.1842 - gpu_mem:7.81G - lr1:0.0014102\u001b[0m"
     ]
    },
    {
     "name": "stdout",
     "output_type": "stream",
     "text": [
      "\u001b[34m\u001b[1m\r",
      "[Training ] 1407/1657 [========================>.....] - ETA: 18:21  loss:1.7105 - accuracy:0.5312 - f1:0.1561 - gpu_mem:7.81G - lr1:0.0014112\u001b[0m"
     ]
    },
    {
     "name": "stdout",
     "output_type": "stream",
     "text": [
      "\u001b[34m\u001b[1m\r",
      "[Training ] 1408/1657 [========================>.....] - ETA: 18:17  loss:1.6261 - accuracy:0.5625 - f1:0.1911 - gpu_mem:7.81G - lr1:0.0014122\u001b[0m"
     ]
    },
    {
     "name": "stdout",
     "output_type": "stream",
     "text": [
      "\u001b[34m\u001b[1m\r",
      "[Training ] 1409/1657 [========================>.....] - ETA: 18:12  loss:1.9484 - accuracy:0.4375 - f1:0.1577 - gpu_mem:7.81G - lr1:0.0014132\u001b[0m"
     ]
    },
    {
     "name": "stdout",
     "output_type": "stream",
     "text": [
      "\u001b[34m\u001b[1m\r",
      "[Training ] 1410/1657 [========================>.....] - ETA: 18:08  loss:2.0265 - accuracy:0.4062 - f1:0.1531 - gpu_mem:7.81G - lr1:0.0014142\u001b[0m"
     ]
    },
    {
     "name": "stdout",
     "output_type": "stream",
     "text": [
      "\u001b[34m\u001b[1m\r",
      "[Training ] 1411/1657 [========================>.....] - ETA: 18:03  loss:1.9813 - accuracy:0.5156 - f1:0.1887 - gpu_mem:7.81G - lr1:0.0014152\u001b[0m"
     ]
    },
    {
     "name": "stdout",
     "output_type": "stream",
     "text": [
      "\u001b[34m\u001b[1m\r",
      "[Training ] 1412/1657 [========================>.....] - ETA: 17:59  loss:1.6978 - accuracy:0.5625 - f1:0.1888 - gpu_mem:7.81G - lr1:0.0014162\u001b[0m"
     ]
    },
    {
     "name": "stdout",
     "output_type": "stream",
     "text": [
      "\u001b[34m\u001b[1m\r",
      "[Training ] 1413/1657 [========================>.....] - ETA: 17:55  loss:1.9225 - accuracy:0.4844 - f1:0.1660 - gpu_mem:7.81G - lr1:0.0014172\u001b[0m"
     ]
    },
    {
     "name": "stdout",
     "output_type": "stream",
     "text": [
      "\u001b[34m\u001b[1m\r",
      "[Training ] 1414/1657 [========================>.....] - ETA: 17:50  loss:1.6160 - accuracy:0.6250 - f1:0.2465 - gpu_mem:7.81G - lr1:0.0014182\u001b[0m"
     ]
    },
    {
     "name": "stdout",
     "output_type": "stream",
     "text": [
      "\u001b[34m\u001b[1m\r",
      "[Training ] 1415/1657 [========================>.....] - ETA: 17:46  loss:1.8577 - accuracy:0.4219 - f1:0.1460 - gpu_mem:7.81G - lr1:0.0014192\u001b[0m"
     ]
    },
    {
     "name": "stdout",
     "output_type": "stream",
     "text": [
      "\u001b[34m\u001b[1m\r",
      "[Training ] 1416/1657 [========================>.....] - ETA: 17:41  loss:1.7138 - accuracy:0.6250 - f1:0.2790 - gpu_mem:7.81G - lr1:0.0014202\u001b[0m"
     ]
    },
    {
     "name": "stdout",
     "output_type": "stream",
     "text": [
      "\u001b[34m\u001b[1m\r",
      "[Training ] 1417/1657 [========================>.....] - ETA: 17:37  loss:1.8379 - accuracy:0.3438 - f1:0.1642 - gpu_mem:7.81G - lr1:0.0014212\u001b[0m"
     ]
    },
    {
     "name": "stdout",
     "output_type": "stream",
     "text": [
      "\u001b[34m\u001b[1m\r",
      "[Training ] 1418/1657 [========================>.....] - ETA: 17:33  loss:1.9846 - accuracy:0.4062 - f1:0.1778 - gpu_mem:7.81G - lr1:0.0014222\u001b[0m"
     ]
    },
    {
     "name": "stdout",
     "output_type": "stream",
     "text": [
      "\u001b[34m\u001b[1m\r",
      "[Training ] 1419/1657 [========================>.....] - ETA: 17:28  loss:1.8584 - accuracy:0.4531 - f1:0.1798 - gpu_mem:7.81G - lr1:0.0014233\u001b[0m"
     ]
    },
    {
     "name": "stdout",
     "output_type": "stream",
     "text": [
      "\u001b[34m\u001b[1m\r",
      "[Training ] 1420/1657 [========================>.....] - ETA: 17:24  loss:1.8259 - accuracy:0.4375 - f1:0.1942 - gpu_mem:7.81G - lr1:0.0014243\u001b[0m"
     ]
    },
    {
     "name": "stdout",
     "output_type": "stream",
     "text": [
      "\u001b[34m\u001b[1m\r",
      "[Training ] 1421/1657 [========================>.....] - ETA: 17:19  loss:1.8833 - accuracy:0.5312 - f1:0.1837 - gpu_mem:7.81G - lr1:0.0014253\u001b[0m"
     ]
    },
    {
     "name": "stdout",
     "output_type": "stream",
     "text": [
      "\u001b[34m\u001b[1m\r",
      "[Training ] 1422/1657 [========================>.....] - ETA: 17:15  loss:1.7408 - accuracy:0.6250 - f1:0.2186 - gpu_mem:7.81G - lr1:0.0014263\u001b[0m"
     ]
    },
    {
     "name": "stdout",
     "output_type": "stream",
     "text": [
      "\u001b[34m\u001b[1m\r",
      "[Training ] 1423/1657 [========================>.....] - ETA: 17:11  loss:1.7762 - accuracy:0.4844 - f1:0.1810 - gpu_mem:7.81G - lr1:0.0014273\u001b[0m"
     ]
    },
    {
     "name": "stdout",
     "output_type": "stream",
     "text": [
      "\u001b[34m\u001b[1m\r",
      "[Training ] 1424/1657 [========================>.....] - ETA: 17:06  loss:1.6338 - accuracy:0.5781 - f1:0.2885 - gpu_mem:7.81G - lr1:0.0014283\u001b[0m"
     ]
    },
    {
     "name": "stdout",
     "output_type": "stream",
     "text": [
      "\u001b[34m\u001b[1m\r",
      "[Training ] 1425/1657 [========================>.....] - ETA: 17:02  loss:1.9611 - accuracy:0.4531 - f1:0.1704 - gpu_mem:7.81G - lr1:0.0014293\u001b[0m"
     ]
    },
    {
     "name": "stdout",
     "output_type": "stream",
     "text": [
      "\u001b[34m\u001b[1m\r",
      "[Training ] 1426/1657 [========================>.....] - ETA: 16:57  loss:1.9436 - accuracy:0.4219 - f1:0.1546 - gpu_mem:7.81G - lr1:0.0014303\u001b[0m"
     ]
    },
    {
     "name": "stdout",
     "output_type": "stream",
     "text": [
      "\u001b[34m\u001b[1m\r",
      "[Training ] 1427/1657 [========================>.....] - ETA: 16:53  loss:1.8534 - accuracy:0.4844 - f1:0.1646 - gpu_mem:7.81G - lr1:0.0014313\u001b[0m"
     ]
    },
    {
     "name": "stdout",
     "output_type": "stream",
     "text": [
      "\u001b[34m\u001b[1m\r",
      "[Training ] 1428/1657 [========================>.....] - ETA: 16:49  loss:1.9445 - accuracy:0.4688 - f1:0.1988 - gpu_mem:7.81G - lr1:0.0014323\u001b[0m"
     ]
    },
    {
     "name": "stdout",
     "output_type": "stream",
     "text": [
      "\u001b[34m\u001b[1m\r",
      "[Training ] 1429/1657 [========================>.....] - ETA: 16:44  loss:1.8202 - accuracy:0.5625 - f1:0.2492 - gpu_mem:7.81G - lr1:0.0014333\u001b[0m"
     ]
    },
    {
     "name": "stdout",
     "output_type": "stream",
     "text": [
      "\u001b[34m\u001b[1m\r",
      "[Training ] 1430/1657 [========================>.....] - ETA: 16:40  loss:1.8577 - accuracy:0.4688 - f1:0.1480 - gpu_mem:7.81G - lr1:0.0014343\u001b[0m"
     ]
    },
    {
     "name": "stdout",
     "output_type": "stream",
     "text": [
      "\u001b[34m\u001b[1m\r",
      "[Training ] 1431/1657 [========================>.....] - ETA: 16:35  loss:1.9288 - accuracy:0.4688 - f1:0.1895 - gpu_mem:7.81G - lr1:0.0014353\u001b[0m"
     ]
    },
    {
     "name": "stdout",
     "output_type": "stream",
     "text": [
      "\u001b[34m\u001b[1m\r",
      "[Training ] 1432/1657 [========================>.....] - ETA: 16:31  loss:1.7739 - accuracy:0.5469 - f1:0.1858 - gpu_mem:7.81G - lr1:0.0014363\u001b[0m"
     ]
    },
    {
     "name": "stdout",
     "output_type": "stream",
     "text": [
      "\u001b[34m\u001b[1m\r",
      "[Training ] 1433/1657 [========================>.....] - ETA: 16:27  loss:1.9077 - accuracy:0.5156 - f1:0.1703 - gpu_mem:7.81G - lr1:0.0014373\u001b[0m"
     ]
    },
    {
     "name": "stdout",
     "output_type": "stream",
     "text": [
      "\u001b[34m\u001b[1m\r",
      "[Training ] 1434/1657 [========================>.....] - ETA: 16:22  loss:1.9320 - accuracy:0.4844 - f1:0.1872 - gpu_mem:7.81G - lr1:0.0014383\u001b[0m"
     ]
    },
    {
     "name": "stdout",
     "output_type": "stream",
     "text": [
      "\u001b[34m\u001b[1m\r",
      "[Training ] 1435/1657 [========================>.....] - ETA: 16:18  loss:1.7662 - accuracy:0.5625 - f1:0.2229 - gpu_mem:7.81G - lr1:0.0014393\u001b[0m"
     ]
    },
    {
     "name": "stdout",
     "output_type": "stream",
     "text": [
      "\u001b[34m\u001b[1m\r",
      "[Training ] 1436/1657 [========================>.....] - ETA: 16:13  loss:1.9777 - accuracy:0.4375 - f1:0.1800 - gpu_mem:7.81G - lr1:0.0014404\u001b[0m"
     ]
    },
    {
     "name": "stdout",
     "output_type": "stream",
     "text": [
      "\u001b[34m\u001b[1m\r",
      "[Training ] 1437/1657 [=========================>....] - ETA: 16:09  loss:1.8796 - accuracy:0.4844 - f1:0.2012 - gpu_mem:7.81G - lr1:0.0014414\u001b[0m"
     ]
    },
    {
     "name": "stdout",
     "output_type": "stream",
     "text": [
      "\u001b[34m\u001b[1m\r",
      "[Training ] 1438/1657 [=========================>....] - ETA: 16:05  loss:1.8426 - accuracy:0.5156 - f1:0.3119 - gpu_mem:7.81G - lr1:0.0014424\u001b[0m"
     ]
    },
    {
     "name": "stdout",
     "output_type": "stream",
     "text": [
      "\u001b[34m\u001b[1m\r",
      "[Training ] 1439/1657 [=========================>....] - ETA: 16:00  loss:1.7425 - accuracy:0.5156 - f1:0.2690 - gpu_mem:7.81G - lr1:0.0014434\u001b[0m"
     ]
    },
    {
     "name": "stdout",
     "output_type": "stream",
     "text": [
      "\u001b[34m\u001b[1m\r",
      "[Training ] 1440/1657 [=========================>....] - ETA: 15:56  loss:1.7850 - accuracy:0.4844 - f1:0.1746 - gpu_mem:7.81G - lr1:0.0014444\u001b[0m"
     ]
    },
    {
     "name": "stdout",
     "output_type": "stream",
     "text": [
      "\u001b[34m\u001b[1m\r",
      "[Training ] 1441/1657 [=========================>....] - ETA: 15:51  loss:1.9941 - accuracy:0.3594 - f1:0.1436 - gpu_mem:7.81G - lr1:0.0014454\u001b[0m"
     ]
    },
    {
     "name": "stdout",
     "output_type": "stream",
     "text": [
      "\u001b[34m\u001b[1m\r",
      "[Training ] 1442/1657 [=========================>....] - ETA: 15:47  loss:1.8970 - accuracy:0.4219 - f1:0.1715 - gpu_mem:7.81G - lr1:0.0014464\u001b[0m"
     ]
    },
    {
     "name": "stdout",
     "output_type": "stream",
     "text": [
      "\u001b[34m\u001b[1m\r",
      "[Training ] 1443/1657 [=========================>....] - ETA: 15:42  loss:1.9561 - accuracy:0.4062 - f1:0.2156 - gpu_mem:7.81G - lr1:0.0014474\u001b[0m"
     ]
    },
    {
     "name": "stdout",
     "output_type": "stream",
     "text": [
      "\u001b[34m\u001b[1m\r",
      "[Training ] 1444/1657 [=========================>....] - ETA: 15:38  loss:1.9444 - accuracy:0.4531 - f1:0.1669 - gpu_mem:7.81G - lr1:0.0014484\u001b[0m"
     ]
    },
    {
     "name": "stdout",
     "output_type": "stream",
     "text": [
      "\u001b[34m\u001b[1m\r",
      "[Training ] 1445/1657 [=========================>....] - ETA: 15:34  loss:1.8076 - accuracy:0.5312 - f1:0.1887 - gpu_mem:7.81G - lr1:0.0014494\u001b[0m"
     ]
    },
    {
     "name": "stdout",
     "output_type": "stream",
     "text": [
      "\u001b[34m\u001b[1m\r",
      "[Training ] 1446/1657 [=========================>....] - ETA: 15:29  loss:1.9064 - accuracy:0.3906 - f1:0.1476 - gpu_mem:7.81G - lr1:0.0014504\u001b[0m"
     ]
    },
    {
     "name": "stdout",
     "output_type": "stream",
     "text": [
      "\u001b[34m\u001b[1m\r",
      "[Training ] 1447/1657 [=========================>....] - ETA: 15:25  loss:1.8652 - accuracy:0.4688 - f1:0.1656 - gpu_mem:7.81G - lr1:0.0014514\u001b[0m"
     ]
    },
    {
     "name": "stdout",
     "output_type": "stream",
     "text": [
      "\u001b[34m\u001b[1m\r",
      "[Training ] 1448/1657 [=========================>....] - ETA: 15:20  loss:1.9896 - accuracy:0.4219 - f1:0.1894 - gpu_mem:7.81G - lr1:0.0014524\u001b[0m"
     ]
    },
    {
     "name": "stdout",
     "output_type": "stream",
     "text": [
      "\u001b[34m\u001b[1m\r",
      "[Training ] 1449/1657 [=========================>....] - ETA: 15:16  loss:1.8632 - accuracy:0.4375 - f1:0.1288 - gpu_mem:7.81G - lr1:0.0014534\u001b[0m"
     ]
    },
    {
     "name": "stdout",
     "output_type": "stream",
     "text": [
      "\u001b[34m\u001b[1m\r",
      "[Training ] 1450/1657 [=========================>....] - ETA: 15:12  loss:1.8785 - accuracy:0.5156 - f1:0.2202 - gpu_mem:7.81G - lr1:0.0014544\u001b[0m"
     ]
    },
    {
     "name": "stdout",
     "output_type": "stream",
     "text": [
      "\u001b[34m\u001b[1m\r",
      "[Training ] 1451/1657 [=========================>....] - ETA: 15:07  loss:1.7442 - accuracy:0.5469 - f1:0.2940 - gpu_mem:7.81G - lr1:0.0014554\u001b[0m"
     ]
    },
    {
     "name": "stdout",
     "output_type": "stream",
     "text": [
      "\u001b[34m\u001b[1m\r",
      "[Training ] 1452/1657 [=========================>....] - ETA: 15:03  loss:1.8507 - accuracy:0.4531 - f1:0.1707 - gpu_mem:7.81G - lr1:0.0014564\u001b[0m"
     ]
    },
    {
     "name": "stdout",
     "output_type": "stream",
     "text": [
      "\u001b[34m\u001b[1m\r",
      "[Training ] 1453/1657 [=========================>....] - ETA: 14:58  loss:1.8401 - accuracy:0.5000 - f1:0.1714 - gpu_mem:7.81G - lr1:0.0014575\u001b[0m"
     ]
    },
    {
     "name": "stdout",
     "output_type": "stream",
     "text": [
      "\u001b[34m\u001b[1m\r",
      "[Training ] 1454/1657 [=========================>....] - ETA: 14:54  loss:1.8364 - accuracy:0.4531 - f1:0.1494 - gpu_mem:7.81G - lr1:0.0014585\u001b[0m"
     ]
    },
    {
     "name": "stdout",
     "output_type": "stream",
     "text": [
      "\u001b[34m\u001b[1m\r",
      "[Training ] 1455/1657 [=========================>....] - ETA: 14:50  loss:1.8747 - accuracy:0.5000 - f1:0.2281 - gpu_mem:7.81G - lr1:0.0014595\u001b[0m"
     ]
    },
    {
     "name": "stdout",
     "output_type": "stream",
     "text": [
      "\u001b[34m\u001b[1m\r",
      "[Training ] 1456/1657 [=========================>....] - ETA: 14:45  loss:1.8990 - accuracy:0.4062 - f1:0.1355 - gpu_mem:7.81G - lr1:0.0014605\u001b[0m"
     ]
    },
    {
     "name": "stdout",
     "output_type": "stream",
     "text": [
      "\u001b[34m\u001b[1m\r",
      "[Training ] 1457/1657 [=========================>....] - ETA: 14:41  loss:1.8677 - accuracy:0.5312 - f1:0.2149 - gpu_mem:7.81G - lr1:0.0014615\u001b[0m"
     ]
    },
    {
     "name": "stdout",
     "output_type": "stream",
     "text": [
      "\u001b[34m\u001b[1m\r",
      "[Training ] 1458/1657 [=========================>....] - ETA: 14:36  loss:1.8510 - accuracy:0.4688 - f1:0.1509 - gpu_mem:7.81G - lr1:0.0014625\u001b[0m"
     ]
    },
    {
     "name": "stdout",
     "output_type": "stream",
     "text": [
      "\u001b[34m\u001b[1m\r",
      "[Training ] 1459/1657 [=========================>....] - ETA: 14:32  loss:1.9484 - accuracy:0.4219 - f1:0.1552 - gpu_mem:7.81G - lr1:0.0014635\u001b[0m"
     ]
    },
    {
     "name": "stdout",
     "output_type": "stream",
     "text": [
      "\u001b[34m\u001b[1m\r",
      "[Training ] 1460/1657 [=========================>....] - ETA: 14:28  loss:1.8064 - accuracy:0.5625 - f1:0.2495 - gpu_mem:7.81G - lr1:0.0014645\u001b[0m"
     ]
    },
    {
     "name": "stdout",
     "output_type": "stream",
     "text": [
      "\u001b[34m\u001b[1m\r",
      "[Training ] 1461/1657 [=========================>....] - ETA: 14:23  loss:1.8765 - accuracy:0.4844 - f1:0.1604 - gpu_mem:7.81G - lr1:0.0014655\u001b[0m"
     ]
    },
    {
     "name": "stdout",
     "output_type": "stream",
     "text": [
      "\u001b[34m\u001b[1m\r",
      "[Training ] 1462/1657 [=========================>....] - ETA: 14:19  loss:1.7179 - accuracy:0.5469 - f1:0.1968 - gpu_mem:7.81G - lr1:0.0014665\u001b[0m"
     ]
    },
    {
     "name": "stdout",
     "output_type": "stream",
     "text": [
      "\u001b[34m\u001b[1m\r",
      "[Training ] 1463/1657 [=========================>....] - ETA: 14:14  loss:1.8290 - accuracy:0.4219 - f1:0.1560 - gpu_mem:7.81G - lr1:0.0014675\u001b[0m"
     ]
    },
    {
     "name": "stdout",
     "output_type": "stream",
     "text": [
      "\u001b[34m\u001b[1m\r",
      "[Training ] 1464/1657 [=========================>....] - ETA: 14:10  loss:1.7988 - accuracy:0.5312 - f1:0.2233 - gpu_mem:7.81G - lr1:0.0014685\u001b[0m"
     ]
    },
    {
     "name": "stdout",
     "output_type": "stream",
     "text": [
      "\u001b[34m\u001b[1m\r",
      "[Training ] 1465/1657 [=========================>....] - ETA: 14:06  loss:1.8389 - accuracy:0.5625 - f1:0.1941 - gpu_mem:7.81G - lr1:0.0014695\u001b[0m"
     ]
    },
    {
     "name": "stdout",
     "output_type": "stream",
     "text": [
      "\u001b[34m\u001b[1m\r",
      "[Training ] 1466/1657 [=========================>....] - ETA: 14:01  loss:1.8176 - accuracy:0.5938 - f1:0.2356 - gpu_mem:7.81G - lr1:0.0014705\u001b[0m"
     ]
    },
    {
     "name": "stdout",
     "output_type": "stream",
     "text": [
      "\u001b[34m\u001b[1m\r",
      "[Training ] 1467/1657 [=========================>....] - ETA: 13:57  loss:1.6964 - accuracy:0.6562 - f1:0.2576 - gpu_mem:7.81G - lr1:0.0014715\u001b[0m"
     ]
    },
    {
     "name": "stdout",
     "output_type": "stream",
     "text": [
      "\u001b[34m\u001b[1m\r",
      "[Training ] 1468/1657 [=========================>....] - ETA: 13:52  loss:1.7283 - accuracy:0.5469 - f1:0.2221 - gpu_mem:7.81G - lr1:0.0014725\u001b[0m"
     ]
    },
    {
     "name": "stdout",
     "output_type": "stream",
     "text": [
      "\u001b[34m\u001b[1m\r",
      "[Training ] 1469/1657 [=========================>....] - ETA: 13:48  loss:1.8511 - accuracy:0.4844 - f1:0.1690 - gpu_mem:7.81G - lr1:0.0014735\u001b[0m"
     ]
    },
    {
     "name": "stdout",
     "output_type": "stream",
     "text": [
      "\u001b[34m\u001b[1m\r",
      "[Training ] 1470/1657 [=========================>....] - ETA: 13:43  loss:1.8025 - accuracy:0.5156 - f1:0.1820 - gpu_mem:7.81G - lr1:0.0014746\u001b[0m"
     ]
    },
    {
     "name": "stdout",
     "output_type": "stream",
     "text": [
      "\u001b[34m\u001b[1m\r",
      "[Training ] 1471/1657 [=========================>....] - ETA: 13:39  loss:1.7102 - accuracy:0.5000 - f1:0.1910 - gpu_mem:7.81G - lr1:0.0014756\u001b[0m"
     ]
    },
    {
     "name": "stdout",
     "output_type": "stream",
     "text": [
      "\u001b[34m\u001b[1m\r",
      "[Training ] 1472/1657 [=========================>....] - ETA: 13:35  loss:1.8728 - accuracy:0.5000 - f1:0.1909 - gpu_mem:7.81G - lr1:0.0014766\u001b[0m"
     ]
    },
    {
     "name": "stdout",
     "output_type": "stream",
     "text": [
      "\u001b[34m\u001b[1m\r",
      "[Training ] 1473/1657 [=========================>....] - ETA: 13:30  loss:1.8645 - accuracy:0.5469 - f1:0.1729 - gpu_mem:7.81G - lr1:0.0014776\u001b[0m"
     ]
    },
    {
     "name": "stdout",
     "output_type": "stream",
     "text": [
      "\u001b[34m\u001b[1m\r",
      "[Training ] 1474/1657 [=========================>....] - ETA: 13:26  loss:1.7000 - accuracy:0.5469 - f1:0.2111 - gpu_mem:7.81G - lr1:0.0014786\u001b[0m"
     ]
    },
    {
     "name": "stdout",
     "output_type": "stream",
     "text": [
      "\u001b[34m\u001b[1m\r",
      "[Training ] 1475/1657 [=========================>....] - ETA: 13:21  loss:1.7864 - accuracy:0.5156 - f1:0.1893 - gpu_mem:7.81G - lr1:0.0014796\u001b[0m"
     ]
    },
    {
     "name": "stdout",
     "output_type": "stream",
     "text": [
      "\u001b[34m\u001b[1m\r",
      "[Training ] 1476/1657 [=========================>....] - ETA: 13:17  loss:1.8025 - accuracy:0.5625 - f1:0.2250 - gpu_mem:7.81G - lr1:0.0014806\u001b[0m"
     ]
    },
    {
     "name": "stdout",
     "output_type": "stream",
     "text": [
      "\u001b[34m\u001b[1m\r",
      "[Training ] 1477/1657 [=========================>....] - ETA: 13:13  loss:1.9198 - accuracy:0.4844 - f1:0.1815 - gpu_mem:7.81G - lr1:0.0014816\u001b[0m"
     ]
    },
    {
     "name": "stdout",
     "output_type": "stream",
     "text": [
      "\u001b[34m\u001b[1m\r",
      "[Training ] 1478/1657 [=========================>....] - ETA: 13:08  loss:1.9907 - accuracy:0.4375 - f1:0.2020 - gpu_mem:7.81G - lr1:0.0014826\u001b[0m"
     ]
    },
    {
     "name": "stdout",
     "output_type": "stream",
     "text": [
      "\u001b[34m\u001b[1m\r",
      "[Training ] 1479/1657 [=========================>....] - ETA: 13:04  loss:1.8537 - accuracy:0.5469 - f1:0.1786 - gpu_mem:7.81G - lr1:0.0014836\u001b[0m"
     ]
    },
    {
     "name": "stdout",
     "output_type": "stream",
     "text": [
      "\u001b[34m\u001b[1m\r",
      "[Training ] 1480/1657 [=========================>....] - ETA: 12:59  loss:1.8383 - accuracy:0.5156 - f1:0.2243 - gpu_mem:7.81G - lr1:0.0014846\u001b[0m"
     ]
    },
    {
     "name": "stdout",
     "output_type": "stream",
     "text": [
      "\u001b[34m\u001b[1m\r",
      "[Training ] 1481/1657 [=========================>....] - ETA: 12:55  loss:1.7735 - accuracy:0.5469 - f1:0.2111 - gpu_mem:7.81G - lr1:0.0014856\u001b[0m"
     ]
    },
    {
     "name": "stdout",
     "output_type": "stream",
     "text": [
      "\u001b[34m\u001b[1m\r",
      "[Training ] 1482/1657 [=========================>....] - ETA: 12:51  loss:1.7784 - accuracy:0.5312 - f1:0.2639 - gpu_mem:7.81G - lr1:0.0014866\u001b[0m"
     ]
    },
    {
     "name": "stdout",
     "output_type": "stream",
     "text": [
      "\u001b[34m\u001b[1m\r",
      "[Training ] 1483/1657 [=========================>....] - ETA: 12:46  loss:1.7058 - accuracy:0.5469 - f1:0.2330 - gpu_mem:7.81G - lr1:0.0014876\u001b[0m"
     ]
    },
    {
     "name": "stdout",
     "output_type": "stream",
     "text": [
      "\u001b[34m\u001b[1m\r",
      "[Training ] 1484/1657 [=========================>....] - ETA: 12:42  loss:1.9153 - accuracy:0.4375 - f1:0.1915 - gpu_mem:7.81G - lr1:0.0014886\u001b[0m"
     ]
    },
    {
     "name": "stdout",
     "output_type": "stream",
     "text": [
      "\u001b[34m\u001b[1m\r",
      "[Training ] 1485/1657 [=========================>....] - ETA: 12:37  loss:1.9675 - accuracy:0.4375 - f1:0.2238 - gpu_mem:7.81G - lr1:0.0014896\u001b[0m"
     ]
    },
    {
     "name": "stdout",
     "output_type": "stream",
     "text": [
      "\u001b[34m\u001b[1m\r",
      "[Training ] 1486/1657 [=========================>....] - ETA: 12:33  loss:2.0088 - accuracy:0.5156 - f1:0.2152 - gpu_mem:7.81G - lr1:0.0014906\u001b[0m"
     ]
    },
    {
     "name": "stdout",
     "output_type": "stream",
     "text": [
      "\u001b[34m\u001b[1m\r",
      "[Training ] 1487/1657 [=========================>....] - ETA: 12:29  loss:1.9895 - accuracy:0.4375 - f1:0.1640 - gpu_mem:7.81G - lr1:0.0014917\u001b[0m"
     ]
    },
    {
     "name": "stdout",
     "output_type": "stream",
     "text": [
      "\u001b[34m\u001b[1m\r",
      "[Training ] 1488/1657 [=========================>....] - ETA: 12:24  loss:1.7806 - accuracy:0.5312 - f1:0.2122 - gpu_mem:7.81G - lr1:0.0014927\u001b[0m"
     ]
    },
    {
     "name": "stdout",
     "output_type": "stream",
     "text": [
      "\u001b[34m\u001b[1m\r",
      "[Training ] 1489/1657 [=========================>....] - ETA: 12:20  loss:1.9793 - accuracy:0.4375 - f1:0.2368 - gpu_mem:7.81G - lr1:0.0014937\u001b[0m"
     ]
    },
    {
     "name": "stdout",
     "output_type": "stream",
     "text": [
      "\u001b[34m\u001b[1m\r",
      "[Training ] 1490/1657 [=========================>....] - ETA: 12:15  loss:1.7013 - accuracy:0.5625 - f1:0.1812 - gpu_mem:7.81G - lr1:0.0014947\u001b[0m"
     ]
    },
    {
     "name": "stdout",
     "output_type": "stream",
     "text": [
      "\u001b[34m\u001b[1m\r",
      "[Training ] 1491/1657 [=========================>....] - ETA: 12:11  loss:1.9534 - accuracy:0.4844 - f1:0.1818 - gpu_mem:7.81G - lr1:0.0014957\u001b[0m"
     ]
    },
    {
     "name": "stdout",
     "output_type": "stream",
     "text": [
      "\u001b[34m\u001b[1m\r",
      "[Training ] 1492/1657 [==========================>...] - ETA: 12:07  loss:1.7811 - accuracy:0.5000 - f1:0.1785 - gpu_mem:7.81G - lr1:0.0014967\u001b[0m"
     ]
    },
    {
     "name": "stdout",
     "output_type": "stream",
     "text": [
      "\u001b[34m\u001b[1m\r",
      "[Training ] 1493/1657 [==========================>...] - ETA: 12:02  loss:1.6271 - accuracy:0.6094 - f1:0.2138 - gpu_mem:7.81G - lr1:0.0014977\u001b[0m"
     ]
    },
    {
     "name": "stdout",
     "output_type": "stream",
     "text": [
      "\u001b[34m\u001b[1m\r",
      "[Training ] 1494/1657 [==========================>...] - ETA: 11:58  loss:1.7794 - accuracy:0.4844 - f1:0.1576 - gpu_mem:7.81G - lr1:0.0014987\u001b[0m"
     ]
    },
    {
     "name": "stdout",
     "output_type": "stream",
     "text": [
      "\u001b[34m\u001b[1m\r",
      "[Training ] 1495/1657 [==========================>...] - ETA: 11:53  loss:1.8650 - accuracy:0.4219 - f1:0.1747 - gpu_mem:7.81G - lr1:0.0014997\u001b[0m"
     ]
    },
    {
     "name": "stdout",
     "output_type": "stream",
     "text": [
      "\u001b[34m\u001b[1m\r",
      "[Training ] 1496/1657 [==========================>...] - ETA: 11:49  loss:1.9150 - accuracy:0.5000 - f1:0.2273 - gpu_mem:7.81G - lr1:0.0015007\u001b[0m"
     ]
    },
    {
     "name": "stdout",
     "output_type": "stream",
     "text": [
      "\u001b[34m\u001b[1m\r",
      "[Training ] 1497/1657 [==========================>...] - ETA: 11:45  loss:1.9672 - accuracy:0.3750 - f1:0.1368 - gpu_mem:7.81G - lr1:0.0015017\u001b[0m"
     ]
    },
    {
     "name": "stdout",
     "output_type": "stream",
     "text": [
      "\u001b[34m\u001b[1m\r",
      "[Training ] 1498/1657 [==========================>...] - ETA: 11:40  loss:1.7473 - accuracy:0.5469 - f1:0.2168 - gpu_mem:7.81G - lr1:0.0015027\u001b[0m"
     ]
    },
    {
     "name": "stdout",
     "output_type": "stream",
     "text": [
      "\u001b[34m\u001b[1m\r",
      "[Training ] 1499/1657 [==========================>...] - ETA: 11:36  loss:1.8009 - accuracy:0.4531 - f1:0.1745 - gpu_mem:7.81G - lr1:0.0015037\u001b[0m"
     ]
    },
    {
     "name": "stdout",
     "output_type": "stream",
     "text": [
      "\u001b[34m\u001b[1m\r",
      "[Training ] 1500/1657 [==========================>...] - ETA: 11:31  loss:1.7708 - accuracy:0.5781 - f1:0.2383 - gpu_mem:7.81G - lr1:0.0015047\u001b[0m"
     ]
    },
    {
     "name": "stdout",
     "output_type": "stream",
     "text": [
      "\u001b[34m\u001b[1m\r",
      "[Training ] 1501/1657 [==========================>...] - ETA: 11:27  loss:1.8574 - accuracy:0.5156 - f1:0.2304 - gpu_mem:7.81G - lr1:0.0015057\u001b[0m"
     ]
    },
    {
     "name": "stdout",
     "output_type": "stream",
     "text": [
      "\u001b[34m\u001b[1m\r",
      "[Training ] 1502/1657 [==========================>...] - ETA: 11:22  loss:1.7672 - accuracy:0.4688 - f1:0.1484 - gpu_mem:7.81G - lr1:0.0015067\u001b[0m"
     ]
    },
    {
     "name": "stdout",
     "output_type": "stream",
     "text": [
      "\u001b[34m\u001b[1m\r",
      "[Training ] 1503/1657 [==========================>...] - ETA: 11:18  loss:1.8256 - accuracy:0.5938 - f1:0.2567 - gpu_mem:7.81G - lr1:0.0015077\u001b[0m"
     ]
    },
    {
     "name": "stdout",
     "output_type": "stream",
     "text": [
      "\u001b[34m\u001b[1m\r",
      "[Training ] 1504/1657 [==========================>...] - ETA: 11:14  loss:1.7685 - accuracy:0.5156 - f1:0.1627 - gpu_mem:7.81G - lr1:0.0015088\u001b[0m"
     ]
    },
    {
     "name": "stdout",
     "output_type": "stream",
     "text": [
      "\u001b[34m\u001b[1m\r",
      "[Training ] 1505/1657 [==========================>...] - ETA: 11:09  loss:1.7653 - accuracy:0.4844 - f1:0.2368 - gpu_mem:7.81G - lr1:0.0015098\u001b[0m"
     ]
    },
    {
     "name": "stdout",
     "output_type": "stream",
     "text": [
      "\u001b[34m\u001b[1m\r",
      "[Training ] 1506/1657 [==========================>...] - ETA: 11:05  loss:1.6327 - accuracy:0.6250 - f1:0.2289 - gpu_mem:7.81G - lr1:0.0015108\u001b[0m"
     ]
    },
    {
     "name": "stdout",
     "output_type": "stream",
     "text": [
      "\u001b[34m\u001b[1m\r",
      "[Training ] 1507/1657 [==========================>...] - ETA: 11:00  loss:1.8114 - accuracy:0.5156 - f1:0.1810 - gpu_mem:7.81G - lr1:0.0015118\u001b[0m"
     ]
    },
    {
     "name": "stdout",
     "output_type": "stream",
     "text": [
      "\u001b[34m\u001b[1m\r",
      "[Training ] 1508/1657 [==========================>...] - ETA: 10:56  loss:1.6728 - accuracy:0.5781 - f1:0.1943 - gpu_mem:7.81G - lr1:0.0015128\u001b[0m"
     ]
    },
    {
     "name": "stdout",
     "output_type": "stream",
     "text": [
      "\u001b[34m\u001b[1m\r",
      "[Training ] 1509/1657 [==========================>...] - ETA: 10:52  loss:1.7909 - accuracy:0.4531 - f1:0.2095 - gpu_mem:7.81G - lr1:0.0015138\u001b[0m"
     ]
    },
    {
     "name": "stdout",
     "output_type": "stream",
     "text": [
      "\u001b[34m\u001b[1m\r",
      "[Training ] 1510/1657 [==========================>...] - ETA: 10:47  loss:1.9708 - accuracy:0.4531 - f1:0.1865 - gpu_mem:7.81G - lr1:0.0015148\u001b[0m"
     ]
    },
    {
     "name": "stdout",
     "output_type": "stream",
     "text": [
      "\u001b[34m\u001b[1m\r",
      "[Training ] 1511/1657 [==========================>...] - ETA: 10:43  loss:1.9992 - accuracy:0.4375 - f1:0.2387 - gpu_mem:7.81G - lr1:0.0015158\u001b[0m"
     ]
    },
    {
     "name": "stdout",
     "output_type": "stream",
     "text": [
      "\u001b[34m\u001b[1m\r",
      "[Training ] 1512/1657 [==========================>...] - ETA: 10:38  loss:1.9369 - accuracy:0.4219 - f1:0.1493 - gpu_mem:7.81G - lr1:0.0015168\u001b[0m"
     ]
    },
    {
     "name": "stdout",
     "output_type": "stream",
     "text": [
      "\u001b[34m\u001b[1m\r",
      "[Training ] 1513/1657 [==========================>...] - ETA: 10:34  loss:1.7116 - accuracy:0.5938 - f1:0.2105 - gpu_mem:7.81G - lr1:0.0015178\u001b[0m"
     ]
    },
    {
     "name": "stdout",
     "output_type": "stream",
     "text": [
      "\u001b[34m\u001b[1m\r",
      "[Training ] 1514/1657 [==========================>...] - ETA: 10:30  loss:1.8978 - accuracy:0.3906 - f1:0.1225 - gpu_mem:7.81G - lr1:0.0015188\u001b[0m"
     ]
    },
    {
     "name": "stdout",
     "output_type": "stream",
     "text": [
      "\u001b[34m\u001b[1m\r",
      "[Training ] 1515/1657 [==========================>...] - ETA: 10:25  loss:1.8304 - accuracy:0.5000 - f1:0.1824 - gpu_mem:7.81G - lr1:0.0015198\u001b[0m"
     ]
    },
    {
     "name": "stdout",
     "output_type": "stream",
     "text": [
      "\u001b[34m\u001b[1m\r",
      "[Training ] 1516/1657 [==========================>...] - ETA: 10:21  loss:1.8918 - accuracy:0.5000 - f1:0.1935 - gpu_mem:7.81G - lr1:0.0015208\u001b[0m"
     ]
    },
    {
     "name": "stdout",
     "output_type": "stream",
     "text": [
      "\u001b[34m\u001b[1m\r",
      "[Training ] 1517/1657 [==========================>...] - ETA: 10:16  loss:1.8147 - accuracy:0.5156 - f1:0.1683 - gpu_mem:7.81G - lr1:0.0015218\u001b[0m"
     ]
    },
    {
     "name": "stdout",
     "output_type": "stream",
     "text": [
      "\u001b[34m\u001b[1m\r",
      "[Training ] 1518/1657 [==========================>...] - ETA: 10:12  loss:1.9557 - accuracy:0.4219 - f1:0.1542 - gpu_mem:7.81G - lr1:0.0015228\u001b[0m"
     ]
    },
    {
     "name": "stdout",
     "output_type": "stream",
     "text": [
      "\u001b[34m\u001b[1m\r",
      "[Training ] 1519/1657 [==========================>...] - ETA: 10:08  loss:1.9306 - accuracy:0.4531 - f1:0.1944 - gpu_mem:7.81G - lr1:0.0015238\u001b[0m"
     ]
    },
    {
     "name": "stdout",
     "output_type": "stream",
     "text": [
      "\u001b[34m\u001b[1m\r",
      "[Training ] 1520/1657 [==========================>...] - ETA: 10:03  loss:1.9348 - accuracy:0.4375 - f1:0.1558 - gpu_mem:7.81G - lr1:0.0015248\u001b[0m"
     ]
    },
    {
     "name": "stdout",
     "output_type": "stream",
     "text": [
      "\u001b[34m\u001b[1m\r",
      "[Training ] 1521/1657 [==========================>...] - ETA: 9:59  loss:1.8014 - accuracy:0.5000 - f1:0.1650 - gpu_mem:7.81G - lr1:0.0015258\u001b[0m"
     ]
    },
    {
     "name": "stdout",
     "output_type": "stream",
     "text": [
      "\u001b[34m\u001b[1m\r",
      "[Training ] 1522/1657 [==========================>...] - ETA: 9:54  loss:1.8320 - accuracy:0.5156 - f1:0.1780 - gpu_mem:7.81G - lr1:0.0015269\u001b[0m"
     ]
    },
    {
     "name": "stdout",
     "output_type": "stream",
     "text": [
      "\u001b[34m\u001b[1m\r",
      "[Training ] 1523/1657 [==========================>...] - ETA: 9:50  loss:1.7766 - accuracy:0.5156 - f1:0.1815 - gpu_mem:7.81G - lr1:0.0015279\u001b[0m"
     ]
    },
    {
     "name": "stdout",
     "output_type": "stream",
     "text": [
      "\u001b[34m\u001b[1m\r",
      "[Training ] 1524/1657 [==========================>...] - ETA: 9:46  loss:1.8325 - accuracy:0.5469 - f1:0.1821 - gpu_mem:7.81G - lr1:0.0015289\u001b[0m"
     ]
    },
    {
     "name": "stdout",
     "output_type": "stream",
     "text": [
      "\u001b[34m\u001b[1m\r",
      "[Training ] 1525/1657 [==========================>...] - ETA: 9:41  loss:1.8621 - accuracy:0.5625 - f1:0.2269 - gpu_mem:7.81G - lr1:0.0015299\u001b[0m"
     ]
    },
    {
     "name": "stdout",
     "output_type": "stream",
     "text": [
      "\u001b[34m\u001b[1m\r",
      "[Training ] 1526/1657 [==========================>...] - ETA: 9:37  loss:1.7248 - accuracy:0.5938 - f1:0.2941 - gpu_mem:7.81G - lr1:0.0015309\u001b[0m"
     ]
    },
    {
     "name": "stdout",
     "output_type": "stream",
     "text": [
      "\u001b[34m\u001b[1m\r",
      "[Training ] 1527/1657 [==========================>...] - ETA: 9:32  loss:1.8458 - accuracy:0.5000 - f1:0.1642 - gpu_mem:7.81G - lr1:0.0015319\u001b[0m"
     ]
    },
    {
     "name": "stdout",
     "output_type": "stream",
     "text": [
      "\u001b[34m\u001b[1m\r",
      "[Training ] 1528/1657 [==========================>...] - ETA: 9:28  loss:1.6755 - accuracy:0.6406 - f1:0.1899 - gpu_mem:7.81G - lr1:0.0015329\u001b[0m"
     ]
    },
    {
     "name": "stdout",
     "output_type": "stream",
     "text": [
      "\u001b[34m\u001b[1m\r",
      "[Training ] 1529/1657 [==========================>...] - ETA: 9:24  loss:1.6950 - accuracy:0.5469 - f1:0.2011 - gpu_mem:7.81G - lr1:0.0015339\u001b[0m"
     ]
    },
    {
     "name": "stdout",
     "output_type": "stream",
     "text": [
      "\u001b[34m\u001b[1m\r",
      "[Training ] 1530/1657 [==========================>...] - ETA: 9:19  loss:1.7733 - accuracy:0.5312 - f1:0.2007 - gpu_mem:7.81G - lr1:0.0015349\u001b[0m"
     ]
    },
    {
     "name": "stdout",
     "output_type": "stream",
     "text": [
      "\u001b[34m\u001b[1m\r",
      "[Training ] 1531/1657 [==========================>...] - ETA: 9:15  loss:1.8287 - accuracy:0.4219 - f1:0.1823 - gpu_mem:7.81G - lr1:0.0015359\u001b[0m"
     ]
    },
    {
     "name": "stdout",
     "output_type": "stream",
     "text": [
      "\u001b[34m\u001b[1m\r",
      "[Training ] 1532/1657 [==========================>...] - ETA: 9:10  loss:1.8661 - accuracy:0.4688 - f1:0.1736 - gpu_mem:7.81G - lr1:0.0015369\u001b[0m"
     ]
    },
    {
     "name": "stdout",
     "output_type": "stream",
     "text": [
      "\u001b[34m\u001b[1m\r",
      "[Training ] 1533/1657 [==========================>...] - ETA: 9:06  loss:1.8705 - accuracy:0.5156 - f1:0.1690 - gpu_mem:7.81G - lr1:0.0015379\u001b[0m"
     ]
    },
    {
     "name": "stdout",
     "output_type": "stream",
     "text": [
      "\u001b[34m\u001b[1m\r",
      "[Training ] 1534/1657 [==========================>...] - ETA: 9:01  loss:1.8275 - accuracy:0.5000 - f1:0.1686 - gpu_mem:7.81G - lr1:0.0015389\u001b[0m"
     ]
    },
    {
     "name": "stdout",
     "output_type": "stream",
     "text": [
      "\u001b[34m\u001b[1m\r",
      "[Training ] 1535/1657 [==========================>...] - ETA: 8:57  loss:1.7411 - accuracy:0.6094 - f1:0.1898 - gpu_mem:7.81G - lr1:0.0015399\u001b[0m"
     ]
    },
    {
     "name": "stdout",
     "output_type": "stream",
     "text": [
      "\u001b[34m\u001b[1m\r",
      "[Training ] 1536/1657 [==========================>...] - ETA: 8:53  loss:1.8866 - accuracy:0.4531 - f1:0.1643 - gpu_mem:7.81G - lr1:0.0015409\u001b[0m"
     ]
    },
    {
     "name": "stdout",
     "output_type": "stream",
     "text": [
      "\u001b[34m\u001b[1m\r",
      "[Training ] 1537/1657 [==========================>...] - ETA: 8:48  loss:1.8864 - accuracy:0.5156 - f1:0.2116 - gpu_mem:7.81G - lr1:0.0015419\u001b[0m"
     ]
    },
    {
     "name": "stdout",
     "output_type": "stream",
     "text": [
      "\u001b[34m\u001b[1m\r",
      "[Training ] 1538/1657 [==========================>...] - ETA: 8:44  loss:1.7755 - accuracy:0.4688 - f1:0.1483 - gpu_mem:7.81G - lr1:0.0015429\u001b[0m"
     ]
    },
    {
     "name": "stdout",
     "output_type": "stream",
     "text": [
      "\u001b[34m\u001b[1m\r",
      "[Training ] 1539/1657 [==========================>...] - ETA: 8:39  loss:1.6681 - accuracy:0.5312 - f1:0.1883 - gpu_mem:7.81G - lr1:0.0015440\u001b[0m"
     ]
    },
    {
     "name": "stdout",
     "output_type": "stream",
     "text": [
      "\u001b[34m\u001b[1m\r",
      "[Training ] 1540/1657 [==========================>...] - ETA: 8:35  loss:1.7530 - accuracy:0.4844 - f1:0.1532 - gpu_mem:7.81G - lr1:0.0015450\u001b[0m"
     ]
    },
    {
     "name": "stdout",
     "output_type": "stream",
     "text": [
      "\u001b[34m\u001b[1m\r",
      "[Training ] 1541/1657 [==========================>...] - ETA: 8:31  loss:1.8832 - accuracy:0.4688 - f1:0.2081 - gpu_mem:7.81G - lr1:0.0015460\u001b[0m"
     ]
    },
    {
     "name": "stdout",
     "output_type": "stream",
     "text": [
      "\u001b[34m\u001b[1m\r",
      "[Training ] 1542/1657 [==========================>...] - ETA: 8:26  loss:1.6575 - accuracy:0.6406 - f1:0.2530 - gpu_mem:7.81G - lr1:0.0015470\u001b[0m"
     ]
    },
    {
     "name": "stdout",
     "output_type": "stream",
     "text": [
      "\u001b[34m\u001b[1m\r",
      "[Training ] 1543/1657 [==========================>...] - ETA: 8:22  loss:1.9451 - accuracy:0.5000 - f1:0.1952 - gpu_mem:7.81G - lr1:0.0015480\u001b[0m"
     ]
    },
    {
     "name": "stdout",
     "output_type": "stream",
     "text": [
      "\u001b[34m\u001b[1m\r",
      "[Training ] 1544/1657 [==========================>...] - ETA: 8:17  loss:1.8696 - accuracy:0.4688 - f1:0.2173 - gpu_mem:7.81G - lr1:0.0015490\u001b[0m"
     ]
    },
    {
     "name": "stdout",
     "output_type": "stream",
     "text": [
      "\u001b[34m\u001b[1m\r",
      "[Training ] 1545/1657 [==========================>...] - ETA: 8:13  loss:1.7081 - accuracy:0.5469 - f1:0.2232 - gpu_mem:7.81G - lr1:0.0015500\u001b[0m"
     ]
    },
    {
     "name": "stdout",
     "output_type": "stream",
     "text": [
      "\u001b[34m\u001b[1m\r",
      "[Training ] 1546/1657 [==========================>...] - ETA: 8:09  loss:1.6832 - accuracy:0.5625 - f1:0.2949 - gpu_mem:7.81G - lr1:0.0015510\u001b[0m"
     ]
    },
    {
     "name": "stdout",
     "output_type": "stream",
     "text": [
      "\u001b[34m\u001b[1m\r",
      "[Training ] 1547/1657 [===========================>..] - ETA: 8:04  loss:1.8484 - accuracy:0.4375 - f1:0.1776 - gpu_mem:7.81G - lr1:0.0015520\u001b[0m"
     ]
    },
    {
     "name": "stdout",
     "output_type": "stream",
     "text": [
      "\u001b[34m\u001b[1m\r",
      "[Training ] 1548/1657 [===========================>..] - ETA: 8:00  loss:1.8076 - accuracy:0.5469 - f1:0.1759 - gpu_mem:7.81G - lr1:0.0015530\u001b[0m"
     ]
    },
    {
     "name": "stdout",
     "output_type": "stream",
     "text": [
      "\u001b[34m\u001b[1m\r",
      "[Training ] 1549/1657 [===========================>..] - ETA: 7:55  loss:1.7168 - accuracy:0.5938 - f1:0.2705 - gpu_mem:7.81G - lr1:0.0015540\u001b[0m"
     ]
    },
    {
     "name": "stdout",
     "output_type": "stream",
     "text": [
      "\u001b[34m\u001b[1m\r",
      "[Training ] 1550/1657 [===========================>..] - ETA: 7:51  loss:1.5850 - accuracy:0.5781 - f1:0.1764 - gpu_mem:7.81G - lr1:0.0015550\u001b[0m"
     ]
    },
    {
     "name": "stdout",
     "output_type": "stream",
     "text": [
      "\u001b[34m\u001b[1m\r",
      "[Training ] 1551/1657 [===========================>..] - ETA: 7:47  loss:1.9009 - accuracy:0.4219 - f1:0.1620 - gpu_mem:7.81G - lr1:0.0015560\u001b[0m"
     ]
    },
    {
     "name": "stdout",
     "output_type": "stream",
     "text": [
      "\u001b[34m\u001b[1m\r",
      "[Training ] 1552/1657 [===========================>..] - ETA: 7:42  loss:1.8283 - accuracy:0.5312 - f1:0.1839 - gpu_mem:7.81G - lr1:0.0015570\u001b[0m"
     ]
    },
    {
     "name": "stdout",
     "output_type": "stream",
     "text": [
      "\u001b[34m\u001b[1m\r",
      "[Training ] 1553/1657 [===========================>..] - ETA: 7:38  loss:1.6819 - accuracy:0.6719 - f1:0.2140 - gpu_mem:7.81G - lr1:0.0015580\u001b[0m"
     ]
    },
    {
     "name": "stdout",
     "output_type": "stream",
     "text": [
      "\u001b[34m\u001b[1m\r",
      "[Training ] 1554/1657 [===========================>..] - ETA: 7:33  loss:1.7296 - accuracy:0.5312 - f1:0.1749 - gpu_mem:7.81G - lr1:0.0015590\u001b[0m"
     ]
    },
    {
     "name": "stdout",
     "output_type": "stream",
     "text": [
      "\u001b[34m\u001b[1m\r",
      "[Training ] 1555/1657 [===========================>..] - ETA: 7:29  loss:1.7299 - accuracy:0.5469 - f1:0.1840 - gpu_mem:7.81G - lr1:0.0015600\u001b[0m"
     ]
    },
    {
     "name": "stdout",
     "output_type": "stream",
     "text": [
      "\u001b[34m\u001b[1m\r",
      "[Training ] 1556/1657 [===========================>..] - ETA: 7:25  loss:1.6803 - accuracy:0.5781 - f1:0.2529 - gpu_mem:7.81G - lr1:0.0015611\u001b[0m"
     ]
    },
    {
     "name": "stdout",
     "output_type": "stream",
     "text": [
      "\u001b[34m\u001b[1m\r",
      "[Training ] 1557/1657 [===========================>..] - ETA: 7:20  loss:1.8653 - accuracy:0.4375 - f1:0.1832 - gpu_mem:7.81G - lr1:0.0015621\u001b[0m"
     ]
    },
    {
     "name": "stdout",
     "output_type": "stream",
     "text": [
      "\u001b[34m\u001b[1m\r",
      "[Training ] 1558/1657 [===========================>..] - ETA: 7:16  loss:1.6129 - accuracy:0.6875 - f1:0.2341 - gpu_mem:7.81G - lr1:0.0015631\u001b[0m"
     ]
    },
    {
     "name": "stdout",
     "output_type": "stream",
     "text": [
      "\u001b[34m\u001b[1m\r",
      "[Training ] 1559/1657 [===========================>..] - ETA: 7:11  loss:1.7466 - accuracy:0.5781 - f1:0.2347 - gpu_mem:7.81G - lr1:0.0015641\u001b[0m"
     ]
    },
    {
     "name": "stdout",
     "output_type": "stream",
     "text": [
      "\u001b[34m\u001b[1m\r",
      "[Training ] 1560/1657 [===========================>..] - ETA: 7:07  loss:1.6627 - accuracy:0.5469 - f1:0.1632 - gpu_mem:7.81G - lr1:0.0015651\u001b[0m"
     ]
    },
    {
     "name": "stdout",
     "output_type": "stream",
     "text": [
      "\u001b[34m\u001b[1m\r",
      "[Training ] 1561/1657 [===========================>..] - ETA: 7:03  loss:1.8685 - accuracy:0.4844 - f1:0.1659 - gpu_mem:7.81G - lr1:0.0015661\u001b[0m"
     ]
    },
    {
     "name": "stdout",
     "output_type": "stream",
     "text": [
      "\u001b[34m\u001b[1m\r",
      "[Training ] 1562/1657 [===========================>..] - ETA: 6:58  loss:1.7165 - accuracy:0.5156 - f1:0.2148 - gpu_mem:7.81G - lr1:0.0015671\u001b[0m"
     ]
    },
    {
     "name": "stdout",
     "output_type": "stream",
     "text": [
      "\u001b[34m\u001b[1m\r",
      "[Training ] 1563/1657 [===========================>..] - ETA: 6:54  loss:1.6774 - accuracy:0.5938 - f1:0.1872 - gpu_mem:7.81G - lr1:0.0015681\u001b[0m"
     ]
    },
    {
     "name": "stdout",
     "output_type": "stream",
     "text": [
      "\u001b[34m\u001b[1m\r",
      "[Training ] 1564/1657 [===========================>..] - ETA: 6:49  loss:1.8420 - accuracy:0.5156 - f1:0.2615 - gpu_mem:7.81G - lr1:0.0015691\u001b[0m"
     ]
    },
    {
     "name": "stdout",
     "output_type": "stream",
     "text": [
      "\u001b[34m\u001b[1m\r",
      "[Training ] 1565/1657 [===========================>..] - ETA: 6:45  loss:1.6914 - accuracy:0.6094 - f1:0.1992 - gpu_mem:7.81G - lr1:0.0015701\u001b[0m"
     ]
    },
    {
     "name": "stdout",
     "output_type": "stream",
     "text": [
      "\u001b[34m\u001b[1m\r",
      "[Training ] 1566/1657 [===========================>..] - ETA: 6:40  loss:1.8647 - accuracy:0.5156 - f1:0.2910 - gpu_mem:7.81G - lr1:0.0015711\u001b[0m"
     ]
    },
    {
     "name": "stdout",
     "output_type": "stream",
     "text": [
      "\u001b[34m\u001b[1m\r",
      "[Training ] 1567/1657 [===========================>..] - ETA: 6:36  loss:1.7674 - accuracy:0.5625 - f1:0.1840 - gpu_mem:7.81G - lr1:0.0015721\u001b[0m"
     ]
    },
    {
     "name": "stdout",
     "output_type": "stream",
     "text": [
      "\u001b[34m\u001b[1m\r",
      "[Training ] 1568/1657 [===========================>..] - ETA: 6:32  loss:1.8283 - accuracy:0.5000 - f1:0.2362 - gpu_mem:7.81G - lr1:0.0015731\u001b[0m"
     ]
    },
    {
     "name": "stdout",
     "output_type": "stream",
     "text": [
      "\u001b[34m\u001b[1m\r",
      "[Training ] 1569/1657 [===========================>..] - ETA: 6:27  loss:1.9638 - accuracy:0.4375 - f1:0.1549 - gpu_mem:7.81G - lr1:0.0015741\u001b[0m"
     ]
    },
    {
     "name": "stdout",
     "output_type": "stream",
     "text": [
      "\u001b[34m\u001b[1m\r",
      "[Training ] 1570/1657 [===========================>..] - ETA: 6:23  loss:1.6925 - accuracy:0.5469 - f1:0.1940 - gpu_mem:7.81G - lr1:0.0015751\u001b[0m"
     ]
    },
    {
     "name": "stdout",
     "output_type": "stream",
     "text": [
      "\u001b[34m\u001b[1m\r",
      "[Training ] 1571/1657 [===========================>..] - ETA: 6:18  loss:1.8005 - accuracy:0.5469 - f1:0.2488 - gpu_mem:7.81G - lr1:0.0015761\u001b[0m"
     ]
    },
    {
     "name": "stdout",
     "output_type": "stream",
     "text": [
      "\u001b[34m\u001b[1m\r",
      "[Training ] 1572/1657 [===========================>..] - ETA: 6:14  loss:1.7768 - accuracy:0.5312 - f1:0.2173 - gpu_mem:7.81G - lr1:0.0015771\u001b[0m"
     ]
    },
    {
     "name": "stdout",
     "output_type": "stream",
     "text": [
      "\u001b[34m\u001b[1m\r",
      "[Training ] 1573/1657 [===========================>..] - ETA: 6:10  loss:1.9763 - accuracy:0.4062 - f1:0.1346 - gpu_mem:7.81G - lr1:0.0015782\u001b[0m"
     ]
    },
    {
     "name": "stdout",
     "output_type": "stream",
     "text": [
      "\u001b[34m\u001b[1m\r",
      "[Training ] 1574/1657 [===========================>..] - ETA: 6:05  loss:1.8116 - accuracy:0.5156 - f1:0.1929 - gpu_mem:7.81G - lr1:0.0015792\u001b[0m"
     ]
    },
    {
     "name": "stdout",
     "output_type": "stream",
     "text": [
      "\u001b[34m\u001b[1m\r",
      "[Training ] 1575/1657 [===========================>..] - ETA: 6:01  loss:1.8464 - accuracy:0.5156 - f1:0.2231 - gpu_mem:7.81G - lr1:0.0015802\u001b[0m"
     ]
    },
    {
     "name": "stdout",
     "output_type": "stream",
     "text": [
      "\u001b[34m\u001b[1m\r",
      "[Training ] 1576/1657 [===========================>..] - ETA: 5:56  loss:1.9526 - accuracy:0.4375 - f1:0.1680 - gpu_mem:7.81G - lr1:0.0015812\u001b[0m"
     ]
    },
    {
     "name": "stdout",
     "output_type": "stream",
     "text": [
      "\u001b[34m\u001b[1m\r",
      "[Training ] 1577/1657 [===========================>..] - ETA: 5:52  loss:1.8695 - accuracy:0.5312 - f1:0.1805 - gpu_mem:7.81G - lr1:0.0015822\u001b[0m"
     ]
    },
    {
     "name": "stdout",
     "output_type": "stream",
     "text": [
      "\u001b[34m\u001b[1m\r",
      "[Training ] 1578/1657 [===========================>..] - ETA: 5:48  loss:1.8029 - accuracy:0.5000 - f1:0.2004 - gpu_mem:7.81G - lr1:0.0015832\u001b[0m"
     ]
    },
    {
     "name": "stdout",
     "output_type": "stream",
     "text": [
      "\u001b[34m\u001b[1m\r",
      "[Training ] 1579/1657 [===========================>..] - ETA: 5:43  loss:1.7335 - accuracy:0.5469 - f1:0.2350 - gpu_mem:7.81G - lr1:0.0015842\u001b[0m"
     ]
    },
    {
     "name": "stdout",
     "output_type": "stream",
     "text": [
      "\u001b[34m\u001b[1m\r",
      "[Training ] 1580/1657 [===========================>..] - ETA: 5:39  loss:1.8001 - accuracy:0.5156 - f1:0.1893 - gpu_mem:7.81G - lr1:0.0015852\u001b[0m"
     ]
    },
    {
     "name": "stdout",
     "output_type": "stream",
     "text": [
      "\u001b[34m\u001b[1m\r",
      "[Training ] 1581/1657 [===========================>..] - ETA: 5:34  loss:1.7031 - accuracy:0.5469 - f1:0.1696 - gpu_mem:7.81G - lr1:0.0015862\u001b[0m"
     ]
    },
    {
     "name": "stdout",
     "output_type": "stream",
     "text": [
      "\u001b[34m\u001b[1m\r",
      "[Training ] 1582/1657 [===========================>..] - ETA: 5:30  loss:1.9416 - accuracy:0.4219 - f1:0.1449 - gpu_mem:7.81G - lr1:0.0015872\u001b[0m"
     ]
    },
    {
     "name": "stdout",
     "output_type": "stream",
     "text": [
      "\u001b[34m\u001b[1m\r",
      "[Training ] 1583/1657 [===========================>..] - ETA: 5:26  loss:1.7963 - accuracy:0.6250 - f1:0.2236 - gpu_mem:7.81G - lr1:0.0015882\u001b[0m"
     ]
    },
    {
     "name": "stdout",
     "output_type": "stream",
     "text": [
      "\u001b[34m\u001b[1m\r",
      "[Training ] 1584/1657 [===========================>..] - ETA: 5:21  loss:1.8468 - accuracy:0.4531 - f1:0.1922 - gpu_mem:7.81G - lr1:0.0015892\u001b[0m"
     ]
    },
    {
     "name": "stdout",
     "output_type": "stream",
     "text": [
      "\u001b[34m\u001b[1m\r",
      "[Training ] 1585/1657 [===========================>..] - ETA: 5:17  loss:1.8274 - accuracy:0.4844 - f1:0.1692 - gpu_mem:7.81G - lr1:0.0015902\u001b[0m"
     ]
    },
    {
     "name": "stdout",
     "output_type": "stream",
     "text": [
      "\u001b[34m\u001b[1m\r",
      "[Training ] 1586/1657 [===========================>..] - ETA: 5:12  loss:1.8178 - accuracy:0.4844 - f1:0.2766 - gpu_mem:7.81G - lr1:0.0015912\u001b[0m"
     ]
    },
    {
     "name": "stdout",
     "output_type": "stream",
     "text": [
      "\u001b[34m\u001b[1m\r",
      "[Training ] 1587/1657 [===========================>..] - ETA: 5:08  loss:1.6639 - accuracy:0.5625 - f1:0.2211 - gpu_mem:7.81G - lr1:0.0015922\u001b[0m"
     ]
    },
    {
     "name": "stdout",
     "output_type": "stream",
     "text": [
      "\u001b[34m\u001b[1m\r",
      "[Training ] 1588/1657 [===========================>..] - ETA: 5:04  loss:1.8819 - accuracy:0.5000 - f1:0.1661 - gpu_mem:7.81G - lr1:0.0015932\u001b[0m"
     ]
    },
    {
     "name": "stdout",
     "output_type": "stream",
     "text": [
      "\u001b[34m\u001b[1m\r",
      "[Training ] 1589/1657 [===========================>..] - ETA: 4:59  loss:1.7481 - accuracy:0.4844 - f1:0.1504 - gpu_mem:7.81G - lr1:0.0015942\u001b[0m"
     ]
    },
    {
     "name": "stdout",
     "output_type": "stream",
     "text": [
      "\u001b[34m\u001b[1m\r",
      "[Training ] 1590/1657 [===========================>..] - ETA: 4:55  loss:1.9193 - accuracy:0.4688 - f1:0.1997 - gpu_mem:7.81G - lr1:0.0015953\u001b[0m"
     ]
    },
    {
     "name": "stdout",
     "output_type": "stream",
     "text": [
      "\u001b[34m\u001b[1m\r",
      "[Training ] 1591/1657 [===========================>..] - ETA: 4:50  loss:1.8673 - accuracy:0.4844 - f1:0.2027 - gpu_mem:7.81G - lr1:0.0015963\u001b[0m"
     ]
    },
    {
     "name": "stdout",
     "output_type": "stream",
     "text": [
      "\u001b[34m\u001b[1m\r",
      "[Training ] 1592/1657 [===========================>..] - ETA: 4:46  loss:1.7284 - accuracy:0.5156 - f1:0.1808 - gpu_mem:7.81G - lr1:0.0015973\u001b[0m"
     ]
    },
    {
     "name": "stdout",
     "output_type": "stream",
     "text": [
      "\u001b[34m\u001b[1m\r",
      "[Training ] 1593/1657 [===========================>..] - ETA: 4:42  loss:1.7509 - accuracy:0.5781 - f1:0.2311 - gpu_mem:7.81G - lr1:0.0015983\u001b[0m"
     ]
    },
    {
     "name": "stdout",
     "output_type": "stream",
     "text": [
      "\u001b[34m\u001b[1m\r",
      "[Training ] 1594/1657 [===========================>..] - ETA: 4:37  loss:1.7471 - accuracy:0.5625 - f1:0.2198 - gpu_mem:7.81G - lr1:0.0015993\u001b[0m"
     ]
    },
    {
     "name": "stdout",
     "output_type": "stream",
     "text": [
      "\u001b[34m\u001b[1m\r",
      "[Training ] 1595/1657 [===========================>..] - ETA: 4:33  loss:1.7951 - accuracy:0.5156 - f1:0.1759 - gpu_mem:7.81G - lr1:0.0016003\u001b[0m"
     ]
    },
    {
     "name": "stdout",
     "output_type": "stream",
     "text": [
      "\u001b[34m\u001b[1m\r",
      "[Training ] 1596/1657 [===========================>..] - ETA: 4:28  loss:1.7204 - accuracy:0.6406 - f1:0.1966 - gpu_mem:7.81G - lr1:0.0016013\u001b[0m"
     ]
    },
    {
     "name": "stdout",
     "output_type": "stream",
     "text": [
      "\u001b[34m\u001b[1m\r",
      "[Training ] 1597/1657 [===========================>..] - ETA: 4:24  loss:1.6176 - accuracy:0.5000 - f1:0.1792 - gpu_mem:7.81G - lr1:0.0016023\u001b[0m"
     ]
    },
    {
     "name": "stdout",
     "output_type": "stream",
     "text": [
      "\u001b[34m\u001b[1m\r",
      "[Training ] 1598/1657 [===========================>..] - ETA: 4:19  loss:1.7906 - accuracy:0.5000 - f1:0.2115 - gpu_mem:7.81G - lr1:0.0016033\u001b[0m"
     ]
    },
    {
     "name": "stdout",
     "output_type": "stream",
     "text": [
      "\u001b[34m\u001b[1m\r",
      "[Training ] 1599/1657 [===========================>..] - ETA: 4:15  loss:1.7061 - accuracy:0.5156 - f1:0.1876 - gpu_mem:7.81G - lr1:0.0016043\u001b[0m"
     ]
    },
    {
     "name": "stdout",
     "output_type": "stream",
     "text": [
      "\u001b[34m\u001b[1m\r",
      "[Training ] 1600/1657 [===========================>..] - ETA: 4:11  loss:1.7674 - accuracy:0.5000 - f1:0.2491 - gpu_mem:7.81G - lr1:0.0016053\u001b[0m"
     ]
    },
    {
     "name": "stdout",
     "output_type": "stream",
     "text": [
      "\u001b[34m\u001b[1m\r",
      "[Training ] 1601/1657 [===========================>..] - ETA: 4:06  loss:1.8650 - accuracy:0.5000 - f1:0.1465 - gpu_mem:7.81G - lr1:0.0016063\u001b[0m"
     ]
    },
    {
     "name": "stdout",
     "output_type": "stream",
     "text": [
      "\u001b[34m\u001b[1m\r",
      "[Training ] 1602/1657 [============================>.] - ETA: 4:02  loss:1.6660 - accuracy:0.5312 - f1:0.2088 - gpu_mem:7.81G - lr1:0.0016073\u001b[0m"
     ]
    },
    {
     "name": "stdout",
     "output_type": "stream",
     "text": [
      "\u001b[34m\u001b[1m\r",
      "[Training ] 1603/1657 [============================>.] - ETA: 3:57  loss:1.8207 - accuracy:0.5312 - f1:0.2555 - gpu_mem:7.81G - lr1:0.0016083\u001b[0m"
     ]
    },
    {
     "name": "stdout",
     "output_type": "stream",
     "text": [
      "\u001b[34m\u001b[1m\r",
      "[Training ] 1604/1657 [============================>.] - ETA: 3:53  loss:1.7292 - accuracy:0.5781 - f1:0.2248 - gpu_mem:7.81G - lr1:0.0016093\u001b[0m"
     ]
    },
    {
     "name": "stdout",
     "output_type": "stream",
     "text": [
      "\u001b[34m\u001b[1m\r",
      "[Training ] 1605/1657 [============================>.] - ETA: 3:49  loss:1.8632 - accuracy:0.4531 - f1:0.2343 - gpu_mem:7.81G - lr1:0.0016103\u001b[0m"
     ]
    },
    {
     "name": "stdout",
     "output_type": "stream",
     "text": [
      "\u001b[34m\u001b[1m\r",
      "[Training ] 1606/1657 [============================>.] - ETA: 3:44  loss:1.7862 - accuracy:0.5625 - f1:0.2680 - gpu_mem:7.81G - lr1:0.0016113\u001b[0m"
     ]
    },
    {
     "name": "stdout",
     "output_type": "stream",
     "text": [
      "\u001b[34m\u001b[1m\r",
      "[Training ] 1607/1657 [============================>.] - ETA: 3:40  loss:1.6914 - accuracy:0.5781 - f1:0.2038 - gpu_mem:7.81G - lr1:0.0016124\u001b[0m"
     ]
    },
    {
     "name": "stdout",
     "output_type": "stream",
     "text": [
      "\u001b[34m\u001b[1m\r",
      "[Training ] 1608/1657 [============================>.] - ETA: 3:35  loss:1.8339 - accuracy:0.4688 - f1:0.2162 - gpu_mem:7.81G - lr1:0.0016134\u001b[0m"
     ]
    },
    {
     "name": "stdout",
     "output_type": "stream",
     "text": [
      "\u001b[34m\u001b[1m\r",
      "[Training ] 1609/1657 [============================>.] - ETA: 3:31  loss:1.8068 - accuracy:0.4531 - f1:0.2870 - gpu_mem:7.81G - lr1:0.0016144\u001b[0m"
     ]
    },
    {
     "name": "stdout",
     "output_type": "stream",
     "text": [
      "\u001b[34m\u001b[1m\r",
      "[Training ] 1610/1657 [============================>.] - ETA: 3:27  loss:1.8149 - accuracy:0.4844 - f1:0.1651 - gpu_mem:7.81G - lr1:0.0016154\u001b[0m"
     ]
    },
    {
     "name": "stdout",
     "output_type": "stream",
     "text": [
      "\u001b[34m\u001b[1m\r",
      "[Training ] 1611/1657 [============================>.] - ETA: 3:22  loss:1.5208 - accuracy:0.7031 - f1:0.3260 - gpu_mem:7.81G - lr1:0.0016164\u001b[0m"
     ]
    },
    {
     "name": "stdout",
     "output_type": "stream",
     "text": [
      "\u001b[34m\u001b[1m\r",
      "[Training ] 1612/1657 [============================>.] - ETA: 3:18  loss:1.9968 - accuracy:0.4219 - f1:0.2001 - gpu_mem:7.81G - lr1:0.0016174\u001b[0m"
     ]
    },
    {
     "name": "stdout",
     "output_type": "stream",
     "text": [
      "\u001b[34m\u001b[1m\r",
      "[Training ] 1613/1657 [============================>.] - ETA: 3:13  loss:1.8368 - accuracy:0.4531 - f1:0.1822 - gpu_mem:7.81G - lr1:0.0016184\u001b[0m"
     ]
    },
    {
     "name": "stdout",
     "output_type": "stream",
     "text": [
      "\u001b[34m\u001b[1m\r",
      "[Training ] 1614/1657 [============================>.] - ETA: 3:09  loss:1.7441 - accuracy:0.5781 - f1:0.2263 - gpu_mem:7.81G - lr1:0.0016194\u001b[0m"
     ]
    },
    {
     "name": "stdout",
     "output_type": "stream",
     "text": [
      "\u001b[34m\u001b[1m\r",
      "[Training ] 1615/1657 [============================>.] - ETA: 3:05  loss:1.8075 - accuracy:0.4688 - f1:0.1709 - gpu_mem:7.81G - lr1:0.0016204\u001b[0m"
     ]
    },
    {
     "name": "stdout",
     "output_type": "stream",
     "text": [
      "\u001b[34m\u001b[1m\r",
      "[Training ] 1616/1657 [============================>.] - ETA: 3:00  loss:1.7861 - accuracy:0.5156 - f1:0.1990 - gpu_mem:7.81G - lr1:0.0016214\u001b[0m"
     ]
    },
    {
     "name": "stdout",
     "output_type": "stream",
     "text": [
      "\u001b[34m\u001b[1m\r",
      "[Training ] 1617/1657 [============================>.] - ETA: 2:56  loss:1.7396 - accuracy:0.5469 - f1:0.1664 - gpu_mem:7.81G - lr1:0.0016224\u001b[0m"
     ]
    },
    {
     "name": "stdout",
     "output_type": "stream",
     "text": [
      "\u001b[34m\u001b[1m\r",
      "[Training ] 1618/1657 [============================>.] - ETA: 2:51  loss:1.8545 - accuracy:0.4844 - f1:0.1646 - gpu_mem:7.81G - lr1:0.0016234\u001b[0m"
     ]
    },
    {
     "name": "stdout",
     "output_type": "stream",
     "text": [
      "\u001b[34m\u001b[1m\r",
      "[Training ] 1619/1657 [============================>.] - ETA: 2:47  loss:1.8131 - accuracy:0.4375 - f1:0.1705 - gpu_mem:7.81G - lr1:0.0016244\u001b[0m"
     ]
    },
    {
     "name": "stdout",
     "output_type": "stream",
     "text": [
      "\u001b[34m\u001b[1m\r",
      "[Training ] 1620/1657 [============================>.] - ETA: 2:43  loss:1.6522 - accuracy:0.5938 - f1:0.2700 - gpu_mem:7.81G - lr1:0.0016254\u001b[0m"
     ]
    },
    {
     "name": "stdout",
     "output_type": "stream",
     "text": [
      "\u001b[34m\u001b[1m\r",
      "[Training ] 1621/1657 [============================>.] - ETA: 2:38  loss:1.5373 - accuracy:0.5469 - f1:0.1962 - gpu_mem:7.81G - lr1:0.0016264\u001b[0m"
     ]
    },
    {
     "name": "stdout",
     "output_type": "stream",
     "text": [
      "\u001b[34m\u001b[1m\r",
      "[Training ] 1622/1657 [============================>.] - ETA: 2:34  loss:1.7787 - accuracy:0.5156 - f1:0.1740 - gpu_mem:7.81G - lr1:0.0016274\u001b[0m"
     ]
    },
    {
     "name": "stdout",
     "output_type": "stream",
     "text": [
      "\u001b[34m\u001b[1m\r",
      "[Training ] 1623/1657 [============================>.] - ETA: 2:29  loss:1.6542 - accuracy:0.5312 - f1:0.1899 - gpu_mem:7.81G - lr1:0.0016284\u001b[0m"
     ]
    },
    {
     "name": "stdout",
     "output_type": "stream",
     "text": [
      "\u001b[34m\u001b[1m\r",
      "[Training ] 1624/1657 [============================>.] - ETA: 2:25  loss:1.8294 - accuracy:0.5469 - f1:0.2888 - gpu_mem:7.81G - lr1:0.0016295\u001b[0m"
     ]
    },
    {
     "name": "stdout",
     "output_type": "stream",
     "text": [
      "\u001b[34m\u001b[1m\r",
      "[Training ] 1625/1657 [============================>.] - ETA: 2:21  loss:1.9633 - accuracy:0.4375 - f1:0.1720 - gpu_mem:7.81G - lr1:0.0016305\u001b[0m"
     ]
    },
    {
     "name": "stdout",
     "output_type": "stream",
     "text": [
      "\u001b[34m\u001b[1m\r",
      "[Training ] 1626/1657 [============================>.] - ETA: 2:16  loss:1.8937 - accuracy:0.4688 - f1:0.1608 - gpu_mem:7.81G - lr1:0.0016315\u001b[0m"
     ]
    },
    {
     "name": "stdout",
     "output_type": "stream",
     "text": [
      "\u001b[34m\u001b[1m\r",
      "[Training ] 1627/1657 [============================>.] - ETA: 2:12  loss:1.7453 - accuracy:0.5000 - f1:0.2000 - gpu_mem:7.81G - lr1:0.0016325\u001b[0m"
     ]
    },
    {
     "name": "stdout",
     "output_type": "stream",
     "text": [
      "\u001b[34m\u001b[1m\r",
      "[Training ] 1628/1657 [============================>.] - ETA: 2:07  loss:1.7076 - accuracy:0.5156 - f1:0.1979 - gpu_mem:7.81G - lr1:0.0016335\u001b[0m"
     ]
    },
    {
     "name": "stdout",
     "output_type": "stream",
     "text": [
      "\u001b[34m\u001b[1m\r",
      "[Training ] 1629/1657 [============================>.] - ETA: 2:03  loss:1.8631 - accuracy:0.5000 - f1:0.1981 - gpu_mem:7.81G - lr1:0.0016345\u001b[0m"
     ]
    },
    {
     "name": "stdout",
     "output_type": "stream",
     "text": [
      "\u001b[34m\u001b[1m\r",
      "[Training ] 1630/1657 [============================>.] - ETA: 1:58  loss:1.6693 - accuracy:0.5781 - f1:0.2766 - gpu_mem:7.81G - lr1:0.0016355\u001b[0m"
     ]
    },
    {
     "name": "stdout",
     "output_type": "stream",
     "text": [
      "\u001b[34m\u001b[1m\r",
      "[Training ] 1631/1657 [============================>.] - ETA: 1:54  loss:1.8917 - accuracy:0.4375 - f1:0.1912 - gpu_mem:7.81G - lr1:0.0016365\u001b[0m"
     ]
    },
    {
     "name": "stdout",
     "output_type": "stream",
     "text": [
      "\u001b[34m\u001b[1m\r",
      "[Training ] 1632/1657 [============================>.] - ETA: 1:50  loss:1.6647 - accuracy:0.5625 - f1:0.2571 - gpu_mem:7.81G - lr1:0.0016375\u001b[0m"
     ]
    },
    {
     "name": "stdout",
     "output_type": "stream",
     "text": [
      "\u001b[34m\u001b[1m\r",
      "[Training ] 1633/1657 [============================>.] - ETA: 1:45  loss:1.8198 - accuracy:0.4062 - f1:0.1312 - gpu_mem:7.81G - lr1:0.0016385\u001b[0m"
     ]
    },
    {
     "name": "stdout",
     "output_type": "stream",
     "text": [
      "\u001b[34m\u001b[1m\r",
      "[Training ] 1634/1657 [============================>.] - ETA: 1:41  loss:1.6572 - accuracy:0.6406 - f1:0.2607 - gpu_mem:7.81G - lr1:0.0016395\u001b[0m"
     ]
    },
    {
     "name": "stdout",
     "output_type": "stream",
     "text": [
      "\u001b[34m\u001b[1m\r",
      "[Training ] 1635/1657 [============================>.] - ETA: 1:36  loss:1.7439 - accuracy:0.5156 - f1:0.1607 - gpu_mem:7.81G - lr1:0.0016405\u001b[0m"
     ]
    },
    {
     "name": "stdout",
     "output_type": "stream",
     "text": [
      "\u001b[34m\u001b[1m\r",
      "[Training ] 1636/1657 [============================>.] - ETA: 1:32  loss:1.6901 - accuracy:0.5312 - f1:0.1955 - gpu_mem:7.81G - lr1:0.0016415\u001b[0m"
     ]
    },
    {
     "name": "stdout",
     "output_type": "stream",
     "text": [
      "\u001b[34m\u001b[1m\r",
      "[Training ] 1637/1657 [============================>.] - ETA: 1:28  loss:1.6593 - accuracy:0.6406 - f1:0.2362 - gpu_mem:7.81G - lr1:0.0016425\u001b[0m"
     ]
    },
    {
     "name": "stdout",
     "output_type": "stream",
     "text": [
      "\u001b[34m\u001b[1m\r",
      "[Training ] 1638/1657 [============================>.] - ETA: 1:23  loss:1.7304 - accuracy:0.5156 - f1:0.1727 - gpu_mem:7.81G - lr1:0.0016435\u001b[0m"
     ]
    },
    {
     "name": "stdout",
     "output_type": "stream",
     "text": [
      "\u001b[34m\u001b[1m\r",
      "[Training ] 1639/1657 [============================>.] - ETA: 1:19  loss:1.9959 - accuracy:0.3750 - f1:0.1212 - gpu_mem:7.81G - lr1:0.0016445\u001b[0m"
     ]
    },
    {
     "name": "stdout",
     "output_type": "stream",
     "text": [
      "\u001b[34m\u001b[1m\r",
      "[Training ] 1640/1657 [============================>.] - ETA: 1:14  loss:1.5598 - accuracy:0.6250 - f1:0.2847 - gpu_mem:7.81G - lr1:0.0016455\u001b[0m"
     ]
    },
    {
     "name": "stdout",
     "output_type": "stream",
     "text": [
      "\u001b[34m\u001b[1m\r",
      "[Training ] 1641/1657 [============================>.] - ETA: 1:10  loss:1.8258 - accuracy:0.4688 - f1:0.1842 - gpu_mem:7.81G - lr1:0.0016465\u001b[0m"
     ]
    },
    {
     "name": "stdout",
     "output_type": "stream",
     "text": [
      "\u001b[34m\u001b[1m\r",
      "[Training ] 1642/1657 [============================>.] - ETA: 1:06  loss:1.7873 - accuracy:0.5469 - f1:0.2050 - gpu_mem:7.81G - lr1:0.0016476\u001b[0m"
     ]
    },
    {
     "name": "stdout",
     "output_type": "stream",
     "text": [
      "\u001b[34m\u001b[1m\r",
      "[Training ] 1643/1657 [============================>.] - ETA: 1:01  loss:1.5601 - accuracy:0.6875 - f1:0.3681 - gpu_mem:7.81G - lr1:0.0016486\u001b[0m"
     ]
    },
    {
     "name": "stdout",
     "output_type": "stream",
     "text": [
      "\u001b[34m\u001b[1m\r",
      "[Training ] 1644/1657 [============================>.] - ETA: 57s  loss:1.8327 - accuracy:0.4531 - f1:0.1547 - gpu_mem:7.81G - lr1:0.0016496\u001b[0m"
     ]
    },
    {
     "name": "stdout",
     "output_type": "stream",
     "text": [
      "\u001b[34m\u001b[1m\r",
      "[Training ] 1645/1657 [============================>.] - ETA: 52s  loss:1.6849 - accuracy:0.5625 - f1:0.1805 - gpu_mem:7.81G - lr1:0.0016506\u001b[0m"
     ]
    },
    {
     "name": "stdout",
     "output_type": "stream",
     "text": [
      "\u001b[34m\u001b[1m\r",
      "[Training ] 1646/1657 [============================>.] - ETA: 48s  loss:1.5853 - accuracy:0.5938 - f1:0.2270 - gpu_mem:7.81G - lr1:0.0016516\u001b[0m"
     ]
    },
    {
     "name": "stdout",
     "output_type": "stream",
     "text": [
      "\u001b[34m\u001b[1m\r",
      "[Training ] 1647/1657 [============================>.] - ETA: 44s  loss:1.5811 - accuracy:0.5938 - f1:0.2122 - gpu_mem:7.81G - lr1:0.0016526\u001b[0m"
     ]
    },
    {
     "name": "stdout",
     "output_type": "stream",
     "text": [
      "\u001b[34m\u001b[1m\r",
      "[Training ] 1648/1657 [============================>.] - ETA: 39s  loss:1.6632 - accuracy:0.6250 - f1:0.2395 - gpu_mem:7.81G - lr1:0.0016536\u001b[0m"
     ]
    },
    {
     "name": "stdout",
     "output_type": "stream",
     "text": [
      "\u001b[34m\u001b[1m\r",
      "[Training ] 1649/1657 [============================>.] - ETA: 35s  loss:1.6895 - accuracy:0.5938 - f1:0.1921 - gpu_mem:7.81G - lr1:0.0016546\u001b[0m"
     ]
    },
    {
     "name": "stdout",
     "output_type": "stream",
     "text": [
      "\u001b[34m\u001b[1m\r",
      "[Training ] 1650/1657 [============================>.] - ETA: 30s  loss:1.7998 - accuracy:0.5000 - f1:0.2306 - gpu_mem:7.81G - lr1:0.0016556\u001b[0m"
     ]
    },
    {
     "name": "stdout",
     "output_type": "stream",
     "text": [
      "\u001b[34m\u001b[1m\r",
      "[Training ] 1651/1657 [============================>.] - ETA: 26s  loss:1.8490 - accuracy:0.4688 - f1:0.1845 - gpu_mem:7.81G - lr1:0.0016566\u001b[0m"
     ]
    },
    {
     "name": "stdout",
     "output_type": "stream",
     "text": [
      "\u001b[34m\u001b[1m\r",
      "[Training ] 1652/1657 [============================>.] - ETA: 22s  loss:1.7750 - accuracy:0.5156 - f1:0.2290 - gpu_mem:7.81G - lr1:0.0016576\u001b[0m"
     ]
    },
    {
     "name": "stdout",
     "output_type": "stream",
     "text": [
      "\u001b[34m\u001b[1m\r",
      "[Training ] 1653/1657 [============================>.] - ETA: 17s  loss:1.5559 - accuracy:0.6875 - f1:0.3456 - gpu_mem:7.81G - lr1:0.0016586\u001b[0m"
     ]
    },
    {
     "name": "stdout",
     "output_type": "stream",
     "text": [
      "\u001b[34m\u001b[1m\r",
      "[Training ] 1654/1657 [============================>.] - ETA: 13s  loss:1.6373 - accuracy:0.5938 - f1:0.2260 - gpu_mem:7.81G - lr1:0.0016596\u001b[0m"
     ]
    },
    {
     "name": "stdout",
     "output_type": "stream",
     "text": [
      "\u001b[34m\u001b[1m\r",
      "[Training ] 1655/1657 [============================>.] - ETA: 8s  loss:1.7410 - accuracy:0.5938 - f1:0.1906 - gpu_mem:7.81G - lr1:0.0016606\u001b[0m"
     ]
    },
    {
     "name": "stdout",
     "output_type": "stream",
     "text": [
      "\u001b[34m\u001b[1m\r",
      "[Training ] 1656/1657 [============================>.] - ETA: 4s  loss:1.6059 - accuracy:0.6719 - f1:0.2559 - gpu_mem:7.81G - lr1:0.0016616\u001b[0m"
     ]
    },
    {
     "name": "stdout",
     "output_type": "stream",
     "text": [
      "\u001b[34m\u001b[1m\r",
      "[Training ] 1657/1657 [==============================] 4.4s/step  loss:1.7038 - accuracy:0.4474 - f1:0.1249 - gpu_mem:7.81G - lr1:0.0016626\u001b[0m"
     ]
    },
    {
     "name": "stdout",
     "output_type": "stream",
     "text": [
      "\u001b[34m\u001b[1m\r\n",
      " ---------- Training Result ----------\u001b[0m\r\n"
     ]
    },
    {
     "name": "stdout",
     "output_type": "stream",
     "text": [
      "\u001b[34m\u001b[1m\r",
      "[Validation ] 1/208 [..............................] - ETA: 11:26\u001b[0m"
     ]
    },
    {
     "name": "stdout",
     "output_type": "stream",
     "text": [
      "\u001b[34m\u001b[1m\r",
      "[Validation ] 2/208 [..............................] - ETA: 9:42\u001b[0m"
     ]
    },
    {
     "name": "stdout",
     "output_type": "stream",
     "text": [
      "\u001b[34m\u001b[1m\r",
      "[Validation ] 3/208 [..............................] - ETA: 9:06\u001b[0m"
     ]
    },
    {
     "name": "stdout",
     "output_type": "stream",
     "text": [
      "\u001b[34m\u001b[1m\r",
      "[Validation ] 4/208 [..............................] - ETA: 8:47\u001b[0m"
     ]
    },
    {
     "name": "stdout",
     "output_type": "stream",
     "text": [
      "\u001b[34m\u001b[1m\r",
      "[Validation ] 5/208 [..............................] - ETA: 8:35\u001b[0m"
     ]
    },
    {
     "name": "stdout",
     "output_type": "stream",
     "text": [
      "\u001b[34m\u001b[1m\r",
      "[Validation ] 6/208 [..............................] - ETA: 8:26\u001b[0m"
     ]
    },
    {
     "name": "stdout",
     "output_type": "stream",
     "text": [
      "\u001b[34m\u001b[1m\r",
      "[Validation ] 7/208 [>.............................] - ETA: 8:19\u001b[0m"
     ]
    },
    {
     "name": "stdout",
     "output_type": "stream",
     "text": [
      "\u001b[34m\u001b[1m\r",
      "[Validation ] 8/208 [>.............................] - ETA: 8:14\u001b[0m"
     ]
    },
    {
     "name": "stdout",
     "output_type": "stream",
     "text": [
      "\u001b[34m\u001b[1m\r",
      "[Validation ] 9/208 [>.............................] - ETA: 8:13\u001b[0m"
     ]
    },
    {
     "name": "stdout",
     "output_type": "stream",
     "text": [
      "\u001b[34m\u001b[1m\r",
      "[Validation ] 10/208 [>.............................] - ETA: 8:08\u001b[0m"
     ]
    },
    {
     "name": "stdout",
     "output_type": "stream",
     "text": [
      "\u001b[34m\u001b[1m\r",
      "[Validation ] 11/208 [>.............................] - ETA: 8:03\u001b[0m"
     ]
    },
    {
     "name": "stdout",
     "output_type": "stream",
     "text": [
      "\u001b[34m\u001b[1m\r",
      "[Validation ] 12/208 [>.............................] - ETA: 7:59\u001b[0m"
     ]
    },
    {
     "name": "stdout",
     "output_type": "stream",
     "text": [
      "\u001b[34m\u001b[1m\r",
      "[Validation ] 13/208 [>.............................] - ETA: 7:55\u001b[0m"
     ]
    },
    {
     "name": "stdout",
     "output_type": "stream",
     "text": [
      "\u001b[34m\u001b[1m\r",
      "[Validation ] 14/208 [=>............................] - ETA: 7:51\u001b[0m"
     ]
    },
    {
     "name": "stdout",
     "output_type": "stream",
     "text": [
      "\u001b[34m\u001b[1m\r",
      "[Validation ] 15/208 [=>............................] - ETA: 7:48\u001b[0m"
     ]
    },
    {
     "name": "stdout",
     "output_type": "stream",
     "text": [
      "\u001b[34m\u001b[1m\r",
      "[Validation ] 16/208 [=>............................] - ETA: 7:44\u001b[0m"
     ]
    },
    {
     "name": "stdout",
     "output_type": "stream",
     "text": [
      "\u001b[34m\u001b[1m\r",
      "[Validation ] 17/208 [=>............................] - ETA: 7:41\u001b[0m"
     ]
    },
    {
     "name": "stdout",
     "output_type": "stream",
     "text": [
      "\u001b[34m\u001b[1m\r",
      "[Validation ] 18/208 [=>............................] - ETA: 7:38\u001b[0m"
     ]
    },
    {
     "name": "stdout",
     "output_type": "stream",
     "text": [
      "\u001b[34m\u001b[1m\r",
      "[Validation ] 19/208 [=>............................] - ETA: 7:35\u001b[0m"
     ]
    },
    {
     "name": "stdout",
     "output_type": "stream",
     "text": [
      "\u001b[34m\u001b[1m\r",
      "[Validation ] 20/208 [=>............................] - ETA: 7:32\u001b[0m"
     ]
    },
    {
     "name": "stdout",
     "output_type": "stream",
     "text": [
      "\u001b[34m\u001b[1m\r",
      "[Validation ] 21/208 [==>...........................] - ETA: 7:29\u001b[0m"
     ]
    },
    {
     "name": "stdout",
     "output_type": "stream",
     "text": [
      "\u001b[34m\u001b[1m\r",
      "[Validation ] 22/208 [==>...........................] - ETA: 7:26\u001b[0m"
     ]
    },
    {
     "name": "stdout",
     "output_type": "stream",
     "text": [
      "\u001b[34m\u001b[1m\r",
      "[Validation ] 23/208 [==>...........................] - ETA: 7:23\u001b[0m"
     ]
    },
    {
     "name": "stdout",
     "output_type": "stream",
     "text": [
      "\u001b[34m\u001b[1m\r",
      "[Validation ] 24/208 [==>...........................] - ETA: 7:20\u001b[0m"
     ]
    },
    {
     "name": "stdout",
     "output_type": "stream",
     "text": [
      "\u001b[34m\u001b[1m\r",
      "[Validation ] 25/208 [==>...........................] - ETA: 7:18\u001b[0m"
     ]
    },
    {
     "name": "stdout",
     "output_type": "stream",
     "text": [
      "\u001b[34m\u001b[1m\r",
      "[Validation ] 26/208 [==>...........................] - ETA: 7:15\u001b[0m"
     ]
    },
    {
     "name": "stdout",
     "output_type": "stream",
     "text": [
      "\u001b[34m\u001b[1m\r",
      "[Validation ] 27/208 [==>...........................] - ETA: 7:12\u001b[0m"
     ]
    },
    {
     "name": "stdout",
     "output_type": "stream",
     "text": [
      "\u001b[34m\u001b[1m\r",
      "[Validation ] 28/208 [===>..........................] - ETA: 7:10\u001b[0m"
     ]
    },
    {
     "name": "stdout",
     "output_type": "stream",
     "text": [
      "\u001b[34m\u001b[1m\r",
      "[Validation ] 29/208 [===>..........................] - ETA: 7:07\u001b[0m"
     ]
    },
    {
     "name": "stdout",
     "output_type": "stream",
     "text": [
      "\u001b[34m\u001b[1m\r",
      "[Validation ] 30/208 [===>..........................] - ETA: 7:04\u001b[0m"
     ]
    },
    {
     "name": "stdout",
     "output_type": "stream",
     "text": [
      "\u001b[34m\u001b[1m\r",
      "[Validation ] 31/208 [===>..........................] - ETA: 7:02\u001b[0m"
     ]
    },
    {
     "name": "stdout",
     "output_type": "stream",
     "text": [
      "\u001b[34m\u001b[1m\r",
      "[Validation ] 32/208 [===>..........................] - ETA: 6:59\u001b[0m"
     ]
    },
    {
     "name": "stdout",
     "output_type": "stream",
     "text": [
      "\u001b[34m\u001b[1m\r",
      "[Validation ] 33/208 [===>..........................] - ETA: 6:56\u001b[0m"
     ]
    },
    {
     "name": "stdout",
     "output_type": "stream",
     "text": [
      "\u001b[34m\u001b[1m\r",
      "[Validation ] 34/208 [===>..........................] - ETA: 6:54\u001b[0m"
     ]
    },
    {
     "name": "stdout",
     "output_type": "stream",
     "text": [
      "\u001b[34m\u001b[1m\r",
      "[Validation ] 35/208 [====>.........................] - ETA: 6:51\u001b[0m"
     ]
    },
    {
     "name": "stdout",
     "output_type": "stream",
     "text": [
      "\u001b[34m\u001b[1m\r",
      "[Validation ] 36/208 [====>.........................] - ETA: 6:49\u001b[0m"
     ]
    },
    {
     "name": "stdout",
     "output_type": "stream",
     "text": [
      "\u001b[34m\u001b[1m\r",
      "[Validation ] 37/208 [====>.........................] - ETA: 6:46\u001b[0m"
     ]
    },
    {
     "name": "stdout",
     "output_type": "stream",
     "text": [
      "\u001b[34m\u001b[1m\r",
      "[Validation ] 38/208 [====>.........................] - ETA: 6:44\u001b[0m"
     ]
    },
    {
     "name": "stdout",
     "output_type": "stream",
     "text": [
      "\u001b[34m\u001b[1m\r",
      "[Validation ] 39/208 [====>.........................] - ETA: 6:41\u001b[0m"
     ]
    },
    {
     "name": "stdout",
     "output_type": "stream",
     "text": [
      "\u001b[34m\u001b[1m\r",
      "[Validation ] 40/208 [====>.........................] - ETA: 6:39\u001b[0m"
     ]
    },
    {
     "name": "stdout",
     "output_type": "stream",
     "text": [
      "\u001b[34m\u001b[1m\r",
      "[Validation ] 41/208 [====>.........................] - ETA: 6:36\u001b[0m"
     ]
    },
    {
     "name": "stdout",
     "output_type": "stream",
     "text": [
      "\u001b[34m\u001b[1m\r",
      "[Validation ] 42/208 [=====>........................] - ETA: 6:34\u001b[0m"
     ]
    },
    {
     "name": "stdout",
     "output_type": "stream",
     "text": [
      "\u001b[34m\u001b[1m\r",
      "[Validation ] 43/208 [=====>........................] - ETA: 6:31\u001b[0m"
     ]
    },
    {
     "name": "stdout",
     "output_type": "stream",
     "text": [
      "\u001b[34m\u001b[1m\r",
      "[Validation ] 44/208 [=====>........................] - ETA: 6:29\u001b[0m"
     ]
    },
    {
     "name": "stdout",
     "output_type": "stream",
     "text": [
      "\u001b[34m\u001b[1m\r",
      "[Validation ] 45/208 [=====>........................] - ETA: 6:26\u001b[0m"
     ]
    },
    {
     "name": "stdout",
     "output_type": "stream",
     "text": [
      "\u001b[34m\u001b[1m\r",
      "[Validation ] 46/208 [=====>........................] - ETA: 6:24\u001b[0m"
     ]
    },
    {
     "name": "stdout",
     "output_type": "stream",
     "text": [
      "\u001b[34m\u001b[1m\r",
      "[Validation ] 47/208 [=====>........................] - ETA: 6:21\u001b[0m"
     ]
    },
    {
     "name": "stdout",
     "output_type": "stream",
     "text": [
      "\u001b[34m\u001b[1m\r",
      "[Validation ] 48/208 [=====>........................] - ETA: 6:19\u001b[0m"
     ]
    },
    {
     "name": "stdout",
     "output_type": "stream",
     "text": [
      "\u001b[34m\u001b[1m\r",
      "[Validation ] 49/208 [======>.......................] - ETA: 6:16\u001b[0m"
     ]
    },
    {
     "name": "stdout",
     "output_type": "stream",
     "text": [
      "\u001b[34m\u001b[1m\r",
      "[Validation ] 50/208 [======>.......................] - ETA: 6:14\u001b[0m"
     ]
    },
    {
     "name": "stdout",
     "output_type": "stream",
     "text": [
      "\u001b[34m\u001b[1m\r",
      "[Validation ] 51/208 [======>.......................] - ETA: 6:12\u001b[0m"
     ]
    },
    {
     "name": "stdout",
     "output_type": "stream",
     "text": [
      "\u001b[34m\u001b[1m\r",
      "[Validation ] 52/208 [======>.......................] - ETA: 6:09\u001b[0m"
     ]
    },
    {
     "name": "stdout",
     "output_type": "stream",
     "text": [
      "\u001b[34m\u001b[1m\r",
      "[Validation ] 53/208 [======>.......................] - ETA: 6:07\u001b[0m"
     ]
    },
    {
     "name": "stdout",
     "output_type": "stream",
     "text": [
      "\u001b[34m\u001b[1m\r",
      "[Validation ] 54/208 [======>.......................] - ETA: 6:04\u001b[0m"
     ]
    },
    {
     "name": "stdout",
     "output_type": "stream",
     "text": [
      "\u001b[34m\u001b[1m\r",
      "[Validation ] 55/208 [======>.......................] - ETA: 6:02\u001b[0m"
     ]
    },
    {
     "name": "stdout",
     "output_type": "stream",
     "text": [
      "\u001b[34m\u001b[1m\r",
      "[Validation ] 56/208 [=======>......................] - ETA: 6:00\u001b[0m"
     ]
    },
    {
     "name": "stdout",
     "output_type": "stream",
     "text": [
      "\u001b[34m\u001b[1m\r",
      "[Validation ] 57/208 [=======>......................] - ETA: 5:58\u001b[0m"
     ]
    },
    {
     "name": "stdout",
     "output_type": "stream",
     "text": [
      "\u001b[34m\u001b[1m\r",
      "[Validation ] 58/208 [=======>......................] - ETA: 5:55\u001b[0m"
     ]
    },
    {
     "name": "stdout",
     "output_type": "stream",
     "text": [
      "\u001b[34m\u001b[1m\r",
      "[Validation ] 59/208 [=======>......................] - ETA: 5:53\u001b[0m"
     ]
    },
    {
     "name": "stdout",
     "output_type": "stream",
     "text": [
      "\u001b[34m\u001b[1m\r",
      "[Validation ] 60/208 [=======>......................] - ETA: 5:51\u001b[0m"
     ]
    },
    {
     "name": "stdout",
     "output_type": "stream",
     "text": [
      "\u001b[34m\u001b[1m\r",
      "[Validation ] 61/208 [=======>......................] - ETA: 5:49\u001b[0m"
     ]
    },
    {
     "name": "stdout",
     "output_type": "stream",
     "text": [
      "\u001b[34m\u001b[1m\r",
      "[Validation ] 62/208 [=======>......................] - ETA: 5:47\u001b[0m"
     ]
    },
    {
     "name": "stdout",
     "output_type": "stream",
     "text": [
      "\u001b[34m\u001b[1m\r",
      "[Validation ] 63/208 [========>.....................] - ETA: 5:45\u001b[0m"
     ]
    },
    {
     "name": "stdout",
     "output_type": "stream",
     "text": [
      "\u001b[34m\u001b[1m\r",
      "[Validation ] 64/208 [========>.....................] - ETA: 5:43\u001b[0m"
     ]
    },
    {
     "name": "stdout",
     "output_type": "stream",
     "text": [
      "\u001b[34m\u001b[1m\r",
      "[Validation ] 65/208 [========>.....................] - ETA: 5:41\u001b[0m"
     ]
    },
    {
     "name": "stdout",
     "output_type": "stream",
     "text": [
      "\u001b[34m\u001b[1m\r",
      "[Validation ] 66/208 [========>.....................] - ETA: 5:38\u001b[0m"
     ]
    },
    {
     "name": "stdout",
     "output_type": "stream",
     "text": [
      "\u001b[34m\u001b[1m\r",
      "[Validation ] 67/208 [========>.....................] - ETA: 5:36\u001b[0m"
     ]
    },
    {
     "name": "stdout",
     "output_type": "stream",
     "text": [
      "\u001b[34m\u001b[1m\r",
      "[Validation ] 68/208 [========>.....................] - ETA: 5:33\u001b[0m"
     ]
    },
    {
     "name": "stdout",
     "output_type": "stream",
     "text": [
      "\u001b[34m\u001b[1m\r",
      "[Validation ] 69/208 [========>.....................] - ETA: 5:31\u001b[0m"
     ]
    },
    {
     "name": "stdout",
     "output_type": "stream",
     "text": [
      "\u001b[34m\u001b[1m\r",
      "[Validation ] 70/208 [=========>....................] - ETA: 5:29\u001b[0m"
     ]
    },
    {
     "name": "stdout",
     "output_type": "stream",
     "text": [
      "\u001b[34m\u001b[1m\r",
      "[Validation ] 71/208 [=========>....................] - ETA: 5:27\u001b[0m"
     ]
    },
    {
     "name": "stdout",
     "output_type": "stream",
     "text": [
      "\u001b[34m\u001b[1m\r",
      "[Validation ] 72/208 [=========>....................] - ETA: 5:25\u001b[0m"
     ]
    },
    {
     "name": "stdout",
     "output_type": "stream",
     "text": [
      "\u001b[34m\u001b[1m\r",
      "[Validation ] 73/208 [=========>....................] - ETA: 5:22\u001b[0m"
     ]
    },
    {
     "name": "stdout",
     "output_type": "stream",
     "text": [
      "\u001b[34m\u001b[1m\r",
      "[Validation ] 74/208 [=========>....................] - ETA: 5:21\u001b[0m"
     ]
    },
    {
     "name": "stdout",
     "output_type": "stream",
     "text": [
      "\u001b[34m\u001b[1m\r",
      "[Validation ] 75/208 [=========>....................] - ETA: 5:19\u001b[0m"
     ]
    },
    {
     "name": "stdout",
     "output_type": "stream",
     "text": [
      "\u001b[34m\u001b[1m\r",
      "[Validation ] 76/208 [=========>....................] - ETA: 5:17\u001b[0m"
     ]
    },
    {
     "name": "stdout",
     "output_type": "stream",
     "text": [
      "\u001b[34m\u001b[1m\r",
      "[Validation ] 77/208 [==========>...................] - ETA: 5:15\u001b[0m"
     ]
    },
    {
     "name": "stdout",
     "output_type": "stream",
     "text": [
      "\u001b[34m\u001b[1m\r",
      "[Validation ] 78/208 [==========>...................] - ETA: 5:13\u001b[0m"
     ]
    },
    {
     "name": "stdout",
     "output_type": "stream",
     "text": [
      "\u001b[34m\u001b[1m\r",
      "[Validation ] 79/208 [==========>...................] - ETA: 5:10\u001b[0m"
     ]
    },
    {
     "name": "stdout",
     "output_type": "stream",
     "text": [
      "\u001b[34m\u001b[1m\r",
      "[Validation ] 80/208 [==========>...................] - ETA: 5:08\u001b[0m"
     ]
    },
    {
     "name": "stdout",
     "output_type": "stream",
     "text": [
      "\u001b[34m\u001b[1m\r",
      "[Validation ] 81/208 [==========>...................] - ETA: 5:06\u001b[0m"
     ]
    },
    {
     "name": "stdout",
     "output_type": "stream",
     "text": [
      "\u001b[34m\u001b[1m\r",
      "[Validation ] 82/208 [==========>...................] - ETA: 5:03\u001b[0m"
     ]
    },
    {
     "name": "stdout",
     "output_type": "stream",
     "text": [
      "\u001b[34m\u001b[1m\r",
      "[Validation ] 83/208 [==========>...................] - ETA: 5:01\u001b[0m"
     ]
    },
    {
     "name": "stdout",
     "output_type": "stream",
     "text": [
      "\u001b[34m\u001b[1m\r",
      "[Validation ] 84/208 [===========>..................] - ETA: 4:59\u001b[0m"
     ]
    },
    {
     "name": "stdout",
     "output_type": "stream",
     "text": [
      "\u001b[34m\u001b[1m\r",
      "[Validation ] 85/208 [===========>..................] - ETA: 4:56\u001b[0m"
     ]
    },
    {
     "name": "stdout",
     "output_type": "stream",
     "text": [
      "\u001b[34m\u001b[1m\r",
      "[Validation ] 86/208 [===========>..................] - ETA: 4:54\u001b[0m"
     ]
    },
    {
     "name": "stdout",
     "output_type": "stream",
     "text": [
      "\u001b[34m\u001b[1m\r",
      "[Validation ] 87/208 [===========>..................] - ETA: 4:52\u001b[0m"
     ]
    },
    {
     "name": "stdout",
     "output_type": "stream",
     "text": [
      "\u001b[34m\u001b[1m\r",
      "[Validation ] 88/208 [===========>..................] - ETA: 4:49\u001b[0m"
     ]
    },
    {
     "name": "stdout",
     "output_type": "stream",
     "text": [
      "\u001b[34m\u001b[1m\r",
      "[Validation ] 89/208 [===========>..................] - ETA: 4:47\u001b[0m"
     ]
    },
    {
     "name": "stdout",
     "output_type": "stream",
     "text": [
      "\u001b[34m\u001b[1m\r",
      "[Validation ] 90/208 [===========>..................] - ETA: 4:44\u001b[0m"
     ]
    },
    {
     "name": "stdout",
     "output_type": "stream",
     "text": [
      "\u001b[34m\u001b[1m\r",
      "[Validation ] 91/208 [============>.................] - ETA: 4:42\u001b[0m"
     ]
    },
    {
     "name": "stdout",
     "output_type": "stream",
     "text": [
      "\u001b[34m\u001b[1m\r",
      "[Validation ] 92/208 [============>.................] - ETA: 4:40\u001b[0m"
     ]
    },
    {
     "name": "stdout",
     "output_type": "stream",
     "text": [
      "\u001b[34m\u001b[1m\r",
      "[Validation ] 93/208 [============>.................] - ETA: 4:37\u001b[0m"
     ]
    },
    {
     "name": "stdout",
     "output_type": "stream",
     "text": [
      "\u001b[34m\u001b[1m\r",
      "[Validation ] 94/208 [============>.................] - ETA: 4:35\u001b[0m"
     ]
    },
    {
     "name": "stdout",
     "output_type": "stream",
     "text": [
      "\u001b[34m\u001b[1m\r",
      "[Validation ] 95/208 [============>.................] - ETA: 4:32\u001b[0m"
     ]
    },
    {
     "name": "stdout",
     "output_type": "stream",
     "text": [
      "\u001b[34m\u001b[1m\r",
      "[Validation ] 96/208 [============>.................] - ETA: 4:30\u001b[0m"
     ]
    },
    {
     "name": "stdout",
     "output_type": "stream",
     "text": [
      "\u001b[34m\u001b[1m\r",
      "[Validation ] 97/208 [============>.................] - ETA: 4:27\u001b[0m"
     ]
    },
    {
     "name": "stdout",
     "output_type": "stream",
     "text": [
      "\u001b[34m\u001b[1m\r",
      "[Validation ] 98/208 [=============>................] - ETA: 4:25\u001b[0m"
     ]
    },
    {
     "name": "stdout",
     "output_type": "stream",
     "text": [
      "\u001b[34m\u001b[1m\r",
      "[Validation ] 99/208 [=============>................] - ETA: 4:23\u001b[0m"
     ]
    },
    {
     "name": "stdout",
     "output_type": "stream",
     "text": [
      "\u001b[34m\u001b[1m\r",
      "[Validation ] 100/208 [=============>................] - ETA: 4:21\u001b[0m"
     ]
    },
    {
     "name": "stdout",
     "output_type": "stream",
     "text": [
      "\u001b[34m\u001b[1m\r",
      "[Validation ] 101/208 [=============>................] - ETA: 4:19\u001b[0m"
     ]
    },
    {
     "name": "stdout",
     "output_type": "stream",
     "text": [
      "\u001b[34m\u001b[1m\r",
      "[Validation ] 102/208 [=============>................] - ETA: 4:16\u001b[0m"
     ]
    },
    {
     "name": "stdout",
     "output_type": "stream",
     "text": [
      "\u001b[34m\u001b[1m\r",
      "[Validation ] 103/208 [=============>................] - ETA: 4:14\u001b[0m"
     ]
    },
    {
     "name": "stdout",
     "output_type": "stream",
     "text": [
      "\u001b[34m\u001b[1m\r",
      "[Validation ] 104/208 [==============>...............] - ETA: 4:11\u001b[0m"
     ]
    },
    {
     "name": "stdout",
     "output_type": "stream",
     "text": [
      "\u001b[34m\u001b[1m\r",
      "[Validation ] 105/208 [==============>...............] - ETA: 4:09\u001b[0m"
     ]
    },
    {
     "name": "stdout",
     "output_type": "stream",
     "text": [
      "\u001b[34m\u001b[1m\r",
      "[Validation ] 106/208 [==============>...............] - ETA: 4:07\u001b[0m"
     ]
    },
    {
     "name": "stdout",
     "output_type": "stream",
     "text": [
      "\u001b[34m\u001b[1m\r",
      "[Validation ] 107/208 [==============>...............] - ETA: 4:05\u001b[0m"
     ]
    },
    {
     "name": "stdout",
     "output_type": "stream",
     "text": [
      "\u001b[34m\u001b[1m\r",
      "[Validation ] 108/208 [==============>...............] - ETA: 4:02\u001b[0m"
     ]
    },
    {
     "name": "stdout",
     "output_type": "stream",
     "text": [
      "\u001b[34m\u001b[1m\r",
      "[Validation ] 109/208 [==============>...............] - ETA: 4:00\u001b[0m"
     ]
    },
    {
     "name": "stdout",
     "output_type": "stream",
     "text": [
      "\u001b[34m\u001b[1m\r",
      "[Validation ] 110/208 [==============>...............] - ETA: 3:57\u001b[0m"
     ]
    },
    {
     "name": "stdout",
     "output_type": "stream",
     "text": [
      "\u001b[34m\u001b[1m\r",
      "[Validation ] 111/208 [===============>..............] - ETA: 3:55\u001b[0m"
     ]
    },
    {
     "name": "stdout",
     "output_type": "stream",
     "text": [
      "\u001b[34m\u001b[1m\r",
      "[Validation ] 112/208 [===============>..............] - ETA: 3:53\u001b[0m"
     ]
    },
    {
     "name": "stdout",
     "output_type": "stream",
     "text": [
      "\u001b[34m\u001b[1m\r",
      "[Validation ] 113/208 [===============>..............] - ETA: 3:50\u001b[0m"
     ]
    },
    {
     "name": "stdout",
     "output_type": "stream",
     "text": [
      "\u001b[34m\u001b[1m\r",
      "[Validation ] 114/208 [===============>..............] - ETA: 3:48\u001b[0m"
     ]
    },
    {
     "name": "stdout",
     "output_type": "stream",
     "text": [
      "\u001b[34m\u001b[1m\r",
      "[Validation ] 115/208 [===============>..............] - ETA: 3:46\u001b[0m"
     ]
    },
    {
     "name": "stdout",
     "output_type": "stream",
     "text": [
      "\u001b[34m\u001b[1m\r",
      "[Validation ] 116/208 [===============>..............] - ETA: 3:43\u001b[0m"
     ]
    },
    {
     "name": "stdout",
     "output_type": "stream",
     "text": [
      "\u001b[34m\u001b[1m\r",
      "[Validation ] 117/208 [===============>..............] - ETA: 3:41\u001b[0m"
     ]
    },
    {
     "name": "stdout",
     "output_type": "stream",
     "text": [
      "\u001b[34m\u001b[1m\r",
      "[Validation ] 118/208 [================>.............] - ETA: 3:39\u001b[0m"
     ]
    },
    {
     "name": "stdout",
     "output_type": "stream",
     "text": [
      "\u001b[34m\u001b[1m\r",
      "[Validation ] 119/208 [================>.............] - ETA: 3:36\u001b[0m"
     ]
    },
    {
     "name": "stdout",
     "output_type": "stream",
     "text": [
      "\u001b[34m\u001b[1m\r",
      "[Validation ] 120/208 [================>.............] - ETA: 3:34\u001b[0m"
     ]
    },
    {
     "name": "stdout",
     "output_type": "stream",
     "text": [
      "\u001b[34m\u001b[1m\r",
      "[Validation ] 121/208 [================>.............] - ETA: 3:31\u001b[0m"
     ]
    },
    {
     "name": "stdout",
     "output_type": "stream",
     "text": [
      "\u001b[34m\u001b[1m\r",
      "[Validation ] 122/208 [================>.............] - ETA: 3:29\u001b[0m"
     ]
    },
    {
     "name": "stdout",
     "output_type": "stream",
     "text": [
      "\u001b[34m\u001b[1m\r",
      "[Validation ] 123/208 [================>.............] - ETA: 3:26\u001b[0m"
     ]
    },
    {
     "name": "stdout",
     "output_type": "stream",
     "text": [
      "\u001b[34m\u001b[1m\r",
      "[Validation ] 124/208 [================>.............] - ETA: 3:24\u001b[0m"
     ]
    },
    {
     "name": "stdout",
     "output_type": "stream",
     "text": [
      "\u001b[34m\u001b[1m\r",
      "[Validation ] 125/208 [=================>............] - ETA: 3:22\u001b[0m"
     ]
    },
    {
     "name": "stdout",
     "output_type": "stream",
     "text": [
      "\u001b[34m\u001b[1m\r",
      "[Validation ] 126/208 [=================>............] - ETA: 3:19\u001b[0m"
     ]
    },
    {
     "name": "stdout",
     "output_type": "stream",
     "text": [
      "\u001b[34m\u001b[1m\r",
      "[Validation ] 127/208 [=================>............] - ETA: 3:17\u001b[0m"
     ]
    },
    {
     "name": "stdout",
     "output_type": "stream",
     "text": [
      "\u001b[34m\u001b[1m\r",
      "[Validation ] 128/208 [=================>............] - ETA: 3:14\u001b[0m"
     ]
    },
    {
     "name": "stdout",
     "output_type": "stream",
     "text": [
      "\u001b[34m\u001b[1m\r",
      "[Validation ] 129/208 [=================>............] - ETA: 3:12\u001b[0m"
     ]
    },
    {
     "name": "stdout",
     "output_type": "stream",
     "text": [
      "\u001b[34m\u001b[1m\r",
      "[Validation ] 130/208 [=================>............] - ETA: 3:10\u001b[0m"
     ]
    },
    {
     "name": "stdout",
     "output_type": "stream",
     "text": [
      "\u001b[34m\u001b[1m\r",
      "[Validation ] 131/208 [=================>............] - ETA: 3:07\u001b[0m"
     ]
    },
    {
     "name": "stdout",
     "output_type": "stream",
     "text": [
      "\u001b[34m\u001b[1m\r",
      "[Validation ] 132/208 [==================>...........] - ETA: 3:05\u001b[0m"
     ]
    },
    {
     "name": "stdout",
     "output_type": "stream",
     "text": [
      "\u001b[34m\u001b[1m\r",
      "[Validation ] 133/208 [==================>...........] - ETA: 3:02\u001b[0m"
     ]
    },
    {
     "name": "stdout",
     "output_type": "stream",
     "text": [
      "\u001b[34m\u001b[1m\r",
      "[Validation ] 134/208 [==================>...........] - ETA: 3:00\u001b[0m"
     ]
    },
    {
     "name": "stdout",
     "output_type": "stream",
     "text": [
      "\u001b[34m\u001b[1m\r",
      "[Validation ] 135/208 [==================>...........] - ETA: 2:58\u001b[0m"
     ]
    },
    {
     "name": "stdout",
     "output_type": "stream",
     "text": [
      "\u001b[34m\u001b[1m\r",
      "[Validation ] 136/208 [==================>...........] - ETA: 2:55\u001b[0m"
     ]
    },
    {
     "name": "stdout",
     "output_type": "stream",
     "text": [
      "\u001b[34m\u001b[1m\r",
      "[Validation ] 137/208 [==================>...........] - ETA: 2:53\u001b[0m"
     ]
    },
    {
     "name": "stdout",
     "output_type": "stream",
     "text": [
      "\u001b[34m\u001b[1m\r",
      "[Validation ] 138/208 [==================>...........] - ETA: 2:50\u001b[0m"
     ]
    },
    {
     "name": "stdout",
     "output_type": "stream",
     "text": [
      "\u001b[34m\u001b[1m\r",
      "[Validation ] 139/208 [===================>..........] - ETA: 2:48\u001b[0m"
     ]
    },
    {
     "name": "stdout",
     "output_type": "stream",
     "text": [
      "\u001b[34m\u001b[1m\r",
      "[Validation ] 140/208 [===================>..........] - ETA: 2:46\u001b[0m"
     ]
    },
    {
     "name": "stdout",
     "output_type": "stream",
     "text": [
      "\u001b[34m\u001b[1m\r",
      "[Validation ] 141/208 [===================>..........] - ETA: 2:43\u001b[0m"
     ]
    },
    {
     "name": "stdout",
     "output_type": "stream",
     "text": [
      "\u001b[34m\u001b[1m\r",
      "[Validation ] 142/208 [===================>..........] - ETA: 2:41\u001b[0m"
     ]
    },
    {
     "name": "stdout",
     "output_type": "stream",
     "text": [
      "\u001b[34m\u001b[1m\r",
      "[Validation ] 143/208 [===================>..........] - ETA: 2:38\u001b[0m"
     ]
    },
    {
     "name": "stdout",
     "output_type": "stream",
     "text": [
      "\u001b[34m\u001b[1m\r",
      "[Validation ] 144/208 [===================>..........] - ETA: 2:36\u001b[0m"
     ]
    },
    {
     "name": "stdout",
     "output_type": "stream",
     "text": [
      "\u001b[34m\u001b[1m\r",
      "[Validation ] 145/208 [===================>..........] - ETA: 2:33\u001b[0m"
     ]
    },
    {
     "name": "stdout",
     "output_type": "stream",
     "text": [
      "\u001b[34m\u001b[1m\r",
      "[Validation ] 146/208 [====================>.........] - ETA: 2:31\u001b[0m"
     ]
    },
    {
     "name": "stdout",
     "output_type": "stream",
     "text": [
      "\u001b[34m\u001b[1m\r",
      "[Validation ] 147/208 [====================>.........] - ETA: 2:29\u001b[0m"
     ]
    },
    {
     "name": "stdout",
     "output_type": "stream",
     "text": [
      "\u001b[34m\u001b[1m\r",
      "[Validation ] 148/208 [====================>.........] - ETA: 2:26\u001b[0m"
     ]
    },
    {
     "name": "stdout",
     "output_type": "stream",
     "text": [
      "\u001b[34m\u001b[1m\r",
      "[Validation ] 149/208 [====================>.........] - ETA: 2:24\u001b[0m"
     ]
    },
    {
     "name": "stdout",
     "output_type": "stream",
     "text": [
      "\u001b[34m\u001b[1m\r",
      "[Validation ] 150/208 [====================>.........] - ETA: 2:21\u001b[0m"
     ]
    },
    {
     "name": "stdout",
     "output_type": "stream",
     "text": [
      "\u001b[34m\u001b[1m\r",
      "[Validation ] 151/208 [====================>.........] - ETA: 2:19\u001b[0m"
     ]
    },
    {
     "name": "stdout",
     "output_type": "stream",
     "text": [
      "\u001b[34m\u001b[1m\r",
      "[Validation ] 152/208 [====================>.........] - ETA: 2:16\u001b[0m"
     ]
    },
    {
     "name": "stdout",
     "output_type": "stream",
     "text": [
      "\u001b[34m\u001b[1m\r",
      "[Validation ] 153/208 [=====================>........] - ETA: 2:14\u001b[0m"
     ]
    },
    {
     "name": "stdout",
     "output_type": "stream",
     "text": [
      "\u001b[34m\u001b[1m\r",
      "[Validation ] 154/208 [=====================>........] - ETA: 2:12\u001b[0m"
     ]
    },
    {
     "name": "stdout",
     "output_type": "stream",
     "text": [
      "\u001b[34m\u001b[1m\r",
      "[Validation ] 155/208 [=====================>........] - ETA: 2:09\u001b[0m"
     ]
    },
    {
     "name": "stdout",
     "output_type": "stream",
     "text": [
      "\u001b[34m\u001b[1m\r",
      "[Validation ] 156/208 [=====================>........] - ETA: 2:07\u001b[0m"
     ]
    },
    {
     "name": "stdout",
     "output_type": "stream",
     "text": [
      "\u001b[34m\u001b[1m\r",
      "[Validation ] 157/208 [=====================>........] - ETA: 2:04\u001b[0m"
     ]
    },
    {
     "name": "stdout",
     "output_type": "stream",
     "text": [
      "\u001b[34m\u001b[1m\r",
      "[Validation ] 158/208 [=====================>........] - ETA: 2:02\u001b[0m"
     ]
    },
    {
     "name": "stdout",
     "output_type": "stream",
     "text": [
      "\u001b[34m\u001b[1m\r",
      "[Validation ] 159/208 [=====================>........] - ETA: 2:00\u001b[0m"
     ]
    },
    {
     "name": "stdout",
     "output_type": "stream",
     "text": [
      "\u001b[34m\u001b[1m\r",
      "[Validation ] 160/208 [======================>.......] - ETA: 1:57\u001b[0m"
     ]
    },
    {
     "name": "stdout",
     "output_type": "stream",
     "text": [
      "\u001b[34m\u001b[1m\r",
      "[Validation ] 161/208 [======================>.......] - ETA: 1:55\u001b[0m"
     ]
    },
    {
     "name": "stdout",
     "output_type": "stream",
     "text": [
      "\u001b[34m\u001b[1m\r",
      "[Validation ] 162/208 [======================>.......] - ETA: 1:53\u001b[0m"
     ]
    },
    {
     "name": "stdout",
     "output_type": "stream",
     "text": [
      "\u001b[34m\u001b[1m\r",
      "[Validation ] 163/208 [======================>.......] - ETA: 1:50\u001b[0m"
     ]
    },
    {
     "name": "stdout",
     "output_type": "stream",
     "text": [
      "\u001b[34m\u001b[1m\r",
      "[Validation ] 164/208 [======================>.......] - ETA: 1:48\u001b[0m"
     ]
    },
    {
     "name": "stdout",
     "output_type": "stream",
     "text": [
      "\u001b[34m\u001b[1m\r",
      "[Validation ] 165/208 [======================>.......] - ETA: 1:45\u001b[0m"
     ]
    },
    {
     "name": "stdout",
     "output_type": "stream",
     "text": [
      "\u001b[34m\u001b[1m\r",
      "[Validation ] 166/208 [======================>.......] - ETA: 1:43\u001b[0m"
     ]
    },
    {
     "name": "stdout",
     "output_type": "stream",
     "text": [
      "\u001b[34m\u001b[1m\r",
      "[Validation ] 167/208 [=======================>......] - ETA: 1:41\u001b[0m"
     ]
    },
    {
     "name": "stdout",
     "output_type": "stream",
     "text": [
      "\u001b[34m\u001b[1m\r",
      "[Validation ] 168/208 [=======================>......] - ETA: 1:38\u001b[0m"
     ]
    },
    {
     "name": "stdout",
     "output_type": "stream",
     "text": [
      "\u001b[34m\u001b[1m\r",
      "[Validation ] 169/208 [=======================>......] - ETA: 1:36\u001b[0m"
     ]
    },
    {
     "name": "stdout",
     "output_type": "stream",
     "text": [
      "\u001b[34m\u001b[1m\r",
      "[Validation ] 170/208 [=======================>......] - ETA: 1:33\u001b[0m"
     ]
    },
    {
     "name": "stdout",
     "output_type": "stream",
     "text": [
      "\u001b[34m\u001b[1m\r",
      "[Validation ] 171/208 [=======================>......] - ETA: 1:31\u001b[0m"
     ]
    },
    {
     "name": "stdout",
     "output_type": "stream",
     "text": [
      "\u001b[34m\u001b[1m\r",
      "[Validation ] 172/208 [=======================>......] - ETA: 1:29\u001b[0m"
     ]
    },
    {
     "name": "stdout",
     "output_type": "stream",
     "text": [
      "\u001b[34m\u001b[1m\r",
      "[Validation ] 173/208 [=======================>......] - ETA: 1:26\u001b[0m"
     ]
    },
    {
     "name": "stdout",
     "output_type": "stream",
     "text": [
      "\u001b[34m\u001b[1m\r",
      "[Validation ] 174/208 [========================>.....] - ETA: 1:24\u001b[0m"
     ]
    },
    {
     "name": "stdout",
     "output_type": "stream",
     "text": [
      "\u001b[34m\u001b[1m\r",
      "[Validation ] 175/208 [========================>.....] - ETA: 1:21\u001b[0m"
     ]
    },
    {
     "name": "stdout",
     "output_type": "stream",
     "text": [
      "\u001b[34m\u001b[1m\r",
      "[Validation ] 176/208 [========================>.....] - ETA: 1:19\u001b[0m"
     ]
    },
    {
     "name": "stdout",
     "output_type": "stream",
     "text": [
      "\u001b[34m\u001b[1m\r",
      "[Validation ] 177/208 [========================>.....] - ETA: 1:17\u001b[0m"
     ]
    },
    {
     "name": "stdout",
     "output_type": "stream",
     "text": [
      "\u001b[34m\u001b[1m\r",
      "[Validation ] 178/208 [========================>.....] - ETA: 1:14\u001b[0m"
     ]
    },
    {
     "name": "stdout",
     "output_type": "stream",
     "text": [
      "\u001b[34m\u001b[1m\r",
      "[Validation ] 179/208 [========================>.....] - ETA: 1:12\u001b[0m"
     ]
    },
    {
     "name": "stdout",
     "output_type": "stream",
     "text": [
      "\u001b[34m\u001b[1m\r",
      "[Validation ] 180/208 [========================>.....] - ETA: 1:09\u001b[0m"
     ]
    },
    {
     "name": "stdout",
     "output_type": "stream",
     "text": [
      "\u001b[34m\u001b[1m\r",
      "[Validation ] 181/208 [=========================>....] - ETA: 1:07\u001b[0m"
     ]
    },
    {
     "name": "stdout",
     "output_type": "stream",
     "text": [
      "\u001b[34m\u001b[1m\r",
      "[Validation ] 182/208 [=========================>....] - ETA: 1:04\u001b[0m"
     ]
    },
    {
     "name": "stdout",
     "output_type": "stream",
     "text": [
      "\u001b[34m\u001b[1m\r",
      "[Validation ] 183/208 [=========================>....] - ETA: 1:02\u001b[0m"
     ]
    },
    {
     "name": "stdout",
     "output_type": "stream",
     "text": [
      "\u001b[34m\u001b[1m\r",
      "[Validation ] 184/208 [=========================>....] - ETA: 59s\u001b[0m"
     ]
    },
    {
     "name": "stdout",
     "output_type": "stream",
     "text": [
      "\u001b[34m\u001b[1m\r",
      "[Validation ] 185/208 [=========================>....] - ETA: 57s\u001b[0m"
     ]
    },
    {
     "name": "stdout",
     "output_type": "stream",
     "text": [
      "\u001b[34m\u001b[1m\r",
      "[Validation ] 186/208 [=========================>....] - ETA: 55s\u001b[0m"
     ]
    },
    {
     "name": "stdout",
     "output_type": "stream",
     "text": [
      "\u001b[34m\u001b[1m\r",
      "[Validation ] 187/208 [=========================>....] - ETA: 52s\u001b[0m"
     ]
    },
    {
     "name": "stdout",
     "output_type": "stream",
     "text": [
      "\u001b[34m\u001b[1m\r",
      "[Validation ] 188/208 [==========================>...] - ETA: 50s\u001b[0m"
     ]
    },
    {
     "name": "stdout",
     "output_type": "stream",
     "text": [
      "\u001b[34m\u001b[1m\r",
      "[Validation ] 189/208 [==========================>...] - ETA: 47s\u001b[0m"
     ]
    },
    {
     "name": "stdout",
     "output_type": "stream",
     "text": [
      "\u001b[34m\u001b[1m\r",
      "[Validation ] 190/208 [==========================>...] - ETA: 45s\u001b[0m"
     ]
    },
    {
     "name": "stdout",
     "output_type": "stream",
     "text": [
      "\u001b[34m\u001b[1m\r",
      "[Validation ] 191/208 [==========================>...] - ETA: 42s\u001b[0m"
     ]
    },
    {
     "name": "stdout",
     "output_type": "stream",
     "text": [
      "\u001b[34m\u001b[1m\r",
      "[Validation ] 192/208 [==========================>...] - ETA: 40s\u001b[0m"
     ]
    },
    {
     "name": "stdout",
     "output_type": "stream",
     "text": [
      "\u001b[34m\u001b[1m\r",
      "[Validation ] 193/208 [==========================>...] - ETA: 37s\u001b[0m"
     ]
    },
    {
     "name": "stdout",
     "output_type": "stream",
     "text": [
      "\u001b[34m\u001b[1m\r",
      "[Validation ] 194/208 [==========================>...] - ETA: 35s\u001b[0m"
     ]
    },
    {
     "name": "stdout",
     "output_type": "stream",
     "text": [
      "\u001b[34m\u001b[1m\r",
      "[Validation ] 195/208 [===========================>..] - ETA: 32s\u001b[0m"
     ]
    },
    {
     "name": "stdout",
     "output_type": "stream",
     "text": [
      "\u001b[34m\u001b[1m\r",
      "[Validation ] 196/208 [===========================>..] - ETA: 30s\u001b[0m"
     ]
    },
    {
     "name": "stdout",
     "output_type": "stream",
     "text": [
      "\u001b[34m\u001b[1m\r",
      "[Validation ] 197/208 [===========================>..] - ETA: 27s\u001b[0m"
     ]
    },
    {
     "name": "stdout",
     "output_type": "stream",
     "text": [
      "\u001b[34m\u001b[1m\r",
      "[Validation ] 198/208 [===========================>..] - ETA: 25s\u001b[0m"
     ]
    },
    {
     "name": "stdout",
     "output_type": "stream",
     "text": [
      "\u001b[34m\u001b[1m\r",
      "[Validation ] 199/208 [===========================>..] - ETA: 22s\u001b[0m"
     ]
    },
    {
     "name": "stdout",
     "output_type": "stream",
     "text": [
      "\u001b[34m\u001b[1m\r",
      "[Validation ] 200/208 [===========================>..] - ETA: 20s\u001b[0m"
     ]
    },
    {
     "name": "stdout",
     "output_type": "stream",
     "text": [
      "\u001b[34m\u001b[1m\r",
      "[Validation ] 201/208 [===========================>..] - ETA: 17s\u001b[0m"
     ]
    },
    {
     "name": "stdout",
     "output_type": "stream",
     "text": [
      "\u001b[34m\u001b[1m\r",
      "[Validation ] 202/208 [============================>.] - ETA: 15s\u001b[0m"
     ]
    },
    {
     "name": "stdout",
     "output_type": "stream",
     "text": [
      "\u001b[34m\u001b[1m\r",
      "[Validation ] 203/208 [============================>.] - ETA: 12s\u001b[0m"
     ]
    },
    {
     "name": "stdout",
     "output_type": "stream",
     "text": [
      "\u001b[34m\u001b[1m\r",
      "[Validation ] 204/208 [============================>.] - ETA: 10s\u001b[0m"
     ]
    },
    {
     "name": "stdout",
     "output_type": "stream",
     "text": [
      "\u001b[34m\u001b[1m\r",
      "[Validation ] 205/208 [============================>.] - ETA: 7s\u001b[0m"
     ]
    },
    {
     "name": "stdout",
     "output_type": "stream",
     "text": [
      "\u001b[34m\u001b[1m\r",
      "[Validation ] 206/208 [============================>.] - ETA: 5s\u001b[0m"
     ]
    },
    {
     "name": "stdout",
     "output_type": "stream",
     "text": [
      "\u001b[34m\u001b[1m\r",
      "[Validation ] 207/208 [============================>.] - ETA: 2s\u001b[0m"
     ]
    },
    {
     "name": "stdout",
     "output_type": "stream",
     "text": [
      "\u001b[34m\u001b[1m\r",
      "[Validation ] 208/208 [==============================] 2.5s/step\u001b[0m"
     ]
    },
    {
     "name": "stdout",
     "output_type": "stream",
     "text": [
      "\u001b[34m\u001b[1m\r\n",
      " ---------- Validation Result ----------\u001b[0m\r\n"
     ]
    },
    {
     "name": "stdout",
     "output_type": "stream",
     "text": [
      "\u001b[34m\u001b[1m\r\n",
      " Epoch: 1 -  loss: 2.1375 - accuracy: 0.3061 - f1: 0.1489 - val_loss: 1.7383 - val_accuracy: 0.5344 - val_f1: 0.1960 \u001b[0m\r\n"
     ]
    },
    {
     "name": "stdout",
     "output_type": "stream",
     "text": [
      "\u001b[34m\u001b[1m \r\n",
      "Epoch 0: val_accuracy improved from -inf to 0.53437\u001b[0m\r\n",
      "\u001b[34m\u001b[1m\r\n",
      " Epoch 2 / 300\u001b[0m\r\n"
     ]
    },
    {
     "name": "stdout",
     "output_type": "stream",
     "text": [
      "\u001b[34m\u001b[1m\r",
      "[Training ] 1/1657 [..............................] - ETA: 2:41:51  loss:1.8431 - accuracy:0.4688 - f1:0.1600 - gpu_mem:7.76G - lr1:0.0016636\u001b[0m"
     ]
    },
    {
     "name": "stdout",
     "output_type": "stream",
     "text": [
      "\u001b[34m\u001b[1m\r",
      "[Training ] 2/1657 [..............................] - ETA: 2:21:47  loss:1.9203 - accuracy:0.4531 - f1:0.1995 - gpu_mem:7.76G - lr1:0.0016647\u001b[0m"
     ]
    },
    {
     "name": "stdout",
     "output_type": "stream",
     "text": [
      "\u001b[34m\u001b[1m\r",
      "[Training ] 3/1657 [..............................] - ETA: 2:14:58  loss:1.7459 - accuracy:0.5938 - f1:0.2322 - gpu_mem:7.76G - lr1:0.0016657\u001b[0m"
     ]
    },
    {
     "name": "stdout",
     "output_type": "stream",
     "text": [
      "\u001b[34m\u001b[1m\r",
      "[Training ] 4/1657 [..............................] - ETA: 2:11:30  loss:1.7790 - accuracy:0.5156 - f1:0.1758 - gpu_mem:7.76G - lr1:0.0016667\u001b[0m"
     ]
    },
    {
     "name": "stdout",
     "output_type": "stream",
     "text": [
      "\u001b[34m\u001b[1m\r",
      "[Training ] 5/1657 [..............................] - ETA: 2:09:23  loss:1.6747 - accuracy:0.5938 - f1:0.2167 - gpu_mem:7.76G - lr1:0.0016677\u001b[0m"
     ]
    },
    {
     "name": "stdout",
     "output_type": "stream",
     "text": [
      "\u001b[34m\u001b[1m\r",
      "[Training ] 6/1657 [..............................] - ETA: 2:08:02  loss:1.9397 - accuracy:0.4844 - f1:0.2111 - gpu_mem:7.76G - lr1:0.0016687\u001b[0m"
     ]
    },
    {
     "name": "stdout",
     "output_type": "stream",
     "text": [
      "\u001b[34m\u001b[1m\r",
      "[Training ] 7/1657 [..............................] - ETA: 2:06:58  loss:1.6723 - accuracy:0.5781 - f1:0.3121 - gpu_mem:7.76G - lr1:0.0016697\u001b[0m"
     ]
    },
    {
     "name": "stdout",
     "output_type": "stream",
     "text": [
      "\u001b[34m\u001b[1m\r",
      "[Training ] 8/1657 [..............................] - ETA: 2:06:10  loss:1.5637 - accuracy:0.6094 - f1:0.2268 - gpu_mem:7.76G - lr1:0.0016707\u001b[0m"
     ]
    },
    {
     "name": "stdout",
     "output_type": "stream",
     "text": [
      "\u001b[34m\u001b[1m\r",
      "[Training ] 9/1657 [..............................] - ETA: 2:05:30  loss:2.0078 - accuracy:0.4219 - f1:0.1738 - gpu_mem:7.76G - lr1:0.0016717\u001b[0m"
     ]
    },
    {
     "name": "stdout",
     "output_type": "stream",
     "text": [
      "\u001b[34m\u001b[1m\r",
      "[Training ] 10/1657 [..............................] - ETA: 2:04:58  loss:1.7054 - accuracy:0.5469 - f1:0.1858 - gpu_mem:7.76G - lr1:0.0016727\u001b[0m"
     ]
    },
    {
     "name": "stdout",
     "output_type": "stream",
     "text": [
      "\u001b[34m\u001b[1m\r",
      "[Training ] 11/1657 [..............................] - ETA: 2:04:33  loss:1.8018 - accuracy:0.5156 - f1:0.1935 - gpu_mem:7.76G - lr1:0.0016737\u001b[0m"
     ]
    },
    {
     "name": "stdout",
     "output_type": "stream",
     "text": [
      "\u001b[34m\u001b[1m\r",
      "[Training ] 12/1657 [..............................] - ETA: 2:04:10  loss:1.7750 - accuracy:0.4844 - f1:0.2524 - gpu_mem:7.76G - lr1:0.0016747\u001b[0m"
     ]
    },
    {
     "name": "stdout",
     "output_type": "stream",
     "text": [
      "\u001b[34m\u001b[1m\r",
      "[Training ] 13/1657 [..............................] - ETA: 2:03:50  loss:1.6309 - accuracy:0.6719 - f1:0.2682 - gpu_mem:7.76G - lr1:0.0016757\u001b[0m"
     ]
    },
    {
     "name": "stdout",
     "output_type": "stream",
     "text": [
      "\u001b[34m\u001b[1m\r",
      "[Training ] 14/1657 [..............................] - ETA: 2:03:32  loss:1.6242 - accuracy:0.6562 - f1:0.2917 - gpu_mem:7.76G - lr1:0.0016767\u001b[0m"
     ]
    },
    {
     "name": "stdout",
     "output_type": "stream",
     "text": [
      "\u001b[34m\u001b[1m\r",
      "[Training ] 15/1657 [..............................] - ETA: 2:03:16  loss:1.6432 - accuracy:0.6094 - f1:0.1944 - gpu_mem:7.76G - lr1:0.0016777\u001b[0m"
     ]
    },
    {
     "name": "stdout",
     "output_type": "stream",
     "text": [
      "\u001b[34m\u001b[1m\r",
      "[Training ] 16/1657 [..............................] - ETA: 2:03:01  loss:1.6744 - accuracy:0.5156 - f1:0.2039 - gpu_mem:7.76G - lr1:0.0016787\u001b[0m"
     ]
    },
    {
     "name": "stdout",
     "output_type": "stream",
     "text": [
      "\u001b[34m\u001b[1m\r",
      "[Training ] 17/1657 [..............................] - ETA: 2:02:47  loss:1.8688 - accuracy:0.4531 - f1:0.1954 - gpu_mem:7.76G - lr1:0.0016797\u001b[0m"
     ]
    },
    {
     "name": "stdout",
     "output_type": "stream",
     "text": [
      "\u001b[34m\u001b[1m\r",
      "[Training ] 18/1657 [..............................] - ETA: 2:02:35  loss:1.6426 - accuracy:0.5781 - f1:0.2490 - gpu_mem:7.76G - lr1:0.0016807\u001b[0m"
     ]
    },
    {
     "name": "stdout",
     "output_type": "stream",
     "text": [
      "\u001b[34m\u001b[1m\r",
      "[Training ] 19/1657 [..............................] - ETA: 2:02:23  loss:1.5611 - accuracy:0.7188 - f1:0.3021 - gpu_mem:7.76G - lr1:0.0016818\u001b[0m"
     ]
    },
    {
     "name": "stdout",
     "output_type": "stream",
     "text": [
      "\u001b[34m\u001b[1m\r",
      "[Training ] 20/1657 [..............................] - ETA: 2:02:12  loss:1.7651 - accuracy:0.4844 - f1:0.1708 - gpu_mem:7.76G - lr1:0.0016828\u001b[0m"
     ]
    },
    {
     "name": "stdout",
     "output_type": "stream",
     "text": [
      "\u001b[34m\u001b[1m\r",
      "[Training ] 21/1657 [..............................] - ETA: 2:02:02  loss:1.6519 - accuracy:0.5469 - f1:0.1976 - gpu_mem:7.76G - lr1:0.0016838\u001b[0m"
     ]
    },
    {
     "name": "stdout",
     "output_type": "stream",
     "text": [
      "\u001b[34m\u001b[1m\r",
      "[Training ] 22/1657 [..............................] - ETA: 2:01:52  loss:1.6661 - accuracy:0.5625 - f1:0.2223 - gpu_mem:7.76G - lr1:0.0016848\u001b[0m"
     ]
    },
    {
     "name": "stdout",
     "output_type": "stream",
     "text": [
      "\u001b[34m\u001b[1m\r",
      "[Training ] 23/1657 [..............................] - ETA: 2:01:43  loss:1.7345 - accuracy:0.5469 - f1:0.1808 - gpu_mem:7.76G - lr1:0.0016858\u001b[0m"
     ]
    },
    {
     "name": "stdout",
     "output_type": "stream",
     "text": [
      "\u001b[34m\u001b[1m\r",
      "[Training ] 24/1657 [..............................] - ETA: 2:01:34  loss:1.7571 - accuracy:0.5469 - f1:0.1867 - gpu_mem:7.76G - lr1:0.0016868\u001b[0m"
     ]
    },
    {
     "name": "stdout",
     "output_type": "stream",
     "text": [
      "\u001b[34m\u001b[1m\r",
      "[Training ] 25/1657 [..............................] - ETA: 2:01:26  loss:1.7409 - accuracy:0.5625 - f1:0.2012 - gpu_mem:7.76G - lr1:0.0016878\u001b[0m"
     ]
    },
    {
     "name": "stdout",
     "output_type": "stream",
     "text": [
      "\u001b[34m\u001b[1m\r",
      "[Training ] 26/1657 [..............................] - ETA: 2:01:17  loss:1.5180 - accuracy:0.6719 - f1:0.2249 - gpu_mem:7.76G - lr1:0.0016888\u001b[0m"
     ]
    },
    {
     "name": "stdout",
     "output_type": "stream",
     "text": [
      "\u001b[34m\u001b[1m\r",
      "[Training ] 27/1657 [..............................] - ETA: 2:01:09  loss:1.9221 - accuracy:0.3906 - f1:0.1814 - gpu_mem:7.76G - lr1:0.0016898\u001b[0m"
     ]
    },
    {
     "name": "stdout",
     "output_type": "stream",
     "text": [
      "\u001b[34m\u001b[1m\r",
      "[Training ] 28/1657 [..............................] - ETA: 2:01:02  loss:1.6850 - accuracy:0.5312 - f1:0.2074 - gpu_mem:7.76G - lr1:0.0016908\u001b[0m"
     ]
    },
    {
     "name": "stdout",
     "output_type": "stream",
     "text": [
      "\u001b[34m\u001b[1m\r",
      "[Training ] 29/1657 [..............................] - ETA: 2:00:54  loss:1.8000 - accuracy:0.5469 - f1:0.2305 - gpu_mem:7.76G - lr1:0.0016918\u001b[0m"
     ]
    },
    {
     "name": "stdout",
     "output_type": "stream",
     "text": [
      "\u001b[34m\u001b[1m\r",
      "[Training ] 30/1657 [..............................] - ETA: 2:00:47  loss:1.7322 - accuracy:0.5000 - f1:0.1805 - gpu_mem:7.76G - lr1:0.0016928\u001b[0m"
     ]
    },
    {
     "name": "stdout",
     "output_type": "stream",
     "text": [
      "\u001b[34m\u001b[1m\r",
      "[Training ] 31/1657 [..............................] - ETA: 2:00:40  loss:1.6750 - accuracy:0.5625 - f1:0.1998 - gpu_mem:7.76G - lr1:0.0016938\u001b[0m"
     ]
    },
    {
     "name": "stdout",
     "output_type": "stream",
     "text": [
      "\u001b[34m\u001b[1m\r",
      "[Training ] 32/1657 [..............................] - ETA: 2:00:33  loss:1.8928 - accuracy:0.4375 - f1:0.1583 - gpu_mem:7.76G - lr1:0.0016948\u001b[0m"
     ]
    },
    {
     "name": "stdout",
     "output_type": "stream",
     "text": [
      "\u001b[34m\u001b[1m\r",
      "[Training ] 33/1657 [..............................] - ETA: 2:00:26  loss:1.6443 - accuracy:0.5938 - f1:0.2188 - gpu_mem:7.76G - lr1:0.0016958\u001b[0m"
     ]
    },
    {
     "name": "stdout",
     "output_type": "stream",
     "text": [
      "\u001b[34m\u001b[1m\r",
      "[Training ] 34/1657 [..............................] - ETA: 2:00:19  loss:1.7682 - accuracy:0.4688 - f1:0.1803 - gpu_mem:7.76G - lr1:0.0016968\u001b[0m"
     ]
    },
    {
     "name": "stdout",
     "output_type": "stream",
     "text": [
      "\u001b[34m\u001b[1m\r",
      "[Training ] 35/1657 [..............................] - ETA: 2:00:12  loss:1.7495 - accuracy:0.5156 - f1:0.2023 - gpu_mem:7.76G - lr1:0.0016978\u001b[0m"
     ]
    },
    {
     "name": "stdout",
     "output_type": "stream",
     "text": [
      "\u001b[34m\u001b[1m\r",
      "[Training ] 36/1657 [..............................] - ETA: 2:00:08  loss:1.7275 - accuracy:0.5625 - f1:0.2110 - gpu_mem:7.76G - lr1:0.0016989\u001b[0m"
     ]
    },
    {
     "name": "stdout",
     "output_type": "stream",
     "text": [
      "\u001b[34m\u001b[1m\r",
      "[Training ] 37/1657 [..............................] - ETA: 2:00:02  loss:1.6666 - accuracy:0.5156 - f1:0.1970 - gpu_mem:7.76G - lr1:0.0016999\u001b[0m"
     ]
    },
    {
     "name": "stdout",
     "output_type": "stream",
     "text": [
      "\u001b[34m\u001b[1m\r",
      "[Training ] 38/1657 [..............................] - ETA: 1:59:56  loss:1.7281 - accuracy:0.6406 - f1:0.2152 - gpu_mem:7.76G - lr1:0.0017009\u001b[0m"
     ]
    },
    {
     "name": "stdout",
     "output_type": "stream",
     "text": [
      "\u001b[34m\u001b[1m\r",
      "[Training ] 39/1657 [..............................] - ETA: 1:59:50  loss:1.7798 - accuracy:0.5625 - f1:0.1898 - gpu_mem:7.76G - lr1:0.0017019\u001b[0m"
     ]
    },
    {
     "name": "stdout",
     "output_type": "stream",
     "text": [
      "\u001b[34m\u001b[1m\r",
      "[Training ] 40/1657 [..............................] - ETA: 1:59:43  loss:1.6128 - accuracy:0.6406 - f1:0.2027 - gpu_mem:7.76G - lr1:0.0017029\u001b[0m"
     ]
    },
    {
     "name": "stdout",
     "output_type": "stream",
     "text": [
      "\u001b[34m\u001b[1m\r",
      "[Training ] 41/1657 [..............................] - ETA: 1:59:37  loss:1.5658 - accuracy:0.5625 - f1:0.2713 - gpu_mem:7.76G - lr1:0.0017039\u001b[0m"
     ]
    },
    {
     "name": "stdout",
     "output_type": "stream",
     "text": [
      "\u001b[34m\u001b[1m\r",
      "[Training ] 42/1657 [..............................] - ETA: 1:59:32  loss:1.7250 - accuracy:0.5312 - f1:0.2368 - gpu_mem:7.76G - lr1:0.0017049\u001b[0m"
     ]
    },
    {
     "name": "stdout",
     "output_type": "stream",
     "text": [
      "\u001b[34m\u001b[1m\r",
      "[Training ] 43/1657 [..............................] - ETA: 1:59:26  loss:1.8273 - accuracy:0.5469 - f1:0.2059 - gpu_mem:7.76G - lr1:0.0017059\u001b[0m"
     ]
    },
    {
     "name": "stdout",
     "output_type": "stream",
     "text": [
      "\u001b[34m\u001b[1m\r",
      "[Training ] 44/1657 [..............................] - ETA: 1:59:20  loss:1.7143 - accuracy:0.5156 - f1:0.1709 - gpu_mem:7.76G - lr1:0.0017069\u001b[0m"
     ]
    },
    {
     "name": "stdout",
     "output_type": "stream",
     "text": [
      "\u001b[34m\u001b[1m\r",
      "[Training ] 45/1657 [..............................] - ETA: 1:59:14  loss:1.5582 - accuracy:0.5781 - f1:0.2102 - gpu_mem:7.76G - lr1:0.0017079\u001b[0m"
     ]
    },
    {
     "name": "stdout",
     "output_type": "stream",
     "text": [
      "\u001b[34m\u001b[1m\r",
      "[Training ] 46/1657 [..............................] - ETA: 1:59:09  loss:1.5535 - accuracy:0.6406 - f1:0.2319 - gpu_mem:7.76G - lr1:0.0017089\u001b[0m"
     ]
    },
    {
     "name": "stdout",
     "output_type": "stream",
     "text": [
      "\u001b[34m\u001b[1m\r",
      "[Training ] 47/1657 [..............................] - ETA: 1:59:03  loss:1.7036 - accuracy:0.5156 - f1:0.2116 - gpu_mem:7.76G - lr1:0.0017099\u001b[0m"
     ]
    },
    {
     "name": "stdout",
     "output_type": "stream",
     "text": [
      "\u001b[34m\u001b[1m\r",
      "[Training ] 48/1657 [..............................] - ETA: 1:58:57  loss:1.7249 - accuracy:0.5156 - f1:0.1724 - gpu_mem:7.76G - lr1:0.0017109\u001b[0m"
     ]
    },
    {
     "name": "stdout",
     "output_type": "stream",
     "text": [
      "\u001b[34m\u001b[1m\r",
      "[Training ] 49/1657 [..............................] - ETA: 1:58:52  loss:1.6994 - accuracy:0.5938 - f1:0.2067 - gpu_mem:7.76G - lr1:0.0017119\u001b[0m"
     ]
    },
    {
     "name": "stdout",
     "output_type": "stream",
     "text": [
      "\u001b[34m\u001b[1m\r",
      "[Training ] 50/1657 [..............................] - ETA: 1:58:46  loss:1.5941 - accuracy:0.5938 - f1:0.2695 - gpu_mem:7.76G - lr1:0.0017129\u001b[0m"
     ]
    },
    {
     "name": "stdout",
     "output_type": "stream",
     "text": [
      "\u001b[34m\u001b[1m\r",
      "[Training ] 51/1657 [..............................] - ETA: 1:58:41  loss:1.6253 - accuracy:0.6094 - f1:0.2554 - gpu_mem:7.76G - lr1:0.0017139\u001b[0m"
     ]
    },
    {
     "name": "stdout",
     "output_type": "stream",
     "text": [
      "\u001b[34m\u001b[1m\r",
      "[Training ] 52/1657 [..............................] - ETA: 1:58:36  loss:1.6867 - accuracy:0.6094 - f1:0.2392 - gpu_mem:7.76G - lr1:0.0017149\u001b[0m"
     ]
    },
    {
     "name": "stdout",
     "output_type": "stream",
     "text": [
      "\u001b[34m\u001b[1m\r",
      "[Training ] 53/1657 [..............................] - ETA: 1:58:30  loss:1.5416 - accuracy:0.6719 - f1:0.3361 - gpu_mem:7.76G - lr1:0.0017160\u001b[0m"
     ]
    },
    {
     "name": "stdout",
     "output_type": "stream",
     "text": [
      "\u001b[34m\u001b[1m\r",
      "[Training ] 54/1657 [..............................] - ETA: 1:58:25  loss:1.6258 - accuracy:0.6562 - f1:0.2583 - gpu_mem:7.76G - lr1:0.0017170\u001b[0m"
     ]
    },
    {
     "name": "stdout",
     "output_type": "stream",
     "text": [
      "\u001b[34m\u001b[1m\r",
      "[Training ] 55/1657 [..............................] - ETA: 1:58:20  loss:1.7307 - accuracy:0.5312 - f1:0.2091 - gpu_mem:7.76G - lr1:0.0017180\u001b[0m"
     ]
    },
    {
     "name": "stdout",
     "output_type": "stream",
     "text": [
      "\u001b[34m\u001b[1m\r",
      "[Training ] 56/1657 [>.............................] - ETA: 1:58:15  loss:1.5219 - accuracy:0.6250 - f1:0.2460 - gpu_mem:7.76G - lr1:0.0017190\u001b[0m"
     ]
    },
    {
     "name": "stdout",
     "output_type": "stream",
     "text": [
      "\u001b[34m\u001b[1m\r",
      "[Training ] 57/1657 [>.............................] - ETA: 1:58:09  loss:1.8287 - accuracy:0.5000 - f1:0.1617 - gpu_mem:7.76G - lr1:0.0017200\u001b[0m"
     ]
    },
    {
     "name": "stdout",
     "output_type": "stream",
     "text": [
      "\u001b[34m\u001b[1m\r",
      "[Training ] 58/1657 [>.............................] - ETA: 1:58:04  loss:1.8321 - accuracy:0.5469 - f1:0.1959 - gpu_mem:7.76G - lr1:0.0017210\u001b[0m"
     ]
    },
    {
     "name": "stdout",
     "output_type": "stream",
     "text": [
      "\u001b[34m\u001b[1m\r",
      "[Training ] 59/1657 [>.............................] - ETA: 1:57:59  loss:1.7613 - accuracy:0.5000 - f1:0.1882 - gpu_mem:7.76G - lr1:0.0017220\u001b[0m"
     ]
    },
    {
     "name": "stdout",
     "output_type": "stream",
     "text": [
      "\u001b[34m\u001b[1m\r",
      "[Training ] 60/1657 [>.............................] - ETA: 1:57:54  loss:1.7543 - accuracy:0.5781 - f1:0.2393 - gpu_mem:7.76G - lr1:0.0017230\u001b[0m"
     ]
    },
    {
     "name": "stdout",
     "output_type": "stream",
     "text": [
      "\u001b[34m\u001b[1m\r",
      "[Training ] 61/1657 [>.............................] - ETA: 1:57:49  loss:1.6855 - accuracy:0.6406 - f1:0.2723 - gpu_mem:7.76G - lr1:0.0017240\u001b[0m"
     ]
    },
    {
     "name": "stdout",
     "output_type": "stream",
     "text": [
      "\u001b[34m\u001b[1m\r",
      "[Training ] 62/1657 [>.............................] - ETA: 1:57:44  loss:1.7081 - accuracy:0.5781 - f1:0.2084 - gpu_mem:7.76G - lr1:0.0017250\u001b[0m"
     ]
    },
    {
     "name": "stdout",
     "output_type": "stream",
     "text": [
      "\u001b[34m\u001b[1m\r",
      "[Training ] 63/1657 [>.............................] - ETA: 1:57:38  loss:1.5196 - accuracy:0.6406 - f1:0.3598 - gpu_mem:7.76G - lr1:0.0017260\u001b[0m"
     ]
    },
    {
     "name": "stdout",
     "output_type": "stream",
     "text": [
      "\u001b[34m\u001b[1m\r",
      "[Training ] 64/1657 [>.............................] - ETA: 1:57:33  loss:1.5822 - accuracy:0.5938 - f1:0.1939 - gpu_mem:7.76G - lr1:0.0017270\u001b[0m"
     ]
    },
    {
     "name": "stdout",
     "output_type": "stream",
     "text": [
      "\u001b[34m\u001b[1m\r",
      "[Training ] 65/1657 [>.............................] - ETA: 1:57:28  loss:1.7572 - accuracy:0.5156 - f1:0.1705 - gpu_mem:7.76G - lr1:0.0017280\u001b[0m"
     ]
    },
    {
     "name": "stdout",
     "output_type": "stream",
     "text": [
      "\u001b[34m\u001b[1m\r",
      "[Training ] 66/1657 [>.............................] - ETA: 1:57:23  loss:1.7022 - accuracy:0.4531 - f1:0.1863 - gpu_mem:7.76G - lr1:0.0017290\u001b[0m"
     ]
    },
    {
     "name": "stdout",
     "output_type": "stream",
     "text": [
      "\u001b[34m\u001b[1m\r",
      "[Training ] 67/1657 [>.............................] - ETA: 1:57:18  loss:1.8891 - accuracy:0.4844 - f1:0.1663 - gpu_mem:7.76G - lr1:0.0017300\u001b[0m"
     ]
    },
    {
     "name": "stdout",
     "output_type": "stream",
     "text": [
      "\u001b[34m\u001b[1m\r",
      "[Training ] 68/1657 [>.............................] - ETA: 1:57:13  loss:1.7584 - accuracy:0.5469 - f1:0.1932 - gpu_mem:7.76G - lr1:0.0017310\u001b[0m"
     ]
    },
    {
     "name": "stdout",
     "output_type": "stream",
     "text": [
      "\u001b[34m\u001b[1m\r",
      "[Training ] 69/1657 [>.............................] - ETA: 1:57:08  loss:1.6754 - accuracy:0.5625 - f1:0.2440 - gpu_mem:7.76G - lr1:0.0017320\u001b[0m"
     ]
    },
    {
     "name": "stdout",
     "output_type": "stream",
     "text": [
      "\u001b[34m\u001b[1m\r",
      "[Training ] 70/1657 [>.............................] - ETA: 1:57:03  loss:1.6701 - accuracy:0.5625 - f1:0.3308 - gpu_mem:7.76G - lr1:0.0017331\u001b[0m"
     ]
    },
    {
     "name": "stdout",
     "output_type": "stream",
     "text": [
      "\u001b[34m\u001b[1m\r",
      "[Training ] 71/1657 [>.............................] - ETA: 1:56:58  loss:1.4908 - accuracy:0.6562 - f1:0.2487 - gpu_mem:7.76G - lr1:0.0017341\u001b[0m"
     ]
    },
    {
     "name": "stdout",
     "output_type": "stream",
     "text": [
      "\u001b[34m\u001b[1m\r",
      "[Training ] 72/1657 [>.............................] - ETA: 1:56:54  loss:1.6740 - accuracy:0.5469 - f1:0.1996 - gpu_mem:7.76G - lr1:0.0017351\u001b[0m"
     ]
    },
    {
     "name": "stdout",
     "output_type": "stream",
     "text": [
      "\u001b[34m\u001b[1m\r",
      "[Training ] 73/1657 [>.............................] - ETA: 1:56:49  loss:1.6649 - accuracy:0.5625 - f1:0.2241 - gpu_mem:7.76G - lr1:0.0017361\u001b[0m"
     ]
    },
    {
     "name": "stdout",
     "output_type": "stream",
     "text": [
      "\u001b[34m\u001b[1m\r",
      "[Training ] 74/1657 [>.............................] - ETA: 1:56:44  loss:1.7324 - accuracy:0.5000 - f1:0.1714 - gpu_mem:7.76G - lr1:0.0017371\u001b[0m"
     ]
    },
    {
     "name": "stdout",
     "output_type": "stream",
     "text": [
      "\u001b[34m\u001b[1m\r",
      "[Training ] 75/1657 [>.............................] - ETA: 1:56:39  loss:1.5066 - accuracy:0.6250 - f1:0.2727 - gpu_mem:7.76G - lr1:0.0017381\u001b[0m"
     ]
    },
    {
     "name": "stdout",
     "output_type": "stream",
     "text": [
      "\u001b[34m\u001b[1m\r",
      "[Training ] 76/1657 [>.............................] - ETA: 1:56:35  loss:1.6689 - accuracy:0.5625 - f1:0.1833 - gpu_mem:7.76G - lr1:0.0017391\u001b[0m"
     ]
    },
    {
     "name": "stdout",
     "output_type": "stream",
     "text": [
      "\u001b[34m\u001b[1m\r",
      "[Training ] 77/1657 [>.............................] - ETA: 1:56:30  loss:1.6294 - accuracy:0.5781 - f1:0.2015 - gpu_mem:7.76G - lr1:0.0017401\u001b[0m"
     ]
    },
    {
     "name": "stdout",
     "output_type": "stream",
     "text": [
      "\u001b[34m\u001b[1m\r",
      "[Training ] 78/1657 [>.............................] - ETA: 1:56:25  loss:1.5861 - accuracy:0.5781 - f1:0.2393 - gpu_mem:7.76G - lr1:0.0017411\u001b[0m"
     ]
    },
    {
     "name": "stdout",
     "output_type": "stream",
     "text": [
      "\u001b[34m\u001b[1m\r",
      "[Training ] 79/1657 [>.............................] - ETA: 1:56:20  loss:1.6651 - accuracy:0.5938 - f1:0.2146 - gpu_mem:7.76G - lr1:0.0017421\u001b[0m"
     ]
    },
    {
     "name": "stdout",
     "output_type": "stream",
     "text": [
      "\u001b[34m\u001b[1m\r",
      "[Training ] 80/1657 [>.............................] - ETA: 1:56:16  loss:1.7745 - accuracy:0.4844 - f1:0.1900 - gpu_mem:7.76G - lr1:0.0017431\u001b[0m"
     ]
    },
    {
     "name": "stdout",
     "output_type": "stream",
     "text": [
      "\u001b[34m\u001b[1m\r",
      "[Training ] 81/1657 [>.............................] - ETA: 1:56:11  loss:1.7605 - accuracy:0.5469 - f1:0.2259 - gpu_mem:7.76G - lr1:0.0017441\u001b[0m"
     ]
    },
    {
     "name": "stdout",
     "output_type": "stream",
     "text": [
      "\u001b[34m\u001b[1m\r",
      "[Training ] 82/1657 [>.............................] - ETA: 1:56:06  loss:1.8411 - accuracy:0.4531 - f1:0.1687 - gpu_mem:7.76G - lr1:0.0017451\u001b[0m"
     ]
    },
    {
     "name": "stdout",
     "output_type": "stream",
     "text": [
      "\u001b[34m\u001b[1m\r",
      "[Training ] 83/1657 [>.............................] - ETA: 1:56:01  loss:1.7580 - accuracy:0.4688 - f1:0.1740 - gpu_mem:7.76G - lr1:0.0017461\u001b[0m"
     ]
    },
    {
     "name": "stdout",
     "output_type": "stream",
     "text": [
      "\u001b[34m\u001b[1m\r",
      "[Training ] 84/1657 [>.............................] - ETA: 1:55:56  loss:1.6406 - accuracy:0.5625 - f1:0.2341 - gpu_mem:7.76G - lr1:0.0017471\u001b[0m"
     ]
    },
    {
     "name": "stdout",
     "output_type": "stream",
     "text": [
      "\u001b[34m\u001b[1m\r",
      "[Training ] 85/1657 [>.............................] - ETA: 1:55:52  loss:1.4737 - accuracy:0.6719 - f1:0.2344 - gpu_mem:7.76G - lr1:0.0017481\u001b[0m"
     ]
    },
    {
     "name": "stdout",
     "output_type": "stream",
     "text": [
      "\u001b[34m\u001b[1m\r",
      "[Training ] 86/1657 [>.............................] - ETA: 1:55:47  loss:1.7386 - accuracy:0.5625 - f1:0.1869 - gpu_mem:7.76G - lr1:0.0017491\u001b[0m"
     ]
    },
    {
     "name": "stdout",
     "output_type": "stream",
     "text": [
      "\u001b[34m\u001b[1m\r",
      "[Training ] 87/1657 [>.............................] - ETA: 1:55:42  loss:1.6868 - accuracy:0.5156 - f1:0.2107 - gpu_mem:7.76G - lr1:0.0017502\u001b[0m"
     ]
    },
    {
     "name": "stdout",
     "output_type": "stream",
     "text": [
      "\u001b[34m\u001b[1m\r",
      "[Training ] 88/1657 [>.............................] - ETA: 1:55:38  loss:1.9108 - accuracy:0.5000 - f1:0.1879 - gpu_mem:7.76G - lr1:0.0017512\u001b[0m"
     ]
    },
    {
     "name": "stdout",
     "output_type": "stream",
     "text": [
      "\u001b[34m\u001b[1m\r",
      "[Training ] 89/1657 [>.............................] - ETA: 1:55:33  loss:1.7693 - accuracy:0.5312 - f1:0.2360 - gpu_mem:7.76G - lr1:0.0017522\u001b[0m"
     ]
    },
    {
     "name": "stdout",
     "output_type": "stream",
     "text": [
      "\u001b[34m\u001b[1m\r",
      "[Training ] 90/1657 [>.............................] - ETA: 1:55:28  loss:1.7662 - accuracy:0.4844 - f1:0.1916 - gpu_mem:7.76G - lr1:0.0017532\u001b[0m"
     ]
    },
    {
     "name": "stdout",
     "output_type": "stream",
     "text": [
      "\u001b[34m\u001b[1m\r",
      "[Training ] 91/1657 [>.............................] - ETA: 1:55:23  loss:1.7181 - accuracy:0.5469 - f1:0.2076 - gpu_mem:7.76G - lr1:0.0017542\u001b[0m"
     ]
    },
    {
     "name": "stdout",
     "output_type": "stream",
     "text": [
      "\u001b[34m\u001b[1m\r",
      "[Training ] 92/1657 [>.............................] - ETA: 1:55:19  loss:1.7553 - accuracy:0.5469 - f1:0.2076 - gpu_mem:7.76G - lr1:0.0017552\u001b[0m"
     ]
    },
    {
     "name": "stdout",
     "output_type": "stream",
     "text": [
      "\u001b[34m\u001b[1m\r",
      "[Training ] 93/1657 [>.............................] - ETA: 1:55:14  loss:1.6622 - accuracy:0.5469 - f1:0.2406 - gpu_mem:7.76G - lr1:0.0017562\u001b[0m"
     ]
    },
    {
     "name": "stdout",
     "output_type": "stream",
     "text": [
      "\u001b[34m\u001b[1m\r",
      "[Training ] 94/1657 [>.............................] - ETA: 1:55:09  loss:1.7029 - accuracy:0.6094 - f1:0.2410 - gpu_mem:7.76G - lr1:0.0017572\u001b[0m"
     ]
    },
    {
     "name": "stdout",
     "output_type": "stream",
     "text": [
      "\u001b[34m\u001b[1m\r",
      "[Training ] 95/1657 [>.............................] - ETA: 1:55:04  loss:1.5639 - accuracy:0.6562 - f1:0.2843 - gpu_mem:7.76G - lr1:0.0017582\u001b[0m"
     ]
    },
    {
     "name": "stdout",
     "output_type": "stream",
     "text": [
      "\u001b[34m\u001b[1m\r",
      "[Training ] 96/1657 [>.............................] - ETA: 1:55:00  loss:1.6018 - accuracy:0.6094 - f1:0.2193 - gpu_mem:7.76G - lr1:0.0017592\u001b[0m"
     ]
    },
    {
     "name": "stdout",
     "output_type": "stream",
     "text": [
      "\u001b[34m\u001b[1m\r",
      "[Training ] 97/1657 [>.............................] - ETA: 1:54:55  loss:1.4892 - accuracy:0.6250 - f1:0.1929 - gpu_mem:7.76G - lr1:0.0017602\u001b[0m"
     ]
    },
    {
     "name": "stdout",
     "output_type": "stream",
     "text": [
      "\u001b[34m\u001b[1m\r",
      "[Training ] 98/1657 [>.............................] - ETA: 1:54:50  loss:1.7739 - accuracy:0.4688 - f1:0.1915 - gpu_mem:7.76G - lr1:0.0017612\u001b[0m"
     ]
    },
    {
     "name": "stdout",
     "output_type": "stream",
     "text": [
      "\u001b[34m\u001b[1m\r",
      "[Training ] 99/1657 [>.............................] - ETA: 1:54:46  loss:1.6937 - accuracy:0.5156 - f1:0.1968 - gpu_mem:7.76G - lr1:0.0017622\u001b[0m"
     ]
    },
    {
     "name": "stdout",
     "output_type": "stream",
     "text": [
      "\u001b[34m\u001b[1m\r",
      "[Training ] 100/1657 [>.............................] - ETA: 1:54:41  loss:1.5787 - accuracy:0.6250 - f1:0.2146 - gpu_mem:7.76G - lr1:0.0017632\u001b[0m"
     ]
    },
    {
     "name": "stdout",
     "output_type": "stream",
     "text": [
      "\u001b[34m\u001b[1m\r",
      "[Training ] 101/1657 [>.............................] - ETA: 1:54:36  loss:1.7139 - accuracy:0.5000 - f1:0.2931 - gpu_mem:7.76G - lr1:0.0017642\u001b[0m"
     ]
    },
    {
     "name": "stdout",
     "output_type": "stream",
     "text": [
      "\u001b[34m\u001b[1m\r",
      "[Training ] 102/1657 [>.............................] - ETA: 1:54:32  loss:1.6395 - accuracy:0.6094 - f1:0.2462 - gpu_mem:7.76G - lr1:0.0017652\u001b[0m"
     ]
    },
    {
     "name": "stdout",
     "output_type": "stream",
     "text": [
      "\u001b[34m\u001b[1m\r",
      "[Training ] 103/1657 [>.............................] - ETA: 1:54:27  loss:1.5129 - accuracy:0.6250 - f1:0.2100 - gpu_mem:7.76G - lr1:0.0017662\u001b[0m"
     ]
    },
    {
     "name": "stdout",
     "output_type": "stream",
     "text": [
      "\u001b[34m\u001b[1m\r",
      "[Training ] 104/1657 [>.............................] - ETA: 1:54:22  loss:1.6203 - accuracy:0.5938 - f1:0.2753 - gpu_mem:7.76G - lr1:0.0017673\u001b[0m"
     ]
    },
    {
     "name": "stdout",
     "output_type": "stream",
     "text": [
      "\u001b[34m\u001b[1m\r",
      "[Training ] 105/1657 [>.............................] - ETA: 1:54:18  loss:1.5981 - accuracy:0.6094 - f1:0.2150 - gpu_mem:7.76G - lr1:0.0017683\u001b[0m"
     ]
    },
    {
     "name": "stdout",
     "output_type": "stream",
     "text": [
      "\u001b[34m\u001b[1m\r",
      "[Training ] 106/1657 [>.............................] - ETA: 1:54:13  loss:1.7184 - accuracy:0.5156 - f1:0.1825 - gpu_mem:7.76G - lr1:0.0017693\u001b[0m"
     ]
    },
    {
     "name": "stdout",
     "output_type": "stream",
     "text": [
      "\u001b[34m\u001b[1m\r",
      "[Training ] 107/1657 [>.............................] - ETA: 1:54:09  loss:1.5905 - accuracy:0.6406 - f1:0.2107 - gpu_mem:7.76G - lr1:0.0017703\u001b[0m"
     ]
    },
    {
     "name": "stdout",
     "output_type": "stream",
     "text": [
      "\u001b[34m\u001b[1m\r",
      "[Training ] 108/1657 [>.............................] - ETA: 1:54:04  loss:1.7734 - accuracy:0.5469 - f1:0.1991 - gpu_mem:7.76G - lr1:0.0017713\u001b[0m"
     ]
    },
    {
     "name": "stdout",
     "output_type": "stream",
     "text": [
      "\u001b[34m\u001b[1m\r",
      "[Training ] 109/1657 [>.............................] - ETA: 1:53:59  loss:1.5183 - accuracy:0.7500 - f1:0.3359 - gpu_mem:7.76G - lr1:0.0017723\u001b[0m"
     ]
    },
    {
     "name": "stdout",
     "output_type": "stream",
     "text": [
      "\u001b[34m\u001b[1m\r",
      "[Training ] 110/1657 [>.............................] - ETA: 1:53:55  loss:1.6981 - accuracy:0.5000 - f1:0.1767 - gpu_mem:7.76G - lr1:0.0017733\u001b[0m"
     ]
    },
    {
     "name": "stdout",
     "output_type": "stream",
     "text": [
      "\u001b[34m\u001b[1m\r",
      "[Training ] 111/1657 [=>............................] - ETA: 1:53:50  loss:1.6745 - accuracy:0.5938 - f1:0.2121 - gpu_mem:7.76G - lr1:0.0017743\u001b[0m"
     ]
    },
    {
     "name": "stdout",
     "output_type": "stream",
     "text": [
      "\u001b[34m\u001b[1m\r",
      "[Training ] 112/1657 [=>............................] - ETA: 1:53:45  loss:1.6935 - accuracy:0.5312 - f1:0.2106 - gpu_mem:7.76G - lr1:0.0017753\u001b[0m"
     ]
    },
    {
     "name": "stdout",
     "output_type": "stream",
     "text": [
      "\u001b[34m\u001b[1m\r",
      "[Training ] 113/1657 [=>............................] - ETA: 1:53:41  loss:1.6588 - accuracy:0.6094 - f1:0.2267 - gpu_mem:7.76G - lr1:0.0017763\u001b[0m"
     ]
    },
    {
     "name": "stdout",
     "output_type": "stream",
     "text": [
      "\u001b[34m\u001b[1m\r",
      "[Training ] 114/1657 [=>............................] - ETA: 1:53:36  loss:1.4914 - accuracy:0.6094 - f1:0.2362 - gpu_mem:7.76G - lr1:0.0017773\u001b[0m"
     ]
    },
    {
     "name": "stdout",
     "output_type": "stream",
     "text": [
      "\u001b[34m\u001b[1m\r",
      "[Training ] 115/1657 [=>............................] - ETA: 1:53:32  loss:1.6313 - accuracy:0.6094 - f1:0.2394 - gpu_mem:7.76G - lr1:0.0017783\u001b[0m"
     ]
    },
    {
     "name": "stdout",
     "output_type": "stream",
     "text": [
      "\u001b[34m\u001b[1m\r",
      "[Training ] 116/1657 [=>............................] - ETA: 1:53:27  loss:1.6195 - accuracy:0.6250 - f1:0.1945 - gpu_mem:7.76G - lr1:0.0017793\u001b[0m"
     ]
    },
    {
     "name": "stdout",
     "output_type": "stream",
     "text": [
      "\u001b[34m\u001b[1m\r",
      "[Training ] 117/1657 [=>............................] - ETA: 1:53:23  loss:1.4788 - accuracy:0.6562 - f1:0.2744 - gpu_mem:7.76G - lr1:0.0017803\u001b[0m"
     ]
    },
    {
     "name": "stdout",
     "output_type": "stream",
     "text": [
      "\u001b[34m\u001b[1m\r",
      "[Training ] 118/1657 [=>............................] - ETA: 1:53:18  loss:1.8606 - accuracy:0.5312 - f1:0.1987 - gpu_mem:7.76G - lr1:0.0017813\u001b[0m"
     ]
    },
    {
     "name": "stdout",
     "output_type": "stream",
     "text": [
      "\u001b[34m\u001b[1m\r",
      "[Training ] 119/1657 [=>............................] - ETA: 1:53:13  loss:1.6742 - accuracy:0.6250 - f1:0.2036 - gpu_mem:7.76G - lr1:0.0017823\u001b[0m"
     ]
    },
    {
     "name": "stdout",
     "output_type": "stream",
     "text": [
      "\u001b[34m\u001b[1m\r",
      "[Training ] 120/1657 [=>............................] - ETA: 1:53:09  loss:1.5891 - accuracy:0.6094 - f1:0.1896 - gpu_mem:7.76G - lr1:0.0017833\u001b[0m"
     ]
    },
    {
     "name": "stdout",
     "output_type": "stream",
     "text": [
      "\u001b[34m\u001b[1m\r",
      "[Training ] 121/1657 [=>............................] - ETA: 1:53:04  loss:1.6070 - accuracy:0.6250 - f1:0.2382 - gpu_mem:7.76G - lr1:0.0017843\u001b[0m"
     ]
    },
    {
     "name": "stdout",
     "output_type": "stream",
     "text": [
      "\u001b[34m\u001b[1m\r",
      "[Training ] 122/1657 [=>............................] - ETA: 1:53:00  loss:1.6086 - accuracy:0.6250 - f1:0.2157 - gpu_mem:7.76G - lr1:0.0017854\u001b[0m"
     ]
    },
    {
     "name": "stdout",
     "output_type": "stream",
     "text": [
      "\u001b[34m\u001b[1m\r",
      "[Training ] 123/1657 [=>............................] - ETA: 1:52:55  loss:1.5690 - accuracy:0.6094 - f1:0.2124 - gpu_mem:7.76G - lr1:0.0017864\u001b[0m"
     ]
    },
    {
     "name": "stdout",
     "output_type": "stream",
     "text": [
      "\u001b[34m\u001b[1m\r",
      "[Training ] 124/1657 [=>............................] - ETA: 1:52:51  loss:1.5823 - accuracy:0.5781 - f1:0.2464 - gpu_mem:7.76G - lr1:0.0017874\u001b[0m"
     ]
    },
    {
     "name": "stdout",
     "output_type": "stream",
     "text": [
      "\u001b[34m\u001b[1m\r",
      "[Training ] 125/1657 [=>............................] - ETA: 1:52:46  loss:1.8140 - accuracy:0.4375 - f1:0.1648 - gpu_mem:7.76G - lr1:0.0017884\u001b[0m"
     ]
    },
    {
     "name": "stdout",
     "output_type": "stream",
     "text": [
      "\u001b[34m\u001b[1m\r",
      "[Training ] 126/1657 [=>............................] - ETA: 1:52:41  loss:1.5648 - accuracy:0.6875 - f1:0.3263 - gpu_mem:7.76G - lr1:0.0017894\u001b[0m"
     ]
    },
    {
     "name": "stdout",
     "output_type": "stream",
     "text": [
      "\u001b[34m\u001b[1m\r",
      "[Training ] 127/1657 [=>............................] - ETA: 1:52:37  loss:1.7035 - accuracy:0.5469 - f1:0.1878 - gpu_mem:7.76G - lr1:0.0017904\u001b[0m"
     ]
    },
    {
     "name": "stdout",
     "output_type": "stream",
     "text": [
      "\u001b[34m\u001b[1m\r",
      "[Training ] 128/1657 [=>............................] - ETA: 1:52:32  loss:1.7850 - accuracy:0.4531 - f1:0.1577 - gpu_mem:7.76G - lr1:0.0017914\u001b[0m"
     ]
    },
    {
     "name": "stdout",
     "output_type": "stream",
     "text": [
      "\u001b[34m\u001b[1m\r",
      "[Training ] 129/1657 [=>............................] - ETA: 1:52:28  loss:1.8889 - accuracy:0.4375 - f1:0.1799 - gpu_mem:7.76G - lr1:0.0017924\u001b[0m"
     ]
    },
    {
     "name": "stdout",
     "output_type": "stream",
     "text": [
      "\u001b[34m\u001b[1m\r",
      "[Training ] 130/1657 [=>............................] - ETA: 1:52:23  loss:1.6386 - accuracy:0.6250 - f1:0.2255 - gpu_mem:7.76G - lr1:0.0017934\u001b[0m"
     ]
    },
    {
     "name": "stdout",
     "output_type": "stream",
     "text": [
      "\u001b[34m\u001b[1m\r",
      "[Training ] 131/1657 [=>............................] - ETA: 1:52:19  loss:1.7606 - accuracy:0.5000 - f1:0.2248 - gpu_mem:7.76G - lr1:0.0017944\u001b[0m"
     ]
    },
    {
     "name": "stdout",
     "output_type": "stream",
     "text": [
      "\u001b[34m\u001b[1m\r",
      "[Training ] 132/1657 [=>............................] - ETA: 1:52:14  loss:1.5217 - accuracy:0.6250 - f1:0.2142 - gpu_mem:7.76G - lr1:0.0017954\u001b[0m"
     ]
    },
    {
     "name": "stdout",
     "output_type": "stream",
     "text": [
      "\u001b[34m\u001b[1m\r",
      "[Training ] 133/1657 [=>............................] - ETA: 1:52:09  loss:1.5371 - accuracy:0.5781 - f1:0.2558 - gpu_mem:7.76G - lr1:0.0017964\u001b[0m"
     ]
    },
    {
     "name": "stdout",
     "output_type": "stream",
     "text": [
      "\u001b[34m\u001b[1m\r",
      "[Training ] 134/1657 [=>............................] - ETA: 1:52:05  loss:1.5598 - accuracy:0.6406 - f1:0.2542 - gpu_mem:7.76G - lr1:0.0017974\u001b[0m"
     ]
    },
    {
     "name": "stdout",
     "output_type": "stream",
     "text": [
      "\u001b[34m\u001b[1m\r",
      "[Training ] 135/1657 [=>............................] - ETA: 1:52:00  loss:1.6246 - accuracy:0.6406 - f1:0.2523 - gpu_mem:7.76G - lr1:0.0017984\u001b[0m"
     ]
    },
    {
     "name": "stdout",
     "output_type": "stream",
     "text": [
      "\u001b[34m\u001b[1m\r",
      "[Training ] 136/1657 [=>............................] - ETA: 1:51:56  loss:1.6907 - accuracy:0.5312 - f1:0.1933 - gpu_mem:7.76G - lr1:0.0017994\u001b[0m"
     ]
    },
    {
     "name": "stdout",
     "output_type": "stream",
     "text": [
      "\u001b[34m\u001b[1m\r",
      "[Training ] 137/1657 [=>............................] - ETA: 1:51:51  loss:1.5264 - accuracy:0.6562 - f1:0.2251 - gpu_mem:7.76G - lr1:0.0018004\u001b[0m"
     ]
    },
    {
     "name": "stdout",
     "output_type": "stream",
     "text": [
      "\u001b[34m\u001b[1m\r",
      "[Training ] 138/1657 [=>............................] - ETA: 1:51:47  loss:1.5427 - accuracy:0.6562 - f1:0.2904 - gpu_mem:7.76G - lr1:0.0018014\u001b[0m"
     ]
    },
    {
     "name": "stdout",
     "output_type": "stream",
     "text": [
      "\u001b[34m\u001b[1m\r",
      "[Training ] 139/1657 [=>............................] - ETA: 1:51:42  loss:1.5993 - accuracy:0.6406 - f1:0.2251 - gpu_mem:7.76G - lr1:0.0018025\u001b[0m"
     ]
    },
    {
     "name": "stdout",
     "output_type": "stream",
     "text": [
      "\u001b[34m\u001b[1m\r",
      "[Training ] 140/1657 [=>............................] - ETA: 1:51:38  loss:1.7465 - accuracy:0.5469 - f1:0.1818 - gpu_mem:7.76G - lr1:0.0018035\u001b[0m"
     ]
    },
    {
     "name": "stdout",
     "output_type": "stream",
     "text": [
      "\u001b[34m\u001b[1m\r",
      "[Training ] 141/1657 [=>............................] - ETA: 1:51:33  loss:1.5084 - accuracy:0.6562 - f1:0.2237 - gpu_mem:7.76G - lr1:0.0018045\u001b[0m"
     ]
    },
    {
     "name": "stdout",
     "output_type": "stream",
     "text": [
      "\u001b[34m\u001b[1m\r",
      "[Training ] 142/1657 [=>............................] - ETA: 1:51:28  loss:1.7609 - accuracy:0.4375 - f1:0.1621 - gpu_mem:7.76G - lr1:0.0018055\u001b[0m"
     ]
    },
    {
     "name": "stdout",
     "output_type": "stream",
     "text": [
      "\u001b[34m\u001b[1m\r",
      "[Training ] 143/1657 [=>............................] - ETA: 1:51:24  loss:1.5710 - accuracy:0.5781 - f1:0.1909 - gpu_mem:7.76G - lr1:0.0018065\u001b[0m"
     ]
    },
    {
     "name": "stdout",
     "output_type": "stream",
     "text": [
      "\u001b[34m\u001b[1m\r",
      "[Training ] 144/1657 [=>............................] - ETA: 1:51:19  loss:1.6293 - accuracy:0.5156 - f1:0.1660 - gpu_mem:7.76G - lr1:0.0018075\u001b[0m"
     ]
    },
    {
     "name": "stdout",
     "output_type": "stream",
     "text": [
      "\u001b[34m\u001b[1m\r",
      "[Training ] 145/1657 [=>............................] - ETA: 1:51:15  loss:1.4610 - accuracy:0.6875 - f1:0.2342 - gpu_mem:7.76G - lr1:0.0018085\u001b[0m"
     ]
    },
    {
     "name": "stdout",
     "output_type": "stream",
     "text": [
      "\u001b[34m\u001b[1m\r",
      "[Training ] 146/1657 [=>............................] - ETA: 1:51:10  loss:1.6505 - accuracy:0.6094 - f1:0.2717 - gpu_mem:7.76G - lr1:0.0018095\u001b[0m"
     ]
    },
    {
     "name": "stdout",
     "output_type": "stream",
     "text": [
      "\u001b[34m\u001b[1m\r",
      "[Training ] 147/1657 [=>............................] - ETA: 1:51:06  loss:1.5762 - accuracy:0.5781 - f1:0.1835 - gpu_mem:7.76G - lr1:0.0018105\u001b[0m"
     ]
    },
    {
     "name": "stdout",
     "output_type": "stream",
     "text": [
      "\u001b[34m\u001b[1m\r",
      "[Training ] 148/1657 [=>............................] - ETA: 1:51:01  loss:1.5740 - accuracy:0.5938 - f1:0.2057 - gpu_mem:7.76G - lr1:0.0018115\u001b[0m"
     ]
    },
    {
     "name": "stdout",
     "output_type": "stream",
     "text": [
      "\u001b[34m\u001b[1m\r",
      "[Training ] 149/1657 [=>............................] - ETA: 1:50:57  loss:1.7017 - accuracy:0.5938 - f1:0.2146 - gpu_mem:7.76G - lr1:0.0018125\u001b[0m"
     ]
    },
    {
     "name": "stdout",
     "output_type": "stream",
     "text": [
      "\u001b[34m\u001b[1m\r",
      "[Training ] 150/1657 [=>............................] - ETA: 1:50:52  loss:1.5715 - accuracy:0.5781 - f1:0.2346 - gpu_mem:7.76G - lr1:0.0018135\u001b[0m"
     ]
    },
    {
     "name": "stdout",
     "output_type": "stream",
     "text": [
      "\u001b[34m\u001b[1m\r",
      "[Training ] 151/1657 [=>............................] - ETA: 1:50:48  loss:1.6137 - accuracy:0.5156 - f1:0.1738 - gpu_mem:7.76G - lr1:0.0018145\u001b[0m"
     ]
    },
    {
     "name": "stdout",
     "output_type": "stream",
     "text": [
      "\u001b[34m\u001b[1m\r",
      "[Training ] 152/1657 [=>............................] - ETA: 1:50:43  loss:1.7748 - accuracy:0.4531 - f1:0.1584 - gpu_mem:7.76G - lr1:0.0018155\u001b[0m"
     ]
    },
    {
     "name": "stdout",
     "output_type": "stream",
     "text": [
      "\u001b[34m\u001b[1m\r",
      "[Training ] 153/1657 [=>............................] - ETA: 1:50:39  loss:1.7860 - accuracy:0.5000 - f1:0.1782 - gpu_mem:7.76G - lr1:0.0018165\u001b[0m"
     ]
    },
    {
     "name": "stdout",
     "output_type": "stream",
     "text": [
      "\u001b[34m\u001b[1m\r",
      "[Training ] 154/1657 [=>............................] - ETA: 1:50:34  loss:1.7369 - accuracy:0.5469 - f1:0.1810 - gpu_mem:7.76G - lr1:0.0018175\u001b[0m"
     ]
    },
    {
     "name": "stdout",
     "output_type": "stream",
     "text": [
      "\u001b[34m\u001b[1m\r",
      "[Training ] 155/1657 [=>............................] - ETA: 1:50:29  loss:1.5096 - accuracy:0.6406 - f1:0.2249 - gpu_mem:7.76G - lr1:0.0018185\u001b[0m"
     ]
    },
    {
     "name": "stdout",
     "output_type": "stream",
     "text": [
      "\u001b[34m\u001b[1m\r",
      "[Training ] 156/1657 [=>............................] - ETA: 1:50:25  loss:1.6340 - accuracy:0.5156 - f1:0.1646 - gpu_mem:7.76G - lr1:0.0018196\u001b[0m"
     ]
    },
    {
     "name": "stdout",
     "output_type": "stream",
     "text": [
      "\u001b[34m\u001b[1m\r",
      "[Training ] 157/1657 [=>............................] - ETA: 1:50:20  loss:1.6280 - accuracy:0.6406 - f1:0.2057 - gpu_mem:7.76G - lr1:0.0018206\u001b[0m"
     ]
    },
    {
     "name": "stdout",
     "output_type": "stream",
     "text": [
      "\u001b[34m\u001b[1m\r",
      "[Training ] 158/1657 [=>............................] - ETA: 1:50:16  loss:1.6929 - accuracy:0.5312 - f1:0.2574 - gpu_mem:7.76G - lr1:0.0018216\u001b[0m"
     ]
    },
    {
     "name": "stdout",
     "output_type": "stream",
     "text": [
      "\u001b[34m\u001b[1m\r",
      "[Training ] 159/1657 [=>............................] - ETA: 1:50:11  loss:1.5046 - accuracy:0.6406 - f1:0.2268 - gpu_mem:7.76G - lr1:0.0018226\u001b[0m"
     ]
    },
    {
     "name": "stdout",
     "output_type": "stream",
     "text": [
      "\u001b[34m\u001b[1m\r",
      "[Training ] 160/1657 [=>............................] - ETA: 1:50:07  loss:1.5666 - accuracy:0.6562 - f1:0.2481 - gpu_mem:7.76G - lr1:0.0018236\u001b[0m"
     ]
    },
    {
     "name": "stdout",
     "output_type": "stream",
     "text": [
      "\u001b[34m\u001b[1m\r",
      "[Training ] 161/1657 [=>............................] - ETA: 1:50:02  loss:1.4986 - accuracy:0.6406 - f1:0.2721 - gpu_mem:7.76G - lr1:0.0018246\u001b[0m"
     ]
    },
    {
     "name": "stdout",
     "output_type": "stream",
     "text": [
      "\u001b[34m\u001b[1m\r",
      "[Training ] 162/1657 [=>............................] - ETA: 1:49:58  loss:1.4555 - accuracy:0.6406 - f1:0.2207 - gpu_mem:7.76G - lr1:0.0018256\u001b[0m"
     ]
    },
    {
     "name": "stdout",
     "output_type": "stream",
     "text": [
      "\u001b[34m\u001b[1m\r",
      "[Training ] 163/1657 [=>............................] - ETA: 1:49:53  loss:1.7149 - accuracy:0.5469 - f1:0.2639 - gpu_mem:7.76G - lr1:0.0018266\u001b[0m"
     ]
    },
    {
     "name": "stdout",
     "output_type": "stream",
     "text": [
      "\u001b[34m\u001b[1m\r",
      "[Training ] 164/1657 [=>............................] - ETA: 1:49:49  loss:1.6995 - accuracy:0.4844 - f1:0.1928 - gpu_mem:7.76G - lr1:0.0018276\u001b[0m"
     ]
    },
    {
     "name": "stdout",
     "output_type": "stream",
     "text": [
      "\u001b[34m\u001b[1m\r",
      "[Training ] 165/1657 [=>............................] - ETA: 1:49:44  loss:1.7573 - accuracy:0.4688 - f1:0.1654 - gpu_mem:7.76G - lr1:0.0018286\u001b[0m"
     ]
    },
    {
     "name": "stdout",
     "output_type": "stream",
     "text": [
      "\u001b[34m\u001b[1m\r",
      "[Training ] 166/1657 [==>...........................] - ETA: 1:49:40  loss:1.6896 - accuracy:0.5156 - f1:0.1896 - gpu_mem:7.76G - lr1:0.0018296\u001b[0m"
     ]
    },
    {
     "name": "stdout",
     "output_type": "stream",
     "text": [
      "\u001b[34m\u001b[1m\r",
      "[Training ] 167/1657 [==>...........................] - ETA: 1:49:35  loss:1.4343 - accuracy:0.6406 - f1:0.2458 - gpu_mem:7.76G - lr1:0.0018306\u001b[0m"
     ]
    },
    {
     "name": "stdout",
     "output_type": "stream",
     "text": [
      "\u001b[34m\u001b[1m\r",
      "[Training ] 168/1657 [==>...........................] - ETA: 1:49:31  loss:1.6488 - accuracy:0.6250 - f1:0.2065 - gpu_mem:7.76G - lr1:0.0018316\u001b[0m"
     ]
    },
    {
     "name": "stdout",
     "output_type": "stream",
     "text": [
      "\u001b[34m\u001b[1m\r",
      "[Training ] 169/1657 [==>...........................] - ETA: 1:49:26  loss:1.5269 - accuracy:0.5781 - f1:0.2078 - gpu_mem:7.76G - lr1:0.0018326\u001b[0m"
     ]
    },
    {
     "name": "stdout",
     "output_type": "stream",
     "text": [
      "\u001b[34m\u001b[1m\r",
      "[Training ] 170/1657 [==>...........................] - ETA: 1:49:22  loss:1.8769 - accuracy:0.4688 - f1:0.1679 - gpu_mem:7.76G - lr1:0.0018336\u001b[0m"
     ]
    },
    {
     "name": "stdout",
     "output_type": "stream",
     "text": [
      "\u001b[34m\u001b[1m\r",
      "[Training ] 171/1657 [==>...........................] - ETA: 1:49:17  loss:1.5543 - accuracy:0.6094 - f1:0.2149 - gpu_mem:7.76G - lr1:0.0018346\u001b[0m"
     ]
    },
    {
     "name": "stdout",
     "output_type": "stream",
     "text": [
      "\u001b[34m\u001b[1m\r",
      "[Training ] 172/1657 [==>...........................] - ETA: 1:49:13  loss:1.7123 - accuracy:0.5312 - f1:0.1886 - gpu_mem:7.76G - lr1:0.0018356\u001b[0m"
     ]
    },
    {
     "name": "stdout",
     "output_type": "stream",
     "text": [
      "\u001b[34m\u001b[1m\r",
      "[Training ] 173/1657 [==>...........................] - ETA: 1:49:08  loss:1.7446 - accuracy:0.5469 - f1:0.1875 - gpu_mem:7.76G - lr1:0.0018367\u001b[0m"
     ]
    },
    {
     "name": "stdout",
     "output_type": "stream",
     "text": [
      "\u001b[34m\u001b[1m\r",
      "[Training ] 174/1657 [==>...........................] - ETA: 1:49:04  loss:1.5804 - accuracy:0.5781 - f1:0.1968 - gpu_mem:7.76G - lr1:0.0018377\u001b[0m"
     ]
    },
    {
     "name": "stdout",
     "output_type": "stream",
     "text": [
      "\u001b[34m\u001b[1m\r",
      "[Training ] 175/1657 [==>...........................] - ETA: 1:48:59  loss:1.6157 - accuracy:0.6562 - f1:0.2037 - gpu_mem:7.76G - lr1:0.0018387\u001b[0m"
     ]
    },
    {
     "name": "stdout",
     "output_type": "stream",
     "text": [
      "\u001b[34m\u001b[1m\r",
      "[Training ] 176/1657 [==>...........................] - ETA: 1:48:55  loss:1.4950 - accuracy:0.6250 - f1:0.2303 - gpu_mem:7.76G - lr1:0.0018397\u001b[0m"
     ]
    },
    {
     "name": "stdout",
     "output_type": "stream",
     "text": [
      "\u001b[34m\u001b[1m\r",
      "[Training ] 177/1657 [==>...........................] - ETA: 1:48:50  loss:1.5496 - accuracy:0.6562 - f1:0.3123 - gpu_mem:7.76G - lr1:0.0018407\u001b[0m"
     ]
    },
    {
     "name": "stdout",
     "output_type": "stream",
     "text": [
      "\u001b[34m\u001b[1m\r",
      "[Training ] 178/1657 [==>...........................] - ETA: 1:48:46  loss:1.5833 - accuracy:0.6406 - f1:0.2527 - gpu_mem:7.76G - lr1:0.0018417\u001b[0m"
     ]
    },
    {
     "name": "stdout",
     "output_type": "stream",
     "text": [
      "\u001b[34m\u001b[1m\r",
      "[Training ] 179/1657 [==>...........................] - ETA: 1:48:41  loss:1.6271 - accuracy:0.5469 - f1:0.2157 - gpu_mem:7.76G - lr1:0.0018427\u001b[0m"
     ]
    },
    {
     "name": "stdout",
     "output_type": "stream",
     "text": [
      "\u001b[34m\u001b[1m\r",
      "[Training ] 180/1657 [==>...........................] - ETA: 1:48:37  loss:1.5736 - accuracy:0.5938 - f1:0.2143 - gpu_mem:7.76G - lr1:0.0018437\u001b[0m"
     ]
    },
    {
     "name": "stdout",
     "output_type": "stream",
     "text": [
      "\u001b[34m\u001b[1m\r",
      "[Training ] 181/1657 [==>...........................] - ETA: 1:48:32  loss:1.5531 - accuracy:0.6406 - f1:0.3550 - gpu_mem:7.76G - lr1:0.0018447\u001b[0m"
     ]
    },
    {
     "name": "stdout",
     "output_type": "stream",
     "text": [
      "\u001b[34m\u001b[1m\r",
      "[Training ] 182/1657 [==>...........................] - ETA: 1:48:28  loss:1.6845 - accuracy:0.5781 - f1:0.2198 - gpu_mem:7.76G - lr1:0.0018457\u001b[0m"
     ]
    },
    {
     "name": "stdout",
     "output_type": "stream",
     "text": [
      "\u001b[34m\u001b[1m\r",
      "[Training ] 183/1657 [==>...........................] - ETA: 1:48:23  loss:1.6352 - accuracy:0.5625 - f1:0.1788 - gpu_mem:7.76G - lr1:0.0018467\u001b[0m"
     ]
    },
    {
     "name": "stdout",
     "output_type": "stream",
     "text": [
      "\u001b[34m\u001b[1m\r",
      "[Training ] 184/1657 [==>...........................] - ETA: 1:48:19  loss:1.4821 - accuracy:0.6719 - f1:0.2371 - gpu_mem:7.76G - lr1:0.0018477\u001b[0m"
     ]
    },
    {
     "name": "stdout",
     "output_type": "stream",
     "text": [
      "\u001b[34m\u001b[1m\r",
      "[Training ] 185/1657 [==>...........................] - ETA: 1:48:14  loss:1.8037 - accuracy:0.5312 - f1:0.1838 - gpu_mem:7.76G - lr1:0.0018487\u001b[0m"
     ]
    },
    {
     "name": "stdout",
     "output_type": "stream",
     "text": [
      "\u001b[34m\u001b[1m\r",
      "[Training ] 186/1657 [==>...........................] - ETA: 1:48:10  loss:1.5654 - accuracy:0.6406 - f1:0.2594 - gpu_mem:7.76G - lr1:0.0018497\u001b[0m"
     ]
    },
    {
     "name": "stdout",
     "output_type": "stream",
     "text": [
      "\u001b[34m\u001b[1m\r",
      "[Training ] 187/1657 [==>...........................] - ETA: 1:48:05  loss:1.7719 - accuracy:0.4688 - f1:0.1731 - gpu_mem:7.76G - lr1:0.0018507\u001b[0m"
     ]
    },
    {
     "name": "stdout",
     "output_type": "stream",
     "text": [
      "\u001b[34m\u001b[1m\r",
      "[Training ] 188/1657 [==>...........................] - ETA: 1:48:01  loss:1.7204 - accuracy:0.5312 - f1:0.1981 - gpu_mem:7.76G - lr1:0.0018517\u001b[0m"
     ]
    },
    {
     "name": "stdout",
     "output_type": "stream",
     "text": [
      "\u001b[34m\u001b[1m\r",
      "[Training ] 189/1657 [==>...........................] - ETA: 1:47:56  loss:1.6376 - accuracy:0.6250 - f1:0.2235 - gpu_mem:7.76G - lr1:0.0018527\u001b[0m"
     ]
    },
    {
     "name": "stdout",
     "output_type": "stream",
     "text": [
      "\u001b[34m\u001b[1m\r",
      "[Training ] 190/1657 [==>...........................] - ETA: 1:47:52  loss:1.5300 - accuracy:0.6875 - f1:0.2418 - gpu_mem:7.76G - lr1:0.0018538\u001b[0m"
     ]
    },
    {
     "name": "stdout",
     "output_type": "stream",
     "text": [
      "\u001b[34m\u001b[1m\r",
      "[Training ] 191/1657 [==>...........................] - ETA: 1:47:47  loss:1.7115 - accuracy:0.4844 - f1:0.1552 - gpu_mem:7.76G - lr1:0.0018548\u001b[0m"
     ]
    },
    {
     "name": "stdout",
     "output_type": "stream",
     "text": [
      "\u001b[34m\u001b[1m\r",
      "[Training ] 192/1657 [==>...........................] - ETA: 1:47:43  loss:1.6128 - accuracy:0.5938 - f1:0.2119 - gpu_mem:7.76G - lr1:0.0018558\u001b[0m"
     ]
    },
    {
     "name": "stdout",
     "output_type": "stream",
     "text": [
      "\u001b[34m\u001b[1m\r",
      "[Training ] 193/1657 [==>...........................] - ETA: 1:47:38  loss:1.6557 - accuracy:0.5156 - f1:0.2083 - gpu_mem:7.76G - lr1:0.0018568\u001b[0m"
     ]
    },
    {
     "name": "stdout",
     "output_type": "stream",
     "text": [
      "\u001b[34m\u001b[1m\r",
      "[Training ] 194/1657 [==>...........................] - ETA: 1:47:34  loss:1.6590 - accuracy:0.5625 - f1:0.1827 - gpu_mem:7.76G - lr1:0.0018578\u001b[0m"
     ]
    },
    {
     "name": "stdout",
     "output_type": "stream",
     "text": [
      "\u001b[34m\u001b[1m\r",
      "[Training ] 195/1657 [==>...........................] - ETA: 1:47:30  loss:1.6167 - accuracy:0.5781 - f1:0.2020 - gpu_mem:7.76G - lr1:0.0018588\u001b[0m"
     ]
    },
    {
     "name": "stdout",
     "output_type": "stream",
     "text": [
      "\u001b[34m\u001b[1m\r",
      "[Training ] 196/1657 [==>...........................] - ETA: 1:47:25  loss:1.6033 - accuracy:0.5469 - f1:0.1821 - gpu_mem:7.76G - lr1:0.0018598\u001b[0m"
     ]
    },
    {
     "name": "stdout",
     "output_type": "stream",
     "text": [
      "\u001b[34m\u001b[1m\r",
      "[Training ] 197/1657 [==>...........................] - ETA: 1:47:21  loss:1.6365 - accuracy:0.5625 - f1:0.1912 - gpu_mem:7.76G - lr1:0.0018608\u001b[0m"
     ]
    },
    {
     "name": "stdout",
     "output_type": "stream",
     "text": [
      "\u001b[34m\u001b[1m\r",
      "[Training ] 198/1657 [==>...........................] - ETA: 1:47:16  loss:1.5940 - accuracy:0.6094 - f1:0.2326 - gpu_mem:7.76G - lr1:0.0018618\u001b[0m"
     ]
    },
    {
     "name": "stdout",
     "output_type": "stream",
     "text": [
      "\u001b[34m\u001b[1m\r",
      "[Training ] 199/1657 [==>...........................] - ETA: 1:47:12  loss:1.6230 - accuracy:0.5469 - f1:0.1727 - gpu_mem:7.76G - lr1:0.0018628\u001b[0m"
     ]
    },
    {
     "name": "stdout",
     "output_type": "stream",
     "text": [
      "\u001b[34m\u001b[1m\r",
      "[Training ] 200/1657 [==>...........................] - ETA: 1:47:07  loss:1.6415 - accuracy:0.5469 - f1:0.1832 - gpu_mem:7.76G - lr1:0.0018638\u001b[0m"
     ]
    },
    {
     "name": "stdout",
     "output_type": "stream",
     "text": [
      "\u001b[34m\u001b[1m\r",
      "[Training ] 201/1657 [==>...........................] - ETA: 1:47:03  loss:1.7186 - accuracy:0.4688 - f1:0.1983 - gpu_mem:7.76G - lr1:0.0018648\u001b[0m"
     ]
    },
    {
     "name": "stdout",
     "output_type": "stream",
     "text": [
      "\u001b[34m\u001b[1m\r",
      "[Training ] 202/1657 [==>...........................] - ETA: 1:46:58  loss:1.8685 - accuracy:0.4219 - f1:0.1807 - gpu_mem:7.76G - lr1:0.0018658\u001b[0m"
     ]
    },
    {
     "name": "stdout",
     "output_type": "stream",
     "text": [
      "\u001b[34m\u001b[1m\r",
      "[Training ] 203/1657 [==>...........................] - ETA: 1:46:54  loss:1.6141 - accuracy:0.5625 - f1:0.2126 - gpu_mem:7.76G - lr1:0.0018668\u001b[0m"
     ]
    },
    {
     "name": "stdout",
     "output_type": "stream",
     "text": [
      "\u001b[34m\u001b[1m\r",
      "[Training ] 204/1657 [==>...........................] - ETA: 1:46:49  loss:1.5527 - accuracy:0.5938 - f1:0.1934 - gpu_mem:7.76G - lr1:0.0018678\u001b[0m"
     ]
    },
    {
     "name": "stdout",
     "output_type": "stream",
     "text": [
      "\u001b[34m\u001b[1m\r",
      "[Training ] 205/1657 [==>...........................] - ETA: 1:46:45  loss:1.4429 - accuracy:0.6562 - f1:0.3940 - gpu_mem:7.76G - lr1:0.0018688\u001b[0m"
     ]
    },
    {
     "name": "stdout",
     "output_type": "stream",
     "text": [
      "\u001b[34m\u001b[1m\r",
      "[Training ] 206/1657 [==>...........................] - ETA: 1:46:40  loss:1.8182 - accuracy:0.4688 - f1:0.1813 - gpu_mem:7.76G - lr1:0.0018698\u001b[0m"
     ]
    },
    {
     "name": "stdout",
     "output_type": "stream",
     "text": [
      "\u001b[34m\u001b[1m\r",
      "[Training ] 207/1657 [==>...........................] - ETA: 1:46:36  loss:1.4399 - accuracy:0.6406 - f1:0.2305 - gpu_mem:7.76G - lr1:0.0018709\u001b[0m"
     ]
    },
    {
     "name": "stdout",
     "output_type": "stream",
     "text": [
      "\u001b[34m\u001b[1m\r",
      "[Training ] 208/1657 [==>...........................] - ETA: 1:46:31  loss:1.5722 - accuracy:0.6094 - f1:0.2205 - gpu_mem:7.76G - lr1:0.0018719\u001b[0m"
     ]
    },
    {
     "name": "stdout",
     "output_type": "stream",
     "text": [
      "\u001b[34m\u001b[1m\r",
      "[Training ] 209/1657 [==>...........................] - ETA: 1:46:27  loss:1.5227 - accuracy:0.6406 - f1:0.2273 - gpu_mem:7.76G - lr1:0.0018729\u001b[0m"
     ]
    },
    {
     "name": "stdout",
     "output_type": "stream",
     "text": [
      "\u001b[34m\u001b[1m\r",
      "[Training ] 210/1657 [==>...........................] - ETA: 1:46:23  loss:1.8268 - accuracy:0.4688 - f1:0.1578 - gpu_mem:7.76G - lr1:0.0018739\u001b[0m"
     ]
    },
    {
     "name": "stdout",
     "output_type": "stream",
     "text": [
      "\u001b[34m\u001b[1m\r",
      "[Training ] 211/1657 [==>...........................] - ETA: 1:46:18  loss:1.6284 - accuracy:0.6094 - f1:0.2148 - gpu_mem:7.76G - lr1:0.0018749\u001b[0m"
     ]
    },
    {
     "name": "stdout",
     "output_type": "stream",
     "text": [
      "\u001b[34m\u001b[1m\r",
      "[Training ] 212/1657 [==>...........................] - ETA: 1:46:14  loss:1.6473 - accuracy:0.5312 - f1:0.1834 - gpu_mem:7.76G - lr1:0.0018759\u001b[0m"
     ]
    },
    {
     "name": "stdout",
     "output_type": "stream",
     "text": [
      "\u001b[34m\u001b[1m\r",
      "[Training ] 213/1657 [==>...........................] - ETA: 1:46:09  loss:1.6841 - accuracy:0.5781 - f1:0.2259 - gpu_mem:7.76G - lr1:0.0018769\u001b[0m"
     ]
    },
    {
     "name": "stdout",
     "output_type": "stream",
     "text": [
      "\u001b[34m\u001b[1m\r",
      "[Training ] 214/1657 [==>...........................] - ETA: 1:46:05  loss:1.6706 - accuracy:0.4844 - f1:0.2341 - gpu_mem:7.76G - lr1:0.0018779\u001b[0m"
     ]
    },
    {
     "name": "stdout",
     "output_type": "stream",
     "text": [
      "\u001b[34m\u001b[1m\r",
      "[Training ] 215/1657 [==>...........................] - ETA: 1:46:00  loss:1.6306 - accuracy:0.5781 - f1:0.2176 - gpu_mem:7.76G - lr1:0.0018789\u001b[0m"
     ]
    },
    {
     "name": "stdout",
     "output_type": "stream",
     "text": [
      "\u001b[34m\u001b[1m\r",
      "[Training ] 216/1657 [==>...........................] - ETA: 1:45:56  loss:1.7034 - accuracy:0.4219 - f1:0.1336 - gpu_mem:7.76G - lr1:0.0018799\u001b[0m"
     ]
    },
    {
     "name": "stdout",
     "output_type": "stream",
     "text": [
      "\u001b[34m\u001b[1m\r",
      "[Training ] 217/1657 [==>...........................] - ETA: 1:45:51  loss:1.6246 - accuracy:0.6250 - f1:0.2699 - gpu_mem:7.76G - lr1:0.0018809\u001b[0m"
     ]
    },
    {
     "name": "stdout",
     "output_type": "stream",
     "text": [
      "\u001b[34m\u001b[1m\r",
      "[Training ] 218/1657 [==>...........................] - ETA: 1:45:47  loss:1.6168 - accuracy:0.5469 - f1:0.2165 - gpu_mem:7.76G - lr1:0.0018819\u001b[0m"
     ]
    },
    {
     "name": "stdout",
     "output_type": "stream",
     "text": [
      "\u001b[34m\u001b[1m\r",
      "[Training ] 219/1657 [==>...........................] - ETA: 1:45:42  loss:1.5133 - accuracy:0.6250 - f1:0.2190 - gpu_mem:7.76G - lr1:0.0018829\u001b[0m"
     ]
    },
    {
     "name": "stdout",
     "output_type": "stream",
     "text": [
      "\u001b[34m\u001b[1m\r",
      "[Training ] 220/1657 [==>...........................] - ETA: 1:45:38  loss:1.6041 - accuracy:0.5625 - f1:0.2183 - gpu_mem:7.76G - lr1:0.0018839\u001b[0m"
     ]
    },
    {
     "name": "stdout",
     "output_type": "stream",
     "text": [
      "\u001b[34m\u001b[1m\r",
      "[Training ] 221/1657 [===>..........................] - ETA: 1:45:33  loss:1.5271 - accuracy:0.6250 - f1:0.2505 - gpu_mem:7.76G - lr1:0.0018849\u001b[0m"
     ]
    },
    {
     "name": "stdout",
     "output_type": "stream",
     "text": [
      "\u001b[34m\u001b[1m\r",
      "[Training ] 222/1657 [===>..........................] - ETA: 1:45:29  loss:1.5584 - accuracy:0.5312 - f1:0.1982 - gpu_mem:7.76G - lr1:0.0018859\u001b[0m"
     ]
    },
    {
     "name": "stdout",
     "output_type": "stream",
     "text": [
      "\u001b[34m\u001b[1m\r",
      "[Training ] 223/1657 [===>..........................] - ETA: 1:45:24  loss:1.6754 - accuracy:0.5938 - f1:0.2585 - gpu_mem:7.76G - lr1:0.0018869\u001b[0m"
     ]
    },
    {
     "name": "stdout",
     "output_type": "stream",
     "text": [
      "\u001b[34m\u001b[1m\r",
      "[Training ] 224/1657 [===>..........................] - ETA: 1:45:20  loss:1.7322 - accuracy:0.5156 - f1:0.1761 - gpu_mem:7.76G - lr1:0.0018880\u001b[0m"
     ]
    },
    {
     "name": "stdout",
     "output_type": "stream",
     "text": [
      "\u001b[34m\u001b[1m\r",
      "[Training ] 225/1657 [===>..........................] - ETA: 1:45:15  loss:1.7522 - accuracy:0.4531 - f1:0.1709 - gpu_mem:7.76G - lr1:0.0018890\u001b[0m"
     ]
    },
    {
     "name": "stdout",
     "output_type": "stream",
     "text": [
      "\u001b[34m\u001b[1m\r",
      "[Training ] 226/1657 [===>..........................] - ETA: 1:45:11  loss:1.6777 - accuracy:0.5156 - f1:0.1683 - gpu_mem:7.76G - lr1:0.0018900\u001b[0m"
     ]
    },
    {
     "name": "stdout",
     "output_type": "stream",
     "text": [
      "\u001b[34m\u001b[1m\r",
      "[Training ] 227/1657 [===>..........................] - ETA: 1:45:07  loss:1.7823 - accuracy:0.4844 - f1:0.1756 - gpu_mem:7.76G - lr1:0.0018910\u001b[0m"
     ]
    },
    {
     "name": "stdout",
     "output_type": "stream",
     "text": [
      "\u001b[34m\u001b[1m\r",
      "[Training ] 228/1657 [===>..........................] - ETA: 1:45:02  loss:1.6075 - accuracy:0.5312 - f1:0.2001 - gpu_mem:7.76G - lr1:0.0018920\u001b[0m"
     ]
    },
    {
     "name": "stdout",
     "output_type": "stream",
     "text": [
      "\u001b[34m\u001b[1m\r",
      "[Training ] 229/1657 [===>..........................] - ETA: 1:44:58  loss:1.6136 - accuracy:0.5625 - f1:0.2107 - gpu_mem:7.76G - lr1:0.0018930\u001b[0m"
     ]
    },
    {
     "name": "stdout",
     "output_type": "stream",
     "text": [
      "\u001b[34m\u001b[1m\r",
      "[Training ] 230/1657 [===>..........................] - ETA: 1:44:53  loss:1.5725 - accuracy:0.5938 - f1:0.2306 - gpu_mem:7.76G - lr1:0.0018940\u001b[0m"
     ]
    },
    {
     "name": "stdout",
     "output_type": "stream",
     "text": [
      "\u001b[34m\u001b[1m\r",
      "[Training ] 231/1657 [===>..........................] - ETA: 1:44:49  loss:1.7224 - accuracy:0.5000 - f1:0.1789 - gpu_mem:7.76G - lr1:0.0018950\u001b[0m"
     ]
    },
    {
     "name": "stdout",
     "output_type": "stream",
     "text": [
      "\u001b[34m\u001b[1m\r",
      "[Training ] 232/1657 [===>..........................] - ETA: 1:44:44  loss:1.5602 - accuracy:0.5938 - f1:0.1880 - gpu_mem:7.76G - lr1:0.0018960\u001b[0m"
     ]
    },
    {
     "name": "stdout",
     "output_type": "stream",
     "text": [
      "\u001b[34m\u001b[1m\r",
      "[Training ] 233/1657 [===>..........................] - ETA: 1:44:40  loss:1.6625 - accuracy:0.5781 - f1:0.2137 - gpu_mem:7.76G - lr1:0.0018970\u001b[0m"
     ]
    },
    {
     "name": "stdout",
     "output_type": "stream",
     "text": [
      "\u001b[34m\u001b[1m\r",
      "[Training ] 234/1657 [===>..........................] - ETA: 1:44:35  loss:1.4424 - accuracy:0.6719 - f1:0.2142 - gpu_mem:7.76G - lr1:0.0018980\u001b[0m"
     ]
    },
    {
     "name": "stdout",
     "output_type": "stream",
     "text": [
      "\u001b[34m\u001b[1m\r",
      "[Training ] 235/1657 [===>..........................] - ETA: 1:44:31  loss:1.5918 - accuracy:0.5312 - f1:0.2049 - gpu_mem:7.76G - lr1:0.0018990\u001b[0m"
     ]
    },
    {
     "name": "stdout",
     "output_type": "stream",
     "text": [
      "\u001b[34m\u001b[1m\r",
      "[Training ] 236/1657 [===>..........................] - ETA: 1:44:26  loss:1.5246 - accuracy:0.6875 - f1:0.2301 - gpu_mem:7.76G - lr1:0.0019000\u001b[0m"
     ]
    },
    {
     "name": "stdout",
     "output_type": "stream",
     "text": [
      "\u001b[34m\u001b[1m\r",
      "[Training ] 237/1657 [===>..........................] - ETA: 1:44:22  loss:1.5857 - accuracy:0.5781 - f1:0.1893 - gpu_mem:7.76G - lr1:0.0019010\u001b[0m"
     ]
    },
    {
     "name": "stdout",
     "output_type": "stream",
     "text": [
      "\u001b[34m\u001b[1m\r",
      "[Training ] 238/1657 [===>..........................] - ETA: 1:44:18  loss:1.5298 - accuracy:0.5938 - f1:0.1992 - gpu_mem:7.76G - lr1:0.0019020\u001b[0m"
     ]
    },
    {
     "name": "stdout",
     "output_type": "stream",
     "text": [
      "\u001b[34m\u001b[1m\r",
      "[Training ] 239/1657 [===>..........................] - ETA: 1:44:13  loss:1.5954 - accuracy:0.5469 - f1:0.2039 - gpu_mem:7.76G - lr1:0.0019030\u001b[0m"
     ]
    },
    {
     "name": "stdout",
     "output_type": "stream",
     "text": [
      "\u001b[34m\u001b[1m\r",
      "[Training ] 240/1657 [===>..........................] - ETA: 1:44:09  loss:1.5449 - accuracy:0.6250 - f1:0.2820 - gpu_mem:7.76G - lr1:0.0019040\u001b[0m"
     ]
    },
    {
     "name": "stdout",
     "output_type": "stream",
     "text": [
      "\u001b[34m\u001b[1m\r",
      "[Training ] 241/1657 [===>..........................] - ETA: 1:44:04  loss:1.6234 - accuracy:0.6562 - f1:0.2321 - gpu_mem:7.76G - lr1:0.0019050\u001b[0m"
     ]
    },
    {
     "name": "stdout",
     "output_type": "stream",
     "text": [
      "\u001b[34m\u001b[1m\r",
      "[Training ] 242/1657 [===>..........................] - ETA: 1:44:00  loss:1.6300 - accuracy:0.5625 - f1:0.2108 - gpu_mem:7.76G - lr1:0.0019061\u001b[0m"
     ]
    },
    {
     "name": "stdout",
     "output_type": "stream",
     "text": [
      "\u001b[34m\u001b[1m\r",
      "[Training ] 243/1657 [===>..........................] - ETA: 1:43:55  loss:1.6003 - accuracy:0.5469 - f1:0.1656 - gpu_mem:7.76G - lr1:0.0019071\u001b[0m"
     ]
    },
    {
     "name": "stdout",
     "output_type": "stream",
     "text": [
      "\u001b[34m\u001b[1m\r",
      "[Training ] 244/1657 [===>..........................] - ETA: 1:43:51  loss:1.5068 - accuracy:0.5781 - f1:0.2109 - gpu_mem:7.76G - lr1:0.0019081\u001b[0m"
     ]
    },
    {
     "name": "stdout",
     "output_type": "stream",
     "text": [
      "\u001b[34m\u001b[1m\r",
      "[Training ] 245/1657 [===>..........................] - ETA: 1:43:47  loss:1.6328 - accuracy:0.5156 - f1:0.1781 - gpu_mem:7.76G - lr1:0.0019091\u001b[0m"
     ]
    },
    {
     "name": "stdout",
     "output_type": "stream",
     "text": [
      "\u001b[34m\u001b[1m\r",
      "[Training ] 246/1657 [===>..........................] - ETA: 1:43:42  loss:1.6336 - accuracy:0.5625 - f1:0.2074 - gpu_mem:7.76G - lr1:0.0019101\u001b[0m"
     ]
    },
    {
     "name": "stdout",
     "output_type": "stream",
     "text": [
      "\u001b[34m\u001b[1m\r",
      "[Training ] 247/1657 [===>..........................] - ETA: 1:43:38  loss:1.4083 - accuracy:0.6875 - f1:0.2569 - gpu_mem:7.76G - lr1:0.0019111\u001b[0m"
     ]
    },
    {
     "name": "stdout",
     "output_type": "stream",
     "text": [
      "\u001b[34m\u001b[1m\r",
      "[Training ] 248/1657 [===>..........................] - ETA: 1:43:33  loss:1.5126 - accuracy:0.6562 - f1:0.2921 - gpu_mem:7.76G - lr1:0.0019121\u001b[0m"
     ]
    },
    {
     "name": "stdout",
     "output_type": "stream",
     "text": [
      "\u001b[34m\u001b[1m\r",
      "[Training ] 249/1657 [===>..........................] - ETA: 1:43:29  loss:1.6028 - accuracy:0.5312 - f1:0.2507 - gpu_mem:7.76G - lr1:0.0019131\u001b[0m"
     ]
    },
    {
     "name": "stdout",
     "output_type": "stream",
     "text": [
      "\u001b[34m\u001b[1m\r",
      "[Training ] 250/1657 [===>..........................] - ETA: 1:43:24  loss:1.5516 - accuracy:0.6094 - f1:0.2144 - gpu_mem:7.76G - lr1:0.0019141\u001b[0m"
     ]
    },
    {
     "name": "stdout",
     "output_type": "stream",
     "text": [
      "\u001b[34m\u001b[1m\r",
      "[Training ] 251/1657 [===>..........................] - ETA: 1:43:20  loss:1.6112 - accuracy:0.5625 - f1:0.2134 - gpu_mem:7.76G - lr1:0.0019151\u001b[0m"
     ]
    },
    {
     "name": "stdout",
     "output_type": "stream",
     "text": [
      "\u001b[34m\u001b[1m\r",
      "[Training ] 252/1657 [===>..........................] - ETA: 1:43:15  loss:1.6410 - accuracy:0.5625 - f1:0.1835 - gpu_mem:7.76G - lr1:0.0019161\u001b[0m"
     ]
    },
    {
     "name": "stdout",
     "output_type": "stream",
     "text": [
      "\u001b[34m\u001b[1m\r",
      "[Training ] 253/1657 [===>..........................] - ETA: 1:43:11  loss:1.3499 - accuracy:0.7344 - f1:0.2595 - gpu_mem:7.76G - lr1:0.0019171\u001b[0m"
     ]
    },
    {
     "name": "stdout",
     "output_type": "stream",
     "text": [
      "\u001b[34m\u001b[1m\r",
      "[Training ] 254/1657 [===>..........................] - ETA: 1:43:06  loss:1.6253 - accuracy:0.5625 - f1:0.2569 - gpu_mem:7.76G - lr1:0.0019181\u001b[0m"
     ]
    },
    {
     "name": "stdout",
     "output_type": "stream",
     "text": [
      "\u001b[34m\u001b[1m\r",
      "[Training ] 255/1657 [===>..........................] - ETA: 1:43:02  loss:1.5200 - accuracy:0.5938 - f1:0.1987 - gpu_mem:7.76G - lr1:0.0019191\u001b[0m"
     ]
    },
    {
     "name": "stdout",
     "output_type": "stream",
     "text": [
      "\u001b[34m\u001b[1m\r",
      "[Training ] 256/1657 [===>..........................] - ETA: 1:42:58  loss:1.7375 - accuracy:0.5000 - f1:0.1720 - gpu_mem:7.76G - lr1:0.0019201\u001b[0m"
     ]
    },
    {
     "name": "stdout",
     "output_type": "stream",
     "text": [
      "\u001b[34m\u001b[1m\r",
      "[Training ] 257/1657 [===>..........................] - ETA: 1:42:53  loss:1.4449 - accuracy:0.6562 - f1:0.2273 - gpu_mem:7.76G - lr1:0.0019211\u001b[0m"
     ]
    },
    {
     "name": "stdout",
     "output_type": "stream",
     "text": [
      "\u001b[34m\u001b[1m\r",
      "[Training ] 258/1657 [===>..........................] - ETA: 1:42:49  loss:1.5203 - accuracy:0.6719 - f1:0.3332 - gpu_mem:7.76G - lr1:0.0019221\u001b[0m"
     ]
    },
    {
     "name": "stdout",
     "output_type": "stream",
     "text": [
      "\u001b[34m\u001b[1m\r",
      "[Training ] 259/1657 [===>..........................] - ETA: 1:42:44  loss:1.5460 - accuracy:0.6094 - f1:0.2189 - gpu_mem:7.76G - lr1:0.0019232\u001b[0m"
     ]
    },
    {
     "name": "stdout",
     "output_type": "stream",
     "text": [
      "\u001b[34m\u001b[1m\r",
      "[Training ] 260/1657 [===>..........................] - ETA: 1:42:40  loss:1.2544 - accuracy:0.7969 - f1:0.2798 - gpu_mem:7.76G - lr1:0.0019242\u001b[0m"
     ]
    },
    {
     "name": "stdout",
     "output_type": "stream",
     "text": [
      "\u001b[34m\u001b[1m\r",
      "[Training ] 261/1657 [===>..........................] - ETA: 1:42:35  loss:1.5212 - accuracy:0.5781 - f1:0.1930 - gpu_mem:7.76G - lr1:0.0019252\u001b[0m"
     ]
    },
    {
     "name": "stdout",
     "output_type": "stream",
     "text": [
      "\u001b[34m\u001b[1m\r",
      "[Training ] 262/1657 [===>..........................] - ETA: 1:42:31  loss:1.6148 - accuracy:0.5156 - f1:0.1887 - gpu_mem:7.76G - lr1:0.0019262\u001b[0m"
     ]
    },
    {
     "name": "stdout",
     "output_type": "stream",
     "text": [
      "\u001b[34m\u001b[1m\r",
      "[Training ] 263/1657 [===>..........................] - ETA: 1:42:26  loss:1.6452 - accuracy:0.5938 - f1:0.2000 - gpu_mem:7.76G - lr1:0.0019272\u001b[0m"
     ]
    },
    {
     "name": "stdout",
     "output_type": "stream",
     "text": [
      "\u001b[34m\u001b[1m\r",
      "[Training ] 264/1657 [===>..........................] - ETA: 1:42:22  loss:1.6011 - accuracy:0.5156 - f1:0.2231 - gpu_mem:7.76G - lr1:0.0019282\u001b[0m"
     ]
    },
    {
     "name": "stdout",
     "output_type": "stream",
     "text": [
      "\u001b[34m\u001b[1m\r",
      "[Training ] 265/1657 [===>..........................] - ETA: 1:42:18  loss:1.4978 - accuracy:0.5625 - f1:0.1723 - gpu_mem:7.76G - lr1:0.0019292\u001b[0m"
     ]
    },
    {
     "name": "stdout",
     "output_type": "stream",
     "text": [
      "\u001b[34m\u001b[1m\r",
      "[Training ] 266/1657 [===>..........................] - ETA: 1:42:13  loss:1.7007 - accuracy:0.4844 - f1:0.1813 - gpu_mem:7.76G - lr1:0.0019302\u001b[0m"
     ]
    },
    {
     "name": "stdout",
     "output_type": "stream",
     "text": [
      "\u001b[34m\u001b[1m\r",
      "[Training ] 267/1657 [===>..........................] - ETA: 1:42:09  loss:1.5672 - accuracy:0.5469 - f1:0.2284 - gpu_mem:7.76G - lr1:0.0019312\u001b[0m"
     ]
    },
    {
     "name": "stdout",
     "output_type": "stream",
     "text": [
      "\u001b[34m\u001b[1m\r",
      "[Training ] 268/1657 [===>..........................] - ETA: 1:42:04  loss:1.7370 - accuracy:0.5156 - f1:0.1719 - gpu_mem:7.76G - lr1:0.0019322\u001b[0m"
     ]
    },
    {
     "name": "stdout",
     "output_type": "stream",
     "text": [
      "\u001b[34m\u001b[1m\r",
      "[Training ] 269/1657 [===>..........................] - ETA: 1:42:00  loss:1.5844 - accuracy:0.5625 - f1:0.2278 - gpu_mem:7.76G - lr1:0.0019332\u001b[0m"
     ]
    },
    {
     "name": "stdout",
     "output_type": "stream",
     "text": [
      "\u001b[34m\u001b[1m\r",
      "[Training ] 270/1657 [===>..........................] - ETA: 1:41:55  loss:1.6357 - accuracy:0.5625 - f1:0.1999 - gpu_mem:7.76G - lr1:0.0019342\u001b[0m"
     ]
    },
    {
     "name": "stdout",
     "output_type": "stream",
     "text": [
      "\u001b[34m\u001b[1m\r",
      "[Training ] 271/1657 [===>..........................] - ETA: 1:41:51  loss:1.6916 - accuracy:0.5000 - f1:0.2040 - gpu_mem:7.76G - lr1:0.0019352\u001b[0m"
     ]
    },
    {
     "name": "stdout",
     "output_type": "stream",
     "text": [
      "\u001b[34m\u001b[1m\r",
      "[Training ] 272/1657 [===>..........................] - ETA: 1:41:46  loss:1.6237 - accuracy:0.5312 - f1:0.2026 - gpu_mem:7.76G - lr1:0.0019362\u001b[0m"
     ]
    },
    {
     "name": "stdout",
     "output_type": "stream",
     "text": [
      "\u001b[34m\u001b[1m\r",
      "[Training ] 273/1657 [===>..........................] - ETA: 1:41:42  loss:1.4073 - accuracy:0.6562 - f1:0.2091 - gpu_mem:7.76G - lr1:0.0019372\u001b[0m"
     ]
    },
    {
     "name": "stdout",
     "output_type": "stream",
     "text": [
      "\u001b[34m\u001b[1m\r",
      "[Training ] 274/1657 [===>..........................] - ETA: 1:41:38  loss:1.6388 - accuracy:0.5781 - f1:0.2219 - gpu_mem:7.76G - lr1:0.0019382\u001b[0m"
     ]
    },
    {
     "name": "stdout",
     "output_type": "stream",
     "text": [
      "\u001b[34m\u001b[1m\r",
      "[Training ] 275/1657 [===>..........................] - ETA: 1:41:33  loss:1.3772 - accuracy:0.6875 - f1:0.2792 - gpu_mem:7.76G - lr1:0.0019392\u001b[0m"
     ]
    },
    {
     "name": "stdout",
     "output_type": "stream",
     "text": [
      "\u001b[34m\u001b[1m\r",
      "[Training ] 276/1657 [===>..........................] - ETA: 1:41:29  loss:1.7594 - accuracy:0.4375 - f1:0.1526 - gpu_mem:7.76G - lr1:0.0019403\u001b[0m"
     ]
    },
    {
     "name": "stdout",
     "output_type": "stream",
     "text": [
      "\u001b[34m\u001b[1m\r",
      "[Training ] 277/1657 [====>.........................] - ETA: 1:41:24  loss:1.5058 - accuracy:0.6094 - f1:0.2322 - gpu_mem:7.76G - lr1:0.0019413\u001b[0m"
     ]
    },
    {
     "name": "stdout",
     "output_type": "stream",
     "text": [
      "\u001b[34m\u001b[1m\r",
      "[Training ] 278/1657 [====>.........................] - ETA: 1:41:20  loss:1.6596 - accuracy:0.4688 - f1:0.1821 - gpu_mem:7.76G - lr1:0.0019423\u001b[0m"
     ]
    },
    {
     "name": "stdout",
     "output_type": "stream",
     "text": [
      "\u001b[34m\u001b[1m\r",
      "[Training ] 279/1657 [====>.........................] - ETA: 1:41:15  loss:1.4989 - accuracy:0.5625 - f1:0.1944 - gpu_mem:7.76G - lr1:0.0019433\u001b[0m"
     ]
    },
    {
     "name": "stdout",
     "output_type": "stream",
     "text": [
      "\u001b[34m\u001b[1m\r",
      "[Training ] 280/1657 [====>.........................] - ETA: 1:41:11  loss:1.5070 - accuracy:0.6094 - f1:0.2119 - gpu_mem:7.76G - lr1:0.0019443\u001b[0m"
     ]
    },
    {
     "name": "stdout",
     "output_type": "stream",
     "text": [
      "\u001b[34m\u001b[1m\r",
      "[Training ] 281/1657 [====>.........................] - ETA: 1:41:07  loss:1.6765 - accuracy:0.5469 - f1:0.1858 - gpu_mem:7.76G - lr1:0.0019453\u001b[0m"
     ]
    },
    {
     "name": "stdout",
     "output_type": "stream",
     "text": [
      "\u001b[34m\u001b[1m\r",
      "[Training ] 282/1657 [====>.........................] - ETA: 1:41:02  loss:1.5720 - accuracy:0.5625 - f1:0.1938 - gpu_mem:7.76G - lr1:0.0019463\u001b[0m"
     ]
    },
    {
     "name": "stdout",
     "output_type": "stream",
     "text": [
      "\u001b[34m\u001b[1m\r",
      "[Training ] 283/1657 [====>.........................] - ETA: 1:40:58  loss:1.7706 - accuracy:0.4688 - f1:0.1599 - gpu_mem:7.76G - lr1:0.0019473\u001b[0m"
     ]
    },
    {
     "name": "stdout",
     "output_type": "stream",
     "text": [
      "\u001b[34m\u001b[1m\r",
      "[Training ] 284/1657 [====>.........................] - ETA: 1:40:53  loss:1.5949 - accuracy:0.5781 - f1:0.2117 - gpu_mem:7.76G - lr1:0.0019483\u001b[0m"
     ]
    },
    {
     "name": "stdout",
     "output_type": "stream",
     "text": [
      "\u001b[34m\u001b[1m\r",
      "[Training ] 285/1657 [====>.........................] - ETA: 1:40:49  loss:1.7209 - accuracy:0.5312 - f1:0.2943 - gpu_mem:7.76G - lr1:0.0019493\u001b[0m"
     ]
    },
    {
     "name": "stdout",
     "output_type": "stream",
     "text": [
      "\u001b[34m\u001b[1m\r",
      "[Training ] 286/1657 [====>.........................] - ETA: 1:40:44  loss:1.5156 - accuracy:0.5938 - f1:0.2187 - gpu_mem:7.76G - lr1:0.0019503\u001b[0m"
     ]
    },
    {
     "name": "stdout",
     "output_type": "stream",
     "text": [
      "\u001b[34m\u001b[1m\r",
      "[Training ] 287/1657 [====>.........................] - ETA: 1:40:40  loss:1.4969 - accuracy:0.6562 - f1:0.2344 - gpu_mem:7.76G - lr1:0.0019513\u001b[0m"
     ]
    },
    {
     "name": "stdout",
     "output_type": "stream",
     "text": [
      "\u001b[34m\u001b[1m\r",
      "[Training ] 288/1657 [====>.........................] - ETA: 1:40:35  loss:1.6131 - accuracy:0.5781 - f1:0.2019 - gpu_mem:7.76G - lr1:0.0019523\u001b[0m"
     ]
    },
    {
     "name": "stdout",
     "output_type": "stream",
     "text": [
      "\u001b[34m\u001b[1m\r",
      "[Training ] 289/1657 [====>.........................] - ETA: 1:40:31  loss:1.5453 - accuracy:0.6094 - f1:0.2019 - gpu_mem:7.76G - lr1:0.0019533\u001b[0m"
     ]
    },
    {
     "name": "stdout",
     "output_type": "stream",
     "text": [
      "\u001b[34m\u001b[1m\r",
      "[Training ] 290/1657 [====>.........................] - ETA: 1:40:27  loss:1.7372 - accuracy:0.4375 - f1:0.1859 - gpu_mem:7.76G - lr1:0.0019543\u001b[0m"
     ]
    },
    {
     "name": "stdout",
     "output_type": "stream",
     "text": [
      "\u001b[34m\u001b[1m\r",
      "[Training ] 291/1657 [====>.........................] - ETA: 1:40:22  loss:1.5655 - accuracy:0.6250 - f1:0.2326 - gpu_mem:7.76G - lr1:0.0019553\u001b[0m"
     ]
    },
    {
     "name": "stdout",
     "output_type": "stream",
     "text": [
      "\u001b[34m\u001b[1m\r",
      "[Training ] 292/1657 [====>.........................] - ETA: 1:40:18  loss:1.5179 - accuracy:0.6094 - f1:0.2195 - gpu_mem:7.76G - lr1:0.0019563\u001b[0m"
     ]
    },
    {
     "name": "stdout",
     "output_type": "stream",
     "text": [
      "\u001b[34m\u001b[1m\r",
      "[Training ] 293/1657 [====>.........................] - ETA: 1:40:13  loss:1.5036 - accuracy:0.6094 - f1:0.2038 - gpu_mem:7.76G - lr1:0.0019574\u001b[0m"
     ]
    },
    {
     "name": "stdout",
     "output_type": "stream",
     "text": [
      "\u001b[34m\u001b[1m\r",
      "[Training ] 294/1657 [====>.........................] - ETA: 1:40:09  loss:1.3834 - accuracy:0.6250 - f1:0.2728 - gpu_mem:7.76G - lr1:0.0019584\u001b[0m"
     ]
    },
    {
     "name": "stdout",
     "output_type": "stream",
     "text": [
      "\u001b[34m\u001b[1m\r",
      "[Training ] 295/1657 [====>.........................] - ETA: 1:40:04  loss:1.4699 - accuracy:0.6094 - f1:0.2450 - gpu_mem:7.76G - lr1:0.0019594\u001b[0m"
     ]
    },
    {
     "name": "stdout",
     "output_type": "stream",
     "text": [
      "\u001b[34m\u001b[1m\r",
      "[Training ] 296/1657 [====>.........................] - ETA: 1:40:00  loss:1.6111 - accuracy:0.6094 - f1:0.1944 - gpu_mem:7.76G - lr1:0.0019604\u001b[0m"
     ]
    },
    {
     "name": "stdout",
     "output_type": "stream",
     "text": [
      "\u001b[34m\u001b[1m\r",
      "[Training ] 297/1657 [====>.........................] - ETA: 1:39:56  loss:1.3339 - accuracy:0.6562 - f1:0.2866 - gpu_mem:7.76G - lr1:0.0019614\u001b[0m"
     ]
    },
    {
     "name": "stdout",
     "output_type": "stream",
     "text": [
      "\u001b[34m\u001b[1m\r",
      "[Training ] 298/1657 [====>.........................] - ETA: 1:39:51  loss:1.3871 - accuracy:0.7031 - f1:0.2678 - gpu_mem:7.76G - lr1:0.0019624\u001b[0m"
     ]
    },
    {
     "name": "stdout",
     "output_type": "stream",
     "text": [
      "\u001b[34m\u001b[1m\r",
      "[Training ] 299/1657 [====>.........................] - ETA: 1:39:47  loss:1.6450 - accuracy:0.5469 - f1:0.2019 - gpu_mem:7.76G - lr1:0.0019634\u001b[0m"
     ]
    },
    {
     "name": "stdout",
     "output_type": "stream",
     "text": [
      "\u001b[34m\u001b[1m\r",
      "[Training ] 300/1657 [====>.........................] - ETA: 1:39:42  loss:1.6390 - accuracy:0.5312 - f1:0.1803 - gpu_mem:7.76G - lr1:0.0019644\u001b[0m"
     ]
    },
    {
     "name": "stdout",
     "output_type": "stream",
     "text": [
      "\u001b[34m\u001b[1m\r",
      "[Training ] 301/1657 [====>.........................] - ETA: 1:39:38  loss:1.5766 - accuracy:0.5781 - f1:0.2372 - gpu_mem:7.76G - lr1:0.0019654\u001b[0m"
     ]
    },
    {
     "name": "stdout",
     "output_type": "stream",
     "text": [
      "\u001b[34m\u001b[1m\r",
      "[Training ] 302/1657 [====>.........................] - ETA: 1:39:33  loss:1.4642 - accuracy:0.5625 - f1:0.1991 - gpu_mem:7.76G - lr1:0.0019664\u001b[0m"
     ]
    },
    {
     "name": "stdout",
     "output_type": "stream",
     "text": [
      "\u001b[34m\u001b[1m\r",
      "[Training ] 303/1657 [====>.........................] - ETA: 1:39:29  loss:1.4773 - accuracy:0.5938 - f1:0.2121 - gpu_mem:7.76G - lr1:0.0019674\u001b[0m"
     ]
    },
    {
     "name": "stdout",
     "output_type": "stream",
     "text": [
      "\u001b[34m\u001b[1m\r",
      "[Training ] 304/1657 [====>.........................] - ETA: 1:39:25  loss:1.5938 - accuracy:0.5781 - f1:0.2489 - gpu_mem:7.76G - lr1:0.0019684\u001b[0m"
     ]
    },
    {
     "name": "stdout",
     "output_type": "stream",
     "text": [
      "\u001b[34m\u001b[1m\r",
      "[Training ] 305/1657 [====>.........................] - ETA: 1:39:20  loss:1.5734 - accuracy:0.5000 - f1:0.1875 - gpu_mem:7.76G - lr1:0.0019694\u001b[0m"
     ]
    },
    {
     "name": "stdout",
     "output_type": "stream",
     "text": [
      "\u001b[34m\u001b[1m\r",
      "[Training ] 306/1657 [====>.........................] - ETA: 1:39:16  loss:1.5480 - accuracy:0.6094 - f1:0.2847 - gpu_mem:7.76G - lr1:0.0019704\u001b[0m"
     ]
    },
    {
     "name": "stdout",
     "output_type": "stream",
     "text": [
      "\u001b[34m\u001b[1m\r",
      "[Training ] 307/1657 [====>.........................] - ETA: 1:39:11  loss:1.6495 - accuracy:0.5000 - f1:0.2186 - gpu_mem:7.76G - lr1:0.0019714\u001b[0m"
     ]
    },
    {
     "name": "stdout",
     "output_type": "stream",
     "text": [
      "\u001b[34m\u001b[1m\r",
      "[Training ] 308/1657 [====>.........................] - ETA: 1:39:07  loss:1.5201 - accuracy:0.5781 - f1:0.2077 - gpu_mem:7.76G - lr1:0.0019724\u001b[0m"
     ]
    },
    {
     "name": "stdout",
     "output_type": "stream",
     "text": [
      "\u001b[34m\u001b[1m\r",
      "[Training ] 309/1657 [====>.........................] - ETA: 1:39:02  loss:1.5247 - accuracy:0.5938 - f1:0.2369 - gpu_mem:7.76G - lr1:0.0019734\u001b[0m"
     ]
    },
    {
     "name": "stdout",
     "output_type": "stream",
     "text": [
      "\u001b[34m\u001b[1m\r",
      "[Training ] 310/1657 [====>.........................] - ETA: 1:38:58  loss:1.6532 - accuracy:0.5156 - f1:0.1980 - gpu_mem:7.76G - lr1:0.0019745\u001b[0m"
     ]
    },
    {
     "name": "stdout",
     "output_type": "stream",
     "text": [
      "\u001b[34m\u001b[1m\r",
      "[Training ] 311/1657 [====>.........................] - ETA: 1:38:54  loss:1.4027 - accuracy:0.6719 - f1:0.2449 - gpu_mem:7.76G - lr1:0.0019755\u001b[0m"
     ]
    },
    {
     "name": "stdout",
     "output_type": "stream",
     "text": [
      "\u001b[34m\u001b[1m\r",
      "[Training ] 312/1657 [====>.........................] - ETA: 1:38:49  loss:1.5102 - accuracy:0.6406 - f1:0.2092 - gpu_mem:7.76G - lr1:0.0019765\u001b[0m"
     ]
    },
    {
     "name": "stdout",
     "output_type": "stream",
     "text": [
      "\u001b[34m\u001b[1m\r",
      "[Training ] 313/1657 [====>.........................] - ETA: 1:38:45  loss:1.4086 - accuracy:0.6562 - f1:0.2842 - gpu_mem:7.76G - lr1:0.0019775\u001b[0m"
     ]
    },
    {
     "name": "stdout",
     "output_type": "stream",
     "text": [
      "\u001b[34m\u001b[1m\r",
      "[Training ] 314/1657 [====>.........................] - ETA: 1:38:40  loss:1.4751 - accuracy:0.6250 - f1:0.2019 - gpu_mem:7.76G - lr1:0.0019785\u001b[0m"
     ]
    },
    {
     "name": "stdout",
     "output_type": "stream",
     "text": [
      "\u001b[34m\u001b[1m\r",
      "[Training ] 315/1657 [====>.........................] - ETA: 1:38:36  loss:1.4624 - accuracy:0.6250 - f1:0.2499 - gpu_mem:7.76G - lr1:0.0019795\u001b[0m"
     ]
    },
    {
     "name": "stdout",
     "output_type": "stream",
     "text": [
      "\u001b[34m\u001b[1m\r",
      "[Training ] 316/1657 [====>.........................] - ETA: 1:38:32  loss:1.4590 - accuracy:0.6719 - f1:0.2590 - gpu_mem:7.76G - lr1:0.0019805\u001b[0m"
     ]
    },
    {
     "name": "stdout",
     "output_type": "stream",
     "text": [
      "\u001b[34m\u001b[1m\r",
      "[Training ] 317/1657 [====>.........................] - ETA: 1:38:27  loss:1.5591 - accuracy:0.5625 - f1:0.1923 - gpu_mem:7.76G - lr1:0.0019815\u001b[0m"
     ]
    },
    {
     "name": "stdout",
     "output_type": "stream",
     "text": [
      "\u001b[34m\u001b[1m\r",
      "[Training ] 318/1657 [====>.........................] - ETA: 1:38:23  loss:1.4892 - accuracy:0.6094 - f1:0.3238 - gpu_mem:7.76G - lr1:0.0019825\u001b[0m"
     ]
    },
    {
     "name": "stdout",
     "output_type": "stream",
     "text": [
      "\u001b[34m\u001b[1m\r",
      "[Training ] 319/1657 [====>.........................] - ETA: 1:38:18  loss:1.5247 - accuracy:0.5625 - f1:0.1848 - gpu_mem:7.76G - lr1:0.0019835\u001b[0m"
     ]
    },
    {
     "name": "stdout",
     "output_type": "stream",
     "text": [
      "\u001b[34m\u001b[1m\r",
      "[Training ] 320/1657 [====>.........................] - ETA: 1:38:14  loss:1.6581 - accuracy:0.5156 - f1:0.1803 - gpu_mem:7.76G - lr1:0.0019845\u001b[0m"
     ]
    },
    {
     "name": "stdout",
     "output_type": "stream",
     "text": [
      "\u001b[34m\u001b[1m\r",
      "[Training ] 321/1657 [====>.........................] - ETA: 1:38:09  loss:1.3453 - accuracy:0.7500 - f1:0.2513 - gpu_mem:7.76G - lr1:0.0019855\u001b[0m"
     ]
    },
    {
     "name": "stdout",
     "output_type": "stream",
     "text": [
      "\u001b[34m\u001b[1m\r",
      "[Training ] 322/1657 [====>.........................] - ETA: 1:38:05  loss:1.4205 - accuracy:0.6094 - f1:0.2065 - gpu_mem:7.76G - lr1:0.0019865\u001b[0m"
     ]
    },
    {
     "name": "stdout",
     "output_type": "stream",
     "text": [
      "\u001b[34m\u001b[1m\r",
      "[Training ] 323/1657 [====>.........................] - ETA: 1:38:01  loss:1.5516 - accuracy:0.5312 - f1:0.1760 - gpu_mem:7.76G - lr1:0.0019875\u001b[0m"
     ]
    },
    {
     "name": "stdout",
     "output_type": "stream",
     "text": [
      "\u001b[34m\u001b[1m\r",
      "[Training ] 324/1657 [====>.........................] - ETA: 1:37:56  loss:1.5462 - accuracy:0.5938 - f1:0.2077 - gpu_mem:7.76G - lr1:0.0019885\u001b[0m"
     ]
    },
    {
     "name": "stdout",
     "output_type": "stream",
     "text": [
      "\u001b[34m\u001b[1m\r",
      "[Training ] 325/1657 [====>.........................] - ETA: 1:37:52  loss:1.3967 - accuracy:0.7031 - f1:0.2328 - gpu_mem:7.76G - lr1:0.0019895\u001b[0m"
     ]
    },
    {
     "name": "stdout",
     "output_type": "stream",
     "text": [
      "\u001b[34m\u001b[1m\r",
      "[Training ] 326/1657 [====>.........................] - ETA: 1:37:47  loss:1.6295 - accuracy:0.5938 - f1:0.2298 - gpu_mem:7.76G - lr1:0.0019905\u001b[0m"
     ]
    },
    {
     "name": "stdout",
     "output_type": "stream",
     "text": [
      "\u001b[34m\u001b[1m\r",
      "[Training ] 327/1657 [====>.........................] - ETA: 1:37:43  loss:1.7596 - accuracy:0.5156 - f1:0.2316 - gpu_mem:7.76G - lr1:0.0019916\u001b[0m"
     ]
    },
    {
     "name": "stdout",
     "output_type": "stream",
     "text": [
      "\u001b[34m\u001b[1m\r",
      "[Training ] 328/1657 [====>.........................] - ETA: 1:37:38  loss:1.6786 - accuracy:0.4688 - f1:0.1872 - gpu_mem:7.76G - lr1:0.0019926\u001b[0m"
     ]
    },
    {
     "name": "stdout",
     "output_type": "stream",
     "text": [
      "\u001b[34m\u001b[1m\r",
      "[Training ] 329/1657 [====>.........................] - ETA: 1:37:34  loss:1.5003 - accuracy:0.6562 - f1:0.2067 - gpu_mem:7.76G - lr1:0.0019936\u001b[0m"
     ]
    },
    {
     "name": "stdout",
     "output_type": "stream",
     "text": [
      "\u001b[34m\u001b[1m\r",
      "[Training ] 330/1657 [====>.........................] - ETA: 1:37:30  loss:1.4774 - accuracy:0.6094 - f1:0.2413 - gpu_mem:7.76G - lr1:0.0019946\u001b[0m"
     ]
    },
    {
     "name": "stdout",
     "output_type": "stream",
     "text": [
      "\u001b[34m\u001b[1m\r",
      "[Training ] 331/1657 [====>.........................] - ETA: 1:37:25  loss:1.4335 - accuracy:0.6406 - f1:0.2810 - gpu_mem:7.76G - lr1:0.0019956\u001b[0m"
     ]
    },
    {
     "name": "stdout",
     "output_type": "stream",
     "text": [
      "\u001b[34m\u001b[1m\r",
      "[Training ] 332/1657 [=====>........................] - ETA: 1:37:21  loss:1.4062 - accuracy:0.6250 - f1:0.2105 - gpu_mem:7.76G - lr1:0.0019966\u001b[0m"
     ]
    },
    {
     "name": "stdout",
     "output_type": "stream",
     "text": [
      "\u001b[34m\u001b[1m\r",
      "[Training ] 333/1657 [=====>........................] - ETA: 1:37:16  loss:1.5648 - accuracy:0.6094 - f1:0.2178 - gpu_mem:7.76G - lr1:0.0019976\u001b[0m"
     ]
    },
    {
     "name": "stdout",
     "output_type": "stream",
     "text": [
      "\u001b[34m\u001b[1m\r",
      "[Training ] 334/1657 [=====>........................] - ETA: 1:37:12  loss:1.4295 - accuracy:0.6406 - f1:0.2509 - gpu_mem:7.76G - lr1:0.0019986\u001b[0m"
     ]
    },
    {
     "name": "stdout",
     "output_type": "stream",
     "text": [
      "\u001b[34m\u001b[1m\r",
      "[Training ] 335/1657 [=====>........................] - ETA: 1:37:07  loss:1.6633 - accuracy:0.5625 - f1:0.2410 - gpu_mem:7.76G - lr1:0.0019996\u001b[0m"
     ]
    },
    {
     "name": "stdout",
     "output_type": "stream",
     "text": [
      "\u001b[34m\u001b[1m\r",
      "[Training ] 336/1657 [=====>........................] - ETA: 1:37:03  loss:1.5402 - accuracy:0.5938 - f1:0.2434 - gpu_mem:7.76G - lr1:0.0020006\u001b[0m"
     ]
    },
    {
     "name": "stdout",
     "output_type": "stream",
     "text": [
      "\u001b[34m\u001b[1m\r",
      "[Training ] 337/1657 [=====>........................] - ETA: 1:36:59  loss:1.5832 - accuracy:0.5312 - f1:0.1701 - gpu_mem:7.76G - lr1:0.0020016\u001b[0m"
     ]
    },
    {
     "name": "stdout",
     "output_type": "stream",
     "text": [
      "\u001b[34m\u001b[1m\r",
      "[Training ] 338/1657 [=====>........................] - ETA: 1:36:54  loss:1.5427 - accuracy:0.6094 - f1:0.2102 - gpu_mem:7.76G - lr1:0.0020026\u001b[0m"
     ]
    },
    {
     "name": "stdout",
     "output_type": "stream",
     "text": [
      "\u001b[34m\u001b[1m\r",
      "[Training ] 339/1657 [=====>........................] - ETA: 1:36:50  loss:1.4562 - accuracy:0.6094 - f1:0.2233 - gpu_mem:7.76G - lr1:0.0020036\u001b[0m"
     ]
    },
    {
     "name": "stdout",
     "output_type": "stream",
     "text": [
      "\u001b[34m\u001b[1m\r",
      "[Training ] 340/1657 [=====>........................] - ETA: 1:36:45  loss:1.3860 - accuracy:0.5938 - f1:0.1866 - gpu_mem:7.76G - lr1:0.0020046\u001b[0m"
     ]
    },
    {
     "name": "stdout",
     "output_type": "stream",
     "text": [
      "\u001b[34m\u001b[1m\r",
      "[Training ] 341/1657 [=====>........................] - ETA: 1:36:41  loss:1.3890 - accuracy:0.7500 - f1:0.3155 - gpu_mem:7.76G - lr1:0.0020056\u001b[0m"
     ]
    },
    {
     "name": "stdout",
     "output_type": "stream",
     "text": [
      "\u001b[34m\u001b[1m\r",
      "[Training ] 342/1657 [=====>........................] - ETA: 1:36:36  loss:1.5180 - accuracy:0.5625 - f1:0.2331 - gpu_mem:7.76G - lr1:0.0020066\u001b[0m"
     ]
    },
    {
     "name": "stdout",
     "output_type": "stream",
     "text": [
      "\u001b[34m\u001b[1m\r",
      "[Training ] 343/1657 [=====>........................] - ETA: 1:36:32  loss:1.5765 - accuracy:0.5938 - f1:0.2373 - gpu_mem:7.76G - lr1:0.0020076\u001b[0m"
     ]
    },
    {
     "name": "stdout",
     "output_type": "stream",
     "text": [
      "\u001b[34m\u001b[1m\r",
      "[Training ] 344/1657 [=====>........................] - ETA: 1:36:28  loss:1.6930 - accuracy:0.5000 - f1:0.1756 - gpu_mem:7.76G - lr1:0.0020087\u001b[0m"
     ]
    },
    {
     "name": "stdout",
     "output_type": "stream",
     "text": [
      "\u001b[34m\u001b[1m\r",
      "[Training ] 345/1657 [=====>........................] - ETA: 1:36:23  loss:1.5186 - accuracy:0.6562 - f1:0.2410 - gpu_mem:7.76G - lr1:0.0020097\u001b[0m"
     ]
    },
    {
     "name": "stdout",
     "output_type": "stream",
     "text": [
      "\u001b[34m\u001b[1m\r",
      "[Training ] 346/1657 [=====>........................] - ETA: 1:36:19  loss:1.3725 - accuracy:0.6562 - f1:0.2804 - gpu_mem:7.76G - lr1:0.0020107\u001b[0m"
     ]
    },
    {
     "name": "stdout",
     "output_type": "stream",
     "text": [
      "\u001b[34m\u001b[1m\r",
      "[Training ] 347/1657 [=====>........................] - ETA: 1:36:14  loss:1.4931 - accuracy:0.6250 - f1:0.2268 - gpu_mem:7.76G - lr1:0.0020117\u001b[0m"
     ]
    },
    {
     "name": "stdout",
     "output_type": "stream",
     "text": [
      "\u001b[34m\u001b[1m\r",
      "[Training ] 348/1657 [=====>........................] - ETA: 1:36:10  loss:1.4233 - accuracy:0.6250 - f1:0.2879 - gpu_mem:7.76G - lr1:0.0020127\u001b[0m"
     ]
    },
    {
     "name": "stdout",
     "output_type": "stream",
     "text": [
      "\u001b[34m\u001b[1m\r",
      "[Training ] 349/1657 [=====>........................] - ETA: 1:36:05  loss:1.5190 - accuracy:0.6250 - f1:0.2174 - gpu_mem:7.76G - lr1:0.0020137\u001b[0m"
     ]
    },
    {
     "name": "stdout",
     "output_type": "stream",
     "text": [
      "\u001b[34m\u001b[1m\r",
      "[Training ] 350/1657 [=====>........................] - ETA: 1:36:01  loss:1.4531 - accuracy:0.5938 - f1:0.1856 - gpu_mem:7.76G - lr1:0.0020147\u001b[0m"
     ]
    },
    {
     "name": "stdout",
     "output_type": "stream",
     "text": [
      "\u001b[34m\u001b[1m\r",
      "[Training ] 351/1657 [=====>........................] - ETA: 1:35:57  loss:1.4955 - accuracy:0.6562 - f1:0.2549 - gpu_mem:7.76G - lr1:0.0020157\u001b[0m"
     ]
    },
    {
     "name": "stdout",
     "output_type": "stream",
     "text": [
      "\u001b[34m\u001b[1m\r",
      "[Training ] 352/1657 [=====>........................] - ETA: 1:35:52  loss:1.6999 - accuracy:0.5156 - f1:0.1970 - gpu_mem:7.76G - lr1:0.0020167\u001b[0m"
     ]
    },
    {
     "name": "stdout",
     "output_type": "stream",
     "text": [
      "\u001b[34m\u001b[1m\r",
      "[Training ] 353/1657 [=====>........................] - ETA: 1:35:48  loss:1.6315 - accuracy:0.6250 - f1:0.2920 - gpu_mem:7.76G - lr1:0.0020177\u001b[0m"
     ]
    },
    {
     "name": "stdout",
     "output_type": "stream",
     "text": [
      "\u001b[34m\u001b[1m\r",
      "[Training ] 354/1657 [=====>........................] - ETA: 1:35:43  loss:1.6307 - accuracy:0.5156 - f1:0.2387 - gpu_mem:7.76G - lr1:0.0020187\u001b[0m"
     ]
    },
    {
     "name": "stdout",
     "output_type": "stream",
     "text": [
      "\u001b[34m\u001b[1m\r",
      "[Training ] 355/1657 [=====>........................] - ETA: 1:35:39  loss:1.5860 - accuracy:0.5625 - f1:0.1736 - gpu_mem:7.76G - lr1:0.0020197\u001b[0m"
     ]
    },
    {
     "name": "stdout",
     "output_type": "stream",
     "text": [
      "\u001b[34m\u001b[1m\r",
      "[Training ] 356/1657 [=====>........................] - ETA: 1:35:35  loss:1.5988 - accuracy:0.5938 - f1:0.2635 - gpu_mem:7.76G - lr1:0.0020207\u001b[0m"
     ]
    },
    {
     "name": "stdout",
     "output_type": "stream",
     "text": [
      "\u001b[34m\u001b[1m\r",
      "[Training ] 357/1657 [=====>........................] - ETA: 1:35:30  loss:1.4274 - accuracy:0.6250 - f1:0.2160 - gpu_mem:7.76G - lr1:0.0020217\u001b[0m"
     ]
    },
    {
     "name": "stdout",
     "output_type": "stream",
     "text": [
      "\u001b[34m\u001b[1m\r",
      "[Training ] 358/1657 [=====>........................] - ETA: 1:35:26  loss:1.4087 - accuracy:0.6562 - f1:0.2080 - gpu_mem:7.76G - lr1:0.0020227\u001b[0m"
     ]
    },
    {
     "name": "stdout",
     "output_type": "stream",
     "text": [
      "\u001b[34m\u001b[1m\r",
      "[Training ] 359/1657 [=====>........................] - ETA: 1:35:21  loss:1.6723 - accuracy:0.5625 - f1:0.1763 - gpu_mem:7.76G - lr1:0.0020237\u001b[0m"
     ]
    },
    {
     "name": "stdout",
     "output_type": "stream",
     "text": [
      "\u001b[34m\u001b[1m\r",
      "[Training ] 360/1657 [=====>........................] - ETA: 1:35:17  loss:1.4616 - accuracy:0.6562 - f1:0.2993 - gpu_mem:7.76G - lr1:0.0020247\u001b[0m"
     ]
    },
    {
     "name": "stdout",
     "output_type": "stream",
     "text": [
      "\u001b[34m\u001b[1m\r",
      "[Training ] 361/1657 [=====>........................] - ETA: 1:35:13  loss:1.5648 - accuracy:0.5469 - f1:0.1836 - gpu_mem:7.76G - lr1:0.0020257\u001b[0m"
     ]
    },
    {
     "name": "stdout",
     "output_type": "stream",
     "text": [
      "\u001b[34m\u001b[1m\r",
      "[Training ] 362/1657 [=====>........................] - ETA: 1:35:08  loss:1.5249 - accuracy:0.5938 - f1:0.2123 - gpu_mem:7.76G - lr1:0.0020268\u001b[0m"
     ]
    },
    {
     "name": "stdout",
     "output_type": "stream",
     "text": [
      "\u001b[34m\u001b[1m\r",
      "[Training ] 363/1657 [=====>........................] - ETA: 1:35:04  loss:1.6159 - accuracy:0.5625 - f1:0.2947 - gpu_mem:7.76G - lr1:0.0020278\u001b[0m"
     ]
    },
    {
     "name": "stdout",
     "output_type": "stream",
     "text": [
      "\u001b[34m\u001b[1m\r",
      "[Training ] 364/1657 [=====>........................] - ETA: 1:34:59  loss:1.6084 - accuracy:0.5312 - f1:0.1619 - gpu_mem:7.76G - lr1:0.0020288\u001b[0m"
     ]
    },
    {
     "name": "stdout",
     "output_type": "stream",
     "text": [
      "\u001b[34m\u001b[1m\r",
      "[Training ] 365/1657 [=====>........................] - ETA: 1:34:55  loss:1.3517 - accuracy:0.6406 - f1:0.2478 - gpu_mem:7.76G - lr1:0.0020298\u001b[0m"
     ]
    },
    {
     "name": "stdout",
     "output_type": "stream",
     "text": [
      "\u001b[34m\u001b[1m\r",
      "[Training ] 366/1657 [=====>........................] - ETA: 1:34:50  loss:1.4747 - accuracy:0.5781 - f1:0.1874 - gpu_mem:7.76G - lr1:0.0020308\u001b[0m"
     ]
    },
    {
     "name": "stdout",
     "output_type": "stream",
     "text": [
      "\u001b[34m\u001b[1m\r",
      "[Training ] 367/1657 [=====>........................] - ETA: 1:34:46  loss:1.4175 - accuracy:0.6562 - f1:0.2496 - gpu_mem:7.76G - lr1:0.0020318\u001b[0m"
     ]
    },
    {
     "name": "stdout",
     "output_type": "stream",
     "text": [
      "\u001b[34m\u001b[1m\r",
      "[Training ] 368/1657 [=====>........................] - ETA: 1:34:41  loss:1.4798 - accuracy:0.6875 - f1:0.2612 - gpu_mem:7.76G - lr1:0.0020328\u001b[0m"
     ]
    },
    {
     "name": "stdout",
     "output_type": "stream",
     "text": [
      "\u001b[34m\u001b[1m\r",
      "[Training ] 369/1657 [=====>........................] - ETA: 1:34:37  loss:1.7283 - accuracy:0.5000 - f1:0.2022 - gpu_mem:7.76G - lr1:0.0020338\u001b[0m"
     ]
    },
    {
     "name": "stdout",
     "output_type": "stream",
     "text": [
      "\u001b[34m\u001b[1m\r",
      "[Training ] 370/1657 [=====>........................] - ETA: 1:34:33  loss:1.4128 - accuracy:0.6250 - f1:0.2373 - gpu_mem:7.76G - lr1:0.0020348\u001b[0m"
     ]
    },
    {
     "name": "stdout",
     "output_type": "stream",
     "text": [
      "\u001b[34m\u001b[1m\r",
      "[Training ] 371/1657 [=====>........................] - ETA: 1:34:28  loss:1.6735 - accuracy:0.5625 - f1:0.2011 - gpu_mem:7.76G - lr1:0.0020358\u001b[0m"
     ]
    },
    {
     "name": "stdout",
     "output_type": "stream",
     "text": [
      "\u001b[34m\u001b[1m\r",
      "[Training ] 372/1657 [=====>........................] - ETA: 1:34:24  loss:1.5069 - accuracy:0.5781 - f1:0.2374 - gpu_mem:7.76G - lr1:0.0020368\u001b[0m"
     ]
    },
    {
     "name": "stdout",
     "output_type": "stream",
     "text": [
      "\u001b[34m\u001b[1m\r",
      "[Training ] 373/1657 [=====>........................] - ETA: 1:34:19  loss:1.3692 - accuracy:0.6094 - f1:0.2364 - gpu_mem:7.76G - lr1:0.0020378\u001b[0m"
     ]
    },
    {
     "name": "stdout",
     "output_type": "stream",
     "text": [
      "\u001b[34m\u001b[1m\r",
      "[Training ] 374/1657 [=====>........................] - ETA: 1:34:15  loss:1.6273 - accuracy:0.5156 - f1:0.2020 - gpu_mem:7.76G - lr1:0.0020388\u001b[0m"
     ]
    },
    {
     "name": "stdout",
     "output_type": "stream",
     "text": [
      "\u001b[34m\u001b[1m\r",
      "[Training ] 375/1657 [=====>........................] - ETA: 1:34:11  loss:1.4668 - accuracy:0.6562 - f1:0.2535 - gpu_mem:7.76G - lr1:0.0020398\u001b[0m"
     ]
    },
    {
     "name": "stdout",
     "output_type": "stream",
     "text": [
      "\u001b[34m\u001b[1m\r",
      "[Training ] 376/1657 [=====>........................] - ETA: 1:34:06  loss:1.5205 - accuracy:0.5625 - f1:0.2108 - gpu_mem:7.76G - lr1:0.0020408\u001b[0m"
     ]
    },
    {
     "name": "stdout",
     "output_type": "stream",
     "text": [
      "\u001b[34m\u001b[1m\r",
      "[Training ] 377/1657 [=====>........................] - ETA: 1:34:02  loss:1.6378 - accuracy:0.5156 - f1:0.1778 - gpu_mem:7.76G - lr1:0.0020418\u001b[0m"
     ]
    },
    {
     "name": "stdout",
     "output_type": "stream",
     "text": [
      "\u001b[34m\u001b[1m\r",
      "[Training ] 378/1657 [=====>........................] - ETA: 1:33:57  loss:1.5346 - accuracy:0.5625 - f1:0.2244 - gpu_mem:7.76G - lr1:0.0020428\u001b[0m"
     ]
    },
    {
     "name": "stdout",
     "output_type": "stream",
     "text": [
      "\u001b[34m\u001b[1m\r",
      "[Training ] 379/1657 [=====>........................] - ETA: 1:33:53  loss:1.4433 - accuracy:0.5938 - f1:0.2076 - gpu_mem:7.76G - lr1:0.0020439\u001b[0m"
     ]
    },
    {
     "name": "stdout",
     "output_type": "stream",
     "text": [
      "\u001b[34m\u001b[1m\r",
      "[Training ] 380/1657 [=====>........................] - ETA: 1:33:48  loss:1.4218 - accuracy:0.6562 - f1:0.2452 - gpu_mem:7.76G - lr1:0.0020449\u001b[0m"
     ]
    },
    {
     "name": "stdout",
     "output_type": "stream",
     "text": [
      "\u001b[34m\u001b[1m\r",
      "[Training ] 381/1657 [=====>........................] - ETA: 1:33:44  loss:1.3795 - accuracy:0.6719 - f1:0.2363 - gpu_mem:7.76G - lr1:0.0020459\u001b[0m"
     ]
    },
    {
     "name": "stdout",
     "output_type": "stream",
     "text": [
      "\u001b[34m\u001b[1m\r",
      "[Training ] 382/1657 [=====>........................] - ETA: 1:33:40  loss:1.6045 - accuracy:0.5625 - f1:0.2426 - gpu_mem:7.76G - lr1:0.0020469\u001b[0m"
     ]
    },
    {
     "name": "stdout",
     "output_type": "stream",
     "text": [
      "\u001b[34m\u001b[1m\r",
      "[Training ] 383/1657 [=====>........................] - ETA: 1:33:35  loss:1.4979 - accuracy:0.6250 - f1:0.2259 - gpu_mem:7.76G - lr1:0.0020479\u001b[0m"
     ]
    },
    {
     "name": "stdout",
     "output_type": "stream",
     "text": [
      "\u001b[34m\u001b[1m\r",
      "[Training ] 384/1657 [=====>........................] - ETA: 1:33:31  loss:1.4911 - accuracy:0.5781 - f1:0.2346 - gpu_mem:7.76G - lr1:0.0020489\u001b[0m"
     ]
    },
    {
     "name": "stdout",
     "output_type": "stream",
     "text": [
      "\u001b[34m\u001b[1m\r",
      "[Training ] 385/1657 [=====>........................] - ETA: 1:33:26  loss:1.5560 - accuracy:0.5781 - f1:0.2003 - gpu_mem:7.76G - lr1:0.0020499\u001b[0m"
     ]
    },
    {
     "name": "stdout",
     "output_type": "stream",
     "text": [
      "\u001b[34m\u001b[1m\r",
      "[Training ] 386/1657 [=====>........................] - ETA: 1:33:22  loss:1.6160 - accuracy:0.5938 - f1:0.2662 - gpu_mem:7.76G - lr1:0.0020509\u001b[0m"
     ]
    },
    {
     "name": "stdout",
     "output_type": "stream",
     "text": [
      "\u001b[34m\u001b[1m\r",
      "[Training ] 387/1657 [======>.......................] - ETA: 1:33:17  loss:1.4756 - accuracy:0.6406 - f1:0.2670 - gpu_mem:7.76G - lr1:0.0020519\u001b[0m"
     ]
    },
    {
     "name": "stdout",
     "output_type": "stream",
     "text": [
      "\u001b[34m\u001b[1m\r",
      "[Training ] 388/1657 [======>.......................] - ETA: 1:33:13  loss:1.6080 - accuracy:0.5312 - f1:0.1805 - gpu_mem:7.76G - lr1:0.0020529\u001b[0m"
     ]
    },
    {
     "name": "stdout",
     "output_type": "stream",
     "text": [
      "\u001b[34m\u001b[1m\r",
      "[Training ] 389/1657 [======>.......................] - ETA: 1:33:09  loss:1.5112 - accuracy:0.5625 - f1:0.2321 - gpu_mem:7.76G - lr1:0.0020539\u001b[0m"
     ]
    },
    {
     "name": "stdout",
     "output_type": "stream",
     "text": [
      "\u001b[34m\u001b[1m\r",
      "[Training ] 390/1657 [======>.......................] - ETA: 1:33:04  loss:1.5080 - accuracy:0.5312 - f1:0.2032 - gpu_mem:7.76G - lr1:0.0020549\u001b[0m"
     ]
    },
    {
     "name": "stdout",
     "output_type": "stream",
     "text": [
      "\u001b[34m\u001b[1m\r",
      "[Training ] 391/1657 [======>.......................] - ETA: 1:33:00  loss:1.5407 - accuracy:0.5781 - f1:0.2441 - gpu_mem:7.76G - lr1:0.0020559\u001b[0m"
     ]
    },
    {
     "name": "stdout",
     "output_type": "stream",
     "text": [
      "\u001b[34m\u001b[1m\r",
      "[Training ] 392/1657 [======>.......................] - ETA: 1:32:55  loss:1.5014 - accuracy:0.6250 - f1:0.2130 - gpu_mem:7.76G - lr1:0.0020569\u001b[0m"
     ]
    },
    {
     "name": "stdout",
     "output_type": "stream",
     "text": [
      "\u001b[34m\u001b[1m\r",
      "[Training ] 393/1657 [======>.......................] - ETA: 1:32:51  loss:1.6070 - accuracy:0.5156 - f1:0.1783 - gpu_mem:7.76G - lr1:0.0020579\u001b[0m"
     ]
    },
    {
     "name": "stdout",
     "output_type": "stream",
     "text": [
      "\u001b[34m\u001b[1m\r",
      "[Training ] 394/1657 [======>.......................] - ETA: 1:32:46  loss:1.5438 - accuracy:0.6094 - f1:0.2739 - gpu_mem:7.76G - lr1:0.0020589\u001b[0m"
     ]
    },
    {
     "name": "stdout",
     "output_type": "stream",
     "text": [
      "\u001b[34m\u001b[1m\r",
      "[Training ] 395/1657 [======>.......................] - ETA: 1:32:42  loss:1.6413 - accuracy:0.5156 - f1:0.2328 - gpu_mem:7.76G - lr1:0.0020599\u001b[0m"
     ]
    },
    {
     "name": "stdout",
     "output_type": "stream",
     "text": [
      "\u001b[34m\u001b[1m\r",
      "[Training ] 396/1657 [======>.......................] - ETA: 1:32:38  loss:1.3472 - accuracy:0.6719 - f1:0.2592 - gpu_mem:7.76G - lr1:0.0020610\u001b[0m"
     ]
    },
    {
     "name": "stdout",
     "output_type": "stream",
     "text": [
      "\u001b[34m\u001b[1m\r",
      "[Training ] 397/1657 [======>.......................] - ETA: 1:32:33  loss:1.5564 - accuracy:0.5781 - f1:0.1950 - gpu_mem:7.76G - lr1:0.0020620\u001b[0m"
     ]
    },
    {
     "name": "stdout",
     "output_type": "stream",
     "text": [
      "\u001b[34m\u001b[1m\r",
      "[Training ] 398/1657 [======>.......................] - ETA: 1:32:29  loss:1.5615 - accuracy:0.5938 - f1:0.2512 - gpu_mem:7.76G - lr1:0.0020630\u001b[0m"
     ]
    },
    {
     "name": "stdout",
     "output_type": "stream",
     "text": [
      "\u001b[34m\u001b[1m\r",
      "[Training ] 399/1657 [======>.......................] - ETA: 1:32:24  loss:1.5860 - accuracy:0.5312 - f1:0.1952 - gpu_mem:7.76G - lr1:0.0020640\u001b[0m"
     ]
    },
    {
     "name": "stdout",
     "output_type": "stream",
     "text": [
      "\u001b[34m\u001b[1m\r",
      "[Training ] 400/1657 [======>.......................] - ETA: 1:32:20  loss:1.5623 - accuracy:0.5312 - f1:0.1814 - gpu_mem:7.76G - lr1:0.0020650\u001b[0m"
     ]
    },
    {
     "name": "stdout",
     "output_type": "stream",
     "text": [
      "\u001b[34m\u001b[1m\r",
      "[Training ] 401/1657 [======>.......................] - ETA: 1:32:15  loss:1.4157 - accuracy:0.6094 - f1:0.2151 - gpu_mem:7.76G - lr1:0.0020660\u001b[0m"
     ]
    },
    {
     "name": "stdout",
     "output_type": "stream",
     "text": [
      "\u001b[34m\u001b[1m\r",
      "[Training ] 402/1657 [======>.......................] - ETA: 1:32:11  loss:1.5185 - accuracy:0.5938 - f1:0.2571 - gpu_mem:7.76G - lr1:0.0020670\u001b[0m"
     ]
    },
    {
     "name": "stdout",
     "output_type": "stream",
     "text": [
      "\u001b[34m\u001b[1m\r",
      "[Training ] 403/1657 [======>.......................] - ETA: 1:32:07  loss:1.3861 - accuracy:0.6562 - f1:0.2150 - gpu_mem:7.76G - lr1:0.0020680\u001b[0m"
     ]
    },
    {
     "name": "stdout",
     "output_type": "stream",
     "text": [
      "\u001b[34m\u001b[1m\r",
      "[Training ] 404/1657 [======>.......................] - ETA: 1:32:02  loss:1.2047 - accuracy:0.7812 - f1:0.3041 - gpu_mem:7.76G - lr1:0.0020690\u001b[0m"
     ]
    },
    {
     "name": "stdout",
     "output_type": "stream",
     "text": [
      "\u001b[34m\u001b[1m\r",
      "[Training ] 405/1657 [======>.......................] - ETA: 1:31:58  loss:1.5985 - accuracy:0.5469 - f1:0.1809 - gpu_mem:7.76G - lr1:0.0020700\u001b[0m"
     ]
    },
    {
     "name": "stdout",
     "output_type": "stream",
     "text": [
      "\u001b[34m\u001b[1m\r",
      "[Training ] 406/1657 [======>.......................] - ETA: 1:31:53  loss:1.3900 - accuracy:0.6406 - f1:0.2332 - gpu_mem:7.76G - lr1:0.0020710\u001b[0m"
     ]
    },
    {
     "name": "stdout",
     "output_type": "stream",
     "text": [
      "\u001b[34m\u001b[1m\r",
      "[Training ] 407/1657 [======>.......................] - ETA: 1:31:49  loss:1.4177 - accuracy:0.6094 - f1:0.2319 - gpu_mem:7.76G - lr1:0.0020720\u001b[0m"
     ]
    },
    {
     "name": "stdout",
     "output_type": "stream",
     "text": [
      "\u001b[34m\u001b[1m\r",
      "[Training ] 408/1657 [======>.......................] - ETA: 1:31:45  loss:1.4358 - accuracy:0.5781 - f1:0.2383 - gpu_mem:7.76G - lr1:0.0020730\u001b[0m"
     ]
    },
    {
     "name": "stdout",
     "output_type": "stream",
     "text": [
      "\u001b[34m\u001b[1m\r",
      "[Training ] 409/1657 [======>.......................] - ETA: 1:31:40  loss:1.4845 - accuracy:0.5469 - f1:0.1974 - gpu_mem:7.76G - lr1:0.0020740\u001b[0m"
     ]
    },
    {
     "name": "stdout",
     "output_type": "stream",
     "text": [
      "\u001b[34m\u001b[1m\r",
      "[Training ] 410/1657 [======>.......................] - ETA: 1:31:36  loss:1.2773 - accuracy:0.7031 - f1:0.2693 - gpu_mem:7.76G - lr1:0.0020750\u001b[0m"
     ]
    },
    {
     "name": "stdout",
     "output_type": "stream",
     "text": [
      "\u001b[34m\u001b[1m\r",
      "[Training ] 411/1657 [======>.......................] - ETA: 1:31:31  loss:1.6130 - accuracy:0.5312 - f1:0.2253 - gpu_mem:7.76G - lr1:0.0020760\u001b[0m"
     ]
    },
    {
     "name": "stdout",
     "output_type": "stream",
     "text": [
      "\u001b[34m\u001b[1m\r",
      "[Training ] 412/1657 [======>.......................] - ETA: 1:31:27  loss:1.4687 - accuracy:0.5938 - f1:0.2115 - gpu_mem:7.76G - lr1:0.0020770\u001b[0m"
     ]
    },
    {
     "name": "stdout",
     "output_type": "stream",
     "text": [
      "\u001b[34m\u001b[1m\r",
      "[Training ] 413/1657 [======>.......................] - ETA: 1:31:22  loss:1.4249 - accuracy:0.6250 - f1:0.2378 - gpu_mem:7.76G - lr1:0.0020781\u001b[0m"
     ]
    },
    {
     "name": "stdout",
     "output_type": "stream",
     "text": [
      "\u001b[34m\u001b[1m\r",
      "[Training ] 414/1657 [======>.......................] - ETA: 1:31:18  loss:1.3998 - accuracy:0.5938 - f1:0.2588 - gpu_mem:7.76G - lr1:0.0020791\u001b[0m"
     ]
    },
    {
     "name": "stdout",
     "output_type": "stream",
     "text": [
      "\u001b[34m\u001b[1m\r",
      "[Training ] 415/1657 [======>.......................] - ETA: 1:31:14  loss:1.4731 - accuracy:0.6094 - f1:0.2780 - gpu_mem:7.76G - lr1:0.0020801\u001b[0m"
     ]
    },
    {
     "name": "stdout",
     "output_type": "stream",
     "text": [
      "\u001b[34m\u001b[1m\r",
      "[Training ] 416/1657 [======>.......................] - ETA: 1:31:09  loss:1.4327 - accuracy:0.6250 - f1:0.2786 - gpu_mem:7.76G - lr1:0.0020811\u001b[0m"
     ]
    },
    {
     "name": "stdout",
     "output_type": "stream",
     "text": [
      "\u001b[34m\u001b[1m\r",
      "[Training ] 417/1657 [======>.......................] - ETA: 1:31:05  loss:1.2777 - accuracy:0.6719 - f1:0.2538 - gpu_mem:7.76G - lr1:0.0020821\u001b[0m"
     ]
    },
    {
     "name": "stdout",
     "output_type": "stream",
     "text": [
      "\u001b[34m\u001b[1m\r",
      "[Training ] 418/1657 [======>.......................] - ETA: 1:31:00  loss:1.4536 - accuracy:0.6250 - f1:0.1968 - gpu_mem:7.76G - lr1:0.0020831\u001b[0m"
     ]
    },
    {
     "name": "stdout",
     "output_type": "stream",
     "text": [
      "\u001b[34m\u001b[1m\r",
      "[Training ] 419/1657 [======>.......................] - ETA: 1:30:56  loss:1.5325 - accuracy:0.5312 - f1:0.2053 - gpu_mem:7.76G - lr1:0.0020841\u001b[0m"
     ]
    },
    {
     "name": "stdout",
     "output_type": "stream",
     "text": [
      "\u001b[34m\u001b[1m\r",
      "[Training ] 420/1657 [======>.......................] - ETA: 1:30:51  loss:1.5987 - accuracy:0.5000 - f1:0.1984 - gpu_mem:7.76G - lr1:0.0020851\u001b[0m"
     ]
    },
    {
     "name": "stdout",
     "output_type": "stream",
     "text": [
      "\u001b[34m\u001b[1m\r",
      "[Training ] 421/1657 [======>.......................] - ETA: 1:30:47  loss:1.4836 - accuracy:0.5938 - f1:0.3115 - gpu_mem:7.76G - lr1:0.0020861\u001b[0m"
     ]
    },
    {
     "name": "stdout",
     "output_type": "stream",
     "text": [
      "\u001b[34m\u001b[1m\r",
      "[Training ] 422/1657 [======>.......................] - ETA: 1:30:43  loss:1.5342 - accuracy:0.6406 - f1:0.2708 - gpu_mem:7.76G - lr1:0.0020871\u001b[0m"
     ]
    },
    {
     "name": "stdout",
     "output_type": "stream",
     "text": [
      "\u001b[34m\u001b[1m\r",
      "[Training ] 423/1657 [======>.......................] - ETA: 1:30:38  loss:1.6608 - accuracy:0.5312 - f1:0.1796 - gpu_mem:7.76G - lr1:0.0020881\u001b[0m"
     ]
    },
    {
     "name": "stdout",
     "output_type": "stream",
     "text": [
      "\u001b[34m\u001b[1m\r",
      "[Training ] 424/1657 [======>.......................] - ETA: 1:30:34  loss:1.6140 - accuracy:0.5312 - f1:0.2038 - gpu_mem:7.76G - lr1:0.0020891\u001b[0m"
     ]
    },
    {
     "name": "stdout",
     "output_type": "stream",
     "text": [
      "\u001b[34m\u001b[1m\r",
      "[Training ] 425/1657 [======>.......................] - ETA: 1:30:29  loss:1.3144 - accuracy:0.6406 - f1:0.2384 - gpu_mem:7.76G - lr1:0.0020901\u001b[0m"
     ]
    },
    {
     "name": "stdout",
     "output_type": "stream",
     "text": [
      "\u001b[34m\u001b[1m\r",
      "[Training ] 426/1657 [======>.......................] - ETA: 1:30:25  loss:1.6826 - accuracy:0.5000 - f1:0.1956 - gpu_mem:7.76G - lr1:0.0020911\u001b[0m"
     ]
    },
    {
     "name": "stdout",
     "output_type": "stream",
     "text": [
      "\u001b[34m\u001b[1m\r",
      "[Training ] 427/1657 [======>.......................] - ETA: 1:30:21  loss:1.5029 - accuracy:0.5781 - f1:0.1990 - gpu_mem:7.76G - lr1:0.0020921\u001b[0m"
     ]
    },
    {
     "name": "stdout",
     "output_type": "stream",
     "text": [
      "\u001b[34m\u001b[1m\r",
      "[Training ] 428/1657 [======>.......................] - ETA: 1:30:16  loss:1.2642 - accuracy:0.6719 - f1:0.2095 - gpu_mem:7.76G - lr1:0.0020931\u001b[0m"
     ]
    },
    {
     "name": "stdout",
     "output_type": "stream",
     "text": [
      "\u001b[34m\u001b[1m\r",
      "[Training ] 429/1657 [======>.......................] - ETA: 1:30:12  loss:1.6283 - accuracy:0.5000 - f1:0.1943 - gpu_mem:7.76G - lr1:0.0020941\u001b[0m"
     ]
    },
    {
     "name": "stdout",
     "output_type": "stream",
     "text": [
      "\u001b[34m\u001b[1m\r",
      "[Training ] 430/1657 [======>.......................] - ETA: 1:30:07  loss:1.4511 - accuracy:0.5938 - f1:0.2134 - gpu_mem:7.76G - lr1:0.0020952\u001b[0m"
     ]
    },
    {
     "name": "stdout",
     "output_type": "stream",
     "text": [
      "\u001b[34m\u001b[1m\r",
      "[Training ] 431/1657 [======>.......................] - ETA: 1:30:03  loss:1.4979 - accuracy:0.6094 - f1:0.2021 - gpu_mem:7.76G - lr1:0.0020962\u001b[0m"
     ]
    },
    {
     "name": "stdout",
     "output_type": "stream",
     "text": [
      "\u001b[34m\u001b[1m\r",
      "[Training ] 432/1657 [======>.......................] - ETA: 1:29:58  loss:1.4485 - accuracy:0.6562 - f1:0.2178 - gpu_mem:7.76G - lr1:0.0020972\u001b[0m"
     ]
    },
    {
     "name": "stdout",
     "output_type": "stream",
     "text": [
      "\u001b[34m\u001b[1m\r",
      "[Training ] 433/1657 [======>.......................] - ETA: 1:29:54  loss:1.6773 - accuracy:0.4688 - f1:0.1598 - gpu_mem:7.76G - lr1:0.0020982\u001b[0m"
     ]
    },
    {
     "name": "stdout",
     "output_type": "stream",
     "text": [
      "\u001b[34m\u001b[1m\r",
      "[Training ] 434/1657 [======>.......................] - ETA: 1:29:50  loss:1.3593 - accuracy:0.6406 - f1:0.2316 - gpu_mem:7.76G - lr1:0.0020992\u001b[0m"
     ]
    },
    {
     "name": "stdout",
     "output_type": "stream",
     "text": [
      "\u001b[34m\u001b[1m\r",
      "[Training ] 435/1657 [======>.......................] - ETA: 1:29:45  loss:1.4924 - accuracy:0.5938 - f1:0.1841 - gpu_mem:7.76G - lr1:0.0021002\u001b[0m"
     ]
    },
    {
     "name": "stdout",
     "output_type": "stream",
     "text": [
      "\u001b[34m\u001b[1m\r",
      "[Training ] 436/1657 [======>.......................] - ETA: 1:29:41  loss:1.5634 - accuracy:0.5469 - f1:0.2318 - gpu_mem:7.76G - lr1:0.0021012\u001b[0m"
     ]
    },
    {
     "name": "stdout",
     "output_type": "stream",
     "text": [
      "\u001b[34m\u001b[1m\r",
      "[Training ] 437/1657 [======>.......................] - ETA: 1:29:36  loss:1.5369 - accuracy:0.5312 - f1:0.2145 - gpu_mem:7.76G - lr1:0.0021022\u001b[0m"
     ]
    },
    {
     "name": "stdout",
     "output_type": "stream",
     "text": [
      "\u001b[34m\u001b[1m\r",
      "[Training ] 438/1657 [======>.......................] - ETA: 1:29:32  loss:1.5276 - accuracy:0.6094 - f1:0.2073 - gpu_mem:7.76G - lr1:0.0021032\u001b[0m"
     ]
    },
    {
     "name": "stdout",
     "output_type": "stream",
     "text": [
      "\u001b[34m\u001b[1m\r",
      "[Training ] 439/1657 [======>.......................] - ETA: 1:29:28  loss:1.6875 - accuracy:0.5000 - f1:0.1751 - gpu_mem:7.76G - lr1:0.0021042\u001b[0m"
     ]
    },
    {
     "name": "stdout",
     "output_type": "stream",
     "text": [
      "\u001b[34m\u001b[1m\r",
      "[Training ] 440/1657 [======>.......................] - ETA: 1:29:23  loss:1.4429 - accuracy:0.6719 - f1:0.3082 - gpu_mem:7.76G - lr1:0.0021052\u001b[0m"
     ]
    },
    {
     "name": "stdout",
     "output_type": "stream",
     "text": [
      "\u001b[34m\u001b[1m\r",
      "[Training ] 441/1657 [======>.......................] - ETA: 1:29:19  loss:1.4971 - accuracy:0.6094 - f1:0.2387 - gpu_mem:7.76G - lr1:0.0021062\u001b[0m"
     ]
    },
    {
     "name": "stdout",
     "output_type": "stream",
     "text": [
      "\u001b[34m\u001b[1m\r",
      "[Training ] 442/1657 [=======>......................] - ETA: 1:29:14  loss:1.6105 - accuracy:0.5156 - f1:0.2194 - gpu_mem:7.76G - lr1:0.0021072\u001b[0m"
     ]
    },
    {
     "name": "stdout",
     "output_type": "stream",
     "text": [
      "\u001b[34m\u001b[1m\r",
      "[Training ] 443/1657 [=======>......................] - ETA: 1:29:10  loss:1.6896 - accuracy:0.4844 - f1:0.2344 - gpu_mem:7.76G - lr1:0.0021082\u001b[0m"
     ]
    },
    {
     "name": "stdout",
     "output_type": "stream",
     "text": [
      "\u001b[34m\u001b[1m\r",
      "[Training ] 444/1657 [=======>......................] - ETA: 1:29:05  loss:1.5533 - accuracy:0.5781 - f1:0.1984 - gpu_mem:7.76G - lr1:0.0021092\u001b[0m"
     ]
    },
    {
     "name": "stdout",
     "output_type": "stream",
     "text": [
      "\u001b[34m\u001b[1m\r",
      "[Training ] 445/1657 [=======>......................] - ETA: 1:29:01  loss:1.5009 - accuracy:0.6719 - f1:0.2930 - gpu_mem:7.76G - lr1:0.0021102\u001b[0m"
     ]
    },
    {
     "name": "stdout",
     "output_type": "stream",
     "text": [
      "\u001b[34m\u001b[1m\r",
      "[Training ] 446/1657 [=======>......................] - ETA: 1:28:57  loss:1.4880 - accuracy:0.6250 - f1:0.2340 - gpu_mem:7.76G - lr1:0.0021112\u001b[0m"
     ]
    },
    {
     "name": "stdout",
     "output_type": "stream",
     "text": [
      "\u001b[34m\u001b[1m\r",
      "[Training ] 447/1657 [=======>......................] - ETA: 1:28:52  loss:1.3325 - accuracy:0.6406 - f1:0.2159 - gpu_mem:7.76G - lr1:0.0021123\u001b[0m"
     ]
    },
    {
     "name": "stdout",
     "output_type": "stream",
     "text": [
      "\u001b[34m\u001b[1m\r",
      "[Training ] 448/1657 [=======>......................] - ETA: 1:28:48  loss:1.3840 - accuracy:0.6250 - f1:0.2219 - gpu_mem:7.76G - lr1:0.0021133\u001b[0m"
     ]
    },
    {
     "name": "stdout",
     "output_type": "stream",
     "text": [
      "\u001b[34m\u001b[1m\r",
      "[Training ] 449/1657 [=======>......................] - ETA: 1:28:43  loss:1.5594 - accuracy:0.5469 - f1:0.1683 - gpu_mem:7.76G - lr1:0.0021143\u001b[0m"
     ]
    },
    {
     "name": "stdout",
     "output_type": "stream",
     "text": [
      "\u001b[34m\u001b[1m\r",
      "[Training ] 450/1657 [=======>......................] - ETA: 1:28:39  loss:1.4815 - accuracy:0.6250 - f1:0.2109 - gpu_mem:7.76G - lr1:0.0021153\u001b[0m"
     ]
    },
    {
     "name": "stdout",
     "output_type": "stream",
     "text": [
      "\u001b[34m\u001b[1m\r",
      "[Training ] 451/1657 [=======>......................] - ETA: 1:28:35  loss:1.5748 - accuracy:0.5312 - f1:0.2029 - gpu_mem:7.76G - lr1:0.0021163\u001b[0m"
     ]
    },
    {
     "name": "stdout",
     "output_type": "stream",
     "text": [
      "\u001b[34m\u001b[1m\r",
      "[Training ] 452/1657 [=======>......................] - ETA: 1:28:30  loss:1.2559 - accuracy:0.7031 - f1:0.2783 - gpu_mem:7.76G - lr1:0.0021173\u001b[0m"
     ]
    },
    {
     "name": "stdout",
     "output_type": "stream",
     "text": [
      "\u001b[34m\u001b[1m\r",
      "[Training ] 453/1657 [=======>......................] - ETA: 1:28:26  loss:1.3479 - accuracy:0.6094 - f1:0.2195 - gpu_mem:7.76G - lr1:0.0021183\u001b[0m"
     ]
    },
    {
     "name": "stdout",
     "output_type": "stream",
     "text": [
      "\u001b[34m\u001b[1m\r",
      "[Training ] 454/1657 [=======>......................] - ETA: 1:28:21  loss:1.5494 - accuracy:0.5156 - f1:0.1716 - gpu_mem:7.76G - lr1:0.0021193\u001b[0m"
     ]
    },
    {
     "name": "stdout",
     "output_type": "stream",
     "text": [
      "\u001b[34m\u001b[1m\r",
      "[Training ] 455/1657 [=======>......................] - ETA: 1:28:17  loss:1.5789 - accuracy:0.5781 - f1:0.2437 - gpu_mem:7.76G - lr1:0.0021203\u001b[0m"
     ]
    },
    {
     "name": "stdout",
     "output_type": "stream",
     "text": [
      "\u001b[34m\u001b[1m\r",
      "[Training ] 456/1657 [=======>......................] - ETA: 1:28:12  loss:1.4257 - accuracy:0.6094 - f1:0.2177 - gpu_mem:7.76G - lr1:0.0021213\u001b[0m"
     ]
    },
    {
     "name": "stdout",
     "output_type": "stream",
     "text": [
      "\u001b[34m\u001b[1m\r",
      "[Training ] 457/1657 [=======>......................] - ETA: 1:28:08  loss:1.3720 - accuracy:0.6406 - f1:0.2092 - gpu_mem:7.76G - lr1:0.0021223\u001b[0m"
     ]
    },
    {
     "name": "stdout",
     "output_type": "stream",
     "text": [
      "\u001b[34m\u001b[1m\r",
      "[Training ] 458/1657 [=======>......................] - ETA: 1:28:04  loss:1.3473 - accuracy:0.6406 - f1:0.2115 - gpu_mem:7.76G - lr1:0.0021233\u001b[0m"
     ]
    },
    {
     "name": "stdout",
     "output_type": "stream",
     "text": [
      "\u001b[34m\u001b[1m\r",
      "[Training ] 459/1657 [=======>......................] - ETA: 1:27:59  loss:1.2976 - accuracy:0.6562 - f1:0.2492 - gpu_mem:7.76G - lr1:0.0021243\u001b[0m"
     ]
    },
    {
     "name": "stdout",
     "output_type": "stream",
     "text": [
      "\u001b[34m\u001b[1m\r",
      "[Training ] 460/1657 [=======>......................] - ETA: 1:27:55  loss:1.4112 - accuracy:0.5312 - f1:0.1938 - gpu_mem:7.76G - lr1:0.0021253\u001b[0m"
     ]
    },
    {
     "name": "stdout",
     "output_type": "stream",
     "text": [
      "\u001b[34m\u001b[1m\r",
      "[Training ] 461/1657 [=======>......................] - ETA: 1:27:50  loss:1.4151 - accuracy:0.5938 - f1:0.2409 - gpu_mem:7.76G - lr1:0.0021263\u001b[0m"
     ]
    },
    {
     "name": "stdout",
     "output_type": "stream",
     "text": [
      "\u001b[34m\u001b[1m\r",
      "[Training ] 462/1657 [=======>......................] - ETA: 1:27:46  loss:1.4451 - accuracy:0.5938 - f1:0.2202 - gpu_mem:7.76G - lr1:0.0021273\u001b[0m"
     ]
    },
    {
     "name": "stdout",
     "output_type": "stream",
     "text": [
      "\u001b[34m\u001b[1m\r",
      "[Training ] 463/1657 [=======>......................] - ETA: 1:27:42  loss:1.3309 - accuracy:0.6562 - f1:0.3144 - gpu_mem:7.76G - lr1:0.0021283\u001b[0m"
     ]
    },
    {
     "name": "stdout",
     "output_type": "stream",
     "text": [
      "\u001b[34m\u001b[1m\r",
      "[Training ] 464/1657 [=======>......................] - ETA: 1:27:37  loss:1.3533 - accuracy:0.6406 - f1:0.3418 - gpu_mem:7.76G - lr1:0.0021294\u001b[0m"
     ]
    },
    {
     "name": "stdout",
     "output_type": "stream",
     "text": [
      "\u001b[34m\u001b[1m\r",
      "[Training ] 465/1657 [=======>......................] - ETA: 1:27:33  loss:1.4374 - accuracy:0.6094 - f1:0.2491 - gpu_mem:7.76G - lr1:0.0021304\u001b[0m"
     ]
    },
    {
     "name": "stdout",
     "output_type": "stream",
     "text": [
      "\u001b[34m\u001b[1m\r",
      "[Training ] 466/1657 [=======>......................] - ETA: 1:27:28  loss:1.4781 - accuracy:0.6094 - f1:0.2661 - gpu_mem:7.76G - lr1:0.0021314\u001b[0m"
     ]
    },
    {
     "name": "stdout",
     "output_type": "stream",
     "text": [
      "\u001b[34m\u001b[1m\r",
      "[Training ] 467/1657 [=======>......................] - ETA: 1:27:24  loss:1.3586 - accuracy:0.6562 - f1:0.2356 - gpu_mem:7.76G - lr1:0.0021324\u001b[0m"
     ]
    },
    {
     "name": "stdout",
     "output_type": "stream",
     "text": [
      "\u001b[34m\u001b[1m\r",
      "[Training ] 468/1657 [=======>......................] - ETA: 1:27:19  loss:1.5159 - accuracy:0.6094 - f1:0.2227 - gpu_mem:7.76G - lr1:0.0021334\u001b[0m"
     ]
    },
    {
     "name": "stdout",
     "output_type": "stream",
     "text": [
      "\u001b[34m\u001b[1m\r",
      "[Training ] 469/1657 [=======>......................] - ETA: 1:27:15  loss:1.5092 - accuracy:0.5469 - f1:0.1877 - gpu_mem:7.76G - lr1:0.0021344\u001b[0m"
     ]
    },
    {
     "name": "stdout",
     "output_type": "stream",
     "text": [
      "\u001b[34m\u001b[1m\r",
      "[Training ] 470/1657 [=======>......................] - ETA: 1:27:11  loss:1.5133 - accuracy:0.5938 - f1:0.2135 - gpu_mem:7.76G - lr1:0.0021354\u001b[0m"
     ]
    },
    {
     "name": "stdout",
     "output_type": "stream",
     "text": [
      "\u001b[34m\u001b[1m\r",
      "[Training ] 471/1657 [=======>......................] - ETA: 1:27:06  loss:1.5000 - accuracy:0.5938 - f1:0.2418 - gpu_mem:7.76G - lr1:0.0021364\u001b[0m"
     ]
    },
    {
     "name": "stdout",
     "output_type": "stream",
     "text": [
      "\u001b[34m\u001b[1m\r",
      "[Training ] 472/1657 [=======>......................] - ETA: 1:27:02  loss:1.4679 - accuracy:0.6094 - f1:0.3196 - gpu_mem:7.76G - lr1:0.0021374\u001b[0m"
     ]
    },
    {
     "name": "stdout",
     "output_type": "stream",
     "text": [
      "\u001b[34m\u001b[1m\r",
      "[Training ] 473/1657 [=======>......................] - ETA: 1:26:57  loss:1.4147 - accuracy:0.6250 - f1:0.2623 - gpu_mem:7.76G - lr1:0.0021384\u001b[0m"
     ]
    },
    {
     "name": "stdout",
     "output_type": "stream",
     "text": [
      "\u001b[34m\u001b[1m\r",
      "[Training ] 474/1657 [=======>......................] - ETA: 1:26:53  loss:1.2499 - accuracy:0.6719 - f1:0.2710 - gpu_mem:7.76G - lr1:0.0021394\u001b[0m"
     ]
    },
    {
     "name": "stdout",
     "output_type": "stream",
     "text": [
      "\u001b[34m\u001b[1m\r",
      "[Training ] 475/1657 [=======>......................] - ETA: 1:26:49  loss:1.2291 - accuracy:0.6562 - f1:0.2480 - gpu_mem:7.76G - lr1:0.0021404\u001b[0m"
     ]
    },
    {
     "name": "stdout",
     "output_type": "stream",
     "text": [
      "\u001b[34m\u001b[1m\r",
      "[Training ] 476/1657 [=======>......................] - ETA: 1:26:44  loss:1.4415 - accuracy:0.5625 - f1:0.1925 - gpu_mem:7.76G - lr1:0.0021414\u001b[0m"
     ]
    },
    {
     "name": "stdout",
     "output_type": "stream",
     "text": [
      "\u001b[34m\u001b[1m\r",
      "[Training ] 477/1657 [=======>......................] - ETA: 1:26:40  loss:1.3074 - accuracy:0.6719 - f1:0.2541 - gpu_mem:7.76G - lr1:0.0021424\u001b[0m"
     ]
    },
    {
     "name": "stdout",
     "output_type": "stream",
     "text": [
      "\u001b[34m\u001b[1m\r",
      "[Training ] 478/1657 [=======>......................] - ETA: 1:26:35  loss:1.6205 - accuracy:0.5469 - f1:0.2193 - gpu_mem:7.76G - lr1:0.0021434\u001b[0m"
     ]
    },
    {
     "name": "stdout",
     "output_type": "stream",
     "text": [
      "\u001b[34m\u001b[1m\r",
      "[Training ] 479/1657 [=======>......................] - ETA: 1:26:31  loss:1.2881 - accuracy:0.6562 - f1:0.2576 - gpu_mem:7.76G - lr1:0.0021444\u001b[0m"
     ]
    },
    {
     "name": "stdout",
     "output_type": "stream",
     "text": [
      "\u001b[34m\u001b[1m\r",
      "[Training ] 480/1657 [=======>......................] - ETA: 1:26:27  loss:1.3734 - accuracy:0.6406 - f1:0.2019 - gpu_mem:7.76G - lr1:0.0021454\u001b[0m"
     ]
    },
    {
     "name": "stdout",
     "output_type": "stream",
     "text": [
      "\u001b[34m\u001b[1m\r",
      "[Training ] 481/1657 [=======>......................] - ETA: 1:26:22  loss:1.4726 - accuracy:0.5469 - f1:0.1781 - gpu_mem:7.76G - lr1:0.0021464\u001b[0m"
     ]
    },
    {
     "name": "stdout",
     "output_type": "stream",
     "text": [
      "\u001b[34m\u001b[1m\r",
      "[Training ] 482/1657 [=======>......................] - ETA: 1:26:18  loss:1.5690 - accuracy:0.5625 - f1:0.1924 - gpu_mem:7.76G - lr1:0.0021475\u001b[0m"
     ]
    },
    {
     "name": "stdout",
     "output_type": "stream",
     "text": [
      "\u001b[34m\u001b[1m\r",
      "[Training ] 483/1657 [=======>......................] - ETA: 1:26:13  loss:1.4562 - accuracy:0.6094 - f1:0.2025 - gpu_mem:7.76G - lr1:0.0021485\u001b[0m"
     ]
    },
    {
     "name": "stdout",
     "output_type": "stream",
     "text": [
      "\u001b[34m\u001b[1m\r",
      "[Training ] 484/1657 [=======>......................] - ETA: 1:26:09  loss:1.3813 - accuracy:0.6562 - f1:0.2706 - gpu_mem:7.76G - lr1:0.0021495\u001b[0m"
     ]
    },
    {
     "name": "stdout",
     "output_type": "stream",
     "text": [
      "\u001b[34m\u001b[1m\r",
      "[Training ] 485/1657 [=======>......................] - ETA: 1:26:05  loss:1.3483 - accuracy:0.6094 - f1:0.2290 - gpu_mem:7.76G - lr1:0.0021505\u001b[0m"
     ]
    },
    {
     "name": "stdout",
     "output_type": "stream",
     "text": [
      "\u001b[34m\u001b[1m\r",
      "[Training ] 486/1657 [=======>......................] - ETA: 1:26:00  loss:1.4270 - accuracy:0.5469 - f1:0.1955 - gpu_mem:7.76G - lr1:0.0021515\u001b[0m"
     ]
    },
    {
     "name": "stdout",
     "output_type": "stream",
     "text": [
      "\u001b[34m\u001b[1m\r",
      "[Training ] 487/1657 [=======>......................] - ETA: 1:25:56  loss:1.6972 - accuracy:0.4531 - f1:0.1593 - gpu_mem:7.76G - lr1:0.0021525\u001b[0m"
     ]
    },
    {
     "name": "stdout",
     "output_type": "stream",
     "text": [
      "\u001b[34m\u001b[1m\r",
      "[Training ] 488/1657 [=======>......................] - ETA: 1:25:51  loss:1.3203 - accuracy:0.6719 - f1:0.2323 - gpu_mem:7.76G - lr1:0.0021535\u001b[0m"
     ]
    },
    {
     "name": "stdout",
     "output_type": "stream",
     "text": [
      "\u001b[34m\u001b[1m\r",
      "[Training ] 489/1657 [=======>......................] - ETA: 1:25:47  loss:1.4217 - accuracy:0.5938 - f1:0.2495 - gpu_mem:7.76G - lr1:0.0021545\u001b[0m"
     ]
    },
    {
     "name": "stdout",
     "output_type": "stream",
     "text": [
      "\u001b[34m\u001b[1m\r",
      "[Training ] 490/1657 [=======>......................] - ETA: 1:25:42  loss:1.4795 - accuracy:0.5938 - f1:0.1955 - gpu_mem:7.76G - lr1:0.0021555\u001b[0m"
     ]
    },
    {
     "name": "stdout",
     "output_type": "stream",
     "text": [
      "\u001b[34m\u001b[1m\r",
      "[Training ] 491/1657 [=======>......................] - ETA: 1:25:38  loss:1.2534 - accuracy:0.6875 - f1:0.2384 - gpu_mem:7.76G - lr1:0.0021565\u001b[0m"
     ]
    },
    {
     "name": "stdout",
     "output_type": "stream",
     "text": [
      "\u001b[34m\u001b[1m\r",
      "[Training ] 492/1657 [=======>......................] - ETA: 1:25:34  loss:1.4442 - accuracy:0.5938 - f1:0.2289 - gpu_mem:7.76G - lr1:0.0021575\u001b[0m"
     ]
    },
    {
     "name": "stdout",
     "output_type": "stream",
     "text": [
      "\u001b[34m\u001b[1m\r",
      "[Training ] 493/1657 [=======>......................] - ETA: 1:25:29  loss:1.2722 - accuracy:0.6406 - f1:0.2457 - gpu_mem:7.76G - lr1:0.0021585\u001b[0m"
     ]
    },
    {
     "name": "stdout",
     "output_type": "stream",
     "text": [
      "\u001b[34m\u001b[1m\r",
      "[Training ] 494/1657 [=======>......................] - ETA: 1:25:25  loss:1.2856 - accuracy:0.6406 - f1:0.2113 - gpu_mem:7.76G - lr1:0.0021595\u001b[0m"
     ]
    },
    {
     "name": "stdout",
     "output_type": "stream",
     "text": [
      "\u001b[34m\u001b[1m\r",
      "[Training ] 495/1657 [=======>......................] - ETA: 1:25:20  loss:1.3828 - accuracy:0.6250 - f1:0.2248 - gpu_mem:7.76G - lr1:0.0021605\u001b[0m"
     ]
    },
    {
     "name": "stdout",
     "output_type": "stream",
     "text": [
      "\u001b[34m\u001b[1m\r",
      "[Training ] 496/1657 [=======>......................] - ETA: 1:25:16  loss:1.4242 - accuracy:0.6406 - f1:0.2445 - gpu_mem:7.76G - lr1:0.0021615\u001b[0m"
     ]
    },
    {
     "name": "stdout",
     "output_type": "stream",
     "text": [
      "\u001b[34m\u001b[1m\r",
      "[Training ] 497/1657 [=======>......................] - ETA: 1:25:12  loss:1.5654 - accuracy:0.5469 - f1:0.1972 - gpu_mem:7.76G - lr1:0.0021625\u001b[0m"
     ]
    },
    {
     "name": "stdout",
     "output_type": "stream",
     "text": [
      "\u001b[34m\u001b[1m\r",
      "[Training ] 498/1657 [========>.....................] - ETA: 1:25:07  loss:1.4702 - accuracy:0.5781 - f1:0.2253 - gpu_mem:7.76G - lr1:0.0021635\u001b[0m"
     ]
    },
    {
     "name": "stdout",
     "output_type": "stream",
     "text": [
      "\u001b[34m\u001b[1m\r",
      "[Training ] 499/1657 [========>.....................] - ETA: 1:25:03  loss:1.2498 - accuracy:0.6875 - f1:0.2515 - gpu_mem:7.76G - lr1:0.0021646\u001b[0m"
     ]
    },
    {
     "name": "stdout",
     "output_type": "stream",
     "text": [
      "\u001b[34m\u001b[1m\r",
      "[Training ] 500/1657 [========>.....................] - ETA: 1:24:58  loss:1.3946 - accuracy:0.6406 - f1:0.2927 - gpu_mem:7.76G - lr1:0.0021656\u001b[0m"
     ]
    },
    {
     "name": "stdout",
     "output_type": "stream",
     "text": [
      "\u001b[34m\u001b[1m\r",
      "[Training ] 501/1657 [========>.....................] - ETA: 1:24:54  loss:1.4228 - accuracy:0.5625 - f1:0.2445 - gpu_mem:7.76G - lr1:0.0021666\u001b[0m"
     ]
    },
    {
     "name": "stdout",
     "output_type": "stream",
     "text": [
      "\u001b[34m\u001b[1m\r",
      "[Training ] 502/1657 [========>.....................] - ETA: 1:24:49  loss:1.3473 - accuracy:0.5781 - f1:0.2349 - gpu_mem:7.76G - lr1:0.0021676\u001b[0m"
     ]
    },
    {
     "name": "stdout",
     "output_type": "stream",
     "text": [
      "\u001b[34m\u001b[1m\r",
      "[Training ] 503/1657 [========>.....................] - ETA: 1:24:45  loss:1.1901 - accuracy:0.6875 - f1:0.2847 - gpu_mem:7.76G - lr1:0.0021686\u001b[0m"
     ]
    },
    {
     "name": "stdout",
     "output_type": "stream",
     "text": [
      "\u001b[34m\u001b[1m\r",
      "[Training ] 504/1657 [========>.....................] - ETA: 1:24:41  loss:1.4954 - accuracy:0.5781 - f1:0.2158 - gpu_mem:7.76G - lr1:0.0021696\u001b[0m"
     ]
    },
    {
     "name": "stdout",
     "output_type": "stream",
     "text": [
      "\u001b[34m\u001b[1m\r",
      "[Training ] 505/1657 [========>.....................] - ETA: 1:24:36  loss:1.2745 - accuracy:0.6719 - f1:0.2144 - gpu_mem:7.76G - lr1:0.0021706\u001b[0m"
     ]
    },
    {
     "name": "stdout",
     "output_type": "stream",
     "text": [
      "\u001b[34m\u001b[1m\r",
      "[Training ] 506/1657 [========>.....................] - ETA: 1:24:32  loss:1.3670 - accuracy:0.6875 - f1:0.2394 - gpu_mem:7.76G - lr1:0.0021716\u001b[0m"
     ]
    },
    {
     "name": "stdout",
     "output_type": "stream",
     "text": [
      "\u001b[34m\u001b[1m\r",
      "[Training ] 507/1657 [========>.....................] - ETA: 1:24:27  loss:1.2795 - accuracy:0.7031 - f1:0.3095 - gpu_mem:7.76G - lr1:0.0021726\u001b[0m"
     ]
    },
    {
     "name": "stdout",
     "output_type": "stream",
     "text": [
      "\u001b[34m\u001b[1m\r",
      "[Training ] 508/1657 [========>.....................] - ETA: 1:24:23  loss:1.4608 - accuracy:0.5781 - f1:0.2042 - gpu_mem:7.76G - lr1:0.0021736\u001b[0m"
     ]
    },
    {
     "name": "stdout",
     "output_type": "stream",
     "text": [
      "\u001b[34m\u001b[1m\r",
      "[Training ] 509/1657 [========>.....................] - ETA: 1:24:19  loss:1.2159 - accuracy:0.7031 - f1:0.2136 - gpu_mem:7.76G - lr1:0.0021746\u001b[0m"
     ]
    },
    {
     "name": "stdout",
     "output_type": "stream",
     "text": [
      "\u001b[34m\u001b[1m\r",
      "[Training ] 510/1657 [========>.....................] - ETA: 1:24:14  loss:1.3239 - accuracy:0.6094 - f1:0.2175 - gpu_mem:7.76G - lr1:0.0021756\u001b[0m"
     ]
    },
    {
     "name": "stdout",
     "output_type": "stream",
     "text": [
      "\u001b[34m\u001b[1m\r",
      "[Training ] 511/1657 [========>.....................] - ETA: 1:24:10  loss:1.4402 - accuracy:0.5781 - f1:0.2293 - gpu_mem:7.76G - lr1:0.0021766\u001b[0m"
     ]
    },
    {
     "name": "stdout",
     "output_type": "stream",
     "text": [
      "\u001b[34m\u001b[1m\r",
      "[Training ] 512/1657 [========>.....................] - ETA: 1:24:05  loss:1.3156 - accuracy:0.6406 - f1:0.2396 - gpu_mem:7.76G - lr1:0.0021776\u001b[0m"
     ]
    },
    {
     "name": "stdout",
     "output_type": "stream",
     "text": [
      "\u001b[34m\u001b[1m\r",
      "[Training ] 513/1657 [========>.....................] - ETA: 1:24:01  loss:1.4308 - accuracy:0.6094 - f1:0.2154 - gpu_mem:7.76G - lr1:0.0021786\u001b[0m"
     ]
    },
    {
     "name": "stdout",
     "output_type": "stream",
     "text": [
      "\u001b[34m\u001b[1m\r",
      "[Training ] 514/1657 [========>.....................] - ETA: 1:23:57  loss:1.3964 - accuracy:0.5938 - f1:0.2523 - gpu_mem:7.76G - lr1:0.0021796\u001b[0m"
     ]
    },
    {
     "name": "stdout",
     "output_type": "stream",
     "text": [
      "\u001b[34m\u001b[1m\r",
      "[Training ] 515/1657 [========>.....................] - ETA: 1:23:52  loss:1.3685 - accuracy:0.6406 - f1:0.2625 - gpu_mem:7.76G - lr1:0.0021806\u001b[0m"
     ]
    },
    {
     "name": "stdout",
     "output_type": "stream",
     "text": [
      "\u001b[34m\u001b[1m\r",
      "[Training ] 516/1657 [========>.....................] - ETA: 1:23:48  loss:1.3241 - accuracy:0.7031 - f1:0.3815 - gpu_mem:7.76G - lr1:0.0021817\u001b[0m"
     ]
    },
    {
     "name": "stdout",
     "output_type": "stream",
     "text": [
      "\u001b[34m\u001b[1m\r",
      "[Training ] 517/1657 [========>.....................] - ETA: 1:23:43  loss:1.3533 - accuracy:0.6562 - f1:0.2709 - gpu_mem:7.76G - lr1:0.0021827\u001b[0m"
     ]
    },
    {
     "name": "stdout",
     "output_type": "stream",
     "text": [
      "\u001b[34m\u001b[1m\r",
      "[Training ] 518/1657 [========>.....................] - ETA: 1:23:39  loss:1.4791 - accuracy:0.5469 - f1:0.2459 - gpu_mem:7.76G - lr1:0.0021837\u001b[0m"
     ]
    },
    {
     "name": "stdout",
     "output_type": "stream",
     "text": [
      "\u001b[34m\u001b[1m\r",
      "[Training ] 519/1657 [========>.....................] - ETA: 1:23:35  loss:1.4484 - accuracy:0.5625 - f1:0.2679 - gpu_mem:7.76G - lr1:0.0021847\u001b[0m"
     ]
    },
    {
     "name": "stdout",
     "output_type": "stream",
     "text": [
      "\u001b[34m\u001b[1m\r",
      "[Training ] 520/1657 [========>.....................] - ETA: 1:23:30  loss:1.5150 - accuracy:0.5938 - f1:0.2545 - gpu_mem:7.76G - lr1:0.0021857\u001b[0m"
     ]
    },
    {
     "name": "stdout",
     "output_type": "stream",
     "text": [
      "\u001b[34m\u001b[1m\r",
      "[Training ] 521/1657 [========>.....................] - ETA: 1:23:26  loss:1.7106 - accuracy:0.5000 - f1:0.2154 - gpu_mem:7.76G - lr1:0.0021867\u001b[0m"
     ]
    },
    {
     "name": "stdout",
     "output_type": "stream",
     "text": [
      "\u001b[34m\u001b[1m\r",
      "[Training ] 522/1657 [========>.....................] - ETA: 1:23:21  loss:1.5425 - accuracy:0.5156 - f1:0.1822 - gpu_mem:7.76G - lr1:0.0021877\u001b[0m"
     ]
    },
    {
     "name": "stdout",
     "output_type": "stream",
     "text": [
      "\u001b[34m\u001b[1m\r",
      "[Training ] 523/1657 [========>.....................] - ETA: 1:23:17  loss:1.2492 - accuracy:0.6719 - f1:0.2366 - gpu_mem:7.76G - lr1:0.0021887\u001b[0m"
     ]
    },
    {
     "name": "stdout",
     "output_type": "stream",
     "text": [
      "\u001b[34m\u001b[1m\r",
      "[Training ] 524/1657 [========>.....................] - ETA: 1:23:13  loss:1.3082 - accuracy:0.6562 - f1:0.2357 - gpu_mem:7.76G - lr1:0.0021897\u001b[0m"
     ]
    },
    {
     "name": "stdout",
     "output_type": "stream",
     "text": [
      "\u001b[34m\u001b[1m\r",
      "[Training ] 525/1657 [========>.....................] - ETA: 1:23:08  loss:1.2851 - accuracy:0.6719 - f1:0.2910 - gpu_mem:7.76G - lr1:0.0021907\u001b[0m"
     ]
    },
    {
     "name": "stdout",
     "output_type": "stream",
     "text": [
      "\u001b[34m\u001b[1m\r",
      "[Training ] 526/1657 [========>.....................] - ETA: 1:23:04  loss:1.4460 - accuracy:0.5625 - f1:0.2052 - gpu_mem:7.76G - lr1:0.0021917\u001b[0m"
     ]
    },
    {
     "name": "stdout",
     "output_type": "stream",
     "text": [
      "\u001b[34m\u001b[1m\r",
      "[Training ] 527/1657 [========>.....................] - ETA: 1:22:59  loss:1.3307 - accuracy:0.6562 - f1:0.2930 - gpu_mem:7.76G - lr1:0.0021927\u001b[0m"
     ]
    },
    {
     "name": "stdout",
     "output_type": "stream",
     "text": [
      "\u001b[34m\u001b[1m\r",
      "[Training ] 528/1657 [========>.....................] - ETA: 1:22:55  loss:1.3800 - accuracy:0.6250 - f1:0.2610 - gpu_mem:7.77G - lr1:0.0021937\u001b[0m"
     ]
    },
    {
     "name": "stdout",
     "output_type": "stream",
     "text": [
      "\u001b[34m\u001b[1m\r",
      "[Training ] 529/1657 [========>.....................] - ETA: 1:22:50  loss:1.1574 - accuracy:0.6875 - f1:0.2698 - gpu_mem:7.77G - lr1:0.0021947\u001b[0m"
     ]
    },
    {
     "name": "stdout",
     "output_type": "stream",
     "text": [
      "\u001b[34m\u001b[1m\r",
      "[Training ] 530/1657 [========>.....................] - ETA: 1:22:46  loss:1.3071 - accuracy:0.6250 - f1:0.2158 - gpu_mem:7.77G - lr1:0.0021957\u001b[0m"
     ]
    },
    {
     "name": "stdout",
     "output_type": "stream",
     "text": [
      "\u001b[34m\u001b[1m\r",
      "[Training ] 531/1657 [========>.....................] - ETA: 1:22:42  loss:1.1701 - accuracy:0.6562 - f1:0.2225 - gpu_mem:7.77G - lr1:0.0021967\u001b[0m"
     ]
    },
    {
     "name": "stdout",
     "output_type": "stream",
     "text": [
      "\u001b[34m\u001b[1m\r",
      "[Training ] 532/1657 [========>.....................] - ETA: 1:22:38  loss:1.2468 - accuracy:0.6719 - f1:0.2332 - gpu_mem:7.77G - lr1:0.0021977\u001b[0m"
     ]
    },
    {
     "name": "stdout",
     "output_type": "stream",
     "text": [
      "\u001b[34m\u001b[1m\r",
      "[Training ] 533/1657 [========>.....................] - ETA: 1:22:33  loss:1.3091 - accuracy:0.6406 - f1:0.3067 - gpu_mem:7.77G - lr1:0.0021988\u001b[0m"
     ]
    },
    {
     "name": "stdout",
     "output_type": "stream",
     "text": [
      "\u001b[34m\u001b[1m\r",
      "[Training ] 534/1657 [========>.....................] - ETA: 1:22:29  loss:1.2365 - accuracy:0.6875 - f1:0.2901 - gpu_mem:7.77G - lr1:0.0021998\u001b[0m"
     ]
    },
    {
     "name": "stdout",
     "output_type": "stream",
     "text": [
      "\u001b[34m\u001b[1m\r",
      "[Training ] 535/1657 [========>.....................] - ETA: 1:22:25  loss:1.3055 - accuracy:0.6719 - f1:0.2814 - gpu_mem:7.77G - lr1:0.0022008\u001b[0m"
     ]
    },
    {
     "name": "stdout",
     "output_type": "stream",
     "text": [
      "\u001b[34m\u001b[1m\r",
      "[Training ] 536/1657 [========>.....................] - ETA: 1:22:20  loss:1.1217 - accuracy:0.7656 - f1:0.4357 - gpu_mem:7.77G - lr1:0.0022018\u001b[0m"
     ]
    },
    {
     "name": "stdout",
     "output_type": "stream",
     "text": [
      "\u001b[34m\u001b[1m\r",
      "[Training ] 537/1657 [========>.....................] - ETA: 1:22:16  loss:1.2773 - accuracy:0.6562 - f1:0.2972 - gpu_mem:7.77G - lr1:0.0022028\u001b[0m"
     ]
    },
    {
     "name": "stdout",
     "output_type": "stream",
     "text": [
      "\u001b[34m\u001b[1m\r",
      "[Training ] 538/1657 [========>.....................] - ETA: 1:22:11  loss:1.3561 - accuracy:0.6406 - f1:0.2533 - gpu_mem:7.77G - lr1:0.0022038\u001b[0m"
     ]
    },
    {
     "name": "stdout",
     "output_type": "stream",
     "text": [
      "\u001b[34m\u001b[1m\r",
      "[Training ] 539/1657 [========>.....................] - ETA: 1:22:07  loss:1.3075 - accuracy:0.6406 - f1:0.2650 - gpu_mem:7.77G - lr1:0.0022048\u001b[0m"
     ]
    },
    {
     "name": "stdout",
     "output_type": "stream",
     "text": [
      "\u001b[34m\u001b[1m\r",
      "[Training ] 540/1657 [========>.....................] - ETA: 1:22:03  loss:1.4563 - accuracy:0.5469 - f1:0.1931 - gpu_mem:7.77G - lr1:0.0022058\u001b[0m"
     ]
    },
    {
     "name": "stdout",
     "output_type": "stream",
     "text": [
      "\u001b[34m\u001b[1m\r",
      "[Training ] 541/1657 [========>.....................] - ETA: 1:21:58  loss:1.3538 - accuracy:0.6406 - f1:0.2897 - gpu_mem:7.77G - lr1:0.0022068\u001b[0m"
     ]
    },
    {
     "name": "stdout",
     "output_type": "stream",
     "text": [
      "\u001b[34m\u001b[1m\r",
      "[Training ] 542/1657 [========>.....................] - ETA: 1:21:54  loss:1.5368 - accuracy:0.5156 - f1:0.1961 - gpu_mem:7.77G - lr1:0.0022078\u001b[0m"
     ]
    },
    {
     "name": "stdout",
     "output_type": "stream",
     "text": [
      "\u001b[34m\u001b[1m\r",
      "[Training ] 543/1657 [========>.....................] - ETA: 1:21:49  loss:1.3084 - accuracy:0.7031 - f1:0.2221 - gpu_mem:7.77G - lr1:0.0022088\u001b[0m"
     ]
    },
    {
     "name": "stdout",
     "output_type": "stream",
     "text": [
      "\u001b[34m\u001b[1m\r",
      "[Training ] 544/1657 [========>.....................] - ETA: 1:21:45  loss:1.1678 - accuracy:0.7031 - f1:0.2959 - gpu_mem:7.77G - lr1:0.0022098\u001b[0m"
     ]
    },
    {
     "name": "stdout",
     "output_type": "stream",
     "text": [
      "\u001b[34m\u001b[1m\r",
      "[Training ] 545/1657 [========>.....................] - ETA: 1:21:40  loss:1.4034 - accuracy:0.6094 - f1:0.2104 - gpu_mem:7.77G - lr1:0.0022108\u001b[0m"
     ]
    },
    {
     "name": "stdout",
     "output_type": "stream",
     "text": [
      "\u001b[34m\u001b[1m\r",
      "[Training ] 546/1657 [========>.....................] - ETA: 1:21:36  loss:1.4803 - accuracy:0.5781 - f1:0.2189 - gpu_mem:7.77G - lr1:0.0022118\u001b[0m"
     ]
    },
    {
     "name": "stdout",
     "output_type": "stream",
     "text": [
      "\u001b[34m\u001b[1m\r",
      "[Training ] 547/1657 [========>.....................] - ETA: 1:21:32  loss:1.3202 - accuracy:0.6406 - f1:0.2274 - gpu_mem:7.77G - lr1:0.0022128\u001b[0m"
     ]
    },
    {
     "name": "stdout",
     "output_type": "stream",
     "text": [
      "\u001b[34m\u001b[1m\r",
      "[Training ] 548/1657 [========>.....................] - ETA: 1:21:27  loss:1.2876 - accuracy:0.6875 - f1:0.2775 - gpu_mem:7.77G - lr1:0.0022138\u001b[0m"
     ]
    },
    {
     "name": "stdout",
     "output_type": "stream",
     "text": [
      "\u001b[34m\u001b[1m\r",
      "[Training ] 549/1657 [========>.....................] - ETA: 1:21:23  loss:1.3545 - accuracy:0.6250 - f1:0.2299 - gpu_mem:7.77G - lr1:0.0022148\u001b[0m"
     ]
    },
    {
     "name": "stdout",
     "output_type": "stream",
     "text": [
      "\u001b[34m\u001b[1m\r",
      "[Training ] 550/1657 [========>.....................] - ETA: 1:21:18  loss:1.1605 - accuracy:0.7344 - f1:0.3100 - gpu_mem:7.77G - lr1:0.0022159\u001b[0m"
     ]
    },
    {
     "name": "stdout",
     "output_type": "stream",
     "text": [
      "\u001b[34m\u001b[1m\r",
      "[Training ] 551/1657 [========>.....................] - ETA: 1:21:14  loss:1.3596 - accuracy:0.5781 - f1:0.2058 - gpu_mem:7.77G - lr1:0.0022169\u001b[0m"
     ]
    },
    {
     "name": "stdout",
     "output_type": "stream",
     "text": [
      "\u001b[34m\u001b[1m\r",
      "[Training ] 552/1657 [========>.....................] - ETA: 1:21:10  loss:1.4782 - accuracy:0.5938 - f1:0.2452 - gpu_mem:7.77G - lr1:0.0022179\u001b[0m"
     ]
    },
    {
     "name": "stdout",
     "output_type": "stream",
     "text": [
      "\u001b[34m\u001b[1m\r",
      "[Training ] 553/1657 [=========>....................] - ETA: 1:21:05  loss:1.3434 - accuracy:0.6406 - f1:0.2262 - gpu_mem:7.77G - lr1:0.0022189\u001b[0m"
     ]
    },
    {
     "name": "stdout",
     "output_type": "stream",
     "text": [
      "\u001b[34m\u001b[1m\r",
      "[Training ] 554/1657 [=========>....................] - ETA: 1:21:01  loss:1.4626 - accuracy:0.5312 - f1:0.1787 - gpu_mem:7.77G - lr1:0.0022199\u001b[0m"
     ]
    },
    {
     "name": "stdout",
     "output_type": "stream",
     "text": [
      "\u001b[34m\u001b[1m\r",
      "[Training ] 555/1657 [=========>....................] - ETA: 1:20:56  loss:1.2779 - accuracy:0.7188 - f1:0.2254 - gpu_mem:7.77G - lr1:0.0022209\u001b[0m"
     ]
    },
    {
     "name": "stdout",
     "output_type": "stream",
     "text": [
      "\u001b[34m\u001b[1m\r",
      "[Training ] 556/1657 [=========>....................] - ETA: 1:20:52  loss:1.3155 - accuracy:0.6094 - f1:0.2410 - gpu_mem:7.77G - lr1:0.0022219\u001b[0m"
     ]
    },
    {
     "name": "stdout",
     "output_type": "stream",
     "text": [
      "\u001b[34m\u001b[1m\r",
      "[Training ] 557/1657 [=========>....................] - ETA: 1:20:48  loss:1.3252 - accuracy:0.6406 - f1:0.2689 - gpu_mem:7.77G - lr1:0.0022229\u001b[0m"
     ]
    },
    {
     "name": "stdout",
     "output_type": "stream",
     "text": [
      "\u001b[34m\u001b[1m\r",
      "[Training ] 558/1657 [=========>....................] - ETA: 1:20:43  loss:1.2406 - accuracy:0.6875 - f1:0.3172 - gpu_mem:7.77G - lr1:0.0022239\u001b[0m"
     ]
    },
    {
     "name": "stdout",
     "output_type": "stream",
     "text": [
      "\u001b[34m\u001b[1m\r",
      "[Training ] 559/1657 [=========>....................] - ETA: 1:20:39  loss:1.4088 - accuracy:0.5469 - f1:0.2168 - gpu_mem:7.77G - lr1:0.0022249\u001b[0m"
     ]
    },
    {
     "name": "stdout",
     "output_type": "stream",
     "text": [
      "\u001b[34m\u001b[1m\r",
      "[Training ] 560/1657 [=========>....................] - ETA: 1:20:34  loss:1.1076 - accuracy:0.7344 - f1:0.2970 - gpu_mem:7.77G - lr1:0.0022259\u001b[0m"
     ]
    },
    {
     "name": "stdout",
     "output_type": "stream",
     "text": [
      "\u001b[34m\u001b[1m\r",
      "[Training ] 561/1657 [=========>....................] - ETA: 1:20:30  loss:1.4024 - accuracy:0.5938 - f1:0.2147 - gpu_mem:7.77G - lr1:0.0022269\u001b[0m"
     ]
    },
    {
     "name": "stdout",
     "output_type": "stream",
     "text": [
      "\u001b[34m\u001b[1m\r",
      "[Training ] 562/1657 [=========>....................] - ETA: 1:20:25  loss:1.4469 - accuracy:0.5938 - f1:0.2126 - gpu_mem:7.77G - lr1:0.0022279\u001b[0m"
     ]
    },
    {
     "name": "stdout",
     "output_type": "stream",
     "text": [
      "\u001b[34m\u001b[1m\r",
      "[Training ] 563/1657 [=========>....................] - ETA: 1:20:21  loss:1.3136 - accuracy:0.6562 - f1:0.2329 - gpu_mem:7.77G - lr1:0.0022289\u001b[0m"
     ]
    },
    {
     "name": "stdout",
     "output_type": "stream",
     "text": [
      "\u001b[34m\u001b[1m\r",
      "[Training ] 564/1657 [=========>....................] - ETA: 1:20:17  loss:1.3573 - accuracy:0.5938 - f1:0.1921 - gpu_mem:7.77G - lr1:0.0022299\u001b[0m"
     ]
    },
    {
     "name": "stdout",
     "output_type": "stream",
     "text": [
      "\u001b[34m\u001b[1m\r",
      "[Training ] 565/1657 [=========>....................] - ETA: 1:20:12  loss:1.2223 - accuracy:0.6562 - f1:0.2719 - gpu_mem:7.77G - lr1:0.0022309\u001b[0m"
     ]
    },
    {
     "name": "stdout",
     "output_type": "stream",
     "text": [
      "\u001b[34m\u001b[1m\r",
      "[Training ] 566/1657 [=========>....................] - ETA: 1:20:08  loss:1.2682 - accuracy:0.6094 - f1:0.2288 - gpu_mem:7.77G - lr1:0.0022319\u001b[0m"
     ]
    },
    {
     "name": "stdout",
     "output_type": "stream",
     "text": [
      "\u001b[34m\u001b[1m\r",
      "[Training ] 567/1657 [=========>....................] - ETA: 1:20:03  loss:1.3769 - accuracy:0.5938 - f1:0.2061 - gpu_mem:7.77G - lr1:0.0022330\u001b[0m"
     ]
    },
    {
     "name": "stdout",
     "output_type": "stream",
     "text": [
      "\u001b[34m\u001b[1m\r",
      "[Training ] 568/1657 [=========>....................] - ETA: 1:19:59  loss:1.4050 - accuracy:0.6094 - f1:0.2439 - gpu_mem:7.77G - lr1:0.0022340\u001b[0m"
     ]
    },
    {
     "name": "stdout",
     "output_type": "stream",
     "text": [
      "\u001b[34m\u001b[1m\r",
      "[Training ] 569/1657 [=========>....................] - ETA: 1:19:55  loss:1.5563 - accuracy:0.5000 - f1:0.1897 - gpu_mem:7.77G - lr1:0.0022350\u001b[0m"
     ]
    },
    {
     "name": "stdout",
     "output_type": "stream",
     "text": [
      "\u001b[34m\u001b[1m\r",
      "[Training ] 570/1657 [=========>....................] - ETA: 1:19:50  loss:1.2715 - accuracy:0.6406 - f1:0.2064 - gpu_mem:7.77G - lr1:0.0022360\u001b[0m"
     ]
    },
    {
     "name": "stdout",
     "output_type": "stream",
     "text": [
      "\u001b[34m\u001b[1m\r",
      "[Training ] 571/1657 [=========>....................] - ETA: 1:19:46  loss:1.2425 - accuracy:0.6562 - f1:0.2198 - gpu_mem:7.77G - lr1:0.0022370\u001b[0m"
     ]
    },
    {
     "name": "stdout",
     "output_type": "stream",
     "text": [
      "\u001b[34m\u001b[1m\r",
      "[Training ] 572/1657 [=========>....................] - ETA: 1:19:41  loss:1.2397 - accuracy:0.6562 - f1:0.2140 - gpu_mem:7.77G - lr1:0.0022380\u001b[0m"
     ]
    },
    {
     "name": "stdout",
     "output_type": "stream",
     "text": [
      "\u001b[34m\u001b[1m\r",
      "[Training ] 573/1657 [=========>....................] - ETA: 1:19:37  loss:1.3710 - accuracy:0.6094 - f1:0.2248 - gpu_mem:7.77G - lr1:0.0022390\u001b[0m"
     ]
    },
    {
     "name": "stdout",
     "output_type": "stream",
     "text": [
      "\u001b[34m\u001b[1m\r",
      "[Training ] 574/1657 [=========>....................] - ETA: 1:19:33  loss:1.1718 - accuracy:0.7188 - f1:0.2859 - gpu_mem:7.77G - lr1:0.0022400\u001b[0m"
     ]
    },
    {
     "name": "stdout",
     "output_type": "stream",
     "text": [
      "\u001b[34m\u001b[1m\r",
      "[Training ] 575/1657 [=========>....................] - ETA: 1:19:28  loss:1.2855 - accuracy:0.5781 - f1:0.2479 - gpu_mem:7.77G - lr1:0.0022410\u001b[0m"
     ]
    },
    {
     "name": "stdout",
     "output_type": "stream",
     "text": [
      "\u001b[34m\u001b[1m\r",
      "[Training ] 576/1657 [=========>....................] - ETA: 1:19:24  loss:1.4649 - accuracy:0.5938 - f1:0.3209 - gpu_mem:7.77G - lr1:0.0022420\u001b[0m"
     ]
    },
    {
     "name": "stdout",
     "output_type": "stream",
     "text": [
      "\u001b[34m\u001b[1m\r",
      "[Training ] 577/1657 [=========>....................] - ETA: 1:19:19  loss:1.4775 - accuracy:0.5469 - f1:0.1856 - gpu_mem:7.77G - lr1:0.0022430\u001b[0m"
     ]
    },
    {
     "name": "stdout",
     "output_type": "stream",
     "text": [
      "\u001b[34m\u001b[1m\r",
      "[Training ] 578/1657 [=========>....................] - ETA: 1:19:15  loss:1.2809 - accuracy:0.6094 - f1:0.2212 - gpu_mem:7.77G - lr1:0.0022440\u001b[0m"
     ]
    },
    {
     "name": "stdout",
     "output_type": "stream",
     "text": [
      "\u001b[34m\u001b[1m\r",
      "[Training ] 579/1657 [=========>....................] - ETA: 1:19:10  loss:1.2020 - accuracy:0.7031 - f1:0.2381 - gpu_mem:7.77G - lr1:0.0022450\u001b[0m"
     ]
    },
    {
     "name": "stdout",
     "output_type": "stream",
     "text": [
      "\u001b[34m\u001b[1m\r",
      "[Training ] 580/1657 [=========>....................] - ETA: 1:19:06  loss:1.4820 - accuracy:0.5469 - f1:0.1887 - gpu_mem:7.77G - lr1:0.0022460\u001b[0m"
     ]
    },
    {
     "name": "stdout",
     "output_type": "stream",
     "text": [
      "\u001b[34m\u001b[1m\r",
      "[Training ] 581/1657 [=========>....................] - ETA: 1:19:02  loss:1.3847 - accuracy:0.5938 - f1:0.2476 - gpu_mem:7.77G - lr1:0.0022470\u001b[0m"
     ]
    },
    {
     "name": "stdout",
     "output_type": "stream",
     "text": [
      "\u001b[34m\u001b[1m\r",
      "[Training ] 582/1657 [=========>....................] - ETA: 1:18:57  loss:1.3608 - accuracy:0.6094 - f1:0.2185 - gpu_mem:7.77G - lr1:0.0022480\u001b[0m"
     ]
    },
    {
     "name": "stdout",
     "output_type": "stream",
     "text": [
      "\u001b[34m\u001b[1m\r",
      "[Training ] 583/1657 [=========>....................] - ETA: 1:18:53  loss:1.3327 - accuracy:0.6250 - f1:0.2252 - gpu_mem:7.77G - lr1:0.0022490\u001b[0m"
     ]
    },
    {
     "name": "stdout",
     "output_type": "stream",
     "text": [
      "\u001b[34m\u001b[1m\r",
      "[Training ] 584/1657 [=========>....................] - ETA: 1:18:48  loss:1.5313 - accuracy:0.5156 - f1:0.1981 - gpu_mem:7.77G - lr1:0.0022501\u001b[0m"
     ]
    },
    {
     "name": "stdout",
     "output_type": "stream",
     "text": [
      "\u001b[34m\u001b[1m\r",
      "[Training ] 585/1657 [=========>....................] - ETA: 1:18:44  loss:1.4524 - accuracy:0.5625 - f1:0.1982 - gpu_mem:7.77G - lr1:0.0022511\u001b[0m"
     ]
    },
    {
     "name": "stdout",
     "output_type": "stream",
     "text": [
      "\u001b[34m\u001b[1m\r",
      "[Training ] 586/1657 [=========>....................] - ETA: 1:18:39  loss:1.3417 - accuracy:0.6406 - f1:0.2647 - gpu_mem:7.77G - lr1:0.0022521\u001b[0m"
     ]
    },
    {
     "name": "stdout",
     "output_type": "stream",
     "text": [
      "\u001b[34m\u001b[1m\r",
      "[Training ] 587/1657 [=========>....................] - ETA: 1:18:35  loss:1.4081 - accuracy:0.5625 - f1:0.1952 - gpu_mem:7.77G - lr1:0.0022531\u001b[0m"
     ]
    },
    {
     "name": "stdout",
     "output_type": "stream",
     "text": [
      "\u001b[34m\u001b[1m\r",
      "[Training ] 588/1657 [=========>....................] - ETA: 1:18:31  loss:1.4712 - accuracy:0.5781 - f1:0.2440 - gpu_mem:7.77G - lr1:0.0022541\u001b[0m"
     ]
    },
    {
     "name": "stdout",
     "output_type": "stream",
     "text": [
      "\u001b[34m\u001b[1m\r",
      "[Training ] 589/1657 [=========>....................] - ETA: 1:18:26  loss:1.3309 - accuracy:0.6406 - f1:0.2869 - gpu_mem:7.77G - lr1:0.0022551\u001b[0m"
     ]
    },
    {
     "name": "stdout",
     "output_type": "stream",
     "text": [
      "\u001b[34m\u001b[1m\r",
      "[Training ] 590/1657 [=========>....................] - ETA: 1:18:22  loss:1.1973 - accuracy:0.7031 - f1:0.2806 - gpu_mem:7.77G - lr1:0.0022561\u001b[0m"
     ]
    },
    {
     "name": "stdout",
     "output_type": "stream",
     "text": [
      "\u001b[34m\u001b[1m\r",
      "[Training ] 591/1657 [=========>....................] - ETA: 1:18:17  loss:1.4809 - accuracy:0.5469 - f1:0.2649 - gpu_mem:7.77G - lr1:0.0022571\u001b[0m"
     ]
    },
    {
     "name": "stdout",
     "output_type": "stream",
     "text": [
      "\u001b[34m\u001b[1m\r",
      "[Training ] 592/1657 [=========>....................] - ETA: 1:18:13  loss:1.5751 - accuracy:0.4844 - f1:0.1918 - gpu_mem:7.77G - lr1:0.0022581\u001b[0m"
     ]
    },
    {
     "name": "stdout",
     "output_type": "stream",
     "text": [
      "\u001b[34m\u001b[1m\r",
      "[Training ] 593/1657 [=========>....................] - ETA: 1:18:09  loss:1.3584 - accuracy:0.6250 - f1:0.1998 - gpu_mem:7.77G - lr1:0.0022591\u001b[0m"
     ]
    },
    {
     "name": "stdout",
     "output_type": "stream",
     "text": [
      "\u001b[34m\u001b[1m\r",
      "[Training ] 594/1657 [=========>....................] - ETA: 1:18:04  loss:1.2133 - accuracy:0.7188 - f1:0.3113 - gpu_mem:7.77G - lr1:0.0022601\u001b[0m"
     ]
    },
    {
     "name": "stdout",
     "output_type": "stream",
     "text": [
      "\u001b[34m\u001b[1m\r",
      "[Training ] 595/1657 [=========>....................] - ETA: 1:18:00  loss:1.1692 - accuracy:0.7344 - f1:0.3174 - gpu_mem:7.77G - lr1:0.0022611\u001b[0m"
     ]
    },
    {
     "name": "stdout",
     "output_type": "stream",
     "text": [
      "\u001b[34m\u001b[1m\r",
      "[Training ] 596/1657 [=========>....................] - ETA: 1:17:55  loss:1.4864 - accuracy:0.5312 - f1:0.2064 - gpu_mem:7.77G - lr1:0.0022621\u001b[0m"
     ]
    },
    {
     "name": "stdout",
     "output_type": "stream",
     "text": [
      "\u001b[34m\u001b[1m\r",
      "[Training ] 597/1657 [=========>....................] - ETA: 1:17:51  loss:1.2530 - accuracy:0.6875 - f1:0.3018 - gpu_mem:7.77G - lr1:0.0022631\u001b[0m"
     ]
    }
   ],
   "source": [
    "!python ../input/universal-image-embedding-sourcecode/main.py \\\n",
    "--project=\"runs\" \\\n",
    "--data_path=\"../input/130k-images-512x512-universal-image-embeddings/\" \\\n",
    "--half_precision_backend=\"cuda_amp\" \\\n",
    "--train_batch_size=64 \\\n",
    "--validation_batch_size=128 \\\n",
    "--image_size=384 \\\n",
    "--num_epochs=300"
   ]
  },
  {
   "cell_type": "markdown",
   "id": "f8c17947",
   "metadata": {
    "papermill": {
     "duration": null,
     "end_time": null,
     "exception": null,
     "start_time": null,
     "status": "pending"
    },
    "tags": []
   },
   "source": [
    "<a id=\"\"><font color='#425066'><h3>Thanks, Do Upvote!</h3></font></a>\n",
    "\n",
    "Let me know in the comments section for any doubts."
   ]
  }
 ],
 "metadata": {
  "kernelspec": {
   "display_name": "Python 3",
   "language": "python",
   "name": "python3"
  },
  "language_info": {
   "codemirror_mode": {
    "name": "ipython",
    "version": 3
   },
   "file_extension": ".py",
   "mimetype": "text/x-python",
   "name": "python",
   "nbconvert_exporter": "python",
   "pygments_lexer": "ipython3",
   "version": "3.6.4"
  },
  "papermill": {
   "default_parameters": {},
   "duration": null,
   "end_time": null,
   "environment_variables": {},
   "exception": null,
   "input_path": "__notebook__.ipynb",
   "output_path": "__notebook__.ipynb",
   "parameters": {},
   "start_time": "2022-10-01T08:40:04.343631",
   "version": "2.3.4"
  }
 },
 "nbformat": 4,
 "nbformat_minor": 5
}